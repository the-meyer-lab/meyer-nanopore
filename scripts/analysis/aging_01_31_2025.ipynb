{
 "cells": [
  {
   "cell_type": "code",
   "execution_count": 1,
   "id": "4f6f5319e980c673",
   "metadata": {
    "ExecuteTime": {
     "end_time": "2025-02-25T07:26:49.837282Z",
     "start_time": "2025-02-25T07:26:49.834402Z"
    },
    "collapsed": false
   },
   "outputs": [],
   "source": [
    "### Purpose:\n",
    "# Purpose of this code is to generate a plots to visualize the age distribution\n",
    "# of each genotype for sex-determination RNA-seq samples.\n",
    "# Date: 1/31/2025\n",
    "# Requires: statistic files exported from Imaris, with nuclei volume per cell"
   ]
  },
  {
   "cell_type": "code",
   "execution_count": 13,
   "id": "47958d0b2f14c583",
   "metadata": {
    "ExecuteTime": {
     "end_time": "2025-02-25T23:23:35.129973Z",
     "start_time": "2025-02-25T23:23:34.928270Z"
    },
    "collapsed": false
   },
   "outputs": [
    {
     "name": "stdout",
     "output_type": "stream",
     "text": [
      "Found 12 matching files.\n"
     ]
    }
   ],
   "source": [
    "# Import necessary libraries\n",
    "import os\n",
    "from pathlib import Path\n",
    "import pandas as pd\n",
    "\n",
    "base_dir = Path(\"/Data1/git/RNA_seq_sex_determ/aging_data\") # Define the base directory where nuclei count statistics are located\n",
    "pattern = \"*_Nucleus_Volume.*\" # Define regex pattern to match desired csv files\n",
    "output_dir = Path(\"/Data1/git/RNA_seq_sex_determ/output/\") # Define the output directory to save the plots\n",
    "\n",
    "# Recursively find files that match the pattern\n",
    "files = list(base_dir.rglob(pattern)) # List all files matching the pattern\n",
    "print(f\"Found {len(files)} matching files.\")\n",
    "\n",
    "dataframes = [] # Initialize an empty list to store dataframes\n",
    "for file_path in files: # Iterate over the list of files\n",
    "    try:\n",
    "        # Read CSV, skipping the first 3 rows (so the 4th row is treated as header)\n",
    "        df = pd.read_csv(file_path, skiprows=3)\n",
    "        # Add a new column with the full file path as a string\n",
    "        df['source_file'] = str(file_path) # source file has the genotype, so add this to column\n",
    "        dataframes.append(df)\n",
    "    except Exception as e:\n",
    "        print(f\"Error reading file {file_path}: {e}\")\n",
    "\n",
    "# Concatenate all dataframes into one, if any were loaded successfully\n",
    "if dataframes:\n",
    "    combined_df = pd.concat(dataframes, ignore_index=True)\n",
    "else:\n",
    "    combined_df = pd.DataFrame()\n",
    "\n",
    "# Display the first few rows of the combined dataframe\n",
    "combined_df.head()\n",
    "\n",
    "\n",
    "# Define the lookup dictionary\n",
    "lookup = {\n",
    "    \"N2_young\": \"N2_young_2025\",\n",
    "    \"sex1_ceh39_young\": \"sex1ceh39_degron_young_2025\",\n",
    "    \"sex1_fox1_young\": \"sex1fox1_degron_young_2025\",\n",
    "    \"sex1_young\": \"sex1_degron_young_2025\"\n",
    "}\n",
    "\n",
    "# Clean up the source_file column to only have the genotype part\n",
    "combined_df['source_file'] = combined_df['source_file'].str.replace(\"/Data1/git/RNA_seq_sex_determ/aging_data/\", \"\")\n",
    "combined_df['source_file'] = combined_df['source_file'].str.replace(\"/.*\", \"\", regex=True)\n",
    "# replace \"_stats\" with \"\" in source_file\n",
    "combined_df['source_file'] = combined_df['source_file'].str.replace(\"_stats\", \"\", regex=True)\n",
    "\n",
    "# Replace the source_file values using the lookup table, leaving unmatched values unchanged\n",
    "combined_df['source_file'] = combined_df['source_file'].map(lookup).fillna(combined_df['source_file'])\n",
    "\n",
    "# Display the final combined dataframe\n",
    "combined_df.head()\n",
    "\n",
    "# Group by source_file, Original Image Name, and CellID to count the number of nuclei per cell\n",
    "grouped = combined_df.groupby(['source_file', 'Original Image Name', 'CellID']).size().reset_index(name='nuclei_count')\n",
    "\n",
    "\n",
    "\n",
    "# Import additional dataframe\n",
    "additional_df = pd.read_csv(\"/Data1/git/RNA_seq_sex_determ/aging_data/summary_age_bin_ym3_feb2025_update.csv\")\n",
    "\n",
    "# Rename columns to match grouped\n",
    "additional_df = additional_df.rename(columns={\"genotype\": \"source_file\", \"count\": \"nuclei_count\"})\n",
    "\n",
    "# Add missing columns\n",
    "additional_df['CellID'] = 0\n",
    "additional_df['Original Image Name'] = pd.NA\n",
    "\n",
    "# Ensure columns are in the same order as grouped\n",
    "additional_df = additional_df[['source_file', 'Original Image Name', 'CellID', 'nuclei_count']]\n",
    "\n",
    "# Append to grouped\n",
    "grouped = pd.concat([grouped, additional_df], ignore_index=True)\n",
    "\n",
    "# Display the first few rows of the grouped dataframe\n",
    "grouped.head()\n",
    "\n",
    "# drop anyrows containing \"mid\" in source_file and sort by source_file\n",
    "grouped = grouped[~grouped['source_file'].str.contains(\"mid\")]\n",
    "\n",
    "# drop any rows containing 2023\n",
    "grouped = grouped[~grouped['source_file'].str.contains(\"2023\")]\n",
    "\n",
    "grouped = grouped.sort_values(by='source_file')\n",
    "# reset index\n",
    "grouped = grouped.reset_index(drop=True)"
   ]
  },
  {
   "cell_type": "code",
   "execution_count": 14,
   "id": "c06fc86b08fc1b44",
   "metadata": {
    "ExecuteTime": {
     "end_time": "2025-02-25T23:23:36.281663Z",
     "start_time": "2025-02-25T23:23:36.149529Z"
    },
    "collapsed": false
   },
   "outputs": [
    {
     "data": {
      "application/vnd.plotly.v1+json": {
       "config": {
        "plotlyServerURL": "https://plot.ly"
       },
       "data": [
        {
         "mode": "lines+markers",
         "name": "N2_young_2025 (n= 163)",
         "type": "scatter",
         "x": [
          1,
          2,
          3,
          4,
          5,
          6,
          7,
          8,
          9,
          10,
          11,
          12,
          13,
          14,
          15,
          16,
          17,
          18,
          19,
          20,
          21,
          22,
          23,
          24,
          25,
          26,
          27,
          28,
          29,
          30,
          31,
          32,
          33,
          35,
          36,
          37,
          38,
          40,
          41,
          43,
          44,
          47,
          50,
          51,
          55,
          56,
          57,
          59,
          61,
          64,
          65,
          66,
          79,
          96,
          101,
          121,
          133
         ],
         "y": [
          1.8404907975460123,
          4.294478527607362,
          7.361963190184049,
          9.815950920245399,
          13.496932515337424,
          15.337423312883436,
          17.177914110429448,
          19.631901840490798,
          21.472392638036812,
          23.31288343558282,
          25.153374233128833,
          26.380368098159508,
          28.834355828220858,
          29.447852760736197,
          33.12883435582822,
          34.96932515337423,
          38.036809815950924,
          41.104294478527606,
          45.39877300613497,
          47.85276073619632,
          50.920245398773,
          53.37423312883436,
          53.987730061349694,
          57.05521472392638,
          60.122699386503065,
          65.03067484662577,
          67.48466257668711,
          69.93865030674846,
          71.16564417177914,
          73.61963190184049,
          75.4601226993865,
          76.68711656441718,
          77.91411042944786,
          78.52760736196319,
          79.14110429447852,
          79.75460122699386,
          80.98159509202453,
          82.20858895705521,
          84.04907975460122,
          85.88957055214725,
          87.73006134969326,
          88.34355828220859,
          88.95705521472392,
          89.57055214723927,
          90.1840490797546,
          91.41104294478528,
          92.63803680981594,
          93.25153374233128,
          93.86503067484662,
          95.0920245398773,
          95.70552147239265,
          96.93251533742331,
          97.54601226993866,
          98.15950920245399,
          98.77300613496932,
          99.38650306748467,
          100.0
         ]
        },
        {
         "mode": "lines+markers",
         "name": "sex1_degron_young_2025 (n= 161)",
         "type": "scatter",
         "x": [
          1,
          2,
          4,
          5,
          6,
          7,
          8,
          9,
          10,
          11,
          12,
          13,
          14,
          15,
          16,
          17,
          18,
          19,
          21,
          22,
          23,
          24,
          25,
          26,
          27,
          28,
          30,
          32,
          36,
          37,
          38,
          39,
          41,
          42,
          43,
          44,
          45,
          46,
          47,
          48,
          49,
          50,
          51,
          52,
          55,
          63,
          66,
          74,
          79,
          83,
          84,
          87,
          89,
          92,
          93,
          94,
          95,
          99,
          102,
          104,
          118,
          121,
          149,
          166,
          193,
          198,
          199,
          202,
          203,
          246,
          286,
          409,
          495
         ],
         "y": [
          3.1055900621118013,
          6.832298136645963,
          9.937888198757763,
          15.527950310559005,
          18.633540372670808,
          20.496894409937887,
          23.60248447204969,
          25.465838509316768,
          27.32919254658385,
          29.19254658385093,
          30.434782608695656,
          32.298136645962735,
          33.54037267080746,
          35.40372670807454,
          36.64596273291926,
          37.267080745341616,
          37.88819875776397,
          38.50931677018634,
          39.130434782608695,
          41.61490683229814,
          44.099378881987576,
          47.82608695652174,
          55.90062111801242,
          57.14285714285714,
          59.006211180124225,
          60.24844720496895,
          60.86956521739131,
          62.11180124223602,
          62.732919254658384,
          63.35403726708074,
          64.59627329192547,
          65.21739130434783,
          67.70186335403726,
          69.56521739130434,
          70.1863354037267,
          70.80745341614907,
          72.04968944099379,
          72.67080745341616,
          74.53416149068323,
          75.77639751552795,
          76.3975155279503,
          78.26086956521739,
          79.5031055900621,
          80.12422360248446,
          80.74534161490683,
          81.36645962732919,
          81.98757763975155,
          82.6086956521739,
          83.22981366459628,
          84.472049689441,
          85.09316770186336,
          85.71428571428571,
          86.33540372670807,
          86.95652173913044,
          88.19875776397515,
          89.44099378881988,
          90.06211180124224,
          90.6832298136646,
          91.30434782608695,
          91.92546583850931,
          92.54658385093167,
          93.16770186335404,
          93.7888198757764,
          94.40993788819875,
          95.03105590062113,
          95.65217391304348,
          96.27329192546584,
          96.8944099378882,
          97.51552795031056,
          98.13664596273291,
          98.75776397515527,
          99.37888198757764,
          100.0
         ]
        },
        {
         "mode": "lines+markers",
         "name": "sex1ceh39_degron_young_2025 (n= 125)",
         "type": "scatter",
         "x": [
          1,
          2,
          3,
          5,
          6,
          7,
          8,
          9,
          11,
          13,
          14,
          15,
          16,
          17,
          19,
          20,
          21,
          22,
          24,
          25,
          26,
          30,
          31,
          32,
          34,
          37,
          38,
          41,
          42,
          43,
          44,
          45,
          46,
          47,
          48,
          49,
          50,
          53,
          55,
          60,
          61,
          68,
          69,
          75,
          77,
          80,
          83,
          85,
          87,
          88,
          89,
          94,
          95,
          104,
          109,
          133,
          135,
          136,
          139,
          143,
          144,
          177,
          183,
          203,
          204,
          211,
          215,
          226,
          232,
          243,
          263,
          281,
          330,
          345,
          397,
          410
         ],
         "y": [
          0.8,
          1.6,
          3.2,
          4.8,
          5.6000000000000005,
          6.4,
          7.199999999999999,
          8.0,
          8.799999999999999,
          11.200000000000001,
          12.0,
          13.600000000000001,
          15.2,
          16.8,
          17.599999999999998,
          19.2,
          20.0,
          23.200000000000003,
          25.6,
          28.000000000000004,
          32.0,
          33.6,
          35.199999999999996,
          36.8,
          37.6,
          39.2,
          40.0,
          40.8,
          42.4,
          44.0,
          44.800000000000004,
          48.0,
          49.6,
          53.6,
          54.400000000000006,
          56.00000000000001,
          59.199999999999996,
          60.0,
          61.6,
          62.4,
          63.2,
          64.0,
          65.60000000000001,
          66.4,
          68.8,
          69.6,
          70.39999999999999,
          73.6,
          75.2,
          76.0,
          77.60000000000001,
          79.2,
          80.80000000000001,
          81.6,
          82.39999999999999,
          83.2,
          84.0,
          85.6,
          86.4,
          87.2,
          88.0,
          88.8,
          89.60000000000001,
          90.4,
          91.2,
          92.0,
          92.80000000000001,
          93.60000000000001,
          94.39999999999999,
          95.19999999999999,
          96.0,
          96.8,
          97.6,
          98.4,
          99.2,
          100.0
         ]
        },
        {
         "mode": "lines+markers",
         "name": "sex1fox1_degron_young_2025 (n= 190)",
         "type": "scatter",
         "x": [
          1,
          2,
          3,
          4,
          5,
          6,
          7,
          8,
          9,
          10,
          11,
          12,
          13,
          14,
          15,
          16,
          17,
          18,
          19,
          21,
          22,
          23,
          24,
          25,
          26,
          27,
          28,
          29,
          31,
          33,
          37,
          39,
          40,
          43,
          44,
          45,
          46,
          47,
          48,
          50,
          53,
          54,
          56,
          58,
          61,
          62,
          65,
          66,
          67,
          68,
          69,
          81,
          82,
          83,
          85,
          88,
          90,
          96,
          97,
          100,
          101,
          105,
          106,
          117,
          118,
          121,
          125,
          130,
          134,
          136,
          147,
          155,
          161,
          170,
          178,
          179,
          182,
          186,
          187,
          194,
          201,
          202,
          231,
          235,
          244,
          256,
          280,
          283,
          304,
          307,
          314,
          320,
          322,
          323,
          338,
          348,
          354,
          368,
          375,
          381,
          382,
          421
         ],
         "y": [
          4.736842105263158,
          8.947368421052632,
          13.157894736842104,
          15.789473684210526,
          18.947368421052634,
          24.210526315789473,
          25.263157894736842,
          27.368421052631582,
          27.89473684210526,
          31.05263157894737,
          32.10526315789474,
          34.21052631578947,
          36.31578947368421,
          40.0,
          41.05263157894737,
          41.578947368421055,
          42.10526315789473,
          42.63157894736842,
          44.21052631578947,
          44.73684210526316,
          46.31578947368421,
          46.8421052631579,
          47.368421052631575,
          49.473684210526315,
          50.526315789473685,
          52.10526315789473,
          53.1578947368421,
          53.68421052631579,
          54.21052631578947,
          54.736842105263165,
          56.315789473684205,
          56.84210526315789,
          57.89473684210527,
          58.94736842105262,
          59.473684210526315,
          60.0,
          61.05263157894737,
          62.10526315789474,
          62.63157894736842,
          63.68421052631579,
          64.21052631578948,
          65.26315789473685,
          65.78947368421053,
          66.84210526315789,
          67.36842105263158,
          67.89473684210526,
          68.94736842105263,
          69.47368421052632,
          70.0,
          70.52631578947368,
          71.05263157894737,
          71.57894736842105,
          72.10526315789474,
          73.15789473684211,
          73.68421052631578,
          74.73684210526315,
          75.26315789473685,
          75.78947368421053,
          76.84210526315789,
          77.36842105263158,
          77.89473684210526,
          78.42105263157895,
          78.94736842105263,
          79.47368421052632,
          80.0,
          80.52631578947368,
          81.05263157894737,
          81.57894736842105,
          82.10526315789474,
          82.63157894736842,
          83.15789473684211,
          83.6842105263158,
          84.21052631578947,
          84.73684210526315,
          85.26315789473684,
          85.78947368421052,
          86.31578947368422,
          86.8421052631579,
          87.36842105263159,
          87.89473684210526,
          88.42105263157895,
          88.94736842105263,
          89.47368421052632,
          90.0,
          90.52631578947368,
          91.05263157894737,
          91.57894736842105,
          92.10526315789474,
          92.63157894736842,
          93.15789473684211,
          93.6842105263158,
          94.21052631578948,
          95.26315789473684,
          95.78947368421052,
          96.3157894736842,
          96.84210526315789,
          97.36842105263158,
          97.89473684210527,
          98.42105263157895,
          98.94736842105263,
          99.47368421052632,
          100.0
         ]
        }
       ],
       "layout": {
        "legend": {
         "font": {
          "color": "white"
         }
        },
        "paper_bgcolor": "rgba(0,0,0,0)",
        "plot_bgcolor": "rgba(0,0,0,0)",
        "template": {
         "data": {
          "bar": [
           {
            "error_x": {
             "color": "#f2f5fa"
            },
            "error_y": {
             "color": "#f2f5fa"
            },
            "marker": {
             "line": {
              "color": "rgb(17,17,17)",
              "width": 0.5
             },
             "pattern": {
              "fillmode": "overlay",
              "size": 10,
              "solidity": 0.2
             }
            },
            "type": "bar"
           }
          ],
          "barpolar": [
           {
            "marker": {
             "line": {
              "color": "rgb(17,17,17)",
              "width": 0.5
             },
             "pattern": {
              "fillmode": "overlay",
              "size": 10,
              "solidity": 0.2
             }
            },
            "type": "barpolar"
           }
          ],
          "carpet": [
           {
            "aaxis": {
             "endlinecolor": "#A2B1C6",
             "gridcolor": "#506784",
             "linecolor": "#506784",
             "minorgridcolor": "#506784",
             "startlinecolor": "#A2B1C6"
            },
            "baxis": {
             "endlinecolor": "#A2B1C6",
             "gridcolor": "#506784",
             "linecolor": "#506784",
             "minorgridcolor": "#506784",
             "startlinecolor": "#A2B1C6"
            },
            "type": "carpet"
           }
          ],
          "choropleth": [
           {
            "colorbar": {
             "outlinewidth": 0,
             "ticks": ""
            },
            "type": "choropleth"
           }
          ],
          "contour": [
           {
            "colorbar": {
             "outlinewidth": 0,
             "ticks": ""
            },
            "colorscale": [
             [
              0.0,
              "#0d0887"
             ],
             [
              0.1111111111111111,
              "#46039f"
             ],
             [
              0.2222222222222222,
              "#7201a8"
             ],
             [
              0.3333333333333333,
              "#9c179e"
             ],
             [
              0.4444444444444444,
              "#bd3786"
             ],
             [
              0.5555555555555556,
              "#d8576b"
             ],
             [
              0.6666666666666666,
              "#ed7953"
             ],
             [
              0.7777777777777778,
              "#fb9f3a"
             ],
             [
              0.8888888888888888,
              "#fdca26"
             ],
             [
              1.0,
              "#f0f921"
             ]
            ],
            "type": "contour"
           }
          ],
          "contourcarpet": [
           {
            "colorbar": {
             "outlinewidth": 0,
             "ticks": ""
            },
            "type": "contourcarpet"
           }
          ],
          "heatmap": [
           {
            "colorbar": {
             "outlinewidth": 0,
             "ticks": ""
            },
            "colorscale": [
             [
              0.0,
              "#0d0887"
             ],
             [
              0.1111111111111111,
              "#46039f"
             ],
             [
              0.2222222222222222,
              "#7201a8"
             ],
             [
              0.3333333333333333,
              "#9c179e"
             ],
             [
              0.4444444444444444,
              "#bd3786"
             ],
             [
              0.5555555555555556,
              "#d8576b"
             ],
             [
              0.6666666666666666,
              "#ed7953"
             ],
             [
              0.7777777777777778,
              "#fb9f3a"
             ],
             [
              0.8888888888888888,
              "#fdca26"
             ],
             [
              1.0,
              "#f0f921"
             ]
            ],
            "type": "heatmap"
           }
          ],
          "heatmapgl": [
           {
            "colorbar": {
             "outlinewidth": 0,
             "ticks": ""
            },
            "colorscale": [
             [
              0.0,
              "#0d0887"
             ],
             [
              0.1111111111111111,
              "#46039f"
             ],
             [
              0.2222222222222222,
              "#7201a8"
             ],
             [
              0.3333333333333333,
              "#9c179e"
             ],
             [
              0.4444444444444444,
              "#bd3786"
             ],
             [
              0.5555555555555556,
              "#d8576b"
             ],
             [
              0.6666666666666666,
              "#ed7953"
             ],
             [
              0.7777777777777778,
              "#fb9f3a"
             ],
             [
              0.8888888888888888,
              "#fdca26"
             ],
             [
              1.0,
              "#f0f921"
             ]
            ],
            "type": "heatmapgl"
           }
          ],
          "histogram": [
           {
            "marker": {
             "pattern": {
              "fillmode": "overlay",
              "size": 10,
              "solidity": 0.2
             }
            },
            "type": "histogram"
           }
          ],
          "histogram2d": [
           {
            "colorbar": {
             "outlinewidth": 0,
             "ticks": ""
            },
            "colorscale": [
             [
              0.0,
              "#0d0887"
             ],
             [
              0.1111111111111111,
              "#46039f"
             ],
             [
              0.2222222222222222,
              "#7201a8"
             ],
             [
              0.3333333333333333,
              "#9c179e"
             ],
             [
              0.4444444444444444,
              "#bd3786"
             ],
             [
              0.5555555555555556,
              "#d8576b"
             ],
             [
              0.6666666666666666,
              "#ed7953"
             ],
             [
              0.7777777777777778,
              "#fb9f3a"
             ],
             [
              0.8888888888888888,
              "#fdca26"
             ],
             [
              1.0,
              "#f0f921"
             ]
            ],
            "type": "histogram2d"
           }
          ],
          "histogram2dcontour": [
           {
            "colorbar": {
             "outlinewidth": 0,
             "ticks": ""
            },
            "colorscale": [
             [
              0.0,
              "#0d0887"
             ],
             [
              0.1111111111111111,
              "#46039f"
             ],
             [
              0.2222222222222222,
              "#7201a8"
             ],
             [
              0.3333333333333333,
              "#9c179e"
             ],
             [
              0.4444444444444444,
              "#bd3786"
             ],
             [
              0.5555555555555556,
              "#d8576b"
             ],
             [
              0.6666666666666666,
              "#ed7953"
             ],
             [
              0.7777777777777778,
              "#fb9f3a"
             ],
             [
              0.8888888888888888,
              "#fdca26"
             ],
             [
              1.0,
              "#f0f921"
             ]
            ],
            "type": "histogram2dcontour"
           }
          ],
          "mesh3d": [
           {
            "colorbar": {
             "outlinewidth": 0,
             "ticks": ""
            },
            "type": "mesh3d"
           }
          ],
          "parcoords": [
           {
            "line": {
             "colorbar": {
              "outlinewidth": 0,
              "ticks": ""
             }
            },
            "type": "parcoords"
           }
          ],
          "pie": [
           {
            "automargin": true,
            "type": "pie"
           }
          ],
          "scatter": [
           {
            "marker": {
             "line": {
              "color": "#283442"
             }
            },
            "type": "scatter"
           }
          ],
          "scatter3d": [
           {
            "line": {
             "colorbar": {
              "outlinewidth": 0,
              "ticks": ""
             }
            },
            "marker": {
             "colorbar": {
              "outlinewidth": 0,
              "ticks": ""
             }
            },
            "type": "scatter3d"
           }
          ],
          "scattercarpet": [
           {
            "marker": {
             "colorbar": {
              "outlinewidth": 0,
              "ticks": ""
             }
            },
            "type": "scattercarpet"
           }
          ],
          "scattergeo": [
           {
            "marker": {
             "colorbar": {
              "outlinewidth": 0,
              "ticks": ""
             }
            },
            "type": "scattergeo"
           }
          ],
          "scattergl": [
           {
            "marker": {
             "line": {
              "color": "#283442"
             }
            },
            "type": "scattergl"
           }
          ],
          "scattermapbox": [
           {
            "marker": {
             "colorbar": {
              "outlinewidth": 0,
              "ticks": ""
             }
            },
            "type": "scattermapbox"
           }
          ],
          "scatterpolar": [
           {
            "marker": {
             "colorbar": {
              "outlinewidth": 0,
              "ticks": ""
             }
            },
            "type": "scatterpolar"
           }
          ],
          "scatterpolargl": [
           {
            "marker": {
             "colorbar": {
              "outlinewidth": 0,
              "ticks": ""
             }
            },
            "type": "scatterpolargl"
           }
          ],
          "scatterternary": [
           {
            "marker": {
             "colorbar": {
              "outlinewidth": 0,
              "ticks": ""
             }
            },
            "type": "scatterternary"
           }
          ],
          "surface": [
           {
            "colorbar": {
             "outlinewidth": 0,
             "ticks": ""
            },
            "colorscale": [
             [
              0.0,
              "#0d0887"
             ],
             [
              0.1111111111111111,
              "#46039f"
             ],
             [
              0.2222222222222222,
              "#7201a8"
             ],
             [
              0.3333333333333333,
              "#9c179e"
             ],
             [
              0.4444444444444444,
              "#bd3786"
             ],
             [
              0.5555555555555556,
              "#d8576b"
             ],
             [
              0.6666666666666666,
              "#ed7953"
             ],
             [
              0.7777777777777778,
              "#fb9f3a"
             ],
             [
              0.8888888888888888,
              "#fdca26"
             ],
             [
              1.0,
              "#f0f921"
             ]
            ],
            "type": "surface"
           }
          ],
          "table": [
           {
            "cells": {
             "fill": {
              "color": "#506784"
             },
             "line": {
              "color": "rgb(17,17,17)"
             }
            },
            "header": {
             "fill": {
              "color": "#2a3f5f"
             },
             "line": {
              "color": "rgb(17,17,17)"
             }
            },
            "type": "table"
           }
          ]
         },
         "layout": {
          "annotationdefaults": {
           "arrowcolor": "#f2f5fa",
           "arrowhead": 0,
           "arrowwidth": 1
          },
          "autotypenumbers": "strict",
          "coloraxis": {
           "colorbar": {
            "outlinewidth": 0,
            "ticks": ""
           }
          },
          "colorscale": {
           "diverging": [
            [
             0,
             "#8e0152"
            ],
            [
             0.1,
             "#c51b7d"
            ],
            [
             0.2,
             "#de77ae"
            ],
            [
             0.3,
             "#f1b6da"
            ],
            [
             0.4,
             "#fde0ef"
            ],
            [
             0.5,
             "#f7f7f7"
            ],
            [
             0.6,
             "#e6f5d0"
            ],
            [
             0.7,
             "#b8e186"
            ],
            [
             0.8,
             "#7fbc41"
            ],
            [
             0.9,
             "#4d9221"
            ],
            [
             1,
             "#276419"
            ]
           ],
           "sequential": [
            [
             0.0,
             "#0d0887"
            ],
            [
             0.1111111111111111,
             "#46039f"
            ],
            [
             0.2222222222222222,
             "#7201a8"
            ],
            [
             0.3333333333333333,
             "#9c179e"
            ],
            [
             0.4444444444444444,
             "#bd3786"
            ],
            [
             0.5555555555555556,
             "#d8576b"
            ],
            [
             0.6666666666666666,
             "#ed7953"
            ],
            [
             0.7777777777777778,
             "#fb9f3a"
            ],
            [
             0.8888888888888888,
             "#fdca26"
            ],
            [
             1.0,
             "#f0f921"
            ]
           ],
           "sequentialminus": [
            [
             0.0,
             "#0d0887"
            ],
            [
             0.1111111111111111,
             "#46039f"
            ],
            [
             0.2222222222222222,
             "#7201a8"
            ],
            [
             0.3333333333333333,
             "#9c179e"
            ],
            [
             0.4444444444444444,
             "#bd3786"
            ],
            [
             0.5555555555555556,
             "#d8576b"
            ],
            [
             0.6666666666666666,
             "#ed7953"
            ],
            [
             0.7777777777777778,
             "#fb9f3a"
            ],
            [
             0.8888888888888888,
             "#fdca26"
            ],
            [
             1.0,
             "#f0f921"
            ]
           ]
          },
          "colorway": [
           "#636efa",
           "#EF553B",
           "#00cc96",
           "#ab63fa",
           "#FFA15A",
           "#19d3f3",
           "#FF6692",
           "#B6E880",
           "#FF97FF",
           "#FECB52"
          ],
          "font": {
           "color": "#f2f5fa"
          },
          "geo": {
           "bgcolor": "rgb(17,17,17)",
           "lakecolor": "rgb(17,17,17)",
           "landcolor": "rgb(17,17,17)",
           "showlakes": true,
           "showland": true,
           "subunitcolor": "#506784"
          },
          "hoverlabel": {
           "align": "left"
          },
          "hovermode": "closest",
          "mapbox": {
           "style": "dark"
          },
          "paper_bgcolor": "rgb(17,17,17)",
          "plot_bgcolor": "rgb(17,17,17)",
          "polar": {
           "angularaxis": {
            "gridcolor": "#506784",
            "linecolor": "#506784",
            "ticks": ""
           },
           "bgcolor": "rgb(17,17,17)",
           "radialaxis": {
            "gridcolor": "#506784",
            "linecolor": "#506784",
            "ticks": ""
           }
          },
          "scene": {
           "xaxis": {
            "backgroundcolor": "rgb(17,17,17)",
            "gridcolor": "#506784",
            "gridwidth": 2,
            "linecolor": "#506784",
            "showbackground": true,
            "ticks": "",
            "zerolinecolor": "#C8D4E3"
           },
           "yaxis": {
            "backgroundcolor": "rgb(17,17,17)",
            "gridcolor": "#506784",
            "gridwidth": 2,
            "linecolor": "#506784",
            "showbackground": true,
            "ticks": "",
            "zerolinecolor": "#C8D4E3"
           },
           "zaxis": {
            "backgroundcolor": "rgb(17,17,17)",
            "gridcolor": "#506784",
            "gridwidth": 2,
            "linecolor": "#506784",
            "showbackground": true,
            "ticks": "",
            "zerolinecolor": "#C8D4E3"
           }
          },
          "shapedefaults": {
           "line": {
            "color": "#f2f5fa"
           }
          },
          "sliderdefaults": {
           "bgcolor": "#C8D4E3",
           "bordercolor": "rgb(17,17,17)",
           "borderwidth": 1,
           "tickwidth": 0
          },
          "ternary": {
           "aaxis": {
            "gridcolor": "#506784",
            "linecolor": "#506784",
            "ticks": ""
           },
           "baxis": {
            "gridcolor": "#506784",
            "linecolor": "#506784",
            "ticks": ""
           },
           "bgcolor": "rgb(17,17,17)",
           "caxis": {
            "gridcolor": "#506784",
            "linecolor": "#506784",
            "ticks": ""
           }
          },
          "title": {
           "x": 0.05
          },
          "updatemenudefaults": {
           "bgcolor": "#506784",
           "borderwidth": 0
          },
          "xaxis": {
           "automargin": true,
           "gridcolor": "#283442",
           "linecolor": "#506784",
           "ticks": "",
           "title": {
            "standoff": 15
           },
           "zerolinecolor": "#283442",
           "zerolinewidth": 2
          },
          "yaxis": {
           "automargin": true,
           "gridcolor": "#283442",
           "linecolor": "#506784",
           "ticks": "",
           "title": {
            "standoff": 15
           },
           "zerolinecolor": "#283442",
           "zerolinewidth": 2
          }
         }
        },
        "width": 800,
        "xaxis": {
         "gridcolor": "rgba(255,255,255,0.2)",
         "tickfont": {
          "color": "white"
         },
         "title": {
          "font": {
           "color": "white"
          },
          "text": "Number of Nuclei"
         }
        },
        "yaxis": {
         "gridcolor": "rgba(255,255,255,0.2)",
         "tickfont": {
          "color": "white"
         },
         "title": {
          "font": {
           "color": "white"
          },
          "text": "Cumulative % of Cells"
         }
        }
       }
      },
      "text/html": [
       "<div>                            <div id=\"4ffece2c-72ba-4b0c-955b-70f0a7b66eda\" class=\"plotly-graph-div\" style=\"height:525px; width:800px;\"></div>            <script type=\"text/javascript\">                require([\"plotly\"], function(Plotly) {                    window.PLOTLYENV=window.PLOTLYENV || {};                                    if (document.getElementById(\"4ffece2c-72ba-4b0c-955b-70f0a7b66eda\")) {                    Plotly.newPlot(                        \"4ffece2c-72ba-4b0c-955b-70f0a7b66eda\",                        [{\"mode\":\"lines+markers\",\"name\":\"N2_young_2025 (n= 163)\",\"x\":[1,2,3,4,5,6,7,8,9,10,11,12,13,14,15,16,17,18,19,20,21,22,23,24,25,26,27,28,29,30,31,32,33,35,36,37,38,40,41,43,44,47,50,51,55,56,57,59,61,64,65,66,79,96,101,121,133],\"y\":[1.8404907975460123,4.294478527607362,7.361963190184049,9.815950920245399,13.496932515337424,15.337423312883436,17.177914110429448,19.631901840490798,21.472392638036812,23.31288343558282,25.153374233128833,26.380368098159508,28.834355828220858,29.447852760736197,33.12883435582822,34.96932515337423,38.036809815950924,41.104294478527606,45.39877300613497,47.85276073619632,50.920245398773,53.37423312883436,53.987730061349694,57.05521472392638,60.122699386503065,65.03067484662577,67.48466257668711,69.93865030674846,71.16564417177914,73.61963190184049,75.4601226993865,76.68711656441718,77.91411042944786,78.52760736196319,79.14110429447852,79.75460122699386,80.98159509202453,82.20858895705521,84.04907975460122,85.88957055214725,87.73006134969326,88.34355828220859,88.95705521472392,89.57055214723927,90.1840490797546,91.41104294478528,92.63803680981594,93.25153374233128,93.86503067484662,95.0920245398773,95.70552147239265,96.93251533742331,97.54601226993866,98.15950920245399,98.77300613496932,99.38650306748467,100.0],\"type\":\"scatter\"},{\"mode\":\"lines+markers\",\"name\":\"sex1_degron_young_2025 (n= 161)\",\"x\":[1,2,4,5,6,7,8,9,10,11,12,13,14,15,16,17,18,19,21,22,23,24,25,26,27,28,30,32,36,37,38,39,41,42,43,44,45,46,47,48,49,50,51,52,55,63,66,74,79,83,84,87,89,92,93,94,95,99,102,104,118,121,149,166,193,198,199,202,203,246,286,409,495],\"y\":[3.1055900621118013,6.832298136645963,9.937888198757763,15.527950310559005,18.633540372670808,20.496894409937887,23.60248447204969,25.465838509316768,27.32919254658385,29.19254658385093,30.434782608695656,32.298136645962735,33.54037267080746,35.40372670807454,36.64596273291926,37.267080745341616,37.88819875776397,38.50931677018634,39.130434782608695,41.61490683229814,44.099378881987576,47.82608695652174,55.90062111801242,57.14285714285714,59.006211180124225,60.24844720496895,60.86956521739131,62.11180124223602,62.732919254658384,63.35403726708074,64.59627329192547,65.21739130434783,67.70186335403726,69.56521739130434,70.1863354037267,70.80745341614907,72.04968944099379,72.67080745341616,74.53416149068323,75.77639751552795,76.3975155279503,78.26086956521739,79.5031055900621,80.12422360248446,80.74534161490683,81.36645962732919,81.98757763975155,82.6086956521739,83.22981366459628,84.472049689441,85.09316770186336,85.71428571428571,86.33540372670807,86.95652173913044,88.19875776397515,89.44099378881988,90.06211180124224,90.6832298136646,91.30434782608695,91.92546583850931,92.54658385093167,93.16770186335404,93.7888198757764,94.40993788819875,95.03105590062113,95.65217391304348,96.27329192546584,96.8944099378882,97.51552795031056,98.13664596273291,98.75776397515527,99.37888198757764,100.0],\"type\":\"scatter\"},{\"mode\":\"lines+markers\",\"name\":\"sex1ceh39_degron_young_2025 (n= 125)\",\"x\":[1,2,3,5,6,7,8,9,11,13,14,15,16,17,19,20,21,22,24,25,26,30,31,32,34,37,38,41,42,43,44,45,46,47,48,49,50,53,55,60,61,68,69,75,77,80,83,85,87,88,89,94,95,104,109,133,135,136,139,143,144,177,183,203,204,211,215,226,232,243,263,281,330,345,397,410],\"y\":[0.8,1.6,3.2,4.8,5.6000000000000005,6.4,7.199999999999999,8.0,8.799999999999999,11.200000000000001,12.0,13.600000000000001,15.2,16.8,17.599999999999998,19.2,20.0,23.200000000000003,25.6,28.000000000000004,32.0,33.6,35.199999999999996,36.8,37.6,39.2,40.0,40.8,42.4,44.0,44.800000000000004,48.0,49.6,53.6,54.400000000000006,56.00000000000001,59.199999999999996,60.0,61.6,62.4,63.2,64.0,65.60000000000001,66.4,68.8,69.6,70.39999999999999,73.6,75.2,76.0,77.60000000000001,79.2,80.80000000000001,81.6,82.39999999999999,83.2,84.0,85.6,86.4,87.2,88.0,88.8,89.60000000000001,90.4,91.2,92.0,92.80000000000001,93.60000000000001,94.39999999999999,95.19999999999999,96.0,96.8,97.6,98.4,99.2,100.0],\"type\":\"scatter\"},{\"mode\":\"lines+markers\",\"name\":\"sex1fox1_degron_young_2025 (n= 190)\",\"x\":[1,2,3,4,5,6,7,8,9,10,11,12,13,14,15,16,17,18,19,21,22,23,24,25,26,27,28,29,31,33,37,39,40,43,44,45,46,47,48,50,53,54,56,58,61,62,65,66,67,68,69,81,82,83,85,88,90,96,97,100,101,105,106,117,118,121,125,130,134,136,147,155,161,170,178,179,182,186,187,194,201,202,231,235,244,256,280,283,304,307,314,320,322,323,338,348,354,368,375,381,382,421],\"y\":[4.736842105263158,8.947368421052632,13.157894736842104,15.789473684210526,18.947368421052634,24.210526315789473,25.263157894736842,27.368421052631582,27.89473684210526,31.05263157894737,32.10526315789474,34.21052631578947,36.31578947368421,40.0,41.05263157894737,41.578947368421055,42.10526315789473,42.63157894736842,44.21052631578947,44.73684210526316,46.31578947368421,46.8421052631579,47.368421052631575,49.473684210526315,50.526315789473685,52.10526315789473,53.1578947368421,53.68421052631579,54.21052631578947,54.736842105263165,56.315789473684205,56.84210526315789,57.89473684210527,58.94736842105262,59.473684210526315,60.0,61.05263157894737,62.10526315789474,62.63157894736842,63.68421052631579,64.21052631578948,65.26315789473685,65.78947368421053,66.84210526315789,67.36842105263158,67.89473684210526,68.94736842105263,69.47368421052632,70.0,70.52631578947368,71.05263157894737,71.57894736842105,72.10526315789474,73.15789473684211,73.68421052631578,74.73684210526315,75.26315789473685,75.78947368421053,76.84210526315789,77.36842105263158,77.89473684210526,78.42105263157895,78.94736842105263,79.47368421052632,80.0,80.52631578947368,81.05263157894737,81.57894736842105,82.10526315789474,82.63157894736842,83.15789473684211,83.6842105263158,84.21052631578947,84.73684210526315,85.26315789473684,85.78947368421052,86.31578947368422,86.8421052631579,87.36842105263159,87.89473684210526,88.42105263157895,88.94736842105263,89.47368421052632,90.0,90.52631578947368,91.05263157894737,91.57894736842105,92.10526315789474,92.63157894736842,93.15789473684211,93.6842105263158,94.21052631578948,95.26315789473684,95.78947368421052,96.3157894736842,96.84210526315789,97.36842105263158,97.89473684210527,98.42105263157895,98.94736842105263,99.47368421052632,100.0],\"type\":\"scatter\"}],                        {\"template\":{\"data\":{\"histogram2dcontour\":[{\"type\":\"histogram2dcontour\",\"colorbar\":{\"outlinewidth\":0,\"ticks\":\"\"},\"colorscale\":[[0.0,\"#0d0887\"],[0.1111111111111111,\"#46039f\"],[0.2222222222222222,\"#7201a8\"],[0.3333333333333333,\"#9c179e\"],[0.4444444444444444,\"#bd3786\"],[0.5555555555555556,\"#d8576b\"],[0.6666666666666666,\"#ed7953\"],[0.7777777777777778,\"#fb9f3a\"],[0.8888888888888888,\"#fdca26\"],[1.0,\"#f0f921\"]]}],\"choropleth\":[{\"type\":\"choropleth\",\"colorbar\":{\"outlinewidth\":0,\"ticks\":\"\"}}],\"histogram2d\":[{\"type\":\"histogram2d\",\"colorbar\":{\"outlinewidth\":0,\"ticks\":\"\"},\"colorscale\":[[0.0,\"#0d0887\"],[0.1111111111111111,\"#46039f\"],[0.2222222222222222,\"#7201a8\"],[0.3333333333333333,\"#9c179e\"],[0.4444444444444444,\"#bd3786\"],[0.5555555555555556,\"#d8576b\"],[0.6666666666666666,\"#ed7953\"],[0.7777777777777778,\"#fb9f3a\"],[0.8888888888888888,\"#fdca26\"],[1.0,\"#f0f921\"]]}],\"heatmap\":[{\"type\":\"heatmap\",\"colorbar\":{\"outlinewidth\":0,\"ticks\":\"\"},\"colorscale\":[[0.0,\"#0d0887\"],[0.1111111111111111,\"#46039f\"],[0.2222222222222222,\"#7201a8\"],[0.3333333333333333,\"#9c179e\"],[0.4444444444444444,\"#bd3786\"],[0.5555555555555556,\"#d8576b\"],[0.6666666666666666,\"#ed7953\"],[0.7777777777777778,\"#fb9f3a\"],[0.8888888888888888,\"#fdca26\"],[1.0,\"#f0f921\"]]}],\"heatmapgl\":[{\"type\":\"heatmapgl\",\"colorbar\":{\"outlinewidth\":0,\"ticks\":\"\"},\"colorscale\":[[0.0,\"#0d0887\"],[0.1111111111111111,\"#46039f\"],[0.2222222222222222,\"#7201a8\"],[0.3333333333333333,\"#9c179e\"],[0.4444444444444444,\"#bd3786\"],[0.5555555555555556,\"#d8576b\"],[0.6666666666666666,\"#ed7953\"],[0.7777777777777778,\"#fb9f3a\"],[0.8888888888888888,\"#fdca26\"],[1.0,\"#f0f921\"]]}],\"contourcarpet\":[{\"type\":\"contourcarpet\",\"colorbar\":{\"outlinewidth\":0,\"ticks\":\"\"}}],\"contour\":[{\"type\":\"contour\",\"colorbar\":{\"outlinewidth\":0,\"ticks\":\"\"},\"colorscale\":[[0.0,\"#0d0887\"],[0.1111111111111111,\"#46039f\"],[0.2222222222222222,\"#7201a8\"],[0.3333333333333333,\"#9c179e\"],[0.4444444444444444,\"#bd3786\"],[0.5555555555555556,\"#d8576b\"],[0.6666666666666666,\"#ed7953\"],[0.7777777777777778,\"#fb9f3a\"],[0.8888888888888888,\"#fdca26\"],[1.0,\"#f0f921\"]]}],\"surface\":[{\"type\":\"surface\",\"colorbar\":{\"outlinewidth\":0,\"ticks\":\"\"},\"colorscale\":[[0.0,\"#0d0887\"],[0.1111111111111111,\"#46039f\"],[0.2222222222222222,\"#7201a8\"],[0.3333333333333333,\"#9c179e\"],[0.4444444444444444,\"#bd3786\"],[0.5555555555555556,\"#d8576b\"],[0.6666666666666666,\"#ed7953\"],[0.7777777777777778,\"#fb9f3a\"],[0.8888888888888888,\"#fdca26\"],[1.0,\"#f0f921\"]]}],\"mesh3d\":[{\"type\":\"mesh3d\",\"colorbar\":{\"outlinewidth\":0,\"ticks\":\"\"}}],\"scatter\":[{\"marker\":{\"line\":{\"color\":\"#283442\"}},\"type\":\"scatter\"}],\"parcoords\":[{\"type\":\"parcoords\",\"line\":{\"colorbar\":{\"outlinewidth\":0,\"ticks\":\"\"}}}],\"scatterpolargl\":[{\"type\":\"scatterpolargl\",\"marker\":{\"colorbar\":{\"outlinewidth\":0,\"ticks\":\"\"}}}],\"bar\":[{\"error_x\":{\"color\":\"#f2f5fa\"},\"error_y\":{\"color\":\"#f2f5fa\"},\"marker\":{\"line\":{\"color\":\"rgb(17,17,17)\",\"width\":0.5},\"pattern\":{\"fillmode\":\"overlay\",\"size\":10,\"solidity\":0.2}},\"type\":\"bar\"}],\"scattergeo\":[{\"type\":\"scattergeo\",\"marker\":{\"colorbar\":{\"outlinewidth\":0,\"ticks\":\"\"}}}],\"scatterpolar\":[{\"type\":\"scatterpolar\",\"marker\":{\"colorbar\":{\"outlinewidth\":0,\"ticks\":\"\"}}}],\"histogram\":[{\"marker\":{\"pattern\":{\"fillmode\":\"overlay\",\"size\":10,\"solidity\":0.2}},\"type\":\"histogram\"}],\"scattergl\":[{\"marker\":{\"line\":{\"color\":\"#283442\"}},\"type\":\"scattergl\"}],\"scatter3d\":[{\"type\":\"scatter3d\",\"line\":{\"colorbar\":{\"outlinewidth\":0,\"ticks\":\"\"}},\"marker\":{\"colorbar\":{\"outlinewidth\":0,\"ticks\":\"\"}}}],\"scattermapbox\":[{\"type\":\"scattermapbox\",\"marker\":{\"colorbar\":{\"outlinewidth\":0,\"ticks\":\"\"}}}],\"scatterternary\":[{\"type\":\"scatterternary\",\"marker\":{\"colorbar\":{\"outlinewidth\":0,\"ticks\":\"\"}}}],\"scattercarpet\":[{\"type\":\"scattercarpet\",\"marker\":{\"colorbar\":{\"outlinewidth\":0,\"ticks\":\"\"}}}],\"carpet\":[{\"aaxis\":{\"endlinecolor\":\"#A2B1C6\",\"gridcolor\":\"#506784\",\"linecolor\":\"#506784\",\"minorgridcolor\":\"#506784\",\"startlinecolor\":\"#A2B1C6\"},\"baxis\":{\"endlinecolor\":\"#A2B1C6\",\"gridcolor\":\"#506784\",\"linecolor\":\"#506784\",\"minorgridcolor\":\"#506784\",\"startlinecolor\":\"#A2B1C6\"},\"type\":\"carpet\"}],\"table\":[{\"cells\":{\"fill\":{\"color\":\"#506784\"},\"line\":{\"color\":\"rgb(17,17,17)\"}},\"header\":{\"fill\":{\"color\":\"#2a3f5f\"},\"line\":{\"color\":\"rgb(17,17,17)\"}},\"type\":\"table\"}],\"barpolar\":[{\"marker\":{\"line\":{\"color\":\"rgb(17,17,17)\",\"width\":0.5},\"pattern\":{\"fillmode\":\"overlay\",\"size\":10,\"solidity\":0.2}},\"type\":\"barpolar\"}],\"pie\":[{\"automargin\":true,\"type\":\"pie\"}]},\"layout\":{\"autotypenumbers\":\"strict\",\"colorway\":[\"#636efa\",\"#EF553B\",\"#00cc96\",\"#ab63fa\",\"#FFA15A\",\"#19d3f3\",\"#FF6692\",\"#B6E880\",\"#FF97FF\",\"#FECB52\"],\"font\":{\"color\":\"#f2f5fa\"},\"hovermode\":\"closest\",\"hoverlabel\":{\"align\":\"left\"},\"paper_bgcolor\":\"rgb(17,17,17)\",\"plot_bgcolor\":\"rgb(17,17,17)\",\"polar\":{\"bgcolor\":\"rgb(17,17,17)\",\"angularaxis\":{\"gridcolor\":\"#506784\",\"linecolor\":\"#506784\",\"ticks\":\"\"},\"radialaxis\":{\"gridcolor\":\"#506784\",\"linecolor\":\"#506784\",\"ticks\":\"\"}},\"ternary\":{\"bgcolor\":\"rgb(17,17,17)\",\"aaxis\":{\"gridcolor\":\"#506784\",\"linecolor\":\"#506784\",\"ticks\":\"\"},\"baxis\":{\"gridcolor\":\"#506784\",\"linecolor\":\"#506784\",\"ticks\":\"\"},\"caxis\":{\"gridcolor\":\"#506784\",\"linecolor\":\"#506784\",\"ticks\":\"\"}},\"coloraxis\":{\"colorbar\":{\"outlinewidth\":0,\"ticks\":\"\"}},\"colorscale\":{\"sequential\":[[0.0,\"#0d0887\"],[0.1111111111111111,\"#46039f\"],[0.2222222222222222,\"#7201a8\"],[0.3333333333333333,\"#9c179e\"],[0.4444444444444444,\"#bd3786\"],[0.5555555555555556,\"#d8576b\"],[0.6666666666666666,\"#ed7953\"],[0.7777777777777778,\"#fb9f3a\"],[0.8888888888888888,\"#fdca26\"],[1.0,\"#f0f921\"]],\"sequentialminus\":[[0.0,\"#0d0887\"],[0.1111111111111111,\"#46039f\"],[0.2222222222222222,\"#7201a8\"],[0.3333333333333333,\"#9c179e\"],[0.4444444444444444,\"#bd3786\"],[0.5555555555555556,\"#d8576b\"],[0.6666666666666666,\"#ed7953\"],[0.7777777777777778,\"#fb9f3a\"],[0.8888888888888888,\"#fdca26\"],[1.0,\"#f0f921\"]],\"diverging\":[[0,\"#8e0152\"],[0.1,\"#c51b7d\"],[0.2,\"#de77ae\"],[0.3,\"#f1b6da\"],[0.4,\"#fde0ef\"],[0.5,\"#f7f7f7\"],[0.6,\"#e6f5d0\"],[0.7,\"#b8e186\"],[0.8,\"#7fbc41\"],[0.9,\"#4d9221\"],[1,\"#276419\"]]},\"xaxis\":{\"gridcolor\":\"#283442\",\"linecolor\":\"#506784\",\"ticks\":\"\",\"title\":{\"standoff\":15},\"zerolinecolor\":\"#283442\",\"automargin\":true,\"zerolinewidth\":2},\"yaxis\":{\"gridcolor\":\"#283442\",\"linecolor\":\"#506784\",\"ticks\":\"\",\"title\":{\"standoff\":15},\"zerolinecolor\":\"#283442\",\"automargin\":true,\"zerolinewidth\":2},\"scene\":{\"xaxis\":{\"backgroundcolor\":\"rgb(17,17,17)\",\"gridcolor\":\"#506784\",\"linecolor\":\"#506784\",\"showbackground\":true,\"ticks\":\"\",\"zerolinecolor\":\"#C8D4E3\",\"gridwidth\":2},\"yaxis\":{\"backgroundcolor\":\"rgb(17,17,17)\",\"gridcolor\":\"#506784\",\"linecolor\":\"#506784\",\"showbackground\":true,\"ticks\":\"\",\"zerolinecolor\":\"#C8D4E3\",\"gridwidth\":2},\"zaxis\":{\"backgroundcolor\":\"rgb(17,17,17)\",\"gridcolor\":\"#506784\",\"linecolor\":\"#506784\",\"showbackground\":true,\"ticks\":\"\",\"zerolinecolor\":\"#C8D4E3\",\"gridwidth\":2}},\"shapedefaults\":{\"line\":{\"color\":\"#f2f5fa\"}},\"annotationdefaults\":{\"arrowcolor\":\"#f2f5fa\",\"arrowhead\":0,\"arrowwidth\":1},\"geo\":{\"bgcolor\":\"rgb(17,17,17)\",\"landcolor\":\"rgb(17,17,17)\",\"subunitcolor\":\"#506784\",\"showland\":true,\"showlakes\":true,\"lakecolor\":\"rgb(17,17,17)\"},\"title\":{\"x\":0.05},\"updatemenudefaults\":{\"bgcolor\":\"#506784\",\"borderwidth\":0},\"sliderdefaults\":{\"bgcolor\":\"#C8D4E3\",\"borderwidth\":1,\"bordercolor\":\"rgb(17,17,17)\",\"tickwidth\":0},\"mapbox\":{\"style\":\"dark\"}}},\"xaxis\":{\"title\":{\"text\":\"Number of Nuclei\",\"font\":{\"color\":\"white\"}},\"tickfont\":{\"color\":\"white\"},\"gridcolor\":\"rgba(255,255,255,0.2)\"},\"yaxis\":{\"title\":{\"text\":\"Cumulative % of Cells\",\"font\":{\"color\":\"white\"}},\"tickfont\":{\"color\":\"white\"},\"gridcolor\":\"rgba(255,255,255,0.2)\"},\"legend\":{\"font\":{\"color\":\"white\"}},\"paper_bgcolor\":\"rgba(0,0,0,0)\",\"plot_bgcolor\":\"rgba(0,0,0,0)\",\"width\":800},                        {\"responsive\": true}                    ).then(function(){\n",
       "                            \n",
       "var gd = document.getElementById('4ffece2c-72ba-4b0c-955b-70f0a7b66eda');\n",
       "var x = new MutationObserver(function (mutations, observer) {{\n",
       "        var display = window.getComputedStyle(gd).display;\n",
       "        if (!display || display === 'none') {{\n",
       "            console.log([gd, 'removed!']);\n",
       "            Plotly.purge(gd);\n",
       "            observer.disconnect();\n",
       "        }}\n",
       "}});\n",
       "\n",
       "// Listen for the removal of the full notebook cells\n",
       "var notebookContainer = gd.closest('#notebook-container');\n",
       "if (notebookContainer) {{\n",
       "    x.observe(notebookContainer, {childList: true});\n",
       "}}\n",
       "\n",
       "// Listen for the clearing of the current output cell\n",
       "var outputEl = gd.closest('.output');\n",
       "if (outputEl) {{\n",
       "    x.observe(outputEl, {childList: true});\n",
       "}}\n",
       "\n",
       "                        })                };                });            </script>        </div>"
      ]
     },
     "metadata": {},
     "output_type": "display_data"
    }
   ],
   "source": [
    "import plotly.graph_objects as go\n",
    "\n",
    "fig = go.Figure()\n",
    "\n",
    "# For each source_file, compute the cumulative distribution of nuclei counts\n",
    "for src, df_src in grouped.groupby('source_file'):\n",
    "    cell_count = len(df_src)\n",
    "    # Replace \"_stats\" with \" (n= X)\" if found; otherwise, append the cell count.\n",
    "    if \"_stats\" in src:\n",
    "        label = src.replace(\"_stats\", f\" (n= {cell_count})\")\n",
    "    else:\n",
    "        label = f\"{src} (n= {cell_count})\"\n",
    "        \n",
    "    # Count the frequency of each nuclei_count value and sort by nuclei_count\n",
    "    count_freq = df_src['nuclei_count'].value_counts().sort_index()\n",
    "    \n",
    "    # Compute the cumulative percentage of cells having <= X nuclei\n",
    "    cumulative_percentage = count_freq.cumsum() / count_freq.sum() * 100\n",
    "\n",
    "    # Add a trace for the current source_file with the updated label\n",
    "    fig.add_trace(go.Scatter(\n",
    "        x=cumulative_percentage.index,\n",
    "        y=cumulative_percentage.values,\n",
    "        mode='lines+markers',\n",
    "        name=label\n",
    "    ))\n",
    "\n",
    "# Update layout: transparent background, white axes/ticks and grid lines.\n",
    "fig.update_layout(\n",
    "    paper_bgcolor='rgba(0,0,0,0)',\n",
    "    plot_bgcolor='rgba(0,0,0,0)',\n",
    "    xaxis=dict(\n",
    "        title=\"Number of Nuclei\",\n",
    "        titlefont=dict(color='white'),\n",
    "        tickfont=dict(color='white'),\n",
    "        gridcolor='rgba(255,255,255,0.2)'\n",
    "    ),\n",
    "    yaxis=dict(\n",
    "        title=\"Cumulative % of Cells\",\n",
    "        titlefont=dict(color='white'),\n",
    "        tickfont=dict(color='white'),\n",
    "        gridcolor='rgba(255,255,255,0.2)'\n",
    "    ),\n",
    "    legend=dict(font=dict(color='white'))\n",
    ")\n",
    "\n",
    "#set width to 800\n",
    "fig.update_layout(width=800)\n",
    "\n",
    "fig.show()\n",
    "\n",
    "# save the figure to png and svg (output_dir,\"/aging_01_31_2025_CDF_plot.png\")\n",
    "fig.write_image(output_dir / \"aging_01_31_2025_CDF_plot.png\")\n",
    "fig.write_image(output_dir / \"aging_01_31_2025_CDF_plot.svg\")\n"
   ]
  },
  {
   "cell_type": "code",
   "execution_count": 15,
   "id": "a0123d5a60de151c",
   "metadata": {
    "ExecuteTime": {
     "end_time": "2025-02-25T23:23:41.981710Z",
     "start_time": "2025-02-25T23:23:41.827321Z"
    },
    "collapsed": false
   },
   "outputs": [
    {
     "data": {
      "application/vnd.plotly.v1+json": {
       "config": {
        "plotlyServerURL": "https://plot.ly"
       },
       "data": [
        {
         "box": {
          "visible": true
         },
         "meanline": {
          "visible": true
         },
         "name": "N2_young_2025 (n= 163)",
         "type": "violin",
         "x": [
          "N2_young_2025 (n= 163)",
          "N2_young_2025 (n= 163)",
          "N2_young_2025 (n= 163)",
          "N2_young_2025 (n= 163)",
          "N2_young_2025 (n= 163)",
          "N2_young_2025 (n= 163)",
          "N2_young_2025 (n= 163)",
          "N2_young_2025 (n= 163)",
          "N2_young_2025 (n= 163)",
          "N2_young_2025 (n= 163)",
          "N2_young_2025 (n= 163)",
          "N2_young_2025 (n= 163)",
          "N2_young_2025 (n= 163)",
          "N2_young_2025 (n= 163)",
          "N2_young_2025 (n= 163)",
          "N2_young_2025 (n= 163)",
          "N2_young_2025 (n= 163)",
          "N2_young_2025 (n= 163)",
          "N2_young_2025 (n= 163)",
          "N2_young_2025 (n= 163)",
          "N2_young_2025 (n= 163)",
          "N2_young_2025 (n= 163)",
          "N2_young_2025 (n= 163)",
          "N2_young_2025 (n= 163)",
          "N2_young_2025 (n= 163)",
          "N2_young_2025 (n= 163)",
          "N2_young_2025 (n= 163)",
          "N2_young_2025 (n= 163)",
          "N2_young_2025 (n= 163)",
          "N2_young_2025 (n= 163)",
          "N2_young_2025 (n= 163)",
          "N2_young_2025 (n= 163)",
          "N2_young_2025 (n= 163)",
          "N2_young_2025 (n= 163)",
          "N2_young_2025 (n= 163)",
          "N2_young_2025 (n= 163)",
          "N2_young_2025 (n= 163)",
          "N2_young_2025 (n= 163)",
          "N2_young_2025 (n= 163)",
          "N2_young_2025 (n= 163)",
          "N2_young_2025 (n= 163)",
          "N2_young_2025 (n= 163)",
          "N2_young_2025 (n= 163)",
          "N2_young_2025 (n= 163)",
          "N2_young_2025 (n= 163)",
          "N2_young_2025 (n= 163)",
          "N2_young_2025 (n= 163)",
          "N2_young_2025 (n= 163)",
          "N2_young_2025 (n= 163)",
          "N2_young_2025 (n= 163)",
          "N2_young_2025 (n= 163)",
          "N2_young_2025 (n= 163)",
          "N2_young_2025 (n= 163)",
          "N2_young_2025 (n= 163)",
          "N2_young_2025 (n= 163)",
          "N2_young_2025 (n= 163)",
          "N2_young_2025 (n= 163)",
          "N2_young_2025 (n= 163)",
          "N2_young_2025 (n= 163)",
          "N2_young_2025 (n= 163)",
          "N2_young_2025 (n= 163)",
          "N2_young_2025 (n= 163)",
          "N2_young_2025 (n= 163)",
          "N2_young_2025 (n= 163)",
          "N2_young_2025 (n= 163)",
          "N2_young_2025 (n= 163)",
          "N2_young_2025 (n= 163)",
          "N2_young_2025 (n= 163)",
          "N2_young_2025 (n= 163)",
          "N2_young_2025 (n= 163)",
          "N2_young_2025 (n= 163)",
          "N2_young_2025 (n= 163)",
          "N2_young_2025 (n= 163)",
          "N2_young_2025 (n= 163)",
          "N2_young_2025 (n= 163)",
          "N2_young_2025 (n= 163)",
          "N2_young_2025 (n= 163)",
          "N2_young_2025 (n= 163)",
          "N2_young_2025 (n= 163)",
          "N2_young_2025 (n= 163)",
          "N2_young_2025 (n= 163)",
          "N2_young_2025 (n= 163)",
          "N2_young_2025 (n= 163)",
          "N2_young_2025 (n= 163)",
          "N2_young_2025 (n= 163)",
          "N2_young_2025 (n= 163)",
          "N2_young_2025 (n= 163)",
          "N2_young_2025 (n= 163)",
          "N2_young_2025 (n= 163)",
          "N2_young_2025 (n= 163)",
          "N2_young_2025 (n= 163)",
          "N2_young_2025 (n= 163)",
          "N2_young_2025 (n= 163)",
          "N2_young_2025 (n= 163)",
          "N2_young_2025 (n= 163)",
          "N2_young_2025 (n= 163)",
          "N2_young_2025 (n= 163)",
          "N2_young_2025 (n= 163)",
          "N2_young_2025 (n= 163)",
          "N2_young_2025 (n= 163)",
          "N2_young_2025 (n= 163)",
          "N2_young_2025 (n= 163)",
          "N2_young_2025 (n= 163)",
          "N2_young_2025 (n= 163)",
          "N2_young_2025 (n= 163)",
          "N2_young_2025 (n= 163)",
          "N2_young_2025 (n= 163)",
          "N2_young_2025 (n= 163)",
          "N2_young_2025 (n= 163)",
          "N2_young_2025 (n= 163)",
          "N2_young_2025 (n= 163)",
          "N2_young_2025 (n= 163)",
          "N2_young_2025 (n= 163)",
          "N2_young_2025 (n= 163)",
          "N2_young_2025 (n= 163)",
          "N2_young_2025 (n= 163)",
          "N2_young_2025 (n= 163)",
          "N2_young_2025 (n= 163)",
          "N2_young_2025 (n= 163)",
          "N2_young_2025 (n= 163)",
          "N2_young_2025 (n= 163)",
          "N2_young_2025 (n= 163)",
          "N2_young_2025 (n= 163)",
          "N2_young_2025 (n= 163)",
          "N2_young_2025 (n= 163)",
          "N2_young_2025 (n= 163)",
          "N2_young_2025 (n= 163)",
          "N2_young_2025 (n= 163)",
          "N2_young_2025 (n= 163)",
          "N2_young_2025 (n= 163)",
          "N2_young_2025 (n= 163)",
          "N2_young_2025 (n= 163)",
          "N2_young_2025 (n= 163)",
          "N2_young_2025 (n= 163)",
          "N2_young_2025 (n= 163)",
          "N2_young_2025 (n= 163)",
          "N2_young_2025 (n= 163)",
          "N2_young_2025 (n= 163)",
          "N2_young_2025 (n= 163)",
          "N2_young_2025 (n= 163)",
          "N2_young_2025 (n= 163)",
          "N2_young_2025 (n= 163)",
          "N2_young_2025 (n= 163)",
          "N2_young_2025 (n= 163)",
          "N2_young_2025 (n= 163)",
          "N2_young_2025 (n= 163)",
          "N2_young_2025 (n= 163)",
          "N2_young_2025 (n= 163)",
          "N2_young_2025 (n= 163)",
          "N2_young_2025 (n= 163)",
          "N2_young_2025 (n= 163)",
          "N2_young_2025 (n= 163)",
          "N2_young_2025 (n= 163)",
          "N2_young_2025 (n= 163)",
          "N2_young_2025 (n= 163)",
          "N2_young_2025 (n= 163)",
          "N2_young_2025 (n= 163)",
          "N2_young_2025 (n= 163)",
          "N2_young_2025 (n= 163)",
          "N2_young_2025 (n= 163)",
          "N2_young_2025 (n= 163)",
          "N2_young_2025 (n= 163)",
          "N2_young_2025 (n= 163)"
         ],
         "y": [
          31,
          21,
          44,
          17,
          2,
          37,
          51,
          33,
          30,
          41,
          8,
          26,
          44,
          13,
          64,
          24,
          3,
          12,
          64,
          21,
          2,
          36,
          10,
          8,
          3,
          5,
          1,
          25,
          56,
          20,
          20,
          20,
          19,
          31,
          57,
          5,
          22,
          7,
          38,
          16,
          3,
          4,
          40,
          11,
          22,
          9,
          26,
          29,
          57,
          79,
          43,
          28,
          13,
          28,
          47,
          28,
          6,
          30,
          10,
          27,
          133,
          43,
          40,
          6,
          11,
          26,
          30,
          41,
          31,
          65,
          3,
          121,
          33,
          32,
          101,
          5,
          22,
          25,
          23,
          16,
          27,
          25,
          18,
          27,
          56,
          28,
          16,
          26,
          14,
          50,
          1,
          19,
          41,
          44,
          26,
          18,
          18,
          22,
          66,
          38,
          13,
          66,
          21,
          29,
          21,
          26,
          19,
          59,
          17,
          8,
          61,
          18,
          24,
          4,
          15,
          17,
          17,
          15,
          15,
          7,
          21,
          5,
          18,
          9,
          3,
          9,
          32,
          19,
          30,
          6,
          26,
          15,
          19,
          12,
          19,
          7,
          55,
          17,
          8,
          5,
          5,
          4,
          96,
          11,
          4,
          1,
          15,
          25,
          10,
          20,
          43,
          24,
          35,
          2,
          2,
          25,
          24,
          19,
          26,
          24,
          15,
          13,
          27
         ]
        },
        {
         "box": {
          "visible": true
         },
         "meanline": {
          "visible": true
         },
         "name": "sex1_degron_young_2025 (n= 161)",
         "type": "violin",
         "x": [
          "sex1_degron_young_2025 (n= 161)",
          "sex1_degron_young_2025 (n= 161)",
          "sex1_degron_young_2025 (n= 161)",
          "sex1_degron_young_2025 (n= 161)",
          "sex1_degron_young_2025 (n= 161)",
          "sex1_degron_young_2025 (n= 161)",
          "sex1_degron_young_2025 (n= 161)",
          "sex1_degron_young_2025 (n= 161)",
          "sex1_degron_young_2025 (n= 161)",
          "sex1_degron_young_2025 (n= 161)",
          "sex1_degron_young_2025 (n= 161)",
          "sex1_degron_young_2025 (n= 161)",
          "sex1_degron_young_2025 (n= 161)",
          "sex1_degron_young_2025 (n= 161)",
          "sex1_degron_young_2025 (n= 161)",
          "sex1_degron_young_2025 (n= 161)",
          "sex1_degron_young_2025 (n= 161)",
          "sex1_degron_young_2025 (n= 161)",
          "sex1_degron_young_2025 (n= 161)",
          "sex1_degron_young_2025 (n= 161)",
          "sex1_degron_young_2025 (n= 161)",
          "sex1_degron_young_2025 (n= 161)",
          "sex1_degron_young_2025 (n= 161)",
          "sex1_degron_young_2025 (n= 161)",
          "sex1_degron_young_2025 (n= 161)",
          "sex1_degron_young_2025 (n= 161)",
          "sex1_degron_young_2025 (n= 161)",
          "sex1_degron_young_2025 (n= 161)",
          "sex1_degron_young_2025 (n= 161)",
          "sex1_degron_young_2025 (n= 161)",
          "sex1_degron_young_2025 (n= 161)",
          "sex1_degron_young_2025 (n= 161)",
          "sex1_degron_young_2025 (n= 161)",
          "sex1_degron_young_2025 (n= 161)",
          "sex1_degron_young_2025 (n= 161)",
          "sex1_degron_young_2025 (n= 161)",
          "sex1_degron_young_2025 (n= 161)",
          "sex1_degron_young_2025 (n= 161)",
          "sex1_degron_young_2025 (n= 161)",
          "sex1_degron_young_2025 (n= 161)",
          "sex1_degron_young_2025 (n= 161)",
          "sex1_degron_young_2025 (n= 161)",
          "sex1_degron_young_2025 (n= 161)",
          "sex1_degron_young_2025 (n= 161)",
          "sex1_degron_young_2025 (n= 161)",
          "sex1_degron_young_2025 (n= 161)",
          "sex1_degron_young_2025 (n= 161)",
          "sex1_degron_young_2025 (n= 161)",
          "sex1_degron_young_2025 (n= 161)",
          "sex1_degron_young_2025 (n= 161)",
          "sex1_degron_young_2025 (n= 161)",
          "sex1_degron_young_2025 (n= 161)",
          "sex1_degron_young_2025 (n= 161)",
          "sex1_degron_young_2025 (n= 161)",
          "sex1_degron_young_2025 (n= 161)",
          "sex1_degron_young_2025 (n= 161)",
          "sex1_degron_young_2025 (n= 161)",
          "sex1_degron_young_2025 (n= 161)",
          "sex1_degron_young_2025 (n= 161)",
          "sex1_degron_young_2025 (n= 161)",
          "sex1_degron_young_2025 (n= 161)",
          "sex1_degron_young_2025 (n= 161)",
          "sex1_degron_young_2025 (n= 161)",
          "sex1_degron_young_2025 (n= 161)",
          "sex1_degron_young_2025 (n= 161)",
          "sex1_degron_young_2025 (n= 161)",
          "sex1_degron_young_2025 (n= 161)",
          "sex1_degron_young_2025 (n= 161)",
          "sex1_degron_young_2025 (n= 161)",
          "sex1_degron_young_2025 (n= 161)",
          "sex1_degron_young_2025 (n= 161)",
          "sex1_degron_young_2025 (n= 161)",
          "sex1_degron_young_2025 (n= 161)",
          "sex1_degron_young_2025 (n= 161)",
          "sex1_degron_young_2025 (n= 161)",
          "sex1_degron_young_2025 (n= 161)",
          "sex1_degron_young_2025 (n= 161)",
          "sex1_degron_young_2025 (n= 161)",
          "sex1_degron_young_2025 (n= 161)",
          "sex1_degron_young_2025 (n= 161)",
          "sex1_degron_young_2025 (n= 161)",
          "sex1_degron_young_2025 (n= 161)",
          "sex1_degron_young_2025 (n= 161)",
          "sex1_degron_young_2025 (n= 161)",
          "sex1_degron_young_2025 (n= 161)",
          "sex1_degron_young_2025 (n= 161)",
          "sex1_degron_young_2025 (n= 161)",
          "sex1_degron_young_2025 (n= 161)",
          "sex1_degron_young_2025 (n= 161)",
          "sex1_degron_young_2025 (n= 161)",
          "sex1_degron_young_2025 (n= 161)",
          "sex1_degron_young_2025 (n= 161)",
          "sex1_degron_young_2025 (n= 161)",
          "sex1_degron_young_2025 (n= 161)",
          "sex1_degron_young_2025 (n= 161)",
          "sex1_degron_young_2025 (n= 161)",
          "sex1_degron_young_2025 (n= 161)",
          "sex1_degron_young_2025 (n= 161)",
          "sex1_degron_young_2025 (n= 161)",
          "sex1_degron_young_2025 (n= 161)",
          "sex1_degron_young_2025 (n= 161)",
          "sex1_degron_young_2025 (n= 161)",
          "sex1_degron_young_2025 (n= 161)",
          "sex1_degron_young_2025 (n= 161)",
          "sex1_degron_young_2025 (n= 161)",
          "sex1_degron_young_2025 (n= 161)",
          "sex1_degron_young_2025 (n= 161)",
          "sex1_degron_young_2025 (n= 161)",
          "sex1_degron_young_2025 (n= 161)",
          "sex1_degron_young_2025 (n= 161)",
          "sex1_degron_young_2025 (n= 161)",
          "sex1_degron_young_2025 (n= 161)",
          "sex1_degron_young_2025 (n= 161)",
          "sex1_degron_young_2025 (n= 161)",
          "sex1_degron_young_2025 (n= 161)",
          "sex1_degron_young_2025 (n= 161)",
          "sex1_degron_young_2025 (n= 161)",
          "sex1_degron_young_2025 (n= 161)",
          "sex1_degron_young_2025 (n= 161)",
          "sex1_degron_young_2025 (n= 161)",
          "sex1_degron_young_2025 (n= 161)",
          "sex1_degron_young_2025 (n= 161)",
          "sex1_degron_young_2025 (n= 161)",
          "sex1_degron_young_2025 (n= 161)",
          "sex1_degron_young_2025 (n= 161)",
          "sex1_degron_young_2025 (n= 161)",
          "sex1_degron_young_2025 (n= 161)",
          "sex1_degron_young_2025 (n= 161)",
          "sex1_degron_young_2025 (n= 161)",
          "sex1_degron_young_2025 (n= 161)",
          "sex1_degron_young_2025 (n= 161)",
          "sex1_degron_young_2025 (n= 161)",
          "sex1_degron_young_2025 (n= 161)",
          "sex1_degron_young_2025 (n= 161)",
          "sex1_degron_young_2025 (n= 161)",
          "sex1_degron_young_2025 (n= 161)",
          "sex1_degron_young_2025 (n= 161)",
          "sex1_degron_young_2025 (n= 161)",
          "sex1_degron_young_2025 (n= 161)",
          "sex1_degron_young_2025 (n= 161)",
          "sex1_degron_young_2025 (n= 161)",
          "sex1_degron_young_2025 (n= 161)",
          "sex1_degron_young_2025 (n= 161)",
          "sex1_degron_young_2025 (n= 161)",
          "sex1_degron_young_2025 (n= 161)",
          "sex1_degron_young_2025 (n= 161)",
          "sex1_degron_young_2025 (n= 161)",
          "sex1_degron_young_2025 (n= 161)",
          "sex1_degron_young_2025 (n= 161)",
          "sex1_degron_young_2025 (n= 161)",
          "sex1_degron_young_2025 (n= 161)",
          "sex1_degron_young_2025 (n= 161)",
          "sex1_degron_young_2025 (n= 161)",
          "sex1_degron_young_2025 (n= 161)",
          "sex1_degron_young_2025 (n= 161)",
          "sex1_degron_young_2025 (n= 161)",
          "sex1_degron_young_2025 (n= 161)",
          "sex1_degron_young_2025 (n= 161)",
          "sex1_degron_young_2025 (n= 161)",
          "sex1_degron_young_2025 (n= 161)",
          "sex1_degron_young_2025 (n= 161)"
         ],
         "y": [
          51,
          27,
          5,
          48,
          4,
          13,
          495,
          6,
          1,
          17,
          26,
          25,
          4,
          8,
          37,
          11,
          7,
          45,
          25,
          32,
          41,
          6,
          15,
          25,
          48,
          47,
          22,
          41,
          24,
          30,
          4,
          21,
          87,
          8,
          5,
          6,
          2,
          25,
          10,
          5,
          51,
          8,
          24,
          50,
          25,
          11,
          5,
          93,
          89,
          5,
          92,
          47,
          50,
          409,
          149,
          25,
          24,
          16,
          7,
          10,
          8,
          1,
          99,
          22,
          27,
          286,
          14,
          5,
          11,
          9,
          12,
          6,
          7,
          5,
          95,
          19,
          47,
          32,
          5,
          10,
          28,
          93,
          193,
          38,
          202,
          94,
          18,
          23,
          23,
          41,
          13,
          45,
          36,
          42,
          15,
          42,
          5,
          4,
          16,
          14,
          24,
          25,
          23,
          13,
          2,
          2,
          24,
          26,
          25,
          28,
          43,
          49,
          1,
          23,
          25,
          15,
          6,
          2,
          246,
          44,
          121,
          2,
          9,
          50,
          8,
          25,
          22,
          46,
          55,
          25,
          166,
          1,
          83,
          74,
          104,
          63,
          83,
          42,
          199,
          1,
          84,
          4,
          41,
          38,
          9,
          118,
          203,
          79,
          25,
          25,
          12,
          24,
          39,
          22,
          94,
          52,
          102,
          2,
          198,
          27,
          66
         ]
        },
        {
         "box": {
          "visible": true
         },
         "meanline": {
          "visible": true
         },
         "name": "sex1ceh39_degron_young_2025 (n= 125)",
         "type": "violin",
         "x": [
          "sex1ceh39_degron_young_2025 (n= 125)",
          "sex1ceh39_degron_young_2025 (n= 125)",
          "sex1ceh39_degron_young_2025 (n= 125)",
          "sex1ceh39_degron_young_2025 (n= 125)",
          "sex1ceh39_degron_young_2025 (n= 125)",
          "sex1ceh39_degron_young_2025 (n= 125)",
          "sex1ceh39_degron_young_2025 (n= 125)",
          "sex1ceh39_degron_young_2025 (n= 125)",
          "sex1ceh39_degron_young_2025 (n= 125)",
          "sex1ceh39_degron_young_2025 (n= 125)",
          "sex1ceh39_degron_young_2025 (n= 125)",
          "sex1ceh39_degron_young_2025 (n= 125)",
          "sex1ceh39_degron_young_2025 (n= 125)",
          "sex1ceh39_degron_young_2025 (n= 125)",
          "sex1ceh39_degron_young_2025 (n= 125)",
          "sex1ceh39_degron_young_2025 (n= 125)",
          "sex1ceh39_degron_young_2025 (n= 125)",
          "sex1ceh39_degron_young_2025 (n= 125)",
          "sex1ceh39_degron_young_2025 (n= 125)",
          "sex1ceh39_degron_young_2025 (n= 125)",
          "sex1ceh39_degron_young_2025 (n= 125)",
          "sex1ceh39_degron_young_2025 (n= 125)",
          "sex1ceh39_degron_young_2025 (n= 125)",
          "sex1ceh39_degron_young_2025 (n= 125)",
          "sex1ceh39_degron_young_2025 (n= 125)",
          "sex1ceh39_degron_young_2025 (n= 125)",
          "sex1ceh39_degron_young_2025 (n= 125)",
          "sex1ceh39_degron_young_2025 (n= 125)",
          "sex1ceh39_degron_young_2025 (n= 125)",
          "sex1ceh39_degron_young_2025 (n= 125)",
          "sex1ceh39_degron_young_2025 (n= 125)",
          "sex1ceh39_degron_young_2025 (n= 125)",
          "sex1ceh39_degron_young_2025 (n= 125)",
          "sex1ceh39_degron_young_2025 (n= 125)",
          "sex1ceh39_degron_young_2025 (n= 125)",
          "sex1ceh39_degron_young_2025 (n= 125)",
          "sex1ceh39_degron_young_2025 (n= 125)",
          "sex1ceh39_degron_young_2025 (n= 125)",
          "sex1ceh39_degron_young_2025 (n= 125)",
          "sex1ceh39_degron_young_2025 (n= 125)",
          "sex1ceh39_degron_young_2025 (n= 125)",
          "sex1ceh39_degron_young_2025 (n= 125)",
          "sex1ceh39_degron_young_2025 (n= 125)",
          "sex1ceh39_degron_young_2025 (n= 125)",
          "sex1ceh39_degron_young_2025 (n= 125)",
          "sex1ceh39_degron_young_2025 (n= 125)",
          "sex1ceh39_degron_young_2025 (n= 125)",
          "sex1ceh39_degron_young_2025 (n= 125)",
          "sex1ceh39_degron_young_2025 (n= 125)",
          "sex1ceh39_degron_young_2025 (n= 125)",
          "sex1ceh39_degron_young_2025 (n= 125)",
          "sex1ceh39_degron_young_2025 (n= 125)",
          "sex1ceh39_degron_young_2025 (n= 125)",
          "sex1ceh39_degron_young_2025 (n= 125)",
          "sex1ceh39_degron_young_2025 (n= 125)",
          "sex1ceh39_degron_young_2025 (n= 125)",
          "sex1ceh39_degron_young_2025 (n= 125)",
          "sex1ceh39_degron_young_2025 (n= 125)",
          "sex1ceh39_degron_young_2025 (n= 125)",
          "sex1ceh39_degron_young_2025 (n= 125)",
          "sex1ceh39_degron_young_2025 (n= 125)",
          "sex1ceh39_degron_young_2025 (n= 125)",
          "sex1ceh39_degron_young_2025 (n= 125)",
          "sex1ceh39_degron_young_2025 (n= 125)",
          "sex1ceh39_degron_young_2025 (n= 125)",
          "sex1ceh39_degron_young_2025 (n= 125)",
          "sex1ceh39_degron_young_2025 (n= 125)",
          "sex1ceh39_degron_young_2025 (n= 125)",
          "sex1ceh39_degron_young_2025 (n= 125)",
          "sex1ceh39_degron_young_2025 (n= 125)",
          "sex1ceh39_degron_young_2025 (n= 125)",
          "sex1ceh39_degron_young_2025 (n= 125)",
          "sex1ceh39_degron_young_2025 (n= 125)",
          "sex1ceh39_degron_young_2025 (n= 125)",
          "sex1ceh39_degron_young_2025 (n= 125)",
          "sex1ceh39_degron_young_2025 (n= 125)",
          "sex1ceh39_degron_young_2025 (n= 125)",
          "sex1ceh39_degron_young_2025 (n= 125)",
          "sex1ceh39_degron_young_2025 (n= 125)",
          "sex1ceh39_degron_young_2025 (n= 125)",
          "sex1ceh39_degron_young_2025 (n= 125)",
          "sex1ceh39_degron_young_2025 (n= 125)",
          "sex1ceh39_degron_young_2025 (n= 125)",
          "sex1ceh39_degron_young_2025 (n= 125)",
          "sex1ceh39_degron_young_2025 (n= 125)",
          "sex1ceh39_degron_young_2025 (n= 125)",
          "sex1ceh39_degron_young_2025 (n= 125)",
          "sex1ceh39_degron_young_2025 (n= 125)",
          "sex1ceh39_degron_young_2025 (n= 125)",
          "sex1ceh39_degron_young_2025 (n= 125)",
          "sex1ceh39_degron_young_2025 (n= 125)",
          "sex1ceh39_degron_young_2025 (n= 125)",
          "sex1ceh39_degron_young_2025 (n= 125)",
          "sex1ceh39_degron_young_2025 (n= 125)",
          "sex1ceh39_degron_young_2025 (n= 125)",
          "sex1ceh39_degron_young_2025 (n= 125)",
          "sex1ceh39_degron_young_2025 (n= 125)",
          "sex1ceh39_degron_young_2025 (n= 125)",
          "sex1ceh39_degron_young_2025 (n= 125)",
          "sex1ceh39_degron_young_2025 (n= 125)",
          "sex1ceh39_degron_young_2025 (n= 125)",
          "sex1ceh39_degron_young_2025 (n= 125)",
          "sex1ceh39_degron_young_2025 (n= 125)",
          "sex1ceh39_degron_young_2025 (n= 125)",
          "sex1ceh39_degron_young_2025 (n= 125)",
          "sex1ceh39_degron_young_2025 (n= 125)",
          "sex1ceh39_degron_young_2025 (n= 125)",
          "sex1ceh39_degron_young_2025 (n= 125)",
          "sex1ceh39_degron_young_2025 (n= 125)",
          "sex1ceh39_degron_young_2025 (n= 125)",
          "sex1ceh39_degron_young_2025 (n= 125)",
          "sex1ceh39_degron_young_2025 (n= 125)",
          "sex1ceh39_degron_young_2025 (n= 125)",
          "sex1ceh39_degron_young_2025 (n= 125)",
          "sex1ceh39_degron_young_2025 (n= 125)",
          "sex1ceh39_degron_young_2025 (n= 125)",
          "sex1ceh39_degron_young_2025 (n= 125)",
          "sex1ceh39_degron_young_2025 (n= 125)",
          "sex1ceh39_degron_young_2025 (n= 125)",
          "sex1ceh39_degron_young_2025 (n= 125)",
          "sex1ceh39_degron_young_2025 (n= 125)",
          "sex1ceh39_degron_young_2025 (n= 125)",
          "sex1ceh39_degron_young_2025 (n= 125)",
          "sex1ceh39_degron_young_2025 (n= 125)",
          "sex1ceh39_degron_young_2025 (n= 125)"
         ],
         "y": [
          104,
          32,
          8,
          24,
          410,
          136,
          25,
          48,
          43,
          69,
          42,
          45,
          46,
          50,
          26,
          226,
          77,
          94,
          89,
          69,
          47,
          85,
          47,
          26,
          5,
          5,
          281,
          26,
          13,
          85,
          87,
          136,
          15,
          26,
          211,
          55,
          87,
          30,
          34,
          243,
          15,
          26,
          6,
          397,
          14,
          50,
          203,
          47,
          45,
          89,
          37,
          13,
          144,
          55,
          75,
          85,
          17,
          43,
          20,
          38,
          95,
          3,
          2,
          3,
          47,
          68,
          85,
          45,
          46,
          49,
          83,
          263,
          16,
          21,
          13,
          16,
          177,
          183,
          77,
          53,
          7,
          133,
          19,
          25,
          109,
          139,
          30,
          31,
          32,
          11,
          47,
          25,
          9,
          88,
          31,
          22,
          95,
          20,
          77,
          37,
          17,
          24,
          345,
          45,
          143,
          50,
          49,
          330,
          22,
          61,
          22,
          215,
          44,
          94,
          42,
          1,
          41,
          232,
          22,
          24,
          80,
          50,
          60,
          135,
          204
         ]
        },
        {
         "box": {
          "visible": true
         },
         "meanline": {
          "visible": true
         },
         "name": "sex1fox1_degron_young_2025 (n= 190)",
         "type": "violin",
         "x": [
          "sex1fox1_degron_young_2025 (n= 190)",
          "sex1fox1_degron_young_2025 (n= 190)",
          "sex1fox1_degron_young_2025 (n= 190)",
          "sex1fox1_degron_young_2025 (n= 190)",
          "sex1fox1_degron_young_2025 (n= 190)",
          "sex1fox1_degron_young_2025 (n= 190)",
          "sex1fox1_degron_young_2025 (n= 190)",
          "sex1fox1_degron_young_2025 (n= 190)",
          "sex1fox1_degron_young_2025 (n= 190)",
          "sex1fox1_degron_young_2025 (n= 190)",
          "sex1fox1_degron_young_2025 (n= 190)",
          "sex1fox1_degron_young_2025 (n= 190)",
          "sex1fox1_degron_young_2025 (n= 190)",
          "sex1fox1_degron_young_2025 (n= 190)",
          "sex1fox1_degron_young_2025 (n= 190)",
          "sex1fox1_degron_young_2025 (n= 190)",
          "sex1fox1_degron_young_2025 (n= 190)",
          "sex1fox1_degron_young_2025 (n= 190)",
          "sex1fox1_degron_young_2025 (n= 190)",
          "sex1fox1_degron_young_2025 (n= 190)",
          "sex1fox1_degron_young_2025 (n= 190)",
          "sex1fox1_degron_young_2025 (n= 190)",
          "sex1fox1_degron_young_2025 (n= 190)",
          "sex1fox1_degron_young_2025 (n= 190)",
          "sex1fox1_degron_young_2025 (n= 190)",
          "sex1fox1_degron_young_2025 (n= 190)",
          "sex1fox1_degron_young_2025 (n= 190)",
          "sex1fox1_degron_young_2025 (n= 190)",
          "sex1fox1_degron_young_2025 (n= 190)",
          "sex1fox1_degron_young_2025 (n= 190)",
          "sex1fox1_degron_young_2025 (n= 190)",
          "sex1fox1_degron_young_2025 (n= 190)",
          "sex1fox1_degron_young_2025 (n= 190)",
          "sex1fox1_degron_young_2025 (n= 190)",
          "sex1fox1_degron_young_2025 (n= 190)",
          "sex1fox1_degron_young_2025 (n= 190)",
          "sex1fox1_degron_young_2025 (n= 190)",
          "sex1fox1_degron_young_2025 (n= 190)",
          "sex1fox1_degron_young_2025 (n= 190)",
          "sex1fox1_degron_young_2025 (n= 190)",
          "sex1fox1_degron_young_2025 (n= 190)",
          "sex1fox1_degron_young_2025 (n= 190)",
          "sex1fox1_degron_young_2025 (n= 190)",
          "sex1fox1_degron_young_2025 (n= 190)",
          "sex1fox1_degron_young_2025 (n= 190)",
          "sex1fox1_degron_young_2025 (n= 190)",
          "sex1fox1_degron_young_2025 (n= 190)",
          "sex1fox1_degron_young_2025 (n= 190)",
          "sex1fox1_degron_young_2025 (n= 190)",
          "sex1fox1_degron_young_2025 (n= 190)",
          "sex1fox1_degron_young_2025 (n= 190)",
          "sex1fox1_degron_young_2025 (n= 190)",
          "sex1fox1_degron_young_2025 (n= 190)",
          "sex1fox1_degron_young_2025 (n= 190)",
          "sex1fox1_degron_young_2025 (n= 190)",
          "sex1fox1_degron_young_2025 (n= 190)",
          "sex1fox1_degron_young_2025 (n= 190)",
          "sex1fox1_degron_young_2025 (n= 190)",
          "sex1fox1_degron_young_2025 (n= 190)",
          "sex1fox1_degron_young_2025 (n= 190)",
          "sex1fox1_degron_young_2025 (n= 190)",
          "sex1fox1_degron_young_2025 (n= 190)",
          "sex1fox1_degron_young_2025 (n= 190)",
          "sex1fox1_degron_young_2025 (n= 190)",
          "sex1fox1_degron_young_2025 (n= 190)",
          "sex1fox1_degron_young_2025 (n= 190)",
          "sex1fox1_degron_young_2025 (n= 190)",
          "sex1fox1_degron_young_2025 (n= 190)",
          "sex1fox1_degron_young_2025 (n= 190)",
          "sex1fox1_degron_young_2025 (n= 190)",
          "sex1fox1_degron_young_2025 (n= 190)",
          "sex1fox1_degron_young_2025 (n= 190)",
          "sex1fox1_degron_young_2025 (n= 190)",
          "sex1fox1_degron_young_2025 (n= 190)",
          "sex1fox1_degron_young_2025 (n= 190)",
          "sex1fox1_degron_young_2025 (n= 190)",
          "sex1fox1_degron_young_2025 (n= 190)",
          "sex1fox1_degron_young_2025 (n= 190)",
          "sex1fox1_degron_young_2025 (n= 190)",
          "sex1fox1_degron_young_2025 (n= 190)",
          "sex1fox1_degron_young_2025 (n= 190)",
          "sex1fox1_degron_young_2025 (n= 190)",
          "sex1fox1_degron_young_2025 (n= 190)",
          "sex1fox1_degron_young_2025 (n= 190)",
          "sex1fox1_degron_young_2025 (n= 190)",
          "sex1fox1_degron_young_2025 (n= 190)",
          "sex1fox1_degron_young_2025 (n= 190)",
          "sex1fox1_degron_young_2025 (n= 190)",
          "sex1fox1_degron_young_2025 (n= 190)",
          "sex1fox1_degron_young_2025 (n= 190)",
          "sex1fox1_degron_young_2025 (n= 190)",
          "sex1fox1_degron_young_2025 (n= 190)",
          "sex1fox1_degron_young_2025 (n= 190)",
          "sex1fox1_degron_young_2025 (n= 190)",
          "sex1fox1_degron_young_2025 (n= 190)",
          "sex1fox1_degron_young_2025 (n= 190)",
          "sex1fox1_degron_young_2025 (n= 190)",
          "sex1fox1_degron_young_2025 (n= 190)",
          "sex1fox1_degron_young_2025 (n= 190)",
          "sex1fox1_degron_young_2025 (n= 190)",
          "sex1fox1_degron_young_2025 (n= 190)",
          "sex1fox1_degron_young_2025 (n= 190)",
          "sex1fox1_degron_young_2025 (n= 190)",
          "sex1fox1_degron_young_2025 (n= 190)",
          "sex1fox1_degron_young_2025 (n= 190)",
          "sex1fox1_degron_young_2025 (n= 190)",
          "sex1fox1_degron_young_2025 (n= 190)",
          "sex1fox1_degron_young_2025 (n= 190)",
          "sex1fox1_degron_young_2025 (n= 190)",
          "sex1fox1_degron_young_2025 (n= 190)",
          "sex1fox1_degron_young_2025 (n= 190)",
          "sex1fox1_degron_young_2025 (n= 190)",
          "sex1fox1_degron_young_2025 (n= 190)",
          "sex1fox1_degron_young_2025 (n= 190)",
          "sex1fox1_degron_young_2025 (n= 190)",
          "sex1fox1_degron_young_2025 (n= 190)",
          "sex1fox1_degron_young_2025 (n= 190)",
          "sex1fox1_degron_young_2025 (n= 190)",
          "sex1fox1_degron_young_2025 (n= 190)",
          "sex1fox1_degron_young_2025 (n= 190)",
          "sex1fox1_degron_young_2025 (n= 190)",
          "sex1fox1_degron_young_2025 (n= 190)",
          "sex1fox1_degron_young_2025 (n= 190)",
          "sex1fox1_degron_young_2025 (n= 190)",
          "sex1fox1_degron_young_2025 (n= 190)",
          "sex1fox1_degron_young_2025 (n= 190)",
          "sex1fox1_degron_young_2025 (n= 190)",
          "sex1fox1_degron_young_2025 (n= 190)",
          "sex1fox1_degron_young_2025 (n= 190)",
          "sex1fox1_degron_young_2025 (n= 190)",
          "sex1fox1_degron_young_2025 (n= 190)",
          "sex1fox1_degron_young_2025 (n= 190)",
          "sex1fox1_degron_young_2025 (n= 190)",
          "sex1fox1_degron_young_2025 (n= 190)",
          "sex1fox1_degron_young_2025 (n= 190)",
          "sex1fox1_degron_young_2025 (n= 190)",
          "sex1fox1_degron_young_2025 (n= 190)",
          "sex1fox1_degron_young_2025 (n= 190)",
          "sex1fox1_degron_young_2025 (n= 190)",
          "sex1fox1_degron_young_2025 (n= 190)",
          "sex1fox1_degron_young_2025 (n= 190)",
          "sex1fox1_degron_young_2025 (n= 190)",
          "sex1fox1_degron_young_2025 (n= 190)",
          "sex1fox1_degron_young_2025 (n= 190)",
          "sex1fox1_degron_young_2025 (n= 190)",
          "sex1fox1_degron_young_2025 (n= 190)",
          "sex1fox1_degron_young_2025 (n= 190)",
          "sex1fox1_degron_young_2025 (n= 190)",
          "sex1fox1_degron_young_2025 (n= 190)",
          "sex1fox1_degron_young_2025 (n= 190)",
          "sex1fox1_degron_young_2025 (n= 190)",
          "sex1fox1_degron_young_2025 (n= 190)",
          "sex1fox1_degron_young_2025 (n= 190)",
          "sex1fox1_degron_young_2025 (n= 190)",
          "sex1fox1_degron_young_2025 (n= 190)",
          "sex1fox1_degron_young_2025 (n= 190)",
          "sex1fox1_degron_young_2025 (n= 190)",
          "sex1fox1_degron_young_2025 (n= 190)",
          "sex1fox1_degron_young_2025 (n= 190)",
          "sex1fox1_degron_young_2025 (n= 190)",
          "sex1fox1_degron_young_2025 (n= 190)",
          "sex1fox1_degron_young_2025 (n= 190)",
          "sex1fox1_degron_young_2025 (n= 190)",
          "sex1fox1_degron_young_2025 (n= 190)",
          "sex1fox1_degron_young_2025 (n= 190)",
          "sex1fox1_degron_young_2025 (n= 190)",
          "sex1fox1_degron_young_2025 (n= 190)",
          "sex1fox1_degron_young_2025 (n= 190)",
          "sex1fox1_degron_young_2025 (n= 190)",
          "sex1fox1_degron_young_2025 (n= 190)",
          "sex1fox1_degron_young_2025 (n= 190)",
          "sex1fox1_degron_young_2025 (n= 190)",
          "sex1fox1_degron_young_2025 (n= 190)",
          "sex1fox1_degron_young_2025 (n= 190)",
          "sex1fox1_degron_young_2025 (n= 190)",
          "sex1fox1_degron_young_2025 (n= 190)",
          "sex1fox1_degron_young_2025 (n= 190)",
          "sex1fox1_degron_young_2025 (n= 190)",
          "sex1fox1_degron_young_2025 (n= 190)",
          "sex1fox1_degron_young_2025 (n= 190)",
          "sex1fox1_degron_young_2025 (n= 190)",
          "sex1fox1_degron_young_2025 (n= 190)",
          "sex1fox1_degron_young_2025 (n= 190)",
          "sex1fox1_degron_young_2025 (n= 190)",
          "sex1fox1_degron_young_2025 (n= 190)",
          "sex1fox1_degron_young_2025 (n= 190)",
          "sex1fox1_degron_young_2025 (n= 190)",
          "sex1fox1_degron_young_2025 (n= 190)",
          "sex1fox1_degron_young_2025 (n= 190)",
          "sex1fox1_degron_young_2025 (n= 190)"
         ],
         "y": [
          5,
          3,
          2,
          4,
          8,
          368,
          97,
          10,
          2,
          382,
          320,
          3,
          46,
          12,
          65,
          2,
          8,
          58,
          24,
          323,
          5,
          8,
          121,
          136,
          37,
          90,
          6,
          1,
          17,
          14,
          338,
          283,
          15,
          13,
          22,
          1,
          21,
          5,
          304,
          68,
          314,
          256,
          125,
          12,
          37,
          381,
          25,
          14,
          147,
          53,
          13,
          58,
          18,
          8,
          106,
          4,
          1,
          187,
          96,
          82,
          97,
          322,
          10,
          3,
          19,
          1,
          3,
          10,
          62,
          6,
          14,
          33,
          1,
          14,
          6,
          14,
          1,
          83,
          161,
          47,
          6,
          54,
          26,
          3,
          117,
          50,
          26,
          10,
          3,
          65,
          27,
          322,
          40,
          421,
          231,
          7,
          16,
          6,
          6,
          13,
          25,
          46,
          7,
          6,
          155,
          88,
          11,
          2,
          235,
          27,
          280,
          15,
          37,
          22,
          66,
          194,
          12,
          45,
          101,
          22,
          202,
          2,
          69,
          10,
          19,
          118,
          170,
          6,
          5,
          178,
          88,
          1,
          54,
          186,
          354,
          375,
          10,
          130,
          348,
          179,
          27,
          4,
          67,
          44,
          100,
          244,
          23,
          12,
          9,
          11,
          4,
          83,
          61,
          31,
          14,
          25,
          201,
          2,
          6,
          3,
          4,
          307,
          2,
          1,
          81,
          14,
          182,
          48,
          13,
          29,
          5,
          47,
          2,
          56,
          50,
          6,
          134,
          5,
          28,
          105,
          19,
          43,
          40,
          85,
          28,
          3,
          1,
          25,
          39,
          43
         ]
        }
       ],
       "layout": {
        "annotations": [
         {
          "font": {
           "color": "white"
          },
          "showarrow": false,
          "text": "25.7",
          "x": "N2_young_2025 (n= 163)",
          "y": 25.711656441717793
         },
         {
          "font": {
           "color": "white"
          },
          "showarrow": false,
          "text": "45.6",
          "x": "sex1_degron_young_2025 (n= 161)",
          "y": 45.608695652173914
         },
         {
          "font": {
           "color": "white"
          },
          "showarrow": false,
          "text": "74.5",
          "x": "sex1ceh39_degron_young_2025 (n= 125)",
          "y": 74.48
         },
         {
          "font": {
           "color": "white"
          },
          "showarrow": false,
          "text": "72.9",
          "x": "sex1fox1_degron_young_2025 (n= 190)",
          "y": 72.92631578947369
         }
        ],
        "legend": {
         "font": {
          "color": "white"
         }
        },
        "paper_bgcolor": "rgba(0,0,0,0)",
        "plot_bgcolor": "rgba(0,0,0,0)",
        "template": {
         "data": {
          "bar": [
           {
            "error_x": {
             "color": "#f2f5fa"
            },
            "error_y": {
             "color": "#f2f5fa"
            },
            "marker": {
             "line": {
              "color": "rgb(17,17,17)",
              "width": 0.5
             },
             "pattern": {
              "fillmode": "overlay",
              "size": 10,
              "solidity": 0.2
             }
            },
            "type": "bar"
           }
          ],
          "barpolar": [
           {
            "marker": {
             "line": {
              "color": "rgb(17,17,17)",
              "width": 0.5
             },
             "pattern": {
              "fillmode": "overlay",
              "size": 10,
              "solidity": 0.2
             }
            },
            "type": "barpolar"
           }
          ],
          "carpet": [
           {
            "aaxis": {
             "endlinecolor": "#A2B1C6",
             "gridcolor": "#506784",
             "linecolor": "#506784",
             "minorgridcolor": "#506784",
             "startlinecolor": "#A2B1C6"
            },
            "baxis": {
             "endlinecolor": "#A2B1C6",
             "gridcolor": "#506784",
             "linecolor": "#506784",
             "minorgridcolor": "#506784",
             "startlinecolor": "#A2B1C6"
            },
            "type": "carpet"
           }
          ],
          "choropleth": [
           {
            "colorbar": {
             "outlinewidth": 0,
             "ticks": ""
            },
            "type": "choropleth"
           }
          ],
          "contour": [
           {
            "colorbar": {
             "outlinewidth": 0,
             "ticks": ""
            },
            "colorscale": [
             [
              0.0,
              "#0d0887"
             ],
             [
              0.1111111111111111,
              "#46039f"
             ],
             [
              0.2222222222222222,
              "#7201a8"
             ],
             [
              0.3333333333333333,
              "#9c179e"
             ],
             [
              0.4444444444444444,
              "#bd3786"
             ],
             [
              0.5555555555555556,
              "#d8576b"
             ],
             [
              0.6666666666666666,
              "#ed7953"
             ],
             [
              0.7777777777777778,
              "#fb9f3a"
             ],
             [
              0.8888888888888888,
              "#fdca26"
             ],
             [
              1.0,
              "#f0f921"
             ]
            ],
            "type": "contour"
           }
          ],
          "contourcarpet": [
           {
            "colorbar": {
             "outlinewidth": 0,
             "ticks": ""
            },
            "type": "contourcarpet"
           }
          ],
          "heatmap": [
           {
            "colorbar": {
             "outlinewidth": 0,
             "ticks": ""
            },
            "colorscale": [
             [
              0.0,
              "#0d0887"
             ],
             [
              0.1111111111111111,
              "#46039f"
             ],
             [
              0.2222222222222222,
              "#7201a8"
             ],
             [
              0.3333333333333333,
              "#9c179e"
             ],
             [
              0.4444444444444444,
              "#bd3786"
             ],
             [
              0.5555555555555556,
              "#d8576b"
             ],
             [
              0.6666666666666666,
              "#ed7953"
             ],
             [
              0.7777777777777778,
              "#fb9f3a"
             ],
             [
              0.8888888888888888,
              "#fdca26"
             ],
             [
              1.0,
              "#f0f921"
             ]
            ],
            "type": "heatmap"
           }
          ],
          "heatmapgl": [
           {
            "colorbar": {
             "outlinewidth": 0,
             "ticks": ""
            },
            "colorscale": [
             [
              0.0,
              "#0d0887"
             ],
             [
              0.1111111111111111,
              "#46039f"
             ],
             [
              0.2222222222222222,
              "#7201a8"
             ],
             [
              0.3333333333333333,
              "#9c179e"
             ],
             [
              0.4444444444444444,
              "#bd3786"
             ],
             [
              0.5555555555555556,
              "#d8576b"
             ],
             [
              0.6666666666666666,
              "#ed7953"
             ],
             [
              0.7777777777777778,
              "#fb9f3a"
             ],
             [
              0.8888888888888888,
              "#fdca26"
             ],
             [
              1.0,
              "#f0f921"
             ]
            ],
            "type": "heatmapgl"
           }
          ],
          "histogram": [
           {
            "marker": {
             "pattern": {
              "fillmode": "overlay",
              "size": 10,
              "solidity": 0.2
             }
            },
            "type": "histogram"
           }
          ],
          "histogram2d": [
           {
            "colorbar": {
             "outlinewidth": 0,
             "ticks": ""
            },
            "colorscale": [
             [
              0.0,
              "#0d0887"
             ],
             [
              0.1111111111111111,
              "#46039f"
             ],
             [
              0.2222222222222222,
              "#7201a8"
             ],
             [
              0.3333333333333333,
              "#9c179e"
             ],
             [
              0.4444444444444444,
              "#bd3786"
             ],
             [
              0.5555555555555556,
              "#d8576b"
             ],
             [
              0.6666666666666666,
              "#ed7953"
             ],
             [
              0.7777777777777778,
              "#fb9f3a"
             ],
             [
              0.8888888888888888,
              "#fdca26"
             ],
             [
              1.0,
              "#f0f921"
             ]
            ],
            "type": "histogram2d"
           }
          ],
          "histogram2dcontour": [
           {
            "colorbar": {
             "outlinewidth": 0,
             "ticks": ""
            },
            "colorscale": [
             [
              0.0,
              "#0d0887"
             ],
             [
              0.1111111111111111,
              "#46039f"
             ],
             [
              0.2222222222222222,
              "#7201a8"
             ],
             [
              0.3333333333333333,
              "#9c179e"
             ],
             [
              0.4444444444444444,
              "#bd3786"
             ],
             [
              0.5555555555555556,
              "#d8576b"
             ],
             [
              0.6666666666666666,
              "#ed7953"
             ],
             [
              0.7777777777777778,
              "#fb9f3a"
             ],
             [
              0.8888888888888888,
              "#fdca26"
             ],
             [
              1.0,
              "#f0f921"
             ]
            ],
            "type": "histogram2dcontour"
           }
          ],
          "mesh3d": [
           {
            "colorbar": {
             "outlinewidth": 0,
             "ticks": ""
            },
            "type": "mesh3d"
           }
          ],
          "parcoords": [
           {
            "line": {
             "colorbar": {
              "outlinewidth": 0,
              "ticks": ""
             }
            },
            "type": "parcoords"
           }
          ],
          "pie": [
           {
            "automargin": true,
            "type": "pie"
           }
          ],
          "scatter": [
           {
            "marker": {
             "line": {
              "color": "#283442"
             }
            },
            "type": "scatter"
           }
          ],
          "scatter3d": [
           {
            "line": {
             "colorbar": {
              "outlinewidth": 0,
              "ticks": ""
             }
            },
            "marker": {
             "colorbar": {
              "outlinewidth": 0,
              "ticks": ""
             }
            },
            "type": "scatter3d"
           }
          ],
          "scattercarpet": [
           {
            "marker": {
             "colorbar": {
              "outlinewidth": 0,
              "ticks": ""
             }
            },
            "type": "scattercarpet"
           }
          ],
          "scattergeo": [
           {
            "marker": {
             "colorbar": {
              "outlinewidth": 0,
              "ticks": ""
             }
            },
            "type": "scattergeo"
           }
          ],
          "scattergl": [
           {
            "marker": {
             "line": {
              "color": "#283442"
             }
            },
            "type": "scattergl"
           }
          ],
          "scattermapbox": [
           {
            "marker": {
             "colorbar": {
              "outlinewidth": 0,
              "ticks": ""
             }
            },
            "type": "scattermapbox"
           }
          ],
          "scatterpolar": [
           {
            "marker": {
             "colorbar": {
              "outlinewidth": 0,
              "ticks": ""
             }
            },
            "type": "scatterpolar"
           }
          ],
          "scatterpolargl": [
           {
            "marker": {
             "colorbar": {
              "outlinewidth": 0,
              "ticks": ""
             }
            },
            "type": "scatterpolargl"
           }
          ],
          "scatterternary": [
           {
            "marker": {
             "colorbar": {
              "outlinewidth": 0,
              "ticks": ""
             }
            },
            "type": "scatterternary"
           }
          ],
          "surface": [
           {
            "colorbar": {
             "outlinewidth": 0,
             "ticks": ""
            },
            "colorscale": [
             [
              0.0,
              "#0d0887"
             ],
             [
              0.1111111111111111,
              "#46039f"
             ],
             [
              0.2222222222222222,
              "#7201a8"
             ],
             [
              0.3333333333333333,
              "#9c179e"
             ],
             [
              0.4444444444444444,
              "#bd3786"
             ],
             [
              0.5555555555555556,
              "#d8576b"
             ],
             [
              0.6666666666666666,
              "#ed7953"
             ],
             [
              0.7777777777777778,
              "#fb9f3a"
             ],
             [
              0.8888888888888888,
              "#fdca26"
             ],
             [
              1.0,
              "#f0f921"
             ]
            ],
            "type": "surface"
           }
          ],
          "table": [
           {
            "cells": {
             "fill": {
              "color": "#506784"
             },
             "line": {
              "color": "rgb(17,17,17)"
             }
            },
            "header": {
             "fill": {
              "color": "#2a3f5f"
             },
             "line": {
              "color": "rgb(17,17,17)"
             }
            },
            "type": "table"
           }
          ]
         },
         "layout": {
          "annotationdefaults": {
           "arrowcolor": "#f2f5fa",
           "arrowhead": 0,
           "arrowwidth": 1
          },
          "autotypenumbers": "strict",
          "coloraxis": {
           "colorbar": {
            "outlinewidth": 0,
            "ticks": ""
           }
          },
          "colorscale": {
           "diverging": [
            [
             0,
             "#8e0152"
            ],
            [
             0.1,
             "#c51b7d"
            ],
            [
             0.2,
             "#de77ae"
            ],
            [
             0.3,
             "#f1b6da"
            ],
            [
             0.4,
             "#fde0ef"
            ],
            [
             0.5,
             "#f7f7f7"
            ],
            [
             0.6,
             "#e6f5d0"
            ],
            [
             0.7,
             "#b8e186"
            ],
            [
             0.8,
             "#7fbc41"
            ],
            [
             0.9,
             "#4d9221"
            ],
            [
             1,
             "#276419"
            ]
           ],
           "sequential": [
            [
             0.0,
             "#0d0887"
            ],
            [
             0.1111111111111111,
             "#46039f"
            ],
            [
             0.2222222222222222,
             "#7201a8"
            ],
            [
             0.3333333333333333,
             "#9c179e"
            ],
            [
             0.4444444444444444,
             "#bd3786"
            ],
            [
             0.5555555555555556,
             "#d8576b"
            ],
            [
             0.6666666666666666,
             "#ed7953"
            ],
            [
             0.7777777777777778,
             "#fb9f3a"
            ],
            [
             0.8888888888888888,
             "#fdca26"
            ],
            [
             1.0,
             "#f0f921"
            ]
           ],
           "sequentialminus": [
            [
             0.0,
             "#0d0887"
            ],
            [
             0.1111111111111111,
             "#46039f"
            ],
            [
             0.2222222222222222,
             "#7201a8"
            ],
            [
             0.3333333333333333,
             "#9c179e"
            ],
            [
             0.4444444444444444,
             "#bd3786"
            ],
            [
             0.5555555555555556,
             "#d8576b"
            ],
            [
             0.6666666666666666,
             "#ed7953"
            ],
            [
             0.7777777777777778,
             "#fb9f3a"
            ],
            [
             0.8888888888888888,
             "#fdca26"
            ],
            [
             1.0,
             "#f0f921"
            ]
           ]
          },
          "colorway": [
           "#636efa",
           "#EF553B",
           "#00cc96",
           "#ab63fa",
           "#FFA15A",
           "#19d3f3",
           "#FF6692",
           "#B6E880",
           "#FF97FF",
           "#FECB52"
          ],
          "font": {
           "color": "#f2f5fa"
          },
          "geo": {
           "bgcolor": "rgb(17,17,17)",
           "lakecolor": "rgb(17,17,17)",
           "landcolor": "rgb(17,17,17)",
           "showlakes": true,
           "showland": true,
           "subunitcolor": "#506784"
          },
          "hoverlabel": {
           "align": "left"
          },
          "hovermode": "closest",
          "mapbox": {
           "style": "dark"
          },
          "paper_bgcolor": "rgb(17,17,17)",
          "plot_bgcolor": "rgb(17,17,17)",
          "polar": {
           "angularaxis": {
            "gridcolor": "#506784",
            "linecolor": "#506784",
            "ticks": ""
           },
           "bgcolor": "rgb(17,17,17)",
           "radialaxis": {
            "gridcolor": "#506784",
            "linecolor": "#506784",
            "ticks": ""
           }
          },
          "scene": {
           "xaxis": {
            "backgroundcolor": "rgb(17,17,17)",
            "gridcolor": "#506784",
            "gridwidth": 2,
            "linecolor": "#506784",
            "showbackground": true,
            "ticks": "",
            "zerolinecolor": "#C8D4E3"
           },
           "yaxis": {
            "backgroundcolor": "rgb(17,17,17)",
            "gridcolor": "#506784",
            "gridwidth": 2,
            "linecolor": "#506784",
            "showbackground": true,
            "ticks": "",
            "zerolinecolor": "#C8D4E3"
           },
           "zaxis": {
            "backgroundcolor": "rgb(17,17,17)",
            "gridcolor": "#506784",
            "gridwidth": 2,
            "linecolor": "#506784",
            "showbackground": true,
            "ticks": "",
            "zerolinecolor": "#C8D4E3"
           }
          },
          "shapedefaults": {
           "line": {
            "color": "#f2f5fa"
           }
          },
          "sliderdefaults": {
           "bgcolor": "#C8D4E3",
           "bordercolor": "rgb(17,17,17)",
           "borderwidth": 1,
           "tickwidth": 0
          },
          "ternary": {
           "aaxis": {
            "gridcolor": "#506784",
            "linecolor": "#506784",
            "ticks": ""
           },
           "baxis": {
            "gridcolor": "#506784",
            "linecolor": "#506784",
            "ticks": ""
           },
           "bgcolor": "rgb(17,17,17)",
           "caxis": {
            "gridcolor": "#506784",
            "linecolor": "#506784",
            "ticks": ""
           }
          },
          "title": {
           "x": 0.05
          },
          "updatemenudefaults": {
           "bgcolor": "#506784",
           "borderwidth": 0
          },
          "xaxis": {
           "automargin": true,
           "gridcolor": "#283442",
           "linecolor": "#506784",
           "ticks": "",
           "title": {
            "standoff": 15
           },
           "zerolinecolor": "#283442",
           "zerolinewidth": 2
          },
          "yaxis": {
           "automargin": true,
           "gridcolor": "#283442",
           "linecolor": "#506784",
           "ticks": "",
           "title": {
            "standoff": 15
           },
           "zerolinecolor": "#283442",
           "zerolinewidth": 2
          }
         }
        },
        "width": 800,
        "xaxis": {
         "tickfont": {
          "color": "white"
         },
         "title": {
          "font": {
           "color": "white"
          },
          "text": "Source File"
         }
        },
        "yaxis": {
         "tickfont": {
          "color": "white"
         },
         "title": {
          "font": {
           "color": "white"
          },
          "text": "Nuclei Count per Cell"
         }
        }
       }
      },
      "text/html": [
       "<div>                            <div id=\"5793d1df-568a-427f-bea2-08b6ccd5e17e\" class=\"plotly-graph-div\" style=\"height:525px; width:800px;\"></div>            <script type=\"text/javascript\">                require([\"plotly\"], function(Plotly) {                    window.PLOTLYENV=window.PLOTLYENV || {};                                    if (document.getElementById(\"5793d1df-568a-427f-bea2-08b6ccd5e17e\")) {                    Plotly.newPlot(                        \"5793d1df-568a-427f-bea2-08b6ccd5e17e\",                        [{\"box\":{\"visible\":true},\"meanline\":{\"visible\":true},\"name\":\"N2_young_2025 (n= 163)\",\"x\":[\"N2_young_2025 (n= 163)\",\"N2_young_2025 (n= 163)\",\"N2_young_2025 (n= 163)\",\"N2_young_2025 (n= 163)\",\"N2_young_2025 (n= 163)\",\"N2_young_2025 (n= 163)\",\"N2_young_2025 (n= 163)\",\"N2_young_2025 (n= 163)\",\"N2_young_2025 (n= 163)\",\"N2_young_2025 (n= 163)\",\"N2_young_2025 (n= 163)\",\"N2_young_2025 (n= 163)\",\"N2_young_2025 (n= 163)\",\"N2_young_2025 (n= 163)\",\"N2_young_2025 (n= 163)\",\"N2_young_2025 (n= 163)\",\"N2_young_2025 (n= 163)\",\"N2_young_2025 (n= 163)\",\"N2_young_2025 (n= 163)\",\"N2_young_2025 (n= 163)\",\"N2_young_2025 (n= 163)\",\"N2_young_2025 (n= 163)\",\"N2_young_2025 (n= 163)\",\"N2_young_2025 (n= 163)\",\"N2_young_2025 (n= 163)\",\"N2_young_2025 (n= 163)\",\"N2_young_2025 (n= 163)\",\"N2_young_2025 (n= 163)\",\"N2_young_2025 (n= 163)\",\"N2_young_2025 (n= 163)\",\"N2_young_2025 (n= 163)\",\"N2_young_2025 (n= 163)\",\"N2_young_2025 (n= 163)\",\"N2_young_2025 (n= 163)\",\"N2_young_2025 (n= 163)\",\"N2_young_2025 (n= 163)\",\"N2_young_2025 (n= 163)\",\"N2_young_2025 (n= 163)\",\"N2_young_2025 (n= 163)\",\"N2_young_2025 (n= 163)\",\"N2_young_2025 (n= 163)\",\"N2_young_2025 (n= 163)\",\"N2_young_2025 (n= 163)\",\"N2_young_2025 (n= 163)\",\"N2_young_2025 (n= 163)\",\"N2_young_2025 (n= 163)\",\"N2_young_2025 (n= 163)\",\"N2_young_2025 (n= 163)\",\"N2_young_2025 (n= 163)\",\"N2_young_2025 (n= 163)\",\"N2_young_2025 (n= 163)\",\"N2_young_2025 (n= 163)\",\"N2_young_2025 (n= 163)\",\"N2_young_2025 (n= 163)\",\"N2_young_2025 (n= 163)\",\"N2_young_2025 (n= 163)\",\"N2_young_2025 (n= 163)\",\"N2_young_2025 (n= 163)\",\"N2_young_2025 (n= 163)\",\"N2_young_2025 (n= 163)\",\"N2_young_2025 (n= 163)\",\"N2_young_2025 (n= 163)\",\"N2_young_2025 (n= 163)\",\"N2_young_2025 (n= 163)\",\"N2_young_2025 (n= 163)\",\"N2_young_2025 (n= 163)\",\"N2_young_2025 (n= 163)\",\"N2_young_2025 (n= 163)\",\"N2_young_2025 (n= 163)\",\"N2_young_2025 (n= 163)\",\"N2_young_2025 (n= 163)\",\"N2_young_2025 (n= 163)\",\"N2_young_2025 (n= 163)\",\"N2_young_2025 (n= 163)\",\"N2_young_2025 (n= 163)\",\"N2_young_2025 (n= 163)\",\"N2_young_2025 (n= 163)\",\"N2_young_2025 (n= 163)\",\"N2_young_2025 (n= 163)\",\"N2_young_2025 (n= 163)\",\"N2_young_2025 (n= 163)\",\"N2_young_2025 (n= 163)\",\"N2_young_2025 (n= 163)\",\"N2_young_2025 (n= 163)\",\"N2_young_2025 (n= 163)\",\"N2_young_2025 (n= 163)\",\"N2_young_2025 (n= 163)\",\"N2_young_2025 (n= 163)\",\"N2_young_2025 (n= 163)\",\"N2_young_2025 (n= 163)\",\"N2_young_2025 (n= 163)\",\"N2_young_2025 (n= 163)\",\"N2_young_2025 (n= 163)\",\"N2_young_2025 (n= 163)\",\"N2_young_2025 (n= 163)\",\"N2_young_2025 (n= 163)\",\"N2_young_2025 (n= 163)\",\"N2_young_2025 (n= 163)\",\"N2_young_2025 (n= 163)\",\"N2_young_2025 (n= 163)\",\"N2_young_2025 (n= 163)\",\"N2_young_2025 (n= 163)\",\"N2_young_2025 (n= 163)\",\"N2_young_2025 (n= 163)\",\"N2_young_2025 (n= 163)\",\"N2_young_2025 (n= 163)\",\"N2_young_2025 (n= 163)\",\"N2_young_2025 (n= 163)\",\"N2_young_2025 (n= 163)\",\"N2_young_2025 (n= 163)\",\"N2_young_2025 (n= 163)\",\"N2_young_2025 (n= 163)\",\"N2_young_2025 (n= 163)\",\"N2_young_2025 (n= 163)\",\"N2_young_2025 (n= 163)\",\"N2_young_2025 (n= 163)\",\"N2_young_2025 (n= 163)\",\"N2_young_2025 (n= 163)\",\"N2_young_2025 (n= 163)\",\"N2_young_2025 (n= 163)\",\"N2_young_2025 (n= 163)\",\"N2_young_2025 (n= 163)\",\"N2_young_2025 (n= 163)\",\"N2_young_2025 (n= 163)\",\"N2_young_2025 (n= 163)\",\"N2_young_2025 (n= 163)\",\"N2_young_2025 (n= 163)\",\"N2_young_2025 (n= 163)\",\"N2_young_2025 (n= 163)\",\"N2_young_2025 (n= 163)\",\"N2_young_2025 (n= 163)\",\"N2_young_2025 (n= 163)\",\"N2_young_2025 (n= 163)\",\"N2_young_2025 (n= 163)\",\"N2_young_2025 (n= 163)\",\"N2_young_2025 (n= 163)\",\"N2_young_2025 (n= 163)\",\"N2_young_2025 (n= 163)\",\"N2_young_2025 (n= 163)\",\"N2_young_2025 (n= 163)\",\"N2_young_2025 (n= 163)\",\"N2_young_2025 (n= 163)\",\"N2_young_2025 (n= 163)\",\"N2_young_2025 (n= 163)\",\"N2_young_2025 (n= 163)\",\"N2_young_2025 (n= 163)\",\"N2_young_2025 (n= 163)\",\"N2_young_2025 (n= 163)\",\"N2_young_2025 (n= 163)\",\"N2_young_2025 (n= 163)\",\"N2_young_2025 (n= 163)\",\"N2_young_2025 (n= 163)\",\"N2_young_2025 (n= 163)\",\"N2_young_2025 (n= 163)\",\"N2_young_2025 (n= 163)\",\"N2_young_2025 (n= 163)\",\"N2_young_2025 (n= 163)\",\"N2_young_2025 (n= 163)\",\"N2_young_2025 (n= 163)\",\"N2_young_2025 (n= 163)\",\"N2_young_2025 (n= 163)\",\"N2_young_2025 (n= 163)\",\"N2_young_2025 (n= 163)\"],\"y\":[31,21,44,17,2,37,51,33,30,41,8,26,44,13,64,24,3,12,64,21,2,36,10,8,3,5,1,25,56,20,20,20,19,31,57,5,22,7,38,16,3,4,40,11,22,9,26,29,57,79,43,28,13,28,47,28,6,30,10,27,133,43,40,6,11,26,30,41,31,65,3,121,33,32,101,5,22,25,23,16,27,25,18,27,56,28,16,26,14,50,1,19,41,44,26,18,18,22,66,38,13,66,21,29,21,26,19,59,17,8,61,18,24,4,15,17,17,15,15,7,21,5,18,9,3,9,32,19,30,6,26,15,19,12,19,7,55,17,8,5,5,4,96,11,4,1,15,25,10,20,43,24,35,2,2,25,24,19,26,24,15,13,27],\"type\":\"violin\"},{\"box\":{\"visible\":true},\"meanline\":{\"visible\":true},\"name\":\"sex1_degron_young_2025 (n= 161)\",\"x\":[\"sex1_degron_young_2025 (n= 161)\",\"sex1_degron_young_2025 (n= 161)\",\"sex1_degron_young_2025 (n= 161)\",\"sex1_degron_young_2025 (n= 161)\",\"sex1_degron_young_2025 (n= 161)\",\"sex1_degron_young_2025 (n= 161)\",\"sex1_degron_young_2025 (n= 161)\",\"sex1_degron_young_2025 (n= 161)\",\"sex1_degron_young_2025 (n= 161)\",\"sex1_degron_young_2025 (n= 161)\",\"sex1_degron_young_2025 (n= 161)\",\"sex1_degron_young_2025 (n= 161)\",\"sex1_degron_young_2025 (n= 161)\",\"sex1_degron_young_2025 (n= 161)\",\"sex1_degron_young_2025 (n= 161)\",\"sex1_degron_young_2025 (n= 161)\",\"sex1_degron_young_2025 (n= 161)\",\"sex1_degron_young_2025 (n= 161)\",\"sex1_degron_young_2025 (n= 161)\",\"sex1_degron_young_2025 (n= 161)\",\"sex1_degron_young_2025 (n= 161)\",\"sex1_degron_young_2025 (n= 161)\",\"sex1_degron_young_2025 (n= 161)\",\"sex1_degron_young_2025 (n= 161)\",\"sex1_degron_young_2025 (n= 161)\",\"sex1_degron_young_2025 (n= 161)\",\"sex1_degron_young_2025 (n= 161)\",\"sex1_degron_young_2025 (n= 161)\",\"sex1_degron_young_2025 (n= 161)\",\"sex1_degron_young_2025 (n= 161)\",\"sex1_degron_young_2025 (n= 161)\",\"sex1_degron_young_2025 (n= 161)\",\"sex1_degron_young_2025 (n= 161)\",\"sex1_degron_young_2025 (n= 161)\",\"sex1_degron_young_2025 (n= 161)\",\"sex1_degron_young_2025 (n= 161)\",\"sex1_degron_young_2025 (n= 161)\",\"sex1_degron_young_2025 (n= 161)\",\"sex1_degron_young_2025 (n= 161)\",\"sex1_degron_young_2025 (n= 161)\",\"sex1_degron_young_2025 (n= 161)\",\"sex1_degron_young_2025 (n= 161)\",\"sex1_degron_young_2025 (n= 161)\",\"sex1_degron_young_2025 (n= 161)\",\"sex1_degron_young_2025 (n= 161)\",\"sex1_degron_young_2025 (n= 161)\",\"sex1_degron_young_2025 (n= 161)\",\"sex1_degron_young_2025 (n= 161)\",\"sex1_degron_young_2025 (n= 161)\",\"sex1_degron_young_2025 (n= 161)\",\"sex1_degron_young_2025 (n= 161)\",\"sex1_degron_young_2025 (n= 161)\",\"sex1_degron_young_2025 (n= 161)\",\"sex1_degron_young_2025 (n= 161)\",\"sex1_degron_young_2025 (n= 161)\",\"sex1_degron_young_2025 (n= 161)\",\"sex1_degron_young_2025 (n= 161)\",\"sex1_degron_young_2025 (n= 161)\",\"sex1_degron_young_2025 (n= 161)\",\"sex1_degron_young_2025 (n= 161)\",\"sex1_degron_young_2025 (n= 161)\",\"sex1_degron_young_2025 (n= 161)\",\"sex1_degron_young_2025 (n= 161)\",\"sex1_degron_young_2025 (n= 161)\",\"sex1_degron_young_2025 (n= 161)\",\"sex1_degron_young_2025 (n= 161)\",\"sex1_degron_young_2025 (n= 161)\",\"sex1_degron_young_2025 (n= 161)\",\"sex1_degron_young_2025 (n= 161)\",\"sex1_degron_young_2025 (n= 161)\",\"sex1_degron_young_2025 (n= 161)\",\"sex1_degron_young_2025 (n= 161)\",\"sex1_degron_young_2025 (n= 161)\",\"sex1_degron_young_2025 (n= 161)\",\"sex1_degron_young_2025 (n= 161)\",\"sex1_degron_young_2025 (n= 161)\",\"sex1_degron_young_2025 (n= 161)\",\"sex1_degron_young_2025 (n= 161)\",\"sex1_degron_young_2025 (n= 161)\",\"sex1_degron_young_2025 (n= 161)\",\"sex1_degron_young_2025 (n= 161)\",\"sex1_degron_young_2025 (n= 161)\",\"sex1_degron_young_2025 (n= 161)\",\"sex1_degron_young_2025 (n= 161)\",\"sex1_degron_young_2025 (n= 161)\",\"sex1_degron_young_2025 (n= 161)\",\"sex1_degron_young_2025 (n= 161)\",\"sex1_degron_young_2025 (n= 161)\",\"sex1_degron_young_2025 (n= 161)\",\"sex1_degron_young_2025 (n= 161)\",\"sex1_degron_young_2025 (n= 161)\",\"sex1_degron_young_2025 (n= 161)\",\"sex1_degron_young_2025 (n= 161)\",\"sex1_degron_young_2025 (n= 161)\",\"sex1_degron_young_2025 (n= 161)\",\"sex1_degron_young_2025 (n= 161)\",\"sex1_degron_young_2025 (n= 161)\",\"sex1_degron_young_2025 (n= 161)\",\"sex1_degron_young_2025 (n= 161)\",\"sex1_degron_young_2025 (n= 161)\",\"sex1_degron_young_2025 (n= 161)\",\"sex1_degron_young_2025 (n= 161)\",\"sex1_degron_young_2025 (n= 161)\",\"sex1_degron_young_2025 (n= 161)\",\"sex1_degron_young_2025 (n= 161)\",\"sex1_degron_young_2025 (n= 161)\",\"sex1_degron_young_2025 (n= 161)\",\"sex1_degron_young_2025 (n= 161)\",\"sex1_degron_young_2025 (n= 161)\",\"sex1_degron_young_2025 (n= 161)\",\"sex1_degron_young_2025 (n= 161)\",\"sex1_degron_young_2025 (n= 161)\",\"sex1_degron_young_2025 (n= 161)\",\"sex1_degron_young_2025 (n= 161)\",\"sex1_degron_young_2025 (n= 161)\",\"sex1_degron_young_2025 (n= 161)\",\"sex1_degron_young_2025 (n= 161)\",\"sex1_degron_young_2025 (n= 161)\",\"sex1_degron_young_2025 (n= 161)\",\"sex1_degron_young_2025 (n= 161)\",\"sex1_degron_young_2025 (n= 161)\",\"sex1_degron_young_2025 (n= 161)\",\"sex1_degron_young_2025 (n= 161)\",\"sex1_degron_young_2025 (n= 161)\",\"sex1_degron_young_2025 (n= 161)\",\"sex1_degron_young_2025 (n= 161)\",\"sex1_degron_young_2025 (n= 161)\",\"sex1_degron_young_2025 (n= 161)\",\"sex1_degron_young_2025 (n= 161)\",\"sex1_degron_young_2025 (n= 161)\",\"sex1_degron_young_2025 (n= 161)\",\"sex1_degron_young_2025 (n= 161)\",\"sex1_degron_young_2025 (n= 161)\",\"sex1_degron_young_2025 (n= 161)\",\"sex1_degron_young_2025 (n= 161)\",\"sex1_degron_young_2025 (n= 161)\",\"sex1_degron_young_2025 (n= 161)\",\"sex1_degron_young_2025 (n= 161)\",\"sex1_degron_young_2025 (n= 161)\",\"sex1_degron_young_2025 (n= 161)\",\"sex1_degron_young_2025 (n= 161)\",\"sex1_degron_young_2025 (n= 161)\",\"sex1_degron_young_2025 (n= 161)\",\"sex1_degron_young_2025 (n= 161)\",\"sex1_degron_young_2025 (n= 161)\",\"sex1_degron_young_2025 (n= 161)\",\"sex1_degron_young_2025 (n= 161)\",\"sex1_degron_young_2025 (n= 161)\",\"sex1_degron_young_2025 (n= 161)\",\"sex1_degron_young_2025 (n= 161)\",\"sex1_degron_young_2025 (n= 161)\",\"sex1_degron_young_2025 (n= 161)\",\"sex1_degron_young_2025 (n= 161)\",\"sex1_degron_young_2025 (n= 161)\",\"sex1_degron_young_2025 (n= 161)\",\"sex1_degron_young_2025 (n= 161)\",\"sex1_degron_young_2025 (n= 161)\",\"sex1_degron_young_2025 (n= 161)\",\"sex1_degron_young_2025 (n= 161)\",\"sex1_degron_young_2025 (n= 161)\",\"sex1_degron_young_2025 (n= 161)\"],\"y\":[51,27,5,48,4,13,495,6,1,17,26,25,4,8,37,11,7,45,25,32,41,6,15,25,48,47,22,41,24,30,4,21,87,8,5,6,2,25,10,5,51,8,24,50,25,11,5,93,89,5,92,47,50,409,149,25,24,16,7,10,8,1,99,22,27,286,14,5,11,9,12,6,7,5,95,19,47,32,5,10,28,93,193,38,202,94,18,23,23,41,13,45,36,42,15,42,5,4,16,14,24,25,23,13,2,2,24,26,25,28,43,49,1,23,25,15,6,2,246,44,121,2,9,50,8,25,22,46,55,25,166,1,83,74,104,63,83,42,199,1,84,4,41,38,9,118,203,79,25,25,12,24,39,22,94,52,102,2,198,27,66],\"type\":\"violin\"},{\"box\":{\"visible\":true},\"meanline\":{\"visible\":true},\"name\":\"sex1ceh39_degron_young_2025 (n= 125)\",\"x\":[\"sex1ceh39_degron_young_2025 (n= 125)\",\"sex1ceh39_degron_young_2025 (n= 125)\",\"sex1ceh39_degron_young_2025 (n= 125)\",\"sex1ceh39_degron_young_2025 (n= 125)\",\"sex1ceh39_degron_young_2025 (n= 125)\",\"sex1ceh39_degron_young_2025 (n= 125)\",\"sex1ceh39_degron_young_2025 (n= 125)\",\"sex1ceh39_degron_young_2025 (n= 125)\",\"sex1ceh39_degron_young_2025 (n= 125)\",\"sex1ceh39_degron_young_2025 (n= 125)\",\"sex1ceh39_degron_young_2025 (n= 125)\",\"sex1ceh39_degron_young_2025 (n= 125)\",\"sex1ceh39_degron_young_2025 (n= 125)\",\"sex1ceh39_degron_young_2025 (n= 125)\",\"sex1ceh39_degron_young_2025 (n= 125)\",\"sex1ceh39_degron_young_2025 (n= 125)\",\"sex1ceh39_degron_young_2025 (n= 125)\",\"sex1ceh39_degron_young_2025 (n= 125)\",\"sex1ceh39_degron_young_2025 (n= 125)\",\"sex1ceh39_degron_young_2025 (n= 125)\",\"sex1ceh39_degron_young_2025 (n= 125)\",\"sex1ceh39_degron_young_2025 (n= 125)\",\"sex1ceh39_degron_young_2025 (n= 125)\",\"sex1ceh39_degron_young_2025 (n= 125)\",\"sex1ceh39_degron_young_2025 (n= 125)\",\"sex1ceh39_degron_young_2025 (n= 125)\",\"sex1ceh39_degron_young_2025 (n= 125)\",\"sex1ceh39_degron_young_2025 (n= 125)\",\"sex1ceh39_degron_young_2025 (n= 125)\",\"sex1ceh39_degron_young_2025 (n= 125)\",\"sex1ceh39_degron_young_2025 (n= 125)\",\"sex1ceh39_degron_young_2025 (n= 125)\",\"sex1ceh39_degron_young_2025 (n= 125)\",\"sex1ceh39_degron_young_2025 (n= 125)\",\"sex1ceh39_degron_young_2025 (n= 125)\",\"sex1ceh39_degron_young_2025 (n= 125)\",\"sex1ceh39_degron_young_2025 (n= 125)\",\"sex1ceh39_degron_young_2025 (n= 125)\",\"sex1ceh39_degron_young_2025 (n= 125)\",\"sex1ceh39_degron_young_2025 (n= 125)\",\"sex1ceh39_degron_young_2025 (n= 125)\",\"sex1ceh39_degron_young_2025 (n= 125)\",\"sex1ceh39_degron_young_2025 (n= 125)\",\"sex1ceh39_degron_young_2025 (n= 125)\",\"sex1ceh39_degron_young_2025 (n= 125)\",\"sex1ceh39_degron_young_2025 (n= 125)\",\"sex1ceh39_degron_young_2025 (n= 125)\",\"sex1ceh39_degron_young_2025 (n= 125)\",\"sex1ceh39_degron_young_2025 (n= 125)\",\"sex1ceh39_degron_young_2025 (n= 125)\",\"sex1ceh39_degron_young_2025 (n= 125)\",\"sex1ceh39_degron_young_2025 (n= 125)\",\"sex1ceh39_degron_young_2025 (n= 125)\",\"sex1ceh39_degron_young_2025 (n= 125)\",\"sex1ceh39_degron_young_2025 (n= 125)\",\"sex1ceh39_degron_young_2025 (n= 125)\",\"sex1ceh39_degron_young_2025 (n= 125)\",\"sex1ceh39_degron_young_2025 (n= 125)\",\"sex1ceh39_degron_young_2025 (n= 125)\",\"sex1ceh39_degron_young_2025 (n= 125)\",\"sex1ceh39_degron_young_2025 (n= 125)\",\"sex1ceh39_degron_young_2025 (n= 125)\",\"sex1ceh39_degron_young_2025 (n= 125)\",\"sex1ceh39_degron_young_2025 (n= 125)\",\"sex1ceh39_degron_young_2025 (n= 125)\",\"sex1ceh39_degron_young_2025 (n= 125)\",\"sex1ceh39_degron_young_2025 (n= 125)\",\"sex1ceh39_degron_young_2025 (n= 125)\",\"sex1ceh39_degron_young_2025 (n= 125)\",\"sex1ceh39_degron_young_2025 (n= 125)\",\"sex1ceh39_degron_young_2025 (n= 125)\",\"sex1ceh39_degron_young_2025 (n= 125)\",\"sex1ceh39_degron_young_2025 (n= 125)\",\"sex1ceh39_degron_young_2025 (n= 125)\",\"sex1ceh39_degron_young_2025 (n= 125)\",\"sex1ceh39_degron_young_2025 (n= 125)\",\"sex1ceh39_degron_young_2025 (n= 125)\",\"sex1ceh39_degron_young_2025 (n= 125)\",\"sex1ceh39_degron_young_2025 (n= 125)\",\"sex1ceh39_degron_young_2025 (n= 125)\",\"sex1ceh39_degron_young_2025 (n= 125)\",\"sex1ceh39_degron_young_2025 (n= 125)\",\"sex1ceh39_degron_young_2025 (n= 125)\",\"sex1ceh39_degron_young_2025 (n= 125)\",\"sex1ceh39_degron_young_2025 (n= 125)\",\"sex1ceh39_degron_young_2025 (n= 125)\",\"sex1ceh39_degron_young_2025 (n= 125)\",\"sex1ceh39_degron_young_2025 (n= 125)\",\"sex1ceh39_degron_young_2025 (n= 125)\",\"sex1ceh39_degron_young_2025 (n= 125)\",\"sex1ceh39_degron_young_2025 (n= 125)\",\"sex1ceh39_degron_young_2025 (n= 125)\",\"sex1ceh39_degron_young_2025 (n= 125)\",\"sex1ceh39_degron_young_2025 (n= 125)\",\"sex1ceh39_degron_young_2025 (n= 125)\",\"sex1ceh39_degron_young_2025 (n= 125)\",\"sex1ceh39_degron_young_2025 (n= 125)\",\"sex1ceh39_degron_young_2025 (n= 125)\",\"sex1ceh39_degron_young_2025 (n= 125)\",\"sex1ceh39_degron_young_2025 (n= 125)\",\"sex1ceh39_degron_young_2025 (n= 125)\",\"sex1ceh39_degron_young_2025 (n= 125)\",\"sex1ceh39_degron_young_2025 (n= 125)\",\"sex1ceh39_degron_young_2025 (n= 125)\",\"sex1ceh39_degron_young_2025 (n= 125)\",\"sex1ceh39_degron_young_2025 (n= 125)\",\"sex1ceh39_degron_young_2025 (n= 125)\",\"sex1ceh39_degron_young_2025 (n= 125)\",\"sex1ceh39_degron_young_2025 (n= 125)\",\"sex1ceh39_degron_young_2025 (n= 125)\",\"sex1ceh39_degron_young_2025 (n= 125)\",\"sex1ceh39_degron_young_2025 (n= 125)\",\"sex1ceh39_degron_young_2025 (n= 125)\",\"sex1ceh39_degron_young_2025 (n= 125)\",\"sex1ceh39_degron_young_2025 (n= 125)\",\"sex1ceh39_degron_young_2025 (n= 125)\",\"sex1ceh39_degron_young_2025 (n= 125)\",\"sex1ceh39_degron_young_2025 (n= 125)\",\"sex1ceh39_degron_young_2025 (n= 125)\",\"sex1ceh39_degron_young_2025 (n= 125)\",\"sex1ceh39_degron_young_2025 (n= 125)\",\"sex1ceh39_degron_young_2025 (n= 125)\",\"sex1ceh39_degron_young_2025 (n= 125)\",\"sex1ceh39_degron_young_2025 (n= 125)\",\"sex1ceh39_degron_young_2025 (n= 125)\"],\"y\":[104,32,8,24,410,136,25,48,43,69,42,45,46,50,26,226,77,94,89,69,47,85,47,26,5,5,281,26,13,85,87,136,15,26,211,55,87,30,34,243,15,26,6,397,14,50,203,47,45,89,37,13,144,55,75,85,17,43,20,38,95,3,2,3,47,68,85,45,46,49,83,263,16,21,13,16,177,183,77,53,7,133,19,25,109,139,30,31,32,11,47,25,9,88,31,22,95,20,77,37,17,24,345,45,143,50,49,330,22,61,22,215,44,94,42,1,41,232,22,24,80,50,60,135,204],\"type\":\"violin\"},{\"box\":{\"visible\":true},\"meanline\":{\"visible\":true},\"name\":\"sex1fox1_degron_young_2025 (n= 190)\",\"x\":[\"sex1fox1_degron_young_2025 (n= 190)\",\"sex1fox1_degron_young_2025 (n= 190)\",\"sex1fox1_degron_young_2025 (n= 190)\",\"sex1fox1_degron_young_2025 (n= 190)\",\"sex1fox1_degron_young_2025 (n= 190)\",\"sex1fox1_degron_young_2025 (n= 190)\",\"sex1fox1_degron_young_2025 (n= 190)\",\"sex1fox1_degron_young_2025 (n= 190)\",\"sex1fox1_degron_young_2025 (n= 190)\",\"sex1fox1_degron_young_2025 (n= 190)\",\"sex1fox1_degron_young_2025 (n= 190)\",\"sex1fox1_degron_young_2025 (n= 190)\",\"sex1fox1_degron_young_2025 (n= 190)\",\"sex1fox1_degron_young_2025 (n= 190)\",\"sex1fox1_degron_young_2025 (n= 190)\",\"sex1fox1_degron_young_2025 (n= 190)\",\"sex1fox1_degron_young_2025 (n= 190)\",\"sex1fox1_degron_young_2025 (n= 190)\",\"sex1fox1_degron_young_2025 (n= 190)\",\"sex1fox1_degron_young_2025 (n= 190)\",\"sex1fox1_degron_young_2025 (n= 190)\",\"sex1fox1_degron_young_2025 (n= 190)\",\"sex1fox1_degron_young_2025 (n= 190)\",\"sex1fox1_degron_young_2025 (n= 190)\",\"sex1fox1_degron_young_2025 (n= 190)\",\"sex1fox1_degron_young_2025 (n= 190)\",\"sex1fox1_degron_young_2025 (n= 190)\",\"sex1fox1_degron_young_2025 (n= 190)\",\"sex1fox1_degron_young_2025 (n= 190)\",\"sex1fox1_degron_young_2025 (n= 190)\",\"sex1fox1_degron_young_2025 (n= 190)\",\"sex1fox1_degron_young_2025 (n= 190)\",\"sex1fox1_degron_young_2025 (n= 190)\",\"sex1fox1_degron_young_2025 (n= 190)\",\"sex1fox1_degron_young_2025 (n= 190)\",\"sex1fox1_degron_young_2025 (n= 190)\",\"sex1fox1_degron_young_2025 (n= 190)\",\"sex1fox1_degron_young_2025 (n= 190)\",\"sex1fox1_degron_young_2025 (n= 190)\",\"sex1fox1_degron_young_2025 (n= 190)\",\"sex1fox1_degron_young_2025 (n= 190)\",\"sex1fox1_degron_young_2025 (n= 190)\",\"sex1fox1_degron_young_2025 (n= 190)\",\"sex1fox1_degron_young_2025 (n= 190)\",\"sex1fox1_degron_young_2025 (n= 190)\",\"sex1fox1_degron_young_2025 (n= 190)\",\"sex1fox1_degron_young_2025 (n= 190)\",\"sex1fox1_degron_young_2025 (n= 190)\",\"sex1fox1_degron_young_2025 (n= 190)\",\"sex1fox1_degron_young_2025 (n= 190)\",\"sex1fox1_degron_young_2025 (n= 190)\",\"sex1fox1_degron_young_2025 (n= 190)\",\"sex1fox1_degron_young_2025 (n= 190)\",\"sex1fox1_degron_young_2025 (n= 190)\",\"sex1fox1_degron_young_2025 (n= 190)\",\"sex1fox1_degron_young_2025 (n= 190)\",\"sex1fox1_degron_young_2025 (n= 190)\",\"sex1fox1_degron_young_2025 (n= 190)\",\"sex1fox1_degron_young_2025 (n= 190)\",\"sex1fox1_degron_young_2025 (n= 190)\",\"sex1fox1_degron_young_2025 (n= 190)\",\"sex1fox1_degron_young_2025 (n= 190)\",\"sex1fox1_degron_young_2025 (n= 190)\",\"sex1fox1_degron_young_2025 (n= 190)\",\"sex1fox1_degron_young_2025 (n= 190)\",\"sex1fox1_degron_young_2025 (n= 190)\",\"sex1fox1_degron_young_2025 (n= 190)\",\"sex1fox1_degron_young_2025 (n= 190)\",\"sex1fox1_degron_young_2025 (n= 190)\",\"sex1fox1_degron_young_2025 (n= 190)\",\"sex1fox1_degron_young_2025 (n= 190)\",\"sex1fox1_degron_young_2025 (n= 190)\",\"sex1fox1_degron_young_2025 (n= 190)\",\"sex1fox1_degron_young_2025 (n= 190)\",\"sex1fox1_degron_young_2025 (n= 190)\",\"sex1fox1_degron_young_2025 (n= 190)\",\"sex1fox1_degron_young_2025 (n= 190)\",\"sex1fox1_degron_young_2025 (n= 190)\",\"sex1fox1_degron_young_2025 (n= 190)\",\"sex1fox1_degron_young_2025 (n= 190)\",\"sex1fox1_degron_young_2025 (n= 190)\",\"sex1fox1_degron_young_2025 (n= 190)\",\"sex1fox1_degron_young_2025 (n= 190)\",\"sex1fox1_degron_young_2025 (n= 190)\",\"sex1fox1_degron_young_2025 (n= 190)\",\"sex1fox1_degron_young_2025 (n= 190)\",\"sex1fox1_degron_young_2025 (n= 190)\",\"sex1fox1_degron_young_2025 (n= 190)\",\"sex1fox1_degron_young_2025 (n= 190)\",\"sex1fox1_degron_young_2025 (n= 190)\",\"sex1fox1_degron_young_2025 (n= 190)\",\"sex1fox1_degron_young_2025 (n= 190)\",\"sex1fox1_degron_young_2025 (n= 190)\",\"sex1fox1_degron_young_2025 (n= 190)\",\"sex1fox1_degron_young_2025 (n= 190)\",\"sex1fox1_degron_young_2025 (n= 190)\",\"sex1fox1_degron_young_2025 (n= 190)\",\"sex1fox1_degron_young_2025 (n= 190)\",\"sex1fox1_degron_young_2025 (n= 190)\",\"sex1fox1_degron_young_2025 (n= 190)\",\"sex1fox1_degron_young_2025 (n= 190)\",\"sex1fox1_degron_young_2025 (n= 190)\",\"sex1fox1_degron_young_2025 (n= 190)\",\"sex1fox1_degron_young_2025 (n= 190)\",\"sex1fox1_degron_young_2025 (n= 190)\",\"sex1fox1_degron_young_2025 (n= 190)\",\"sex1fox1_degron_young_2025 (n= 190)\",\"sex1fox1_degron_young_2025 (n= 190)\",\"sex1fox1_degron_young_2025 (n= 190)\",\"sex1fox1_degron_young_2025 (n= 190)\",\"sex1fox1_degron_young_2025 (n= 190)\",\"sex1fox1_degron_young_2025 (n= 190)\",\"sex1fox1_degron_young_2025 (n= 190)\",\"sex1fox1_degron_young_2025 (n= 190)\",\"sex1fox1_degron_young_2025 (n= 190)\",\"sex1fox1_degron_young_2025 (n= 190)\",\"sex1fox1_degron_young_2025 (n= 190)\",\"sex1fox1_degron_young_2025 (n= 190)\",\"sex1fox1_degron_young_2025 (n= 190)\",\"sex1fox1_degron_young_2025 (n= 190)\",\"sex1fox1_degron_young_2025 (n= 190)\",\"sex1fox1_degron_young_2025 (n= 190)\",\"sex1fox1_degron_young_2025 (n= 190)\",\"sex1fox1_degron_young_2025 (n= 190)\",\"sex1fox1_degron_young_2025 (n= 190)\",\"sex1fox1_degron_young_2025 (n= 190)\",\"sex1fox1_degron_young_2025 (n= 190)\",\"sex1fox1_degron_young_2025 (n= 190)\",\"sex1fox1_degron_young_2025 (n= 190)\",\"sex1fox1_degron_young_2025 (n= 190)\",\"sex1fox1_degron_young_2025 (n= 190)\",\"sex1fox1_degron_young_2025 (n= 190)\",\"sex1fox1_degron_young_2025 (n= 190)\",\"sex1fox1_degron_young_2025 (n= 190)\",\"sex1fox1_degron_young_2025 (n= 190)\",\"sex1fox1_degron_young_2025 (n= 190)\",\"sex1fox1_degron_young_2025 (n= 190)\",\"sex1fox1_degron_young_2025 (n= 190)\",\"sex1fox1_degron_young_2025 (n= 190)\",\"sex1fox1_degron_young_2025 (n= 190)\",\"sex1fox1_degron_young_2025 (n= 190)\",\"sex1fox1_degron_young_2025 (n= 190)\",\"sex1fox1_degron_young_2025 (n= 190)\",\"sex1fox1_degron_young_2025 (n= 190)\",\"sex1fox1_degron_young_2025 (n= 190)\",\"sex1fox1_degron_young_2025 (n= 190)\",\"sex1fox1_degron_young_2025 (n= 190)\",\"sex1fox1_degron_young_2025 (n= 190)\",\"sex1fox1_degron_young_2025 (n= 190)\",\"sex1fox1_degron_young_2025 (n= 190)\",\"sex1fox1_degron_young_2025 (n= 190)\",\"sex1fox1_degron_young_2025 (n= 190)\",\"sex1fox1_degron_young_2025 (n= 190)\",\"sex1fox1_degron_young_2025 (n= 190)\",\"sex1fox1_degron_young_2025 (n= 190)\",\"sex1fox1_degron_young_2025 (n= 190)\",\"sex1fox1_degron_young_2025 (n= 190)\",\"sex1fox1_degron_young_2025 (n= 190)\",\"sex1fox1_degron_young_2025 (n= 190)\",\"sex1fox1_degron_young_2025 (n= 190)\",\"sex1fox1_degron_young_2025 (n= 190)\",\"sex1fox1_degron_young_2025 (n= 190)\",\"sex1fox1_degron_young_2025 (n= 190)\",\"sex1fox1_degron_young_2025 (n= 190)\",\"sex1fox1_degron_young_2025 (n= 190)\",\"sex1fox1_degron_young_2025 (n= 190)\",\"sex1fox1_degron_young_2025 (n= 190)\",\"sex1fox1_degron_young_2025 (n= 190)\",\"sex1fox1_degron_young_2025 (n= 190)\",\"sex1fox1_degron_young_2025 (n= 190)\",\"sex1fox1_degron_young_2025 (n= 190)\",\"sex1fox1_degron_young_2025 (n= 190)\",\"sex1fox1_degron_young_2025 (n= 190)\",\"sex1fox1_degron_young_2025 (n= 190)\",\"sex1fox1_degron_young_2025 (n= 190)\",\"sex1fox1_degron_young_2025 (n= 190)\",\"sex1fox1_degron_young_2025 (n= 190)\",\"sex1fox1_degron_young_2025 (n= 190)\",\"sex1fox1_degron_young_2025 (n= 190)\",\"sex1fox1_degron_young_2025 (n= 190)\",\"sex1fox1_degron_young_2025 (n= 190)\",\"sex1fox1_degron_young_2025 (n= 190)\",\"sex1fox1_degron_young_2025 (n= 190)\",\"sex1fox1_degron_young_2025 (n= 190)\",\"sex1fox1_degron_young_2025 (n= 190)\",\"sex1fox1_degron_young_2025 (n= 190)\",\"sex1fox1_degron_young_2025 (n= 190)\",\"sex1fox1_degron_young_2025 (n= 190)\",\"sex1fox1_degron_young_2025 (n= 190)\",\"sex1fox1_degron_young_2025 (n= 190)\"],\"y\":[5,3,2,4,8,368,97,10,2,382,320,3,46,12,65,2,8,58,24,323,5,8,121,136,37,90,6,1,17,14,338,283,15,13,22,1,21,5,304,68,314,256,125,12,37,381,25,14,147,53,13,58,18,8,106,4,1,187,96,82,97,322,10,3,19,1,3,10,62,6,14,33,1,14,6,14,1,83,161,47,6,54,26,3,117,50,26,10,3,65,27,322,40,421,231,7,16,6,6,13,25,46,7,6,155,88,11,2,235,27,280,15,37,22,66,194,12,45,101,22,202,2,69,10,19,118,170,6,5,178,88,1,54,186,354,375,10,130,348,179,27,4,67,44,100,244,23,12,9,11,4,83,61,31,14,25,201,2,6,3,4,307,2,1,81,14,182,48,13,29,5,47,2,56,50,6,134,5,28,105,19,43,40,85,28,3,1,25,39,43],\"type\":\"violin\"}],                        {\"template\":{\"data\":{\"histogram2dcontour\":[{\"type\":\"histogram2dcontour\",\"colorbar\":{\"outlinewidth\":0,\"ticks\":\"\"},\"colorscale\":[[0.0,\"#0d0887\"],[0.1111111111111111,\"#46039f\"],[0.2222222222222222,\"#7201a8\"],[0.3333333333333333,\"#9c179e\"],[0.4444444444444444,\"#bd3786\"],[0.5555555555555556,\"#d8576b\"],[0.6666666666666666,\"#ed7953\"],[0.7777777777777778,\"#fb9f3a\"],[0.8888888888888888,\"#fdca26\"],[1.0,\"#f0f921\"]]}],\"choropleth\":[{\"type\":\"choropleth\",\"colorbar\":{\"outlinewidth\":0,\"ticks\":\"\"}}],\"histogram2d\":[{\"type\":\"histogram2d\",\"colorbar\":{\"outlinewidth\":0,\"ticks\":\"\"},\"colorscale\":[[0.0,\"#0d0887\"],[0.1111111111111111,\"#46039f\"],[0.2222222222222222,\"#7201a8\"],[0.3333333333333333,\"#9c179e\"],[0.4444444444444444,\"#bd3786\"],[0.5555555555555556,\"#d8576b\"],[0.6666666666666666,\"#ed7953\"],[0.7777777777777778,\"#fb9f3a\"],[0.8888888888888888,\"#fdca26\"],[1.0,\"#f0f921\"]]}],\"heatmap\":[{\"type\":\"heatmap\",\"colorbar\":{\"outlinewidth\":0,\"ticks\":\"\"},\"colorscale\":[[0.0,\"#0d0887\"],[0.1111111111111111,\"#46039f\"],[0.2222222222222222,\"#7201a8\"],[0.3333333333333333,\"#9c179e\"],[0.4444444444444444,\"#bd3786\"],[0.5555555555555556,\"#d8576b\"],[0.6666666666666666,\"#ed7953\"],[0.7777777777777778,\"#fb9f3a\"],[0.8888888888888888,\"#fdca26\"],[1.0,\"#f0f921\"]]}],\"heatmapgl\":[{\"type\":\"heatmapgl\",\"colorbar\":{\"outlinewidth\":0,\"ticks\":\"\"},\"colorscale\":[[0.0,\"#0d0887\"],[0.1111111111111111,\"#46039f\"],[0.2222222222222222,\"#7201a8\"],[0.3333333333333333,\"#9c179e\"],[0.4444444444444444,\"#bd3786\"],[0.5555555555555556,\"#d8576b\"],[0.6666666666666666,\"#ed7953\"],[0.7777777777777778,\"#fb9f3a\"],[0.8888888888888888,\"#fdca26\"],[1.0,\"#f0f921\"]]}],\"contourcarpet\":[{\"type\":\"contourcarpet\",\"colorbar\":{\"outlinewidth\":0,\"ticks\":\"\"}}],\"contour\":[{\"type\":\"contour\",\"colorbar\":{\"outlinewidth\":0,\"ticks\":\"\"},\"colorscale\":[[0.0,\"#0d0887\"],[0.1111111111111111,\"#46039f\"],[0.2222222222222222,\"#7201a8\"],[0.3333333333333333,\"#9c179e\"],[0.4444444444444444,\"#bd3786\"],[0.5555555555555556,\"#d8576b\"],[0.6666666666666666,\"#ed7953\"],[0.7777777777777778,\"#fb9f3a\"],[0.8888888888888888,\"#fdca26\"],[1.0,\"#f0f921\"]]}],\"surface\":[{\"type\":\"surface\",\"colorbar\":{\"outlinewidth\":0,\"ticks\":\"\"},\"colorscale\":[[0.0,\"#0d0887\"],[0.1111111111111111,\"#46039f\"],[0.2222222222222222,\"#7201a8\"],[0.3333333333333333,\"#9c179e\"],[0.4444444444444444,\"#bd3786\"],[0.5555555555555556,\"#d8576b\"],[0.6666666666666666,\"#ed7953\"],[0.7777777777777778,\"#fb9f3a\"],[0.8888888888888888,\"#fdca26\"],[1.0,\"#f0f921\"]]}],\"mesh3d\":[{\"type\":\"mesh3d\",\"colorbar\":{\"outlinewidth\":0,\"ticks\":\"\"}}],\"scatter\":[{\"marker\":{\"line\":{\"color\":\"#283442\"}},\"type\":\"scatter\"}],\"parcoords\":[{\"type\":\"parcoords\",\"line\":{\"colorbar\":{\"outlinewidth\":0,\"ticks\":\"\"}}}],\"scatterpolargl\":[{\"type\":\"scatterpolargl\",\"marker\":{\"colorbar\":{\"outlinewidth\":0,\"ticks\":\"\"}}}],\"bar\":[{\"error_x\":{\"color\":\"#f2f5fa\"},\"error_y\":{\"color\":\"#f2f5fa\"},\"marker\":{\"line\":{\"color\":\"rgb(17,17,17)\",\"width\":0.5},\"pattern\":{\"fillmode\":\"overlay\",\"size\":10,\"solidity\":0.2}},\"type\":\"bar\"}],\"scattergeo\":[{\"type\":\"scattergeo\",\"marker\":{\"colorbar\":{\"outlinewidth\":0,\"ticks\":\"\"}}}],\"scatterpolar\":[{\"type\":\"scatterpolar\",\"marker\":{\"colorbar\":{\"outlinewidth\":0,\"ticks\":\"\"}}}],\"histogram\":[{\"marker\":{\"pattern\":{\"fillmode\":\"overlay\",\"size\":10,\"solidity\":0.2}},\"type\":\"histogram\"}],\"scattergl\":[{\"marker\":{\"line\":{\"color\":\"#283442\"}},\"type\":\"scattergl\"}],\"scatter3d\":[{\"type\":\"scatter3d\",\"line\":{\"colorbar\":{\"outlinewidth\":0,\"ticks\":\"\"}},\"marker\":{\"colorbar\":{\"outlinewidth\":0,\"ticks\":\"\"}}}],\"scattermapbox\":[{\"type\":\"scattermapbox\",\"marker\":{\"colorbar\":{\"outlinewidth\":0,\"ticks\":\"\"}}}],\"scatterternary\":[{\"type\":\"scatterternary\",\"marker\":{\"colorbar\":{\"outlinewidth\":0,\"ticks\":\"\"}}}],\"scattercarpet\":[{\"type\":\"scattercarpet\",\"marker\":{\"colorbar\":{\"outlinewidth\":0,\"ticks\":\"\"}}}],\"carpet\":[{\"aaxis\":{\"endlinecolor\":\"#A2B1C6\",\"gridcolor\":\"#506784\",\"linecolor\":\"#506784\",\"minorgridcolor\":\"#506784\",\"startlinecolor\":\"#A2B1C6\"},\"baxis\":{\"endlinecolor\":\"#A2B1C6\",\"gridcolor\":\"#506784\",\"linecolor\":\"#506784\",\"minorgridcolor\":\"#506784\",\"startlinecolor\":\"#A2B1C6\"},\"type\":\"carpet\"}],\"table\":[{\"cells\":{\"fill\":{\"color\":\"#506784\"},\"line\":{\"color\":\"rgb(17,17,17)\"}},\"header\":{\"fill\":{\"color\":\"#2a3f5f\"},\"line\":{\"color\":\"rgb(17,17,17)\"}},\"type\":\"table\"}],\"barpolar\":[{\"marker\":{\"line\":{\"color\":\"rgb(17,17,17)\",\"width\":0.5},\"pattern\":{\"fillmode\":\"overlay\",\"size\":10,\"solidity\":0.2}},\"type\":\"barpolar\"}],\"pie\":[{\"automargin\":true,\"type\":\"pie\"}]},\"layout\":{\"autotypenumbers\":\"strict\",\"colorway\":[\"#636efa\",\"#EF553B\",\"#00cc96\",\"#ab63fa\",\"#FFA15A\",\"#19d3f3\",\"#FF6692\",\"#B6E880\",\"#FF97FF\",\"#FECB52\"],\"font\":{\"color\":\"#f2f5fa\"},\"hovermode\":\"closest\",\"hoverlabel\":{\"align\":\"left\"},\"paper_bgcolor\":\"rgb(17,17,17)\",\"plot_bgcolor\":\"rgb(17,17,17)\",\"polar\":{\"bgcolor\":\"rgb(17,17,17)\",\"angularaxis\":{\"gridcolor\":\"#506784\",\"linecolor\":\"#506784\",\"ticks\":\"\"},\"radialaxis\":{\"gridcolor\":\"#506784\",\"linecolor\":\"#506784\",\"ticks\":\"\"}},\"ternary\":{\"bgcolor\":\"rgb(17,17,17)\",\"aaxis\":{\"gridcolor\":\"#506784\",\"linecolor\":\"#506784\",\"ticks\":\"\"},\"baxis\":{\"gridcolor\":\"#506784\",\"linecolor\":\"#506784\",\"ticks\":\"\"},\"caxis\":{\"gridcolor\":\"#506784\",\"linecolor\":\"#506784\",\"ticks\":\"\"}},\"coloraxis\":{\"colorbar\":{\"outlinewidth\":0,\"ticks\":\"\"}},\"colorscale\":{\"sequential\":[[0.0,\"#0d0887\"],[0.1111111111111111,\"#46039f\"],[0.2222222222222222,\"#7201a8\"],[0.3333333333333333,\"#9c179e\"],[0.4444444444444444,\"#bd3786\"],[0.5555555555555556,\"#d8576b\"],[0.6666666666666666,\"#ed7953\"],[0.7777777777777778,\"#fb9f3a\"],[0.8888888888888888,\"#fdca26\"],[1.0,\"#f0f921\"]],\"sequentialminus\":[[0.0,\"#0d0887\"],[0.1111111111111111,\"#46039f\"],[0.2222222222222222,\"#7201a8\"],[0.3333333333333333,\"#9c179e\"],[0.4444444444444444,\"#bd3786\"],[0.5555555555555556,\"#d8576b\"],[0.6666666666666666,\"#ed7953\"],[0.7777777777777778,\"#fb9f3a\"],[0.8888888888888888,\"#fdca26\"],[1.0,\"#f0f921\"]],\"diverging\":[[0,\"#8e0152\"],[0.1,\"#c51b7d\"],[0.2,\"#de77ae\"],[0.3,\"#f1b6da\"],[0.4,\"#fde0ef\"],[0.5,\"#f7f7f7\"],[0.6,\"#e6f5d0\"],[0.7,\"#b8e186\"],[0.8,\"#7fbc41\"],[0.9,\"#4d9221\"],[1,\"#276419\"]]},\"xaxis\":{\"gridcolor\":\"#283442\",\"linecolor\":\"#506784\",\"ticks\":\"\",\"title\":{\"standoff\":15},\"zerolinecolor\":\"#283442\",\"automargin\":true,\"zerolinewidth\":2},\"yaxis\":{\"gridcolor\":\"#283442\",\"linecolor\":\"#506784\",\"ticks\":\"\",\"title\":{\"standoff\":15},\"zerolinecolor\":\"#283442\",\"automargin\":true,\"zerolinewidth\":2},\"scene\":{\"xaxis\":{\"backgroundcolor\":\"rgb(17,17,17)\",\"gridcolor\":\"#506784\",\"linecolor\":\"#506784\",\"showbackground\":true,\"ticks\":\"\",\"zerolinecolor\":\"#C8D4E3\",\"gridwidth\":2},\"yaxis\":{\"backgroundcolor\":\"rgb(17,17,17)\",\"gridcolor\":\"#506784\",\"linecolor\":\"#506784\",\"showbackground\":true,\"ticks\":\"\",\"zerolinecolor\":\"#C8D4E3\",\"gridwidth\":2},\"zaxis\":{\"backgroundcolor\":\"rgb(17,17,17)\",\"gridcolor\":\"#506784\",\"linecolor\":\"#506784\",\"showbackground\":true,\"ticks\":\"\",\"zerolinecolor\":\"#C8D4E3\",\"gridwidth\":2}},\"shapedefaults\":{\"line\":{\"color\":\"#f2f5fa\"}},\"annotationdefaults\":{\"arrowcolor\":\"#f2f5fa\",\"arrowhead\":0,\"arrowwidth\":1},\"geo\":{\"bgcolor\":\"rgb(17,17,17)\",\"landcolor\":\"rgb(17,17,17)\",\"subunitcolor\":\"#506784\",\"showland\":true,\"showlakes\":true,\"lakecolor\":\"rgb(17,17,17)\"},\"title\":{\"x\":0.05},\"updatemenudefaults\":{\"bgcolor\":\"#506784\",\"borderwidth\":0},\"sliderdefaults\":{\"bgcolor\":\"#C8D4E3\",\"borderwidth\":1,\"bordercolor\":\"rgb(17,17,17)\",\"tickwidth\":0},\"mapbox\":{\"style\":\"dark\"}}},\"annotations\":[{\"font\":{\"color\":\"white\"},\"showarrow\":false,\"text\":\"25.7\",\"x\":\"N2_young_2025 (n= 163)\",\"y\":25.711656441717793},{\"font\":{\"color\":\"white\"},\"showarrow\":false,\"text\":\"45.6\",\"x\":\"sex1_degron_young_2025 (n= 161)\",\"y\":45.608695652173914},{\"font\":{\"color\":\"white\"},\"showarrow\":false,\"text\":\"74.5\",\"x\":\"sex1ceh39_degron_young_2025 (n= 125)\",\"y\":74.48},{\"font\":{\"color\":\"white\"},\"showarrow\":false,\"text\":\"72.9\",\"x\":\"sex1fox1_degron_young_2025 (n= 190)\",\"y\":72.92631578947369}],\"xaxis\":{\"title\":{\"text\":\"Source File\",\"font\":{\"color\":\"white\"}},\"tickfont\":{\"color\":\"white\"}},\"yaxis\":{\"title\":{\"text\":\"Nuclei Count per Cell\",\"font\":{\"color\":\"white\"}},\"tickfont\":{\"color\":\"white\"}},\"legend\":{\"font\":{\"color\":\"white\"}},\"paper_bgcolor\":\"rgba(0,0,0,0)\",\"plot_bgcolor\":\"rgba(0,0,0,0)\",\"width\":800},                        {\"responsive\": true}                    ).then(function(){\n",
       "                            \n",
       "var gd = document.getElementById('5793d1df-568a-427f-bea2-08b6ccd5e17e');\n",
       "var x = new MutationObserver(function (mutations, observer) {{\n",
       "        var display = window.getComputedStyle(gd).display;\n",
       "        if (!display || display === 'none') {{\n",
       "            console.log([gd, 'removed!']);\n",
       "            Plotly.purge(gd);\n",
       "            observer.disconnect();\n",
       "        }}\n",
       "}});\n",
       "\n",
       "// Listen for the removal of the full notebook cells\n",
       "var notebookContainer = gd.closest('#notebook-container');\n",
       "if (notebookContainer) {{\n",
       "    x.observe(notebookContainer, {childList: true});\n",
       "}}\n",
       "\n",
       "// Listen for the clearing of the current output cell\n",
       "var outputEl = gd.closest('.output');\n",
       "if (outputEl) {{\n",
       "    x.observe(outputEl, {childList: true});\n",
       "}}\n",
       "\n",
       "                        })                };                });            </script>        </div>"
      ]
     },
     "metadata": {},
     "output_type": "display_data"
    }
   ],
   "source": [
    "fig3 = go.Figure()\n",
    "\n",
    "# Loop over each source_file to create a violin plot trace and add a median annotation.\n",
    "for src in grouped['source_file'].unique():\n",
    "    df_sub = grouped[grouped['source_file'] == src]\n",
    "    cell_count = len(df_sub)\n",
    "    # Update the label as described.\n",
    "    if \"_stats\" in src:\n",
    "        label = src.replace(\"_stats\", f\" (n= {cell_count})\")\n",
    "    else:\n",
    "        label = f\"{src} (n= {cell_count})\"\n",
    "    \n",
    "    # Use the updated label for the x-values so that the category reflects the new label.\n",
    "    fig3.add_trace(go.Violin(\n",
    "        x=[label] * len(df_sub),\n",
    "        y=df_sub['nuclei_count'],\n",
    "        name=label,\n",
    "        box_visible=True,\n",
    "        meanline_visible=True\n",
    "    ))\n",
    "    median_value = df_sub['nuclei_count'].median()\n",
    "    mean_value = df_sub['nuclei_count'].mean()\n",
    "    fig3.add_annotation(\n",
    "        x=label,\n",
    "        y=mean_value,\n",
    "        text=f\"{mean_value:.1f}\",\n",
    "        showarrow=False,\n",
    "        font=dict(color=\"white\")\n",
    "    )\n",
    "\n",
    "fig3.update_layout(\n",
    "    paper_bgcolor='rgba(0,0,0,0)',\n",
    "    plot_bgcolor='rgba(0,0,0,0)',\n",
    "    xaxis=dict(\n",
    "        title=\"Source File\",\n",
    "        titlefont=dict(color='white'),\n",
    "        tickfont=dict(color='white')\n",
    "    ),\n",
    "    yaxis=dict(\n",
    "        title=\"Nuclei Count per Cell\",\n",
    "        titlefont=dict(color='white'),\n",
    "        tickfont=dict(color='white')\n",
    "    ),\n",
    "    legend=dict(font=dict(color='white'))\n",
    ")\n",
    "\n",
    "# set width to 800\n",
    "fig3.update_layout(width=800)\n",
    "fig3.show()\n",
    "\n",
    "# save the figure to png and svg\n",
    "fig3.write_image(output_dir / \"aging_01_31_2025_violin_plot.png\")\n",
    "fig3.write_image(output_dir / \"aging_01_31_2025_violin_plot.svg\")\n"
   ]
  },
  {
   "cell_type": "code",
   "id": "ecb21764b1c063d1",
   "metadata": {
    "collapsed": false
   },
   "outputs": [],
   "source": []
  }
 ],
 "metadata": {
  "kernelspec": {
   "display_name": "Python 3",
   "language": "python",
   "name": "python3"
  },
  "language_info": {
   "codemirror_mode": {
    "name": "ipython",
    "version": 2
   },
   "file_extension": ".py",
   "mimetype": "text/x-python",
   "name": "python",
   "nbconvert_exporter": "python",
   "pygments_lexer": "ipython2",
   "version": "2.7.6"
  }
 },
 "nbformat": 4,
 "nbformat_minor": 5
}
