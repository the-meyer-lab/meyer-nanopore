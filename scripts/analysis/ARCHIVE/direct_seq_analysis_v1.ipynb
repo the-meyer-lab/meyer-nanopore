{
 "cells": [
  {
   "cell_type": "code",
   "execution_count": 1,
   "id": "120f3639",
   "metadata": {
    "collapsed": false
   },
   "outputs": [],
   "source": [
    "# Purpose of this notebook is the analysis of Direct RNA-seq datasets\n",
    "# Author: Yuri Malina\n",
    "# Date: 4/13/2023\n",
    "\n",
    "### Requires:\n",
    "# wget https://downloads.wormbase.org/releases/WS265/species/c_elegans/PRJNA13758/c_elegans.PRJNA13758.WS265.mRNA_transcripts.fa.gz\n",
    "# gunzip c_elegans.PRJNA13758.WS265.mRNA_transcripts.fa.gz\n",
    "# wget https://downloads.wormbase.org/releases/WS265/species/c_elegans/PRJNA13758/c_elegans.PRJNA13758.WS265.canonical_geneset.gtf.gz\n",
    "# gunzip c_elegans.PRJNA13758.WS265.canonical_geneset.gtf.gz"
   ]
  },
  {
   "cell_type": "code",
   "execution_count": 7,
   "id": "ddeb334f",
   "metadata": {
    "ExecuteTime": {
     "end_time": "2023-05-03T17:16:55.901872Z",
     "start_time": "2023-05-03T17:16:55.829856Z"
    },
    "collapsed": false
   },
   "outputs": [],
   "source": [
    "# Import necessary packages\n",
    "import pandas\n",
    "import numpy\n",
    "import plotly.express as px\n",
    "import plotly.graph_objects as go\n",
    "import pysam"
   ]
  },
  {
   "cell_type": "code",
   "execution_count": 17,
   "id": "8472dcc7",
   "metadata": {
    "ExecuteTime": {
     "end_time": "2023-05-03T17:22:39.505269Z",
     "start_time": "2023-05-03T17:22:39.080140Z"
    },
    "collapsed": false
   },
   "outputs": [],
   "source": [
    "# import csv file into pandas dataframe\n",
    "polya_tsv_df = pandas.read_csv(\"/Data1/emmab/data/s_cer/polya_results.tsv\", sep=\"\\t\")\n",
    "bamfile = pysam.AlignmentFile('/Data1/emmab/data/s_cer/xol1_null_scer.sorted.bam', 'rb')\n"
   ]
  },
  {
   "cell_type": "code",
   "execution_count": 20,
   "id": "a67b4c27",
   "metadata": {
    "collapsed": false
   },
   "outputs": [
    {
     "name": "stdout",
     "output_type": "stream",
     "text": [
      "[('NM', 80), ('ms', 1087), ('AS', 1078), ('nn', 0), ('ts', '+'), ('tp', 'P'), ('cm', 228), ('s1', 1007), ('s2', 695), ('de', 0.04490000009536743), ('rl', 0)]\n",
      "[('NM', 105), ('ms', 1015), ('AS', 1001), ('nn', 0), ('ts', '+'), ('tp', 'P'), ('cm', 187), ('s1', 883), ('s2', 597), ('de', 0.05979999899864197), ('rl', 0)]\n",
      "[('NM', 79), ('ms', 1087), ('AS', 1079), ('nn', 0), ('ts', '+'), ('tp', 'P'), ('cm', 230), ('s1', 1015), ('s2', 662), ('de', 0.046799998730421066), ('rl', 0)]\n",
      "[('NM', 81), ('ms', 1068), ('AS', 1061), ('nn', 0), ('ts', '+'), ('tp', 'P'), ('cm', 235), ('s1', 1027), ('s2', 716), ('de', 0.04960000142455101), ('rl', 0)]\n",
      "[('NM', 120), ('ms', 977), ('AS', 964), ('nn', 0), ('ts', '+'), ('tp', 'P'), ('cm', 184), ('s1', 843), ('s2', 626), ('de', 0.06859999895095825), ('rl', 0)]\n",
      "[('NM', 89), ('ms', 1071), ('AS', 1061), ('nn', 0), ('ts', '+'), ('tp', 'P'), ('cm', 227), ('s1', 1004), ('s2', 678), ('de', 0.050700001418590546), ('rl', 0)]\n",
      "[('NM', 132), ('ms', 946), ('AS', 933), ('nn', 0), ('ts', '+'), ('tp', 'P'), ('cm', 183), ('s1', 857), ('s2', 610), ('de', 0.07840000092983246), ('rl', 0)]\n",
      "[('NM', 101), ('ms', 1010), ('AS', 1003), ('nn', 0), ('ts', '+'), ('tp', 'P'), ('cm', 198), ('s1', 912), ('s2', 618), ('de', 0.06379999965429306), ('rl', 0)]\n",
      "[('NM', 77), ('ms', 1093), ('AS', 1085), ('nn', 0), ('ts', '+'), ('tp', 'P'), ('cm', 246), ('s1', 1043), ('s2', 757), ('de', 0.04619999974966049), ('rl', 0)]\n",
      "[('NM', 91), ('ms', 1057), ('AS', 1046), ('nn', 0), ('ts', '+'), ('tp', 'P'), ('cm', 230), ('s1', 1001), ('s2', 713), ('de', 0.051100000739097595), ('rl', 0)]\n"
     ]
    },
    {
     "ename": "KeyError",
     "evalue": "\"tag 'SA' not present\"",
     "output_type": "error",
     "traceback": [
      "\u001b[0;31m---------------------------------------------------------------------------\u001b[0m",
      "\u001b[0;31mKeyError\u001b[0m                                  Traceback (most recent call last)",
      "Cell \u001b[0;32mIn[20], line 15\u001b[0m\n\u001b[1;32m     12\u001b[0m \u001b[38;5;66;03m# Iterate over each read in the .bam file\u001b[39;00m\n\u001b[1;32m     13\u001b[0m \u001b[38;5;28;01mfor\u001b[39;00m read \u001b[38;5;129;01min\u001b[39;00m bamfile:\n\u001b[1;32m     14\u001b[0m     \u001b[38;5;66;03m# Get the gene name from the read's tags\u001b[39;00m\n\u001b[0;32m---> 15\u001b[0m     gene_name \u001b[38;5;241m=\u001b[39m read\u001b[38;5;241m.\u001b[39mget_tag(\u001b[38;5;124m'\u001b[39m\u001b[38;5;124mSA\u001b[39m\u001b[38;5;124m'\u001b[39m)\n\u001b[1;32m     16\u001b[0m     \u001b[38;5;28mprint\u001b[39m(gene_name)\n\u001b[1;32m     18\u001b[0m     \u001b[38;5;66;03m# Increment the transcript count for this gene\u001b[39;00m\n",
      "File \u001b[0;32mpysam/libcalignedsegment.pyx:2503\u001b[0m, in \u001b[0;36mpysam.libcalignedsegment.AlignedSegment.get_tag\u001b[0;34m()\u001b[0m\n",
      "File \u001b[0;32mpysam/libcalignedsegment.pyx:2542\u001b[0m, in \u001b[0;36mpysam.libcalignedsegment.AlignedSegment.get_tag\u001b[0;34m()\u001b[0m\n",
      "\u001b[0;31mKeyError\u001b[0m: \"tag 'SA' not present\""
     ]
    }
   ],
   "source": [
    "# Create an empty DataFrame to store the gene counts\n",
    "gene_counts = pandas.DataFrame(columns=['Gene', 'Transcript Count'])\n",
    "\n",
    "for i, read in enumerate(bamfile):\n",
    "    if i >= 10:\n",
    "        break\n",
    "\n",
    "    # Print out the tags for this read\n",
    "    print(read.tags)\n",
    "\n",
    "\n",
    "# Iterate over each read in the .bam file\n",
    "for read in bamfile:\n",
    "    # Get the gene name from the read's tags\n",
    "    gene_name = read.get_tag('SA')\n",
    "    print(gene_name)\n",
    "\n",
    "    # Increment the transcript count for this gene\n",
    "    if gene_name in gene_counts['Gene'].values:\n",
    "        gene_counts.loc[gene_counts['Gene'] == gene_name, 'Transcript Count'] += 1\n",
    "    else:\n",
    "        #Append new gene to the DataFrame\n",
    "        gene_counts = gene_counts.concat([pandas.DataFrame({'Gene': gene_name, 'Transcript Count': 1})], ignore_index=True)\n",
    "        #gene_counts = gene_counts.append({'Gene': gene_name, 'Transcript Count': 1}, ignore_index=True)\n",
    "\n",
    "# Close the .bam file\n",
    "bamfile.close()\n",
    "\n",
    "# Print the gene counts\n",
    "print(gene_counts)"
   ]
  },
  {
   "cell_type": "code",
   "execution_count": null,
   "id": "1a4ed5f8",
   "metadata": {
    "collapsed": false
   },
   "outputs": [],
   "source": [
    "\n",
    "#pandasgui.show(polya_tsv_df)\n",
    "print(polya_tsv_df.head())\n",
    "\n",
    "# import .gtf reference file into pandas dataframe\n",
    "gtf_df = pandas.read_csv(\"/Data1/emmab/reference/c_elegans.PRJNA13758.WS265.canonical_geneset.gtf\", sep=\"\\t\",skiprows=1,header=None,names=[\"seqname\",\"source\",\"feature\",\"start\",\"end\",\"score\",\"strand\",\"frame\",\"attribute\"])\n",
    "\n",
    "#Convert the attribute column into seperate columnes\n",
    "gtf_df = gtf_df.join(gtf_df[\"attribute\"].str.split(\";\",expand=True).add_prefix(\"attribute_\"))\n",
    "print(gtf_df.head())"
   ]
  }
 ],
 "metadata": {
  "kernelspec": {
   "display_name": "Python 3 (ipykernel)",
   "language": "python",
   "name": "python3"
  },
  "language_info": {
   "codemirror_mode": {
    "name": "ipython",
    "version": 3
   },
   "file_extension": ".py",
   "mimetype": "text/x-python",
   "name": "python",
   "nbconvert_exporter": "python",
   "pygments_lexer": "ipython3",
   "version": "3.8.16"
  }
 },
 "nbformat": 4,
 "nbformat_minor": 5
}
