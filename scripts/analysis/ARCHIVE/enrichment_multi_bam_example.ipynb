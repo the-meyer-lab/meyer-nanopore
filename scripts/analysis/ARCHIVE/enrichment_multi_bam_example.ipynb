{
 "cells": [
  {
   "cell_type": "code",
   "execution_count": null,
   "metadata": {},
   "outputs": [],
   "source": [
    "%matplotlib inline"
   ]
  },
  {
   "cell_type": "markdown",
   "metadata": {},
   "source": [
    "\n",
    "# Enrichment Plot Comparison Across BAMs\n",
    "\n",
    "Plot overall fraction of methylated bases within regions of interest specified by bed file across multiple samples.\n"
   ]
  },
  {
   "cell_type": "markdown",
   "metadata": {},
   "source": [
    "Create barplot comparing methylation levels in bed file regions of interest across samples\n",
    "\n"
   ]
  },
  {
   "cell_type": "markdown",
   "metadata": {},
   "source": [
    "## 1. Python option\n",
    "\n"
   ]
  },
  {
   "cell_type": "code",
   "execution_count": null,
   "metadata": {},
   "outputs": [],
   "source": [
    "import dimelo as dm\n",
    "\n",
    "bams = [\n",
    "    \"deep_ctcf_mod_mappings_merge.sorted.bam\",\n",
    "    \"hia5_mod_mappings.bam\",\n",
    "    \"igg_mod_mappings.bam\",\n",
    "]\n",
    "sampleNames = [\"CTCF\", \"Hia5\", \"IgG\"]\n",
    "bed = \"q10.150.slop.bed\"\n",
    "outDir = \"./out\"\n",
    "dm.plot_enrichment(bams, sampleNames, bed, \"A\", outDir, threshA=190)"
   ]
  },
  {
   "cell_type": "markdown",
   "metadata": {},
   "source": [
    "## 2. Command line option\n",
    "``dimelo-plot-enrichment -f deep_ctcf_mod_mappings_merge.sorted.bam hia5_mod_mappings.bam igg_mod_mappings.bam -s CTCF Hia5 IgG -b q10.150.slop.bed -m A -o ./out -A 190``\n",
    "\n"
   ]
  },
  {
   "cell_type": "markdown",
   "metadata": {},
   "source": [
    "## Output\n",
    ".. figure:: ../auto_examples/images/region_q10.150.slop_A_enrichment_barplot.png\n",
    "\n"
   ]
  }
 ],
 "metadata": {
  "kernelspec": {
   "display_name": "Python 3 (ipykernel)",
   "language": "python",
   "name": "python3"
  },
  "language_info": {
   "codemirror_mode": {
    "name": "ipython",
    "version": 3
   },
   "file_extension": ".py",
   "mimetype": "text/x-python",
   "name": "python",
   "nbconvert_exporter": "python",
   "pygments_lexer": "ipython3",
   "version": "3.11.2"
  }
 },
 "nbformat": 4,
 "nbformat_minor": 1
}
