{
 "cells": [
  {
   "cell_type": "code",
   "execution_count": 1,
   "id": "1192bf3d",
   "metadata": {
    "ExecuteTime": {
     "end_time": "2025-05-13T16:49:44.298047Z",
     "start_time": "2025-05-13T16:49:44.292565Z"
    }
   },
   "outputs": [
    {
     "data": {
      "text/html": [
       "<style>.container { width:100% !important; }</style>"
      ],
      "text/plain": [
       "<IPython.core.display.HTML object>"
      ]
     },
     "metadata": {},
     "output_type": "display_data"
    },
    {
     "data": {
      "text/html": [
       "<style>.output_result { max-width:100% !important; }</style>"
      ],
      "text/plain": [
       "<IPython.core.display.HTML object>"
      ]
     },
     "metadata": {},
     "output_type": "display_data"
    },
    {
     "data": {
      "text/html": [
       "<style>.prompt { display:none !important; }</style>"
      ],
      "text/plain": [
       "<IPython.core.display.HTML object>"
      ]
     },
     "metadata": {},
     "output_type": "display_data"
    }
   ],
   "source": [
    "from IPython.display import display, HTML\n",
    "display(HTML(\"<style>.container { width:100% !important; }</style>\"))\n",
    "display(HTML(\"<style>.output_result { max-width:100% !important; }</style>\"))\n",
    "display(HTML(\"<style>.prompt { display:none !important; }</style>\"))\n",
    "import pandas as pd"
   ]
  },
  {
   "cell_type": "markdown",
   "id": "966bfef4-d7f7-4cac-b18d-851211135d7f",
   "metadata": {},
   "source": [
    "# final code\n"
   ]
  },
  {
   "cell_type": "code",
   "execution_count": 4,
   "id": "5d1672d4-459b-44a7-b50c-48aa1086c0b6",
   "metadata": {
    "ExecuteTime": {
     "end_time": "2025-05-13T17:09:33.024214Z",
     "start_time": "2025-05-13T17:09:31.864830Z"
    }
   },
   "outputs": [],
   "source": [
    "import pandas as pd\n",
    "import numpy as np\n",
    "import os\n",
    "from itertools import combinations\n",
    "import matplotlib.pyplot as plt\n",
    "import seaborn as sns\n",
    "\n",
    "# Parameters\n",
    "N_BITS = 16\n",
    "WEIGHT = 4\n",
    "MIN_DIST = 4\n",
    "MAX_ROUND_ACTIVITY = 15\n",
    "N_TOTAL = 73\n",
    "N_PER_CHANNEL = 36\n",
    "SEED = 42\n",
    "\n",
    "# Primer sequences (uppercase)\n",
    "fw_primer = \"ATCCGTTAGGGCGCAAAGGTG\"\n",
    "rev_primer = \"GAGTCTCGCAATCCGAACCAT\"\n",
    "\n",
    "np.random.seed(SEED)\n",
    "\n",
    "\n",
    "# Load data\n",
    "# barcodes_df = pd.read_excel(\"barcodes.xlsx\")\n",
    "# probes_df = pd.read_excel(\"ORCA_target_upload_new.xlsx\")\n",
    "# fiducials_df = pd.read_excel(\"ORCA_fiducials.xlsx\")\n",
    "\n",
    "# now read in same files as csvs\n",
    "barcodes_df = pd.read_csv(\"/Data1/git/oligopaint-mrna-intron-matching/inputs/probes/ORCA/barcodes.csv\")\n",
    "probes_df = pd.read_csv(\"/Data1/git/oligopaint-mrna-intron-matching/inputs/probes/ORCA/ORCA_target_upload_new.csv\")\n",
    "fiducials_df = pd.read_csv(\"/Data1/git/oligopaint-mrna-intron-matching/inputs/probes/ORCA/ORCA_fiducials.csv\")\n",
    "\n",
    "barcodes_df = barcodes_df.dropna(subset=[\"barcodes\"]).copy()\n",
    "barcodes_df['barcodes'] = barcodes_df['barcodes'].astype(str).str.strip()\n",
    "all_barcodes = barcodes_df['barcodes'].unique().tolist()\n",
    "np.random.shuffle(all_barcodes)\n",
    "\n",
    "\n",
    "# Assign barcodes to fiducials\n",
    "\n",
    "fiducial_loci = fiducials_df['locus'].unique()\n",
    "assert len(fiducial_loci) == 7\n",
    "fiducial_barcodes = all_barcodes[:14]\n",
    "remaining_barcodes = all_barcodes[14:]\n",
    "\n",
    "fiducial_map = {\n",
    "    locus: {\n",
    "        'up': fiducial_barcodes[i],\n",
    "        'down': fiducial_barcodes[i + 1]\n",
    "    }\n",
    "    for i, locus in enumerate(fiducial_loci)\n",
    "}\n",
    "\n",
    "fiducials_df['upstream_barcode'] = fiducials_df['locus'].map(lambda x: fiducial_map[x]['up'].lower())\n",
    "fiducials_df['downstream_barcode'] = fiducials_df['locus'].map(lambda x: fiducial_map[x]['down'].lower())\n",
    "fiducials_df['barcode_appended_seq'] = (\n",
    "    fiducials_df['upstream_barcode'] + fiducials_df['seq'] + fiducials_df['downstream_barcode']\n",
    ")\n",
    "\n",
    "\n",
    "# Constant upstream barcodes\n",
    "\n",
    "constant_upstreams = remaining_barcodes[:2]\n",
    "green_const = constant_upstreams[0].lower()\n",
    "red_const = constant_upstreams[1].lower()\n",
    "remaining_barcodes = remaining_barcodes[2:]\n",
    "\n",
    "\n",
    "# Assign barcodes to MERFISH targets\n",
    "\n",
    "probes_df = probes_df.dropna(subset=[\"locus\", \"seq\"]).copy()\n",
    "loci = probes_df['locus'].unique().tolist()\n",
    "np.random.shuffle(loci)\n",
    "\n",
    "must_split_pairs = [(\"P-rex-23\", \"rex-43\"), (\"rex-46\", \"nDCC-20\")]\n",
    "fixed_green = [pair[0] for pair in must_split_pairs]\n",
    "fixed_red = [pair[1] for pair in must_split_pairs]\n",
    "remaining_loci = [l for l in loci if l not in fixed_green + fixed_red]\n",
    "np.random.shuffle(remaining_loci)\n",
    "\n",
    "green_loci = fixed_green + remaining_loci[:(N_PER_CHANNEL - len(fixed_green))]\n",
    "red_loci = fixed_red + remaining_loci[(N_PER_CHANNEL - len(fixed_green)):(N_TOTAL - len(fixed_green + fixed_red))]\n",
    "\n",
    "green_dna = remaining_barcodes[:len(green_loci)]\n",
    "red_dna = remaining_barcodes[len(green_loci):(len(green_loci) + len(red_loci))]\n",
    "\n",
    "\n",
    "# Binary barcode generation\n",
    "\n",
    "def generate_fixed_weight_codes(n_bits, weight):\n",
    "    return [np.array([1 if i in pos else 0 for i in range(n_bits)])\n",
    "            for pos in combinations(range(n_bits), weight)]\n",
    "\n",
    "def select_codes_with_round_limit(codes, min_distance, max_round_activity, num_required, n_bits):\n",
    "    selected = []\n",
    "    round_activity = np.zeros(n_bits, dtype=int)\n",
    "    for code in codes:\n",
    "        if all(np.sum(np.abs(code - c)) >= min_distance for c in selected):\n",
    "            if all((round_activity[i] + code[i]) <= max_round_activity for i in range(n_bits)):\n",
    "                selected.append(code)\n",
    "                round_activity += code\n",
    "        if len(selected) >= num_required:\n",
    "            break\n",
    "    return selected, round_activity\n",
    "\n",
    "all_codes = generate_fixed_weight_codes(N_BITS, WEIGHT)\n",
    "green_binary, _ = select_codes_with_round_limit(all_codes, MIN_DIST, MAX_ROUND_ACTIVITY, len(green_loci), N_BITS)\n",
    "remaining_codes = [c for c in all_codes if c.tolist() not in [g.tolist() for g in green_binary]]\n",
    "red_binary, _ = select_codes_with_round_limit(remaining_codes, MIN_DIST, MAX_ROUND_ACTIVITY, len(red_loci), N_BITS)\n",
    "\n",
    "green_map = {\n",
    "    locus: {\"dna\": green_dna[i], \"binary\": ''.join(map(str, green_binary[i]))}\n",
    "    for i, locus in enumerate(green_loci)\n",
    "}\n",
    "red_map = {\n",
    "    locus: {\"dna\": red_dna[i], \"binary\": ''.join(map(str, red_binary[i]))}\n",
    "    for i, locus in enumerate(red_loci)\n",
    "}\n",
    "\n",
    "\n",
    "# Append barcode to probe sequences\n",
    "\n",
    "probes_green = probes_df[probes_df['locus'].isin(green_map)].copy()\n",
    "probes_green = probes_green.merge(\n",
    "    pd.DataFrame.from_dict(green_map, orient='index').reset_index().rename(columns={'index': 'locus'}),\n",
    "    on='locus'\n",
    ")\n",
    "probes_green['channel'] = 'green'\n",
    "probes_green['barcode_appended_seq'] = green_const + probes_green['seq'] + probes_green['dna'].str.lower()\n",
    "\n",
    "probes_red = probes_df[probes_df['locus'].isin(red_map)].copy()\n",
    "probes_red = probes_red.merge(\n",
    "    pd.DataFrame.from_dict(red_map, orient='index').reset_index().rename(columns={'index': 'locus'}),\n",
    "    on='locus'\n",
    ")\n",
    "probes_red['channel'] = 'red'\n",
    "probes_red['barcode_appended_seq'] = red_const + probes_red['seq'] + probes_red['dna'].str.lower()\n",
    "\n",
    "\n",
    "# Save raw outputs\n",
    "\n",
    "# Save raw outputs\n",
    "\n",
    "os.makedirs(\"/Data1/git/oligopaint-mrna-intron-matching/outputs/ORCA/green\", exist_ok=True)\n",
    "os.makedirs(\"/Data1/git/oligopaint-mrna-intron-matching/outputs/ORCA/red\", exist_ok=True)\n",
    "\n",
    "# probes_green.to_excel(\"green/barcode_appended_probes_green.xlsx\", index=False)\n",
    "probes_green.to_csv(\"/Data1/git/oligopaint-mrna-intron-matching/outputs/ORCA/green/barcode_appended_probes_green.csv\", index=False)\n",
    "# probes_red.to_excel(\"red/barcode_appended_probes_red.xlsx\", index=False)\n",
    "probes_red.to_csv(\"/Data1/git/oligopaint-mrna-intron-matching/outputs/ORCA/red/barcode_appended_probes_red.csv\", index=False)\n",
    "# fiducials_df.to_excel(\"MERFISH_fiducial_barcoded.xlsx\", index=False)\n",
    "fiducials_df.to_csv(\"/Data1/git/oligopaint-mrna-intron-matching/outputs/ORCA/MERFISH_fiducial_barcoded.csv\", index=False)\n",
    "\n",
    "green_codebook = pd.DataFrame([\n",
    "    {'locus': locus, 'barcode': info['dna'], 'barcode_binary': info['binary']}\n",
    "    for locus, info in green_map.items()\n",
    "])\n",
    "red_codebook = pd.DataFrame([\n",
    "    {'locus': locus, 'barcode': info['dna'], 'barcode_binary': info['binary']}\n",
    "    for locus, info in red_map.items()\n",
    "])\n",
    "# green_codebook.to_excel(\"green/barcode_codebook_green.xlsx\", index=False)\n",
    "green_codebook.to_csv(\"/Data1/git/oligopaint-mrna-intron-matching/outputs/ORCA/green/barcode_codebook_green.csv\", index=False)\n",
    "# red_codebook.to_excel(\"red/barcode_codebook_red.xlsx\", index=False)\n",
    "red_codebook.to_csv(\"/Data1/git/oligopaint-mrna-intron-matching/outputs/ORCA/red/barcode_codebook_red.csv\", index=False)\n",
    "\n",
    "with open(\"/Data1/git/oligopaint-mrna-intron-matching/outputs/ORCA/constant_upstream_barcodes.txt\", \"w\") as f:\n",
    "    f.write(f\"Green constant upstream: {green_const.upper()}\\n\")\n",
    "    f.write(f\"Red constant upstream: {red_const.upper()}\\n\")\n",
    "\n",
    "\n",
    "# Visualizations \n",
    "\n",
    "def plot_barcode_heatmap(df, cmap, title, filename, fontsize=14):\n",
    "    matrix = np.array([list(map(int, list(x))) for x in df['barcode_binary']])\n",
    "    fig, ax = plt.subplots(figsize=(12, 9))\n",
    "    fig.patch.set_facecolor('black')\n",
    "    ax.set_facecolor('black')\n",
    "    sns.heatmap(matrix, cmap=cmap, cbar=True,\n",
    "                xticklabels=range(1, 17),\n",
    "                yticklabels=df['locus'],\n",
    "                ax=ax,\n",
    "                cbar_kws={'label': 'Activity'},\n",
    "                linecolor='gray', linewidths=0.1)\n",
    "    ax.set_title(title, fontsize=fontsize + 2, color='white')\n",
    "    ax.set_xlabel(\"Imaging Round\", fontsize=fontsize, color='white')\n",
    "    ax.set_ylabel(\"Locus\", fontsize=fontsize, color='white')\n",
    "    ax.tick_params(axis='both', labelsize=fontsize - 2, colors='white')\n",
    "    for spine in ax.spines.values():\n",
    "        spine.set_edgecolor('white')\n",
    "    plt.tight_layout()\n",
    "    plt.savefig(filename, facecolor='black')\n",
    "    plt.close()\n",
    "\n",
    "def plot_round_activity(df, title, filename, color, fontsize=14):\n",
    "    binary_list = df['barcode_binary'].tolist()\n",
    "    round_counts = np.sum(np.array([list(map(int, list(b))) for b in binary_list]), axis=0)\n",
    "    fig, ax = plt.subplots(figsize=(10, 4))\n",
    "    fig.patch.set_facecolor('black')\n",
    "    ax.set_facecolor('black')\n",
    "    ax.bar(range(1, 17), round_counts, color=color)\n",
    "    ax.set_title(title, fontsize=fontsize + 2, color='white')\n",
    "    ax.set_xlabel(\"Imaging Round\", fontsize=fontsize, color='white')\n",
    "    ax.set_ylabel(\"Active Barcodes\", fontsize=fontsize, color='white')\n",
    "    ax.set_xticks(range(1, 17))\n",
    "    ax.tick_params(axis='both', labelsize=fontsize - 2, colors='white')\n",
    "    for spine in ax.spines.values():\n",
    "        spine.set_edgecolor('white')\n",
    "    plt.tight_layout()\n",
    "    plt.savefig(filename, facecolor='black')\n",
    "    plt.close()\n",
    "\n",
    "plot_barcode_heatmap(green_codebook, cmap=\"OrRd\", filename=\"/Data1/git/oligopaint-mrna-intron-matching/outputs/ORCA/green/barcode_heatmap_green.png\",\n",
    "                     title=\"Green Channel Barcode Activation\")\n",
    "plot_round_activity(green_codebook, title=\"Green Channel Activity by Round\",\n",
    "                    filename=\"/Data1/git/oligopaint-mrna-intron-matching/outputs/ORCA/green/barcode_activity_green.png\", color=\"crimson\")\n",
    "\n",
    "plot_barcode_heatmap(red_codebook, cmap=\"RdPu\", filename=\"/Data1/git/oligopaint-mrna-intron-matching/outputs/ORCA/red/barcode_heatmap_red.png\",\n",
    "                     title=\"Red Channel Barcode Activation\")\n",
    "plot_round_activity(red_codebook, title=\"Red Channel Activity by Round\",\n",
    "                    filename=\"/Data1/git/oligopaint-mrna-intron-matching/outputs/ORCA/red/barcode_activity_red.png\", color=\"mediumvioletred\")\n",
    "\n",
    "\n",
    "# Logicbook export\n",
    "# Logicbook export\n",
    "\n",
    "def create_locus_round_table(codebook, filename):\n",
    "    matrix = np.array([list(map(int, list(x))) for x in codebook['barcode_binary']])\n",
    "    df_matrix = pd.DataFrame(\n",
    "        matrix,\n",
    "        index=codebook['locus'],\n",
    "        columns=[f\"Round_{i+1}\" for i in range(matrix.shape[1])]\n",
    "    )\n",
    "    # df_matrix.to_excel(filename)\n",
    "    df_matrix.to_csv(filename.replace(\".xlsx\", \".csv\"))\n",
    "\n",
    "# create_locus_round_table(green_codebook, \"green/locus_round_table_green.xlsx\")\n",
    "create_locus_round_table(green_codebook, \"/Data1/git/oligopaint-mrna-intron-matching/outputs/ORCA/green/locus_round_table_green.csv\")\n",
    "# create_locus_round_table(red_codebook, \"red/locus_round_table_red.xlsx\")\n",
    "create_locus_round_table(red_codebook, \"/Data1/git/oligopaint-mrna-intron-matching/outputs/ORCA/red/locus_round_table_red.csv\")\n",
    "\n",
    "# Append primers to final sequences (uppercase primers)\n",
    "\n",
    "# green_df = pd.read_excel(\"green/barcode_appended_probes_green.xlsx\")\n",
    "green_df = pd.read_csv(\"/Data1/git/oligopaint-mrna-intron-matching/outputs/ORCA/green/barcode_appended_probes_green.csv\")\n",
    "# red_df = pd.read_excel(\"red/barcode_appended_probes_red.xlsx\")\n",
    "red_df = pd.read_csv(\"/Data1/git/oligopaint-mrna-intron-matching/outputs/ORCA/red/barcode_appended_probes_red.csv\")\n",
    "# fid_df = pd.read_excel(\"MERFISH_fiducial_barcoded.xlsx\")\n",
    "fid_df = pd.read_csv(\"/Data1/git/oligopaint-mrna-intron-matching/outputs/ORCA/MERFISH_fiducial_barcoded.csv\")\n",
    "\n",
    "green_df['amplified_seq'] = fw_primer + green_df['barcode_appended_seq'] + rev_primer\n",
    "red_df['amplified_seq'] = fw_primer + red_df['barcode_appended_seq'] + rev_primer\n",
    "fid_df['amplified_seq'] = fw_primer + fid_df['barcode_appended_seq'] + rev_primer\n",
    "\n",
    "# green_df.to_excel(\"green/barcode_appended_probes_green_with_primers.xlsx\", index=False)\n",
    "green_df.to_csv(\"/Data1/git/oligopaint-mrna-intron-matching/outputs/ORCA/green/barcode_appended_probes_green_with_primers.csv\", index=False)\n",
    "# red_df.to_excel(\"red/barcode_appended_probes_red_with_primers.xlsx\", index=False)\n",
    "red_df.to_csv(\"/Data1/git/oligopaint-mrna-intron-matching/outputs/ORCA/red/barcode_appended_probes_red_with_primers.csv\", index=False)\n",
    "# fid_df.to_excel(\"MERFISH_fiducial_barcoded_with_primers.xlsx\", index=False)\n",
    "fid_df.to_csv(\"/Data1/git/oligopaint-mrna-intron-matching/outputs/ORCA/MERFISH_fiducial_barcoded_with_primers.csv\", index=False)\n"
   ]
  },
  {
   "cell_type": "code",
   "execution_count": 125,
   "id": "1ef7644061ab4eb9",
   "metadata": {
    "ExecuteTime": {
     "end_time": "2025-05-13T19:10:51.223111Z",
     "start_time": "2025-05-13T19:10:51.219763Z"
    },
    "collapsed": false
   },
   "outputs": [],
   "source": [
    "# 1. Imports & Global Configuration\n",
    "# ------------------------------------------------------------------------------\n",
    "import os\n",
    "import logging\n",
    "import random\n",
    "from itertools import combinations\n",
    "\n",
    "import numpy as np\n",
    "import pandas as pd\n",
    "import plotly.express as px        # ← switched to plotly.express\n",
    "\n",
    "# ---------------- Logging ------------------------------------------------------\n",
    "LOG_LEVEL = logging.INFO\n",
    "logging.basicConfig(\n",
    "    format=\"%(asctime)s | %(levelname)-8s | %(message)s\",\n",
    "    level=LOG_LEVEL,\n",
    "    datefmt=\"%H:%M:%S\"\n",
    ")\n",
    "logger = logging.getLogger(__name__)\n",
    "\n",
    "# ---------------- Plot constants ----------------------------------------------\n",
    "PLOT_THEME  = \"plotly_white\"\n",
    "PLOT_HEIGHT = 500"
   ]
  },
  {
   "cell_type": "code",
   "execution_count": 126,
   "id": "fa77ea7eeb5e620a",
   "metadata": {
    "ExecuteTime": {
     "end_time": "2025-05-13T19:10:51.856896Z",
     "start_time": "2025-05-13T19:10:51.656287Z"
    },
    "collapsed": false
   },
   "outputs": [
    {
     "name": "stderr",
     "output_type": "stream",
     "text": [
      "19:10:51 [INFO] Random seed set to 42\n",
      "19:10:51 [INFO] Loading input CSVs from /Data1/git/oligopaint-mrna-intron-matching/inputs/probes/ORCA\n",
      "19:10:51 [INFO] Rows | barcodes=256  probes=2905  fiducials=329\n"
     ]
    },
    {
     "data": {
      "text/html": [
       "<div>\n",
       "<style scoped>\n",
       "    .dataframe tbody tr th:only-of-type {\n",
       "        vertical-align: middle;\n",
       "    }\n",
       "\n",
       "    .dataframe tbody tr th {\n",
       "        vertical-align: top;\n",
       "    }\n",
       "\n",
       "    .dataframe thead th {\n",
       "        text-align: right;\n",
       "    }\n",
       "</style>\n",
       "<table border=\"1\" class=\"dataframe\">\n",
       "  <thead>\n",
       "    <tr style=\"text-align: right;\">\n",
       "      <th></th>\n",
       "      <th>locus</th>\n",
       "      <th>start</th>\n",
       "      <th>end</th>\n",
       "      <th>seq</th>\n",
       "    </tr>\n",
       "  </thead>\n",
       "  <tbody>\n",
       "    <tr>\n",
       "      <th>0</th>\n",
       "      <td>P-rex-1</td>\n",
       "      <td>407168</td>\n",
       "      <td>407203</td>\n",
       "      <td>TCTAATGATTTCAGACTCCAAACCGCCTATCTGCGT</td>\n",
       "    </tr>\n",
       "    <tr>\n",
       "      <th>1</th>\n",
       "      <td>P-rex-1</td>\n",
       "      <td>407598</td>\n",
       "      <td>407635</td>\n",
       "      <td>CTGAAACATTCCCTTTGTCCCATCCCTGAGAACTTAGC</td>\n",
       "    </tr>\n",
       "    <tr>\n",
       "      <th>2</th>\n",
       "      <td>P-rex-1</td>\n",
       "      <td>407678</td>\n",
       "      <td>407712</td>\n",
       "      <td>GAGTTGTTCTGCAAGACGATGTAGTCCATGACCCT</td>\n",
       "    </tr>\n",
       "    <tr>\n",
       "      <th>3</th>\n",
       "      <td>P-rex-1</td>\n",
       "      <td>407754</td>\n",
       "      <td>407794</td>\n",
       "      <td>TAAACTTCTTACGATTGAATGTTGTTCCCGTTGATTCCGGT</td>\n",
       "    </tr>\n",
       "    <tr>\n",
       "      <th>4</th>\n",
       "      <td>P-rex-1</td>\n",
       "      <td>407811</td>\n",
       "      <td>407851</td>\n",
       "      <td>AAATCAGCAAGTTTGTTCTGATAAGCTTCAAACGTGTCGAG</td>\n",
       "    </tr>\n",
       "  </tbody>\n",
       "</table>\n",
       "</div>"
      ],
      "text/plain": [
       "     locus   start     end                                        seq\n",
       "0  P-rex-1  407168  407203       TCTAATGATTTCAGACTCCAAACCGCCTATCTGCGT\n",
       "1  P-rex-1  407598  407635     CTGAAACATTCCCTTTGTCCCATCCCTGAGAACTTAGC\n",
       "2  P-rex-1  407678  407712        GAGTTGTTCTGCAAGACGATGTAGTCCATGACCCT\n",
       "3  P-rex-1  407754  407794  TAAACTTCTTACGATTGAATGTTGTTCCCGTTGATTCCGGT\n",
       "4  P-rex-1  407811  407851  AAATCAGCAAGTTTGTTCTGATAAGCTTCAAACGTGTCGAG"
      ]
     },
     "metadata": {},
     "output_type": "display_data"
    },
    {
     "data": {
      "text/html": [
       "<div>\n",
       "<style scoped>\n",
       "    .dataframe tbody tr th:only-of-type {\n",
       "        vertical-align: middle;\n",
       "    }\n",
       "\n",
       "    .dataframe tbody tr th {\n",
       "        vertical-align: top;\n",
       "    }\n",
       "\n",
       "    .dataframe thead th {\n",
       "        text-align: right;\n",
       "    }\n",
       "</style>\n",
       "<table border=\"1\" class=\"dataframe\">\n",
       "  <thead>\n",
       "    <tr style=\"text-align: right;\">\n",
       "      <th></th>\n",
       "      <th>locus</th>\n",
       "      <th>start</th>\n",
       "      <th>end</th>\n",
       "      <th>seq</th>\n",
       "    </tr>\n",
       "  </thead>\n",
       "  <tbody>\n",
       "    <tr>\n",
       "      <th>0</th>\n",
       "      <td>chrX_non_rex_fiducial1</td>\n",
       "      <td>300404</td>\n",
       "      <td>300444</td>\n",
       "      <td>AAACATACCAATAAACATACAACAATAAGGTGGGCCCAGGG</td>\n",
       "    </tr>\n",
       "    <tr>\n",
       "      <th>1</th>\n",
       "      <td>chrX_non_rex_fiducial1</td>\n",
       "      <td>300468</td>\n",
       "      <td>300508</td>\n",
       "      <td>TTCTACACATACACCAGATGATGGAGCATCATCAGACAACT</td>\n",
       "    </tr>\n",
       "    <tr>\n",
       "      <th>2</th>\n",
       "      <td>chrX_non_rex_fiducial1</td>\n",
       "      <td>300570</td>\n",
       "      <td>300604</td>\n",
       "      <td>GGGGCAGATGAAAGAATCGTCGCTTGTGATTCTCA</td>\n",
       "    </tr>\n",
       "    <tr>\n",
       "      <th>3</th>\n",
       "      <td>chrX_non_rex_fiducial1</td>\n",
       "      <td>301575</td>\n",
       "      <td>301615</td>\n",
       "      <td>ACCTGCAAATCTTATCTGGCCTAAATCAATGTTGACAGTCC</td>\n",
       "    </tr>\n",
       "    <tr>\n",
       "      <th>4</th>\n",
       "      <td>chrX_non_rex_fiducial1</td>\n",
       "      <td>301833</td>\n",
       "      <td>301873</td>\n",
       "      <td>ACAATAGTTTATATGTAAATGCCGTACGTCGGAGTTGGAGC</td>\n",
       "    </tr>\n",
       "  </tbody>\n",
       "</table>\n",
       "</div>"
      ],
      "text/plain": [
       "                    locus   start     end  \\\n",
       "0  chrX_non_rex_fiducial1  300404  300444   \n",
       "1  chrX_non_rex_fiducial1  300468  300508   \n",
       "2  chrX_non_rex_fiducial1  300570  300604   \n",
       "3  chrX_non_rex_fiducial1  301575  301615   \n",
       "4  chrX_non_rex_fiducial1  301833  301873   \n",
       "\n",
       "                                         seq  \n",
       "0  AAACATACCAATAAACATACAACAATAAGGTGGGCCCAGGG  \n",
       "1  TTCTACACATACACCAGATGATGGAGCATCATCAGACAACT  \n",
       "2        GGGGCAGATGAAAGAATCGTCGCTTGTGATTCTCA  \n",
       "3  ACCTGCAAATCTTATCTGGCCTAAATCAATGTTGACAGTCC  \n",
       "4  ACAATAGTTTATATGTAAATGCCGTACGTCGGAGTTGGAGC  "
      ]
     },
     "metadata": {},
     "output_type": "display_data"
    },
    {
     "data": {
      "text/html": [
       "<div>\n",
       "<style scoped>\n",
       "    .dataframe tbody tr th:only-of-type {\n",
       "        vertical-align: middle;\n",
       "    }\n",
       "\n",
       "    .dataframe tbody tr th {\n",
       "        vertical-align: top;\n",
       "    }\n",
       "\n",
       "    .dataframe thead th {\n",
       "        text-align: right;\n",
       "    }\n",
       "</style>\n",
       "<table border=\"1\" class=\"dataframe\">\n",
       "  <thead>\n",
       "    <tr style=\"text-align: right;\">\n",
       "      <th></th>\n",
       "      <th>barcodes</th>\n",
       "    </tr>\n",
       "  </thead>\n",
       "  <tbody>\n",
       "    <tr>\n",
       "      <th>0</th>\n",
       "      <td>TTACCCCTGGTTAGGAAAGAGGCGG</td>\n",
       "    </tr>\n",
       "    <tr>\n",
       "      <th>1</th>\n",
       "      <td>GTCTGAACTAGGTCTTTCTCGCGGC</td>\n",
       "    </tr>\n",
       "    <tr>\n",
       "      <th>2</th>\n",
       "      <td>CTGTTAATTAGGCTCGGTCGGCCTA</td>\n",
       "    </tr>\n",
       "    <tr>\n",
       "      <th>3</th>\n",
       "      <td>TATGAGGACGAATCTCCCGCTTATA</td>\n",
       "    </tr>\n",
       "    <tr>\n",
       "      <th>4</th>\n",
       "      <td>AAGGAGTCACGGTCATTCCTTTTAC</td>\n",
       "    </tr>\n",
       "  </tbody>\n",
       "</table>\n",
       "</div>"
      ],
      "text/plain": [
       "                    barcodes\n",
       "0  TTACCCCTGGTTAGGAAAGAGGCGG\n",
       "1  GTCTGAACTAGGTCTTTCTCGCGGC\n",
       "2  CTGTTAATTAGGCTCGGTCGGCCTA\n",
       "3  TATGAGGACGAATCTCCCGCTTATA\n",
       "4  AAGGAGTCACGGTCATTCCTTTTAC"
      ]
     },
     "metadata": {},
     "output_type": "display_data"
    },
    {
     "name": "stderr",
     "output_type": "stream",
     "text": [
      "19:10:51 [INFO] Filtered fiducials to those on chrX: 329 remaining\n"
     ]
    },
    {
     "data": {
      "application/vnd.plotly.v1+json": {
       "config": {
        "plotlyServerURL": "https://plot.ly"
       },
       "data": [
        {
         "alignmentgroup": "True",
         "boxpoints": "all",
         "hovertemplate": "# Probes=%{y}<extra></extra>",
         "legendgroup": "",
         "marker": {
          "color": "#636efa"
         },
         "name": "",
         "notched": false,
         "offsetgroup": "",
         "orientation": "v",
         "showlegend": false,
         "type": "box",
         "x0": " ",
         "xaxis": "x",
         "y": [
          40,
          40,
          40,
          40,
          40,
          40,
          40,
          40,
          40,
          40,
          40,
          40,
          40,
          40,
          40,
          40,
          40,
          40,
          40,
          40,
          40,
          40,
          40,
          40,
          40,
          40,
          40,
          40,
          40,
          40,
          40,
          40,
          40,
          40,
          40,
          40,
          40,
          40,
          40,
          40,
          40,
          40,
          40,
          40,
          40,
          40,
          40,
          40,
          40,
          40,
          40,
          40,
          40,
          40,
          40,
          40,
          40,
          40,
          40,
          40,
          40,
          40,
          39,
          39,
          39,
          39,
          39,
          39,
          39,
          39,
          38,
          38,
          37
         ],
         "y0": " ",
         "yaxis": "y"
        }
       ],
       "layout": {
        "boxmode": "group",
        "height": 500,
        "legend": {
         "tracegroupgap": 0
        },
        "template": {
         "data": {
          "bar": [
           {
            "error_x": {
             "color": "#2a3f5f"
            },
            "error_y": {
             "color": "#2a3f5f"
            },
            "marker": {
             "line": {
              "color": "white",
              "width": 0.5
             },
             "pattern": {
              "fillmode": "overlay",
              "size": 10,
              "solidity": 0.2
             }
            },
            "type": "bar"
           }
          ],
          "barpolar": [
           {
            "marker": {
             "line": {
              "color": "white",
              "width": 0.5
             },
             "pattern": {
              "fillmode": "overlay",
              "size": 10,
              "solidity": 0.2
             }
            },
            "type": "barpolar"
           }
          ],
          "carpet": [
           {
            "aaxis": {
             "endlinecolor": "#2a3f5f",
             "gridcolor": "#C8D4E3",
             "linecolor": "#C8D4E3",
             "minorgridcolor": "#C8D4E3",
             "startlinecolor": "#2a3f5f"
            },
            "baxis": {
             "endlinecolor": "#2a3f5f",
             "gridcolor": "#C8D4E3",
             "linecolor": "#C8D4E3",
             "minorgridcolor": "#C8D4E3",
             "startlinecolor": "#2a3f5f"
            },
            "type": "carpet"
           }
          ],
          "choropleth": [
           {
            "colorbar": {
             "outlinewidth": 0,
             "ticks": ""
            },
            "type": "choropleth"
           }
          ],
          "contour": [
           {
            "colorbar": {
             "outlinewidth": 0,
             "ticks": ""
            },
            "colorscale": [
             [
              0.0,
              "#0d0887"
             ],
             [
              0.1111111111111111,
              "#46039f"
             ],
             [
              0.2222222222222222,
              "#7201a8"
             ],
             [
              0.3333333333333333,
              "#9c179e"
             ],
             [
              0.4444444444444444,
              "#bd3786"
             ],
             [
              0.5555555555555556,
              "#d8576b"
             ],
             [
              0.6666666666666666,
              "#ed7953"
             ],
             [
              0.7777777777777778,
              "#fb9f3a"
             ],
             [
              0.8888888888888888,
              "#fdca26"
             ],
             [
              1.0,
              "#f0f921"
             ]
            ],
            "type": "contour"
           }
          ],
          "contourcarpet": [
           {
            "colorbar": {
             "outlinewidth": 0,
             "ticks": ""
            },
            "type": "contourcarpet"
           }
          ],
          "heatmap": [
           {
            "colorbar": {
             "outlinewidth": 0,
             "ticks": ""
            },
            "colorscale": [
             [
              0.0,
              "#0d0887"
             ],
             [
              0.1111111111111111,
              "#46039f"
             ],
             [
              0.2222222222222222,
              "#7201a8"
             ],
             [
              0.3333333333333333,
              "#9c179e"
             ],
             [
              0.4444444444444444,
              "#bd3786"
             ],
             [
              0.5555555555555556,
              "#d8576b"
             ],
             [
              0.6666666666666666,
              "#ed7953"
             ],
             [
              0.7777777777777778,
              "#fb9f3a"
             ],
             [
              0.8888888888888888,
              "#fdca26"
             ],
             [
              1.0,
              "#f0f921"
             ]
            ],
            "type": "heatmap"
           }
          ],
          "heatmapgl": [
           {
            "colorbar": {
             "outlinewidth": 0,
             "ticks": ""
            },
            "colorscale": [
             [
              0.0,
              "#0d0887"
             ],
             [
              0.1111111111111111,
              "#46039f"
             ],
             [
              0.2222222222222222,
              "#7201a8"
             ],
             [
              0.3333333333333333,
              "#9c179e"
             ],
             [
              0.4444444444444444,
              "#bd3786"
             ],
             [
              0.5555555555555556,
              "#d8576b"
             ],
             [
              0.6666666666666666,
              "#ed7953"
             ],
             [
              0.7777777777777778,
              "#fb9f3a"
             ],
             [
              0.8888888888888888,
              "#fdca26"
             ],
             [
              1.0,
              "#f0f921"
             ]
            ],
            "type": "heatmapgl"
           }
          ],
          "histogram": [
           {
            "marker": {
             "pattern": {
              "fillmode": "overlay",
              "size": 10,
              "solidity": 0.2
             }
            },
            "type": "histogram"
           }
          ],
          "histogram2d": [
           {
            "colorbar": {
             "outlinewidth": 0,
             "ticks": ""
            },
            "colorscale": [
             [
              0.0,
              "#0d0887"
             ],
             [
              0.1111111111111111,
              "#46039f"
             ],
             [
              0.2222222222222222,
              "#7201a8"
             ],
             [
              0.3333333333333333,
              "#9c179e"
             ],
             [
              0.4444444444444444,
              "#bd3786"
             ],
             [
              0.5555555555555556,
              "#d8576b"
             ],
             [
              0.6666666666666666,
              "#ed7953"
             ],
             [
              0.7777777777777778,
              "#fb9f3a"
             ],
             [
              0.8888888888888888,
              "#fdca26"
             ],
             [
              1.0,
              "#f0f921"
             ]
            ],
            "type": "histogram2d"
           }
          ],
          "histogram2dcontour": [
           {
            "colorbar": {
             "outlinewidth": 0,
             "ticks": ""
            },
            "colorscale": [
             [
              0.0,
              "#0d0887"
             ],
             [
              0.1111111111111111,
              "#46039f"
             ],
             [
              0.2222222222222222,
              "#7201a8"
             ],
             [
              0.3333333333333333,
              "#9c179e"
             ],
             [
              0.4444444444444444,
              "#bd3786"
             ],
             [
              0.5555555555555556,
              "#d8576b"
             ],
             [
              0.6666666666666666,
              "#ed7953"
             ],
             [
              0.7777777777777778,
              "#fb9f3a"
             ],
             [
              0.8888888888888888,
              "#fdca26"
             ],
             [
              1.0,
              "#f0f921"
             ]
            ],
            "type": "histogram2dcontour"
           }
          ],
          "mesh3d": [
           {
            "colorbar": {
             "outlinewidth": 0,
             "ticks": ""
            },
            "type": "mesh3d"
           }
          ],
          "parcoords": [
           {
            "line": {
             "colorbar": {
              "outlinewidth": 0,
              "ticks": ""
             }
            },
            "type": "parcoords"
           }
          ],
          "pie": [
           {
            "automargin": true,
            "type": "pie"
           }
          ],
          "scatter": [
           {
            "fillpattern": {
             "fillmode": "overlay",
             "size": 10,
             "solidity": 0.2
            },
            "type": "scatter"
           }
          ],
          "scatter3d": [
           {
            "line": {
             "colorbar": {
              "outlinewidth": 0,
              "ticks": ""
             }
            },
            "marker": {
             "colorbar": {
              "outlinewidth": 0,
              "ticks": ""
             }
            },
            "type": "scatter3d"
           }
          ],
          "scattercarpet": [
           {
            "marker": {
             "colorbar": {
              "outlinewidth": 0,
              "ticks": ""
             }
            },
            "type": "scattercarpet"
           }
          ],
          "scattergeo": [
           {
            "marker": {
             "colorbar": {
              "outlinewidth": 0,
              "ticks": ""
             }
            },
            "type": "scattergeo"
           }
          ],
          "scattergl": [
           {
            "marker": {
             "colorbar": {
              "outlinewidth": 0,
              "ticks": ""
             }
            },
            "type": "scattergl"
           }
          ],
          "scattermapbox": [
           {
            "marker": {
             "colorbar": {
              "outlinewidth": 0,
              "ticks": ""
             }
            },
            "type": "scattermapbox"
           }
          ],
          "scatterpolar": [
           {
            "marker": {
             "colorbar": {
              "outlinewidth": 0,
              "ticks": ""
             }
            },
            "type": "scatterpolar"
           }
          ],
          "scatterpolargl": [
           {
            "marker": {
             "colorbar": {
              "outlinewidth": 0,
              "ticks": ""
             }
            },
            "type": "scatterpolargl"
           }
          ],
          "scatterternary": [
           {
            "marker": {
             "colorbar": {
              "outlinewidth": 0,
              "ticks": ""
             }
            },
            "type": "scatterternary"
           }
          ],
          "surface": [
           {
            "colorbar": {
             "outlinewidth": 0,
             "ticks": ""
            },
            "colorscale": [
             [
              0.0,
              "#0d0887"
             ],
             [
              0.1111111111111111,
              "#46039f"
             ],
             [
              0.2222222222222222,
              "#7201a8"
             ],
             [
              0.3333333333333333,
              "#9c179e"
             ],
             [
              0.4444444444444444,
              "#bd3786"
             ],
             [
              0.5555555555555556,
              "#d8576b"
             ],
             [
              0.6666666666666666,
              "#ed7953"
             ],
             [
              0.7777777777777778,
              "#fb9f3a"
             ],
             [
              0.8888888888888888,
              "#fdca26"
             ],
             [
              1.0,
              "#f0f921"
             ]
            ],
            "type": "surface"
           }
          ],
          "table": [
           {
            "cells": {
             "fill": {
              "color": "#EBF0F8"
             },
             "line": {
              "color": "white"
             }
            },
            "header": {
             "fill": {
              "color": "#C8D4E3"
             },
             "line": {
              "color": "white"
             }
            },
            "type": "table"
           }
          ]
         },
         "layout": {
          "annotationdefaults": {
           "arrowcolor": "#2a3f5f",
           "arrowhead": 0,
           "arrowwidth": 1
          },
          "autotypenumbers": "strict",
          "coloraxis": {
           "colorbar": {
            "outlinewidth": 0,
            "ticks": ""
           }
          },
          "colorscale": {
           "diverging": [
            [
             0,
             "#8e0152"
            ],
            [
             0.1,
             "#c51b7d"
            ],
            [
             0.2,
             "#de77ae"
            ],
            [
             0.3,
             "#f1b6da"
            ],
            [
             0.4,
             "#fde0ef"
            ],
            [
             0.5,
             "#f7f7f7"
            ],
            [
             0.6,
             "#e6f5d0"
            ],
            [
             0.7,
             "#b8e186"
            ],
            [
             0.8,
             "#7fbc41"
            ],
            [
             0.9,
             "#4d9221"
            ],
            [
             1,
             "#276419"
            ]
           ],
           "sequential": [
            [
             0.0,
             "#0d0887"
            ],
            [
             0.1111111111111111,
             "#46039f"
            ],
            [
             0.2222222222222222,
             "#7201a8"
            ],
            [
             0.3333333333333333,
             "#9c179e"
            ],
            [
             0.4444444444444444,
             "#bd3786"
            ],
            [
             0.5555555555555556,
             "#d8576b"
            ],
            [
             0.6666666666666666,
             "#ed7953"
            ],
            [
             0.7777777777777778,
             "#fb9f3a"
            ],
            [
             0.8888888888888888,
             "#fdca26"
            ],
            [
             1.0,
             "#f0f921"
            ]
           ],
           "sequentialminus": [
            [
             0.0,
             "#0d0887"
            ],
            [
             0.1111111111111111,
             "#46039f"
            ],
            [
             0.2222222222222222,
             "#7201a8"
            ],
            [
             0.3333333333333333,
             "#9c179e"
            ],
            [
             0.4444444444444444,
             "#bd3786"
            ],
            [
             0.5555555555555556,
             "#d8576b"
            ],
            [
             0.6666666666666666,
             "#ed7953"
            ],
            [
             0.7777777777777778,
             "#fb9f3a"
            ],
            [
             0.8888888888888888,
             "#fdca26"
            ],
            [
             1.0,
             "#f0f921"
            ]
           ]
          },
          "colorway": [
           "#636efa",
           "#EF553B",
           "#00cc96",
           "#ab63fa",
           "#FFA15A",
           "#19d3f3",
           "#FF6692",
           "#B6E880",
           "#FF97FF",
           "#FECB52"
          ],
          "font": {
           "color": "#2a3f5f"
          },
          "geo": {
           "bgcolor": "white",
           "lakecolor": "white",
           "landcolor": "white",
           "showlakes": true,
           "showland": true,
           "subunitcolor": "#C8D4E3"
          },
          "hoverlabel": {
           "align": "left"
          },
          "hovermode": "closest",
          "mapbox": {
           "style": "light"
          },
          "paper_bgcolor": "white",
          "plot_bgcolor": "white",
          "polar": {
           "angularaxis": {
            "gridcolor": "#EBF0F8",
            "linecolor": "#EBF0F8",
            "ticks": ""
           },
           "bgcolor": "white",
           "radialaxis": {
            "gridcolor": "#EBF0F8",
            "linecolor": "#EBF0F8",
            "ticks": ""
           }
          },
          "scene": {
           "xaxis": {
            "backgroundcolor": "white",
            "gridcolor": "#DFE8F3",
            "gridwidth": 2,
            "linecolor": "#EBF0F8",
            "showbackground": true,
            "ticks": "",
            "zerolinecolor": "#EBF0F8"
           },
           "yaxis": {
            "backgroundcolor": "white",
            "gridcolor": "#DFE8F3",
            "gridwidth": 2,
            "linecolor": "#EBF0F8",
            "showbackground": true,
            "ticks": "",
            "zerolinecolor": "#EBF0F8"
           },
           "zaxis": {
            "backgroundcolor": "white",
            "gridcolor": "#DFE8F3",
            "gridwidth": 2,
            "linecolor": "#EBF0F8",
            "showbackground": true,
            "ticks": "",
            "zerolinecolor": "#EBF0F8"
           }
          },
          "shapedefaults": {
           "line": {
            "color": "#2a3f5f"
           }
          },
          "ternary": {
           "aaxis": {
            "gridcolor": "#DFE8F3",
            "linecolor": "#A2B1C6",
            "ticks": ""
           },
           "baxis": {
            "gridcolor": "#DFE8F3",
            "linecolor": "#A2B1C6",
            "ticks": ""
           },
           "bgcolor": "white",
           "caxis": {
            "gridcolor": "#DFE8F3",
            "linecolor": "#A2B1C6",
            "ticks": ""
           }
          },
          "title": {
           "x": 0.05
          },
          "xaxis": {
           "automargin": true,
           "gridcolor": "#EBF0F8",
           "linecolor": "#EBF0F8",
           "ticks": "",
           "title": {
            "standoff": 15
           },
           "zerolinecolor": "#EBF0F8",
           "zerolinewidth": 2
          },
          "yaxis": {
           "automargin": true,
           "gridcolor": "#EBF0F8",
           "linecolor": "#EBF0F8",
           "ticks": "",
           "title": {
            "standoff": 15
           },
           "zerolinecolor": "#EBF0F8",
           "zerolinewidth": 2
          }
         }
        },
        "title": {
         "text": "Number of Probes per Locus"
        },
        "width": 800,
        "xaxis": {
         "anchor": "y",
         "domain": [
          0.0,
          1.0
         ]
        },
        "yaxis": {
         "anchor": "x",
         "domain": [
          0.0,
          1.0
         ],
         "title": {
          "text": "# Probes"
         }
        }
       }
      },
      "text/html": [
       "<div>                            <div id=\"179f1024-3b97-4599-ac38-2000a51af88f\" class=\"plotly-graph-div\" style=\"height:500px; width:800px;\"></div>            <script type=\"text/javascript\">                require([\"plotly\"], function(Plotly) {                    window.PLOTLYENV=window.PLOTLYENV || {};                                    if (document.getElementById(\"179f1024-3b97-4599-ac38-2000a51af88f\")) {                    Plotly.newPlot(                        \"179f1024-3b97-4599-ac38-2000a51af88f\",                        [{\"alignmentgroup\":\"True\",\"boxpoints\":\"all\",\"hovertemplate\":\"# Probes=%{y}\\u003cextra\\u003e\\u003c\\u002fextra\\u003e\",\"legendgroup\":\"\",\"marker\":{\"color\":\"#636efa\"},\"name\":\"\",\"notched\":false,\"offsetgroup\":\"\",\"orientation\":\"v\",\"showlegend\":false,\"x0\":\" \",\"xaxis\":\"x\",\"y\":[40,40,40,40,40,40,40,40,40,40,40,40,40,40,40,40,40,40,40,40,40,40,40,40,40,40,40,40,40,40,40,40,40,40,40,40,40,40,40,40,40,40,40,40,40,40,40,40,40,40,40,40,40,40,40,40,40,40,40,40,40,40,39,39,39,39,39,39,39,39,38,38,37],\"y0\":\" \",\"yaxis\":\"y\",\"type\":\"box\"}],                        {\"template\":{\"data\":{\"histogram2dcontour\":[{\"type\":\"histogram2dcontour\",\"colorbar\":{\"outlinewidth\":0,\"ticks\":\"\"},\"colorscale\":[[0.0,\"#0d0887\"],[0.1111111111111111,\"#46039f\"],[0.2222222222222222,\"#7201a8\"],[0.3333333333333333,\"#9c179e\"],[0.4444444444444444,\"#bd3786\"],[0.5555555555555556,\"#d8576b\"],[0.6666666666666666,\"#ed7953\"],[0.7777777777777778,\"#fb9f3a\"],[0.8888888888888888,\"#fdca26\"],[1.0,\"#f0f921\"]]}],\"choropleth\":[{\"type\":\"choropleth\",\"colorbar\":{\"outlinewidth\":0,\"ticks\":\"\"}}],\"histogram2d\":[{\"type\":\"histogram2d\",\"colorbar\":{\"outlinewidth\":0,\"ticks\":\"\"},\"colorscale\":[[0.0,\"#0d0887\"],[0.1111111111111111,\"#46039f\"],[0.2222222222222222,\"#7201a8\"],[0.3333333333333333,\"#9c179e\"],[0.4444444444444444,\"#bd3786\"],[0.5555555555555556,\"#d8576b\"],[0.6666666666666666,\"#ed7953\"],[0.7777777777777778,\"#fb9f3a\"],[0.8888888888888888,\"#fdca26\"],[1.0,\"#f0f921\"]]}],\"heatmap\":[{\"type\":\"heatmap\",\"colorbar\":{\"outlinewidth\":0,\"ticks\":\"\"},\"colorscale\":[[0.0,\"#0d0887\"],[0.1111111111111111,\"#46039f\"],[0.2222222222222222,\"#7201a8\"],[0.3333333333333333,\"#9c179e\"],[0.4444444444444444,\"#bd3786\"],[0.5555555555555556,\"#d8576b\"],[0.6666666666666666,\"#ed7953\"],[0.7777777777777778,\"#fb9f3a\"],[0.8888888888888888,\"#fdca26\"],[1.0,\"#f0f921\"]]}],\"heatmapgl\":[{\"type\":\"heatmapgl\",\"colorbar\":{\"outlinewidth\":0,\"ticks\":\"\"},\"colorscale\":[[0.0,\"#0d0887\"],[0.1111111111111111,\"#46039f\"],[0.2222222222222222,\"#7201a8\"],[0.3333333333333333,\"#9c179e\"],[0.4444444444444444,\"#bd3786\"],[0.5555555555555556,\"#d8576b\"],[0.6666666666666666,\"#ed7953\"],[0.7777777777777778,\"#fb9f3a\"],[0.8888888888888888,\"#fdca26\"],[1.0,\"#f0f921\"]]}],\"contourcarpet\":[{\"type\":\"contourcarpet\",\"colorbar\":{\"outlinewidth\":0,\"ticks\":\"\"}}],\"contour\":[{\"type\":\"contour\",\"colorbar\":{\"outlinewidth\":0,\"ticks\":\"\"},\"colorscale\":[[0.0,\"#0d0887\"],[0.1111111111111111,\"#46039f\"],[0.2222222222222222,\"#7201a8\"],[0.3333333333333333,\"#9c179e\"],[0.4444444444444444,\"#bd3786\"],[0.5555555555555556,\"#d8576b\"],[0.6666666666666666,\"#ed7953\"],[0.7777777777777778,\"#fb9f3a\"],[0.8888888888888888,\"#fdca26\"],[1.0,\"#f0f921\"]]}],\"surface\":[{\"type\":\"surface\",\"colorbar\":{\"outlinewidth\":0,\"ticks\":\"\"},\"colorscale\":[[0.0,\"#0d0887\"],[0.1111111111111111,\"#46039f\"],[0.2222222222222222,\"#7201a8\"],[0.3333333333333333,\"#9c179e\"],[0.4444444444444444,\"#bd3786\"],[0.5555555555555556,\"#d8576b\"],[0.6666666666666666,\"#ed7953\"],[0.7777777777777778,\"#fb9f3a\"],[0.8888888888888888,\"#fdca26\"],[1.0,\"#f0f921\"]]}],\"mesh3d\":[{\"type\":\"mesh3d\",\"colorbar\":{\"outlinewidth\":0,\"ticks\":\"\"}}],\"scatter\":[{\"fillpattern\":{\"fillmode\":\"overlay\",\"size\":10,\"solidity\":0.2},\"type\":\"scatter\"}],\"parcoords\":[{\"type\":\"parcoords\",\"line\":{\"colorbar\":{\"outlinewidth\":0,\"ticks\":\"\"}}}],\"scatterpolargl\":[{\"type\":\"scatterpolargl\",\"marker\":{\"colorbar\":{\"outlinewidth\":0,\"ticks\":\"\"}}}],\"bar\":[{\"error_x\":{\"color\":\"#2a3f5f\"},\"error_y\":{\"color\":\"#2a3f5f\"},\"marker\":{\"line\":{\"color\":\"white\",\"width\":0.5},\"pattern\":{\"fillmode\":\"overlay\",\"size\":10,\"solidity\":0.2}},\"type\":\"bar\"}],\"scattergeo\":[{\"type\":\"scattergeo\",\"marker\":{\"colorbar\":{\"outlinewidth\":0,\"ticks\":\"\"}}}],\"scatterpolar\":[{\"type\":\"scatterpolar\",\"marker\":{\"colorbar\":{\"outlinewidth\":0,\"ticks\":\"\"}}}],\"histogram\":[{\"marker\":{\"pattern\":{\"fillmode\":\"overlay\",\"size\":10,\"solidity\":0.2}},\"type\":\"histogram\"}],\"scattergl\":[{\"type\":\"scattergl\",\"marker\":{\"colorbar\":{\"outlinewidth\":0,\"ticks\":\"\"}}}],\"scatter3d\":[{\"type\":\"scatter3d\",\"line\":{\"colorbar\":{\"outlinewidth\":0,\"ticks\":\"\"}},\"marker\":{\"colorbar\":{\"outlinewidth\":0,\"ticks\":\"\"}}}],\"scattermapbox\":[{\"type\":\"scattermapbox\",\"marker\":{\"colorbar\":{\"outlinewidth\":0,\"ticks\":\"\"}}}],\"scatterternary\":[{\"type\":\"scatterternary\",\"marker\":{\"colorbar\":{\"outlinewidth\":0,\"ticks\":\"\"}}}],\"scattercarpet\":[{\"type\":\"scattercarpet\",\"marker\":{\"colorbar\":{\"outlinewidth\":0,\"ticks\":\"\"}}}],\"carpet\":[{\"aaxis\":{\"endlinecolor\":\"#2a3f5f\",\"gridcolor\":\"#C8D4E3\",\"linecolor\":\"#C8D4E3\",\"minorgridcolor\":\"#C8D4E3\",\"startlinecolor\":\"#2a3f5f\"},\"baxis\":{\"endlinecolor\":\"#2a3f5f\",\"gridcolor\":\"#C8D4E3\",\"linecolor\":\"#C8D4E3\",\"minorgridcolor\":\"#C8D4E3\",\"startlinecolor\":\"#2a3f5f\"},\"type\":\"carpet\"}],\"table\":[{\"cells\":{\"fill\":{\"color\":\"#EBF0F8\"},\"line\":{\"color\":\"white\"}},\"header\":{\"fill\":{\"color\":\"#C8D4E3\"},\"line\":{\"color\":\"white\"}},\"type\":\"table\"}],\"barpolar\":[{\"marker\":{\"line\":{\"color\":\"white\",\"width\":0.5},\"pattern\":{\"fillmode\":\"overlay\",\"size\":10,\"solidity\":0.2}},\"type\":\"barpolar\"}],\"pie\":[{\"automargin\":true,\"type\":\"pie\"}]},\"layout\":{\"autotypenumbers\":\"strict\",\"colorway\":[\"#636efa\",\"#EF553B\",\"#00cc96\",\"#ab63fa\",\"#FFA15A\",\"#19d3f3\",\"#FF6692\",\"#B6E880\",\"#FF97FF\",\"#FECB52\"],\"font\":{\"color\":\"#2a3f5f\"},\"hovermode\":\"closest\",\"hoverlabel\":{\"align\":\"left\"},\"paper_bgcolor\":\"white\",\"plot_bgcolor\":\"white\",\"polar\":{\"bgcolor\":\"white\",\"angularaxis\":{\"gridcolor\":\"#EBF0F8\",\"linecolor\":\"#EBF0F8\",\"ticks\":\"\"},\"radialaxis\":{\"gridcolor\":\"#EBF0F8\",\"linecolor\":\"#EBF0F8\",\"ticks\":\"\"}},\"ternary\":{\"bgcolor\":\"white\",\"aaxis\":{\"gridcolor\":\"#DFE8F3\",\"linecolor\":\"#A2B1C6\",\"ticks\":\"\"},\"baxis\":{\"gridcolor\":\"#DFE8F3\",\"linecolor\":\"#A2B1C6\",\"ticks\":\"\"},\"caxis\":{\"gridcolor\":\"#DFE8F3\",\"linecolor\":\"#A2B1C6\",\"ticks\":\"\"}},\"coloraxis\":{\"colorbar\":{\"outlinewidth\":0,\"ticks\":\"\"}},\"colorscale\":{\"sequential\":[[0.0,\"#0d0887\"],[0.1111111111111111,\"#46039f\"],[0.2222222222222222,\"#7201a8\"],[0.3333333333333333,\"#9c179e\"],[0.4444444444444444,\"#bd3786\"],[0.5555555555555556,\"#d8576b\"],[0.6666666666666666,\"#ed7953\"],[0.7777777777777778,\"#fb9f3a\"],[0.8888888888888888,\"#fdca26\"],[1.0,\"#f0f921\"]],\"sequentialminus\":[[0.0,\"#0d0887\"],[0.1111111111111111,\"#46039f\"],[0.2222222222222222,\"#7201a8\"],[0.3333333333333333,\"#9c179e\"],[0.4444444444444444,\"#bd3786\"],[0.5555555555555556,\"#d8576b\"],[0.6666666666666666,\"#ed7953\"],[0.7777777777777778,\"#fb9f3a\"],[0.8888888888888888,\"#fdca26\"],[1.0,\"#f0f921\"]],\"diverging\":[[0,\"#8e0152\"],[0.1,\"#c51b7d\"],[0.2,\"#de77ae\"],[0.3,\"#f1b6da\"],[0.4,\"#fde0ef\"],[0.5,\"#f7f7f7\"],[0.6,\"#e6f5d0\"],[0.7,\"#b8e186\"],[0.8,\"#7fbc41\"],[0.9,\"#4d9221\"],[1,\"#276419\"]]},\"xaxis\":{\"gridcolor\":\"#EBF0F8\",\"linecolor\":\"#EBF0F8\",\"ticks\":\"\",\"title\":{\"standoff\":15},\"zerolinecolor\":\"#EBF0F8\",\"automargin\":true,\"zerolinewidth\":2},\"yaxis\":{\"gridcolor\":\"#EBF0F8\",\"linecolor\":\"#EBF0F8\",\"ticks\":\"\",\"title\":{\"standoff\":15},\"zerolinecolor\":\"#EBF0F8\",\"automargin\":true,\"zerolinewidth\":2},\"scene\":{\"xaxis\":{\"backgroundcolor\":\"white\",\"gridcolor\":\"#DFE8F3\",\"linecolor\":\"#EBF0F8\",\"showbackground\":true,\"ticks\":\"\",\"zerolinecolor\":\"#EBF0F8\",\"gridwidth\":2},\"yaxis\":{\"backgroundcolor\":\"white\",\"gridcolor\":\"#DFE8F3\",\"linecolor\":\"#EBF0F8\",\"showbackground\":true,\"ticks\":\"\",\"zerolinecolor\":\"#EBF0F8\",\"gridwidth\":2},\"zaxis\":{\"backgroundcolor\":\"white\",\"gridcolor\":\"#DFE8F3\",\"linecolor\":\"#EBF0F8\",\"showbackground\":true,\"ticks\":\"\",\"zerolinecolor\":\"#EBF0F8\",\"gridwidth\":2}},\"shapedefaults\":{\"line\":{\"color\":\"#2a3f5f\"}},\"annotationdefaults\":{\"arrowcolor\":\"#2a3f5f\",\"arrowhead\":0,\"arrowwidth\":1},\"geo\":{\"bgcolor\":\"white\",\"landcolor\":\"white\",\"subunitcolor\":\"#C8D4E3\",\"showland\":true,\"showlakes\":true,\"lakecolor\":\"white\"},\"title\":{\"x\":0.05},\"mapbox\":{\"style\":\"light\"}}},\"xaxis\":{\"anchor\":\"y\",\"domain\":[0.0,1.0]},\"yaxis\":{\"anchor\":\"x\",\"domain\":[0.0,1.0],\"title\":{\"text\":\"# Probes\"}},\"legend\":{\"tracegroupgap\":0},\"title\":{\"text\":\"Number of Probes per Locus\"},\"boxmode\":\"group\",\"height\":500,\"width\":800},                        {\"responsive\": true}                    ).then(function(){\n",
       "                            \n",
       "var gd = document.getElementById('179f1024-3b97-4599-ac38-2000a51af88f');\n",
       "var x = new MutationObserver(function (mutations, observer) {{\n",
       "        var display = window.getComputedStyle(gd).display;\n",
       "        if (!display || display === 'none') {{\n",
       "            console.log([gd, 'removed!']);\n",
       "            Plotly.purge(gd);\n",
       "            observer.disconnect();\n",
       "        }}\n",
       "}});\n",
       "\n",
       "// Listen for the removal of the full notebook cells\n",
       "var notebookContainer = gd.closest('#notebook-container');\n",
       "if (notebookContainer) {{\n",
       "    x.observe(notebookContainer, {childList: true});\n",
       "}}\n",
       "\n",
       "// Listen for the clearing of the current output cell\n",
       "var outputEl = gd.closest('.output');\n",
       "if (outputEl) {{\n",
       "    x.observe(outputEl, {childList: true});\n",
       "}}\n",
       "\n",
       "                        })                };                });            </script>        </div>"
      ]
     },
     "metadata": {},
     "output_type": "display_data"
    },
    {
     "data": {
      "application/vnd.plotly.v1+json": {
       "config": {
        "plotlyServerURL": "https://plot.ly"
       },
       "data": [
        {
         "line": {
          "color": "grey"
         },
         "mode": "lines",
         "name": "chrIII_fiducial1",
         "showlegend": false,
         "type": "scatter",
         "x": [
          16792,
          16832,
          16833,
          16870,
          17141,
          17175,
          17206,
          17240,
          17435,
          17475,
          17476,
          17510,
          17511,
          17545,
          17546,
          17584,
          17916,
          17956,
          17957,
          17992,
          18063,
          18098,
          18099,
          18134,
          18172,
          18212,
          18253,
          18290,
          18291,
          18331,
          18718,
          18757,
          18783,
          18818,
          18860,
          18894,
          18895,
          18934,
          19187,
          19221,
          19344,
          19382,
          19564,
          19598,
          19618,
          19658,
          19665,
          19700,
          19714,
          19748,
          19753,
          19792,
          19825,
          19861,
          20350,
          20390,
          20612,
          20652,
          20750,
          20785,
          20786,
          20820,
          20857,
          20891,
          20892,
          20926,
          21258,
          21298,
          21306,
          21340,
          21341,
          21375,
          21410,
          21444,
          21445,
          21479,
          21515,
          21549,
          21550,
          21584,
          21607,
          21641,
          21643,
          21677,
          21726,
          21760,
          21761,
          21798,
          21880,
          21920,
          22226,
          22266,
          22347,
          22387,
          22596,
          22636,
          22637,
          22674,
          22675,
          22709,
          22795,
          22829
         ],
         "y": [
          3070,
          3070,
          3071,
          3071,
          3072,
          3072,
          3073,
          3073,
          3074,
          3074,
          3075,
          3075,
          3076,
          3076,
          3077,
          3077,
          3078,
          3078,
          3079,
          3079,
          3080,
          3080,
          3081,
          3081,
          3082,
          3082,
          3083,
          3083,
          3084,
          3084,
          3085,
          3085,
          3086,
          3086,
          3087,
          3087,
          3088,
          3088,
          3089,
          3089,
          3090,
          3090,
          3091,
          3091,
          3092,
          3092,
          3093,
          3093,
          3094,
          3094,
          3095,
          3095,
          3096,
          3096,
          3097,
          3097,
          3098,
          3098,
          3099,
          3099,
          3100,
          3100,
          3101,
          3101,
          3102,
          3102,
          3103,
          3103,
          3104,
          3104,
          3105,
          3105,
          3106,
          3106,
          3107,
          3107,
          3108,
          3108,
          3109,
          3109,
          3110,
          3110,
          3111,
          3111,
          3112,
          3112,
          3113,
          3113,
          3114,
          3114,
          3115,
          3115,
          3116,
          3116,
          3117,
          3117,
          3118,
          3118,
          3119,
          3119,
          3120,
          3120
         ]
        },
        {
         "line": {
          "color": "grey"
         },
         "mode": "lines",
         "name": "chrIV_fiducial1",
         "showlegend": false,
         "type": "scatter",
         "x": [
          67096,
          67136,
          67386,
          67426,
          67522,
          67562,
          67580,
          67614,
          67615,
          67649,
          67650,
          67690,
          67856,
          67896,
          68728,
          68767,
          68811,
          68851,
          68933,
          68967,
          68968,
          69002,
          69004,
          69044,
          69100,
          69134,
          69180,
          69218,
          69286,
          69321,
          69343,
          69381,
          69467,
          69506,
          69533,
          69567,
          69625,
          69665,
          69932,
          69972,
          69973,
          70013,
          70014,
          70048,
          70080,
          70119,
          70133,
          70173,
          70204,
          70238,
          70265,
          70299,
          70349,
          70388,
          70756,
          70796,
          70806,
          70843,
          71179,
          71213,
          71354,
          71393,
          71429,
          71463,
          71465,
          71499,
          71659,
          71693,
          71729,
          71764,
          72028,
          72064,
          72166,
          72200,
          72273,
          72313,
          72494,
          72531,
          72807,
          72846,
          72883,
          72923,
          72933,
          72973,
          72991,
          73025,
          73026,
          73060
         ],
         "y": [
          2943,
          2943,
          2944,
          2944,
          2945,
          2945,
          2946,
          2946,
          2947,
          2947,
          2948,
          2948,
          2949,
          2949,
          2950,
          2950,
          2951,
          2951,
          2952,
          2952,
          2953,
          2953,
          2954,
          2954,
          2955,
          2955,
          2956,
          2956,
          2957,
          2957,
          2958,
          2958,
          2959,
          2959,
          2960,
          2960,
          2961,
          2961,
          2962,
          2962,
          2963,
          2963,
          2964,
          2964,
          2965,
          2965,
          2966,
          2966,
          2967,
          2967,
          2968,
          2968,
          2969,
          2969,
          2970,
          2970,
          2971,
          2971,
          2972,
          2972,
          2973,
          2973,
          2974,
          2974,
          2975,
          2975,
          2976,
          2976,
          2977,
          2977,
          2978,
          2978,
          2979,
          2979,
          2980,
          2980,
          2981,
          2981,
          2982,
          2982,
          2983,
          2983,
          2984,
          2984,
          2985,
          2985,
          2986,
          2986
         ]
        },
        {
         "line": {
          "color": "grey"
         },
         "mode": "lines",
         "name": "chrX_non_rex_fiducial1",
         "showlegend": false,
         "type": "scatter",
         "x": [
          300404,
          300444,
          300468,
          300508,
          300570,
          300604,
          301575,
          301615,
          301833,
          301873,
          301912,
          301949,
          302766,
          302800,
          302812,
          302846,
          302952,
          302992,
          303716,
          303756,
          303771,
          303805,
          303888,
          303928,
          303934,
          303974,
          304133,
          304173,
          304174,
          304208,
          304213,
          304253,
          304254,
          304288,
          304311,
          304347,
          304348,
          304382,
          304383,
          304422,
          304423,
          304462,
          304539,
          304577,
          304578,
          304618,
          304651,
          304691,
          304970,
          305009,
          305026,
          305066,
          305069,
          305103,
          305157,
          305191,
          305192,
          305226,
          305247,
          305287,
          305296,
          305334,
          305604,
          305639,
          305757,
          305797,
          305798,
          305832,
          305860,
          305895,
          305937,
          305977,
          306171,
          306207,
          306373,
          306413
         ],
         "y": [
          2905,
          2905,
          2906,
          2906,
          2907,
          2907,
          2908,
          2908,
          2909,
          2909,
          2910,
          2910,
          2911,
          2911,
          2912,
          2912,
          2913,
          2913,
          2914,
          2914,
          2915,
          2915,
          2916,
          2916,
          2917,
          2917,
          2918,
          2918,
          2919,
          2919,
          2920,
          2920,
          2921,
          2921,
          2922,
          2922,
          2923,
          2923,
          2924,
          2924,
          2925,
          2925,
          2926,
          2926,
          2927,
          2927,
          2928,
          2928,
          2929,
          2929,
          2930,
          2930,
          2931,
          2931,
          2932,
          2932,
          2933,
          2933,
          2934,
          2934,
          2935,
          2935,
          2936,
          2936,
          2937,
          2937,
          2938,
          2938,
          2939,
          2939,
          2940,
          2940,
          2941,
          2941,
          2942,
          2942
         ]
        },
        {
         "line": {
          "color": "#AB63FA"
         },
         "mode": "lines",
         "name": "P-rex-1",
         "showlegend": true,
         "type": "scatter",
         "x": [
          407168,
          407203,
          407598,
          407635,
          407678,
          407712,
          407754,
          407794,
          407811,
          407851,
          407874,
          407914,
          407919,
          407959,
          408045,
          408083,
          408119,
          408155,
          408224,
          408264,
          408340,
          408380,
          408416,
          408450,
          408667,
          408707,
          408828,
          408867,
          408932,
          408970,
          409036,
          409072,
          409108,
          409148,
          409224,
          409264,
          409342,
          409382,
          409418,
          409452,
          409556,
          409596,
          409632,
          409666,
          409829,
          409869,
          409878,
          409917,
          409998,
          410038,
          410043,
          410079,
          410088,
          410128,
          410281,
          410315,
          410588,
          410628,
          410773,
          410809,
          410846,
          410885,
          410923,
          410962,
          411044,
          411078,
          411249,
          411283,
          411322,
          411362,
          411375,
          411415,
          412170,
          412209,
          412280,
          412314,
          412475,
          412511,
          412718,
          412758
         ],
         "y": [
          0,
          0,
          1,
          1,
          2,
          2,
          3,
          3,
          4,
          4,
          5,
          5,
          6,
          6,
          7,
          7,
          8,
          8,
          9,
          9,
          10,
          10,
          11,
          11,
          12,
          12,
          13,
          13,
          14,
          14,
          15,
          15,
          16,
          16,
          17,
          17,
          18,
          18,
          19,
          19,
          20,
          20,
          21,
          21,
          22,
          22,
          23,
          23,
          24,
          24,
          25,
          25,
          26,
          26,
          27,
          27,
          28,
          28,
          29,
          29,
          30,
          30,
          31,
          31,
          32,
          32,
          33,
          33,
          34,
          34,
          35,
          35,
          36,
          36,
          37,
          37,
          38,
          38,
          39,
          39
         ]
        },
        {
         "line": {
          "color": "#FFA15A"
         },
         "mode": "lines",
         "name": "nDCC-1",
         "showlegend": true,
         "type": "scatter",
         "x": [
          486592,
          486630,
          486673,
          486712,
          486824,
          486864,
          486900,
          486940,
          487454,
          487494,
          487539,
          487579,
          487580,
          487616,
          487783,
          487817,
          488315,
          488349,
          488437,
          488476,
          488484,
          488521,
          489406,
          489446,
          489520,
          489560,
          489561,
          489595,
          489640,
          489674,
          489804,
          489838,
          489971,
          490011,
          490206,
          490246,
          490549,
          490588,
          490589,
          490628,
          490664,
          490702,
          490786,
          490826,
          490827,
          490865,
          491399,
          491437,
          491450,
          491489,
          491494,
          491534,
          491898,
          491937,
          491947,
          491987,
          491988,
          492023,
          492026,
          492060,
          492834,
          492874,
          492978,
          493018,
          493019,
          493053,
          493054,
          493090,
          493091,
          493130,
          493132,
          493166,
          493176,
          493213,
          493223,
          493257,
          493330,
          493369,
          493370,
          493409
         ],
         "y": [
          40,
          40,
          41,
          41,
          42,
          42,
          43,
          43,
          44,
          44,
          45,
          45,
          46,
          46,
          47,
          47,
          48,
          48,
          49,
          49,
          50,
          50,
          51,
          51,
          52,
          52,
          53,
          53,
          54,
          54,
          55,
          55,
          56,
          56,
          57,
          57,
          58,
          58,
          59,
          59,
          60,
          60,
          61,
          61,
          62,
          62,
          63,
          63,
          64,
          64,
          65,
          65,
          66,
          66,
          67,
          67,
          68,
          68,
          69,
          69,
          70,
          70,
          71,
          71,
          72,
          72,
          73,
          73,
          74,
          74,
          75,
          75,
          76,
          76,
          77,
          77,
          78,
          78,
          79,
          79
         ]
        },
        {
         "line": {
          "color": "#19D3F3"
         },
         "mode": "lines",
         "name": "nDCC-2",
         "showlegend": true,
         "type": "scatter",
         "x": [
          782762,
          782796,
          783355,
          783395,
          783442,
          783482,
          783490,
          783530,
          783610,
          783648,
          783754,
          783794,
          784090,
          784130,
          784182,
          784220,
          784268,
          784302,
          784365,
          784404,
          784407,
          784447,
          784481,
          784520,
          784527,
          784567,
          784615,
          784655,
          784938,
          784972,
          785025,
          785065,
          785095,
          785134,
          785151,
          785189,
          785227,
          785267,
          785410,
          785444,
          785490,
          785530,
          785568,
          785602,
          785965,
          786005,
          786008,
          786048,
          786049,
          786086,
          786138,
          786178,
          786198,
          786235,
          786668,
          786708,
          786769,
          786806,
          786906,
          786946,
          786994,
          787034,
          787051,
          787085,
          787128,
          787168,
          787604,
          787638,
          787842,
          787879,
          787947,
          787987,
          788034,
          788074,
          788102,
          788142,
          788170,
          788204,
          788491,
          788525
         ],
         "y": [
          80,
          80,
          81,
          81,
          82,
          82,
          83,
          83,
          84,
          84,
          85,
          85,
          86,
          86,
          87,
          87,
          88,
          88,
          89,
          89,
          90,
          90,
          91,
          91,
          92,
          92,
          93,
          93,
          94,
          94,
          95,
          95,
          96,
          96,
          97,
          97,
          98,
          98,
          99,
          99,
          100,
          100,
          101,
          101,
          102,
          102,
          103,
          103,
          104,
          104,
          105,
          105,
          106,
          106,
          107,
          107,
          108,
          108,
          109,
          109,
          110,
          110,
          111,
          111,
          112,
          112,
          113,
          113,
          114,
          114,
          115,
          115,
          116,
          116,
          117,
          117,
          118,
          118,
          119,
          119
         ]
        },
        {
         "line": {
          "color": "#FF6692"
         },
         "mode": "lines",
         "name": "rex-40",
         "showlegend": true,
         "type": "scatter",
         "x": [
          803701,
          803735,
          803826,
          803866,
          803941,
          803975,
          804050,
          804087,
          804355,
          804391,
          804739,
          804779,
          804842,
          804882,
          805175,
          805215,
          805284,
          805318,
          805497,
          805537,
          805597,
          805637,
          805638,
          805676,
          805792,
          805832,
          806103,
          806143,
          806602,
          806642,
          806678,
          806712,
          807081,
          807120,
          807275,
          807315,
          807363,
          807403,
          807672,
          807712,
          807751,
          807785,
          807925,
          807964,
          808203,
          808243,
          808296,
          808336,
          808372,
          808411,
          808462,
          808502,
          808503,
          808540,
          808544,
          808584,
          808585,
          808624,
          808820,
          808860,
          808899,
          808933,
          809040,
          809080,
          809096,
          809134,
          809138,
          809178,
          809215,
          809255,
          809303,
          809343,
          809379,
          809419,
          809421,
          809461,
          809475,
          809513,
          809524,
          809562
         ],
         "y": [
          120,
          120,
          121,
          121,
          122,
          122,
          123,
          123,
          124,
          124,
          125,
          125,
          126,
          126,
          127,
          127,
          128,
          128,
          129,
          129,
          130,
          130,
          131,
          131,
          132,
          132,
          133,
          133,
          134,
          134,
          135,
          135,
          136,
          136,
          137,
          137,
          138,
          138,
          139,
          139,
          140,
          140,
          141,
          141,
          142,
          142,
          143,
          143,
          144,
          144,
          145,
          145,
          146,
          146,
          147,
          147,
          148,
          148,
          149,
          149,
          150,
          150,
          151,
          151,
          152,
          152,
          153,
          153,
          154,
          154,
          155,
          155,
          156,
          156,
          157,
          157,
          158,
          158,
          159,
          159
         ]
        },
        {
         "line": {
          "color": "#B6E880"
         },
         "mode": "lines",
         "name": "P-rex-2",
         "showlegend": true,
         "type": "scatter",
         "x": [
          1219954,
          1219988,
          1219989,
          1220024,
          1220025,
          1220065,
          1221159,
          1221199,
          1221404,
          1221438,
          1221471,
          1221505,
          1221506,
          1221543,
          1221594,
          1221634,
          1221678,
          1221718,
          1221909,
          1221949,
          1222335,
          1222375,
          1222509,
          1222543,
          1222544,
          1222578,
          1222579,
          1222613,
          1222616,
          1222650,
          1222651,
          1222691,
          1222803,
          1222843,
          1223262,
          1223302,
          1223303,
          1223340,
          1223341,
          1223375,
          1223725,
          1223765,
          1223807,
          1223847,
          1223848,
          1223887,
          1223913,
          1223949,
          1223950,
          1223988,
          1224005,
          1224039,
          1224042,
          1224082,
          1224169,
          1224209,
          1224210,
          1224244,
          1224296,
          1224334,
          1224350,
          1224390,
          1224998,
          1225038,
          1225169,
          1225206,
          1225243,
          1225283,
          1225547,
          1225586,
          1226114,
          1226151,
          1226188,
          1226228,
          1226229,
          1226268,
          1226292,
          1226326,
          1226962,
          1227002
         ],
         "y": [
          160,
          160,
          161,
          161,
          162,
          162,
          163,
          163,
          164,
          164,
          165,
          165,
          166,
          166,
          167,
          167,
          168,
          168,
          169,
          169,
          170,
          170,
          171,
          171,
          172,
          172,
          173,
          173,
          174,
          174,
          175,
          175,
          176,
          176,
          177,
          177,
          178,
          178,
          179,
          179,
          180,
          180,
          181,
          181,
          182,
          182,
          183,
          183,
          184,
          184,
          185,
          185,
          186,
          186,
          187,
          187,
          188,
          188,
          189,
          189,
          190,
          190,
          191,
          191,
          192,
          192,
          193,
          193,
          194,
          194,
          195,
          195,
          196,
          196,
          197,
          197,
          198,
          198,
          199,
          199
         ]
        },
        {
         "line": {
          "color": "#FF97FF"
         },
         "mode": "lines",
         "name": "P-rex-3",
         "showlegend": true,
         "type": "scatter",
         "x": [
          1298588,
          1298622,
          1298844,
          1298884,
          1299444,
          1299484,
          1299498,
          1299532,
          1299758,
          1299794,
          1300110,
          1300150,
          1300181,
          1300221,
          1300225,
          1300259,
          1300846,
          1300885,
          1301103,
          1301143,
          1301978,
          1302018,
          1302074,
          1302114,
          1302325,
          1302359,
          1302391,
          1302431,
          1302523,
          1302557,
          1302559,
          1302593,
          1302628,
          1302662,
          1303077,
          1303117,
          1303272,
          1303312,
          1303443,
          1303483,
          1304055,
          1304095,
          1304185,
          1304225,
          1304234,
          1304274,
          1304333,
          1304367,
          1304438,
          1304477,
          1304556,
          1304590,
          1304722,
          1304762,
          1305457,
          1305491,
          1305692,
          1305731,
          1305974,
          1306008,
          1306009,
          1306043,
          1306044,
          1306078,
          1306079,
          1306115,
          1306116,
          1306150,
          1306151,
          1306185,
          1306186,
          1306220,
          1306221,
          1306255,
          1306256,
          1306290,
          1306301,
          1306338,
          1306381,
          1306415
         ],
         "y": [
          200,
          200,
          201,
          201,
          202,
          202,
          203,
          203,
          204,
          204,
          205,
          205,
          206,
          206,
          207,
          207,
          208,
          208,
          209,
          209,
          210,
          210,
          211,
          211,
          212,
          212,
          213,
          213,
          214,
          214,
          215,
          215,
          216,
          216,
          217,
          217,
          218,
          218,
          219,
          219,
          220,
          220,
          221,
          221,
          222,
          222,
          223,
          223,
          224,
          224,
          225,
          225,
          226,
          226,
          227,
          227,
          228,
          228,
          229,
          229,
          230,
          230,
          231,
          231,
          232,
          232,
          233,
          233,
          234,
          234,
          235,
          235,
          236,
          236,
          237,
          237,
          238,
          238,
          239,
          239
         ]
        },
        {
         "line": {
          "color": "#FECB52"
         },
         "mode": "lines",
         "name": "rex-44",
         "showlegend": true,
         "type": "scatter",
         "x": [
          1320290,
          1320324,
          1320373,
          1320407,
          1320554,
          1320594,
          1320922,
          1320956,
          1321180,
          1321214,
          1321239,
          1321273,
          1321380,
          1321414,
          1321432,
          1321467,
          1321524,
          1321560,
          1321597,
          1321637,
          1321727,
          1321767,
          1321804,
          1321841,
          1321870,
          1321909,
          1322201,
          1322235,
          1322248,
          1322288,
          1322324,
          1322358,
          1322373,
          1322413,
          1322446,
          1322484,
          1322918,
          1322958,
          1323071,
          1323105,
          1323115,
          1323154,
          1323197,
          1323237,
          1323278,
          1323315,
          1323425,
          1323460,
          1323472,
          1323512,
          1323747,
          1323787,
          1324288,
          1324327,
          1324397,
          1324431,
          1324509,
          1324543,
          1324586,
          1324620,
          1324915,
          1324950,
          1324987,
          1325021,
          1325130,
          1325164,
          1325262,
          1325296,
          1325335,
          1325369,
          1325439,
          1325474,
          1325483,
          1325523,
          1325629,
          1325664,
          1325765,
          1325805,
          1326094,
          1326128
         ],
         "y": [
          240,
          240,
          241,
          241,
          242,
          242,
          243,
          243,
          244,
          244,
          245,
          245,
          246,
          246,
          247,
          247,
          248,
          248,
          249,
          249,
          250,
          250,
          251,
          251,
          252,
          252,
          253,
          253,
          254,
          254,
          255,
          255,
          256,
          256,
          257,
          257,
          258,
          258,
          259,
          259,
          260,
          260,
          261,
          261,
          262,
          262,
          263,
          263,
          264,
          264,
          265,
          265,
          266,
          266,
          267,
          267,
          268,
          268,
          269,
          269,
          270,
          270,
          271,
          271,
          272,
          272,
          273,
          273,
          274,
          274,
          275,
          275,
          276,
          276,
          277,
          277,
          278,
          278,
          279,
          279
         ]
        },
        {
         "line": {
          "color": "#636EFA"
         },
         "mode": "lines",
         "name": "nDCC-3",
         "showlegend": true,
         "type": "scatter",
         "x": [
          1336168,
          1336206,
          1336526,
          1336560,
          1336591,
          1336631,
          1336734,
          1336774,
          1336845,
          1336879,
          1337051,
          1337090,
          1337092,
          1337132,
          1337133,
          1337167,
          1337168,
          1337202,
          1337212,
          1337252,
          1337253,
          1337293,
          1337314,
          1337353,
          1337414,
          1337453,
          1337527,
          1337567,
          1337606,
          1337646,
          1337784,
          1337818,
          1338144,
          1338184,
          1338185,
          1338220,
          1338563,
          1338603,
          1338736,
          1338776,
          1338777,
          1338816,
          1338817,
          1338857,
          1339057,
          1339094,
          1339123,
          1339163,
          1339185,
          1339225,
          1339578,
          1339618,
          1339624,
          1339664,
          1339665,
          1339699,
          1339700,
          1339734,
          1339737,
          1339774,
          1339775,
          1339809,
          1339825,
          1339859,
          1339868,
          1339902,
          1339903,
          1339941,
          1339942,
          1339976,
          1339983,
          1340023,
          1340044,
          1340078,
          1340079,
          1340113,
          1340114,
          1340148,
          1340392,
          1340428
         ],
         "y": [
          280,
          280,
          281,
          281,
          282,
          282,
          283,
          283,
          284,
          284,
          285,
          285,
          286,
          286,
          287,
          287,
          288,
          288,
          289,
          289,
          290,
          290,
          291,
          291,
          292,
          292,
          293,
          293,
          294,
          294,
          295,
          295,
          296,
          296,
          297,
          297,
          298,
          298,
          299,
          299,
          300,
          300,
          301,
          301,
          302,
          302,
          303,
          303,
          304,
          304,
          305,
          305,
          306,
          306,
          307,
          307,
          308,
          308,
          309,
          309,
          310,
          310,
          311,
          311,
          312,
          312,
          313,
          313,
          314,
          314,
          315,
          315,
          316,
          316,
          317,
          317,
          318,
          318,
          319,
          319
         ]
        },
        {
         "line": {
          "color": "#EF553B"
         },
         "mode": "lines",
         "name": "rex-45",
         "showlegend": true,
         "type": "scatter",
         "x": [
          1343604,
          1343644,
          1343719,
          1343759,
          1343847,
          1343885,
          1343921,
          1343955,
          1343983,
          1344017,
          1344066,
          1344106,
          1344107,
          1344143,
          1344301,
          1344335,
          1344375,
          1344409,
          1344531,
          1344571,
          1344608,
          1344645,
          1344721,
          1344757,
          1344866,
          1344906,
          1344907,
          1344941,
          1344991,
          1345026,
          1345027,
          1345064,
          1345100,
          1345138,
          1345225,
          1345265,
          1345269,
          1345309,
          1345331,
          1345365,
          1345404,
          1345439,
          1345471,
          1345511,
          1345726,
          1345763,
          1345802,
          1345842,
          1345888,
          1345922,
          1345927,
          1345967,
          1346078,
          1346118,
          1346126,
          1346166,
          1346175,
          1346213,
          1346529,
          1346569,
          1346711,
          1346747,
          1346887,
          1346922,
          1346923,
          1346963,
          1347138,
          1347178,
          1347184,
          1347218,
          1347392,
          1347429,
          1347494,
          1347534,
          1347668,
          1347708,
          1347745,
          1347785,
          1347989,
          1348029
         ],
         "y": [
          320,
          320,
          321,
          321,
          322,
          322,
          323,
          323,
          324,
          324,
          325,
          325,
          326,
          326,
          327,
          327,
          328,
          328,
          329,
          329,
          330,
          330,
          331,
          331,
          332,
          332,
          333,
          333,
          334,
          334,
          335,
          335,
          336,
          336,
          337,
          337,
          338,
          338,
          339,
          339,
          340,
          340,
          341,
          341,
          342,
          342,
          343,
          343,
          344,
          344,
          345,
          345,
          346,
          346,
          347,
          347,
          348,
          348,
          349,
          349,
          350,
          350,
          351,
          351,
          352,
          352,
          353,
          353,
          354,
          354,
          355,
          355,
          356,
          356,
          357,
          357,
          358,
          358,
          359,
          359
         ]
        },
        {
         "line": {
          "color": "#00CC96"
         },
         "mode": "lines",
         "name": "rex-18",
         "showlegend": true,
         "type": "scatter",
         "x": [
          1377461,
          1377501,
          1377502,
          1377538,
          1378589,
          1378629,
          1378801,
          1378840,
          1379557,
          1379593,
          1379663,
          1379697,
          1379718,
          1379752,
          1380301,
          1380341,
          1380408,
          1380447,
          1380494,
          1380534,
          1380535,
          1380569,
          1380857,
          1380897,
          1380898,
          1380937,
          1380938,
          1380972,
          1381012,
          1381052,
          1381362,
          1381402,
          1381403,
          1381437,
          1381438,
          1381472,
          1381524,
          1381558,
          1381846,
          1381886,
          1382008,
          1382048,
          1382467,
          1382507,
          1382595,
          1382629,
          1382635,
          1382675,
          1383373,
          1383412,
          1383433,
          1383473,
          1383489,
          1383529,
          1383530,
          1383564,
          1383589,
          1383629,
          1383630,
          1383664,
          1383762,
          1383796,
          1383797,
          1383831,
          1383847,
          1383881,
          1383882,
          1383916,
          1383917,
          1383951,
          1384253,
          1384288,
          1384402,
          1384436,
          1384438,
          1384472,
          1384526,
          1384566,
          1384601,
          1384641
         ],
         "y": [
          360,
          360,
          361,
          361,
          362,
          362,
          363,
          363,
          364,
          364,
          365,
          365,
          366,
          366,
          367,
          367,
          368,
          368,
          369,
          369,
          370,
          370,
          371,
          371,
          372,
          372,
          373,
          373,
          374,
          374,
          375,
          375,
          376,
          376,
          377,
          377,
          378,
          378,
          379,
          379,
          380,
          380,
          381,
          381,
          382,
          382,
          383,
          383,
          384,
          384,
          385,
          385,
          386,
          386,
          387,
          387,
          388,
          388,
          389,
          389,
          390,
          390,
          391,
          391,
          392,
          392,
          393,
          393,
          394,
          394,
          395,
          395,
          396,
          396,
          397,
          397,
          398,
          398,
          399,
          399
         ]
        },
        {
         "line": {
          "color": "#AB63FA"
         },
         "mode": "lines",
         "name": "P-rex-6/nDCC-4",
         "showlegend": true,
         "type": "scatter",
         "x": [
          1385762,
          1385800,
          1385867,
          1385907,
          1387144,
          1387184,
          1387187,
          1387221,
          1387311,
          1387349,
          1387350,
          1387385,
          1387389,
          1387429,
          1387430,
          1387464,
          1387465,
          1387502,
          1387504,
          1387538,
          1387767,
          1387806,
          1387843,
          1387882,
          1387883,
          1387917,
          1387918,
          1387958,
          1387959,
          1387993,
          1388017,
          1388057,
          1388060,
          1388094,
          1388137,
          1388176,
          1388215,
          1388254,
          1388255,
          1388294,
          1388313,
          1388353,
          1388598,
          1388637,
          1388771,
          1388811,
          1388812,
          1388850,
          1388934,
          1388973,
          1389102,
          1389142,
          1389258,
          1389298,
          1389302,
          1389336,
          1389450,
          1389490,
          1389537,
          1389577,
          1389662,
          1389702,
          1390070,
          1390110,
          1390177,
          1390217,
          1390240,
          1390280,
          1390284,
          1390324,
          1390547,
          1390584,
          1390592,
          1390626,
          1390749,
          1390783,
          1390784,
          1390819,
          1390844,
          1390884
         ],
         "y": [
          400,
          400,
          401,
          401,
          402,
          402,
          403,
          403,
          404,
          404,
          405,
          405,
          406,
          406,
          407,
          407,
          408,
          408,
          409,
          409,
          410,
          410,
          411,
          411,
          412,
          412,
          413,
          413,
          414,
          414,
          415,
          415,
          416,
          416,
          417,
          417,
          418,
          418,
          419,
          419,
          420,
          420,
          421,
          421,
          422,
          422,
          423,
          423,
          424,
          424,
          425,
          425,
          426,
          426,
          427,
          427,
          428,
          428,
          429,
          429,
          430,
          430,
          431,
          431,
          432,
          432,
          433,
          433,
          434,
          434,
          435,
          435,
          436,
          436,
          437,
          437,
          438,
          438,
          439,
          439
         ]
        },
        {
         "line": {
          "color": "#FFA15A"
         },
         "mode": "lines",
         "name": "nDCC-5/nDCC-6",
         "showlegend": true,
         "type": "scatter",
         "x": [
          1436623,
          1436662,
          1436942,
          1436982,
          1437059,
          1437099,
          1437170,
          1437209,
          1437210,
          1437245,
          1437246,
          1437280,
          1437330,
          1437370,
          1437838,
          1437878,
          1437903,
          1437943,
          1437986,
          1438022,
          1438080,
          1438114,
          1438774,
          1438808,
          1439011,
          1439046,
          1439047,
          1439085,
          1439099,
          1439139,
          1439212,
          1439246,
          1439429,
          1439464,
          1439490,
          1439530,
          1439540,
          1439574,
          1439604,
          1439638,
          1439658,
          1439698,
          1439723,
          1439763,
          1439764,
          1439798,
          1439811,
          1439851,
          1439855,
          1439895,
          1440136,
          1440170,
          1440178,
          1440212,
          1440213,
          1440247,
          1440248,
          1440282,
          1440618,
          1440652,
          1440654,
          1440688,
          1440690,
          1440724,
          1440726,
          1440760,
          1440761,
          1440795,
          1440796,
          1440830,
          1440831,
          1440865,
          1440901,
          1440935,
          1440942,
          1440976,
          1441058,
          1441092,
          1441099,
          1441133
         ],
         "y": [
          440,
          440,
          441,
          441,
          442,
          442,
          443,
          443,
          444,
          444,
          445,
          445,
          446,
          446,
          447,
          447,
          448,
          448,
          449,
          449,
          450,
          450,
          451,
          451,
          452,
          452,
          453,
          453,
          454,
          454,
          455,
          455,
          456,
          456,
          457,
          457,
          458,
          458,
          459,
          459,
          460,
          460,
          461,
          461,
          462,
          462,
          463,
          463,
          464,
          464,
          465,
          465,
          466,
          466,
          467,
          467,
          468,
          468,
          469,
          469,
          470,
          470,
          471,
          471,
          472,
          472,
          473,
          473,
          474,
          474,
          475,
          475,
          476,
          476,
          477,
          477,
          478,
          478,
          479,
          479
         ]
        },
        {
         "line": {
          "color": "#19D3F3"
         },
         "mode": "lines",
         "name": "rex-19",
         "showlegend": true,
         "type": "scatter",
         "x": [
          1489726,
          1489766,
          1489802,
          1489836,
          1490180,
          1490214,
          1490254,
          1490293,
          1490294,
          1490333,
          1490356,
          1490396,
          1490409,
          1490448,
          1490512,
          1490552,
          1491198,
          1491238,
          1491530,
          1491570,
          1491694,
          1491728,
          1491861,
          1491901,
          1491902,
          1491936,
          1492017,
          1492057,
          1492066,
          1492106,
          1492140,
          1492177,
          1492253,
          1492287,
          1492312,
          1492352,
          1492362,
          1492401,
          1492406,
          1492446,
          1492450,
          1492490,
          1492491,
          1492525,
          1492526,
          1492566,
          1492575,
          1492615,
          1493251,
          1493290,
          1493295,
          1493335,
          1493906,
          1493942,
          1493943,
          1493977,
          1494244,
          1494284,
          1494285,
          1494321,
          1494366,
          1494406,
          1494440,
          1494474,
          1494562,
          1494602,
          1494615,
          1494655,
          1494656,
          1494693,
          1494694,
          1494728,
          1494807,
          1494847,
          1495118,
          1495158,
          1495247,
          1495285,
          1495305,
          1495340
         ],
         "y": [
          480,
          480,
          481,
          481,
          482,
          482,
          483,
          483,
          484,
          484,
          485,
          485,
          486,
          486,
          487,
          487,
          488,
          488,
          489,
          489,
          490,
          490,
          491,
          491,
          492,
          492,
          493,
          493,
          494,
          494,
          495,
          495,
          496,
          496,
          497,
          497,
          498,
          498,
          499,
          499,
          500,
          500,
          501,
          501,
          502,
          502,
          503,
          503,
          504,
          504,
          505,
          505,
          506,
          506,
          507,
          507,
          508,
          508,
          509,
          509,
          510,
          510,
          511,
          511,
          512,
          512,
          513,
          513,
          514,
          514,
          515,
          515,
          516,
          516,
          517,
          517,
          518,
          518,
          519,
          519
         ]
        },
        {
         "line": {
          "color": "#FF6692"
         },
         "mode": "lines",
         "name": "P-rex-7",
         "showlegend": true,
         "type": "scatter",
         "x": [
          1623376,
          1623416,
          1624888,
          1624927,
          1624929,
          1624969,
          1625036,
          1625076,
          1625077,
          1625111,
          1625172,
          1625208,
          1625268,
          1625308,
          1626402,
          1626442,
          1626443,
          1626477,
          1626488,
          1626527,
          1626818,
          1626853,
          1626991,
          1627031,
          1627086,
          1627120,
          1627121,
          1627155,
          1628068,
          1628108,
          1628741,
          1628781,
          1628794,
          1628828,
          1628829,
          1628863,
          1628864,
          1628901,
          1628902,
          1628937,
          1628938,
          1628978,
          1628979,
          1629013,
          1629015,
          1629055,
          1629065,
          1629105,
          1629106,
          1629140,
          1629141,
          1629181,
          1629182,
          1629219,
          1629220,
          1629258,
          1629259,
          1629298,
          1629299,
          1629339,
          1629352,
          1629392,
          1629410,
          1629450,
          1629532,
          1629566,
          1629942,
          1629976,
          1630042,
          1630076,
          1630142,
          1630179,
          1630371,
          1630411,
          1630412,
          1630449,
          1630477,
          1630517,
          1630595,
          1630630
         ],
         "y": [
          520,
          520,
          521,
          521,
          522,
          522,
          523,
          523,
          524,
          524,
          525,
          525,
          526,
          526,
          527,
          527,
          528,
          528,
          529,
          529,
          530,
          530,
          531,
          531,
          532,
          532,
          533,
          533,
          534,
          534,
          535,
          535,
          536,
          536,
          537,
          537,
          538,
          538,
          539,
          539,
          540,
          540,
          541,
          541,
          542,
          542,
          543,
          543,
          544,
          544,
          545,
          545,
          546,
          546,
          547,
          547,
          548,
          548,
          549,
          549,
          550,
          550,
          551,
          551,
          552,
          552,
          553,
          553,
          554,
          554,
          555,
          555,
          556,
          556,
          557,
          557,
          558,
          558,
          559,
          559
         ]
        },
        {
         "line": {
          "color": "#B6E880"
         },
         "mode": "lines",
         "name": "rex-20",
         "showlegend": true,
         "type": "scatter",
         "x": [
          1679797,
          1679832,
          1680690,
          1680730,
          1681940,
          1681974,
          1682016,
          1682055,
          1682056,
          1682092,
          1682144,
          1682181,
          1682739,
          1682773,
          1683134,
          1683174,
          1683210,
          1683244,
          1683246,
          1683286,
          1683404,
          1683444,
          1683445,
          1683479,
          1683515,
          1683549,
          1683628,
          1683662,
          1683697,
          1683737,
          1683808,
          1683848,
          1683888,
          1683927,
          1683928,
          1683968,
          1683969,
          1684003,
          1684004,
          1684038,
          1684039,
          1684077,
          1684118,
          1684152,
          1684242,
          1684282,
          1684283,
          1684320,
          1684335,
          1684369,
          1684370,
          1684404,
          1684486,
          1684520,
          1684605,
          1684639,
          1684698,
          1684738,
          1684739,
          1684779,
          1684815,
          1684849,
          1684974,
          1685014,
          1685017,
          1685051,
          1685131,
          1685171,
          1685212,
          1685246,
          1685436,
          1685475,
          1685490,
          1685529,
          1685568,
          1685602,
          1685603,
          1685637,
          1685638,
          1685672
         ],
         "y": [
          560,
          560,
          561,
          561,
          562,
          562,
          563,
          563,
          564,
          564,
          565,
          565,
          566,
          566,
          567,
          567,
          568,
          568,
          569,
          569,
          570,
          570,
          571,
          571,
          572,
          572,
          573,
          573,
          574,
          574,
          575,
          575,
          576,
          576,
          577,
          577,
          578,
          578,
          579,
          579,
          580,
          580,
          581,
          581,
          582,
          582,
          583,
          583,
          584,
          584,
          585,
          585,
          586,
          586,
          587,
          587,
          588,
          588,
          589,
          589,
          590,
          590,
          591,
          591,
          592,
          592,
          593,
          593,
          594,
          594,
          595,
          595,
          596,
          596,
          597,
          597,
          598,
          598,
          599,
          599
         ]
        },
        {
         "line": {
          "color": "#FF97FF"
         },
         "mode": "lines",
         "name": "nDCC-7",
         "showlegend": true,
         "type": "scatter",
         "x": [
          1855501,
          1855541,
          1855586,
          1855626,
          1855720,
          1855754,
          1855833,
          1855867,
          1855944,
          1855980,
          1855998,
          1856038,
          1856087,
          1856127,
          1856128,
          1856162,
          1856308,
          1856342,
          1856345,
          1856380,
          1856441,
          1856480,
          1856481,
          1856517,
          1856518,
          1856552,
          1856585,
          1856624,
          1856788,
          1856828,
          1856922,
          1856962,
          1857484,
          1857524,
          1857884,
          1857924,
          1857938,
          1857978,
          1857979,
          1858013,
          1858014,
          1858049,
          1858050,
          1858090,
          1858091,
          1858125,
          1858128,
          1858164,
          1858165,
          1858203,
          1858255,
          1858295,
          1858558,
          1858598,
          1858638,
          1858672,
          1858676,
          1858714,
          1858757,
          1858792,
          1858933,
          1858973,
          1858974,
          1859008,
          1859350,
          1859390,
          1859943,
          1859983,
          1859984,
          1860020,
          1860035,
          1860075,
          1860076,
          1860112,
          1860712,
          1860752,
          1860753,
          1860793,
          1861870,
          1861908
         ],
         "y": [
          600,
          600,
          601,
          601,
          602,
          602,
          603,
          603,
          604,
          604,
          605,
          605,
          606,
          606,
          607,
          607,
          608,
          608,
          609,
          609,
          610,
          610,
          611,
          611,
          612,
          612,
          613,
          613,
          614,
          614,
          615,
          615,
          616,
          616,
          617,
          617,
          618,
          618,
          619,
          619,
          620,
          620,
          621,
          621,
          622,
          622,
          623,
          623,
          624,
          624,
          625,
          625,
          626,
          626,
          627,
          627,
          628,
          628,
          629,
          629,
          630,
          630,
          631,
          631,
          632,
          632,
          633,
          633,
          634,
          634,
          635,
          635,
          636,
          636,
          637,
          637,
          638,
          638,
          639,
          639
         ]
        },
        {
         "line": {
          "color": "#FECB52"
         },
         "mode": "lines",
         "name": "nDCC-8",
         "showlegend": true,
         "type": "scatter",
         "x": [
          1875909,
          1875949,
          1876248,
          1876288,
          1876363,
          1876402,
          1876462,
          1876502,
          1876504,
          1876544,
          1876555,
          1876595,
          1876719,
          1876759,
          1876771,
          1876811,
          1876816,
          1876855,
          1876891,
          1876931,
          1876964,
          1876998,
          1877164,
          1877204,
          1877248,
          1877288,
          1877645,
          1877685,
          1877759,
          1877799,
          1877919,
          1877959,
          1878064,
          1878104,
          1878140,
          1878180,
          1878227,
          1878267,
          1878339,
          1878379,
          1878447,
          1878487,
          1878565,
          1878603,
          1879438,
          1879478,
          1879501,
          1879541,
          1879593,
          1879633,
          1879643,
          1879683,
          1879835,
          1879875,
          1880005,
          1880045,
          1880046,
          1880080,
          1880102,
          1880136,
          1880268,
          1880308,
          1880384,
          1880424,
          1880510,
          1880550,
          1880551,
          1880585,
          1880642,
          1880682,
          1880875,
          1880909,
          1881077,
          1881115,
          1881755,
          1881795,
          1882282,
          1882316
         ],
         "y": [
          640,
          640,
          641,
          641,
          642,
          642,
          643,
          643,
          644,
          644,
          645,
          645,
          646,
          646,
          647,
          647,
          648,
          648,
          649,
          649,
          650,
          650,
          651,
          651,
          652,
          652,
          653,
          653,
          654,
          654,
          655,
          655,
          656,
          656,
          657,
          657,
          658,
          658,
          659,
          659,
          660,
          660,
          661,
          661,
          662,
          662,
          663,
          663,
          664,
          664,
          665,
          665,
          666,
          666,
          667,
          667,
          668,
          668,
          669,
          669,
          670,
          670,
          671,
          671,
          672,
          672,
          673,
          673,
          674,
          674,
          675,
          675,
          676,
          676,
          677,
          677,
          678,
          678
         ]
        },
        {
         "line": {
          "color": "#636EFA"
         },
         "mode": "lines",
         "name": "rex-21",
         "showlegend": true,
         "type": "scatter",
         "x": [
          1888404,
          1888442,
          1888559,
          1888598,
          1888606,
          1888640,
          1888676,
          1888711,
          1888735,
          1888775,
          1888811,
          1888845,
          1888908,
          1888948,
          1888963,
          1889003,
          1889113,
          1889153,
          1890150,
          1890189,
          1890190,
          1890225,
          1890226,
          1890260,
          1890287,
          1890321,
          1890330,
          1890364,
          1890375,
          1890415,
          1890429,
          1890469,
          1890470,
          1890504,
          1890585,
          1890625,
          1890663,
          1890703,
          1890741,
          1890781,
          1890795,
          1890835,
          1890962,
          1891002,
          1891048,
          1891088,
          1891111,
          1891151,
          1891342,
          1891382,
          1891418,
          1891452,
          1891504,
          1891538,
          1891556,
          1891596,
          1891681,
          1891721,
          1891773,
          1891813,
          1891992,
          1892026,
          1892044,
          1892078,
          1892194,
          1892234,
          1892235,
          1892271,
          1892846,
          1892880,
          1892926,
          1892966,
          1892967,
          1893001,
          1893164,
          1893204,
          1893240,
          1893274,
          1893275,
          1893309
         ],
         "y": [
          679,
          679,
          680,
          680,
          681,
          681,
          682,
          682,
          683,
          683,
          684,
          684,
          685,
          685,
          686,
          686,
          687,
          687,
          688,
          688,
          689,
          689,
          690,
          690,
          691,
          691,
          692,
          692,
          693,
          693,
          694,
          694,
          695,
          695,
          696,
          696,
          697,
          697,
          698,
          698,
          699,
          699,
          700,
          700,
          701,
          701,
          702,
          702,
          703,
          703,
          704,
          704,
          705,
          705,
          706,
          706,
          707,
          707,
          708,
          708,
          709,
          709,
          710,
          710,
          711,
          711,
          712,
          712,
          713,
          713,
          714,
          714,
          715,
          715,
          716,
          716,
          717,
          717,
          718,
          718
         ]
        },
        {
         "line": {
          "color": "#EF553B"
         },
         "mode": "lines",
         "name": "rex-2/nDCC-9",
         "showlegend": true,
         "type": "scatter",
         "x": [
          1906331,
          1906370,
          1906406,
          1906442,
          1906452,
          1906487,
          1907163,
          1907201,
          1907229,
          1907269,
          1907298,
          1907334,
          1908158,
          1908198,
          1908290,
          1908330,
          1908471,
          1908511,
          1908599,
          1908639,
          1908653,
          1908693,
          1908887,
          1908925,
          1908927,
          1908967,
          1909003,
          1909040,
          1909042,
          1909082,
          1909083,
          1909120,
          1909493,
          1909533,
          1909574,
          1909608,
          1909739,
          1909779,
          1910289,
          1910325,
          1910972,
          1911012,
          1911058,
          1911098,
          1911142,
          1911180,
          1911241,
          1911276,
          1911425,
          1911465,
          1911539,
          1911573,
          1911574,
          1911612,
          1911613,
          1911647,
          1911648,
          1911682,
          1911776,
          1911816,
          1911852,
          1911889,
          1911890,
          1911924,
          1911925,
          1911959,
          1911960,
          1911994,
          1911995,
          1912029,
          1912078,
          1912117,
          1912124,
          1912164,
          1912167,
          1912207,
          1912208,
          1912242,
          1912245,
          1912279
         ],
         "y": [
          719,
          719,
          720,
          720,
          721,
          721,
          722,
          722,
          723,
          723,
          724,
          724,
          725,
          725,
          726,
          726,
          727,
          727,
          728,
          728,
          729,
          729,
          730,
          730,
          731,
          731,
          732,
          732,
          733,
          733,
          734,
          734,
          735,
          735,
          736,
          736,
          737,
          737,
          738,
          738,
          739,
          739,
          740,
          740,
          741,
          741,
          742,
          742,
          743,
          743,
          744,
          744,
          745,
          745,
          746,
          746,
          747,
          747,
          748,
          748,
          749,
          749,
          750,
          750,
          751,
          751,
          752,
          752,
          753,
          753,
          754,
          754,
          755,
          755,
          756,
          756,
          757,
          757,
          758,
          758
         ]
        },
        {
         "line": {
          "color": "#00CC96"
         },
         "mode": "lines",
         "name": "nDCC-10",
         "showlegend": true,
         "type": "scatter",
         "x": [
          2361908,
          2361948,
          2361984,
          2362024,
          2362082,
          2362122,
          2362213,
          2362253,
          2362293,
          2362327,
          2362518,
          2362558,
          2362593,
          2362633,
          2362739,
          2362779,
          2362800,
          2362840,
          2362922,
          2362959,
          2363174,
          2363208,
          2363284,
          2363324,
          2363518,
          2363558,
          2363836,
          2363876,
          2363947,
          2363987,
          2364036,
          2364076,
          2364089,
          2364129,
          2364130,
          2364165,
          2364166,
          2364200,
          2364218,
          2364255,
          2364291,
          2364325,
          2364416,
          2364456,
          2364469,
          2364509,
          2364510,
          2364544,
          2364555,
          2364589,
          2364592,
          2364631,
          2364665,
          2364702,
          2364866,
          2364906,
          2365473,
          2365513,
          2365723,
          2365760,
          2365862,
          2365896,
          2366018,
          2366056,
          2366091,
          2366131,
          2366217,
          2366256,
          2366302,
          2366342,
          2366345,
          2366382,
          2367234,
          2367274,
          2367289,
          2367327,
          2367370,
          2367404,
          2367443,
          2367483
         ],
         "y": [
          759,
          759,
          760,
          760,
          761,
          761,
          762,
          762,
          763,
          763,
          764,
          764,
          765,
          765,
          766,
          766,
          767,
          767,
          768,
          768,
          769,
          769,
          770,
          770,
          771,
          771,
          772,
          772,
          773,
          773,
          774,
          774,
          775,
          775,
          776,
          776,
          777,
          777,
          778,
          778,
          779,
          779,
          780,
          780,
          781,
          781,
          782,
          782,
          783,
          783,
          784,
          784,
          785,
          785,
          786,
          786,
          787,
          787,
          788,
          788,
          789,
          789,
          790,
          790,
          791,
          791,
          792,
          792,
          793,
          793,
          794,
          794,
          795,
          795,
          796,
          796,
          797,
          797,
          798,
          798
         ]
        },
        {
         "line": {
          "color": "#AB63FA"
         },
         "mode": "lines",
         "name": "nDCC-11",
         "showlegend": true,
         "type": "scatter",
         "x": [
          2610967,
          2611004,
          2611005,
          2611043,
          2611108,
          2611148,
          2611149,
          2611188,
          2611338,
          2611377,
          2611398,
          2611438,
          2611439,
          2611473,
          2611515,
          2611549,
          2612315,
          2612355,
          2612434,
          2612473,
          2612608,
          2612648,
          2612687,
          2612722,
          2612762,
          2612802,
          2612884,
          2612924,
          2613081,
          2613121,
          2613122,
          2613156,
          2613191,
          2613231,
          2613377,
          2613417,
          2613419,
          2613459,
          2613538,
          2613578,
          2613579,
          2613619,
          2613621,
          2613661,
          2613778,
          2613812,
          2614173,
          2614212,
          2614299,
          2614339,
          2614340,
          2614379,
          2614415,
          2614450,
          2614499,
          2614538,
          2614645,
          2614679,
          2614764,
          2614804,
          2614824,
          2614864,
          2615433,
          2615473,
          2615474,
          2615513,
          2615514,
          2615548,
          2615556,
          2615594,
          2615595,
          2615630,
          2615631,
          2615671,
          2615672,
          2615706,
          2615839,
          2615874,
          2615921,
          2615961
         ],
         "y": [
          799,
          799,
          800,
          800,
          801,
          801,
          802,
          802,
          803,
          803,
          804,
          804,
          805,
          805,
          806,
          806,
          807,
          807,
          808,
          808,
          809,
          809,
          810,
          810,
          811,
          811,
          812,
          812,
          813,
          813,
          814,
          814,
          815,
          815,
          816,
          816,
          817,
          817,
          818,
          818,
          819,
          819,
          820,
          820,
          821,
          821,
          822,
          822,
          823,
          823,
          824,
          824,
          825,
          825,
          826,
          826,
          827,
          827,
          828,
          828,
          829,
          829,
          830,
          830,
          831,
          831,
          832,
          832,
          833,
          833,
          834,
          834,
          835,
          835,
          836,
          836,
          837,
          837,
          838,
          838
         ]
        },
        {
         "line": {
          "color": "#FFA15A"
         },
         "mode": "lines",
         "name": "P-rex-11",
         "showlegend": true,
         "type": "scatter",
         "x": [
          2806955,
          2806995,
          2807005,
          2807041,
          2807104,
          2807144,
          2807145,
          2807183,
          2807304,
          2807344,
          2807396,
          2807436,
          2807474,
          2807508,
          2807552,
          2807592,
          2807628,
          2807663,
          2807963,
          2808003,
          2808004,
          2808040,
          2808186,
          2808226,
          2808227,
          2808261,
          2808359,
          2808399,
          2808400,
          2808436,
          2808485,
          2808524,
          2808571,
          2808606,
          2808707,
          2808747,
          2808784,
          2808818,
          2808822,
          2808862,
          2809058,
          2809092,
          2809662,
          2809701,
          2809747,
          2809785,
          2809793,
          2809827,
          2809839,
          2809873,
          2810151,
          2810191,
          2810201,
          2810241,
          2810242,
          2810281,
          2810546,
          2810586,
          2810590,
          2810630,
          2810830,
          2810870,
          2811540,
          2811580,
          2811599,
          2811633,
          2811669,
          2811706,
          2811723,
          2811763,
          2811879,
          2811918,
          2811934,
          2811974,
          2812168,
          2812208,
          2812245,
          2812285,
          2812656,
          2812690
         ],
         "y": [
          839,
          839,
          840,
          840,
          841,
          841,
          842,
          842,
          843,
          843,
          844,
          844,
          845,
          845,
          846,
          846,
          847,
          847,
          848,
          848,
          849,
          849,
          850,
          850,
          851,
          851,
          852,
          852,
          853,
          853,
          854,
          854,
          855,
          855,
          856,
          856,
          857,
          857,
          858,
          858,
          859,
          859,
          860,
          860,
          861,
          861,
          862,
          862,
          863,
          863,
          864,
          864,
          865,
          865,
          866,
          866,
          867,
          867,
          868,
          868,
          869,
          869,
          870,
          870,
          871,
          871,
          872,
          872,
          873,
          873,
          874,
          874,
          875,
          875,
          876,
          876,
          877,
          877,
          878,
          878
         ]
        },
        {
         "line": {
          "color": "#19D3F3"
         },
         "mode": "lines",
         "name": "rex-32",
         "showlegend": true,
         "type": "scatter",
         "x": [
          2995688,
          2995727,
          2995728,
          2995762,
          2995965,
          2996005,
          2996161,
          2996201,
          2996443,
          2996483,
          2996548,
          2996588,
          2996598,
          2996638,
          2997031,
          2997071,
          2997086,
          2997126,
          2997222,
          2997262,
          2997474,
          2997513,
          2997605,
          2997644,
          2997974,
          2998014,
          2998308,
          2998348,
          2998369,
          2998405,
          2998447,
          2998483,
          2998485,
          2998525,
          2998526,
          2998566,
          2998584,
          2998624,
          2998654,
          2998694,
          2998733,
          2998773,
          2998774,
          2998808,
          2998809,
          2998849,
          2999115,
          2999155,
          2999156,
          2999190,
          2999280,
          2999320,
          2999350,
          2999385,
          2999499,
          2999539,
          2999580,
          2999620,
          2999621,
          2999655,
          2999671,
          2999708,
          2999709,
          2999745,
          2999908,
          2999946,
          2999989,
          3000029,
          3000276,
          3000316,
          3000430,
          3000470,
          3000543,
          3000583,
          3000677,
          3000716,
          3000717,
          3000751,
          3000905,
          3000945
         ],
         "y": [
          879,
          879,
          880,
          880,
          881,
          881,
          882,
          882,
          883,
          883,
          884,
          884,
          885,
          885,
          886,
          886,
          887,
          887,
          888,
          888,
          889,
          889,
          890,
          890,
          891,
          891,
          892,
          892,
          893,
          893,
          894,
          894,
          895,
          895,
          896,
          896,
          897,
          897,
          898,
          898,
          899,
          899,
          900,
          900,
          901,
          901,
          902,
          902,
          903,
          903,
          904,
          904,
          905,
          905,
          906,
          906,
          907,
          907,
          908,
          908,
          909,
          909,
          910,
          910,
          911,
          911,
          912,
          912,
          913,
          913,
          914,
          914,
          915,
          915,
          916,
          916,
          917,
          917,
          918,
          918
         ]
        },
        {
         "line": {
          "color": "#FF6692"
         },
         "mode": "lines",
         "name": "rex-23",
         "showlegend": true,
         "type": "scatter",
         "x": [
          4206311,
          4206345,
          4206395,
          4206429,
          4207839,
          4207879,
          4208151,
          4208191,
          4208192,
          4208226,
          4208241,
          4208281,
          4208282,
          4208317,
          4208396,
          4208436,
          4208659,
          4208699,
          4208707,
          4208747,
          4208748,
          4208782,
          4208966,
          4209001,
          4209208,
          4209248,
          4209293,
          4209329,
          4209331,
          4209371,
          4209772,
          4209812,
          4209816,
          4209856,
          4209939,
          4209979,
          4210059,
          4210093,
          4210132,
          4210166,
          4210406,
          4210442,
          4210446,
          4210486,
          4210639,
          4210679,
          4210826,
          4210865,
          4210941,
          4210981,
          4211090,
          4211130,
          4211131,
          4211165,
          4211354,
          4211392,
          4211393,
          4211427,
          4211533,
          4211573,
          4211659,
          4211699,
          4211717,
          4211757,
          4211828,
          4211865,
          4211867,
          4211907,
          4211908,
          4211942,
          4212010,
          4212047,
          4212048,
          4212082,
          4212155,
          4212189,
          4212190,
          4212225,
          4212226,
          4212260
         ],
         "y": [
          919,
          919,
          920,
          920,
          921,
          921,
          922,
          922,
          923,
          923,
          924,
          924,
          925,
          925,
          926,
          926,
          927,
          927,
          928,
          928,
          929,
          929,
          930,
          930,
          931,
          931,
          932,
          932,
          933,
          933,
          934,
          934,
          935,
          935,
          936,
          936,
          937,
          937,
          938,
          938,
          939,
          939,
          940,
          940,
          941,
          941,
          942,
          942,
          943,
          943,
          944,
          944,
          945,
          945,
          946,
          946,
          947,
          947,
          948,
          948,
          949,
          949,
          950,
          950,
          951,
          951,
          952,
          952,
          953,
          953,
          954,
          954,
          955,
          955,
          956,
          956,
          957,
          957,
          958,
          958
         ]
        },
        {
         "line": {
          "color": "#B6E880"
         },
         "mode": "lines",
         "name": "rex-1",
         "showlegend": true,
         "type": "scatter",
         "x": [
          4391878,
          4391912,
          4391956,
          4391990,
          4392006,
          4392040,
          4392242,
          4392282,
          4392352,
          4392392,
          4392393,
          4392433,
          4392518,
          4392558,
          4392845,
          4392885,
          4392886,
          4392924,
          4392925,
          4392959,
          4393075,
          4393113,
          4393150,
          4393186,
          4393187,
          4393221,
          4393390,
          4393430,
          4393456,
          4393490,
          4393523,
          4393563,
          4394039,
          4394079,
          4394127,
          4394167,
          4394304,
          4394342,
          4394451,
          4394491,
          4394759,
          4394794,
          4395540,
          4395580,
          4395581,
          4395615,
          4395621,
          4395655,
          4395661,
          4395695,
          4396298,
          4396335,
          4397105,
          4397140,
          4397141,
          4397175,
          4397233,
          4397273,
          4397330,
          4397370,
          4397571,
          4397611,
          4397618,
          4397658,
          4397659,
          4397696,
          4397705,
          4397745,
          4397812,
          4397846,
          4397855,
          4397890,
          4398051,
          4398085,
          4398359,
          4398399,
          4399094,
          4399133,
          4399322,
          4399362
         ],
         "y": [
          959,
          959,
          960,
          960,
          961,
          961,
          962,
          962,
          963,
          963,
          964,
          964,
          965,
          965,
          966,
          966,
          967,
          967,
          968,
          968,
          969,
          969,
          970,
          970,
          971,
          971,
          972,
          972,
          973,
          973,
          974,
          974,
          975,
          975,
          976,
          976,
          977,
          977,
          978,
          978,
          979,
          979,
          980,
          980,
          981,
          981,
          982,
          982,
          983,
          983,
          984,
          984,
          985,
          985,
          986,
          986,
          987,
          987,
          988,
          988,
          989,
          989,
          990,
          990,
          991,
          991,
          992,
          992,
          993,
          993,
          994,
          994,
          995,
          995,
          996,
          996,
          997,
          997,
          998,
          998
         ]
        },
        {
         "line": {
          "color": "#FF97FF"
         },
         "mode": "lines",
         "name": "rex-34",
         "showlegend": true,
         "type": "scatter",
         "x": [
          5426567,
          5426606,
          5426664,
          5426704,
          5426889,
          5426928,
          5427037,
          5427071,
          5427210,
          5427250,
          5427658,
          5427694,
          5427799,
          5427839,
          5427938,
          5427978,
          5428018,
          5428052,
          5428253,
          5428291,
          5428422,
          5428462,
          5428584,
          5428624,
          5428794,
          5428834,
          5428889,
          5428925,
          5429142,
          5429178,
          5429255,
          5429291,
          5429541,
          5429575,
          5429651,
          5429685,
          5429748,
          5429782,
          5429888,
          5429928,
          5429968,
          5430002,
          5430074,
          5430114,
          5430162,
          5430202,
          5430394,
          5430432,
          5430473,
          5430508,
          5430592,
          5430632,
          5430746,
          5430783,
          5430880,
          5430920,
          5430991,
          5431029,
          5431124,
          5431164,
          5431311,
          5431347,
          5431396,
          5431436,
          5431605,
          5431645,
          5431760,
          5431800,
          5431891,
          5431931,
          5432156,
          5432196,
          5432238,
          5432278,
          5432321,
          5432358,
          5432404,
          5432444,
          5432483,
          5432523
         ],
         "y": [
          999,
          999,
          1000,
          1000,
          1001,
          1001,
          1002,
          1002,
          1003,
          1003,
          1004,
          1004,
          1005,
          1005,
          1006,
          1006,
          1007,
          1007,
          1008,
          1008,
          1009,
          1009,
          1010,
          1010,
          1011,
          1011,
          1012,
          1012,
          1013,
          1013,
          1014,
          1014,
          1015,
          1015,
          1016,
          1016,
          1017,
          1017,
          1018,
          1018,
          1019,
          1019,
          1020,
          1020,
          1021,
          1021,
          1022,
          1022,
          1023,
          1023,
          1024,
          1024,
          1025,
          1025,
          1026,
          1026,
          1027,
          1027,
          1028,
          1028,
          1029,
          1029,
          1030,
          1030,
          1031,
          1031,
          1032,
          1032,
          1033,
          1033,
          1034,
          1034,
          1035,
          1035,
          1036,
          1036,
          1037,
          1037,
          1038,
          1038
         ]
        },
        {
         "line": {
          "color": "#FECB52"
         },
         "mode": "lines",
         "name": "rex-38",
         "showlegend": true,
         "type": "scatter",
         "x": [
          5857015,
          5857055,
          5857092,
          5857132,
          5857168,
          5857202,
          5857238,
          5857278,
          5857330,
          5857366,
          5857372,
          5857409,
          5857445,
          5857479,
          5857525,
          5857559,
          5857632,
          5857671,
          5858452,
          5858492,
          5858620,
          5858656,
          5858663,
          5858700,
          5858841,
          5858875,
          5858887,
          5858926,
          5858963,
          5859001,
          5859100,
          5859134,
          5859269,
          5859303,
          5859411,
          5859451,
          5859547,
          5859581,
          5859652,
          5859691,
          5859737,
          5859777,
          5859816,
          5859856,
          5859896,
          5859930,
          5859966,
          5860000,
          5860111,
          5860151,
          5860309,
          5860343,
          5860414,
          5860448,
          5860535,
          5860575,
          5861172,
          5861211,
          5861212,
          5861247,
          5861294,
          5861328,
          5861414,
          5861453,
          5861653,
          5861692,
          5861743,
          5861781,
          5861782,
          5861821,
          5862358,
          5862398,
          5862403,
          5862443,
          5862444,
          5862483,
          5862794,
          5862828,
          5862880,
          5862916
         ],
         "y": [
          1039,
          1039,
          1040,
          1040,
          1041,
          1041,
          1042,
          1042,
          1043,
          1043,
          1044,
          1044,
          1045,
          1045,
          1046,
          1046,
          1047,
          1047,
          1048,
          1048,
          1049,
          1049,
          1050,
          1050,
          1051,
          1051,
          1052,
          1052,
          1053,
          1053,
          1054,
          1054,
          1055,
          1055,
          1056,
          1056,
          1057,
          1057,
          1058,
          1058,
          1059,
          1059,
          1060,
          1060,
          1061,
          1061,
          1062,
          1062,
          1063,
          1063,
          1064,
          1064,
          1065,
          1065,
          1066,
          1066,
          1067,
          1067,
          1068,
          1068,
          1069,
          1069,
          1070,
          1070,
          1071,
          1071,
          1072,
          1072,
          1073,
          1073,
          1074,
          1074,
          1075,
          1075,
          1076,
          1076,
          1077,
          1077,
          1078,
          1078
         ]
        },
        {
         "line": {
          "color": "grey"
         },
         "mode": "lines",
         "name": "chrIV_fiducial3",
         "showlegend": false,
         "type": "scatter",
         "x": [
          6000029,
          6000063,
          6000178,
          6000217,
          6000242,
          6000282,
          6000283,
          6000321,
          6000393,
          6000427,
          6000577,
          6000617,
          6000618,
          6000652,
          6000688,
          6000726,
          6000727,
          6000763,
          6000779,
          6000819,
          6000872,
          6000912,
          6000913,
          6000948,
          6000950,
          6000990,
          6001001,
          6001041,
          6001058,
          6001097,
          6001272,
          6001306,
          6001348,
          6001382,
          6001418,
          6001455,
          6001528,
          6001568,
          6001569,
          6001603,
          6001604,
          6001643,
          6001645,
          6001679,
          6001680,
          6001714,
          6001715,
          6001749,
          6001832,
          6001869,
          6001870,
          6001904,
          6002004,
          6002044,
          6002045,
          6002079,
          6002096,
          6002136,
          6002172,
          6002206,
          6002207,
          6002241,
          6002274,
          6002308,
          6002367,
          6002401,
          6002402,
          6002439,
          6002446,
          6002484,
          6002485,
          6002524,
          6002536,
          6002576,
          6002579,
          6002619
         ],
         "y": [
          3032,
          3032,
          3033,
          3033,
          3034,
          3034,
          3035,
          3035,
          3036,
          3036,
          3037,
          3037,
          3038,
          3038,
          3039,
          3039,
          3040,
          3040,
          3041,
          3041,
          3042,
          3042,
          3043,
          3043,
          3044,
          3044,
          3045,
          3045,
          3046,
          3046,
          3047,
          3047,
          3048,
          3048,
          3049,
          3049,
          3050,
          3050,
          3051,
          3051,
          3052,
          3052,
          3053,
          3053,
          3054,
          3054,
          3055,
          3055,
          3056,
          3056,
          3057,
          3057,
          3058,
          3058,
          3059,
          3059,
          3060,
          3060,
          3061,
          3061,
          3062,
          3062,
          3063,
          3063,
          3064,
          3064,
          3065,
          3065,
          3066,
          3066,
          3067,
          3067,
          3068,
          3068,
          3069,
          3069
         ]
        },
        {
         "line": {
          "color": "grey"
         },
         "mode": "lines",
         "name": "chrIII_fiducial3",
         "showlegend": false,
         "type": "scatter",
         "x": [
          6000538,
          6000573,
          6000711,
          6000751,
          6001401,
          6001441,
          6001599,
          6001634,
          6001648,
          6001688,
          6001776,
          6001816,
          6001956,
          6001996,
          6001997,
          6002032,
          6002180,
          6002214,
          6002467,
          6002506,
          6002536,
          6002576,
          6002730,
          6002770,
          6002771,
          6002805,
          6002841,
          6002875,
          6002876,
          6002915,
          6003028,
          6003068,
          6003146,
          6003186,
          6003187,
          6003222,
          6003223,
          6003261,
          6003262,
          6003301,
          6003302,
          6003336,
          6003425,
          6003461,
          6003474,
          6003512,
          6003524,
          6003564,
          6003605,
          6003645,
          6003646,
          6003680,
          6003759,
          6003797,
          6003808,
          6003848,
          6003849,
          6003883,
          6003907,
          6003945,
          6003946,
          6003982,
          6004018,
          6004052,
          6004055,
          6004095,
          6004096,
          6004130,
          6004192,
          6004226,
          6004227,
          6004261,
          6004583,
          6004622,
          6004623,
          6004658,
          6004672,
          6004706,
          6004726,
          6004766,
          6004803,
          6004843
         ],
         "y": [
          3193,
          3193,
          3194,
          3194,
          3195,
          3195,
          3196,
          3196,
          3197,
          3197,
          3198,
          3198,
          3199,
          3199,
          3200,
          3200,
          3201,
          3201,
          3202,
          3202,
          3203,
          3203,
          3204,
          3204,
          3205,
          3205,
          3206,
          3206,
          3207,
          3207,
          3208,
          3208,
          3209,
          3209,
          3210,
          3210,
          3211,
          3211,
          3212,
          3212,
          3213,
          3213,
          3214,
          3214,
          3215,
          3215,
          3216,
          3216,
          3217,
          3217,
          3218,
          3218,
          3219,
          3219,
          3220,
          3220,
          3221,
          3221,
          3222,
          3222,
          3223,
          3223,
          3224,
          3224,
          3225,
          3225,
          3226,
          3226,
          3227,
          3227,
          3228,
          3228,
          3229,
          3229,
          3230,
          3230,
          3231,
          3231,
          3232,
          3232,
          3233,
          3233
         ]
        },
        {
         "line": {
          "color": "#00CC96"
         },
         "mode": "lines",
         "name": "rex-33",
         "showlegend": true,
         "type": "scatter",
         "x": [
          6294272,
          6294312,
          6294314,
          6294354,
          6294366,
          6294406,
          6294419,
          6294459,
          6294525,
          6294560,
          6294580,
          6294620,
          6294638,
          6294678,
          6294680,
          6294720,
          6294761,
          6294800,
          6294945,
          6294984,
          6295209,
          6295249,
          6295302,
          6295342,
          6295343,
          6295383,
          6295435,
          6295475,
          6295498,
          6295538,
          6295681,
          6295721,
          6295722,
          6295756,
          6295799,
          6295833,
          6295850,
          6295884,
          6296090,
          6296130,
          6296131,
          6296167,
          6296168,
          6296206,
          6296386,
          6296424,
          6296514,
          6296548,
          6296589,
          6296623,
          6296641,
          6296681,
          6297097,
          6297137,
          6297586,
          6297626,
          6297627,
          6297661,
          6297664,
          6297704,
          6297789,
          6297829,
          6297830,
          6297870,
          6297871,
          6297908,
          6298030,
          6298070,
          6298186,
          6298226,
          6298334,
          6298374,
          6298392,
          6298428,
          6298557,
          6298597,
          6298607,
          6298647,
          6299357,
          6299396
         ],
         "y": [
          1079,
          1079,
          1080,
          1080,
          1081,
          1081,
          1082,
          1082,
          1083,
          1083,
          1084,
          1084,
          1085,
          1085,
          1086,
          1086,
          1087,
          1087,
          1088,
          1088,
          1089,
          1089,
          1090,
          1090,
          1091,
          1091,
          1092,
          1092,
          1093,
          1093,
          1094,
          1094,
          1095,
          1095,
          1096,
          1096,
          1097,
          1097,
          1098,
          1098,
          1099,
          1099,
          1100,
          1100,
          1101,
          1101,
          1102,
          1102,
          1103,
          1103,
          1104,
          1104,
          1105,
          1105,
          1106,
          1106,
          1107,
          1107,
          1108,
          1108,
          1109,
          1109,
          1110,
          1110,
          1111,
          1111,
          1112,
          1112,
          1113,
          1113,
          1114,
          1114,
          1115,
          1115,
          1116,
          1116,
          1117,
          1117,
          1118,
          1118
         ]
        },
        {
         "line": {
          "color": "#AB63FA"
         },
         "mode": "lines",
         "name": "rex-24",
         "showlegend": true,
         "type": "scatter",
         "x": [
          7178325,
          7178359,
          7178601,
          7178641,
          7178650,
          7178689,
          7178700,
          7178735,
          7178736,
          7178774,
          7178775,
          7178815,
          7178873,
          7178907,
          7178910,
          7178946,
          7178968,
          7179003,
          7179009,
          7179048,
          7179049,
          7179084,
          7179617,
          7179657,
          7179658,
          7179692,
          7179698,
          7179738,
          7180625,
          7180664,
          7181038,
          7181072,
          7181154,
          7181194,
          7181707,
          7181747,
          7181750,
          7181790,
          7181794,
          7181834,
          7181835,
          7181869,
          7182111,
          7182151,
          7182650,
          7182684,
          7182752,
          7182792,
          7182901,
          7182935,
          7182969,
          7183009,
          7183016,
          7183056,
          7183071,
          7183111,
          7183112,
          7183151,
          7183274,
          7183314,
          7183872,
          7183912,
          7183942,
          7183982,
          7184084,
          7184124,
          7184408,
          7184448,
          7184456,
          7184496,
          7184501,
          7184541,
          7184573,
          7184613,
          7184652,
          7184691,
          7184727,
          7184767,
          7185142,
          7185181
         ],
         "y": [
          1119,
          1119,
          1120,
          1120,
          1121,
          1121,
          1122,
          1122,
          1123,
          1123,
          1124,
          1124,
          1125,
          1125,
          1126,
          1126,
          1127,
          1127,
          1128,
          1128,
          1129,
          1129,
          1130,
          1130,
          1131,
          1131,
          1132,
          1132,
          1133,
          1133,
          1134,
          1134,
          1135,
          1135,
          1136,
          1136,
          1137,
          1137,
          1138,
          1138,
          1139,
          1139,
          1140,
          1140,
          1141,
          1141,
          1142,
          1142,
          1143,
          1143,
          1144,
          1144,
          1145,
          1145,
          1146,
          1146,
          1147,
          1147,
          1148,
          1148,
          1149,
          1149,
          1150,
          1150,
          1151,
          1151,
          1152,
          1152,
          1153,
          1153,
          1154,
          1154,
          1155,
          1155,
          1156,
          1156,
          1157,
          1157,
          1158,
          1158
         ]
        },
        {
         "line": {
          "color": "#FFA15A"
         },
         "mode": "lines",
         "name": "P-rex-14",
         "showlegend": true,
         "type": "scatter",
         "x": [
          7331926,
          7331966,
          7331970,
          7332010,
          7332413,
          7332453,
          7332762,
          7332802,
          7332879,
          7332919,
          7332973,
          7333010,
          7333057,
          7333091,
          7333240,
          7333280,
          7333434,
          7333474,
          7333517,
          7333551,
          7333724,
          7333763,
          7333882,
          7333922,
          7334119,
          7334159,
          7334328,
          7334368,
          7334474,
          7334509,
          7334572,
          7334606,
          7334652,
          7334692,
          7334784,
          7334824,
          7334902,
          7334942,
          7334986,
          7335026,
          7335027,
          7335062,
          7335101,
          7335141,
          7335251,
          7335287,
          7335299,
          7335337,
          7335562,
          7335598,
          7335601,
          7335641,
          7335657,
          7335694,
          7335718,
          7335758,
          7335765,
          7335805,
          7335826,
          7335865,
          7336007,
          7336047,
          7336261,
          7336299,
          7336415,
          7336451,
          7336611,
          7336650,
          7336785,
          7336825,
          7336970,
          7337004,
          7337083,
          7337117,
          7337193,
          7337227,
          7337315,
          7337355,
          7337400,
          7337434
         ],
         "y": [
          1159,
          1159,
          1160,
          1160,
          1161,
          1161,
          1162,
          1162,
          1163,
          1163,
          1164,
          1164,
          1165,
          1165,
          1166,
          1166,
          1167,
          1167,
          1168,
          1168,
          1169,
          1169,
          1170,
          1170,
          1171,
          1171,
          1172,
          1172,
          1173,
          1173,
          1174,
          1174,
          1175,
          1175,
          1176,
          1176,
          1177,
          1177,
          1178,
          1178,
          1179,
          1179,
          1180,
          1180,
          1181,
          1181,
          1182,
          1182,
          1183,
          1183,
          1184,
          1184,
          1185,
          1185,
          1186,
          1186,
          1187,
          1187,
          1188,
          1188,
          1189,
          1189,
          1190,
          1190,
          1191,
          1191,
          1192,
          1192,
          1193,
          1193,
          1194,
          1194,
          1195,
          1195,
          1196,
          1196,
          1197,
          1197,
          1198,
          1198
         ]
        },
        {
         "line": {
          "color": "#19D3F3"
         },
         "mode": "lines",
         "name": "P-rex-15",
         "showlegend": true,
         "type": "scatter",
         "x": [
          8017203,
          8017243,
          8017253,
          8017287,
          8017299,
          8017339,
          8017450,
          8017484,
          8017552,
          8017586,
          8017853,
          8017891,
          8017974,
          8018008,
          8018124,
          8018164,
          8018647,
          8018681,
          8018701,
          8018740,
          8018780,
          8018814,
          8018909,
          8018949,
          8019251,
          8019285,
          8019317,
          8019355,
          8019861,
          8019895,
          8019903,
          8019942,
          8020293,
          8020330,
          8020381,
          8020419,
          8020444,
          8020484,
          8020510,
          8020550,
          8020710,
          8020747,
          8020796,
          8020833,
          8020924,
          8020959,
          8021122,
          8021162,
          8021163,
          8021199,
          8021272,
          8021309,
          8021362,
          8021397,
          8021405,
          8021445,
          8021586,
          8021626,
          8021662,
          8021702,
          8021769,
          8021805,
          8021829,
          8021863,
          8021883,
          8021917,
          8022005,
          8022045,
          8022112,
          8022152,
          8022580,
          8022620,
          8022624,
          8022664,
          8022745,
          8022785,
          8022786,
          8022820,
          8022860,
          8022894
         ],
         "y": [
          1199,
          1199,
          1200,
          1200,
          1201,
          1201,
          1202,
          1202,
          1203,
          1203,
          1204,
          1204,
          1205,
          1205,
          1206,
          1206,
          1207,
          1207,
          1208,
          1208,
          1209,
          1209,
          1210,
          1210,
          1211,
          1211,
          1212,
          1212,
          1213,
          1213,
          1214,
          1214,
          1215,
          1215,
          1216,
          1216,
          1217,
          1217,
          1218,
          1218,
          1219,
          1219,
          1220,
          1220,
          1221,
          1221,
          1222,
          1222,
          1223,
          1223,
          1224,
          1224,
          1225,
          1225,
          1226,
          1226,
          1227,
          1227,
          1228,
          1228,
          1229,
          1229,
          1230,
          1230,
          1231,
          1231,
          1232,
          1232,
          1233,
          1233,
          1234,
          1234,
          1235,
          1235,
          1236,
          1236,
          1237,
          1237,
          1238,
          1238
         ]
        },
        {
         "line": {
          "color": "#FF6692"
         },
         "mode": "lines",
         "name": "rex-14",
         "showlegend": true,
         "type": "scatter",
         "x": [
          8033510,
          8033550,
          8033551,
          8033585,
          8033603,
          8033643,
          8033687,
          8033725,
          8033751,
          8033785,
          8033786,
          8033820,
          8033821,
          8033856,
          8033864,
          8033898,
          8033899,
          8033936,
          8033937,
          8033972,
          8033973,
          8034009,
          8034061,
          8034101,
          8034161,
          8034201,
          8034282,
          8034317,
          8034380,
          8034414,
          8034415,
          8034452,
          8034453,
          8034489,
          8035353,
          8035393,
          8035418,
          8035457,
          8035572,
          8035611,
          8035612,
          8035646,
          8036015,
          8036055,
          8036352,
          8036392,
          8036753,
          8036787,
          8036788,
          8036822,
          8037003,
          8037043,
          8037188,
          8037226,
          8037512,
          8037546,
          8037553,
          8037588,
          8037804,
          8037838,
          8037999,
          8038039,
          8038103,
          8038143,
          8038172,
          8038206,
          8038328,
          8038368,
          8038885,
          8038925,
          8038927,
          8038967,
          8038968,
          8039002,
          8039003,
          8039037,
          8039050,
          8039090,
          8039225,
          8039265
         ],
         "y": [
          1239,
          1239,
          1240,
          1240,
          1241,
          1241,
          1242,
          1242,
          1243,
          1243,
          1244,
          1244,
          1245,
          1245,
          1246,
          1246,
          1247,
          1247,
          1248,
          1248,
          1249,
          1249,
          1250,
          1250,
          1251,
          1251,
          1252,
          1252,
          1253,
          1253,
          1254,
          1254,
          1255,
          1255,
          1256,
          1256,
          1257,
          1257,
          1258,
          1258,
          1259,
          1259,
          1260,
          1260,
          1261,
          1261,
          1262,
          1262,
          1263,
          1263,
          1264,
          1264,
          1265,
          1265,
          1266,
          1266,
          1267,
          1267,
          1268,
          1268,
          1269,
          1269,
          1270,
          1270,
          1271,
          1271,
          1272,
          1272,
          1273,
          1273,
          1274,
          1274,
          1275,
          1275,
          1276,
          1276,
          1277,
          1277,
          1278,
          1278
         ]
        },
        {
         "line": {
          "color": "#B6E880"
         },
         "mode": "lines",
         "name": "rex-17",
         "showlegend": true,
         "type": "scatter",
         "x": [
          8046078,
          8046117,
          8046216,
          8046256,
          8046276,
          8046316,
          8046393,
          8046427,
          8046457,
          8046491,
          8046636,
          8046674,
          8046677,
          8046716,
          8046725,
          8046765,
          8046794,
          8046834,
          8047228,
          8047268,
          8047310,
          8047350,
          8047364,
          8047404,
          8047558,
          8047598,
          8047659,
          8047699,
          8047703,
          8047743,
          8048223,
          8048263,
          8048398,
          8048438,
          8048919,
          8048958,
          8049308,
          8049347,
          8049348,
          8049383,
          8049776,
          8049815,
          8050683,
          8050723,
          8050724,
          8050760,
          8050811,
          8050851,
          8050852,
          8050886,
          8050934,
          8050971,
          8051003,
          8051043,
          8051114,
          8051149,
          8051254,
          8051292,
          8051293,
          8051329,
          8051330,
          8051366,
          8051402,
          8051436,
          8051437,
          8051471,
          8051473,
          8051507,
          8051517,
          8051551,
          8051552,
          8051586,
          8051587,
          8051622,
          8051705,
          8051739,
          8051740,
          8051779,
          8051780,
          8051816
         ],
         "y": [
          1279,
          1279,
          1280,
          1280,
          1281,
          1281,
          1282,
          1282,
          1283,
          1283,
          1284,
          1284,
          1285,
          1285,
          1286,
          1286,
          1287,
          1287,
          1288,
          1288,
          1289,
          1289,
          1290,
          1290,
          1291,
          1291,
          1292,
          1292,
          1293,
          1293,
          1294,
          1294,
          1295,
          1295,
          1296,
          1296,
          1297,
          1297,
          1298,
          1298,
          1299,
          1299,
          1300,
          1300,
          1301,
          1301,
          1302,
          1302,
          1303,
          1303,
          1304,
          1304,
          1305,
          1305,
          1306,
          1306,
          1307,
          1307,
          1308,
          1308,
          1309,
          1309,
          1310,
          1310,
          1311,
          1311,
          1312,
          1312,
          1313,
          1313,
          1314,
          1314,
          1315,
          1315,
          1316,
          1316,
          1317,
          1317,
          1318,
          1318
         ]
        },
        {
         "line": {
          "color": "#FF97FF"
         },
         "mode": "lines",
         "name": "rex-25",
         "showlegend": true,
         "type": "scatter",
         "x": [
          8401631,
          8401671,
          8401770,
          8401810,
          8401861,
          8401895,
          8401955,
          8401989,
          8402005,
          8402045,
          8402086,
          8402120,
          8402303,
          8402343,
          8402358,
          8402398,
          8403394,
          8403428,
          8403477,
          8403517,
          8403559,
          8403599,
          8403819,
          8403859,
          8403911,
          8403951,
          8404227,
          8404267,
          8404282,
          8404316,
          8404356,
          8404390,
          8404448,
          8404488,
          8404593,
          8404633,
          8404716,
          8404754,
          8404830,
          8404870,
          8404981,
          8405015,
          8405095,
          8405135,
          8405206,
          8405246,
          8405282,
          8405320,
          8405404,
          8405444,
          8405586,
          8405626,
          8405823,
          8405863,
          8405871,
          8405911,
          8405917,
          8405957,
          8406047,
          8406087,
          8406134,
          8406174,
          8406259,
          8406297,
          8406386,
          8406420,
          8406483,
          8406523,
          8406563,
          8406603,
          8406676,
          8406715,
          8407114,
          8407152,
          8407215,
          8407255,
          8407291,
          8407331,
          8407352,
          8407392
         ],
         "y": [
          1319,
          1319,
          1320,
          1320,
          1321,
          1321,
          1322,
          1322,
          1323,
          1323,
          1324,
          1324,
          1325,
          1325,
          1326,
          1326,
          1327,
          1327,
          1328,
          1328,
          1329,
          1329,
          1330,
          1330,
          1331,
          1331,
          1332,
          1332,
          1333,
          1333,
          1334,
          1334,
          1335,
          1335,
          1336,
          1336,
          1337,
          1337,
          1338,
          1338,
          1339,
          1339,
          1340,
          1340,
          1341,
          1341,
          1342,
          1342,
          1343,
          1343,
          1344,
          1344,
          1345,
          1345,
          1346,
          1346,
          1347,
          1347,
          1348,
          1348,
          1349,
          1349,
          1350,
          1350,
          1351,
          1351,
          1352,
          1352,
          1353,
          1353,
          1354,
          1354,
          1355,
          1355,
          1356,
          1356,
          1357,
          1357,
          1358,
          1358
         ]
        },
        {
         "line": {
          "color": "#FECB52"
         },
         "mode": "lines",
         "name": "P-rex-16",
         "showlegend": true,
         "type": "scatter",
         "x": [
          8734391,
          8734431,
          8734472,
          8734511,
          8734512,
          8734547,
          8734570,
          8734610,
          8734725,
          8734761,
          8734796,
          8734836,
          8734913,
          8734953,
          8735039,
          8735074,
          8735199,
          8735233,
          8735370,
          8735410,
          8735462,
          8735499,
          8735535,
          8735572,
          8735610,
          8735650,
          8735850,
          8735890,
          8736059,
          8736093,
          8736232,
          8736266,
          8736341,
          8736377,
          8736413,
          8736450,
          8736451,
          8736486,
          8736494,
          8736534,
          8736535,
          8736569,
          8736781,
          8736816,
          8737166,
          8737203,
          8737204,
          8737241,
          8737243,
          8737283,
          8737284,
          8737318,
          8737360,
          8737399,
          8737402,
          8737442,
          8737962,
          8738002,
          8738230,
          8738270,
          8738291,
          8738325,
          8738704,
          8738741,
          8738775,
          8738814,
          8738835,
          8738871,
          8738927,
          8738967,
          8739354,
          8739394,
          8739723,
          8739760,
          8739761,
          8739795,
          8739937,
          8739971,
          8739994,
          8740028
         ],
         "y": [
          1359,
          1359,
          1360,
          1360,
          1361,
          1361,
          1362,
          1362,
          1363,
          1363,
          1364,
          1364,
          1365,
          1365,
          1366,
          1366,
          1367,
          1367,
          1368,
          1368,
          1369,
          1369,
          1370,
          1370,
          1371,
          1371,
          1372,
          1372,
          1373,
          1373,
          1374,
          1374,
          1375,
          1375,
          1376,
          1376,
          1377,
          1377,
          1378,
          1378,
          1379,
          1379,
          1380,
          1380,
          1381,
          1381,
          1382,
          1382,
          1383,
          1383,
          1384,
          1384,
          1385,
          1385,
          1386,
          1386,
          1387,
          1387,
          1388,
          1388,
          1389,
          1389,
          1390,
          1390,
          1391,
          1391,
          1392,
          1392,
          1393,
          1393,
          1394,
          1394,
          1395,
          1395,
          1396,
          1396,
          1397,
          1397,
          1398,
          1398
         ]
        },
        {
         "line": {
          "color": "#636EFA"
         },
         "mode": "lines",
         "name": "rex-37",
         "showlegend": true,
         "type": "scatter",
         "x": [
          8808494,
          8808534,
          8808776,
          8808816,
          8808818,
          8808858,
          8808925,
          8808959,
          8809031,
          8809071,
          8809077,
          8809115,
          8809358,
          8809398,
          8809431,
          8809471,
          8809711,
          8809751,
          8809938,
          8809978,
          8810093,
          8810133,
          8810182,
          8810217,
          8810229,
          8810263,
          8810304,
          8810343,
          8810379,
          8810413,
          8810425,
          8810461,
          8810569,
          8810609,
          8810648,
          8810685,
          8810722,
          8810758,
          8810810,
          8810850,
          8810886,
          8810920,
          8811057,
          8811091,
          8811273,
          8811307,
          8811336,
          8811376,
          8811511,
          8811547,
          8811642,
          8811682,
          8811978,
          8812018,
          8812023,
          8812063,
          8812072,
          8812112,
          8812130,
          8812170,
          8812210,
          8812249,
          8812328,
          8812362,
          8812673,
          8812707,
          8812806,
          8812845,
          8812917,
          8812957,
          8813039,
          8813075,
          8813520,
          8813555,
          8813659,
          8813693,
          8813793,
          8813829,
          8813970,
          8814007
         ],
         "y": [
          1399,
          1399,
          1400,
          1400,
          1401,
          1401,
          1402,
          1402,
          1403,
          1403,
          1404,
          1404,
          1405,
          1405,
          1406,
          1406,
          1407,
          1407,
          1408,
          1408,
          1409,
          1409,
          1410,
          1410,
          1411,
          1411,
          1412,
          1412,
          1413,
          1413,
          1414,
          1414,
          1415,
          1415,
          1416,
          1416,
          1417,
          1417,
          1418,
          1418,
          1419,
          1419,
          1420,
          1420,
          1421,
          1421,
          1422,
          1422,
          1423,
          1423,
          1424,
          1424,
          1425,
          1425,
          1426,
          1426,
          1427,
          1427,
          1428,
          1428,
          1429,
          1429,
          1430,
          1430,
          1431,
          1431,
          1432,
          1432,
          1433,
          1433,
          1434,
          1434,
          1435,
          1435,
          1436,
          1436,
          1437,
          1437,
          1438,
          1438
         ]
        },
        {
         "line": {
          "color": "#EF553B"
         },
         "mode": "lines",
         "name": "rex-47",
         "showlegend": true,
         "type": "scatter",
         "x": [
          9463084,
          9463124,
          9464259,
          9464299,
          9464300,
          9464335,
          9464348,
          9464388,
          9464421,
          9464460,
          9464629,
          9464663,
          9464771,
          9464811,
          9464886,
          9464926,
          9465007,
          9465047,
          9465048,
          9465082,
          9465335,
          9465374,
          9465589,
          9465629,
          9465818,
          9465854,
          9466025,
          9466064,
          9466065,
          9466100,
          9466365,
          9466405,
          9466608,
          9466642,
          9466756,
          9466790,
          9466796,
          9466830,
          9466888,
          9466928,
          9466929,
          9466967,
          9466968,
          9467003,
          9467011,
          9467051,
          9467238,
          9467278,
          9467456,
          9467491,
          9467702,
          9467739,
          9467826,
          9467866,
          9467867,
          9467902,
          9467995,
          9468029,
          9468033,
          9468073,
          9468109,
          9468149,
          9468199,
          9468237,
          9468242,
          9468281,
          9468282,
          9468319,
          9468320,
          9468357,
          9468358,
          9468395,
          9468401,
          9468441,
          9468442,
          9468476,
          9468601,
          9468641,
          9468793,
          9468833
         ],
         "y": [
          1439,
          1439,
          1440,
          1440,
          1441,
          1441,
          1442,
          1442,
          1443,
          1443,
          1444,
          1444,
          1445,
          1445,
          1446,
          1446,
          1447,
          1447,
          1448,
          1448,
          1449,
          1449,
          1450,
          1450,
          1451,
          1451,
          1452,
          1452,
          1453,
          1453,
          1454,
          1454,
          1455,
          1455,
          1456,
          1456,
          1457,
          1457,
          1458,
          1458,
          1459,
          1459,
          1460,
          1460,
          1461,
          1461,
          1462,
          1462,
          1463,
          1463,
          1464,
          1464,
          1465,
          1465,
          1466,
          1466,
          1467,
          1467,
          1468,
          1468,
          1469,
          1469,
          1470,
          1470,
          1471,
          1471,
          1472,
          1472,
          1473,
          1473,
          1474,
          1474,
          1475,
          1475,
          1476,
          1476,
          1477,
          1477,
          1478,
          1478
         ]
        },
        {
         "line": {
          "color": "#00CC96"
         },
         "mode": "lines",
         "name": "rex-26",
         "showlegend": true,
         "type": "scatter",
         "x": [
          10351181,
          10351220,
          10351352,
          10351392,
          10351430,
          10351465,
          10351466,
          10351501,
          10351551,
          10351591,
          10351627,
          10351661,
          10351662,
          10351700,
          10351701,
          10351738,
          10351796,
          10351836,
          10352041,
          10352076,
          10352132,
          10352172,
          10352173,
          10352212,
          10352356,
          10352396,
          10352651,
          10352691,
          10352704,
          10352743,
          10352744,
          10352778,
          10352779,
          10352819,
          10352820,
          10352854,
          10352855,
          10352889,
          10352929,
          10352963,
          10353005,
          10353045,
          10353195,
          10353235,
          10353983,
          10354023,
          10354024,
          10354058,
          10354310,
          10354350,
          10354351,
          10354385,
          10354439,
          10354473,
          10354474,
          10354512,
          10354513,
          10354553,
          10354563,
          10354603,
          10354839,
          10354879,
          10355013,
          10355053,
          10355675,
          10355715,
          10355716,
          10355750,
          10355790,
          10355830,
          10355839,
          10355879,
          10355881,
          10355915,
          10355916,
          10355950,
          10356028,
          10356068,
          10356069,
          10356103
         ],
         "y": [
          1479,
          1479,
          1480,
          1480,
          1481,
          1481,
          1482,
          1482,
          1483,
          1483,
          1484,
          1484,
          1485,
          1485,
          1486,
          1486,
          1487,
          1487,
          1488,
          1488,
          1489,
          1489,
          1490,
          1490,
          1491,
          1491,
          1492,
          1492,
          1493,
          1493,
          1494,
          1494,
          1495,
          1495,
          1496,
          1496,
          1497,
          1497,
          1498,
          1498,
          1499,
          1499,
          1500,
          1500,
          1501,
          1501,
          1502,
          1502,
          1503,
          1503,
          1504,
          1504,
          1505,
          1505,
          1506,
          1506,
          1507,
          1507,
          1508,
          1508,
          1509,
          1509,
          1510,
          1510,
          1511,
          1511,
          1512,
          1512,
          1513,
          1513,
          1514,
          1514,
          1515,
          1515,
          1516,
          1516,
          1517,
          1517,
          1518,
          1518
         ]
        },
        {
         "line": {
          "color": "#AB63FA"
         },
         "mode": "lines",
         "name": "rex-27",
         "showlegend": true,
         "type": "scatter",
         "x": [
          10619860,
          10619896,
          10620022,
          10620062,
          10620063,
          10620098,
          10620160,
          10620200,
          10620623,
          10620662,
          10622195,
          10622235,
          10622498,
          10622538,
          10622543,
          10622583,
          10622681,
          10622719,
          10622720,
          10622754,
          10622809,
          10622849,
          10622883,
          10622923,
          10622929,
          10622965,
          10623100,
          10623139,
          10623140,
          10623174,
          10623175,
          10623209,
          10623210,
          10623244,
          10623248,
          10623288,
          10623329,
          10623363,
          10623364,
          10623402,
          10623403,
          10623442,
          10623443,
          10623477,
          10623949,
          10623989,
          10623997,
          10624037,
          10624296,
          10624330,
          10624331,
          10624365,
          10624369,
          10624403,
          10624486,
          10624526,
          10624772,
          10624812,
          10624894,
          10624928,
          10624965,
          10625002,
          10625411,
          10625450,
          10625980,
          10626014,
          10626015,
          10626055,
          10626058,
          10626098,
          10626112,
          10626150,
          10626599,
          10626639,
          10626640,
          10626674,
          10626675,
          10626712,
          10626724,
          10626764
         ],
         "y": [
          1519,
          1519,
          1520,
          1520,
          1521,
          1521,
          1522,
          1522,
          1523,
          1523,
          1524,
          1524,
          1525,
          1525,
          1526,
          1526,
          1527,
          1527,
          1528,
          1528,
          1529,
          1529,
          1530,
          1530,
          1531,
          1531,
          1532,
          1532,
          1533,
          1533,
          1534,
          1534,
          1535,
          1535,
          1536,
          1536,
          1537,
          1537,
          1538,
          1538,
          1539,
          1539,
          1540,
          1540,
          1541,
          1541,
          1542,
          1542,
          1543,
          1543,
          1544,
          1544,
          1545,
          1545,
          1546,
          1546,
          1547,
          1547,
          1548,
          1548,
          1549,
          1549,
          1550,
          1550,
          1551,
          1551,
          1552,
          1552,
          1553,
          1553,
          1554,
          1554,
          1555,
          1555,
          1556,
          1556,
          1557,
          1557,
          1558,
          1558
         ]
        },
        {
         "line": {
          "color": "#FFA15A"
         },
         "mode": "lines",
         "name": "rex-28",
         "showlegend": true,
         "type": "scatter",
         "x": [
          10665205,
          10665239,
          10665381,
          10665421,
          10665430,
          10665467,
          10665478,
          10665518,
          10665524,
          10665564,
          10665586,
          10665620,
          10665827,
          10665867,
          10666190,
          10666224,
          10666346,
          10666385,
          10666386,
          10666425,
          10666482,
          10666522,
          10666554,
          10666594,
          10666609,
          10666649,
          10666753,
          10666793,
          10666794,
          10666834,
          10666963,
          10667003,
          10667082,
          10667116,
          10667277,
          10667317,
          10667454,
          10667488,
          10667562,
          10667602,
          10668057,
          10668091,
          10668318,
          10668354,
          10668453,
          10668493,
          10668767,
          10668807,
          10668900,
          10668940,
          10669193,
          10669233,
          10669238,
          10669277,
          10669293,
          10669333,
          10669355,
          10669395,
          10669848,
          10669888,
          10669929,
          10669969,
          10670069,
          10670107,
          10670108,
          10670142,
          10670243,
          10670283,
          10670317,
          10670357,
          10670358,
          10670392,
          10670450,
          10670484,
          10670569,
          10670609,
          10670715,
          10670753,
          10670904,
          10670944
         ],
         "y": [
          1559,
          1559,
          1560,
          1560,
          1561,
          1561,
          1562,
          1562,
          1563,
          1563,
          1564,
          1564,
          1565,
          1565,
          1566,
          1566,
          1567,
          1567,
          1568,
          1568,
          1569,
          1569,
          1570,
          1570,
          1571,
          1571,
          1572,
          1572,
          1573,
          1573,
          1574,
          1574,
          1575,
          1575,
          1576,
          1576,
          1577,
          1577,
          1578,
          1578,
          1579,
          1579,
          1580,
          1580,
          1581,
          1581,
          1582,
          1582,
          1583,
          1583,
          1584,
          1584,
          1585,
          1585,
          1586,
          1586,
          1587,
          1587,
          1588,
          1588,
          1589,
          1589,
          1590,
          1590,
          1591,
          1591,
          1592,
          1592,
          1593,
          1593,
          1594,
          1594,
          1595,
          1595,
          1596,
          1596,
          1597,
          1597,
          1598,
          1598
         ]
        },
        {
         "line": {
          "color": "#19D3F3"
         },
         "mode": "lines",
         "name": "rex-29",
         "showlegend": true,
         "type": "scatter",
         "x": [
          10753415,
          10753449,
          10753492,
          10753532,
          10753694,
          10753730,
          10753769,
          10753808,
          10754060,
          10754100,
          10754136,
          10754176,
          10754337,
          10754377,
          10754501,
          10754535,
          10754685,
          10754725,
          10754790,
          10754827,
          10755074,
          10755108,
          10755161,
          10755201,
          10755295,
          10755329,
          10755400,
          10755439,
          10755558,
          10755598,
          10755684,
          10755724,
          10755856,
          10755893,
          10755970,
          10756009,
          10756076,
          10756116,
          10756270,
          10756310,
          10756352,
          10756386,
          10756458,
          10756498,
          10756541,
          10756581,
          10756655,
          10756695,
          10756729,
          10756769,
          10757300,
          10757339,
          10757356,
          10757396,
          10757433,
          10757473,
          10757683,
          10757720,
          10757758,
          10757795,
          10757911,
          10757951,
          10758091,
          10758131,
          10758240,
          10758280,
          10758398,
          10758436,
          10758542,
          10758582,
          10758650,
          10758690,
          10758720,
          10758760,
          10758840,
          10758880,
          10758917,
          10758951,
          10759001,
          10759041
         ],
         "y": [
          1599,
          1599,
          1600,
          1600,
          1601,
          1601,
          1602,
          1602,
          1603,
          1603,
          1604,
          1604,
          1605,
          1605,
          1606,
          1606,
          1607,
          1607,
          1608,
          1608,
          1609,
          1609,
          1610,
          1610,
          1611,
          1611,
          1612,
          1612,
          1613,
          1613,
          1614,
          1614,
          1615,
          1615,
          1616,
          1616,
          1617,
          1617,
          1618,
          1618,
          1619,
          1619,
          1620,
          1620,
          1621,
          1621,
          1622,
          1622,
          1623,
          1623,
          1624,
          1624,
          1625,
          1625,
          1626,
          1626,
          1627,
          1627,
          1628,
          1628,
          1629,
          1629,
          1630,
          1630,
          1631,
          1631,
          1632,
          1632,
          1633,
          1633,
          1634,
          1634,
          1635,
          1635,
          1636,
          1636,
          1637,
          1637,
          1638,
          1638
         ]
        },
        {
         "line": {
          "color": "#FF6692"
         },
         "mode": "lines",
         "name": "rex-8",
         "showlegend": true,
         "type": "scatter",
         "x": [
          11091377,
          11091417,
          11091425,
          11091465,
          11091519,
          11091559,
          11091560,
          11091598,
          11091800,
          11091840,
          11091856,
          11091896,
          11091989,
          11092029,
          11092068,
          11092108,
          11092426,
          11092461,
          11092651,
          11092691,
          11093079,
          11093119,
          11093318,
          11093352,
          11093380,
          11093420,
          11093426,
          11093466,
          11093472,
          11093512,
          11093742,
          11093782,
          11093948,
          11093988,
          11093989,
          11094028,
          11094162,
          11094202,
          11094238,
          11094272,
          11094852,
          11094888,
          11094981,
          11095017,
          11095021,
          11095060,
          11095408,
          11095443,
          11095444,
          11095484,
          11095485,
          11095519,
          11095520,
          11095555,
          11095556,
          11095590,
          11095613,
          11095649,
          11095650,
          11095684,
          11096054,
          11096094,
          11096170,
          11096210,
          11096215,
          11096255,
          11096256,
          11096290,
          11096328,
          11096368,
          11096372,
          11096406,
          11096744,
          11096784,
          11096785,
          11096823,
          11096875,
          11096915,
          11097091,
          11097131
         ],
         "y": [
          1639,
          1639,
          1640,
          1640,
          1641,
          1641,
          1642,
          1642,
          1643,
          1643,
          1644,
          1644,
          1645,
          1645,
          1646,
          1646,
          1647,
          1647,
          1648,
          1648,
          1649,
          1649,
          1650,
          1650,
          1651,
          1651,
          1652,
          1652,
          1653,
          1653,
          1654,
          1654,
          1655,
          1655,
          1656,
          1656,
          1657,
          1657,
          1658,
          1658,
          1659,
          1659,
          1660,
          1660,
          1661,
          1661,
          1662,
          1662,
          1663,
          1663,
          1664,
          1664,
          1665,
          1665,
          1666,
          1666,
          1667,
          1667,
          1668,
          1668,
          1669,
          1669,
          1670,
          1670,
          1671,
          1671,
          1672,
          1672,
          1673,
          1673,
          1674,
          1674,
          1675,
          1675,
          1676,
          1676,
          1677,
          1677,
          1678,
          1678
         ]
        },
        {
         "line": {
          "color": "#B6E880"
         },
         "mode": "lines",
         "name": "rex-3",
         "showlegend": true,
         "type": "scatter",
         "x": [
          11358369,
          11358409,
          11358427,
          11358466,
          11358502,
          11358538,
          11359009,
          11359049,
          11359182,
          11359216,
          11359340,
          11359375,
          11359522,
          11359561,
          11359737,
          11359777,
          11359797,
          11359837,
          11359882,
          11359922,
          11360024,
          11360064,
          11360098,
          11360138,
          11360250,
          11360290,
          11360326,
          11360360,
          11360513,
          11360549,
          11360766,
          11360800,
          11360932,
          11360971,
          11361042,
          11361081,
          11361119,
          11361159,
          11361295,
          11361335,
          11361559,
          11361599,
          11361654,
          11361690,
          11361847,
          11361882,
          11362037,
          11362077,
          11362116,
          11362150,
          11362283,
          11362323,
          11362406,
          11362441,
          11362528,
          11362568,
          11362639,
          11362678,
          11362752,
          11362792,
          11362853,
          11362893,
          11362953,
          11362989,
          11363039,
          11363073,
          11363219,
          11363253,
          11363277,
          11363317,
          11363507,
          11363545,
          11363661,
          11363695,
          11363958,
          11363998,
          11364107,
          11364147,
          11364244,
          11364278
         ],
         "y": [
          1679,
          1679,
          1680,
          1680,
          1681,
          1681,
          1682,
          1682,
          1683,
          1683,
          1684,
          1684,
          1685,
          1685,
          1686,
          1686,
          1687,
          1687,
          1688,
          1688,
          1689,
          1689,
          1690,
          1690,
          1691,
          1691,
          1692,
          1692,
          1693,
          1693,
          1694,
          1694,
          1695,
          1695,
          1696,
          1696,
          1697,
          1697,
          1698,
          1698,
          1699,
          1699,
          1700,
          1700,
          1701,
          1701,
          1702,
          1702,
          1703,
          1703,
          1704,
          1704,
          1705,
          1705,
          1706,
          1706,
          1707,
          1707,
          1708,
          1708,
          1709,
          1709,
          1710,
          1710,
          1711,
          1711,
          1712,
          1712,
          1713,
          1713,
          1714,
          1714,
          1715,
          1715,
          1716,
          1716,
          1717,
          1717,
          1718,
          1718
         ]
        },
        {
         "line": {
          "color": "#FF97FF"
         },
         "mode": "lines",
         "name": "rex-5",
         "showlegend": true,
         "type": "scatter",
         "x": [
          11469700,
          11469740,
          11469783,
          11469822,
          11469933,
          11469969,
          11470040,
          11470074,
          11470381,
          11470415,
          11470475,
          11470515,
          11470700,
          11470735,
          11470775,
          11470815,
          11471254,
          11471288,
          11471357,
          11471395,
          11471587,
          11471627,
          11471668,
          11471706,
          11471837,
          11471873,
          11471995,
          11472029,
          11472093,
          11472127,
          11472163,
          11472200,
          11472348,
          11472382,
          11472424,
          11472458,
          11472510,
          11472550,
          11472608,
          11472642,
          11472809,
          11472849,
          11473014,
          11473048,
          11473132,
          11473168,
          11473315,
          11473349,
          11473580,
          11473620,
          11473740,
          11473774,
          11473877,
          11473916,
          11473968,
          11474008,
          11474147,
          11474181,
          11474223,
          11474263,
          11474299,
          11474337,
          11474474,
          11474510,
          11474566,
          11474606,
          11474642,
          11474676,
          11474773,
          11474807,
          11474879,
          11474913,
          11474948,
          11474988,
          11475151,
          11475191,
          11475241,
          11475281,
          11475508,
          11475548
         ],
         "y": [
          1719,
          1719,
          1720,
          1720,
          1721,
          1721,
          1722,
          1722,
          1723,
          1723,
          1724,
          1724,
          1725,
          1725,
          1726,
          1726,
          1727,
          1727,
          1728,
          1728,
          1729,
          1729,
          1730,
          1730,
          1731,
          1731,
          1732,
          1732,
          1733,
          1733,
          1734,
          1734,
          1735,
          1735,
          1736,
          1736,
          1737,
          1737,
          1738,
          1738,
          1739,
          1739,
          1740,
          1740,
          1741,
          1741,
          1742,
          1742,
          1743,
          1743,
          1744,
          1744,
          1745,
          1745,
          1746,
          1746,
          1747,
          1747,
          1748,
          1748,
          1749,
          1749,
          1750,
          1750,
          1751,
          1751,
          1752,
          1752,
          1753,
          1753,
          1754,
          1754,
          1755,
          1755,
          1756,
          1756,
          1757,
          1757,
          1758,
          1758
         ]
        },
        {
         "line": {
          "color": "#FECB52"
         },
         "mode": "lines",
         "name": "rex-4",
         "showlegend": true,
         "type": "scatter",
         "x": [
          11519416,
          11519453,
          11519503,
          11519543,
          11519569,
          11519606,
          11519682,
          11519722,
          11520188,
          11520222,
          11520311,
          11520351,
          11520664,
          11520704,
          11520826,
          11520866,
          11521028,
          11521067,
          11521213,
          11521251,
          11521383,
          11521420,
          11521558,
          11521598,
          11521653,
          11521687,
          11521738,
          11521778,
          11521789,
          11521828,
          11522028,
          11522068,
          11522220,
          11522255,
          11522316,
          11522350,
          11522756,
          11522796,
          11522837,
          11522874,
          11522964,
          11523002,
          11523032,
          11523072,
          11523190,
          11523230,
          11523331,
          11523367,
          11523498,
          11523534,
          11523609,
          11523646,
          11523687,
          11523727,
          11523895,
          11523935,
          11523941,
          11523981,
          11524061,
          11524098,
          11524264,
          11524302,
          11524431,
          11524471,
          11524716,
          11524756,
          11524837,
          11524877,
          11524898,
          11524938,
          11525045,
          11525083,
          11525097,
          11525137,
          11525142,
          11525182,
          11525206,
          11525246,
          11525263,
          11525303
         ],
         "y": [
          1759,
          1759,
          1760,
          1760,
          1761,
          1761,
          1762,
          1762,
          1763,
          1763,
          1764,
          1764,
          1765,
          1765,
          1766,
          1766,
          1767,
          1767,
          1768,
          1768,
          1769,
          1769,
          1770,
          1770,
          1771,
          1771,
          1772,
          1772,
          1773,
          1773,
          1774,
          1774,
          1775,
          1775,
          1776,
          1776,
          1777,
          1777,
          1778,
          1778,
          1779,
          1779,
          1780,
          1780,
          1781,
          1781,
          1782,
          1782,
          1783,
          1783,
          1784,
          1784,
          1785,
          1785,
          1786,
          1786,
          1787,
          1787,
          1788,
          1788,
          1789,
          1789,
          1790,
          1790,
          1791,
          1791,
          1792,
          1792,
          1793,
          1793,
          1794,
          1794,
          1795,
          1795,
          1796,
          1796,
          1797,
          1797,
          1798,
          1798
         ]
        },
        {
         "line": {
          "color": "#636EFA"
         },
         "mode": "lines",
         "name": "rex-36",
         "showlegend": true,
         "type": "scatter",
         "x": [
          11896429,
          11896466,
          11896467,
          11896501,
          11896504,
          11896544,
          11896561,
          11896598,
          11896683,
          11896723,
          11896803,
          11896843,
          11896844,
          11896880,
          11897369,
          11897409,
          11897581,
          11897619,
          11898037,
          11898077,
          11898084,
          11898124,
          11898125,
          11898159,
          11898168,
          11898208,
          11898209,
          11898243,
          11898279,
          11898313,
          11898316,
          11898356,
          11898458,
          11898498,
          11898499,
          11898533,
          11899111,
          11899151,
          11899195,
          11899229,
          11899265,
          11899299,
          11899381,
          11899415,
          11899500,
          11899539,
          11899615,
          11899655,
          11899691,
          11899728,
          11900178,
          11900218,
          11900219,
          11900253,
          11900254,
          11900288,
          11900289,
          11900329,
          11900519,
          11900559,
          11900649,
          11900684,
          11900787,
          11900827,
          11901138,
          11901178,
          11901251,
          11901291,
          11901380,
          11901420,
          11901590,
          11901630,
          11901711,
          11901751,
          11902043,
          11902083,
          11902084,
          11902118,
          11902167,
          11902207
         ],
         "y": [
          1799,
          1799,
          1800,
          1800,
          1801,
          1801,
          1802,
          1802,
          1803,
          1803,
          1804,
          1804,
          1805,
          1805,
          1806,
          1806,
          1807,
          1807,
          1808,
          1808,
          1809,
          1809,
          1810,
          1810,
          1811,
          1811,
          1812,
          1812,
          1813,
          1813,
          1814,
          1814,
          1815,
          1815,
          1816,
          1816,
          1817,
          1817,
          1818,
          1818,
          1819,
          1819,
          1820,
          1820,
          1821,
          1821,
          1822,
          1822,
          1823,
          1823,
          1824,
          1824,
          1825,
          1825,
          1826,
          1826,
          1827,
          1827,
          1828,
          1828,
          1829,
          1829,
          1830,
          1830,
          1831,
          1831,
          1832,
          1832,
          1833,
          1833,
          1834,
          1834,
          1835,
          1835,
          1836,
          1836,
          1837,
          1837,
          1838,
          1838
         ]
        },
        {
         "line": {
          "color": "#EF553B"
         },
         "mode": "lines",
         "name": "rex-7",
         "showlegend": true,
         "type": "scatter",
         "x": [
          11921368,
          11921402,
          11922114,
          11922150,
          11922165,
          11922205,
          11922215,
          11922255,
          11922378,
          11922412,
          11922422,
          11922462,
          11922472,
          11922508,
          11922567,
          11922604,
          11922625,
          11922664,
          11922668,
          11922708,
          11922886,
          11922926,
          11923003,
          11923038,
          11923070,
          11923110,
          11923418,
          11923458,
          11923503,
          11923543,
          11923749,
          11923789,
          11923923,
          11923957,
          11924217,
          11924252,
          11924292,
          11924328,
          11924364,
          11924398,
          11924434,
          11924474,
          11924598,
          11924638,
          11924647,
          11924687,
          11924859,
          11924894,
          11925140,
          11925174,
          11925280,
          11925319,
          11925392,
          11925432,
          11925434,
          11925474,
          11925479,
          11925519,
          11925566,
          11925606,
          11925635,
          11925675,
          11925676,
          11925710,
          11926131,
          11926171,
          11926207,
          11926241,
          11926322,
          11926356,
          11926507,
          11926541,
          11926580,
          11926619,
          11926919,
          11926959,
          11927223,
          11927263,
          11927264,
          11927303
         ],
         "y": [
          1839,
          1839,
          1840,
          1840,
          1841,
          1841,
          1842,
          1842,
          1843,
          1843,
          1844,
          1844,
          1845,
          1845,
          1846,
          1846,
          1847,
          1847,
          1848,
          1848,
          1849,
          1849,
          1850,
          1850,
          1851,
          1851,
          1852,
          1852,
          1853,
          1853,
          1854,
          1854,
          1855,
          1855,
          1856,
          1856,
          1857,
          1857,
          1858,
          1858,
          1859,
          1859,
          1860,
          1860,
          1861,
          1861,
          1862,
          1862,
          1863,
          1863,
          1864,
          1864,
          1865,
          1865,
          1866,
          1866,
          1867,
          1867,
          1868,
          1868,
          1869,
          1869,
          1870,
          1870,
          1871,
          1871,
          1872,
          1872,
          1873,
          1873,
          1874,
          1874,
          1875,
          1875,
          1876,
          1876,
          1877,
          1877,
          1878,
          1878
         ]
        },
        {
         "line": {
          "color": "#00CC96"
         },
         "mode": "lines",
         "name": "rex-16",
         "showlegend": true,
         "type": "scatter",
         "x": [
          11934721,
          11934758,
          11935163,
          11935197,
          11935211,
          11935245,
          11935246,
          11935283,
          11935866,
          11935904,
          11935905,
          11935939,
          11936253,
          11936287,
          11936771,
          11936810,
          11936844,
          11936884,
          11937141,
          11937181,
          11937182,
          11937220,
          11937422,
          11937462,
          11937505,
          11937539,
          11937540,
          11937580,
          11937934,
          11937974,
          11938228,
          11938268,
          11938294,
          11938333,
          11938359,
          11938395,
          11938401,
          11938440,
          11938441,
          11938481,
          11938734,
          11938768,
          11938769,
          11938807,
          11938847,
          11938881,
          11938882,
          11938921,
          11939305,
          11939345,
          11939396,
          11939436,
          11939612,
          11939652,
          11939653,
          11939693,
          11939737,
          11939775,
          11939835,
          11939875,
          11939919,
          11939959,
          11940047,
          11940081,
          11940082,
          11940121,
          11940139,
          11940179,
          11940180,
          11940219,
          11940235,
          11940269,
          11940337,
          11940377,
          11940378,
          11940415,
          11940463,
          11940503
         ],
         "y": [
          1879,
          1879,
          1880,
          1880,
          1881,
          1881,
          1882,
          1882,
          1883,
          1883,
          1884,
          1884,
          1885,
          1885,
          1886,
          1886,
          1887,
          1887,
          1888,
          1888,
          1889,
          1889,
          1890,
          1890,
          1891,
          1891,
          1892,
          1892,
          1893,
          1893,
          1894,
          1894,
          1895,
          1895,
          1896,
          1896,
          1897,
          1897,
          1898,
          1898,
          1899,
          1899,
          1900,
          1900,
          1901,
          1901,
          1902,
          1902,
          1903,
          1903,
          1904,
          1904,
          1905,
          1905,
          1906,
          1906,
          1907,
          1907,
          1908,
          1908,
          1909,
          1909,
          1910,
          1910,
          1911,
          1911,
          1912,
          1912,
          1913,
          1913,
          1914,
          1914,
          1915,
          1915,
          1916,
          1916,
          1917,
          1917
         ]
        },
        {
         "line": {
          "color": "#AB63FA"
         },
         "mode": "lines",
         "name": "rex-6",
         "showlegend": true,
         "type": "scatter",
         "x": [
          12360294,
          12360330,
          12362400,
          12362440,
          12362580,
          12362620,
          12362656,
          12362694,
          12362696,
          12362736,
          12362761,
          12362801,
          12362807,
          12362847,
          12362884,
          12362924,
          12362957,
          12362996,
          12363004,
          12363044,
          12363167,
          12363207,
          12363208,
          12363246,
          12363385,
          12363425,
          12363493,
          12363533,
          12363534,
          12363570,
          12363716,
          12363756,
          12363785,
          12363825,
          12363872,
          12363906,
          12363919,
          12363959,
          12363968,
          12364008,
          12364132,
          12364166,
          12364167,
          12364205,
          12364313,
          12364353,
          12364636,
          12364676,
          12364727,
          12364766,
          12364865,
          12364902,
          12364969,
          12365009,
          12365043,
          12365083,
          12365464,
          12365504,
          12365526,
          12365560,
          12365661,
          12365701,
          12365707,
          12365741,
          12365742,
          12365776,
          12365778,
          12365818,
          12365819,
          12365853,
          12365854,
          12365888,
          12365889,
          12365925,
          12365970,
          12366010,
          12366047,
          12366081,
          12366106,
          12366140
         ],
         "y": [
          1918,
          1918,
          1919,
          1919,
          1920,
          1920,
          1921,
          1921,
          1922,
          1922,
          1923,
          1923,
          1924,
          1924,
          1925,
          1925,
          1926,
          1926,
          1927,
          1927,
          1928,
          1928,
          1929,
          1929,
          1930,
          1930,
          1931,
          1931,
          1932,
          1932,
          1933,
          1933,
          1934,
          1934,
          1935,
          1935,
          1936,
          1936,
          1937,
          1937,
          1938,
          1938,
          1939,
          1939,
          1940,
          1940,
          1941,
          1941,
          1942,
          1942,
          1943,
          1943,
          1944,
          1944,
          1945,
          1945,
          1946,
          1946,
          1947,
          1947,
          1948,
          1948,
          1949,
          1949,
          1950,
          1950,
          1951,
          1951,
          1952,
          1952,
          1953,
          1953,
          1954,
          1954,
          1955,
          1955,
          1956,
          1956,
          1957,
          1957
         ]
        },
        {
         "line": {
          "color": "#FFA15A"
         },
         "mode": "lines",
         "name": "P-rex-20",
         "showlegend": true,
         "type": "scatter",
         "x": [
          12449517,
          12449557,
          12449580,
          12449620,
          12449893,
          12449933,
          12450078,
          12450112,
          12450210,
          12450250,
          12450358,
          12450393,
          12450481,
          12450515,
          12450561,
          12450595,
          12450770,
          12450806,
          12450845,
          12450885,
          12450976,
          12451010,
          12451114,
          12451148,
          12451378,
          12451418,
          12451595,
          12451635,
          12451693,
          12451733,
          12452099,
          12452139,
          12452191,
          12452225,
          12452233,
          12452267,
          12452319,
          12452353,
          12452421,
          12452455,
          12452466,
          12452500,
          12452556,
          12452595,
          12452596,
          12452630,
          12452715,
          12452754,
          12453143,
          12453183,
          12453223,
          12453261,
          12453358,
          12453395,
          12453490,
          12453528,
          12453833,
          12453873,
          12454215,
          12454255,
          12454256,
          12454294,
          12454425,
          12454463,
          12454544,
          12454582,
          12454732,
          12454772,
          12454847,
          12454887,
          12454888,
          12454922,
          12454988,
          12455028,
          12455169,
          12455203,
          12455246,
          12455286,
          12455287,
          12455323
         ],
         "y": [
          1958,
          1958,
          1959,
          1959,
          1960,
          1960,
          1961,
          1961,
          1962,
          1962,
          1963,
          1963,
          1964,
          1964,
          1965,
          1965,
          1966,
          1966,
          1967,
          1967,
          1968,
          1968,
          1969,
          1969,
          1970,
          1970,
          1971,
          1971,
          1972,
          1972,
          1973,
          1973,
          1974,
          1974,
          1975,
          1975,
          1976,
          1976,
          1977,
          1977,
          1978,
          1978,
          1979,
          1979,
          1980,
          1980,
          1981,
          1981,
          1982,
          1982,
          1983,
          1983,
          1984,
          1984,
          1985,
          1985,
          1986,
          1986,
          1987,
          1987,
          1988,
          1988,
          1989,
          1989,
          1990,
          1990,
          1991,
          1991,
          1992,
          1992,
          1993,
          1993,
          1994,
          1994,
          1995,
          1995,
          1996,
          1996,
          1997,
          1997
         ]
        },
        {
         "line": {
          "color": "#19D3F3"
         },
         "mode": "lines",
         "name": "rex-31",
         "showlegend": true,
         "type": "scatter",
         "x": [
          12727329,
          12727369,
          12727407,
          12727442,
          12727478,
          12727513,
          12727584,
          12727623,
          12727999,
          12728033,
          12728116,
          12728155,
          12728506,
          12728545,
          12728573,
          12728613,
          12728914,
          12728954,
          12728992,
          12729032,
          12729045,
          12729085,
          12729133,
          12729173,
          12729456,
          12729496,
          12729638,
          12729678,
          12729691,
          12729731,
          12729818,
          12729858,
          12729885,
          12729925,
          12730176,
          12730216,
          12730273,
          12730307,
          12730327,
          12730367,
          12730375,
          12730415,
          12730574,
          12730614,
          12730696,
          12730731,
          12730986,
          12731026,
          12731426,
          12731466,
          12731517,
          12731557,
          12731589,
          12731629,
          12731692,
          12731732,
          12731878,
          12731913,
          12732182,
          12732220,
          12732387,
          12732427,
          12732482,
          12732518,
          12732573,
          12732613,
          12732614,
          12732648,
          12732680,
          12732720,
          12732785,
          12732825,
          12732898,
          12732938,
          12732975,
          12733012,
          12733048,
          12733082,
          12733148,
          12733188
         ],
         "y": [
          1998,
          1998,
          1999,
          1999,
          2000,
          2000,
          2001,
          2001,
          2002,
          2002,
          2003,
          2003,
          2004,
          2004,
          2005,
          2005,
          2006,
          2006,
          2007,
          2007,
          2008,
          2008,
          2009,
          2009,
          2010,
          2010,
          2011,
          2011,
          2012,
          2012,
          2013,
          2013,
          2014,
          2014,
          2015,
          2015,
          2016,
          2016,
          2017,
          2017,
          2018,
          2018,
          2019,
          2019,
          2020,
          2020,
          2021,
          2021,
          2022,
          2022,
          2023,
          2023,
          2024,
          2024,
          2025,
          2025,
          2026,
          2026,
          2027,
          2027,
          2028,
          2028,
          2029,
          2029,
          2030,
          2030,
          2031,
          2031,
          2032,
          2032,
          2033,
          2033,
          2034,
          2034,
          2035,
          2035,
          2036,
          2036,
          2037,
          2037
         ]
        },
        {
         "line": {
          "color": "#FF6692"
         },
         "mode": "lines",
         "name": "P-rex-21",
         "showlegend": true,
         "type": "scatter",
         "x": [
          12887092,
          12887132,
          12887567,
          12887607,
          12888068,
          12888108,
          12888109,
          12888143,
          12888163,
          12888202,
          12888423,
          12888463,
          12888467,
          12888507,
          12888736,
          12888776,
          12888812,
          12888848,
          12888884,
          12888924,
          12888975,
          12889015,
          12889462,
          12889502,
          12889557,
          12889597,
          12889626,
          12889666,
          12889691,
          12889725,
          12889726,
          12889760,
          12889796,
          12889834,
          12889835,
          12889869,
          12889919,
          12889953,
          12890132,
          12890169,
          12890353,
          12890387,
          12890588,
          12890628,
          12890629,
          12890669,
          12890709,
          12890749,
          12890842,
          12890882,
          12890944,
          12890984,
          12891137,
          12891177,
          12891233,
          12891271,
          12891516,
          12891556,
          12891726,
          12891766,
          12891832,
          12891872,
          12892078,
          12892117,
          12892174,
          12892214,
          12892355,
          12892395,
          12892454,
          12892494,
          12892503,
          12892543,
          12892824,
          12892864,
          12892873,
          12892913,
          12892922,
          12892956,
          12892961,
          12892995
         ],
         "y": [
          2038,
          2038,
          2039,
          2039,
          2040,
          2040,
          2041,
          2041,
          2042,
          2042,
          2043,
          2043,
          2044,
          2044,
          2045,
          2045,
          2046,
          2046,
          2047,
          2047,
          2048,
          2048,
          2049,
          2049,
          2050,
          2050,
          2051,
          2051,
          2052,
          2052,
          2053,
          2053,
          2054,
          2054,
          2055,
          2055,
          2056,
          2056,
          2057,
          2057,
          2058,
          2058,
          2059,
          2059,
          2060,
          2060,
          2061,
          2061,
          2062,
          2062,
          2063,
          2063,
          2064,
          2064,
          2065,
          2065,
          2066,
          2066,
          2067,
          2067,
          2068,
          2068,
          2069,
          2069,
          2070,
          2070,
          2071,
          2071,
          2072,
          2072,
          2073,
          2073,
          2074,
          2074,
          2075,
          2075,
          2076,
          2076,
          2077,
          2077
         ]
        },
        {
         "line": {
          "color": "#B6E880"
         },
         "mode": "lines",
         "name": "nDCC-16",
         "showlegend": true,
         "type": "scatter",
         "x": [
          13432170,
          13432210,
          13432217,
          13432257,
          13432487,
          13432522,
          13432608,
          13432648,
          13433213,
          13433253,
          13433254,
          13433288,
          13433291,
          13433331,
          13433479,
          13433519,
          13433574,
          13433614,
          13434233,
          13434273,
          13434278,
          13434312,
          13434313,
          13434348,
          13434421,
          13434461,
          13434485,
          13434522,
          13434523,
          13434557,
          13434560,
          13434594,
          13434696,
          13434736,
          13435109,
          13435149,
          13435150,
          13435185,
          13435266,
          13435301,
          13435363,
          13435403,
          13435601,
          13435637,
          13435649,
          13435689,
          13435740,
          13435778,
          13435935,
          13435969,
          13436123,
          13436163,
          13436285,
          13436325,
          13436452,
          13436492,
          13436582,
          13436622,
          13436721,
          13436759,
          13436845,
          13436881,
          13436882,
          13436916,
          13436930,
          13436970,
          13436971,
          13437008,
          13438130,
          13438170,
          13438182,
          13438222,
          13438362,
          13438396,
          13438397,
          13438431,
          13438436,
          13438474,
          13438504,
          13438539
         ],
         "y": [
          2078,
          2078,
          2079,
          2079,
          2080,
          2080,
          2081,
          2081,
          2082,
          2082,
          2083,
          2083,
          2084,
          2084,
          2085,
          2085,
          2086,
          2086,
          2087,
          2087,
          2088,
          2088,
          2089,
          2089,
          2090,
          2090,
          2091,
          2091,
          2092,
          2092,
          2093,
          2093,
          2094,
          2094,
          2095,
          2095,
          2096,
          2096,
          2097,
          2097,
          2098,
          2098,
          2099,
          2099,
          2100,
          2100,
          2101,
          2101,
          2102,
          2102,
          2103,
          2103,
          2104,
          2104,
          2105,
          2105,
          2106,
          2106,
          2107,
          2107,
          2108,
          2108,
          2109,
          2109,
          2110,
          2110,
          2111,
          2111,
          2112,
          2112,
          2113,
          2113,
          2114,
          2114,
          2115,
          2115,
          2116,
          2116,
          2117,
          2117
         ]
        },
        {
         "line": {
          "color": "#FF97FF"
         },
         "mode": "lines",
         "name": "nDCC-17",
         "showlegend": true,
         "type": "scatter",
         "x": [
          13439939,
          13439979,
          13440008,
          13440048,
          13440049,
          13440083,
          13440088,
          13440122,
          13440221,
          13440261,
          13440262,
          13440301,
          13440302,
          13440336,
          13440378,
          13440413,
          13440449,
          13440488,
          13440489,
          13440523,
          13440793,
          13440833,
          13440834,
          13440871,
          13440914,
          13440948,
          13441042,
          13441082,
          13441254,
          13441290,
          13441514,
          13441553,
          13441816,
          13441856,
          13442170,
          13442210,
          13442252,
          13442286,
          13442459,
          13442498,
          13442602,
          13442636,
          13442919,
          13442958,
          13443137,
          13443177,
          13443412,
          13443446,
          13443528,
          13443568,
          13443588,
          13443622,
          13443691,
          13443731,
          13443732,
          13443769,
          13444109,
          13444149,
          13444150,
          13444184,
          13444260,
          13444294,
          13444334,
          13444368,
          13444584,
          13444624,
          13444856,
          13444896,
          13445079,
          13445118,
          13445198,
          13445238,
          13445239,
          13445273,
          13445274,
          13445310,
          13445386,
          13445422,
          13445487,
          13445527
         ],
         "y": [
          2118,
          2118,
          2119,
          2119,
          2120,
          2120,
          2121,
          2121,
          2122,
          2122,
          2123,
          2123,
          2124,
          2124,
          2125,
          2125,
          2126,
          2126,
          2127,
          2127,
          2128,
          2128,
          2129,
          2129,
          2130,
          2130,
          2131,
          2131,
          2132,
          2132,
          2133,
          2133,
          2134,
          2134,
          2135,
          2135,
          2136,
          2136,
          2137,
          2137,
          2138,
          2138,
          2139,
          2139,
          2140,
          2140,
          2141,
          2141,
          2142,
          2142,
          2143,
          2143,
          2144,
          2144,
          2145,
          2145,
          2146,
          2146,
          2147,
          2147,
          2148,
          2148,
          2149,
          2149,
          2150,
          2150,
          2151,
          2151,
          2152,
          2152,
          2153,
          2153,
          2154,
          2154,
          2155,
          2155,
          2156,
          2156,
          2157,
          2157
         ]
        },
        {
         "line": {
          "color": "#FECB52"
         },
         "mode": "lines",
         "name": "P-rex-22",
         "showlegend": true,
         "type": "scatter",
         "x": [
          13511897,
          13511937,
          13512123,
          13512157,
          13512565,
          13512605,
          13512730,
          13512770,
          13512771,
          13512810,
          13512942,
          13512982,
          13513761,
          13513799,
          13513834,
          13513868,
          13513910,
          13513950,
          13513972,
          13514010,
          13514011,
          13514046,
          13514084,
          13514124,
          13514324,
          13514358,
          13514387,
          13514421,
          13514627,
          13514667,
          13514778,
          13514818,
          13514862,
          13514902,
          13514958,
          13514996,
          13515032,
          13515071,
          13515074,
          13515114,
          13515343,
          13515383,
          13515667,
          13515707,
          13515933,
          13515973,
          13516154,
          13516191,
          13516192,
          13516226,
          13516229,
          13516263,
          13516264,
          13516298,
          13516406,
          13516446,
          13516458,
          13516494,
          13516495,
          13516529,
          13516530,
          13516570,
          13516838,
          13516878,
          13516936,
          13516972,
          13516973,
          13517007,
          13517008,
          13517042,
          13517058,
          13517097,
          13517099,
          13517139,
          13517140,
          13517174,
          13517280,
          13517318,
          13517319,
          13517353
         ],
         "y": [
          2158,
          2158,
          2159,
          2159,
          2160,
          2160,
          2161,
          2161,
          2162,
          2162,
          2163,
          2163,
          2164,
          2164,
          2165,
          2165,
          2166,
          2166,
          2167,
          2167,
          2168,
          2168,
          2169,
          2169,
          2170,
          2170,
          2171,
          2171,
          2172,
          2172,
          2173,
          2173,
          2174,
          2174,
          2175,
          2175,
          2176,
          2176,
          2177,
          2177,
          2178,
          2178,
          2179,
          2179,
          2180,
          2180,
          2181,
          2181,
          2182,
          2182,
          2183,
          2183,
          2184,
          2184,
          2185,
          2185,
          2186,
          2186,
          2187,
          2187,
          2188,
          2188,
          2189,
          2189,
          2190,
          2190,
          2191,
          2191,
          2192,
          2192,
          2193,
          2193,
          2194,
          2194,
          2195,
          2195,
          2196,
          2196,
          2197,
          2197
         ]
        },
        {
         "line": {
          "color": "#636EFA"
         },
         "mode": "lines",
         "name": "nDCC-18",
         "showlegend": true,
         "type": "scatter",
         "x": [
          13602416,
          13602456,
          13602565,
          13602605,
          13602953,
          13602993,
          13603029,
          13603069,
          13603105,
          13603145,
          13603146,
          13603183,
          13603208,
          13603246,
          13603247,
          13603281,
          13603320,
          13603360,
          13603703,
          13603737,
          13603744,
          13603781,
          13603785,
          13603823,
          13603824,
          13603862,
          13603898,
          13603932,
          13603995,
          13604029,
          13604030,
          13604065,
          13604066,
          13604100,
          13604101,
          13604139,
          13604140,
          13604174,
          13604175,
          13604209,
          13604210,
          13604249,
          13604329,
          13604369,
          13604480,
          13604515,
          13604914,
          13604954,
          13604955,
          13604990,
          13605005,
          13605041,
          13605042,
          13605080,
          13605081,
          13605121,
          13605149,
          13605183,
          13605184,
          13605218,
          13605286,
          13605326,
          13605327,
          13605365,
          13605589,
          13605629,
          13607367,
          13607407,
          13607514,
          13607554,
          13607555,
          13607593,
          13607638,
          13607678,
          13607679,
          13607713,
          13608031,
          13608071,
          13608072,
          13608109
         ],
         "y": [
          2198,
          2198,
          2199,
          2199,
          2200,
          2200,
          2201,
          2201,
          2202,
          2202,
          2203,
          2203,
          2204,
          2204,
          2205,
          2205,
          2206,
          2206,
          2207,
          2207,
          2208,
          2208,
          2209,
          2209,
          2210,
          2210,
          2211,
          2211,
          2212,
          2212,
          2213,
          2213,
          2214,
          2214,
          2215,
          2215,
          2216,
          2216,
          2217,
          2217,
          2218,
          2218,
          2219,
          2219,
          2220,
          2220,
          2221,
          2221,
          2222,
          2222,
          2223,
          2223,
          2224,
          2224,
          2225,
          2225,
          2226,
          2226,
          2227,
          2227,
          2228,
          2228,
          2229,
          2229,
          2230,
          2230,
          2231,
          2231,
          2232,
          2232,
          2233,
          2233,
          2234,
          2234,
          2235,
          2235,
          2236,
          2236,
          2237,
          2237
         ]
        },
        {
         "line": {
          "color": "#EF553B"
         },
         "mode": "lines",
         "name": "nDCC-19",
         "showlegend": true,
         "type": "scatter",
         "x": [
          13662631,
          13662671,
          13662804,
          13662839,
          13662883,
          13662923,
          13663016,
          13663050,
          13663696,
          13663736,
          13663816,
          13663856,
          13663982,
          13664022,
          13664176,
          13664215,
          13664676,
          13664716,
          13664717,
          13664756,
          13664823,
          13664863,
          13664900,
          13664940,
          13665052,
          13665092,
          13665093,
          13665127,
          13665397,
          13665437,
          13665508,
          13665542,
          13665679,
          13665713,
          13666102,
          13666142,
          13666143,
          13666182,
          13666183,
          13666223,
          13666230,
          13666270,
          13666384,
          13666418,
          13666518,
          13666558,
          13666629,
          13666663,
          13666702,
          13666736,
          13666794,
          13666834,
          13666915,
          13666955,
          13666993,
          13667033,
          13667050,
          13667090,
          13667126,
          13667160,
          13667356,
          13667394,
          13667508,
          13667547,
          13667583,
          13667617,
          13667847,
          13667882,
          13667892,
          13667932,
          13667955,
          13667995,
          13668072,
          13668112,
          13668113,
          13668148,
          13668322,
          13668360,
          13668449,
          13668489
         ],
         "y": [
          2238,
          2238,
          2239,
          2239,
          2240,
          2240,
          2241,
          2241,
          2242,
          2242,
          2243,
          2243,
          2244,
          2244,
          2245,
          2245,
          2246,
          2246,
          2247,
          2247,
          2248,
          2248,
          2249,
          2249,
          2250,
          2250,
          2251,
          2251,
          2252,
          2252,
          2253,
          2253,
          2254,
          2254,
          2255,
          2255,
          2256,
          2256,
          2257,
          2257,
          2258,
          2258,
          2259,
          2259,
          2260,
          2260,
          2261,
          2261,
          2262,
          2262,
          2263,
          2263,
          2264,
          2264,
          2265,
          2265,
          2266,
          2266,
          2267,
          2267,
          2268,
          2268,
          2269,
          2269,
          2270,
          2270,
          2271,
          2271,
          2272,
          2272,
          2273,
          2273,
          2274,
          2274,
          2275,
          2275,
          2276,
          2276,
          2277,
          2277
         ]
        },
        {
         "line": {
          "color": "#00CC96"
         },
         "mode": "lines",
         "name": "P-rex-23",
         "showlegend": true,
         "type": "scatter",
         "x": [
          13693493,
          13693533,
          13693534,
          13693568,
          13693570,
          13693604,
          13693621,
          13693661,
          13693662,
          13693696,
          13693697,
          13693731,
          13693732,
          13693766,
          13693859,
          13693893,
          13693894,
          13693928,
          13694012,
          13694052,
          13694083,
          13694118,
          13694205,
          13694239,
          13694252,
          13694288,
          13694942,
          13694982,
          13694983,
          13695017,
          13695078,
          13695117,
          13695126,
          13695166,
          13695292,
          13695332,
          13695333,
          13695367,
          13695372,
          13695412,
          13695518,
          13695558,
          13695604,
          13695644,
          13695717,
          13695757,
          13695895,
          13695935,
          13695949,
          13695989,
          13695990,
          13696030,
          13696201,
          13696240,
          13696241,
          13696280,
          13696341,
          13696375,
          13696376,
          13696412,
          13696413,
          13696451,
          13696523,
          13696563,
          13696698,
          13696738,
          13696755,
          13696795,
          13696823,
          13696863,
          13696866,
          13696906,
          13697164,
          13697204
         ],
         "y": [
          2278,
          2278,
          2279,
          2279,
          2280,
          2280,
          2281,
          2281,
          2282,
          2282,
          2283,
          2283,
          2284,
          2284,
          2285,
          2285,
          2286,
          2286,
          2287,
          2287,
          2288,
          2288,
          2289,
          2289,
          2290,
          2290,
          2291,
          2291,
          2292,
          2292,
          2293,
          2293,
          2294,
          2294,
          2295,
          2295,
          2296,
          2296,
          2297,
          2297,
          2298,
          2298,
          2299,
          2299,
          2300,
          2300,
          2301,
          2301,
          2302,
          2302,
          2303,
          2303,
          2304,
          2304,
          2305,
          2305,
          2306,
          2306,
          2307,
          2307,
          2308,
          2308,
          2309,
          2309,
          2310,
          2310,
          2311,
          2311,
          2312,
          2312,
          2313,
          2313,
          2314,
          2314
         ]
        },
        {
         "line": {
          "color": "#AB63FA"
         },
         "mode": "lines",
         "name": "rex-43",
         "showlegend": true,
         "type": "scatter",
         "x": [
          13697651,
          13697685,
          13697972,
          13698012,
          13698387,
          13698423,
          13699969,
          13700009,
          13700207,
          13700247,
          13700282,
          13700322,
          13700743,
          13700783,
          13700788,
          13700828,
          13700833,
          13700873,
          13700874,
          13700911,
          13700912,
          13700948,
          13700949,
          13700983,
          13700990,
          13701030,
          13701031,
          13701069,
          13701084,
          13701124,
          13701221,
          13701261,
          13701335,
          13701375,
          13701492,
          13701532,
          13701540,
          13701580,
          13701718,
          13701758,
          13701759,
          13701798,
          13701870,
          13701909,
          13701941,
          13701981,
          13702078,
          13702118,
          13702230,
          13702266,
          13702310,
          13702350,
          13702934,
          13702974,
          13703221,
          13703261,
          13703300,
          13703340,
          13703345,
          13703385,
          13703574,
          13703610,
          13703612,
          13703652,
          13703802,
          13703842,
          13703994,
          13704031,
          13704148,
          13704187,
          13704202,
          13704242,
          13704267,
          13704307,
          13704338,
          13704378
         ],
         "y": [
          2315,
          2315,
          2316,
          2316,
          2317,
          2317,
          2318,
          2318,
          2319,
          2319,
          2320,
          2320,
          2321,
          2321,
          2322,
          2322,
          2323,
          2323,
          2324,
          2324,
          2325,
          2325,
          2326,
          2326,
          2327,
          2327,
          2328,
          2328,
          2329,
          2329,
          2330,
          2330,
          2331,
          2331,
          2332,
          2332,
          2333,
          2333,
          2334,
          2334,
          2335,
          2335,
          2336,
          2336,
          2337,
          2337,
          2338,
          2338,
          2339,
          2339,
          2340,
          2340,
          2341,
          2341,
          2342,
          2342,
          2343,
          2343,
          2344,
          2344,
          2345,
          2345,
          2346,
          2346,
          2347,
          2347,
          2348,
          2348,
          2349,
          2349,
          2350,
          2350,
          2351,
          2351,
          2352,
          2352
         ]
        },
        {
         "line": {
          "color": "grey"
         },
         "mode": "lines",
         "name": "chrIII_fiducial2",
         "showlegend": false,
         "type": "scatter",
         "x": [
          13769348,
          13769382,
          13769383,
          13769423,
          13769424,
          13769458,
          13769464,
          13769504,
          13769507,
          13769541,
          13769542,
          13769576,
          13769609,
          13769643,
          13769644,
          13769678,
          13769679,
          13769713,
          13769714,
          13769748,
          13769910,
          13769944,
          13770024,
          13770058,
          13770069,
          13770103,
          13770114,
          13770149,
          13770150,
          13770184,
          13770222,
          13770256,
          13770306,
          13770344,
          13770345,
          13770383,
          13770413,
          13770453,
          13770454,
          13770488,
          13770550,
          13770587,
          13770588,
          13770627,
          13770666,
          13770700,
          13770701,
          13770735,
          13770751,
          13770791,
          13770792,
          13770826,
          13770827,
          13770867,
          13770868,
          13770904,
          13770939,
          13770979,
          13771005,
          13771039,
          13771169,
          13771203,
          13771276,
          13771316,
          13771317,
          13771351,
          13771367,
          13771401,
          13771440,
          13771480,
          13771660,
          13771700,
          13771747,
          13771787,
          13771876,
          13771916,
          13771946,
          13771986,
          13772005,
          13772039,
          13772040,
          13772076,
          13772077,
          13772114,
          13772115,
          13772149,
          13772150,
          13772185,
          13772192,
          13772226,
          13772227,
          13772261,
          13772262,
          13772299,
          13772365,
          13772405,
          13772407,
          13772441,
          13772758,
          13772793,
          13772804,
          13772838,
          13772839,
          13772873,
          13772874,
          13772908,
          13772975,
          13773015,
          13773016,
          13773050,
          13773051,
          13773086,
          13773132,
          13773166,
          13773167,
          13773202,
          13773203,
          13773237,
          13773417,
          13773457,
          13773458,
          13773492,
          13774535,
          13774575,
          13774606,
          13774640,
          13774641,
          13774675,
          13774713,
          13774747,
          13774748,
          13774782,
          13775102,
          13775140,
          13775166,
          13775200,
          13775218,
          13775253,
          13775254,
          13775288,
          13775289,
          13775323,
          13775324,
          13775364
         ],
         "y": [
          3121,
          3121,
          3122,
          3122,
          3123,
          3123,
          3124,
          3124,
          3125,
          3125,
          3126,
          3126,
          3127,
          3127,
          3128,
          3128,
          3129,
          3129,
          3130,
          3130,
          3131,
          3131,
          3132,
          3132,
          3133,
          3133,
          3134,
          3134,
          3135,
          3135,
          3136,
          3136,
          3137,
          3137,
          3138,
          3138,
          3139,
          3139,
          3140,
          3140,
          3141,
          3141,
          3142,
          3142,
          3143,
          3143,
          3144,
          3144,
          3145,
          3145,
          3146,
          3146,
          3147,
          3147,
          3148,
          3148,
          3149,
          3149,
          3150,
          3150,
          3151,
          3151,
          3152,
          3152,
          3153,
          3153,
          3154,
          3154,
          3155,
          3155,
          3156,
          3156,
          3157,
          3157,
          3158,
          3158,
          3159,
          3159,
          3160,
          3160,
          3161,
          3161,
          3162,
          3162,
          3163,
          3163,
          3164,
          3164,
          3165,
          3165,
          3166,
          3166,
          3167,
          3167,
          3168,
          3168,
          3169,
          3169,
          3170,
          3170,
          3171,
          3171,
          3172,
          3172,
          3173,
          3173,
          3174,
          3174,
          3175,
          3175,
          3176,
          3176,
          3177,
          3177,
          3178,
          3178,
          3179,
          3179,
          3180,
          3180,
          3181,
          3181,
          3182,
          3182,
          3183,
          3183,
          3184,
          3184,
          3185,
          3185,
          3186,
          3186,
          3187,
          3187,
          3188,
          3188,
          3189,
          3189,
          3190,
          3190,
          3191,
          3191,
          3192,
          3192
         ]
        },
        {
         "line": {
          "color": "#19D3F3"
         },
         "mode": "lines",
         "name": "P-rex-25",
         "showlegend": true,
         "type": "scatter",
         "x": [
          13917489,
          13917527,
          13917563,
          13917601,
          13917639,
          13917673,
          13918032,
          13918070,
          13918638,
          13918678,
          13919397,
          13919437,
          13919438,
          13919474,
          13919624,
          13919664,
          13919672,
          13919712,
          13919800,
          13919834,
          13920102,
          13920142,
          13920389,
          13920429,
          13920490,
          13920530,
          13920531,
          13920565,
          13920582,
          13920616,
          13920782,
          13920816,
          13920867,
          13920901,
          13921132,
          13921172,
          13921173,
          13921210,
          13921213,
          13921253,
          13921290,
          13921324,
          13921460,
          13921500,
          13921621,
          13921661,
          13921740,
          13921780,
          13921892,
          13921928,
          13921971,
          13922005,
          13922064,
          13922101,
          13922297,
          13922337,
          13922683,
          13922717,
          13922857,
          13922893,
          13922919,
          13922959,
          13923164,
          13923203,
          13923242,
          13923276,
          13923319,
          13923359,
          13923401,
          13923435,
          13923441,
          13923475,
          13923505,
          13923539,
          13923622,
          13923662,
          13923742,
          13923776,
          13923806,
          13923846
         ],
         "y": [
          2353,
          2353,
          2354,
          2354,
          2355,
          2355,
          2356,
          2356,
          2357,
          2357,
          2358,
          2358,
          2359,
          2359,
          2360,
          2360,
          2361,
          2361,
          2362,
          2362,
          2363,
          2363,
          2364,
          2364,
          2365,
          2365,
          2366,
          2366,
          2367,
          2367,
          2368,
          2368,
          2369,
          2369,
          2370,
          2370,
          2371,
          2371,
          2372,
          2372,
          2373,
          2373,
          2374,
          2374,
          2375,
          2375,
          2376,
          2376,
          2377,
          2377,
          2378,
          2378,
          2379,
          2379,
          2380,
          2380,
          2381,
          2381,
          2382,
          2382,
          2383,
          2383,
          2384,
          2384,
          2385,
          2385,
          2386,
          2386,
          2387,
          2387,
          2388,
          2388,
          2389,
          2389,
          2390,
          2390,
          2391,
          2391,
          2392,
          2392
         ]
        },
        {
         "line": {
          "color": "#FF6692"
         },
         "mode": "lines",
         "name": "P-rex-26",
         "showlegend": true,
         "type": "scatter",
         "x": [
          14024296,
          14024336,
          14024493,
          14024533,
          14024542,
          14024582,
          14024583,
          14024618,
          14024705,
          14024744,
          14024793,
          14024828,
          14024829,
          14024868,
          14025652,
          14025692,
          14025918,
          14025952,
          14026044,
          14026084,
          14026233,
          14026273,
          14026356,
          14026393,
          14026431,
          14026471,
          14026755,
          14026793,
          14026809,
          14026849,
          14026894,
          14026934,
          14026970,
          14027004,
          14027025,
          14027059,
          14027211,
          14027245,
          14027419,
          14027458,
          14027459,
          14027493,
          14027520,
          14027559,
          14027718,
          14027758,
          14027901,
          14027940,
          14028306,
          14028346,
          14028383,
          14028423,
          14028471,
          14028505,
          14028533,
          14028570,
          14028581,
          14028615,
          14028676,
          14028716,
          14028717,
          14028751,
          14028779,
          14028819,
          14028866,
          14028903,
          14028967,
          14029002,
          14029003,
          14029042,
          14029043,
          14029080,
          14029081,
          14029115,
          14029749,
          14029789,
          14029832,
          14029872,
          14029924,
          14029959
         ],
         "y": [
          2393,
          2393,
          2394,
          2394,
          2395,
          2395,
          2396,
          2396,
          2397,
          2397,
          2398,
          2398,
          2399,
          2399,
          2400,
          2400,
          2401,
          2401,
          2402,
          2402,
          2403,
          2403,
          2404,
          2404,
          2405,
          2405,
          2406,
          2406,
          2407,
          2407,
          2408,
          2408,
          2409,
          2409,
          2410,
          2410,
          2411,
          2411,
          2412,
          2412,
          2413,
          2413,
          2414,
          2414,
          2415,
          2415,
          2416,
          2416,
          2417,
          2417,
          2418,
          2418,
          2419,
          2419,
          2420,
          2420,
          2421,
          2421,
          2422,
          2422,
          2423,
          2423,
          2424,
          2424,
          2425,
          2425,
          2426,
          2426,
          2427,
          2427,
          2428,
          2428,
          2429,
          2429,
          2430,
          2430,
          2431,
          2431,
          2432,
          2432
         ]
        },
        {
         "line": {
          "color": "#B6E880"
         },
         "mode": "lines",
         "name": "P-rex-27",
         "showlegend": true,
         "type": "scatter",
         "x": [
          14478202,
          14478242,
          14478325,
          14478365,
          14478486,
          14478520,
          14478738,
          14478778,
          14479242,
          14479282,
          14479323,
          14479358,
          14479549,
          14479585,
          14479626,
          14479663,
          14479742,
          14479781,
          14479829,
          14479869,
          14479931,
          14479971,
          14479979,
          14480019,
          14480055,
          14480092,
          14480210,
          14480245,
          14480317,
          14480357,
          14480360,
          14480399,
          14480622,
          14480660,
          14480922,
          14480962,
          14481158,
          14481198,
          14481234,
          14481272,
          14481309,
          14481343,
          14481505,
          14481543,
          14481551,
          14481591,
          14481631,
          14481669,
          14482046,
          14482080,
          14482116,
          14482156,
          14482175,
          14482215,
          14482278,
          14482312,
          14482389,
          14482429,
          14482505,
          14482539,
          14482592,
          14482632,
          14482633,
          14482668,
          14482718,
          14482758,
          14482896,
          14482934,
          14482971,
          14483005,
          14483016,
          14483056,
          14483067,
          14483107,
          14483144,
          14483178,
          14483271,
          14483311,
          14483389,
          14483423
         ],
         "y": [
          2433,
          2433,
          2434,
          2434,
          2435,
          2435,
          2436,
          2436,
          2437,
          2437,
          2438,
          2438,
          2439,
          2439,
          2440,
          2440,
          2441,
          2441,
          2442,
          2442,
          2443,
          2443,
          2444,
          2444,
          2445,
          2445,
          2446,
          2446,
          2447,
          2447,
          2448,
          2448,
          2449,
          2449,
          2450,
          2450,
          2451,
          2451,
          2452,
          2452,
          2453,
          2453,
          2454,
          2454,
          2455,
          2455,
          2456,
          2456,
          2457,
          2457,
          2458,
          2458,
          2459,
          2459,
          2460,
          2460,
          2461,
          2461,
          2462,
          2462,
          2463,
          2463,
          2464,
          2464,
          2465,
          2465,
          2466,
          2466,
          2467,
          2467,
          2468,
          2468,
          2469,
          2469,
          2470,
          2470,
          2471,
          2471,
          2472,
          2472
         ]
        },
        {
         "line": {
          "color": "#FF97FF"
         },
         "mode": "lines",
         "name": "rex-48",
         "showlegend": true,
         "type": "scatter",
         "x": [
          14521771,
          14521811,
          14521839,
          14521875,
          14521876,
          14521916,
          14521917,
          14521956,
          14521995,
          14522035,
          14522036,
          14522071,
          14522073,
          14522113,
          14522114,
          14522148,
          14522211,
          14522249,
          14522250,
          14522284,
          14522291,
          14522325,
          14522351,
          14522391,
          14522588,
          14522627,
          14522820,
          14522860,
          14523120,
          14523160,
          14523199,
          14523239,
          14523548,
          14523585,
          14524107,
          14524147,
          14524323,
          14524363,
          14525558,
          14525598,
          14525636,
          14525670,
          14525864,
          14525898,
          14526202,
          14526239,
          14526284,
          14526324,
          14526338,
          14526372,
          14526536,
          14526576,
          14526577,
          14526611,
          14526694,
          14526732,
          14526740,
          14526774,
          14526920,
          14526958,
          14526962,
          14527002,
          14527578,
          14527618,
          14527828,
          14527863,
          14527992,
          14528032,
          14528095,
          14528135,
          14528180,
          14528220,
          14528251,
          14528289,
          14528296,
          14528336,
          14528698,
          14528738,
          14529617,
          14529657
         ],
         "y": [
          2473,
          2473,
          2474,
          2474,
          2475,
          2475,
          2476,
          2476,
          2477,
          2477,
          2478,
          2478,
          2479,
          2479,
          2480,
          2480,
          2481,
          2481,
          2482,
          2482,
          2483,
          2483,
          2484,
          2484,
          2485,
          2485,
          2486,
          2486,
          2487,
          2487,
          2488,
          2488,
          2489,
          2489,
          2490,
          2490,
          2491,
          2491,
          2492,
          2492,
          2493,
          2493,
          2494,
          2494,
          2495,
          2495,
          2496,
          2496,
          2497,
          2497,
          2498,
          2498,
          2499,
          2499,
          2500,
          2500,
          2501,
          2501,
          2502,
          2502,
          2503,
          2503,
          2504,
          2504,
          2505,
          2505,
          2506,
          2506,
          2507,
          2507,
          2508,
          2508,
          2509,
          2509,
          2510,
          2510,
          2511,
          2511,
          2512,
          2512
         ]
        },
        {
         "line": {
          "color": "#FECB52"
         },
         "mode": "lines",
         "name": "rex-39",
         "showlegend": true,
         "type": "scatter",
         "x": [
          14810575,
          14810609,
          14810645,
          14810685,
          14810686,
          14810720,
          14810758,
          14810798,
          14810800,
          14810840,
          14810873,
          14810907,
          14811700,
          14811740,
          14811793,
          14811833,
          14811869,
          14811905,
          14811906,
          14811944,
          14811946,
          14811985,
          14811986,
          14812022,
          14812023,
          14812057,
          14812090,
          14812130,
          14812149,
          14812189,
          14812311,
          14812351,
          14812352,
          14812391,
          14812399,
          14812439,
          14812552,
          14812592,
          14812605,
          14812645,
          14812763,
          14812801,
          14813015,
          14813055,
          14813486,
          14813526,
          14813533,
          14813573,
          14813639,
          14813679,
          14813680,
          14813716,
          14813762,
          14813796,
          14813938,
          14813973,
          14814336,
          14814370,
          14814551,
          14814591,
          14814592,
          14814626,
          14814938,
          14814978,
          14815429,
          14815464,
          14815546,
          14815586,
          14815598,
          14815638,
          14815639,
          14815676,
          14816148,
          14816188,
          14816223,
          14816257,
          14816298,
          14816338,
          14816339,
          14816373
         ],
         "y": [
          2513,
          2513,
          2514,
          2514,
          2515,
          2515,
          2516,
          2516,
          2517,
          2517,
          2518,
          2518,
          2519,
          2519,
          2520,
          2520,
          2521,
          2521,
          2522,
          2522,
          2523,
          2523,
          2524,
          2524,
          2525,
          2525,
          2526,
          2526,
          2527,
          2527,
          2528,
          2528,
          2529,
          2529,
          2530,
          2530,
          2531,
          2531,
          2532,
          2532,
          2533,
          2533,
          2534,
          2534,
          2535,
          2535,
          2536,
          2536,
          2537,
          2537,
          2538,
          2538,
          2539,
          2539,
          2540,
          2540,
          2541,
          2541,
          2542,
          2542,
          2543,
          2543,
          2544,
          2544,
          2545,
          2545,
          2546,
          2546,
          2547,
          2547,
          2548,
          2548,
          2549,
          2549,
          2550,
          2550,
          2551,
          2551,
          2552,
          2552
         ]
        },
        {
         "line": {
          "color": "#636EFA"
         },
         "mode": "lines",
         "name": "rex-46",
         "showlegend": true,
         "type": "scatter",
         "x": [
          15733798,
          15733833,
          15733869,
          15733906,
          15733924,
          15733964,
          15733965,
          15733999,
          15734019,
          15734059,
          15734060,
          15734094,
          15734095,
          15734129,
          15734172,
          15734210,
          15734224,
          15734264,
          15734265,
          15734304,
          15734305,
          15734344,
          15734345,
          15734380,
          15734384,
          15734423,
          15734424,
          15734458,
          15734459,
          15734497,
          15734504,
          15734543,
          15734544,
          15734578,
          15734640,
          15734674,
          15734675,
          15734715,
          15734716,
          15734751,
          15734752,
          15734789,
          15734790,
          15734824,
          15734825,
          15734859,
          15734900,
          15734938,
          15734962,
          15734997,
          15734998,
          15735034,
          15735068,
          15735108,
          15735109,
          15735149,
          15735168,
          15735202,
          15735203,
          15735237,
          15736655,
          15736689,
          15736843,
          15736883,
          15737075,
          15737115,
          15737147,
          15737187,
          15737208,
          15737248,
          15737762,
          15737802,
          15737807,
          15737847,
          15737879,
          15737915,
          15739516,
          15739556,
          15739564,
          15739604
         ],
         "y": [
          2553,
          2553,
          2554,
          2554,
          2555,
          2555,
          2556,
          2556,
          2557,
          2557,
          2558,
          2558,
          2559,
          2559,
          2560,
          2560,
          2561,
          2561,
          2562,
          2562,
          2563,
          2563,
          2564,
          2564,
          2565,
          2565,
          2566,
          2566,
          2567,
          2567,
          2568,
          2568,
          2569,
          2569,
          2570,
          2570,
          2571,
          2571,
          2572,
          2572,
          2573,
          2573,
          2574,
          2574,
          2575,
          2575,
          2576,
          2576,
          2577,
          2577,
          2578,
          2578,
          2579,
          2579,
          2580,
          2580,
          2581,
          2581,
          2582,
          2582,
          2583,
          2583,
          2584,
          2584,
          2585,
          2585,
          2586,
          2586,
          2587,
          2587,
          2588,
          2588,
          2589,
          2589,
          2590,
          2590,
          2591,
          2591,
          2592,
          2592
         ]
        },
        {
         "line": {
          "color": "#EF553B"
         },
         "mode": "lines",
         "name": "nDCC-20",
         "showlegend": true,
         "type": "scatter",
         "x": [
          15739658,
          15739698,
          15739882,
          15739922,
          15739947,
          15739987,
          15740457,
          15740497,
          15740553,
          15740593,
          15740727,
          15740766,
          15740872,
          15740911,
          15741071,
          15741105,
          15741106,
          15741146,
          15741213,
          15741252,
          15741307,
          15741347,
          15741348,
          15741385,
          15741386,
          15741420,
          15742012,
          15742046,
          15742388,
          15742428,
          15742591,
          15742630,
          15742643,
          15742680,
          15742802,
          15742842,
          15743217,
          15743251,
          15743252,
          15743286,
          15743323,
          15743358,
          15743359,
          15743393,
          15743491,
          15743531,
          15743536,
          15743576,
          15743613,
          15743653,
          15743693,
          15743730,
          15743759,
          15743799,
          15743800,
          15743838,
          15743842,
          15743877,
          15744037,
          15744077,
          15744083,
          15744123,
          15744181,
          15744215,
          15744948,
          15744988,
          15745070,
          15745110,
          15745264,
          15745304,
          15745346,
          15745386,
          15745407,
          15745447,
          15745448,
          15745488,
          15745489,
          15745529
         ],
         "y": [
          2593,
          2593,
          2594,
          2594,
          2595,
          2595,
          2596,
          2596,
          2597,
          2597,
          2598,
          2598,
          2599,
          2599,
          2600,
          2600,
          2601,
          2601,
          2602,
          2602,
          2603,
          2603,
          2604,
          2604,
          2605,
          2605,
          2606,
          2606,
          2607,
          2607,
          2608,
          2608,
          2609,
          2609,
          2610,
          2610,
          2611,
          2611,
          2612,
          2612,
          2613,
          2613,
          2614,
          2614,
          2615,
          2615,
          2616,
          2616,
          2617,
          2617,
          2618,
          2618,
          2619,
          2619,
          2620,
          2620,
          2621,
          2621,
          2622,
          2622,
          2623,
          2623,
          2624,
          2624,
          2625,
          2625,
          2626,
          2626,
          2627,
          2627,
          2628,
          2628,
          2629,
          2629,
          2630,
          2630,
          2631,
          2631
         ]
        },
        {
         "line": {
          "color": "#00CC96"
         },
         "mode": "lines",
         "name": "P-rex-30",
         "showlegend": true,
         "type": "scatter",
         "x": [
          16053635,
          16053673,
          16053754,
          16053794,
          16053859,
          16053893,
          16053894,
          16053928,
          16054220,
          16054260,
          16054261,
          16054298,
          16054299,
          16054333,
          16054369,
          16054408,
          16054428,
          16054468,
          16054469,
          16054509,
          16055083,
          16055123,
          16055287,
          16055327,
          16055494,
          16055534,
          16055544,
          16055584,
          16056229,
          16056269,
          16056492,
          16056528,
          16056599,
          16056634,
          16056707,
          16056747,
          16056854,
          16056894,
          16057815,
          16057850,
          16057851,
          16057885,
          16057899,
          16057939,
          16057950,
          16057990,
          16057991,
          16058027,
          16058244,
          16058280,
          16058651,
          16058691,
          16058692,
          16058726,
          16058742,
          16058781,
          16058782,
          16058819,
          16058829,
          16058863,
          16058864,
          16058898,
          16058903,
          16058943,
          16059028,
          16059062,
          16059072,
          16059112,
          16059146,
          16059186,
          16059187,
          16059223,
          16059247,
          16059281,
          16059282,
          16059319,
          16059441,
          16059478
         ],
         "y": [
          2632,
          2632,
          2633,
          2633,
          2634,
          2634,
          2635,
          2635,
          2636,
          2636,
          2637,
          2637,
          2638,
          2638,
          2639,
          2639,
          2640,
          2640,
          2641,
          2641,
          2642,
          2642,
          2643,
          2643,
          2644,
          2644,
          2645,
          2645,
          2646,
          2646,
          2647,
          2647,
          2648,
          2648,
          2649,
          2649,
          2650,
          2650,
          2651,
          2651,
          2652,
          2652,
          2653,
          2653,
          2654,
          2654,
          2655,
          2655,
          2656,
          2656,
          2657,
          2657,
          2658,
          2658,
          2659,
          2659,
          2660,
          2660,
          2661,
          2661,
          2662,
          2662,
          2663,
          2663,
          2664,
          2664,
          2665,
          2665,
          2666,
          2666,
          2667,
          2667,
          2668,
          2668,
          2669,
          2669,
          2670,
          2670
         ]
        },
        {
         "line": {
          "color": "#AB63FA"
         },
         "mode": "lines",
         "name": "P-rex-31/nDCC-21",
         "showlegend": true,
         "type": "scatter",
         "x": [
          16201434,
          16201474,
          16201501,
          16201535,
          16201536,
          16201570,
          16202161,
          16202195,
          16202196,
          16202234,
          16202258,
          16202292,
          16202342,
          16202376,
          16202469,
          16202503,
          16202504,
          16202538,
          16203422,
          16203462,
          16203476,
          16203510,
          16203556,
          16203590,
          16203591,
          16203625,
          16203643,
          16203683,
          16203684,
          16203718,
          16203733,
          16203773,
          16203834,
          16203874,
          16204298,
          16204332,
          16204821,
          16204861,
          16204881,
          16204918,
          16204942,
          16204982,
          16204983,
          16205017,
          16205203,
          16205243,
          16205244,
          16205278,
          16205390,
          16205430,
          16205459,
          16205499,
          16205629,
          16205668,
          16205974,
          16206014,
          16206015,
          16206055,
          16206056,
          16206092,
          16206094,
          16206134,
          16206179,
          16206217,
          16206234,
          16206270,
          16206271,
          16206310,
          16206374,
          16206413,
          16206427,
          16206467,
          16206520,
          16206560,
          16206561,
          16206595
         ],
         "y": [
          2671,
          2671,
          2672,
          2672,
          2673,
          2673,
          2674,
          2674,
          2675,
          2675,
          2676,
          2676,
          2677,
          2677,
          2678,
          2678,
          2679,
          2679,
          2680,
          2680,
          2681,
          2681,
          2682,
          2682,
          2683,
          2683,
          2684,
          2684,
          2685,
          2685,
          2686,
          2686,
          2687,
          2687,
          2688,
          2688,
          2689,
          2689,
          2690,
          2690,
          2691,
          2691,
          2692,
          2692,
          2693,
          2693,
          2694,
          2694,
          2695,
          2695,
          2696,
          2696,
          2697,
          2697,
          2698,
          2698,
          2699,
          2699,
          2700,
          2700,
          2701,
          2701,
          2702,
          2702,
          2703,
          2703,
          2704,
          2704,
          2705,
          2705,
          2706,
          2706,
          2707,
          2707,
          2708,
          2708
         ]
        },
        {
         "line": {
          "color": "#FFA15A"
         },
         "mode": "lines",
         "name": "nDCC-22",
         "showlegend": true,
         "type": "scatter",
         "x": [
          16324472,
          16324509,
          16324747,
          16324787,
          16325128,
          16325168,
          16325455,
          16325489,
          16325563,
          16325603,
          16325605,
          16325639,
          16325885,
          16325925,
          16326185,
          16326222,
          16326223,
          16326257,
          16326272,
          16326312,
          16326398,
          16326438,
          16326474,
          16326514,
          16326631,
          16326665,
          16326786,
          16326826,
          16326953,
          16326993,
          16327124,
          16327164,
          16327361,
          16327401,
          16327402,
          16327436,
          16327437,
          16327472,
          16327476,
          16327516,
          16327620,
          16327660,
          16327804,
          16327844,
          16328141,
          16328180,
          16328202,
          16328236,
          16328237,
          16328277,
          16328399,
          16328439,
          16328440,
          16328474,
          16328842,
          16328882,
          16328940,
          16328980,
          16329026,
          16329060,
          16329081,
          16329121,
          16329135,
          16329175,
          16329205,
          16329239,
          16329949,
          16329983,
          16329985,
          16330025,
          16330026,
          16330066,
          16330108,
          16330148,
          16330155,
          16330193,
          16330355,
          16330389
         ],
         "y": [
          2709,
          2709,
          2710,
          2710,
          2711,
          2711,
          2712,
          2712,
          2713,
          2713,
          2714,
          2714,
          2715,
          2715,
          2716,
          2716,
          2717,
          2717,
          2718,
          2718,
          2719,
          2719,
          2720,
          2720,
          2721,
          2721,
          2722,
          2722,
          2723,
          2723,
          2724,
          2724,
          2725,
          2725,
          2726,
          2726,
          2727,
          2727,
          2728,
          2728,
          2729,
          2729,
          2730,
          2730,
          2731,
          2731,
          2732,
          2732,
          2733,
          2733,
          2734,
          2734,
          2735,
          2735,
          2736,
          2736,
          2737,
          2737,
          2738,
          2738,
          2739,
          2739,
          2740,
          2740,
          2741,
          2741,
          2742,
          2742,
          2743,
          2743,
          2744,
          2744,
          2745,
          2745,
          2746,
          2746,
          2747,
          2747
         ]
        },
        {
         "line": {
          "color": "#19D3F3"
         },
         "mode": "lines",
         "name": "rex-35",
         "showlegend": true,
         "type": "scatter",
         "x": [
          16679162,
          16679198,
          16679249,
          16679285,
          16679527,
          16679567,
          16679604,
          16679638,
          16679897,
          16679937,
          16679943,
          16679982,
          16680951,
          16680991,
          16681386,
          16681426,
          16681539,
          16681577,
          16681617,
          16681653,
          16681685,
          16681719,
          16681720,
          16681755,
          16681756,
          16681790,
          16681791,
          16681829,
          16681841,
          16681881,
          16681883,
          16681923,
          16682064,
          16682104,
          16682105,
          16682143,
          16682144,
          16682181,
          16682303,
          16682340,
          16682483,
          16682523,
          16682559,
          16682598,
          16682662,
          16682702,
          16683606,
          16683646,
          16683650,
          16683684,
          16683795,
          16683829,
          16684089,
          16684123,
          16684409,
          16684449,
          16684471,
          16684511,
          16684542,
          16684582,
          16684583,
          16684617,
          16684618,
          16684652,
          16684653,
          16684689,
          16684700,
          16684740,
          16684809,
          16684843,
          16684856,
          16684896,
          16684919,
          16684959,
          16684960,
          16684994,
          16684995,
          16685029
         ],
         "y": [
          2748,
          2748,
          2749,
          2749,
          2750,
          2750,
          2751,
          2751,
          2752,
          2752,
          2753,
          2753,
          2754,
          2754,
          2755,
          2755,
          2756,
          2756,
          2757,
          2757,
          2758,
          2758,
          2759,
          2759,
          2760,
          2760,
          2761,
          2761,
          2762,
          2762,
          2763,
          2763,
          2764,
          2764,
          2765,
          2765,
          2766,
          2766,
          2767,
          2767,
          2768,
          2768,
          2769,
          2769,
          2770,
          2770,
          2771,
          2771,
          2772,
          2772,
          2773,
          2773,
          2774,
          2774,
          2775,
          2775,
          2776,
          2776,
          2777,
          2777,
          2778,
          2778,
          2779,
          2779,
          2780,
          2780,
          2781,
          2781,
          2782,
          2782,
          2783,
          2783,
          2784,
          2784,
          2785,
          2785,
          2786,
          2786
         ]
        },
        {
         "line": {
          "color": "#FF6692"
         },
         "mode": "lines",
         "name": "nDCC-23",
         "showlegend": true,
         "type": "scatter",
         "x": [
          16692550,
          16692588,
          16692589,
          16692627,
          16692670,
          16692710,
          16692910,
          16692948,
          16693026,
          16693066,
          16693110,
          16693150,
          16693179,
          16693219,
          16693263,
          16693301,
          16693302,
          16693339,
          16693359,
          16693397,
          16693456,
          16693490,
          16693491,
          16693525,
          16693637,
          16693671,
          16693774,
          16693814,
          16693815,
          16693854,
          16693858,
          16693898,
          16693953,
          16693987,
          16694034,
          16694074,
          16694274,
          16694314,
          16694363,
          16694403,
          16694557,
          16694593,
          16694678,
          16694714,
          16694809,
          16694849,
          16695160,
          16695199,
          16695460,
          16695494,
          16695495,
          16695529,
          16695592,
          16695632,
          16695673,
          16695713,
          16695881,
          16695921,
          16696037,
          16696075,
          16696124,
          16696164,
          16696275,
          16696315,
          16696327,
          16696367,
          16696371,
          16696411,
          16696412,
          16696449,
          16696502,
          16696539,
          16696598,
          16696632,
          16697224,
          16697258,
          16697281,
          16697321
         ],
         "y": [
          2787,
          2787,
          2788,
          2788,
          2789,
          2789,
          2790,
          2790,
          2791,
          2791,
          2792,
          2792,
          2793,
          2793,
          2794,
          2794,
          2795,
          2795,
          2796,
          2796,
          2797,
          2797,
          2798,
          2798,
          2799,
          2799,
          2800,
          2800,
          2801,
          2801,
          2802,
          2802,
          2803,
          2803,
          2804,
          2804,
          2805,
          2805,
          2806,
          2806,
          2807,
          2807,
          2808,
          2808,
          2809,
          2809,
          2810,
          2810,
          2811,
          2811,
          2812,
          2812,
          2813,
          2813,
          2814,
          2814,
          2815,
          2815,
          2816,
          2816,
          2817,
          2817,
          2818,
          2818,
          2819,
          2819,
          2820,
          2820,
          2821,
          2821,
          2822,
          2822,
          2823,
          2823,
          2824,
          2824,
          2825,
          2825
         ]
        },
        {
         "line": {
          "color": "#B6E880"
         },
         "mode": "lines",
         "name": "rex-42",
         "showlegend": true,
         "type": "scatter",
         "x": [
          17177969,
          17178005,
          17178181,
          17178215,
          17178223,
          17178260,
          17178266,
          17178306,
          17178310,
          17178350,
          17178501,
          17178541,
          17178571,
          17178605,
          17178672,
          17178706,
          17178723,
          17178763,
          17178813,
          17178853,
          17178926,
          17178966,
          17179079,
          17179119,
          17180004,
          17180038,
          17180087,
          17180127,
          17180128,
          17180164,
          17180331,
          17180367,
          17180996,
          17181036,
          17181051,
          17181091,
          17181337,
          17181373,
          17181374,
          17181411,
          17181436,
          17181470,
          17181744,
          17181784,
          17181785,
          17181819,
          17181820,
          17181854,
          17181890,
          17181924,
          17182000,
          17182040,
          17182092,
          17182126,
          17182716,
          17182755,
          17182776,
          17182814,
          17183066,
          17183105,
          17184048,
          17184088,
          17184213,
          17184253,
          17184390,
          17184425,
          17184537,
          17184571,
          17184572,
          17184609,
          17184613,
          17184647,
          17184648,
          17184683,
          17184779,
          17184819,
          17184868,
          17184907
         ],
         "y": [
          2826,
          2826,
          2827,
          2827,
          2828,
          2828,
          2829,
          2829,
          2830,
          2830,
          2831,
          2831,
          2832,
          2832,
          2833,
          2833,
          2834,
          2834,
          2835,
          2835,
          2836,
          2836,
          2837,
          2837,
          2838,
          2838,
          2839,
          2839,
          2840,
          2840,
          2841,
          2841,
          2842,
          2842,
          2843,
          2843,
          2844,
          2844,
          2845,
          2845,
          2846,
          2846,
          2847,
          2847,
          2848,
          2848,
          2849,
          2849,
          2850,
          2850,
          2851,
          2851,
          2852,
          2852,
          2853,
          2853,
          2854,
          2854,
          2855,
          2855,
          2856,
          2856,
          2857,
          2857,
          2858,
          2858,
          2859,
          2859,
          2860,
          2860,
          2861,
          2861,
          2862,
          2862,
          2863,
          2863,
          2864,
          2864
         ]
        },
        {
         "line": {
          "color": "grey"
         },
         "mode": "lines",
         "name": "chrIV_fiducial2",
         "showlegend": false,
         "type": "scatter",
         "x": [
          17486464,
          17486504,
          17486531,
          17486565,
          17486996,
          17487036,
          17487059,
          17487094,
          17487245,
          17487283,
          17487391,
          17487431,
          17487564,
          17487602,
          17487647,
          17487687,
          17487773,
          17487813,
          17488213,
          17488247,
          17488248,
          17488282,
          17488295,
          17488331,
          17488332,
          17488366,
          17488456,
          17488496,
          17488532,
          17488572,
          17488680,
          17488720,
          17488725,
          17488759,
          17488770,
          17488809,
          17488841,
          17488879,
          17488963,
          17489003,
          17489007,
          17489041,
          17489042,
          17489078,
          17489084,
          17489122,
          17489123,
          17489160,
          17489347,
          17489387,
          17489918,
          17489958,
          17489959,
          17489998,
          17490112,
          17490150,
          17490216,
          17490256,
          17490348,
          17490387,
          17490388,
          17490424,
          17490425,
          17490461,
          17490505,
          17490539,
          17490540,
          17490574,
          17490626,
          17490660,
          17490661,
          17490695,
          17490699,
          17490739,
          17490848,
          17490888,
          17490921,
          17490961,
          17490966,
          17491000,
          17491009,
          17491043,
          17491620,
          17491658,
          17491691,
          17491725,
          17491937,
          17491977,
          17492359,
          17492396
         ],
         "y": [
          2987,
          2987,
          2988,
          2988,
          2989,
          2989,
          2990,
          2990,
          2991,
          2991,
          2992,
          2992,
          2993,
          2993,
          2994,
          2994,
          2995,
          2995,
          2996,
          2996,
          2997,
          2997,
          2998,
          2998,
          2999,
          2999,
          3000,
          3000,
          3001,
          3001,
          3002,
          3002,
          3003,
          3003,
          3004,
          3004,
          3005,
          3005,
          3006,
          3006,
          3007,
          3007,
          3008,
          3008,
          3009,
          3009,
          3010,
          3010,
          3011,
          3011,
          3012,
          3012,
          3013,
          3013,
          3014,
          3014,
          3015,
          3015,
          3016,
          3016,
          3017,
          3017,
          3018,
          3018,
          3019,
          3019,
          3020,
          3020,
          3021,
          3021,
          3022,
          3022,
          3023,
          3023,
          3024,
          3024,
          3025,
          3025,
          3026,
          3026,
          3027,
          3027,
          3028,
          3028,
          3029,
          3029,
          3030,
          3030,
          3031,
          3031
         ]
        },
        {
         "line": {
          "color": "#FECB52"
         },
         "mode": "lines",
         "name": "rex-41",
         "showlegend": true,
         "type": "scatter",
         "x": [
          17539095,
          17539134,
          17539154,
          17539191,
          17539438,
          17539475,
          17539815,
          17539849,
          17540076,
          17540116,
          17540140,
          17540174,
          17540212,
          17540246,
          17540255,
          17540295,
          17540296,
          17540334,
          17540621,
          17540661,
          17540876,
          17540916,
          17540917,
          17540957,
          17541120,
          17541160,
          17541161,
          17541195,
          17541289,
          17541329,
          17541768,
          17541808,
          17541809,
          17541846,
          17542100,
          17542140,
          17542389,
          17542423,
          17542424,
          17542461,
          17542790,
          17542829,
          17543100,
          17543140,
          17543324,
          17543364,
          17543365,
          17543399,
          17543457,
          17543495,
          17543496,
          17543530,
          17543565,
          17543605,
          17544792,
          17544832,
          17544840,
          17544879,
          17545041,
          17545081,
          17545557,
          17545597,
          17546179,
          17546219,
          17546372,
          17546412,
          17546482,
          17546522,
          17546652,
          17546686,
          17549585,
          17549619,
          17549621,
          17549661,
          17549662,
          17549696,
          17549702,
          17549736,
          17549978,
          17550018
         ],
         "y": [
          2865,
          2865,
          2866,
          2866,
          2867,
          2867,
          2868,
          2868,
          2869,
          2869,
          2870,
          2870,
          2871,
          2871,
          2872,
          2872,
          2873,
          2873,
          2874,
          2874,
          2875,
          2875,
          2876,
          2876,
          2877,
          2877,
          2878,
          2878,
          2879,
          2879,
          2880,
          2880,
          2881,
          2881,
          2882,
          2882,
          2883,
          2883,
          2884,
          2884,
          2885,
          2885,
          2886,
          2886,
          2887,
          2887,
          2888,
          2888,
          2889,
          2889,
          2890,
          2890,
          2891,
          2891,
          2892,
          2892,
          2893,
          2893,
          2894,
          2894,
          2895,
          2895,
          2896,
          2896,
          2897,
          2897,
          2898,
          2898,
          2899,
          2899,
          2900,
          2900,
          2901,
          2901,
          2902,
          2902,
          2903,
          2903,
          2904,
          2904
         ]
        }
       ],
       "layout": {
        "height": 800,
        "template": {
         "data": {
          "bar": [
           {
            "error_x": {
             "color": "#2a3f5f"
            },
            "error_y": {
             "color": "#2a3f5f"
            },
            "marker": {
             "line": {
              "color": "white",
              "width": 0.5
             },
             "pattern": {
              "fillmode": "overlay",
              "size": 10,
              "solidity": 0.2
             }
            },
            "type": "bar"
           }
          ],
          "barpolar": [
           {
            "marker": {
             "line": {
              "color": "white",
              "width": 0.5
             },
             "pattern": {
              "fillmode": "overlay",
              "size": 10,
              "solidity": 0.2
             }
            },
            "type": "barpolar"
           }
          ],
          "carpet": [
           {
            "aaxis": {
             "endlinecolor": "#2a3f5f",
             "gridcolor": "#C8D4E3",
             "linecolor": "#C8D4E3",
             "minorgridcolor": "#C8D4E3",
             "startlinecolor": "#2a3f5f"
            },
            "baxis": {
             "endlinecolor": "#2a3f5f",
             "gridcolor": "#C8D4E3",
             "linecolor": "#C8D4E3",
             "minorgridcolor": "#C8D4E3",
             "startlinecolor": "#2a3f5f"
            },
            "type": "carpet"
           }
          ],
          "choropleth": [
           {
            "colorbar": {
             "outlinewidth": 0,
             "ticks": ""
            },
            "type": "choropleth"
           }
          ],
          "contour": [
           {
            "colorbar": {
             "outlinewidth": 0,
             "ticks": ""
            },
            "colorscale": [
             [
              0.0,
              "#0d0887"
             ],
             [
              0.1111111111111111,
              "#46039f"
             ],
             [
              0.2222222222222222,
              "#7201a8"
             ],
             [
              0.3333333333333333,
              "#9c179e"
             ],
             [
              0.4444444444444444,
              "#bd3786"
             ],
             [
              0.5555555555555556,
              "#d8576b"
             ],
             [
              0.6666666666666666,
              "#ed7953"
             ],
             [
              0.7777777777777778,
              "#fb9f3a"
             ],
             [
              0.8888888888888888,
              "#fdca26"
             ],
             [
              1.0,
              "#f0f921"
             ]
            ],
            "type": "contour"
           }
          ],
          "contourcarpet": [
           {
            "colorbar": {
             "outlinewidth": 0,
             "ticks": ""
            },
            "type": "contourcarpet"
           }
          ],
          "heatmap": [
           {
            "colorbar": {
             "outlinewidth": 0,
             "ticks": ""
            },
            "colorscale": [
             [
              0.0,
              "#0d0887"
             ],
             [
              0.1111111111111111,
              "#46039f"
             ],
             [
              0.2222222222222222,
              "#7201a8"
             ],
             [
              0.3333333333333333,
              "#9c179e"
             ],
             [
              0.4444444444444444,
              "#bd3786"
             ],
             [
              0.5555555555555556,
              "#d8576b"
             ],
             [
              0.6666666666666666,
              "#ed7953"
             ],
             [
              0.7777777777777778,
              "#fb9f3a"
             ],
             [
              0.8888888888888888,
              "#fdca26"
             ],
             [
              1.0,
              "#f0f921"
             ]
            ],
            "type": "heatmap"
           }
          ],
          "heatmapgl": [
           {
            "colorbar": {
             "outlinewidth": 0,
             "ticks": ""
            },
            "colorscale": [
             [
              0.0,
              "#0d0887"
             ],
             [
              0.1111111111111111,
              "#46039f"
             ],
             [
              0.2222222222222222,
              "#7201a8"
             ],
             [
              0.3333333333333333,
              "#9c179e"
             ],
             [
              0.4444444444444444,
              "#bd3786"
             ],
             [
              0.5555555555555556,
              "#d8576b"
             ],
             [
              0.6666666666666666,
              "#ed7953"
             ],
             [
              0.7777777777777778,
              "#fb9f3a"
             ],
             [
              0.8888888888888888,
              "#fdca26"
             ],
             [
              1.0,
              "#f0f921"
             ]
            ],
            "type": "heatmapgl"
           }
          ],
          "histogram": [
           {
            "marker": {
             "pattern": {
              "fillmode": "overlay",
              "size": 10,
              "solidity": 0.2
             }
            },
            "type": "histogram"
           }
          ],
          "histogram2d": [
           {
            "colorbar": {
             "outlinewidth": 0,
             "ticks": ""
            },
            "colorscale": [
             [
              0.0,
              "#0d0887"
             ],
             [
              0.1111111111111111,
              "#46039f"
             ],
             [
              0.2222222222222222,
              "#7201a8"
             ],
             [
              0.3333333333333333,
              "#9c179e"
             ],
             [
              0.4444444444444444,
              "#bd3786"
             ],
             [
              0.5555555555555556,
              "#d8576b"
             ],
             [
              0.6666666666666666,
              "#ed7953"
             ],
             [
              0.7777777777777778,
              "#fb9f3a"
             ],
             [
              0.8888888888888888,
              "#fdca26"
             ],
             [
              1.0,
              "#f0f921"
             ]
            ],
            "type": "histogram2d"
           }
          ],
          "histogram2dcontour": [
           {
            "colorbar": {
             "outlinewidth": 0,
             "ticks": ""
            },
            "colorscale": [
             [
              0.0,
              "#0d0887"
             ],
             [
              0.1111111111111111,
              "#46039f"
             ],
             [
              0.2222222222222222,
              "#7201a8"
             ],
             [
              0.3333333333333333,
              "#9c179e"
             ],
             [
              0.4444444444444444,
              "#bd3786"
             ],
             [
              0.5555555555555556,
              "#d8576b"
             ],
             [
              0.6666666666666666,
              "#ed7953"
             ],
             [
              0.7777777777777778,
              "#fb9f3a"
             ],
             [
              0.8888888888888888,
              "#fdca26"
             ],
             [
              1.0,
              "#f0f921"
             ]
            ],
            "type": "histogram2dcontour"
           }
          ],
          "mesh3d": [
           {
            "colorbar": {
             "outlinewidth": 0,
             "ticks": ""
            },
            "type": "mesh3d"
           }
          ],
          "parcoords": [
           {
            "line": {
             "colorbar": {
              "outlinewidth": 0,
              "ticks": ""
             }
            },
            "type": "parcoords"
           }
          ],
          "pie": [
           {
            "automargin": true,
            "type": "pie"
           }
          ],
          "scatter": [
           {
            "fillpattern": {
             "fillmode": "overlay",
             "size": 10,
             "solidity": 0.2
            },
            "type": "scatter"
           }
          ],
          "scatter3d": [
           {
            "line": {
             "colorbar": {
              "outlinewidth": 0,
              "ticks": ""
             }
            },
            "marker": {
             "colorbar": {
              "outlinewidth": 0,
              "ticks": ""
             }
            },
            "type": "scatter3d"
           }
          ],
          "scattercarpet": [
           {
            "marker": {
             "colorbar": {
              "outlinewidth": 0,
              "ticks": ""
             }
            },
            "type": "scattercarpet"
           }
          ],
          "scattergeo": [
           {
            "marker": {
             "colorbar": {
              "outlinewidth": 0,
              "ticks": ""
             }
            },
            "type": "scattergeo"
           }
          ],
          "scattergl": [
           {
            "marker": {
             "colorbar": {
              "outlinewidth": 0,
              "ticks": ""
             }
            },
            "type": "scattergl"
           }
          ],
          "scattermapbox": [
           {
            "marker": {
             "colorbar": {
              "outlinewidth": 0,
              "ticks": ""
             }
            },
            "type": "scattermapbox"
           }
          ],
          "scatterpolar": [
           {
            "marker": {
             "colorbar": {
              "outlinewidth": 0,
              "ticks": ""
             }
            },
            "type": "scatterpolar"
           }
          ],
          "scatterpolargl": [
           {
            "marker": {
             "colorbar": {
              "outlinewidth": 0,
              "ticks": ""
             }
            },
            "type": "scatterpolargl"
           }
          ],
          "scatterternary": [
           {
            "marker": {
             "colorbar": {
              "outlinewidth": 0,
              "ticks": ""
             }
            },
            "type": "scatterternary"
           }
          ],
          "surface": [
           {
            "colorbar": {
             "outlinewidth": 0,
             "ticks": ""
            },
            "colorscale": [
             [
              0.0,
              "#0d0887"
             ],
             [
              0.1111111111111111,
              "#46039f"
             ],
             [
              0.2222222222222222,
              "#7201a8"
             ],
             [
              0.3333333333333333,
              "#9c179e"
             ],
             [
              0.4444444444444444,
              "#bd3786"
             ],
             [
              0.5555555555555556,
              "#d8576b"
             ],
             [
              0.6666666666666666,
              "#ed7953"
             ],
             [
              0.7777777777777778,
              "#fb9f3a"
             ],
             [
              0.8888888888888888,
              "#fdca26"
             ],
             [
              1.0,
              "#f0f921"
             ]
            ],
            "type": "surface"
           }
          ],
          "table": [
           {
            "cells": {
             "fill": {
              "color": "#EBF0F8"
             },
             "line": {
              "color": "white"
             }
            },
            "header": {
             "fill": {
              "color": "#C8D4E3"
             },
             "line": {
              "color": "white"
             }
            },
            "type": "table"
           }
          ]
         },
         "layout": {
          "annotationdefaults": {
           "arrowcolor": "#2a3f5f",
           "arrowhead": 0,
           "arrowwidth": 1
          },
          "autotypenumbers": "strict",
          "coloraxis": {
           "colorbar": {
            "outlinewidth": 0,
            "ticks": ""
           }
          },
          "colorscale": {
           "diverging": [
            [
             0,
             "#8e0152"
            ],
            [
             0.1,
             "#c51b7d"
            ],
            [
             0.2,
             "#de77ae"
            ],
            [
             0.3,
             "#f1b6da"
            ],
            [
             0.4,
             "#fde0ef"
            ],
            [
             0.5,
             "#f7f7f7"
            ],
            [
             0.6,
             "#e6f5d0"
            ],
            [
             0.7,
             "#b8e186"
            ],
            [
             0.8,
             "#7fbc41"
            ],
            [
             0.9,
             "#4d9221"
            ],
            [
             1,
             "#276419"
            ]
           ],
           "sequential": [
            [
             0.0,
             "#0d0887"
            ],
            [
             0.1111111111111111,
             "#46039f"
            ],
            [
             0.2222222222222222,
             "#7201a8"
            ],
            [
             0.3333333333333333,
             "#9c179e"
            ],
            [
             0.4444444444444444,
             "#bd3786"
            ],
            [
             0.5555555555555556,
             "#d8576b"
            ],
            [
             0.6666666666666666,
             "#ed7953"
            ],
            [
             0.7777777777777778,
             "#fb9f3a"
            ],
            [
             0.8888888888888888,
             "#fdca26"
            ],
            [
             1.0,
             "#f0f921"
            ]
           ],
           "sequentialminus": [
            [
             0.0,
             "#0d0887"
            ],
            [
             0.1111111111111111,
             "#46039f"
            ],
            [
             0.2222222222222222,
             "#7201a8"
            ],
            [
             0.3333333333333333,
             "#9c179e"
            ],
            [
             0.4444444444444444,
             "#bd3786"
            ],
            [
             0.5555555555555556,
             "#d8576b"
            ],
            [
             0.6666666666666666,
             "#ed7953"
            ],
            [
             0.7777777777777778,
             "#fb9f3a"
            ],
            [
             0.8888888888888888,
             "#fdca26"
            ],
            [
             1.0,
             "#f0f921"
            ]
           ]
          },
          "colorway": [
           "#636efa",
           "#EF553B",
           "#00cc96",
           "#ab63fa",
           "#FFA15A",
           "#19d3f3",
           "#FF6692",
           "#B6E880",
           "#FF97FF",
           "#FECB52"
          ],
          "font": {
           "color": "#2a3f5f"
          },
          "geo": {
           "bgcolor": "white",
           "lakecolor": "white",
           "landcolor": "white",
           "showlakes": true,
           "showland": true,
           "subunitcolor": "#C8D4E3"
          },
          "hoverlabel": {
           "align": "left"
          },
          "hovermode": "closest",
          "mapbox": {
           "style": "light"
          },
          "paper_bgcolor": "white",
          "plot_bgcolor": "white",
          "polar": {
           "angularaxis": {
            "gridcolor": "#EBF0F8",
            "linecolor": "#EBF0F8",
            "ticks": ""
           },
           "bgcolor": "white",
           "radialaxis": {
            "gridcolor": "#EBF0F8",
            "linecolor": "#EBF0F8",
            "ticks": ""
           }
          },
          "scene": {
           "xaxis": {
            "backgroundcolor": "white",
            "gridcolor": "#DFE8F3",
            "gridwidth": 2,
            "linecolor": "#EBF0F8",
            "showbackground": true,
            "ticks": "",
            "zerolinecolor": "#EBF0F8"
           },
           "yaxis": {
            "backgroundcolor": "white",
            "gridcolor": "#DFE8F3",
            "gridwidth": 2,
            "linecolor": "#EBF0F8",
            "showbackground": true,
            "ticks": "",
            "zerolinecolor": "#EBF0F8"
           },
           "zaxis": {
            "backgroundcolor": "white",
            "gridcolor": "#DFE8F3",
            "gridwidth": 2,
            "linecolor": "#EBF0F8",
            "showbackground": true,
            "ticks": "",
            "zerolinecolor": "#EBF0F8"
           }
          },
          "shapedefaults": {
           "line": {
            "color": "#2a3f5f"
           }
          },
          "ternary": {
           "aaxis": {
            "gridcolor": "#DFE8F3",
            "linecolor": "#A2B1C6",
            "ticks": ""
           },
           "baxis": {
            "gridcolor": "#DFE8F3",
            "linecolor": "#A2B1C6",
            "ticks": ""
           },
           "bgcolor": "white",
           "caxis": {
            "gridcolor": "#DFE8F3",
            "linecolor": "#A2B1C6",
            "ticks": ""
           }
          },
          "title": {
           "x": 0.05
          },
          "xaxis": {
           "automargin": true,
           "gridcolor": "#EBF0F8",
           "linecolor": "#EBF0F8",
           "ticks": "",
           "title": {
            "standoff": 15
           },
           "zerolinecolor": "#EBF0F8",
           "zerolinewidth": 2
          },
          "yaxis": {
           "automargin": true,
           "gridcolor": "#EBF0F8",
           "linecolor": "#EBF0F8",
           "ticks": "",
           "title": {
            "standoff": 15
           },
           "zerolinecolor": "#EBF0F8",
           "zerolinewidth": 2
          }
         }
        },
        "title": {
         "text": "Probe Genomic Intervals (Targets + Fiducials)"
        },
        "width": 800,
        "xaxis": {
         "title": {
          "text": "Genomic Position"
         }
        },
        "yaxis": {
         "title": {
          "text": "Probe Index"
         }
        }
       }
      },
      "text/html": [
       "<div>                            <div id=\"5b0768bd-a47d-4a86-912c-e51a9aaa11d2\" class=\"plotly-graph-div\" style=\"height:800px; width:800px;\"></div>            <script type=\"text/javascript\">                require([\"plotly\"], function(Plotly) {                    window.PLOTLYENV=window.PLOTLYENV || {};                                    if (document.getElementById(\"5b0768bd-a47d-4a86-912c-e51a9aaa11d2\")) {                    Plotly.newPlot(                        \"5b0768bd-a47d-4a86-912c-e51a9aaa11d2\",                        [{\"line\":{\"color\":\"grey\"},\"mode\":\"lines\",\"name\":\"chrIII_fiducial1\",\"showlegend\":false,\"x\":[16792,16832,16833,16870,17141,17175,17206,17240,17435,17475,17476,17510,17511,17545,17546,17584,17916,17956,17957,17992,18063,18098,18099,18134,18172,18212,18253,18290,18291,18331,18718,18757,18783,18818,18860,18894,18895,18934,19187,19221,19344,19382,19564,19598,19618,19658,19665,19700,19714,19748,19753,19792,19825,19861,20350,20390,20612,20652,20750,20785,20786,20820,20857,20891,20892,20926,21258,21298,21306,21340,21341,21375,21410,21444,21445,21479,21515,21549,21550,21584,21607,21641,21643,21677,21726,21760,21761,21798,21880,21920,22226,22266,22347,22387,22596,22636,22637,22674,22675,22709,22795,22829],\"y\":[3070,3070,3071,3071,3072,3072,3073,3073,3074,3074,3075,3075,3076,3076,3077,3077,3078,3078,3079,3079,3080,3080,3081,3081,3082,3082,3083,3083,3084,3084,3085,3085,3086,3086,3087,3087,3088,3088,3089,3089,3090,3090,3091,3091,3092,3092,3093,3093,3094,3094,3095,3095,3096,3096,3097,3097,3098,3098,3099,3099,3100,3100,3101,3101,3102,3102,3103,3103,3104,3104,3105,3105,3106,3106,3107,3107,3108,3108,3109,3109,3110,3110,3111,3111,3112,3112,3113,3113,3114,3114,3115,3115,3116,3116,3117,3117,3118,3118,3119,3119,3120,3120],\"type\":\"scatter\"},{\"line\":{\"color\":\"grey\"},\"mode\":\"lines\",\"name\":\"chrIV_fiducial1\",\"showlegend\":false,\"x\":[67096,67136,67386,67426,67522,67562,67580,67614,67615,67649,67650,67690,67856,67896,68728,68767,68811,68851,68933,68967,68968,69002,69004,69044,69100,69134,69180,69218,69286,69321,69343,69381,69467,69506,69533,69567,69625,69665,69932,69972,69973,70013,70014,70048,70080,70119,70133,70173,70204,70238,70265,70299,70349,70388,70756,70796,70806,70843,71179,71213,71354,71393,71429,71463,71465,71499,71659,71693,71729,71764,72028,72064,72166,72200,72273,72313,72494,72531,72807,72846,72883,72923,72933,72973,72991,73025,73026,73060],\"y\":[2943,2943,2944,2944,2945,2945,2946,2946,2947,2947,2948,2948,2949,2949,2950,2950,2951,2951,2952,2952,2953,2953,2954,2954,2955,2955,2956,2956,2957,2957,2958,2958,2959,2959,2960,2960,2961,2961,2962,2962,2963,2963,2964,2964,2965,2965,2966,2966,2967,2967,2968,2968,2969,2969,2970,2970,2971,2971,2972,2972,2973,2973,2974,2974,2975,2975,2976,2976,2977,2977,2978,2978,2979,2979,2980,2980,2981,2981,2982,2982,2983,2983,2984,2984,2985,2985,2986,2986],\"type\":\"scatter\"},{\"line\":{\"color\":\"grey\"},\"mode\":\"lines\",\"name\":\"chrX_non_rex_fiducial1\",\"showlegend\":false,\"x\":[300404,300444,300468,300508,300570,300604,301575,301615,301833,301873,301912,301949,302766,302800,302812,302846,302952,302992,303716,303756,303771,303805,303888,303928,303934,303974,304133,304173,304174,304208,304213,304253,304254,304288,304311,304347,304348,304382,304383,304422,304423,304462,304539,304577,304578,304618,304651,304691,304970,305009,305026,305066,305069,305103,305157,305191,305192,305226,305247,305287,305296,305334,305604,305639,305757,305797,305798,305832,305860,305895,305937,305977,306171,306207,306373,306413],\"y\":[2905,2905,2906,2906,2907,2907,2908,2908,2909,2909,2910,2910,2911,2911,2912,2912,2913,2913,2914,2914,2915,2915,2916,2916,2917,2917,2918,2918,2919,2919,2920,2920,2921,2921,2922,2922,2923,2923,2924,2924,2925,2925,2926,2926,2927,2927,2928,2928,2929,2929,2930,2930,2931,2931,2932,2932,2933,2933,2934,2934,2935,2935,2936,2936,2937,2937,2938,2938,2939,2939,2940,2940,2941,2941,2942,2942],\"type\":\"scatter\"},{\"line\":{\"color\":\"#AB63FA\"},\"mode\":\"lines\",\"name\":\"P-rex-1\",\"showlegend\":true,\"x\":[407168,407203,407598,407635,407678,407712,407754,407794,407811,407851,407874,407914,407919,407959,408045,408083,408119,408155,408224,408264,408340,408380,408416,408450,408667,408707,408828,408867,408932,408970,409036,409072,409108,409148,409224,409264,409342,409382,409418,409452,409556,409596,409632,409666,409829,409869,409878,409917,409998,410038,410043,410079,410088,410128,410281,410315,410588,410628,410773,410809,410846,410885,410923,410962,411044,411078,411249,411283,411322,411362,411375,411415,412170,412209,412280,412314,412475,412511,412718,412758],\"y\":[0,0,1,1,2,2,3,3,4,4,5,5,6,6,7,7,8,8,9,9,10,10,11,11,12,12,13,13,14,14,15,15,16,16,17,17,18,18,19,19,20,20,21,21,22,22,23,23,24,24,25,25,26,26,27,27,28,28,29,29,30,30,31,31,32,32,33,33,34,34,35,35,36,36,37,37,38,38,39,39],\"type\":\"scatter\"},{\"line\":{\"color\":\"#FFA15A\"},\"mode\":\"lines\",\"name\":\"nDCC-1\",\"showlegend\":true,\"x\":[486592,486630,486673,486712,486824,486864,486900,486940,487454,487494,487539,487579,487580,487616,487783,487817,488315,488349,488437,488476,488484,488521,489406,489446,489520,489560,489561,489595,489640,489674,489804,489838,489971,490011,490206,490246,490549,490588,490589,490628,490664,490702,490786,490826,490827,490865,491399,491437,491450,491489,491494,491534,491898,491937,491947,491987,491988,492023,492026,492060,492834,492874,492978,493018,493019,493053,493054,493090,493091,493130,493132,493166,493176,493213,493223,493257,493330,493369,493370,493409],\"y\":[40,40,41,41,42,42,43,43,44,44,45,45,46,46,47,47,48,48,49,49,50,50,51,51,52,52,53,53,54,54,55,55,56,56,57,57,58,58,59,59,60,60,61,61,62,62,63,63,64,64,65,65,66,66,67,67,68,68,69,69,70,70,71,71,72,72,73,73,74,74,75,75,76,76,77,77,78,78,79,79],\"type\":\"scatter\"},{\"line\":{\"color\":\"#19D3F3\"},\"mode\":\"lines\",\"name\":\"nDCC-2\",\"showlegend\":true,\"x\":[782762,782796,783355,783395,783442,783482,783490,783530,783610,783648,783754,783794,784090,784130,784182,784220,784268,784302,784365,784404,784407,784447,784481,784520,784527,784567,784615,784655,784938,784972,785025,785065,785095,785134,785151,785189,785227,785267,785410,785444,785490,785530,785568,785602,785965,786005,786008,786048,786049,786086,786138,786178,786198,786235,786668,786708,786769,786806,786906,786946,786994,787034,787051,787085,787128,787168,787604,787638,787842,787879,787947,787987,788034,788074,788102,788142,788170,788204,788491,788525],\"y\":[80,80,81,81,82,82,83,83,84,84,85,85,86,86,87,87,88,88,89,89,90,90,91,91,92,92,93,93,94,94,95,95,96,96,97,97,98,98,99,99,100,100,101,101,102,102,103,103,104,104,105,105,106,106,107,107,108,108,109,109,110,110,111,111,112,112,113,113,114,114,115,115,116,116,117,117,118,118,119,119],\"type\":\"scatter\"},{\"line\":{\"color\":\"#FF6692\"},\"mode\":\"lines\",\"name\":\"rex-40\",\"showlegend\":true,\"x\":[803701,803735,803826,803866,803941,803975,804050,804087,804355,804391,804739,804779,804842,804882,805175,805215,805284,805318,805497,805537,805597,805637,805638,805676,805792,805832,806103,806143,806602,806642,806678,806712,807081,807120,807275,807315,807363,807403,807672,807712,807751,807785,807925,807964,808203,808243,808296,808336,808372,808411,808462,808502,808503,808540,808544,808584,808585,808624,808820,808860,808899,808933,809040,809080,809096,809134,809138,809178,809215,809255,809303,809343,809379,809419,809421,809461,809475,809513,809524,809562],\"y\":[120,120,121,121,122,122,123,123,124,124,125,125,126,126,127,127,128,128,129,129,130,130,131,131,132,132,133,133,134,134,135,135,136,136,137,137,138,138,139,139,140,140,141,141,142,142,143,143,144,144,145,145,146,146,147,147,148,148,149,149,150,150,151,151,152,152,153,153,154,154,155,155,156,156,157,157,158,158,159,159],\"type\":\"scatter\"},{\"line\":{\"color\":\"#B6E880\"},\"mode\":\"lines\",\"name\":\"P-rex-2\",\"showlegend\":true,\"x\":[1219954,1219988,1219989,1220024,1220025,1220065,1221159,1221199,1221404,1221438,1221471,1221505,1221506,1221543,1221594,1221634,1221678,1221718,1221909,1221949,1222335,1222375,1222509,1222543,1222544,1222578,1222579,1222613,1222616,1222650,1222651,1222691,1222803,1222843,1223262,1223302,1223303,1223340,1223341,1223375,1223725,1223765,1223807,1223847,1223848,1223887,1223913,1223949,1223950,1223988,1224005,1224039,1224042,1224082,1224169,1224209,1224210,1224244,1224296,1224334,1224350,1224390,1224998,1225038,1225169,1225206,1225243,1225283,1225547,1225586,1226114,1226151,1226188,1226228,1226229,1226268,1226292,1226326,1226962,1227002],\"y\":[160,160,161,161,162,162,163,163,164,164,165,165,166,166,167,167,168,168,169,169,170,170,171,171,172,172,173,173,174,174,175,175,176,176,177,177,178,178,179,179,180,180,181,181,182,182,183,183,184,184,185,185,186,186,187,187,188,188,189,189,190,190,191,191,192,192,193,193,194,194,195,195,196,196,197,197,198,198,199,199],\"type\":\"scatter\"},{\"line\":{\"color\":\"#FF97FF\"},\"mode\":\"lines\",\"name\":\"P-rex-3\",\"showlegend\":true,\"x\":[1298588,1298622,1298844,1298884,1299444,1299484,1299498,1299532,1299758,1299794,1300110,1300150,1300181,1300221,1300225,1300259,1300846,1300885,1301103,1301143,1301978,1302018,1302074,1302114,1302325,1302359,1302391,1302431,1302523,1302557,1302559,1302593,1302628,1302662,1303077,1303117,1303272,1303312,1303443,1303483,1304055,1304095,1304185,1304225,1304234,1304274,1304333,1304367,1304438,1304477,1304556,1304590,1304722,1304762,1305457,1305491,1305692,1305731,1305974,1306008,1306009,1306043,1306044,1306078,1306079,1306115,1306116,1306150,1306151,1306185,1306186,1306220,1306221,1306255,1306256,1306290,1306301,1306338,1306381,1306415],\"y\":[200,200,201,201,202,202,203,203,204,204,205,205,206,206,207,207,208,208,209,209,210,210,211,211,212,212,213,213,214,214,215,215,216,216,217,217,218,218,219,219,220,220,221,221,222,222,223,223,224,224,225,225,226,226,227,227,228,228,229,229,230,230,231,231,232,232,233,233,234,234,235,235,236,236,237,237,238,238,239,239],\"type\":\"scatter\"},{\"line\":{\"color\":\"#FECB52\"},\"mode\":\"lines\",\"name\":\"rex-44\",\"showlegend\":true,\"x\":[1320290,1320324,1320373,1320407,1320554,1320594,1320922,1320956,1321180,1321214,1321239,1321273,1321380,1321414,1321432,1321467,1321524,1321560,1321597,1321637,1321727,1321767,1321804,1321841,1321870,1321909,1322201,1322235,1322248,1322288,1322324,1322358,1322373,1322413,1322446,1322484,1322918,1322958,1323071,1323105,1323115,1323154,1323197,1323237,1323278,1323315,1323425,1323460,1323472,1323512,1323747,1323787,1324288,1324327,1324397,1324431,1324509,1324543,1324586,1324620,1324915,1324950,1324987,1325021,1325130,1325164,1325262,1325296,1325335,1325369,1325439,1325474,1325483,1325523,1325629,1325664,1325765,1325805,1326094,1326128],\"y\":[240,240,241,241,242,242,243,243,244,244,245,245,246,246,247,247,248,248,249,249,250,250,251,251,252,252,253,253,254,254,255,255,256,256,257,257,258,258,259,259,260,260,261,261,262,262,263,263,264,264,265,265,266,266,267,267,268,268,269,269,270,270,271,271,272,272,273,273,274,274,275,275,276,276,277,277,278,278,279,279],\"type\":\"scatter\"},{\"line\":{\"color\":\"#636EFA\"},\"mode\":\"lines\",\"name\":\"nDCC-3\",\"showlegend\":true,\"x\":[1336168,1336206,1336526,1336560,1336591,1336631,1336734,1336774,1336845,1336879,1337051,1337090,1337092,1337132,1337133,1337167,1337168,1337202,1337212,1337252,1337253,1337293,1337314,1337353,1337414,1337453,1337527,1337567,1337606,1337646,1337784,1337818,1338144,1338184,1338185,1338220,1338563,1338603,1338736,1338776,1338777,1338816,1338817,1338857,1339057,1339094,1339123,1339163,1339185,1339225,1339578,1339618,1339624,1339664,1339665,1339699,1339700,1339734,1339737,1339774,1339775,1339809,1339825,1339859,1339868,1339902,1339903,1339941,1339942,1339976,1339983,1340023,1340044,1340078,1340079,1340113,1340114,1340148,1340392,1340428],\"y\":[280,280,281,281,282,282,283,283,284,284,285,285,286,286,287,287,288,288,289,289,290,290,291,291,292,292,293,293,294,294,295,295,296,296,297,297,298,298,299,299,300,300,301,301,302,302,303,303,304,304,305,305,306,306,307,307,308,308,309,309,310,310,311,311,312,312,313,313,314,314,315,315,316,316,317,317,318,318,319,319],\"type\":\"scatter\"},{\"line\":{\"color\":\"#EF553B\"},\"mode\":\"lines\",\"name\":\"rex-45\",\"showlegend\":true,\"x\":[1343604,1343644,1343719,1343759,1343847,1343885,1343921,1343955,1343983,1344017,1344066,1344106,1344107,1344143,1344301,1344335,1344375,1344409,1344531,1344571,1344608,1344645,1344721,1344757,1344866,1344906,1344907,1344941,1344991,1345026,1345027,1345064,1345100,1345138,1345225,1345265,1345269,1345309,1345331,1345365,1345404,1345439,1345471,1345511,1345726,1345763,1345802,1345842,1345888,1345922,1345927,1345967,1346078,1346118,1346126,1346166,1346175,1346213,1346529,1346569,1346711,1346747,1346887,1346922,1346923,1346963,1347138,1347178,1347184,1347218,1347392,1347429,1347494,1347534,1347668,1347708,1347745,1347785,1347989,1348029],\"y\":[320,320,321,321,322,322,323,323,324,324,325,325,326,326,327,327,328,328,329,329,330,330,331,331,332,332,333,333,334,334,335,335,336,336,337,337,338,338,339,339,340,340,341,341,342,342,343,343,344,344,345,345,346,346,347,347,348,348,349,349,350,350,351,351,352,352,353,353,354,354,355,355,356,356,357,357,358,358,359,359],\"type\":\"scatter\"},{\"line\":{\"color\":\"#00CC96\"},\"mode\":\"lines\",\"name\":\"rex-18\",\"showlegend\":true,\"x\":[1377461,1377501,1377502,1377538,1378589,1378629,1378801,1378840,1379557,1379593,1379663,1379697,1379718,1379752,1380301,1380341,1380408,1380447,1380494,1380534,1380535,1380569,1380857,1380897,1380898,1380937,1380938,1380972,1381012,1381052,1381362,1381402,1381403,1381437,1381438,1381472,1381524,1381558,1381846,1381886,1382008,1382048,1382467,1382507,1382595,1382629,1382635,1382675,1383373,1383412,1383433,1383473,1383489,1383529,1383530,1383564,1383589,1383629,1383630,1383664,1383762,1383796,1383797,1383831,1383847,1383881,1383882,1383916,1383917,1383951,1384253,1384288,1384402,1384436,1384438,1384472,1384526,1384566,1384601,1384641],\"y\":[360,360,361,361,362,362,363,363,364,364,365,365,366,366,367,367,368,368,369,369,370,370,371,371,372,372,373,373,374,374,375,375,376,376,377,377,378,378,379,379,380,380,381,381,382,382,383,383,384,384,385,385,386,386,387,387,388,388,389,389,390,390,391,391,392,392,393,393,394,394,395,395,396,396,397,397,398,398,399,399],\"type\":\"scatter\"},{\"line\":{\"color\":\"#AB63FA\"},\"mode\":\"lines\",\"name\":\"P-rex-6\\u002fnDCC-4\",\"showlegend\":true,\"x\":[1385762,1385800,1385867,1385907,1387144,1387184,1387187,1387221,1387311,1387349,1387350,1387385,1387389,1387429,1387430,1387464,1387465,1387502,1387504,1387538,1387767,1387806,1387843,1387882,1387883,1387917,1387918,1387958,1387959,1387993,1388017,1388057,1388060,1388094,1388137,1388176,1388215,1388254,1388255,1388294,1388313,1388353,1388598,1388637,1388771,1388811,1388812,1388850,1388934,1388973,1389102,1389142,1389258,1389298,1389302,1389336,1389450,1389490,1389537,1389577,1389662,1389702,1390070,1390110,1390177,1390217,1390240,1390280,1390284,1390324,1390547,1390584,1390592,1390626,1390749,1390783,1390784,1390819,1390844,1390884],\"y\":[400,400,401,401,402,402,403,403,404,404,405,405,406,406,407,407,408,408,409,409,410,410,411,411,412,412,413,413,414,414,415,415,416,416,417,417,418,418,419,419,420,420,421,421,422,422,423,423,424,424,425,425,426,426,427,427,428,428,429,429,430,430,431,431,432,432,433,433,434,434,435,435,436,436,437,437,438,438,439,439],\"type\":\"scatter\"},{\"line\":{\"color\":\"#FFA15A\"},\"mode\":\"lines\",\"name\":\"nDCC-5\\u002fnDCC-6\",\"showlegend\":true,\"x\":[1436623,1436662,1436942,1436982,1437059,1437099,1437170,1437209,1437210,1437245,1437246,1437280,1437330,1437370,1437838,1437878,1437903,1437943,1437986,1438022,1438080,1438114,1438774,1438808,1439011,1439046,1439047,1439085,1439099,1439139,1439212,1439246,1439429,1439464,1439490,1439530,1439540,1439574,1439604,1439638,1439658,1439698,1439723,1439763,1439764,1439798,1439811,1439851,1439855,1439895,1440136,1440170,1440178,1440212,1440213,1440247,1440248,1440282,1440618,1440652,1440654,1440688,1440690,1440724,1440726,1440760,1440761,1440795,1440796,1440830,1440831,1440865,1440901,1440935,1440942,1440976,1441058,1441092,1441099,1441133],\"y\":[440,440,441,441,442,442,443,443,444,444,445,445,446,446,447,447,448,448,449,449,450,450,451,451,452,452,453,453,454,454,455,455,456,456,457,457,458,458,459,459,460,460,461,461,462,462,463,463,464,464,465,465,466,466,467,467,468,468,469,469,470,470,471,471,472,472,473,473,474,474,475,475,476,476,477,477,478,478,479,479],\"type\":\"scatter\"},{\"line\":{\"color\":\"#19D3F3\"},\"mode\":\"lines\",\"name\":\"rex-19\",\"showlegend\":true,\"x\":[1489726,1489766,1489802,1489836,1490180,1490214,1490254,1490293,1490294,1490333,1490356,1490396,1490409,1490448,1490512,1490552,1491198,1491238,1491530,1491570,1491694,1491728,1491861,1491901,1491902,1491936,1492017,1492057,1492066,1492106,1492140,1492177,1492253,1492287,1492312,1492352,1492362,1492401,1492406,1492446,1492450,1492490,1492491,1492525,1492526,1492566,1492575,1492615,1493251,1493290,1493295,1493335,1493906,1493942,1493943,1493977,1494244,1494284,1494285,1494321,1494366,1494406,1494440,1494474,1494562,1494602,1494615,1494655,1494656,1494693,1494694,1494728,1494807,1494847,1495118,1495158,1495247,1495285,1495305,1495340],\"y\":[480,480,481,481,482,482,483,483,484,484,485,485,486,486,487,487,488,488,489,489,490,490,491,491,492,492,493,493,494,494,495,495,496,496,497,497,498,498,499,499,500,500,501,501,502,502,503,503,504,504,505,505,506,506,507,507,508,508,509,509,510,510,511,511,512,512,513,513,514,514,515,515,516,516,517,517,518,518,519,519],\"type\":\"scatter\"},{\"line\":{\"color\":\"#FF6692\"},\"mode\":\"lines\",\"name\":\"P-rex-7\",\"showlegend\":true,\"x\":[1623376,1623416,1624888,1624927,1624929,1624969,1625036,1625076,1625077,1625111,1625172,1625208,1625268,1625308,1626402,1626442,1626443,1626477,1626488,1626527,1626818,1626853,1626991,1627031,1627086,1627120,1627121,1627155,1628068,1628108,1628741,1628781,1628794,1628828,1628829,1628863,1628864,1628901,1628902,1628937,1628938,1628978,1628979,1629013,1629015,1629055,1629065,1629105,1629106,1629140,1629141,1629181,1629182,1629219,1629220,1629258,1629259,1629298,1629299,1629339,1629352,1629392,1629410,1629450,1629532,1629566,1629942,1629976,1630042,1630076,1630142,1630179,1630371,1630411,1630412,1630449,1630477,1630517,1630595,1630630],\"y\":[520,520,521,521,522,522,523,523,524,524,525,525,526,526,527,527,528,528,529,529,530,530,531,531,532,532,533,533,534,534,535,535,536,536,537,537,538,538,539,539,540,540,541,541,542,542,543,543,544,544,545,545,546,546,547,547,548,548,549,549,550,550,551,551,552,552,553,553,554,554,555,555,556,556,557,557,558,558,559,559],\"type\":\"scatter\"},{\"line\":{\"color\":\"#B6E880\"},\"mode\":\"lines\",\"name\":\"rex-20\",\"showlegend\":true,\"x\":[1679797,1679832,1680690,1680730,1681940,1681974,1682016,1682055,1682056,1682092,1682144,1682181,1682739,1682773,1683134,1683174,1683210,1683244,1683246,1683286,1683404,1683444,1683445,1683479,1683515,1683549,1683628,1683662,1683697,1683737,1683808,1683848,1683888,1683927,1683928,1683968,1683969,1684003,1684004,1684038,1684039,1684077,1684118,1684152,1684242,1684282,1684283,1684320,1684335,1684369,1684370,1684404,1684486,1684520,1684605,1684639,1684698,1684738,1684739,1684779,1684815,1684849,1684974,1685014,1685017,1685051,1685131,1685171,1685212,1685246,1685436,1685475,1685490,1685529,1685568,1685602,1685603,1685637,1685638,1685672],\"y\":[560,560,561,561,562,562,563,563,564,564,565,565,566,566,567,567,568,568,569,569,570,570,571,571,572,572,573,573,574,574,575,575,576,576,577,577,578,578,579,579,580,580,581,581,582,582,583,583,584,584,585,585,586,586,587,587,588,588,589,589,590,590,591,591,592,592,593,593,594,594,595,595,596,596,597,597,598,598,599,599],\"type\":\"scatter\"},{\"line\":{\"color\":\"#FF97FF\"},\"mode\":\"lines\",\"name\":\"nDCC-7\",\"showlegend\":true,\"x\":[1855501,1855541,1855586,1855626,1855720,1855754,1855833,1855867,1855944,1855980,1855998,1856038,1856087,1856127,1856128,1856162,1856308,1856342,1856345,1856380,1856441,1856480,1856481,1856517,1856518,1856552,1856585,1856624,1856788,1856828,1856922,1856962,1857484,1857524,1857884,1857924,1857938,1857978,1857979,1858013,1858014,1858049,1858050,1858090,1858091,1858125,1858128,1858164,1858165,1858203,1858255,1858295,1858558,1858598,1858638,1858672,1858676,1858714,1858757,1858792,1858933,1858973,1858974,1859008,1859350,1859390,1859943,1859983,1859984,1860020,1860035,1860075,1860076,1860112,1860712,1860752,1860753,1860793,1861870,1861908],\"y\":[600,600,601,601,602,602,603,603,604,604,605,605,606,606,607,607,608,608,609,609,610,610,611,611,612,612,613,613,614,614,615,615,616,616,617,617,618,618,619,619,620,620,621,621,622,622,623,623,624,624,625,625,626,626,627,627,628,628,629,629,630,630,631,631,632,632,633,633,634,634,635,635,636,636,637,637,638,638,639,639],\"type\":\"scatter\"},{\"line\":{\"color\":\"#FECB52\"},\"mode\":\"lines\",\"name\":\"nDCC-8\",\"showlegend\":true,\"x\":[1875909,1875949,1876248,1876288,1876363,1876402,1876462,1876502,1876504,1876544,1876555,1876595,1876719,1876759,1876771,1876811,1876816,1876855,1876891,1876931,1876964,1876998,1877164,1877204,1877248,1877288,1877645,1877685,1877759,1877799,1877919,1877959,1878064,1878104,1878140,1878180,1878227,1878267,1878339,1878379,1878447,1878487,1878565,1878603,1879438,1879478,1879501,1879541,1879593,1879633,1879643,1879683,1879835,1879875,1880005,1880045,1880046,1880080,1880102,1880136,1880268,1880308,1880384,1880424,1880510,1880550,1880551,1880585,1880642,1880682,1880875,1880909,1881077,1881115,1881755,1881795,1882282,1882316],\"y\":[640,640,641,641,642,642,643,643,644,644,645,645,646,646,647,647,648,648,649,649,650,650,651,651,652,652,653,653,654,654,655,655,656,656,657,657,658,658,659,659,660,660,661,661,662,662,663,663,664,664,665,665,666,666,667,667,668,668,669,669,670,670,671,671,672,672,673,673,674,674,675,675,676,676,677,677,678,678],\"type\":\"scatter\"},{\"line\":{\"color\":\"#636EFA\"},\"mode\":\"lines\",\"name\":\"rex-21\",\"showlegend\":true,\"x\":[1888404,1888442,1888559,1888598,1888606,1888640,1888676,1888711,1888735,1888775,1888811,1888845,1888908,1888948,1888963,1889003,1889113,1889153,1890150,1890189,1890190,1890225,1890226,1890260,1890287,1890321,1890330,1890364,1890375,1890415,1890429,1890469,1890470,1890504,1890585,1890625,1890663,1890703,1890741,1890781,1890795,1890835,1890962,1891002,1891048,1891088,1891111,1891151,1891342,1891382,1891418,1891452,1891504,1891538,1891556,1891596,1891681,1891721,1891773,1891813,1891992,1892026,1892044,1892078,1892194,1892234,1892235,1892271,1892846,1892880,1892926,1892966,1892967,1893001,1893164,1893204,1893240,1893274,1893275,1893309],\"y\":[679,679,680,680,681,681,682,682,683,683,684,684,685,685,686,686,687,687,688,688,689,689,690,690,691,691,692,692,693,693,694,694,695,695,696,696,697,697,698,698,699,699,700,700,701,701,702,702,703,703,704,704,705,705,706,706,707,707,708,708,709,709,710,710,711,711,712,712,713,713,714,714,715,715,716,716,717,717,718,718],\"type\":\"scatter\"},{\"line\":{\"color\":\"#EF553B\"},\"mode\":\"lines\",\"name\":\"rex-2\\u002fnDCC-9\",\"showlegend\":true,\"x\":[1906331,1906370,1906406,1906442,1906452,1906487,1907163,1907201,1907229,1907269,1907298,1907334,1908158,1908198,1908290,1908330,1908471,1908511,1908599,1908639,1908653,1908693,1908887,1908925,1908927,1908967,1909003,1909040,1909042,1909082,1909083,1909120,1909493,1909533,1909574,1909608,1909739,1909779,1910289,1910325,1910972,1911012,1911058,1911098,1911142,1911180,1911241,1911276,1911425,1911465,1911539,1911573,1911574,1911612,1911613,1911647,1911648,1911682,1911776,1911816,1911852,1911889,1911890,1911924,1911925,1911959,1911960,1911994,1911995,1912029,1912078,1912117,1912124,1912164,1912167,1912207,1912208,1912242,1912245,1912279],\"y\":[719,719,720,720,721,721,722,722,723,723,724,724,725,725,726,726,727,727,728,728,729,729,730,730,731,731,732,732,733,733,734,734,735,735,736,736,737,737,738,738,739,739,740,740,741,741,742,742,743,743,744,744,745,745,746,746,747,747,748,748,749,749,750,750,751,751,752,752,753,753,754,754,755,755,756,756,757,757,758,758],\"type\":\"scatter\"},{\"line\":{\"color\":\"#00CC96\"},\"mode\":\"lines\",\"name\":\"nDCC-10\",\"showlegend\":true,\"x\":[2361908,2361948,2361984,2362024,2362082,2362122,2362213,2362253,2362293,2362327,2362518,2362558,2362593,2362633,2362739,2362779,2362800,2362840,2362922,2362959,2363174,2363208,2363284,2363324,2363518,2363558,2363836,2363876,2363947,2363987,2364036,2364076,2364089,2364129,2364130,2364165,2364166,2364200,2364218,2364255,2364291,2364325,2364416,2364456,2364469,2364509,2364510,2364544,2364555,2364589,2364592,2364631,2364665,2364702,2364866,2364906,2365473,2365513,2365723,2365760,2365862,2365896,2366018,2366056,2366091,2366131,2366217,2366256,2366302,2366342,2366345,2366382,2367234,2367274,2367289,2367327,2367370,2367404,2367443,2367483],\"y\":[759,759,760,760,761,761,762,762,763,763,764,764,765,765,766,766,767,767,768,768,769,769,770,770,771,771,772,772,773,773,774,774,775,775,776,776,777,777,778,778,779,779,780,780,781,781,782,782,783,783,784,784,785,785,786,786,787,787,788,788,789,789,790,790,791,791,792,792,793,793,794,794,795,795,796,796,797,797,798,798],\"type\":\"scatter\"},{\"line\":{\"color\":\"#AB63FA\"},\"mode\":\"lines\",\"name\":\"nDCC-11\",\"showlegend\":true,\"x\":[2610967,2611004,2611005,2611043,2611108,2611148,2611149,2611188,2611338,2611377,2611398,2611438,2611439,2611473,2611515,2611549,2612315,2612355,2612434,2612473,2612608,2612648,2612687,2612722,2612762,2612802,2612884,2612924,2613081,2613121,2613122,2613156,2613191,2613231,2613377,2613417,2613419,2613459,2613538,2613578,2613579,2613619,2613621,2613661,2613778,2613812,2614173,2614212,2614299,2614339,2614340,2614379,2614415,2614450,2614499,2614538,2614645,2614679,2614764,2614804,2614824,2614864,2615433,2615473,2615474,2615513,2615514,2615548,2615556,2615594,2615595,2615630,2615631,2615671,2615672,2615706,2615839,2615874,2615921,2615961],\"y\":[799,799,800,800,801,801,802,802,803,803,804,804,805,805,806,806,807,807,808,808,809,809,810,810,811,811,812,812,813,813,814,814,815,815,816,816,817,817,818,818,819,819,820,820,821,821,822,822,823,823,824,824,825,825,826,826,827,827,828,828,829,829,830,830,831,831,832,832,833,833,834,834,835,835,836,836,837,837,838,838],\"type\":\"scatter\"},{\"line\":{\"color\":\"#FFA15A\"},\"mode\":\"lines\",\"name\":\"P-rex-11\",\"showlegend\":true,\"x\":[2806955,2806995,2807005,2807041,2807104,2807144,2807145,2807183,2807304,2807344,2807396,2807436,2807474,2807508,2807552,2807592,2807628,2807663,2807963,2808003,2808004,2808040,2808186,2808226,2808227,2808261,2808359,2808399,2808400,2808436,2808485,2808524,2808571,2808606,2808707,2808747,2808784,2808818,2808822,2808862,2809058,2809092,2809662,2809701,2809747,2809785,2809793,2809827,2809839,2809873,2810151,2810191,2810201,2810241,2810242,2810281,2810546,2810586,2810590,2810630,2810830,2810870,2811540,2811580,2811599,2811633,2811669,2811706,2811723,2811763,2811879,2811918,2811934,2811974,2812168,2812208,2812245,2812285,2812656,2812690],\"y\":[839,839,840,840,841,841,842,842,843,843,844,844,845,845,846,846,847,847,848,848,849,849,850,850,851,851,852,852,853,853,854,854,855,855,856,856,857,857,858,858,859,859,860,860,861,861,862,862,863,863,864,864,865,865,866,866,867,867,868,868,869,869,870,870,871,871,872,872,873,873,874,874,875,875,876,876,877,877,878,878],\"type\":\"scatter\"},{\"line\":{\"color\":\"#19D3F3\"},\"mode\":\"lines\",\"name\":\"rex-32\",\"showlegend\":true,\"x\":[2995688,2995727,2995728,2995762,2995965,2996005,2996161,2996201,2996443,2996483,2996548,2996588,2996598,2996638,2997031,2997071,2997086,2997126,2997222,2997262,2997474,2997513,2997605,2997644,2997974,2998014,2998308,2998348,2998369,2998405,2998447,2998483,2998485,2998525,2998526,2998566,2998584,2998624,2998654,2998694,2998733,2998773,2998774,2998808,2998809,2998849,2999115,2999155,2999156,2999190,2999280,2999320,2999350,2999385,2999499,2999539,2999580,2999620,2999621,2999655,2999671,2999708,2999709,2999745,2999908,2999946,2999989,3000029,3000276,3000316,3000430,3000470,3000543,3000583,3000677,3000716,3000717,3000751,3000905,3000945],\"y\":[879,879,880,880,881,881,882,882,883,883,884,884,885,885,886,886,887,887,888,888,889,889,890,890,891,891,892,892,893,893,894,894,895,895,896,896,897,897,898,898,899,899,900,900,901,901,902,902,903,903,904,904,905,905,906,906,907,907,908,908,909,909,910,910,911,911,912,912,913,913,914,914,915,915,916,916,917,917,918,918],\"type\":\"scatter\"},{\"line\":{\"color\":\"#FF6692\"},\"mode\":\"lines\",\"name\":\"rex-23\",\"showlegend\":true,\"x\":[4206311,4206345,4206395,4206429,4207839,4207879,4208151,4208191,4208192,4208226,4208241,4208281,4208282,4208317,4208396,4208436,4208659,4208699,4208707,4208747,4208748,4208782,4208966,4209001,4209208,4209248,4209293,4209329,4209331,4209371,4209772,4209812,4209816,4209856,4209939,4209979,4210059,4210093,4210132,4210166,4210406,4210442,4210446,4210486,4210639,4210679,4210826,4210865,4210941,4210981,4211090,4211130,4211131,4211165,4211354,4211392,4211393,4211427,4211533,4211573,4211659,4211699,4211717,4211757,4211828,4211865,4211867,4211907,4211908,4211942,4212010,4212047,4212048,4212082,4212155,4212189,4212190,4212225,4212226,4212260],\"y\":[919,919,920,920,921,921,922,922,923,923,924,924,925,925,926,926,927,927,928,928,929,929,930,930,931,931,932,932,933,933,934,934,935,935,936,936,937,937,938,938,939,939,940,940,941,941,942,942,943,943,944,944,945,945,946,946,947,947,948,948,949,949,950,950,951,951,952,952,953,953,954,954,955,955,956,956,957,957,958,958],\"type\":\"scatter\"},{\"line\":{\"color\":\"#B6E880\"},\"mode\":\"lines\",\"name\":\"rex-1\",\"showlegend\":true,\"x\":[4391878,4391912,4391956,4391990,4392006,4392040,4392242,4392282,4392352,4392392,4392393,4392433,4392518,4392558,4392845,4392885,4392886,4392924,4392925,4392959,4393075,4393113,4393150,4393186,4393187,4393221,4393390,4393430,4393456,4393490,4393523,4393563,4394039,4394079,4394127,4394167,4394304,4394342,4394451,4394491,4394759,4394794,4395540,4395580,4395581,4395615,4395621,4395655,4395661,4395695,4396298,4396335,4397105,4397140,4397141,4397175,4397233,4397273,4397330,4397370,4397571,4397611,4397618,4397658,4397659,4397696,4397705,4397745,4397812,4397846,4397855,4397890,4398051,4398085,4398359,4398399,4399094,4399133,4399322,4399362],\"y\":[959,959,960,960,961,961,962,962,963,963,964,964,965,965,966,966,967,967,968,968,969,969,970,970,971,971,972,972,973,973,974,974,975,975,976,976,977,977,978,978,979,979,980,980,981,981,982,982,983,983,984,984,985,985,986,986,987,987,988,988,989,989,990,990,991,991,992,992,993,993,994,994,995,995,996,996,997,997,998,998],\"type\":\"scatter\"},{\"line\":{\"color\":\"#FF97FF\"},\"mode\":\"lines\",\"name\":\"rex-34\",\"showlegend\":true,\"x\":[5426567,5426606,5426664,5426704,5426889,5426928,5427037,5427071,5427210,5427250,5427658,5427694,5427799,5427839,5427938,5427978,5428018,5428052,5428253,5428291,5428422,5428462,5428584,5428624,5428794,5428834,5428889,5428925,5429142,5429178,5429255,5429291,5429541,5429575,5429651,5429685,5429748,5429782,5429888,5429928,5429968,5430002,5430074,5430114,5430162,5430202,5430394,5430432,5430473,5430508,5430592,5430632,5430746,5430783,5430880,5430920,5430991,5431029,5431124,5431164,5431311,5431347,5431396,5431436,5431605,5431645,5431760,5431800,5431891,5431931,5432156,5432196,5432238,5432278,5432321,5432358,5432404,5432444,5432483,5432523],\"y\":[999,999,1000,1000,1001,1001,1002,1002,1003,1003,1004,1004,1005,1005,1006,1006,1007,1007,1008,1008,1009,1009,1010,1010,1011,1011,1012,1012,1013,1013,1014,1014,1015,1015,1016,1016,1017,1017,1018,1018,1019,1019,1020,1020,1021,1021,1022,1022,1023,1023,1024,1024,1025,1025,1026,1026,1027,1027,1028,1028,1029,1029,1030,1030,1031,1031,1032,1032,1033,1033,1034,1034,1035,1035,1036,1036,1037,1037,1038,1038],\"type\":\"scatter\"},{\"line\":{\"color\":\"#FECB52\"},\"mode\":\"lines\",\"name\":\"rex-38\",\"showlegend\":true,\"x\":[5857015,5857055,5857092,5857132,5857168,5857202,5857238,5857278,5857330,5857366,5857372,5857409,5857445,5857479,5857525,5857559,5857632,5857671,5858452,5858492,5858620,5858656,5858663,5858700,5858841,5858875,5858887,5858926,5858963,5859001,5859100,5859134,5859269,5859303,5859411,5859451,5859547,5859581,5859652,5859691,5859737,5859777,5859816,5859856,5859896,5859930,5859966,5860000,5860111,5860151,5860309,5860343,5860414,5860448,5860535,5860575,5861172,5861211,5861212,5861247,5861294,5861328,5861414,5861453,5861653,5861692,5861743,5861781,5861782,5861821,5862358,5862398,5862403,5862443,5862444,5862483,5862794,5862828,5862880,5862916],\"y\":[1039,1039,1040,1040,1041,1041,1042,1042,1043,1043,1044,1044,1045,1045,1046,1046,1047,1047,1048,1048,1049,1049,1050,1050,1051,1051,1052,1052,1053,1053,1054,1054,1055,1055,1056,1056,1057,1057,1058,1058,1059,1059,1060,1060,1061,1061,1062,1062,1063,1063,1064,1064,1065,1065,1066,1066,1067,1067,1068,1068,1069,1069,1070,1070,1071,1071,1072,1072,1073,1073,1074,1074,1075,1075,1076,1076,1077,1077,1078,1078],\"type\":\"scatter\"},{\"line\":{\"color\":\"grey\"},\"mode\":\"lines\",\"name\":\"chrIV_fiducial3\",\"showlegend\":false,\"x\":[6000029,6000063,6000178,6000217,6000242,6000282,6000283,6000321,6000393,6000427,6000577,6000617,6000618,6000652,6000688,6000726,6000727,6000763,6000779,6000819,6000872,6000912,6000913,6000948,6000950,6000990,6001001,6001041,6001058,6001097,6001272,6001306,6001348,6001382,6001418,6001455,6001528,6001568,6001569,6001603,6001604,6001643,6001645,6001679,6001680,6001714,6001715,6001749,6001832,6001869,6001870,6001904,6002004,6002044,6002045,6002079,6002096,6002136,6002172,6002206,6002207,6002241,6002274,6002308,6002367,6002401,6002402,6002439,6002446,6002484,6002485,6002524,6002536,6002576,6002579,6002619],\"y\":[3032,3032,3033,3033,3034,3034,3035,3035,3036,3036,3037,3037,3038,3038,3039,3039,3040,3040,3041,3041,3042,3042,3043,3043,3044,3044,3045,3045,3046,3046,3047,3047,3048,3048,3049,3049,3050,3050,3051,3051,3052,3052,3053,3053,3054,3054,3055,3055,3056,3056,3057,3057,3058,3058,3059,3059,3060,3060,3061,3061,3062,3062,3063,3063,3064,3064,3065,3065,3066,3066,3067,3067,3068,3068,3069,3069],\"type\":\"scatter\"},{\"line\":{\"color\":\"grey\"},\"mode\":\"lines\",\"name\":\"chrIII_fiducial3\",\"showlegend\":false,\"x\":[6000538,6000573,6000711,6000751,6001401,6001441,6001599,6001634,6001648,6001688,6001776,6001816,6001956,6001996,6001997,6002032,6002180,6002214,6002467,6002506,6002536,6002576,6002730,6002770,6002771,6002805,6002841,6002875,6002876,6002915,6003028,6003068,6003146,6003186,6003187,6003222,6003223,6003261,6003262,6003301,6003302,6003336,6003425,6003461,6003474,6003512,6003524,6003564,6003605,6003645,6003646,6003680,6003759,6003797,6003808,6003848,6003849,6003883,6003907,6003945,6003946,6003982,6004018,6004052,6004055,6004095,6004096,6004130,6004192,6004226,6004227,6004261,6004583,6004622,6004623,6004658,6004672,6004706,6004726,6004766,6004803,6004843],\"y\":[3193,3193,3194,3194,3195,3195,3196,3196,3197,3197,3198,3198,3199,3199,3200,3200,3201,3201,3202,3202,3203,3203,3204,3204,3205,3205,3206,3206,3207,3207,3208,3208,3209,3209,3210,3210,3211,3211,3212,3212,3213,3213,3214,3214,3215,3215,3216,3216,3217,3217,3218,3218,3219,3219,3220,3220,3221,3221,3222,3222,3223,3223,3224,3224,3225,3225,3226,3226,3227,3227,3228,3228,3229,3229,3230,3230,3231,3231,3232,3232,3233,3233],\"type\":\"scatter\"},{\"line\":{\"color\":\"#00CC96\"},\"mode\":\"lines\",\"name\":\"rex-33\",\"showlegend\":true,\"x\":[6294272,6294312,6294314,6294354,6294366,6294406,6294419,6294459,6294525,6294560,6294580,6294620,6294638,6294678,6294680,6294720,6294761,6294800,6294945,6294984,6295209,6295249,6295302,6295342,6295343,6295383,6295435,6295475,6295498,6295538,6295681,6295721,6295722,6295756,6295799,6295833,6295850,6295884,6296090,6296130,6296131,6296167,6296168,6296206,6296386,6296424,6296514,6296548,6296589,6296623,6296641,6296681,6297097,6297137,6297586,6297626,6297627,6297661,6297664,6297704,6297789,6297829,6297830,6297870,6297871,6297908,6298030,6298070,6298186,6298226,6298334,6298374,6298392,6298428,6298557,6298597,6298607,6298647,6299357,6299396],\"y\":[1079,1079,1080,1080,1081,1081,1082,1082,1083,1083,1084,1084,1085,1085,1086,1086,1087,1087,1088,1088,1089,1089,1090,1090,1091,1091,1092,1092,1093,1093,1094,1094,1095,1095,1096,1096,1097,1097,1098,1098,1099,1099,1100,1100,1101,1101,1102,1102,1103,1103,1104,1104,1105,1105,1106,1106,1107,1107,1108,1108,1109,1109,1110,1110,1111,1111,1112,1112,1113,1113,1114,1114,1115,1115,1116,1116,1117,1117,1118,1118],\"type\":\"scatter\"},{\"line\":{\"color\":\"#AB63FA\"},\"mode\":\"lines\",\"name\":\"rex-24\",\"showlegend\":true,\"x\":[7178325,7178359,7178601,7178641,7178650,7178689,7178700,7178735,7178736,7178774,7178775,7178815,7178873,7178907,7178910,7178946,7178968,7179003,7179009,7179048,7179049,7179084,7179617,7179657,7179658,7179692,7179698,7179738,7180625,7180664,7181038,7181072,7181154,7181194,7181707,7181747,7181750,7181790,7181794,7181834,7181835,7181869,7182111,7182151,7182650,7182684,7182752,7182792,7182901,7182935,7182969,7183009,7183016,7183056,7183071,7183111,7183112,7183151,7183274,7183314,7183872,7183912,7183942,7183982,7184084,7184124,7184408,7184448,7184456,7184496,7184501,7184541,7184573,7184613,7184652,7184691,7184727,7184767,7185142,7185181],\"y\":[1119,1119,1120,1120,1121,1121,1122,1122,1123,1123,1124,1124,1125,1125,1126,1126,1127,1127,1128,1128,1129,1129,1130,1130,1131,1131,1132,1132,1133,1133,1134,1134,1135,1135,1136,1136,1137,1137,1138,1138,1139,1139,1140,1140,1141,1141,1142,1142,1143,1143,1144,1144,1145,1145,1146,1146,1147,1147,1148,1148,1149,1149,1150,1150,1151,1151,1152,1152,1153,1153,1154,1154,1155,1155,1156,1156,1157,1157,1158,1158],\"type\":\"scatter\"},{\"line\":{\"color\":\"#FFA15A\"},\"mode\":\"lines\",\"name\":\"P-rex-14\",\"showlegend\":true,\"x\":[7331926,7331966,7331970,7332010,7332413,7332453,7332762,7332802,7332879,7332919,7332973,7333010,7333057,7333091,7333240,7333280,7333434,7333474,7333517,7333551,7333724,7333763,7333882,7333922,7334119,7334159,7334328,7334368,7334474,7334509,7334572,7334606,7334652,7334692,7334784,7334824,7334902,7334942,7334986,7335026,7335027,7335062,7335101,7335141,7335251,7335287,7335299,7335337,7335562,7335598,7335601,7335641,7335657,7335694,7335718,7335758,7335765,7335805,7335826,7335865,7336007,7336047,7336261,7336299,7336415,7336451,7336611,7336650,7336785,7336825,7336970,7337004,7337083,7337117,7337193,7337227,7337315,7337355,7337400,7337434],\"y\":[1159,1159,1160,1160,1161,1161,1162,1162,1163,1163,1164,1164,1165,1165,1166,1166,1167,1167,1168,1168,1169,1169,1170,1170,1171,1171,1172,1172,1173,1173,1174,1174,1175,1175,1176,1176,1177,1177,1178,1178,1179,1179,1180,1180,1181,1181,1182,1182,1183,1183,1184,1184,1185,1185,1186,1186,1187,1187,1188,1188,1189,1189,1190,1190,1191,1191,1192,1192,1193,1193,1194,1194,1195,1195,1196,1196,1197,1197,1198,1198],\"type\":\"scatter\"},{\"line\":{\"color\":\"#19D3F3\"},\"mode\":\"lines\",\"name\":\"P-rex-15\",\"showlegend\":true,\"x\":[8017203,8017243,8017253,8017287,8017299,8017339,8017450,8017484,8017552,8017586,8017853,8017891,8017974,8018008,8018124,8018164,8018647,8018681,8018701,8018740,8018780,8018814,8018909,8018949,8019251,8019285,8019317,8019355,8019861,8019895,8019903,8019942,8020293,8020330,8020381,8020419,8020444,8020484,8020510,8020550,8020710,8020747,8020796,8020833,8020924,8020959,8021122,8021162,8021163,8021199,8021272,8021309,8021362,8021397,8021405,8021445,8021586,8021626,8021662,8021702,8021769,8021805,8021829,8021863,8021883,8021917,8022005,8022045,8022112,8022152,8022580,8022620,8022624,8022664,8022745,8022785,8022786,8022820,8022860,8022894],\"y\":[1199,1199,1200,1200,1201,1201,1202,1202,1203,1203,1204,1204,1205,1205,1206,1206,1207,1207,1208,1208,1209,1209,1210,1210,1211,1211,1212,1212,1213,1213,1214,1214,1215,1215,1216,1216,1217,1217,1218,1218,1219,1219,1220,1220,1221,1221,1222,1222,1223,1223,1224,1224,1225,1225,1226,1226,1227,1227,1228,1228,1229,1229,1230,1230,1231,1231,1232,1232,1233,1233,1234,1234,1235,1235,1236,1236,1237,1237,1238,1238],\"type\":\"scatter\"},{\"line\":{\"color\":\"#FF6692\"},\"mode\":\"lines\",\"name\":\"rex-14\",\"showlegend\":true,\"x\":[8033510,8033550,8033551,8033585,8033603,8033643,8033687,8033725,8033751,8033785,8033786,8033820,8033821,8033856,8033864,8033898,8033899,8033936,8033937,8033972,8033973,8034009,8034061,8034101,8034161,8034201,8034282,8034317,8034380,8034414,8034415,8034452,8034453,8034489,8035353,8035393,8035418,8035457,8035572,8035611,8035612,8035646,8036015,8036055,8036352,8036392,8036753,8036787,8036788,8036822,8037003,8037043,8037188,8037226,8037512,8037546,8037553,8037588,8037804,8037838,8037999,8038039,8038103,8038143,8038172,8038206,8038328,8038368,8038885,8038925,8038927,8038967,8038968,8039002,8039003,8039037,8039050,8039090,8039225,8039265],\"y\":[1239,1239,1240,1240,1241,1241,1242,1242,1243,1243,1244,1244,1245,1245,1246,1246,1247,1247,1248,1248,1249,1249,1250,1250,1251,1251,1252,1252,1253,1253,1254,1254,1255,1255,1256,1256,1257,1257,1258,1258,1259,1259,1260,1260,1261,1261,1262,1262,1263,1263,1264,1264,1265,1265,1266,1266,1267,1267,1268,1268,1269,1269,1270,1270,1271,1271,1272,1272,1273,1273,1274,1274,1275,1275,1276,1276,1277,1277,1278,1278],\"type\":\"scatter\"},{\"line\":{\"color\":\"#B6E880\"},\"mode\":\"lines\",\"name\":\"rex-17\",\"showlegend\":true,\"x\":[8046078,8046117,8046216,8046256,8046276,8046316,8046393,8046427,8046457,8046491,8046636,8046674,8046677,8046716,8046725,8046765,8046794,8046834,8047228,8047268,8047310,8047350,8047364,8047404,8047558,8047598,8047659,8047699,8047703,8047743,8048223,8048263,8048398,8048438,8048919,8048958,8049308,8049347,8049348,8049383,8049776,8049815,8050683,8050723,8050724,8050760,8050811,8050851,8050852,8050886,8050934,8050971,8051003,8051043,8051114,8051149,8051254,8051292,8051293,8051329,8051330,8051366,8051402,8051436,8051437,8051471,8051473,8051507,8051517,8051551,8051552,8051586,8051587,8051622,8051705,8051739,8051740,8051779,8051780,8051816],\"y\":[1279,1279,1280,1280,1281,1281,1282,1282,1283,1283,1284,1284,1285,1285,1286,1286,1287,1287,1288,1288,1289,1289,1290,1290,1291,1291,1292,1292,1293,1293,1294,1294,1295,1295,1296,1296,1297,1297,1298,1298,1299,1299,1300,1300,1301,1301,1302,1302,1303,1303,1304,1304,1305,1305,1306,1306,1307,1307,1308,1308,1309,1309,1310,1310,1311,1311,1312,1312,1313,1313,1314,1314,1315,1315,1316,1316,1317,1317,1318,1318],\"type\":\"scatter\"},{\"line\":{\"color\":\"#FF97FF\"},\"mode\":\"lines\",\"name\":\"rex-25\",\"showlegend\":true,\"x\":[8401631,8401671,8401770,8401810,8401861,8401895,8401955,8401989,8402005,8402045,8402086,8402120,8402303,8402343,8402358,8402398,8403394,8403428,8403477,8403517,8403559,8403599,8403819,8403859,8403911,8403951,8404227,8404267,8404282,8404316,8404356,8404390,8404448,8404488,8404593,8404633,8404716,8404754,8404830,8404870,8404981,8405015,8405095,8405135,8405206,8405246,8405282,8405320,8405404,8405444,8405586,8405626,8405823,8405863,8405871,8405911,8405917,8405957,8406047,8406087,8406134,8406174,8406259,8406297,8406386,8406420,8406483,8406523,8406563,8406603,8406676,8406715,8407114,8407152,8407215,8407255,8407291,8407331,8407352,8407392],\"y\":[1319,1319,1320,1320,1321,1321,1322,1322,1323,1323,1324,1324,1325,1325,1326,1326,1327,1327,1328,1328,1329,1329,1330,1330,1331,1331,1332,1332,1333,1333,1334,1334,1335,1335,1336,1336,1337,1337,1338,1338,1339,1339,1340,1340,1341,1341,1342,1342,1343,1343,1344,1344,1345,1345,1346,1346,1347,1347,1348,1348,1349,1349,1350,1350,1351,1351,1352,1352,1353,1353,1354,1354,1355,1355,1356,1356,1357,1357,1358,1358],\"type\":\"scatter\"},{\"line\":{\"color\":\"#FECB52\"},\"mode\":\"lines\",\"name\":\"P-rex-16\",\"showlegend\":true,\"x\":[8734391,8734431,8734472,8734511,8734512,8734547,8734570,8734610,8734725,8734761,8734796,8734836,8734913,8734953,8735039,8735074,8735199,8735233,8735370,8735410,8735462,8735499,8735535,8735572,8735610,8735650,8735850,8735890,8736059,8736093,8736232,8736266,8736341,8736377,8736413,8736450,8736451,8736486,8736494,8736534,8736535,8736569,8736781,8736816,8737166,8737203,8737204,8737241,8737243,8737283,8737284,8737318,8737360,8737399,8737402,8737442,8737962,8738002,8738230,8738270,8738291,8738325,8738704,8738741,8738775,8738814,8738835,8738871,8738927,8738967,8739354,8739394,8739723,8739760,8739761,8739795,8739937,8739971,8739994,8740028],\"y\":[1359,1359,1360,1360,1361,1361,1362,1362,1363,1363,1364,1364,1365,1365,1366,1366,1367,1367,1368,1368,1369,1369,1370,1370,1371,1371,1372,1372,1373,1373,1374,1374,1375,1375,1376,1376,1377,1377,1378,1378,1379,1379,1380,1380,1381,1381,1382,1382,1383,1383,1384,1384,1385,1385,1386,1386,1387,1387,1388,1388,1389,1389,1390,1390,1391,1391,1392,1392,1393,1393,1394,1394,1395,1395,1396,1396,1397,1397,1398,1398],\"type\":\"scatter\"},{\"line\":{\"color\":\"#636EFA\"},\"mode\":\"lines\",\"name\":\"rex-37\",\"showlegend\":true,\"x\":[8808494,8808534,8808776,8808816,8808818,8808858,8808925,8808959,8809031,8809071,8809077,8809115,8809358,8809398,8809431,8809471,8809711,8809751,8809938,8809978,8810093,8810133,8810182,8810217,8810229,8810263,8810304,8810343,8810379,8810413,8810425,8810461,8810569,8810609,8810648,8810685,8810722,8810758,8810810,8810850,8810886,8810920,8811057,8811091,8811273,8811307,8811336,8811376,8811511,8811547,8811642,8811682,8811978,8812018,8812023,8812063,8812072,8812112,8812130,8812170,8812210,8812249,8812328,8812362,8812673,8812707,8812806,8812845,8812917,8812957,8813039,8813075,8813520,8813555,8813659,8813693,8813793,8813829,8813970,8814007],\"y\":[1399,1399,1400,1400,1401,1401,1402,1402,1403,1403,1404,1404,1405,1405,1406,1406,1407,1407,1408,1408,1409,1409,1410,1410,1411,1411,1412,1412,1413,1413,1414,1414,1415,1415,1416,1416,1417,1417,1418,1418,1419,1419,1420,1420,1421,1421,1422,1422,1423,1423,1424,1424,1425,1425,1426,1426,1427,1427,1428,1428,1429,1429,1430,1430,1431,1431,1432,1432,1433,1433,1434,1434,1435,1435,1436,1436,1437,1437,1438,1438],\"type\":\"scatter\"},{\"line\":{\"color\":\"#EF553B\"},\"mode\":\"lines\",\"name\":\"rex-47\",\"showlegend\":true,\"x\":[9463084,9463124,9464259,9464299,9464300,9464335,9464348,9464388,9464421,9464460,9464629,9464663,9464771,9464811,9464886,9464926,9465007,9465047,9465048,9465082,9465335,9465374,9465589,9465629,9465818,9465854,9466025,9466064,9466065,9466100,9466365,9466405,9466608,9466642,9466756,9466790,9466796,9466830,9466888,9466928,9466929,9466967,9466968,9467003,9467011,9467051,9467238,9467278,9467456,9467491,9467702,9467739,9467826,9467866,9467867,9467902,9467995,9468029,9468033,9468073,9468109,9468149,9468199,9468237,9468242,9468281,9468282,9468319,9468320,9468357,9468358,9468395,9468401,9468441,9468442,9468476,9468601,9468641,9468793,9468833],\"y\":[1439,1439,1440,1440,1441,1441,1442,1442,1443,1443,1444,1444,1445,1445,1446,1446,1447,1447,1448,1448,1449,1449,1450,1450,1451,1451,1452,1452,1453,1453,1454,1454,1455,1455,1456,1456,1457,1457,1458,1458,1459,1459,1460,1460,1461,1461,1462,1462,1463,1463,1464,1464,1465,1465,1466,1466,1467,1467,1468,1468,1469,1469,1470,1470,1471,1471,1472,1472,1473,1473,1474,1474,1475,1475,1476,1476,1477,1477,1478,1478],\"type\":\"scatter\"},{\"line\":{\"color\":\"#00CC96\"},\"mode\":\"lines\",\"name\":\"rex-26\",\"showlegend\":true,\"x\":[10351181,10351220,10351352,10351392,10351430,10351465,10351466,10351501,10351551,10351591,10351627,10351661,10351662,10351700,10351701,10351738,10351796,10351836,10352041,10352076,10352132,10352172,10352173,10352212,10352356,10352396,10352651,10352691,10352704,10352743,10352744,10352778,10352779,10352819,10352820,10352854,10352855,10352889,10352929,10352963,10353005,10353045,10353195,10353235,10353983,10354023,10354024,10354058,10354310,10354350,10354351,10354385,10354439,10354473,10354474,10354512,10354513,10354553,10354563,10354603,10354839,10354879,10355013,10355053,10355675,10355715,10355716,10355750,10355790,10355830,10355839,10355879,10355881,10355915,10355916,10355950,10356028,10356068,10356069,10356103],\"y\":[1479,1479,1480,1480,1481,1481,1482,1482,1483,1483,1484,1484,1485,1485,1486,1486,1487,1487,1488,1488,1489,1489,1490,1490,1491,1491,1492,1492,1493,1493,1494,1494,1495,1495,1496,1496,1497,1497,1498,1498,1499,1499,1500,1500,1501,1501,1502,1502,1503,1503,1504,1504,1505,1505,1506,1506,1507,1507,1508,1508,1509,1509,1510,1510,1511,1511,1512,1512,1513,1513,1514,1514,1515,1515,1516,1516,1517,1517,1518,1518],\"type\":\"scatter\"},{\"line\":{\"color\":\"#AB63FA\"},\"mode\":\"lines\",\"name\":\"rex-27\",\"showlegend\":true,\"x\":[10619860,10619896,10620022,10620062,10620063,10620098,10620160,10620200,10620623,10620662,10622195,10622235,10622498,10622538,10622543,10622583,10622681,10622719,10622720,10622754,10622809,10622849,10622883,10622923,10622929,10622965,10623100,10623139,10623140,10623174,10623175,10623209,10623210,10623244,10623248,10623288,10623329,10623363,10623364,10623402,10623403,10623442,10623443,10623477,10623949,10623989,10623997,10624037,10624296,10624330,10624331,10624365,10624369,10624403,10624486,10624526,10624772,10624812,10624894,10624928,10624965,10625002,10625411,10625450,10625980,10626014,10626015,10626055,10626058,10626098,10626112,10626150,10626599,10626639,10626640,10626674,10626675,10626712,10626724,10626764],\"y\":[1519,1519,1520,1520,1521,1521,1522,1522,1523,1523,1524,1524,1525,1525,1526,1526,1527,1527,1528,1528,1529,1529,1530,1530,1531,1531,1532,1532,1533,1533,1534,1534,1535,1535,1536,1536,1537,1537,1538,1538,1539,1539,1540,1540,1541,1541,1542,1542,1543,1543,1544,1544,1545,1545,1546,1546,1547,1547,1548,1548,1549,1549,1550,1550,1551,1551,1552,1552,1553,1553,1554,1554,1555,1555,1556,1556,1557,1557,1558,1558],\"type\":\"scatter\"},{\"line\":{\"color\":\"#FFA15A\"},\"mode\":\"lines\",\"name\":\"rex-28\",\"showlegend\":true,\"x\":[10665205,10665239,10665381,10665421,10665430,10665467,10665478,10665518,10665524,10665564,10665586,10665620,10665827,10665867,10666190,10666224,10666346,10666385,10666386,10666425,10666482,10666522,10666554,10666594,10666609,10666649,10666753,10666793,10666794,10666834,10666963,10667003,10667082,10667116,10667277,10667317,10667454,10667488,10667562,10667602,10668057,10668091,10668318,10668354,10668453,10668493,10668767,10668807,10668900,10668940,10669193,10669233,10669238,10669277,10669293,10669333,10669355,10669395,10669848,10669888,10669929,10669969,10670069,10670107,10670108,10670142,10670243,10670283,10670317,10670357,10670358,10670392,10670450,10670484,10670569,10670609,10670715,10670753,10670904,10670944],\"y\":[1559,1559,1560,1560,1561,1561,1562,1562,1563,1563,1564,1564,1565,1565,1566,1566,1567,1567,1568,1568,1569,1569,1570,1570,1571,1571,1572,1572,1573,1573,1574,1574,1575,1575,1576,1576,1577,1577,1578,1578,1579,1579,1580,1580,1581,1581,1582,1582,1583,1583,1584,1584,1585,1585,1586,1586,1587,1587,1588,1588,1589,1589,1590,1590,1591,1591,1592,1592,1593,1593,1594,1594,1595,1595,1596,1596,1597,1597,1598,1598],\"type\":\"scatter\"},{\"line\":{\"color\":\"#19D3F3\"},\"mode\":\"lines\",\"name\":\"rex-29\",\"showlegend\":true,\"x\":[10753415,10753449,10753492,10753532,10753694,10753730,10753769,10753808,10754060,10754100,10754136,10754176,10754337,10754377,10754501,10754535,10754685,10754725,10754790,10754827,10755074,10755108,10755161,10755201,10755295,10755329,10755400,10755439,10755558,10755598,10755684,10755724,10755856,10755893,10755970,10756009,10756076,10756116,10756270,10756310,10756352,10756386,10756458,10756498,10756541,10756581,10756655,10756695,10756729,10756769,10757300,10757339,10757356,10757396,10757433,10757473,10757683,10757720,10757758,10757795,10757911,10757951,10758091,10758131,10758240,10758280,10758398,10758436,10758542,10758582,10758650,10758690,10758720,10758760,10758840,10758880,10758917,10758951,10759001,10759041],\"y\":[1599,1599,1600,1600,1601,1601,1602,1602,1603,1603,1604,1604,1605,1605,1606,1606,1607,1607,1608,1608,1609,1609,1610,1610,1611,1611,1612,1612,1613,1613,1614,1614,1615,1615,1616,1616,1617,1617,1618,1618,1619,1619,1620,1620,1621,1621,1622,1622,1623,1623,1624,1624,1625,1625,1626,1626,1627,1627,1628,1628,1629,1629,1630,1630,1631,1631,1632,1632,1633,1633,1634,1634,1635,1635,1636,1636,1637,1637,1638,1638],\"type\":\"scatter\"},{\"line\":{\"color\":\"#FF6692\"},\"mode\":\"lines\",\"name\":\"rex-8\",\"showlegend\":true,\"x\":[11091377,11091417,11091425,11091465,11091519,11091559,11091560,11091598,11091800,11091840,11091856,11091896,11091989,11092029,11092068,11092108,11092426,11092461,11092651,11092691,11093079,11093119,11093318,11093352,11093380,11093420,11093426,11093466,11093472,11093512,11093742,11093782,11093948,11093988,11093989,11094028,11094162,11094202,11094238,11094272,11094852,11094888,11094981,11095017,11095021,11095060,11095408,11095443,11095444,11095484,11095485,11095519,11095520,11095555,11095556,11095590,11095613,11095649,11095650,11095684,11096054,11096094,11096170,11096210,11096215,11096255,11096256,11096290,11096328,11096368,11096372,11096406,11096744,11096784,11096785,11096823,11096875,11096915,11097091,11097131],\"y\":[1639,1639,1640,1640,1641,1641,1642,1642,1643,1643,1644,1644,1645,1645,1646,1646,1647,1647,1648,1648,1649,1649,1650,1650,1651,1651,1652,1652,1653,1653,1654,1654,1655,1655,1656,1656,1657,1657,1658,1658,1659,1659,1660,1660,1661,1661,1662,1662,1663,1663,1664,1664,1665,1665,1666,1666,1667,1667,1668,1668,1669,1669,1670,1670,1671,1671,1672,1672,1673,1673,1674,1674,1675,1675,1676,1676,1677,1677,1678,1678],\"type\":\"scatter\"},{\"line\":{\"color\":\"#B6E880\"},\"mode\":\"lines\",\"name\":\"rex-3\",\"showlegend\":true,\"x\":[11358369,11358409,11358427,11358466,11358502,11358538,11359009,11359049,11359182,11359216,11359340,11359375,11359522,11359561,11359737,11359777,11359797,11359837,11359882,11359922,11360024,11360064,11360098,11360138,11360250,11360290,11360326,11360360,11360513,11360549,11360766,11360800,11360932,11360971,11361042,11361081,11361119,11361159,11361295,11361335,11361559,11361599,11361654,11361690,11361847,11361882,11362037,11362077,11362116,11362150,11362283,11362323,11362406,11362441,11362528,11362568,11362639,11362678,11362752,11362792,11362853,11362893,11362953,11362989,11363039,11363073,11363219,11363253,11363277,11363317,11363507,11363545,11363661,11363695,11363958,11363998,11364107,11364147,11364244,11364278],\"y\":[1679,1679,1680,1680,1681,1681,1682,1682,1683,1683,1684,1684,1685,1685,1686,1686,1687,1687,1688,1688,1689,1689,1690,1690,1691,1691,1692,1692,1693,1693,1694,1694,1695,1695,1696,1696,1697,1697,1698,1698,1699,1699,1700,1700,1701,1701,1702,1702,1703,1703,1704,1704,1705,1705,1706,1706,1707,1707,1708,1708,1709,1709,1710,1710,1711,1711,1712,1712,1713,1713,1714,1714,1715,1715,1716,1716,1717,1717,1718,1718],\"type\":\"scatter\"},{\"line\":{\"color\":\"#FF97FF\"},\"mode\":\"lines\",\"name\":\"rex-5\",\"showlegend\":true,\"x\":[11469700,11469740,11469783,11469822,11469933,11469969,11470040,11470074,11470381,11470415,11470475,11470515,11470700,11470735,11470775,11470815,11471254,11471288,11471357,11471395,11471587,11471627,11471668,11471706,11471837,11471873,11471995,11472029,11472093,11472127,11472163,11472200,11472348,11472382,11472424,11472458,11472510,11472550,11472608,11472642,11472809,11472849,11473014,11473048,11473132,11473168,11473315,11473349,11473580,11473620,11473740,11473774,11473877,11473916,11473968,11474008,11474147,11474181,11474223,11474263,11474299,11474337,11474474,11474510,11474566,11474606,11474642,11474676,11474773,11474807,11474879,11474913,11474948,11474988,11475151,11475191,11475241,11475281,11475508,11475548],\"y\":[1719,1719,1720,1720,1721,1721,1722,1722,1723,1723,1724,1724,1725,1725,1726,1726,1727,1727,1728,1728,1729,1729,1730,1730,1731,1731,1732,1732,1733,1733,1734,1734,1735,1735,1736,1736,1737,1737,1738,1738,1739,1739,1740,1740,1741,1741,1742,1742,1743,1743,1744,1744,1745,1745,1746,1746,1747,1747,1748,1748,1749,1749,1750,1750,1751,1751,1752,1752,1753,1753,1754,1754,1755,1755,1756,1756,1757,1757,1758,1758],\"type\":\"scatter\"},{\"line\":{\"color\":\"#FECB52\"},\"mode\":\"lines\",\"name\":\"rex-4\",\"showlegend\":true,\"x\":[11519416,11519453,11519503,11519543,11519569,11519606,11519682,11519722,11520188,11520222,11520311,11520351,11520664,11520704,11520826,11520866,11521028,11521067,11521213,11521251,11521383,11521420,11521558,11521598,11521653,11521687,11521738,11521778,11521789,11521828,11522028,11522068,11522220,11522255,11522316,11522350,11522756,11522796,11522837,11522874,11522964,11523002,11523032,11523072,11523190,11523230,11523331,11523367,11523498,11523534,11523609,11523646,11523687,11523727,11523895,11523935,11523941,11523981,11524061,11524098,11524264,11524302,11524431,11524471,11524716,11524756,11524837,11524877,11524898,11524938,11525045,11525083,11525097,11525137,11525142,11525182,11525206,11525246,11525263,11525303],\"y\":[1759,1759,1760,1760,1761,1761,1762,1762,1763,1763,1764,1764,1765,1765,1766,1766,1767,1767,1768,1768,1769,1769,1770,1770,1771,1771,1772,1772,1773,1773,1774,1774,1775,1775,1776,1776,1777,1777,1778,1778,1779,1779,1780,1780,1781,1781,1782,1782,1783,1783,1784,1784,1785,1785,1786,1786,1787,1787,1788,1788,1789,1789,1790,1790,1791,1791,1792,1792,1793,1793,1794,1794,1795,1795,1796,1796,1797,1797,1798,1798],\"type\":\"scatter\"},{\"line\":{\"color\":\"#636EFA\"},\"mode\":\"lines\",\"name\":\"rex-36\",\"showlegend\":true,\"x\":[11896429,11896466,11896467,11896501,11896504,11896544,11896561,11896598,11896683,11896723,11896803,11896843,11896844,11896880,11897369,11897409,11897581,11897619,11898037,11898077,11898084,11898124,11898125,11898159,11898168,11898208,11898209,11898243,11898279,11898313,11898316,11898356,11898458,11898498,11898499,11898533,11899111,11899151,11899195,11899229,11899265,11899299,11899381,11899415,11899500,11899539,11899615,11899655,11899691,11899728,11900178,11900218,11900219,11900253,11900254,11900288,11900289,11900329,11900519,11900559,11900649,11900684,11900787,11900827,11901138,11901178,11901251,11901291,11901380,11901420,11901590,11901630,11901711,11901751,11902043,11902083,11902084,11902118,11902167,11902207],\"y\":[1799,1799,1800,1800,1801,1801,1802,1802,1803,1803,1804,1804,1805,1805,1806,1806,1807,1807,1808,1808,1809,1809,1810,1810,1811,1811,1812,1812,1813,1813,1814,1814,1815,1815,1816,1816,1817,1817,1818,1818,1819,1819,1820,1820,1821,1821,1822,1822,1823,1823,1824,1824,1825,1825,1826,1826,1827,1827,1828,1828,1829,1829,1830,1830,1831,1831,1832,1832,1833,1833,1834,1834,1835,1835,1836,1836,1837,1837,1838,1838],\"type\":\"scatter\"},{\"line\":{\"color\":\"#EF553B\"},\"mode\":\"lines\",\"name\":\"rex-7\",\"showlegend\":true,\"x\":[11921368,11921402,11922114,11922150,11922165,11922205,11922215,11922255,11922378,11922412,11922422,11922462,11922472,11922508,11922567,11922604,11922625,11922664,11922668,11922708,11922886,11922926,11923003,11923038,11923070,11923110,11923418,11923458,11923503,11923543,11923749,11923789,11923923,11923957,11924217,11924252,11924292,11924328,11924364,11924398,11924434,11924474,11924598,11924638,11924647,11924687,11924859,11924894,11925140,11925174,11925280,11925319,11925392,11925432,11925434,11925474,11925479,11925519,11925566,11925606,11925635,11925675,11925676,11925710,11926131,11926171,11926207,11926241,11926322,11926356,11926507,11926541,11926580,11926619,11926919,11926959,11927223,11927263,11927264,11927303],\"y\":[1839,1839,1840,1840,1841,1841,1842,1842,1843,1843,1844,1844,1845,1845,1846,1846,1847,1847,1848,1848,1849,1849,1850,1850,1851,1851,1852,1852,1853,1853,1854,1854,1855,1855,1856,1856,1857,1857,1858,1858,1859,1859,1860,1860,1861,1861,1862,1862,1863,1863,1864,1864,1865,1865,1866,1866,1867,1867,1868,1868,1869,1869,1870,1870,1871,1871,1872,1872,1873,1873,1874,1874,1875,1875,1876,1876,1877,1877,1878,1878],\"type\":\"scatter\"},{\"line\":{\"color\":\"#00CC96\"},\"mode\":\"lines\",\"name\":\"rex-16\",\"showlegend\":true,\"x\":[11934721,11934758,11935163,11935197,11935211,11935245,11935246,11935283,11935866,11935904,11935905,11935939,11936253,11936287,11936771,11936810,11936844,11936884,11937141,11937181,11937182,11937220,11937422,11937462,11937505,11937539,11937540,11937580,11937934,11937974,11938228,11938268,11938294,11938333,11938359,11938395,11938401,11938440,11938441,11938481,11938734,11938768,11938769,11938807,11938847,11938881,11938882,11938921,11939305,11939345,11939396,11939436,11939612,11939652,11939653,11939693,11939737,11939775,11939835,11939875,11939919,11939959,11940047,11940081,11940082,11940121,11940139,11940179,11940180,11940219,11940235,11940269,11940337,11940377,11940378,11940415,11940463,11940503],\"y\":[1879,1879,1880,1880,1881,1881,1882,1882,1883,1883,1884,1884,1885,1885,1886,1886,1887,1887,1888,1888,1889,1889,1890,1890,1891,1891,1892,1892,1893,1893,1894,1894,1895,1895,1896,1896,1897,1897,1898,1898,1899,1899,1900,1900,1901,1901,1902,1902,1903,1903,1904,1904,1905,1905,1906,1906,1907,1907,1908,1908,1909,1909,1910,1910,1911,1911,1912,1912,1913,1913,1914,1914,1915,1915,1916,1916,1917,1917],\"type\":\"scatter\"},{\"line\":{\"color\":\"#AB63FA\"},\"mode\":\"lines\",\"name\":\"rex-6\",\"showlegend\":true,\"x\":[12360294,12360330,12362400,12362440,12362580,12362620,12362656,12362694,12362696,12362736,12362761,12362801,12362807,12362847,12362884,12362924,12362957,12362996,12363004,12363044,12363167,12363207,12363208,12363246,12363385,12363425,12363493,12363533,12363534,12363570,12363716,12363756,12363785,12363825,12363872,12363906,12363919,12363959,12363968,12364008,12364132,12364166,12364167,12364205,12364313,12364353,12364636,12364676,12364727,12364766,12364865,12364902,12364969,12365009,12365043,12365083,12365464,12365504,12365526,12365560,12365661,12365701,12365707,12365741,12365742,12365776,12365778,12365818,12365819,12365853,12365854,12365888,12365889,12365925,12365970,12366010,12366047,12366081,12366106,12366140],\"y\":[1918,1918,1919,1919,1920,1920,1921,1921,1922,1922,1923,1923,1924,1924,1925,1925,1926,1926,1927,1927,1928,1928,1929,1929,1930,1930,1931,1931,1932,1932,1933,1933,1934,1934,1935,1935,1936,1936,1937,1937,1938,1938,1939,1939,1940,1940,1941,1941,1942,1942,1943,1943,1944,1944,1945,1945,1946,1946,1947,1947,1948,1948,1949,1949,1950,1950,1951,1951,1952,1952,1953,1953,1954,1954,1955,1955,1956,1956,1957,1957],\"type\":\"scatter\"},{\"line\":{\"color\":\"#FFA15A\"},\"mode\":\"lines\",\"name\":\"P-rex-20\",\"showlegend\":true,\"x\":[12449517,12449557,12449580,12449620,12449893,12449933,12450078,12450112,12450210,12450250,12450358,12450393,12450481,12450515,12450561,12450595,12450770,12450806,12450845,12450885,12450976,12451010,12451114,12451148,12451378,12451418,12451595,12451635,12451693,12451733,12452099,12452139,12452191,12452225,12452233,12452267,12452319,12452353,12452421,12452455,12452466,12452500,12452556,12452595,12452596,12452630,12452715,12452754,12453143,12453183,12453223,12453261,12453358,12453395,12453490,12453528,12453833,12453873,12454215,12454255,12454256,12454294,12454425,12454463,12454544,12454582,12454732,12454772,12454847,12454887,12454888,12454922,12454988,12455028,12455169,12455203,12455246,12455286,12455287,12455323],\"y\":[1958,1958,1959,1959,1960,1960,1961,1961,1962,1962,1963,1963,1964,1964,1965,1965,1966,1966,1967,1967,1968,1968,1969,1969,1970,1970,1971,1971,1972,1972,1973,1973,1974,1974,1975,1975,1976,1976,1977,1977,1978,1978,1979,1979,1980,1980,1981,1981,1982,1982,1983,1983,1984,1984,1985,1985,1986,1986,1987,1987,1988,1988,1989,1989,1990,1990,1991,1991,1992,1992,1993,1993,1994,1994,1995,1995,1996,1996,1997,1997],\"type\":\"scatter\"},{\"line\":{\"color\":\"#19D3F3\"},\"mode\":\"lines\",\"name\":\"rex-31\",\"showlegend\":true,\"x\":[12727329,12727369,12727407,12727442,12727478,12727513,12727584,12727623,12727999,12728033,12728116,12728155,12728506,12728545,12728573,12728613,12728914,12728954,12728992,12729032,12729045,12729085,12729133,12729173,12729456,12729496,12729638,12729678,12729691,12729731,12729818,12729858,12729885,12729925,12730176,12730216,12730273,12730307,12730327,12730367,12730375,12730415,12730574,12730614,12730696,12730731,12730986,12731026,12731426,12731466,12731517,12731557,12731589,12731629,12731692,12731732,12731878,12731913,12732182,12732220,12732387,12732427,12732482,12732518,12732573,12732613,12732614,12732648,12732680,12732720,12732785,12732825,12732898,12732938,12732975,12733012,12733048,12733082,12733148,12733188],\"y\":[1998,1998,1999,1999,2000,2000,2001,2001,2002,2002,2003,2003,2004,2004,2005,2005,2006,2006,2007,2007,2008,2008,2009,2009,2010,2010,2011,2011,2012,2012,2013,2013,2014,2014,2015,2015,2016,2016,2017,2017,2018,2018,2019,2019,2020,2020,2021,2021,2022,2022,2023,2023,2024,2024,2025,2025,2026,2026,2027,2027,2028,2028,2029,2029,2030,2030,2031,2031,2032,2032,2033,2033,2034,2034,2035,2035,2036,2036,2037,2037],\"type\":\"scatter\"},{\"line\":{\"color\":\"#FF6692\"},\"mode\":\"lines\",\"name\":\"P-rex-21\",\"showlegend\":true,\"x\":[12887092,12887132,12887567,12887607,12888068,12888108,12888109,12888143,12888163,12888202,12888423,12888463,12888467,12888507,12888736,12888776,12888812,12888848,12888884,12888924,12888975,12889015,12889462,12889502,12889557,12889597,12889626,12889666,12889691,12889725,12889726,12889760,12889796,12889834,12889835,12889869,12889919,12889953,12890132,12890169,12890353,12890387,12890588,12890628,12890629,12890669,12890709,12890749,12890842,12890882,12890944,12890984,12891137,12891177,12891233,12891271,12891516,12891556,12891726,12891766,12891832,12891872,12892078,12892117,12892174,12892214,12892355,12892395,12892454,12892494,12892503,12892543,12892824,12892864,12892873,12892913,12892922,12892956,12892961,12892995],\"y\":[2038,2038,2039,2039,2040,2040,2041,2041,2042,2042,2043,2043,2044,2044,2045,2045,2046,2046,2047,2047,2048,2048,2049,2049,2050,2050,2051,2051,2052,2052,2053,2053,2054,2054,2055,2055,2056,2056,2057,2057,2058,2058,2059,2059,2060,2060,2061,2061,2062,2062,2063,2063,2064,2064,2065,2065,2066,2066,2067,2067,2068,2068,2069,2069,2070,2070,2071,2071,2072,2072,2073,2073,2074,2074,2075,2075,2076,2076,2077,2077],\"type\":\"scatter\"},{\"line\":{\"color\":\"#B6E880\"},\"mode\":\"lines\",\"name\":\"nDCC-16\",\"showlegend\":true,\"x\":[13432170,13432210,13432217,13432257,13432487,13432522,13432608,13432648,13433213,13433253,13433254,13433288,13433291,13433331,13433479,13433519,13433574,13433614,13434233,13434273,13434278,13434312,13434313,13434348,13434421,13434461,13434485,13434522,13434523,13434557,13434560,13434594,13434696,13434736,13435109,13435149,13435150,13435185,13435266,13435301,13435363,13435403,13435601,13435637,13435649,13435689,13435740,13435778,13435935,13435969,13436123,13436163,13436285,13436325,13436452,13436492,13436582,13436622,13436721,13436759,13436845,13436881,13436882,13436916,13436930,13436970,13436971,13437008,13438130,13438170,13438182,13438222,13438362,13438396,13438397,13438431,13438436,13438474,13438504,13438539],\"y\":[2078,2078,2079,2079,2080,2080,2081,2081,2082,2082,2083,2083,2084,2084,2085,2085,2086,2086,2087,2087,2088,2088,2089,2089,2090,2090,2091,2091,2092,2092,2093,2093,2094,2094,2095,2095,2096,2096,2097,2097,2098,2098,2099,2099,2100,2100,2101,2101,2102,2102,2103,2103,2104,2104,2105,2105,2106,2106,2107,2107,2108,2108,2109,2109,2110,2110,2111,2111,2112,2112,2113,2113,2114,2114,2115,2115,2116,2116,2117,2117],\"type\":\"scatter\"},{\"line\":{\"color\":\"#FF97FF\"},\"mode\":\"lines\",\"name\":\"nDCC-17\",\"showlegend\":true,\"x\":[13439939,13439979,13440008,13440048,13440049,13440083,13440088,13440122,13440221,13440261,13440262,13440301,13440302,13440336,13440378,13440413,13440449,13440488,13440489,13440523,13440793,13440833,13440834,13440871,13440914,13440948,13441042,13441082,13441254,13441290,13441514,13441553,13441816,13441856,13442170,13442210,13442252,13442286,13442459,13442498,13442602,13442636,13442919,13442958,13443137,13443177,13443412,13443446,13443528,13443568,13443588,13443622,13443691,13443731,13443732,13443769,13444109,13444149,13444150,13444184,13444260,13444294,13444334,13444368,13444584,13444624,13444856,13444896,13445079,13445118,13445198,13445238,13445239,13445273,13445274,13445310,13445386,13445422,13445487,13445527],\"y\":[2118,2118,2119,2119,2120,2120,2121,2121,2122,2122,2123,2123,2124,2124,2125,2125,2126,2126,2127,2127,2128,2128,2129,2129,2130,2130,2131,2131,2132,2132,2133,2133,2134,2134,2135,2135,2136,2136,2137,2137,2138,2138,2139,2139,2140,2140,2141,2141,2142,2142,2143,2143,2144,2144,2145,2145,2146,2146,2147,2147,2148,2148,2149,2149,2150,2150,2151,2151,2152,2152,2153,2153,2154,2154,2155,2155,2156,2156,2157,2157],\"type\":\"scatter\"},{\"line\":{\"color\":\"#FECB52\"},\"mode\":\"lines\",\"name\":\"P-rex-22\",\"showlegend\":true,\"x\":[13511897,13511937,13512123,13512157,13512565,13512605,13512730,13512770,13512771,13512810,13512942,13512982,13513761,13513799,13513834,13513868,13513910,13513950,13513972,13514010,13514011,13514046,13514084,13514124,13514324,13514358,13514387,13514421,13514627,13514667,13514778,13514818,13514862,13514902,13514958,13514996,13515032,13515071,13515074,13515114,13515343,13515383,13515667,13515707,13515933,13515973,13516154,13516191,13516192,13516226,13516229,13516263,13516264,13516298,13516406,13516446,13516458,13516494,13516495,13516529,13516530,13516570,13516838,13516878,13516936,13516972,13516973,13517007,13517008,13517042,13517058,13517097,13517099,13517139,13517140,13517174,13517280,13517318,13517319,13517353],\"y\":[2158,2158,2159,2159,2160,2160,2161,2161,2162,2162,2163,2163,2164,2164,2165,2165,2166,2166,2167,2167,2168,2168,2169,2169,2170,2170,2171,2171,2172,2172,2173,2173,2174,2174,2175,2175,2176,2176,2177,2177,2178,2178,2179,2179,2180,2180,2181,2181,2182,2182,2183,2183,2184,2184,2185,2185,2186,2186,2187,2187,2188,2188,2189,2189,2190,2190,2191,2191,2192,2192,2193,2193,2194,2194,2195,2195,2196,2196,2197,2197],\"type\":\"scatter\"},{\"line\":{\"color\":\"#636EFA\"},\"mode\":\"lines\",\"name\":\"nDCC-18\",\"showlegend\":true,\"x\":[13602416,13602456,13602565,13602605,13602953,13602993,13603029,13603069,13603105,13603145,13603146,13603183,13603208,13603246,13603247,13603281,13603320,13603360,13603703,13603737,13603744,13603781,13603785,13603823,13603824,13603862,13603898,13603932,13603995,13604029,13604030,13604065,13604066,13604100,13604101,13604139,13604140,13604174,13604175,13604209,13604210,13604249,13604329,13604369,13604480,13604515,13604914,13604954,13604955,13604990,13605005,13605041,13605042,13605080,13605081,13605121,13605149,13605183,13605184,13605218,13605286,13605326,13605327,13605365,13605589,13605629,13607367,13607407,13607514,13607554,13607555,13607593,13607638,13607678,13607679,13607713,13608031,13608071,13608072,13608109],\"y\":[2198,2198,2199,2199,2200,2200,2201,2201,2202,2202,2203,2203,2204,2204,2205,2205,2206,2206,2207,2207,2208,2208,2209,2209,2210,2210,2211,2211,2212,2212,2213,2213,2214,2214,2215,2215,2216,2216,2217,2217,2218,2218,2219,2219,2220,2220,2221,2221,2222,2222,2223,2223,2224,2224,2225,2225,2226,2226,2227,2227,2228,2228,2229,2229,2230,2230,2231,2231,2232,2232,2233,2233,2234,2234,2235,2235,2236,2236,2237,2237],\"type\":\"scatter\"},{\"line\":{\"color\":\"#EF553B\"},\"mode\":\"lines\",\"name\":\"nDCC-19\",\"showlegend\":true,\"x\":[13662631,13662671,13662804,13662839,13662883,13662923,13663016,13663050,13663696,13663736,13663816,13663856,13663982,13664022,13664176,13664215,13664676,13664716,13664717,13664756,13664823,13664863,13664900,13664940,13665052,13665092,13665093,13665127,13665397,13665437,13665508,13665542,13665679,13665713,13666102,13666142,13666143,13666182,13666183,13666223,13666230,13666270,13666384,13666418,13666518,13666558,13666629,13666663,13666702,13666736,13666794,13666834,13666915,13666955,13666993,13667033,13667050,13667090,13667126,13667160,13667356,13667394,13667508,13667547,13667583,13667617,13667847,13667882,13667892,13667932,13667955,13667995,13668072,13668112,13668113,13668148,13668322,13668360,13668449,13668489],\"y\":[2238,2238,2239,2239,2240,2240,2241,2241,2242,2242,2243,2243,2244,2244,2245,2245,2246,2246,2247,2247,2248,2248,2249,2249,2250,2250,2251,2251,2252,2252,2253,2253,2254,2254,2255,2255,2256,2256,2257,2257,2258,2258,2259,2259,2260,2260,2261,2261,2262,2262,2263,2263,2264,2264,2265,2265,2266,2266,2267,2267,2268,2268,2269,2269,2270,2270,2271,2271,2272,2272,2273,2273,2274,2274,2275,2275,2276,2276,2277,2277],\"type\":\"scatter\"},{\"line\":{\"color\":\"#00CC96\"},\"mode\":\"lines\",\"name\":\"P-rex-23\",\"showlegend\":true,\"x\":[13693493,13693533,13693534,13693568,13693570,13693604,13693621,13693661,13693662,13693696,13693697,13693731,13693732,13693766,13693859,13693893,13693894,13693928,13694012,13694052,13694083,13694118,13694205,13694239,13694252,13694288,13694942,13694982,13694983,13695017,13695078,13695117,13695126,13695166,13695292,13695332,13695333,13695367,13695372,13695412,13695518,13695558,13695604,13695644,13695717,13695757,13695895,13695935,13695949,13695989,13695990,13696030,13696201,13696240,13696241,13696280,13696341,13696375,13696376,13696412,13696413,13696451,13696523,13696563,13696698,13696738,13696755,13696795,13696823,13696863,13696866,13696906,13697164,13697204],\"y\":[2278,2278,2279,2279,2280,2280,2281,2281,2282,2282,2283,2283,2284,2284,2285,2285,2286,2286,2287,2287,2288,2288,2289,2289,2290,2290,2291,2291,2292,2292,2293,2293,2294,2294,2295,2295,2296,2296,2297,2297,2298,2298,2299,2299,2300,2300,2301,2301,2302,2302,2303,2303,2304,2304,2305,2305,2306,2306,2307,2307,2308,2308,2309,2309,2310,2310,2311,2311,2312,2312,2313,2313,2314,2314],\"type\":\"scatter\"},{\"line\":{\"color\":\"#AB63FA\"},\"mode\":\"lines\",\"name\":\"rex-43\",\"showlegend\":true,\"x\":[13697651,13697685,13697972,13698012,13698387,13698423,13699969,13700009,13700207,13700247,13700282,13700322,13700743,13700783,13700788,13700828,13700833,13700873,13700874,13700911,13700912,13700948,13700949,13700983,13700990,13701030,13701031,13701069,13701084,13701124,13701221,13701261,13701335,13701375,13701492,13701532,13701540,13701580,13701718,13701758,13701759,13701798,13701870,13701909,13701941,13701981,13702078,13702118,13702230,13702266,13702310,13702350,13702934,13702974,13703221,13703261,13703300,13703340,13703345,13703385,13703574,13703610,13703612,13703652,13703802,13703842,13703994,13704031,13704148,13704187,13704202,13704242,13704267,13704307,13704338,13704378],\"y\":[2315,2315,2316,2316,2317,2317,2318,2318,2319,2319,2320,2320,2321,2321,2322,2322,2323,2323,2324,2324,2325,2325,2326,2326,2327,2327,2328,2328,2329,2329,2330,2330,2331,2331,2332,2332,2333,2333,2334,2334,2335,2335,2336,2336,2337,2337,2338,2338,2339,2339,2340,2340,2341,2341,2342,2342,2343,2343,2344,2344,2345,2345,2346,2346,2347,2347,2348,2348,2349,2349,2350,2350,2351,2351,2352,2352],\"type\":\"scatter\"},{\"line\":{\"color\":\"grey\"},\"mode\":\"lines\",\"name\":\"chrIII_fiducial2\",\"showlegend\":false,\"x\":[13769348,13769382,13769383,13769423,13769424,13769458,13769464,13769504,13769507,13769541,13769542,13769576,13769609,13769643,13769644,13769678,13769679,13769713,13769714,13769748,13769910,13769944,13770024,13770058,13770069,13770103,13770114,13770149,13770150,13770184,13770222,13770256,13770306,13770344,13770345,13770383,13770413,13770453,13770454,13770488,13770550,13770587,13770588,13770627,13770666,13770700,13770701,13770735,13770751,13770791,13770792,13770826,13770827,13770867,13770868,13770904,13770939,13770979,13771005,13771039,13771169,13771203,13771276,13771316,13771317,13771351,13771367,13771401,13771440,13771480,13771660,13771700,13771747,13771787,13771876,13771916,13771946,13771986,13772005,13772039,13772040,13772076,13772077,13772114,13772115,13772149,13772150,13772185,13772192,13772226,13772227,13772261,13772262,13772299,13772365,13772405,13772407,13772441,13772758,13772793,13772804,13772838,13772839,13772873,13772874,13772908,13772975,13773015,13773016,13773050,13773051,13773086,13773132,13773166,13773167,13773202,13773203,13773237,13773417,13773457,13773458,13773492,13774535,13774575,13774606,13774640,13774641,13774675,13774713,13774747,13774748,13774782,13775102,13775140,13775166,13775200,13775218,13775253,13775254,13775288,13775289,13775323,13775324,13775364],\"y\":[3121,3121,3122,3122,3123,3123,3124,3124,3125,3125,3126,3126,3127,3127,3128,3128,3129,3129,3130,3130,3131,3131,3132,3132,3133,3133,3134,3134,3135,3135,3136,3136,3137,3137,3138,3138,3139,3139,3140,3140,3141,3141,3142,3142,3143,3143,3144,3144,3145,3145,3146,3146,3147,3147,3148,3148,3149,3149,3150,3150,3151,3151,3152,3152,3153,3153,3154,3154,3155,3155,3156,3156,3157,3157,3158,3158,3159,3159,3160,3160,3161,3161,3162,3162,3163,3163,3164,3164,3165,3165,3166,3166,3167,3167,3168,3168,3169,3169,3170,3170,3171,3171,3172,3172,3173,3173,3174,3174,3175,3175,3176,3176,3177,3177,3178,3178,3179,3179,3180,3180,3181,3181,3182,3182,3183,3183,3184,3184,3185,3185,3186,3186,3187,3187,3188,3188,3189,3189,3190,3190,3191,3191,3192,3192],\"type\":\"scatter\"},{\"line\":{\"color\":\"#19D3F3\"},\"mode\":\"lines\",\"name\":\"P-rex-25\",\"showlegend\":true,\"x\":[13917489,13917527,13917563,13917601,13917639,13917673,13918032,13918070,13918638,13918678,13919397,13919437,13919438,13919474,13919624,13919664,13919672,13919712,13919800,13919834,13920102,13920142,13920389,13920429,13920490,13920530,13920531,13920565,13920582,13920616,13920782,13920816,13920867,13920901,13921132,13921172,13921173,13921210,13921213,13921253,13921290,13921324,13921460,13921500,13921621,13921661,13921740,13921780,13921892,13921928,13921971,13922005,13922064,13922101,13922297,13922337,13922683,13922717,13922857,13922893,13922919,13922959,13923164,13923203,13923242,13923276,13923319,13923359,13923401,13923435,13923441,13923475,13923505,13923539,13923622,13923662,13923742,13923776,13923806,13923846],\"y\":[2353,2353,2354,2354,2355,2355,2356,2356,2357,2357,2358,2358,2359,2359,2360,2360,2361,2361,2362,2362,2363,2363,2364,2364,2365,2365,2366,2366,2367,2367,2368,2368,2369,2369,2370,2370,2371,2371,2372,2372,2373,2373,2374,2374,2375,2375,2376,2376,2377,2377,2378,2378,2379,2379,2380,2380,2381,2381,2382,2382,2383,2383,2384,2384,2385,2385,2386,2386,2387,2387,2388,2388,2389,2389,2390,2390,2391,2391,2392,2392],\"type\":\"scatter\"},{\"line\":{\"color\":\"#FF6692\"},\"mode\":\"lines\",\"name\":\"P-rex-26\",\"showlegend\":true,\"x\":[14024296,14024336,14024493,14024533,14024542,14024582,14024583,14024618,14024705,14024744,14024793,14024828,14024829,14024868,14025652,14025692,14025918,14025952,14026044,14026084,14026233,14026273,14026356,14026393,14026431,14026471,14026755,14026793,14026809,14026849,14026894,14026934,14026970,14027004,14027025,14027059,14027211,14027245,14027419,14027458,14027459,14027493,14027520,14027559,14027718,14027758,14027901,14027940,14028306,14028346,14028383,14028423,14028471,14028505,14028533,14028570,14028581,14028615,14028676,14028716,14028717,14028751,14028779,14028819,14028866,14028903,14028967,14029002,14029003,14029042,14029043,14029080,14029081,14029115,14029749,14029789,14029832,14029872,14029924,14029959],\"y\":[2393,2393,2394,2394,2395,2395,2396,2396,2397,2397,2398,2398,2399,2399,2400,2400,2401,2401,2402,2402,2403,2403,2404,2404,2405,2405,2406,2406,2407,2407,2408,2408,2409,2409,2410,2410,2411,2411,2412,2412,2413,2413,2414,2414,2415,2415,2416,2416,2417,2417,2418,2418,2419,2419,2420,2420,2421,2421,2422,2422,2423,2423,2424,2424,2425,2425,2426,2426,2427,2427,2428,2428,2429,2429,2430,2430,2431,2431,2432,2432],\"type\":\"scatter\"},{\"line\":{\"color\":\"#B6E880\"},\"mode\":\"lines\",\"name\":\"P-rex-27\",\"showlegend\":true,\"x\":[14478202,14478242,14478325,14478365,14478486,14478520,14478738,14478778,14479242,14479282,14479323,14479358,14479549,14479585,14479626,14479663,14479742,14479781,14479829,14479869,14479931,14479971,14479979,14480019,14480055,14480092,14480210,14480245,14480317,14480357,14480360,14480399,14480622,14480660,14480922,14480962,14481158,14481198,14481234,14481272,14481309,14481343,14481505,14481543,14481551,14481591,14481631,14481669,14482046,14482080,14482116,14482156,14482175,14482215,14482278,14482312,14482389,14482429,14482505,14482539,14482592,14482632,14482633,14482668,14482718,14482758,14482896,14482934,14482971,14483005,14483016,14483056,14483067,14483107,14483144,14483178,14483271,14483311,14483389,14483423],\"y\":[2433,2433,2434,2434,2435,2435,2436,2436,2437,2437,2438,2438,2439,2439,2440,2440,2441,2441,2442,2442,2443,2443,2444,2444,2445,2445,2446,2446,2447,2447,2448,2448,2449,2449,2450,2450,2451,2451,2452,2452,2453,2453,2454,2454,2455,2455,2456,2456,2457,2457,2458,2458,2459,2459,2460,2460,2461,2461,2462,2462,2463,2463,2464,2464,2465,2465,2466,2466,2467,2467,2468,2468,2469,2469,2470,2470,2471,2471,2472,2472],\"type\":\"scatter\"},{\"line\":{\"color\":\"#FF97FF\"},\"mode\":\"lines\",\"name\":\"rex-48\",\"showlegend\":true,\"x\":[14521771,14521811,14521839,14521875,14521876,14521916,14521917,14521956,14521995,14522035,14522036,14522071,14522073,14522113,14522114,14522148,14522211,14522249,14522250,14522284,14522291,14522325,14522351,14522391,14522588,14522627,14522820,14522860,14523120,14523160,14523199,14523239,14523548,14523585,14524107,14524147,14524323,14524363,14525558,14525598,14525636,14525670,14525864,14525898,14526202,14526239,14526284,14526324,14526338,14526372,14526536,14526576,14526577,14526611,14526694,14526732,14526740,14526774,14526920,14526958,14526962,14527002,14527578,14527618,14527828,14527863,14527992,14528032,14528095,14528135,14528180,14528220,14528251,14528289,14528296,14528336,14528698,14528738,14529617,14529657],\"y\":[2473,2473,2474,2474,2475,2475,2476,2476,2477,2477,2478,2478,2479,2479,2480,2480,2481,2481,2482,2482,2483,2483,2484,2484,2485,2485,2486,2486,2487,2487,2488,2488,2489,2489,2490,2490,2491,2491,2492,2492,2493,2493,2494,2494,2495,2495,2496,2496,2497,2497,2498,2498,2499,2499,2500,2500,2501,2501,2502,2502,2503,2503,2504,2504,2505,2505,2506,2506,2507,2507,2508,2508,2509,2509,2510,2510,2511,2511,2512,2512],\"type\":\"scatter\"},{\"line\":{\"color\":\"#FECB52\"},\"mode\":\"lines\",\"name\":\"rex-39\",\"showlegend\":true,\"x\":[14810575,14810609,14810645,14810685,14810686,14810720,14810758,14810798,14810800,14810840,14810873,14810907,14811700,14811740,14811793,14811833,14811869,14811905,14811906,14811944,14811946,14811985,14811986,14812022,14812023,14812057,14812090,14812130,14812149,14812189,14812311,14812351,14812352,14812391,14812399,14812439,14812552,14812592,14812605,14812645,14812763,14812801,14813015,14813055,14813486,14813526,14813533,14813573,14813639,14813679,14813680,14813716,14813762,14813796,14813938,14813973,14814336,14814370,14814551,14814591,14814592,14814626,14814938,14814978,14815429,14815464,14815546,14815586,14815598,14815638,14815639,14815676,14816148,14816188,14816223,14816257,14816298,14816338,14816339,14816373],\"y\":[2513,2513,2514,2514,2515,2515,2516,2516,2517,2517,2518,2518,2519,2519,2520,2520,2521,2521,2522,2522,2523,2523,2524,2524,2525,2525,2526,2526,2527,2527,2528,2528,2529,2529,2530,2530,2531,2531,2532,2532,2533,2533,2534,2534,2535,2535,2536,2536,2537,2537,2538,2538,2539,2539,2540,2540,2541,2541,2542,2542,2543,2543,2544,2544,2545,2545,2546,2546,2547,2547,2548,2548,2549,2549,2550,2550,2551,2551,2552,2552],\"type\":\"scatter\"},{\"line\":{\"color\":\"#636EFA\"},\"mode\":\"lines\",\"name\":\"rex-46\",\"showlegend\":true,\"x\":[15733798,15733833,15733869,15733906,15733924,15733964,15733965,15733999,15734019,15734059,15734060,15734094,15734095,15734129,15734172,15734210,15734224,15734264,15734265,15734304,15734305,15734344,15734345,15734380,15734384,15734423,15734424,15734458,15734459,15734497,15734504,15734543,15734544,15734578,15734640,15734674,15734675,15734715,15734716,15734751,15734752,15734789,15734790,15734824,15734825,15734859,15734900,15734938,15734962,15734997,15734998,15735034,15735068,15735108,15735109,15735149,15735168,15735202,15735203,15735237,15736655,15736689,15736843,15736883,15737075,15737115,15737147,15737187,15737208,15737248,15737762,15737802,15737807,15737847,15737879,15737915,15739516,15739556,15739564,15739604],\"y\":[2553,2553,2554,2554,2555,2555,2556,2556,2557,2557,2558,2558,2559,2559,2560,2560,2561,2561,2562,2562,2563,2563,2564,2564,2565,2565,2566,2566,2567,2567,2568,2568,2569,2569,2570,2570,2571,2571,2572,2572,2573,2573,2574,2574,2575,2575,2576,2576,2577,2577,2578,2578,2579,2579,2580,2580,2581,2581,2582,2582,2583,2583,2584,2584,2585,2585,2586,2586,2587,2587,2588,2588,2589,2589,2590,2590,2591,2591,2592,2592],\"type\":\"scatter\"},{\"line\":{\"color\":\"#EF553B\"},\"mode\":\"lines\",\"name\":\"nDCC-20\",\"showlegend\":true,\"x\":[15739658,15739698,15739882,15739922,15739947,15739987,15740457,15740497,15740553,15740593,15740727,15740766,15740872,15740911,15741071,15741105,15741106,15741146,15741213,15741252,15741307,15741347,15741348,15741385,15741386,15741420,15742012,15742046,15742388,15742428,15742591,15742630,15742643,15742680,15742802,15742842,15743217,15743251,15743252,15743286,15743323,15743358,15743359,15743393,15743491,15743531,15743536,15743576,15743613,15743653,15743693,15743730,15743759,15743799,15743800,15743838,15743842,15743877,15744037,15744077,15744083,15744123,15744181,15744215,15744948,15744988,15745070,15745110,15745264,15745304,15745346,15745386,15745407,15745447,15745448,15745488,15745489,15745529],\"y\":[2593,2593,2594,2594,2595,2595,2596,2596,2597,2597,2598,2598,2599,2599,2600,2600,2601,2601,2602,2602,2603,2603,2604,2604,2605,2605,2606,2606,2607,2607,2608,2608,2609,2609,2610,2610,2611,2611,2612,2612,2613,2613,2614,2614,2615,2615,2616,2616,2617,2617,2618,2618,2619,2619,2620,2620,2621,2621,2622,2622,2623,2623,2624,2624,2625,2625,2626,2626,2627,2627,2628,2628,2629,2629,2630,2630,2631,2631],\"type\":\"scatter\"},{\"line\":{\"color\":\"#00CC96\"},\"mode\":\"lines\",\"name\":\"P-rex-30\",\"showlegend\":true,\"x\":[16053635,16053673,16053754,16053794,16053859,16053893,16053894,16053928,16054220,16054260,16054261,16054298,16054299,16054333,16054369,16054408,16054428,16054468,16054469,16054509,16055083,16055123,16055287,16055327,16055494,16055534,16055544,16055584,16056229,16056269,16056492,16056528,16056599,16056634,16056707,16056747,16056854,16056894,16057815,16057850,16057851,16057885,16057899,16057939,16057950,16057990,16057991,16058027,16058244,16058280,16058651,16058691,16058692,16058726,16058742,16058781,16058782,16058819,16058829,16058863,16058864,16058898,16058903,16058943,16059028,16059062,16059072,16059112,16059146,16059186,16059187,16059223,16059247,16059281,16059282,16059319,16059441,16059478],\"y\":[2632,2632,2633,2633,2634,2634,2635,2635,2636,2636,2637,2637,2638,2638,2639,2639,2640,2640,2641,2641,2642,2642,2643,2643,2644,2644,2645,2645,2646,2646,2647,2647,2648,2648,2649,2649,2650,2650,2651,2651,2652,2652,2653,2653,2654,2654,2655,2655,2656,2656,2657,2657,2658,2658,2659,2659,2660,2660,2661,2661,2662,2662,2663,2663,2664,2664,2665,2665,2666,2666,2667,2667,2668,2668,2669,2669,2670,2670],\"type\":\"scatter\"},{\"line\":{\"color\":\"#AB63FA\"},\"mode\":\"lines\",\"name\":\"P-rex-31\\u002fnDCC-21\",\"showlegend\":true,\"x\":[16201434,16201474,16201501,16201535,16201536,16201570,16202161,16202195,16202196,16202234,16202258,16202292,16202342,16202376,16202469,16202503,16202504,16202538,16203422,16203462,16203476,16203510,16203556,16203590,16203591,16203625,16203643,16203683,16203684,16203718,16203733,16203773,16203834,16203874,16204298,16204332,16204821,16204861,16204881,16204918,16204942,16204982,16204983,16205017,16205203,16205243,16205244,16205278,16205390,16205430,16205459,16205499,16205629,16205668,16205974,16206014,16206015,16206055,16206056,16206092,16206094,16206134,16206179,16206217,16206234,16206270,16206271,16206310,16206374,16206413,16206427,16206467,16206520,16206560,16206561,16206595],\"y\":[2671,2671,2672,2672,2673,2673,2674,2674,2675,2675,2676,2676,2677,2677,2678,2678,2679,2679,2680,2680,2681,2681,2682,2682,2683,2683,2684,2684,2685,2685,2686,2686,2687,2687,2688,2688,2689,2689,2690,2690,2691,2691,2692,2692,2693,2693,2694,2694,2695,2695,2696,2696,2697,2697,2698,2698,2699,2699,2700,2700,2701,2701,2702,2702,2703,2703,2704,2704,2705,2705,2706,2706,2707,2707,2708,2708],\"type\":\"scatter\"},{\"line\":{\"color\":\"#FFA15A\"},\"mode\":\"lines\",\"name\":\"nDCC-22\",\"showlegend\":true,\"x\":[16324472,16324509,16324747,16324787,16325128,16325168,16325455,16325489,16325563,16325603,16325605,16325639,16325885,16325925,16326185,16326222,16326223,16326257,16326272,16326312,16326398,16326438,16326474,16326514,16326631,16326665,16326786,16326826,16326953,16326993,16327124,16327164,16327361,16327401,16327402,16327436,16327437,16327472,16327476,16327516,16327620,16327660,16327804,16327844,16328141,16328180,16328202,16328236,16328237,16328277,16328399,16328439,16328440,16328474,16328842,16328882,16328940,16328980,16329026,16329060,16329081,16329121,16329135,16329175,16329205,16329239,16329949,16329983,16329985,16330025,16330026,16330066,16330108,16330148,16330155,16330193,16330355,16330389],\"y\":[2709,2709,2710,2710,2711,2711,2712,2712,2713,2713,2714,2714,2715,2715,2716,2716,2717,2717,2718,2718,2719,2719,2720,2720,2721,2721,2722,2722,2723,2723,2724,2724,2725,2725,2726,2726,2727,2727,2728,2728,2729,2729,2730,2730,2731,2731,2732,2732,2733,2733,2734,2734,2735,2735,2736,2736,2737,2737,2738,2738,2739,2739,2740,2740,2741,2741,2742,2742,2743,2743,2744,2744,2745,2745,2746,2746,2747,2747],\"type\":\"scatter\"},{\"line\":{\"color\":\"#19D3F3\"},\"mode\":\"lines\",\"name\":\"rex-35\",\"showlegend\":true,\"x\":[16679162,16679198,16679249,16679285,16679527,16679567,16679604,16679638,16679897,16679937,16679943,16679982,16680951,16680991,16681386,16681426,16681539,16681577,16681617,16681653,16681685,16681719,16681720,16681755,16681756,16681790,16681791,16681829,16681841,16681881,16681883,16681923,16682064,16682104,16682105,16682143,16682144,16682181,16682303,16682340,16682483,16682523,16682559,16682598,16682662,16682702,16683606,16683646,16683650,16683684,16683795,16683829,16684089,16684123,16684409,16684449,16684471,16684511,16684542,16684582,16684583,16684617,16684618,16684652,16684653,16684689,16684700,16684740,16684809,16684843,16684856,16684896,16684919,16684959,16684960,16684994,16684995,16685029],\"y\":[2748,2748,2749,2749,2750,2750,2751,2751,2752,2752,2753,2753,2754,2754,2755,2755,2756,2756,2757,2757,2758,2758,2759,2759,2760,2760,2761,2761,2762,2762,2763,2763,2764,2764,2765,2765,2766,2766,2767,2767,2768,2768,2769,2769,2770,2770,2771,2771,2772,2772,2773,2773,2774,2774,2775,2775,2776,2776,2777,2777,2778,2778,2779,2779,2780,2780,2781,2781,2782,2782,2783,2783,2784,2784,2785,2785,2786,2786],\"type\":\"scatter\"},{\"line\":{\"color\":\"#FF6692\"},\"mode\":\"lines\",\"name\":\"nDCC-23\",\"showlegend\":true,\"x\":[16692550,16692588,16692589,16692627,16692670,16692710,16692910,16692948,16693026,16693066,16693110,16693150,16693179,16693219,16693263,16693301,16693302,16693339,16693359,16693397,16693456,16693490,16693491,16693525,16693637,16693671,16693774,16693814,16693815,16693854,16693858,16693898,16693953,16693987,16694034,16694074,16694274,16694314,16694363,16694403,16694557,16694593,16694678,16694714,16694809,16694849,16695160,16695199,16695460,16695494,16695495,16695529,16695592,16695632,16695673,16695713,16695881,16695921,16696037,16696075,16696124,16696164,16696275,16696315,16696327,16696367,16696371,16696411,16696412,16696449,16696502,16696539,16696598,16696632,16697224,16697258,16697281,16697321],\"y\":[2787,2787,2788,2788,2789,2789,2790,2790,2791,2791,2792,2792,2793,2793,2794,2794,2795,2795,2796,2796,2797,2797,2798,2798,2799,2799,2800,2800,2801,2801,2802,2802,2803,2803,2804,2804,2805,2805,2806,2806,2807,2807,2808,2808,2809,2809,2810,2810,2811,2811,2812,2812,2813,2813,2814,2814,2815,2815,2816,2816,2817,2817,2818,2818,2819,2819,2820,2820,2821,2821,2822,2822,2823,2823,2824,2824,2825,2825],\"type\":\"scatter\"},{\"line\":{\"color\":\"#B6E880\"},\"mode\":\"lines\",\"name\":\"rex-42\",\"showlegend\":true,\"x\":[17177969,17178005,17178181,17178215,17178223,17178260,17178266,17178306,17178310,17178350,17178501,17178541,17178571,17178605,17178672,17178706,17178723,17178763,17178813,17178853,17178926,17178966,17179079,17179119,17180004,17180038,17180087,17180127,17180128,17180164,17180331,17180367,17180996,17181036,17181051,17181091,17181337,17181373,17181374,17181411,17181436,17181470,17181744,17181784,17181785,17181819,17181820,17181854,17181890,17181924,17182000,17182040,17182092,17182126,17182716,17182755,17182776,17182814,17183066,17183105,17184048,17184088,17184213,17184253,17184390,17184425,17184537,17184571,17184572,17184609,17184613,17184647,17184648,17184683,17184779,17184819,17184868,17184907],\"y\":[2826,2826,2827,2827,2828,2828,2829,2829,2830,2830,2831,2831,2832,2832,2833,2833,2834,2834,2835,2835,2836,2836,2837,2837,2838,2838,2839,2839,2840,2840,2841,2841,2842,2842,2843,2843,2844,2844,2845,2845,2846,2846,2847,2847,2848,2848,2849,2849,2850,2850,2851,2851,2852,2852,2853,2853,2854,2854,2855,2855,2856,2856,2857,2857,2858,2858,2859,2859,2860,2860,2861,2861,2862,2862,2863,2863,2864,2864],\"type\":\"scatter\"},{\"line\":{\"color\":\"grey\"},\"mode\":\"lines\",\"name\":\"chrIV_fiducial2\",\"showlegend\":false,\"x\":[17486464,17486504,17486531,17486565,17486996,17487036,17487059,17487094,17487245,17487283,17487391,17487431,17487564,17487602,17487647,17487687,17487773,17487813,17488213,17488247,17488248,17488282,17488295,17488331,17488332,17488366,17488456,17488496,17488532,17488572,17488680,17488720,17488725,17488759,17488770,17488809,17488841,17488879,17488963,17489003,17489007,17489041,17489042,17489078,17489084,17489122,17489123,17489160,17489347,17489387,17489918,17489958,17489959,17489998,17490112,17490150,17490216,17490256,17490348,17490387,17490388,17490424,17490425,17490461,17490505,17490539,17490540,17490574,17490626,17490660,17490661,17490695,17490699,17490739,17490848,17490888,17490921,17490961,17490966,17491000,17491009,17491043,17491620,17491658,17491691,17491725,17491937,17491977,17492359,17492396],\"y\":[2987,2987,2988,2988,2989,2989,2990,2990,2991,2991,2992,2992,2993,2993,2994,2994,2995,2995,2996,2996,2997,2997,2998,2998,2999,2999,3000,3000,3001,3001,3002,3002,3003,3003,3004,3004,3005,3005,3006,3006,3007,3007,3008,3008,3009,3009,3010,3010,3011,3011,3012,3012,3013,3013,3014,3014,3015,3015,3016,3016,3017,3017,3018,3018,3019,3019,3020,3020,3021,3021,3022,3022,3023,3023,3024,3024,3025,3025,3026,3026,3027,3027,3028,3028,3029,3029,3030,3030,3031,3031],\"type\":\"scatter\"},{\"line\":{\"color\":\"#FECB52\"},\"mode\":\"lines\",\"name\":\"rex-41\",\"showlegend\":true,\"x\":[17539095,17539134,17539154,17539191,17539438,17539475,17539815,17539849,17540076,17540116,17540140,17540174,17540212,17540246,17540255,17540295,17540296,17540334,17540621,17540661,17540876,17540916,17540917,17540957,17541120,17541160,17541161,17541195,17541289,17541329,17541768,17541808,17541809,17541846,17542100,17542140,17542389,17542423,17542424,17542461,17542790,17542829,17543100,17543140,17543324,17543364,17543365,17543399,17543457,17543495,17543496,17543530,17543565,17543605,17544792,17544832,17544840,17544879,17545041,17545081,17545557,17545597,17546179,17546219,17546372,17546412,17546482,17546522,17546652,17546686,17549585,17549619,17549621,17549661,17549662,17549696,17549702,17549736,17549978,17550018],\"y\":[2865,2865,2866,2866,2867,2867,2868,2868,2869,2869,2870,2870,2871,2871,2872,2872,2873,2873,2874,2874,2875,2875,2876,2876,2877,2877,2878,2878,2879,2879,2880,2880,2881,2881,2882,2882,2883,2883,2884,2884,2885,2885,2886,2886,2887,2887,2888,2888,2889,2889,2890,2890,2891,2891,2892,2892,2893,2893,2894,2894,2895,2895,2896,2896,2897,2897,2898,2898,2899,2899,2900,2900,2901,2901,2902,2902,2903,2903,2904,2904],\"type\":\"scatter\"}],                        {\"template\":{\"data\":{\"histogram2dcontour\":[{\"type\":\"histogram2dcontour\",\"colorbar\":{\"outlinewidth\":0,\"ticks\":\"\"},\"colorscale\":[[0.0,\"#0d0887\"],[0.1111111111111111,\"#46039f\"],[0.2222222222222222,\"#7201a8\"],[0.3333333333333333,\"#9c179e\"],[0.4444444444444444,\"#bd3786\"],[0.5555555555555556,\"#d8576b\"],[0.6666666666666666,\"#ed7953\"],[0.7777777777777778,\"#fb9f3a\"],[0.8888888888888888,\"#fdca26\"],[1.0,\"#f0f921\"]]}],\"choropleth\":[{\"type\":\"choropleth\",\"colorbar\":{\"outlinewidth\":0,\"ticks\":\"\"}}],\"histogram2d\":[{\"type\":\"histogram2d\",\"colorbar\":{\"outlinewidth\":0,\"ticks\":\"\"},\"colorscale\":[[0.0,\"#0d0887\"],[0.1111111111111111,\"#46039f\"],[0.2222222222222222,\"#7201a8\"],[0.3333333333333333,\"#9c179e\"],[0.4444444444444444,\"#bd3786\"],[0.5555555555555556,\"#d8576b\"],[0.6666666666666666,\"#ed7953\"],[0.7777777777777778,\"#fb9f3a\"],[0.8888888888888888,\"#fdca26\"],[1.0,\"#f0f921\"]]}],\"heatmap\":[{\"type\":\"heatmap\",\"colorbar\":{\"outlinewidth\":0,\"ticks\":\"\"},\"colorscale\":[[0.0,\"#0d0887\"],[0.1111111111111111,\"#46039f\"],[0.2222222222222222,\"#7201a8\"],[0.3333333333333333,\"#9c179e\"],[0.4444444444444444,\"#bd3786\"],[0.5555555555555556,\"#d8576b\"],[0.6666666666666666,\"#ed7953\"],[0.7777777777777778,\"#fb9f3a\"],[0.8888888888888888,\"#fdca26\"],[1.0,\"#f0f921\"]]}],\"heatmapgl\":[{\"type\":\"heatmapgl\",\"colorbar\":{\"outlinewidth\":0,\"ticks\":\"\"},\"colorscale\":[[0.0,\"#0d0887\"],[0.1111111111111111,\"#46039f\"],[0.2222222222222222,\"#7201a8\"],[0.3333333333333333,\"#9c179e\"],[0.4444444444444444,\"#bd3786\"],[0.5555555555555556,\"#d8576b\"],[0.6666666666666666,\"#ed7953\"],[0.7777777777777778,\"#fb9f3a\"],[0.8888888888888888,\"#fdca26\"],[1.0,\"#f0f921\"]]}],\"contourcarpet\":[{\"type\":\"contourcarpet\",\"colorbar\":{\"outlinewidth\":0,\"ticks\":\"\"}}],\"contour\":[{\"type\":\"contour\",\"colorbar\":{\"outlinewidth\":0,\"ticks\":\"\"},\"colorscale\":[[0.0,\"#0d0887\"],[0.1111111111111111,\"#46039f\"],[0.2222222222222222,\"#7201a8\"],[0.3333333333333333,\"#9c179e\"],[0.4444444444444444,\"#bd3786\"],[0.5555555555555556,\"#d8576b\"],[0.6666666666666666,\"#ed7953\"],[0.7777777777777778,\"#fb9f3a\"],[0.8888888888888888,\"#fdca26\"],[1.0,\"#f0f921\"]]}],\"surface\":[{\"type\":\"surface\",\"colorbar\":{\"outlinewidth\":0,\"ticks\":\"\"},\"colorscale\":[[0.0,\"#0d0887\"],[0.1111111111111111,\"#46039f\"],[0.2222222222222222,\"#7201a8\"],[0.3333333333333333,\"#9c179e\"],[0.4444444444444444,\"#bd3786\"],[0.5555555555555556,\"#d8576b\"],[0.6666666666666666,\"#ed7953\"],[0.7777777777777778,\"#fb9f3a\"],[0.8888888888888888,\"#fdca26\"],[1.0,\"#f0f921\"]]}],\"mesh3d\":[{\"type\":\"mesh3d\",\"colorbar\":{\"outlinewidth\":0,\"ticks\":\"\"}}],\"scatter\":[{\"fillpattern\":{\"fillmode\":\"overlay\",\"size\":10,\"solidity\":0.2},\"type\":\"scatter\"}],\"parcoords\":[{\"type\":\"parcoords\",\"line\":{\"colorbar\":{\"outlinewidth\":0,\"ticks\":\"\"}}}],\"scatterpolargl\":[{\"type\":\"scatterpolargl\",\"marker\":{\"colorbar\":{\"outlinewidth\":0,\"ticks\":\"\"}}}],\"bar\":[{\"error_x\":{\"color\":\"#2a3f5f\"},\"error_y\":{\"color\":\"#2a3f5f\"},\"marker\":{\"line\":{\"color\":\"white\",\"width\":0.5},\"pattern\":{\"fillmode\":\"overlay\",\"size\":10,\"solidity\":0.2}},\"type\":\"bar\"}],\"scattergeo\":[{\"type\":\"scattergeo\",\"marker\":{\"colorbar\":{\"outlinewidth\":0,\"ticks\":\"\"}}}],\"scatterpolar\":[{\"type\":\"scatterpolar\",\"marker\":{\"colorbar\":{\"outlinewidth\":0,\"ticks\":\"\"}}}],\"histogram\":[{\"marker\":{\"pattern\":{\"fillmode\":\"overlay\",\"size\":10,\"solidity\":0.2}},\"type\":\"histogram\"}],\"scattergl\":[{\"type\":\"scattergl\",\"marker\":{\"colorbar\":{\"outlinewidth\":0,\"ticks\":\"\"}}}],\"scatter3d\":[{\"type\":\"scatter3d\",\"line\":{\"colorbar\":{\"outlinewidth\":0,\"ticks\":\"\"}},\"marker\":{\"colorbar\":{\"outlinewidth\":0,\"ticks\":\"\"}}}],\"scattermapbox\":[{\"type\":\"scattermapbox\",\"marker\":{\"colorbar\":{\"outlinewidth\":0,\"ticks\":\"\"}}}],\"scatterternary\":[{\"type\":\"scatterternary\",\"marker\":{\"colorbar\":{\"outlinewidth\":0,\"ticks\":\"\"}}}],\"scattercarpet\":[{\"type\":\"scattercarpet\",\"marker\":{\"colorbar\":{\"outlinewidth\":0,\"ticks\":\"\"}}}],\"carpet\":[{\"aaxis\":{\"endlinecolor\":\"#2a3f5f\",\"gridcolor\":\"#C8D4E3\",\"linecolor\":\"#C8D4E3\",\"minorgridcolor\":\"#C8D4E3\",\"startlinecolor\":\"#2a3f5f\"},\"baxis\":{\"endlinecolor\":\"#2a3f5f\",\"gridcolor\":\"#C8D4E3\",\"linecolor\":\"#C8D4E3\",\"minorgridcolor\":\"#C8D4E3\",\"startlinecolor\":\"#2a3f5f\"},\"type\":\"carpet\"}],\"table\":[{\"cells\":{\"fill\":{\"color\":\"#EBF0F8\"},\"line\":{\"color\":\"white\"}},\"header\":{\"fill\":{\"color\":\"#C8D4E3\"},\"line\":{\"color\":\"white\"}},\"type\":\"table\"}],\"barpolar\":[{\"marker\":{\"line\":{\"color\":\"white\",\"width\":0.5},\"pattern\":{\"fillmode\":\"overlay\",\"size\":10,\"solidity\":0.2}},\"type\":\"barpolar\"}],\"pie\":[{\"automargin\":true,\"type\":\"pie\"}]},\"layout\":{\"autotypenumbers\":\"strict\",\"colorway\":[\"#636efa\",\"#EF553B\",\"#00cc96\",\"#ab63fa\",\"#FFA15A\",\"#19d3f3\",\"#FF6692\",\"#B6E880\",\"#FF97FF\",\"#FECB52\"],\"font\":{\"color\":\"#2a3f5f\"},\"hovermode\":\"closest\",\"hoverlabel\":{\"align\":\"left\"},\"paper_bgcolor\":\"white\",\"plot_bgcolor\":\"white\",\"polar\":{\"bgcolor\":\"white\",\"angularaxis\":{\"gridcolor\":\"#EBF0F8\",\"linecolor\":\"#EBF0F8\",\"ticks\":\"\"},\"radialaxis\":{\"gridcolor\":\"#EBF0F8\",\"linecolor\":\"#EBF0F8\",\"ticks\":\"\"}},\"ternary\":{\"bgcolor\":\"white\",\"aaxis\":{\"gridcolor\":\"#DFE8F3\",\"linecolor\":\"#A2B1C6\",\"ticks\":\"\"},\"baxis\":{\"gridcolor\":\"#DFE8F3\",\"linecolor\":\"#A2B1C6\",\"ticks\":\"\"},\"caxis\":{\"gridcolor\":\"#DFE8F3\",\"linecolor\":\"#A2B1C6\",\"ticks\":\"\"}},\"coloraxis\":{\"colorbar\":{\"outlinewidth\":0,\"ticks\":\"\"}},\"colorscale\":{\"sequential\":[[0.0,\"#0d0887\"],[0.1111111111111111,\"#46039f\"],[0.2222222222222222,\"#7201a8\"],[0.3333333333333333,\"#9c179e\"],[0.4444444444444444,\"#bd3786\"],[0.5555555555555556,\"#d8576b\"],[0.6666666666666666,\"#ed7953\"],[0.7777777777777778,\"#fb9f3a\"],[0.8888888888888888,\"#fdca26\"],[1.0,\"#f0f921\"]],\"sequentialminus\":[[0.0,\"#0d0887\"],[0.1111111111111111,\"#46039f\"],[0.2222222222222222,\"#7201a8\"],[0.3333333333333333,\"#9c179e\"],[0.4444444444444444,\"#bd3786\"],[0.5555555555555556,\"#d8576b\"],[0.6666666666666666,\"#ed7953\"],[0.7777777777777778,\"#fb9f3a\"],[0.8888888888888888,\"#fdca26\"],[1.0,\"#f0f921\"]],\"diverging\":[[0,\"#8e0152\"],[0.1,\"#c51b7d\"],[0.2,\"#de77ae\"],[0.3,\"#f1b6da\"],[0.4,\"#fde0ef\"],[0.5,\"#f7f7f7\"],[0.6,\"#e6f5d0\"],[0.7,\"#b8e186\"],[0.8,\"#7fbc41\"],[0.9,\"#4d9221\"],[1,\"#276419\"]]},\"xaxis\":{\"gridcolor\":\"#EBF0F8\",\"linecolor\":\"#EBF0F8\",\"ticks\":\"\",\"title\":{\"standoff\":15},\"zerolinecolor\":\"#EBF0F8\",\"automargin\":true,\"zerolinewidth\":2},\"yaxis\":{\"gridcolor\":\"#EBF0F8\",\"linecolor\":\"#EBF0F8\",\"ticks\":\"\",\"title\":{\"standoff\":15},\"zerolinecolor\":\"#EBF0F8\",\"automargin\":true,\"zerolinewidth\":2},\"scene\":{\"xaxis\":{\"backgroundcolor\":\"white\",\"gridcolor\":\"#DFE8F3\",\"linecolor\":\"#EBF0F8\",\"showbackground\":true,\"ticks\":\"\",\"zerolinecolor\":\"#EBF0F8\",\"gridwidth\":2},\"yaxis\":{\"backgroundcolor\":\"white\",\"gridcolor\":\"#DFE8F3\",\"linecolor\":\"#EBF0F8\",\"showbackground\":true,\"ticks\":\"\",\"zerolinecolor\":\"#EBF0F8\",\"gridwidth\":2},\"zaxis\":{\"backgroundcolor\":\"white\",\"gridcolor\":\"#DFE8F3\",\"linecolor\":\"#EBF0F8\",\"showbackground\":true,\"ticks\":\"\",\"zerolinecolor\":\"#EBF0F8\",\"gridwidth\":2}},\"shapedefaults\":{\"line\":{\"color\":\"#2a3f5f\"}},\"annotationdefaults\":{\"arrowcolor\":\"#2a3f5f\",\"arrowhead\":0,\"arrowwidth\":1},\"geo\":{\"bgcolor\":\"white\",\"landcolor\":\"white\",\"subunitcolor\":\"#C8D4E3\",\"showland\":true,\"showlakes\":true,\"lakecolor\":\"white\"},\"title\":{\"x\":0.05},\"mapbox\":{\"style\":\"light\"}}},\"title\":{\"text\":\"Probe Genomic Intervals (Targets + Fiducials)\"},\"xaxis\":{\"title\":{\"text\":\"Genomic Position\"}},\"yaxis\":{\"title\":{\"text\":\"Probe Index\"}},\"height\":800,\"width\":800},                        {\"responsive\": true}                    ).then(function(){\n",
       "                            \n",
       "var gd = document.getElementById('5b0768bd-a47d-4a86-912c-e51a9aaa11d2');\n",
       "var x = new MutationObserver(function (mutations, observer) {{\n",
       "        var display = window.getComputedStyle(gd).display;\n",
       "        if (!display || display === 'none') {{\n",
       "            console.log([gd, 'removed!']);\n",
       "            Plotly.purge(gd);\n",
       "            observer.disconnect();\n",
       "        }}\n",
       "}});\n",
       "\n",
       "// Listen for the removal of the full notebook cells\n",
       "var notebookContainer = gd.closest('#notebook-container');\n",
       "if (notebookContainer) {{\n",
       "    x.observe(notebookContainer, {childList: true});\n",
       "}}\n",
       "\n",
       "// Listen for the clearing of the current output cell\n",
       "var outputEl = gd.closest('.output');\n",
       "if (outputEl) {{\n",
       "    x.observe(outputEl, {childList: true});\n",
       "}}\n",
       "\n",
       "                        })                };                });            </script>        </div>"
      ]
     },
     "metadata": {},
     "output_type": "display_data"
    },
    {
     "data": {
      "application/vnd.plotly.v1+json": {
       "config": {
        "plotlyServerURL": "https://plot.ly"
       },
       "data": [
        {
         "alignmentgroup": "True",
         "hovertemplate": "Locus Transition=%{x}<br>Distance (bp)=%{y}<extra></extra>",
         "legendgroup": "",
         "marker": {
          "color": "#636efa",
          "pattern": {
           "shape": ""
          }
         },
         "name": "",
         "offsetgroup": "",
         "orientation": "v",
         "showlegend": false,
         "textposition": "auto",
         "type": "bar",
         "x": [
          "rex-32 → rex-23",
          "rex-1 → rex-34",
          "rex-39 → rex-46",
          "rex-47 → rex-26",
          "rex-33 → rex-24",
          "P-rex-14 → P-rex-15",
          "rex-37 → rex-47",
          "P-rex-21 → nDCC-16",
          "nDCC-23 → rex-42",
          "rex-2/nDCC-9 → nDCC-10",
          "P-rex-26 → P-rex-27",
          "rex-34 → rex-38",
          "rex-16 → rex-6",
          "rex-40 → P-rex-2",
          "rex-4 → rex-36",
          "rex-17 → rex-25",
          "nDCC-22 → rex-35",
          "rex-29 → rex-8",
          "rex-25 → P-rex-16",
          "nDCC-20 → P-rex-30",
          "rex-42 → chrIV_fiducial2",
          "chrIII_fiducial3 → rex-33",
          "nDCC-1 → nDCC-2",
          "rex-48 → rex-39",
          "P-rex-20 → rex-31",
          "rex-26 → rex-27",
          "rex-8 → rex-3",
          "nDCC-10 → nDCC-11",
          "chrIV_fiducial1 → chrX_non_rex_fiducial1",
          "nDCC-11 → P-rex-11",
          "P-rex-11 → rex-32",
          "rex-23 → rex-1",
          "rex-20 → nDCC-7",
          "rex-31 → P-rex-21",
          "rex-24 → P-rex-14",
          "chrIII_fiducial2 → P-rex-25",
          "P-rex-30 → P-rex-31/nDCC-21",
          "rex-38 → chrIV_fiducial3",
          "rex-19 → P-rex-7",
          "P-rex-31/nDCC-21 → nDCC-22",
          "rex-3 → rex-5",
          "chrX_non_rex_fiducial1 → P-rex-1",
          "P-rex-25 → P-rex-26",
          "P-rex-22 → nDCC-18",
          "rex-6 → P-rex-20",
          "rex-28 → rex-29",
          "P-rex-1 → nDCC-1",
          "P-rex-2 → P-rex-3",
          "P-rex-16 → rex-37",
          "nDCC-17 → P-rex-22",
          "rex-43 → chrIII_fiducial2",
          "nDCC-18 → nDCC-19",
          "P-rex-7 → rex-20",
          "nDCC-5/nDCC-6 → rex-19",
          "chrIV_fiducial2 → rex-41",
          "P-rex-6/nDCC-4 → nDCC-5/nDCC-6",
          "chrIII_fiducial1 → chrIV_fiducial1",
          "rex-5 → rex-4",
          "rex-27 → rex-28",
          "P-rex-27 → rex-48",
          "rex-45 → rex-18",
          "nDCC-19 → P-rex-23",
          "rex-36 → rex-7",
          "nDCC-2 → rex-40",
          "nDCC-7 → nDCC-8",
          "P-rex-3 → rex-44",
          "rex-21 → rex-2/nDCC-9",
          "P-rex-15 → rex-14",
          "rex-44 → nDCC-3",
          "rex-35 → nDCC-23",
          "rex-7 → rex-16",
          "rex-14 → rex-17",
          "nDCC-8 → rex-21",
          "nDCC-3 → rex-45",
          "nDCC-16 → nDCC-17",
          "rex-18 → P-rex-6/nDCC-4",
          "P-rex-23 → rex-43",
          "chrIV_fiducial3 → chrIII_fiducial3",
          "chrIV_fiducial3 → chrIII_fiducial3",
          "rex-46 → nDCC-20",
          "chrIV_fiducial3 → chrIII_fiducial3",
          "chrIV_fiducial3 → chrIII_fiducial3",
          "chrIV_fiducial3 → chrIII_fiducial3",
          "chrIII_fiducial3 → chrIV_fiducial3",
          "chrIII_fiducial3 → chrIV_fiducial3",
          "chrIII_fiducial3 → chrIV_fiducial3"
         ],
         "xaxis": "x",
         "y": [
          1205366.0,
          1027205.0,
          917425.0,
          882348.0,
          878929.0,
          679769.0,
          649077.0,
          539175.0,
          480648.0,
          449629.0,
          448243.0,
          424492.0,
          419791.0,
          410392.0,
          371126.0,
          349815.0,
          348773.0,
          332336.0,
          326999.0,
          308106.0,
          301557.0,
          289429.0,
          289353.0,
          280918.0,
          272006.0,
          263757.0,
          261238.0,
          243484.0,
          227344.0,
          190994.0,
          182998.0,
          179618.0,
          169829.0,
          153904.0,
          146745.0,
          142125.0,
          141956.0,
          137113.0,
          128036.0,
          117877.0,
          105422.0,
          100755.0,
          100450.0,
          85063.0,
          83377.0,
          82471.0,
          73834.0,
          71586.0,
          68466.0,
          66370.0,
          64970.0,
          54522.0,
          49167.0,
          48593.0,
          46699.0,
          45739.0,
          44267.0,
          43868.0,
          38441.0,
          38348.0,
          29432.0,
          25004.0,
          19161.0,
          15176.0,
          14001.0,
          13875.0,
          13022.0,
          10616.0,
          10040.0,
          7521.0,
          7418.0,
          6813.0,
          6088.0,
          3176.0,
          1400.0,
          1121.0,
          447.0,
          111.0,
          111.0,
          54.0,
          52.0,
          27.0,
          19.0,
          16.0,
          4.0,
          3.0
         ],
         "yaxis": "y"
        }
       ],
       "layout": {
        "barmode": "relative",
        "height": 600,
        "legend": {
         "tracegroupgap": 0
        },
        "template": {
         "data": {
          "bar": [
           {
            "error_x": {
             "color": "#2a3f5f"
            },
            "error_y": {
             "color": "#2a3f5f"
            },
            "marker": {
             "line": {
              "color": "white",
              "width": 0.5
             },
             "pattern": {
              "fillmode": "overlay",
              "size": 10,
              "solidity": 0.2
             }
            },
            "type": "bar"
           }
          ],
          "barpolar": [
           {
            "marker": {
             "line": {
              "color": "white",
              "width": 0.5
             },
             "pattern": {
              "fillmode": "overlay",
              "size": 10,
              "solidity": 0.2
             }
            },
            "type": "barpolar"
           }
          ],
          "carpet": [
           {
            "aaxis": {
             "endlinecolor": "#2a3f5f",
             "gridcolor": "#C8D4E3",
             "linecolor": "#C8D4E3",
             "minorgridcolor": "#C8D4E3",
             "startlinecolor": "#2a3f5f"
            },
            "baxis": {
             "endlinecolor": "#2a3f5f",
             "gridcolor": "#C8D4E3",
             "linecolor": "#C8D4E3",
             "minorgridcolor": "#C8D4E3",
             "startlinecolor": "#2a3f5f"
            },
            "type": "carpet"
           }
          ],
          "choropleth": [
           {
            "colorbar": {
             "outlinewidth": 0,
             "ticks": ""
            },
            "type": "choropleth"
           }
          ],
          "contour": [
           {
            "colorbar": {
             "outlinewidth": 0,
             "ticks": ""
            },
            "colorscale": [
             [
              0.0,
              "#0d0887"
             ],
             [
              0.1111111111111111,
              "#46039f"
             ],
             [
              0.2222222222222222,
              "#7201a8"
             ],
             [
              0.3333333333333333,
              "#9c179e"
             ],
             [
              0.4444444444444444,
              "#bd3786"
             ],
             [
              0.5555555555555556,
              "#d8576b"
             ],
             [
              0.6666666666666666,
              "#ed7953"
             ],
             [
              0.7777777777777778,
              "#fb9f3a"
             ],
             [
              0.8888888888888888,
              "#fdca26"
             ],
             [
              1.0,
              "#f0f921"
             ]
            ],
            "type": "contour"
           }
          ],
          "contourcarpet": [
           {
            "colorbar": {
             "outlinewidth": 0,
             "ticks": ""
            },
            "type": "contourcarpet"
           }
          ],
          "heatmap": [
           {
            "colorbar": {
             "outlinewidth": 0,
             "ticks": ""
            },
            "colorscale": [
             [
              0.0,
              "#0d0887"
             ],
             [
              0.1111111111111111,
              "#46039f"
             ],
             [
              0.2222222222222222,
              "#7201a8"
             ],
             [
              0.3333333333333333,
              "#9c179e"
             ],
             [
              0.4444444444444444,
              "#bd3786"
             ],
             [
              0.5555555555555556,
              "#d8576b"
             ],
             [
              0.6666666666666666,
              "#ed7953"
             ],
             [
              0.7777777777777778,
              "#fb9f3a"
             ],
             [
              0.8888888888888888,
              "#fdca26"
             ],
             [
              1.0,
              "#f0f921"
             ]
            ],
            "type": "heatmap"
           }
          ],
          "heatmapgl": [
           {
            "colorbar": {
             "outlinewidth": 0,
             "ticks": ""
            },
            "colorscale": [
             [
              0.0,
              "#0d0887"
             ],
             [
              0.1111111111111111,
              "#46039f"
             ],
             [
              0.2222222222222222,
              "#7201a8"
             ],
             [
              0.3333333333333333,
              "#9c179e"
             ],
             [
              0.4444444444444444,
              "#bd3786"
             ],
             [
              0.5555555555555556,
              "#d8576b"
             ],
             [
              0.6666666666666666,
              "#ed7953"
             ],
             [
              0.7777777777777778,
              "#fb9f3a"
             ],
             [
              0.8888888888888888,
              "#fdca26"
             ],
             [
              1.0,
              "#f0f921"
             ]
            ],
            "type": "heatmapgl"
           }
          ],
          "histogram": [
           {
            "marker": {
             "pattern": {
              "fillmode": "overlay",
              "size": 10,
              "solidity": 0.2
             }
            },
            "type": "histogram"
           }
          ],
          "histogram2d": [
           {
            "colorbar": {
             "outlinewidth": 0,
             "ticks": ""
            },
            "colorscale": [
             [
              0.0,
              "#0d0887"
             ],
             [
              0.1111111111111111,
              "#46039f"
             ],
             [
              0.2222222222222222,
              "#7201a8"
             ],
             [
              0.3333333333333333,
              "#9c179e"
             ],
             [
              0.4444444444444444,
              "#bd3786"
             ],
             [
              0.5555555555555556,
              "#d8576b"
             ],
             [
              0.6666666666666666,
              "#ed7953"
             ],
             [
              0.7777777777777778,
              "#fb9f3a"
             ],
             [
              0.8888888888888888,
              "#fdca26"
             ],
             [
              1.0,
              "#f0f921"
             ]
            ],
            "type": "histogram2d"
           }
          ],
          "histogram2dcontour": [
           {
            "colorbar": {
             "outlinewidth": 0,
             "ticks": ""
            },
            "colorscale": [
             [
              0.0,
              "#0d0887"
             ],
             [
              0.1111111111111111,
              "#46039f"
             ],
             [
              0.2222222222222222,
              "#7201a8"
             ],
             [
              0.3333333333333333,
              "#9c179e"
             ],
             [
              0.4444444444444444,
              "#bd3786"
             ],
             [
              0.5555555555555556,
              "#d8576b"
             ],
             [
              0.6666666666666666,
              "#ed7953"
             ],
             [
              0.7777777777777778,
              "#fb9f3a"
             ],
             [
              0.8888888888888888,
              "#fdca26"
             ],
             [
              1.0,
              "#f0f921"
             ]
            ],
            "type": "histogram2dcontour"
           }
          ],
          "mesh3d": [
           {
            "colorbar": {
             "outlinewidth": 0,
             "ticks": ""
            },
            "type": "mesh3d"
           }
          ],
          "parcoords": [
           {
            "line": {
             "colorbar": {
              "outlinewidth": 0,
              "ticks": ""
             }
            },
            "type": "parcoords"
           }
          ],
          "pie": [
           {
            "automargin": true,
            "type": "pie"
           }
          ],
          "scatter": [
           {
            "fillpattern": {
             "fillmode": "overlay",
             "size": 10,
             "solidity": 0.2
            },
            "type": "scatter"
           }
          ],
          "scatter3d": [
           {
            "line": {
             "colorbar": {
              "outlinewidth": 0,
              "ticks": ""
             }
            },
            "marker": {
             "colorbar": {
              "outlinewidth": 0,
              "ticks": ""
             }
            },
            "type": "scatter3d"
           }
          ],
          "scattercarpet": [
           {
            "marker": {
             "colorbar": {
              "outlinewidth": 0,
              "ticks": ""
             }
            },
            "type": "scattercarpet"
           }
          ],
          "scattergeo": [
           {
            "marker": {
             "colorbar": {
              "outlinewidth": 0,
              "ticks": ""
             }
            },
            "type": "scattergeo"
           }
          ],
          "scattergl": [
           {
            "marker": {
             "colorbar": {
              "outlinewidth": 0,
              "ticks": ""
             }
            },
            "type": "scattergl"
           }
          ],
          "scattermapbox": [
           {
            "marker": {
             "colorbar": {
              "outlinewidth": 0,
              "ticks": ""
             }
            },
            "type": "scattermapbox"
           }
          ],
          "scatterpolar": [
           {
            "marker": {
             "colorbar": {
              "outlinewidth": 0,
              "ticks": ""
             }
            },
            "type": "scatterpolar"
           }
          ],
          "scatterpolargl": [
           {
            "marker": {
             "colorbar": {
              "outlinewidth": 0,
              "ticks": ""
             }
            },
            "type": "scatterpolargl"
           }
          ],
          "scatterternary": [
           {
            "marker": {
             "colorbar": {
              "outlinewidth": 0,
              "ticks": ""
             }
            },
            "type": "scatterternary"
           }
          ],
          "surface": [
           {
            "colorbar": {
             "outlinewidth": 0,
             "ticks": ""
            },
            "colorscale": [
             [
              0.0,
              "#0d0887"
             ],
             [
              0.1111111111111111,
              "#46039f"
             ],
             [
              0.2222222222222222,
              "#7201a8"
             ],
             [
              0.3333333333333333,
              "#9c179e"
             ],
             [
              0.4444444444444444,
              "#bd3786"
             ],
             [
              0.5555555555555556,
              "#d8576b"
             ],
             [
              0.6666666666666666,
              "#ed7953"
             ],
             [
              0.7777777777777778,
              "#fb9f3a"
             ],
             [
              0.8888888888888888,
              "#fdca26"
             ],
             [
              1.0,
              "#f0f921"
             ]
            ],
            "type": "surface"
           }
          ],
          "table": [
           {
            "cells": {
             "fill": {
              "color": "#EBF0F8"
             },
             "line": {
              "color": "white"
             }
            },
            "header": {
             "fill": {
              "color": "#C8D4E3"
             },
             "line": {
              "color": "white"
             }
            },
            "type": "table"
           }
          ]
         },
         "layout": {
          "annotationdefaults": {
           "arrowcolor": "#2a3f5f",
           "arrowhead": 0,
           "arrowwidth": 1
          },
          "autotypenumbers": "strict",
          "coloraxis": {
           "colorbar": {
            "outlinewidth": 0,
            "ticks": ""
           }
          },
          "colorscale": {
           "diverging": [
            [
             0,
             "#8e0152"
            ],
            [
             0.1,
             "#c51b7d"
            ],
            [
             0.2,
             "#de77ae"
            ],
            [
             0.3,
             "#f1b6da"
            ],
            [
             0.4,
             "#fde0ef"
            ],
            [
             0.5,
             "#f7f7f7"
            ],
            [
             0.6,
             "#e6f5d0"
            ],
            [
             0.7,
             "#b8e186"
            ],
            [
             0.8,
             "#7fbc41"
            ],
            [
             0.9,
             "#4d9221"
            ],
            [
             1,
             "#276419"
            ]
           ],
           "sequential": [
            [
             0.0,
             "#0d0887"
            ],
            [
             0.1111111111111111,
             "#46039f"
            ],
            [
             0.2222222222222222,
             "#7201a8"
            ],
            [
             0.3333333333333333,
             "#9c179e"
            ],
            [
             0.4444444444444444,
             "#bd3786"
            ],
            [
             0.5555555555555556,
             "#d8576b"
            ],
            [
             0.6666666666666666,
             "#ed7953"
            ],
            [
             0.7777777777777778,
             "#fb9f3a"
            ],
            [
             0.8888888888888888,
             "#fdca26"
            ],
            [
             1.0,
             "#f0f921"
            ]
           ],
           "sequentialminus": [
            [
             0.0,
             "#0d0887"
            ],
            [
             0.1111111111111111,
             "#46039f"
            ],
            [
             0.2222222222222222,
             "#7201a8"
            ],
            [
             0.3333333333333333,
             "#9c179e"
            ],
            [
             0.4444444444444444,
             "#bd3786"
            ],
            [
             0.5555555555555556,
             "#d8576b"
            ],
            [
             0.6666666666666666,
             "#ed7953"
            ],
            [
             0.7777777777777778,
             "#fb9f3a"
            ],
            [
             0.8888888888888888,
             "#fdca26"
            ],
            [
             1.0,
             "#f0f921"
            ]
           ]
          },
          "colorway": [
           "#636efa",
           "#EF553B",
           "#00cc96",
           "#ab63fa",
           "#FFA15A",
           "#19d3f3",
           "#FF6692",
           "#B6E880",
           "#FF97FF",
           "#FECB52"
          ],
          "font": {
           "color": "#2a3f5f"
          },
          "geo": {
           "bgcolor": "white",
           "lakecolor": "white",
           "landcolor": "white",
           "showlakes": true,
           "showland": true,
           "subunitcolor": "#C8D4E3"
          },
          "hoverlabel": {
           "align": "left"
          },
          "hovermode": "closest",
          "mapbox": {
           "style": "light"
          },
          "paper_bgcolor": "white",
          "plot_bgcolor": "white",
          "polar": {
           "angularaxis": {
            "gridcolor": "#EBF0F8",
            "linecolor": "#EBF0F8",
            "ticks": ""
           },
           "bgcolor": "white",
           "radialaxis": {
            "gridcolor": "#EBF0F8",
            "linecolor": "#EBF0F8",
            "ticks": ""
           }
          },
          "scene": {
           "xaxis": {
            "backgroundcolor": "white",
            "gridcolor": "#DFE8F3",
            "gridwidth": 2,
            "linecolor": "#EBF0F8",
            "showbackground": true,
            "ticks": "",
            "zerolinecolor": "#EBF0F8"
           },
           "yaxis": {
            "backgroundcolor": "white",
            "gridcolor": "#DFE8F3",
            "gridwidth": 2,
            "linecolor": "#EBF0F8",
            "showbackground": true,
            "ticks": "",
            "zerolinecolor": "#EBF0F8"
           },
           "zaxis": {
            "backgroundcolor": "white",
            "gridcolor": "#DFE8F3",
            "gridwidth": 2,
            "linecolor": "#EBF0F8",
            "showbackground": true,
            "ticks": "",
            "zerolinecolor": "#EBF0F8"
           }
          },
          "shapedefaults": {
           "line": {
            "color": "#2a3f5f"
           }
          },
          "ternary": {
           "aaxis": {
            "gridcolor": "#DFE8F3",
            "linecolor": "#A2B1C6",
            "ticks": ""
           },
           "baxis": {
            "gridcolor": "#DFE8F3",
            "linecolor": "#A2B1C6",
            "ticks": ""
           },
           "bgcolor": "white",
           "caxis": {
            "gridcolor": "#DFE8F3",
            "linecolor": "#A2B1C6",
            "ticks": ""
           }
          },
          "title": {
           "x": 0.05
          },
          "xaxis": {
           "automargin": true,
           "gridcolor": "#EBF0F8",
           "linecolor": "#EBF0F8",
           "ticks": "",
           "title": {
            "standoff": 15
           },
           "zerolinecolor": "#EBF0F8",
           "zerolinewidth": 2
          },
          "yaxis": {
           "automargin": true,
           "gridcolor": "#EBF0F8",
           "linecolor": "#EBF0F8",
           "ticks": "",
           "title": {
            "standoff": 15
           },
           "zerolinecolor": "#EBF0F8",
           "zerolinewidth": 2
          }
         }
        },
        "title": {
         "text": "Sorted Distance Between Consecutive Loci (Including Fiducials)"
        },
        "width": 1200,
        "xaxis": {
         "anchor": "y",
         "domain": [
          0.0,
          1.0
         ],
         "tickangle": 45,
         "title": {
          "text": "Locus Transition"
         }
        },
        "yaxis": {
         "anchor": "x",
         "domain": [
          0.0,
          1.0
         ],
         "title": {
          "text": "Distance (bp)"
         }
        }
       }
      },
      "text/html": [
       "<div>                            <div id=\"3de15a8d-788e-46e4-aa3c-2c5640c25524\" class=\"plotly-graph-div\" style=\"height:600px; width:1200px;\"></div>            <script type=\"text/javascript\">                require([\"plotly\"], function(Plotly) {                    window.PLOTLYENV=window.PLOTLYENV || {};                                    if (document.getElementById(\"3de15a8d-788e-46e4-aa3c-2c5640c25524\")) {                    Plotly.newPlot(                        \"3de15a8d-788e-46e4-aa3c-2c5640c25524\",                        [{\"alignmentgroup\":\"True\",\"hovertemplate\":\"Locus Transition=%{x}\\u003cbr\\u003eDistance (bp)=%{y}\\u003cextra\\u003e\\u003c\\u002fextra\\u003e\",\"legendgroup\":\"\",\"marker\":{\"color\":\"#636efa\",\"pattern\":{\"shape\":\"\"}},\"name\":\"\",\"offsetgroup\":\"\",\"orientation\":\"v\",\"showlegend\":false,\"textposition\":\"auto\",\"x\":[\"rex-32 \\u2192 rex-23\",\"rex-1 \\u2192 rex-34\",\"rex-39 \\u2192 rex-46\",\"rex-47 \\u2192 rex-26\",\"rex-33 \\u2192 rex-24\",\"P-rex-14 \\u2192 P-rex-15\",\"rex-37 \\u2192 rex-47\",\"P-rex-21 \\u2192 nDCC-16\",\"nDCC-23 \\u2192 rex-42\",\"rex-2\\u002fnDCC-9 \\u2192 nDCC-10\",\"P-rex-26 \\u2192 P-rex-27\",\"rex-34 \\u2192 rex-38\",\"rex-16 \\u2192 rex-6\",\"rex-40 \\u2192 P-rex-2\",\"rex-4 \\u2192 rex-36\",\"rex-17 \\u2192 rex-25\",\"nDCC-22 \\u2192 rex-35\",\"rex-29 \\u2192 rex-8\",\"rex-25 \\u2192 P-rex-16\",\"nDCC-20 \\u2192 P-rex-30\",\"rex-42 \\u2192 chrIV_fiducial2\",\"chrIII_fiducial3 \\u2192 rex-33\",\"nDCC-1 \\u2192 nDCC-2\",\"rex-48 \\u2192 rex-39\",\"P-rex-20 \\u2192 rex-31\",\"rex-26 \\u2192 rex-27\",\"rex-8 \\u2192 rex-3\",\"nDCC-10 \\u2192 nDCC-11\",\"chrIV_fiducial1 \\u2192 chrX_non_rex_fiducial1\",\"nDCC-11 \\u2192 P-rex-11\",\"P-rex-11 \\u2192 rex-32\",\"rex-23 \\u2192 rex-1\",\"rex-20 \\u2192 nDCC-7\",\"rex-31 \\u2192 P-rex-21\",\"rex-24 \\u2192 P-rex-14\",\"chrIII_fiducial2 \\u2192 P-rex-25\",\"P-rex-30 \\u2192 P-rex-31\\u002fnDCC-21\",\"rex-38 \\u2192 chrIV_fiducial3\",\"rex-19 \\u2192 P-rex-7\",\"P-rex-31\\u002fnDCC-21 \\u2192 nDCC-22\",\"rex-3 \\u2192 rex-5\",\"chrX_non_rex_fiducial1 \\u2192 P-rex-1\",\"P-rex-25 \\u2192 P-rex-26\",\"P-rex-22 \\u2192 nDCC-18\",\"rex-6 \\u2192 P-rex-20\",\"rex-28 \\u2192 rex-29\",\"P-rex-1 \\u2192 nDCC-1\",\"P-rex-2 \\u2192 P-rex-3\",\"P-rex-16 \\u2192 rex-37\",\"nDCC-17 \\u2192 P-rex-22\",\"rex-43 \\u2192 chrIII_fiducial2\",\"nDCC-18 \\u2192 nDCC-19\",\"P-rex-7 \\u2192 rex-20\",\"nDCC-5\\u002fnDCC-6 \\u2192 rex-19\",\"chrIV_fiducial2 \\u2192 rex-41\",\"P-rex-6\\u002fnDCC-4 \\u2192 nDCC-5\\u002fnDCC-6\",\"chrIII_fiducial1 \\u2192 chrIV_fiducial1\",\"rex-5 \\u2192 rex-4\",\"rex-27 \\u2192 rex-28\",\"P-rex-27 \\u2192 rex-48\",\"rex-45 \\u2192 rex-18\",\"nDCC-19 \\u2192 P-rex-23\",\"rex-36 \\u2192 rex-7\",\"nDCC-2 \\u2192 rex-40\",\"nDCC-7 \\u2192 nDCC-8\",\"P-rex-3 \\u2192 rex-44\",\"rex-21 \\u2192 rex-2\\u002fnDCC-9\",\"P-rex-15 \\u2192 rex-14\",\"rex-44 \\u2192 nDCC-3\",\"rex-35 \\u2192 nDCC-23\",\"rex-7 \\u2192 rex-16\",\"rex-14 \\u2192 rex-17\",\"nDCC-8 \\u2192 rex-21\",\"nDCC-3 \\u2192 rex-45\",\"nDCC-16 \\u2192 nDCC-17\",\"rex-18 \\u2192 P-rex-6\\u002fnDCC-4\",\"P-rex-23 \\u2192 rex-43\",\"chrIV_fiducial3 \\u2192 chrIII_fiducial3\",\"chrIV_fiducial3 \\u2192 chrIII_fiducial3\",\"rex-46 \\u2192 nDCC-20\",\"chrIV_fiducial3 \\u2192 chrIII_fiducial3\",\"chrIV_fiducial3 \\u2192 chrIII_fiducial3\",\"chrIV_fiducial3 \\u2192 chrIII_fiducial3\",\"chrIII_fiducial3 \\u2192 chrIV_fiducial3\",\"chrIII_fiducial3 \\u2192 chrIV_fiducial3\",\"chrIII_fiducial3 \\u2192 chrIV_fiducial3\"],\"xaxis\":\"x\",\"y\":[1205366.0,1027205.0,917425.0,882348.0,878929.0,679769.0,649077.0,539175.0,480648.0,449629.0,448243.0,424492.0,419791.0,410392.0,371126.0,349815.0,348773.0,332336.0,326999.0,308106.0,301557.0,289429.0,289353.0,280918.0,272006.0,263757.0,261238.0,243484.0,227344.0,190994.0,182998.0,179618.0,169829.0,153904.0,146745.0,142125.0,141956.0,137113.0,128036.0,117877.0,105422.0,100755.0,100450.0,85063.0,83377.0,82471.0,73834.0,71586.0,68466.0,66370.0,64970.0,54522.0,49167.0,48593.0,46699.0,45739.0,44267.0,43868.0,38441.0,38348.0,29432.0,25004.0,19161.0,15176.0,14001.0,13875.0,13022.0,10616.0,10040.0,7521.0,7418.0,6813.0,6088.0,3176.0,1400.0,1121.0,447.0,111.0,111.0,54.0,52.0,27.0,19.0,16.0,4.0,3.0],\"yaxis\":\"y\",\"type\":\"bar\"}],                        {\"template\":{\"data\":{\"histogram2dcontour\":[{\"type\":\"histogram2dcontour\",\"colorbar\":{\"outlinewidth\":0,\"ticks\":\"\"},\"colorscale\":[[0.0,\"#0d0887\"],[0.1111111111111111,\"#46039f\"],[0.2222222222222222,\"#7201a8\"],[0.3333333333333333,\"#9c179e\"],[0.4444444444444444,\"#bd3786\"],[0.5555555555555556,\"#d8576b\"],[0.6666666666666666,\"#ed7953\"],[0.7777777777777778,\"#fb9f3a\"],[0.8888888888888888,\"#fdca26\"],[1.0,\"#f0f921\"]]}],\"choropleth\":[{\"type\":\"choropleth\",\"colorbar\":{\"outlinewidth\":0,\"ticks\":\"\"}}],\"histogram2d\":[{\"type\":\"histogram2d\",\"colorbar\":{\"outlinewidth\":0,\"ticks\":\"\"},\"colorscale\":[[0.0,\"#0d0887\"],[0.1111111111111111,\"#46039f\"],[0.2222222222222222,\"#7201a8\"],[0.3333333333333333,\"#9c179e\"],[0.4444444444444444,\"#bd3786\"],[0.5555555555555556,\"#d8576b\"],[0.6666666666666666,\"#ed7953\"],[0.7777777777777778,\"#fb9f3a\"],[0.8888888888888888,\"#fdca26\"],[1.0,\"#f0f921\"]]}],\"heatmap\":[{\"type\":\"heatmap\",\"colorbar\":{\"outlinewidth\":0,\"ticks\":\"\"},\"colorscale\":[[0.0,\"#0d0887\"],[0.1111111111111111,\"#46039f\"],[0.2222222222222222,\"#7201a8\"],[0.3333333333333333,\"#9c179e\"],[0.4444444444444444,\"#bd3786\"],[0.5555555555555556,\"#d8576b\"],[0.6666666666666666,\"#ed7953\"],[0.7777777777777778,\"#fb9f3a\"],[0.8888888888888888,\"#fdca26\"],[1.0,\"#f0f921\"]]}],\"heatmapgl\":[{\"type\":\"heatmapgl\",\"colorbar\":{\"outlinewidth\":0,\"ticks\":\"\"},\"colorscale\":[[0.0,\"#0d0887\"],[0.1111111111111111,\"#46039f\"],[0.2222222222222222,\"#7201a8\"],[0.3333333333333333,\"#9c179e\"],[0.4444444444444444,\"#bd3786\"],[0.5555555555555556,\"#d8576b\"],[0.6666666666666666,\"#ed7953\"],[0.7777777777777778,\"#fb9f3a\"],[0.8888888888888888,\"#fdca26\"],[1.0,\"#f0f921\"]]}],\"contourcarpet\":[{\"type\":\"contourcarpet\",\"colorbar\":{\"outlinewidth\":0,\"ticks\":\"\"}}],\"contour\":[{\"type\":\"contour\",\"colorbar\":{\"outlinewidth\":0,\"ticks\":\"\"},\"colorscale\":[[0.0,\"#0d0887\"],[0.1111111111111111,\"#46039f\"],[0.2222222222222222,\"#7201a8\"],[0.3333333333333333,\"#9c179e\"],[0.4444444444444444,\"#bd3786\"],[0.5555555555555556,\"#d8576b\"],[0.6666666666666666,\"#ed7953\"],[0.7777777777777778,\"#fb9f3a\"],[0.8888888888888888,\"#fdca26\"],[1.0,\"#f0f921\"]]}],\"surface\":[{\"type\":\"surface\",\"colorbar\":{\"outlinewidth\":0,\"ticks\":\"\"},\"colorscale\":[[0.0,\"#0d0887\"],[0.1111111111111111,\"#46039f\"],[0.2222222222222222,\"#7201a8\"],[0.3333333333333333,\"#9c179e\"],[0.4444444444444444,\"#bd3786\"],[0.5555555555555556,\"#d8576b\"],[0.6666666666666666,\"#ed7953\"],[0.7777777777777778,\"#fb9f3a\"],[0.8888888888888888,\"#fdca26\"],[1.0,\"#f0f921\"]]}],\"mesh3d\":[{\"type\":\"mesh3d\",\"colorbar\":{\"outlinewidth\":0,\"ticks\":\"\"}}],\"scatter\":[{\"fillpattern\":{\"fillmode\":\"overlay\",\"size\":10,\"solidity\":0.2},\"type\":\"scatter\"}],\"parcoords\":[{\"type\":\"parcoords\",\"line\":{\"colorbar\":{\"outlinewidth\":0,\"ticks\":\"\"}}}],\"scatterpolargl\":[{\"type\":\"scatterpolargl\",\"marker\":{\"colorbar\":{\"outlinewidth\":0,\"ticks\":\"\"}}}],\"bar\":[{\"error_x\":{\"color\":\"#2a3f5f\"},\"error_y\":{\"color\":\"#2a3f5f\"},\"marker\":{\"line\":{\"color\":\"white\",\"width\":0.5},\"pattern\":{\"fillmode\":\"overlay\",\"size\":10,\"solidity\":0.2}},\"type\":\"bar\"}],\"scattergeo\":[{\"type\":\"scattergeo\",\"marker\":{\"colorbar\":{\"outlinewidth\":0,\"ticks\":\"\"}}}],\"scatterpolar\":[{\"type\":\"scatterpolar\",\"marker\":{\"colorbar\":{\"outlinewidth\":0,\"ticks\":\"\"}}}],\"histogram\":[{\"marker\":{\"pattern\":{\"fillmode\":\"overlay\",\"size\":10,\"solidity\":0.2}},\"type\":\"histogram\"}],\"scattergl\":[{\"type\":\"scattergl\",\"marker\":{\"colorbar\":{\"outlinewidth\":0,\"ticks\":\"\"}}}],\"scatter3d\":[{\"type\":\"scatter3d\",\"line\":{\"colorbar\":{\"outlinewidth\":0,\"ticks\":\"\"}},\"marker\":{\"colorbar\":{\"outlinewidth\":0,\"ticks\":\"\"}}}],\"scattermapbox\":[{\"type\":\"scattermapbox\",\"marker\":{\"colorbar\":{\"outlinewidth\":0,\"ticks\":\"\"}}}],\"scatterternary\":[{\"type\":\"scatterternary\",\"marker\":{\"colorbar\":{\"outlinewidth\":0,\"ticks\":\"\"}}}],\"scattercarpet\":[{\"type\":\"scattercarpet\",\"marker\":{\"colorbar\":{\"outlinewidth\":0,\"ticks\":\"\"}}}],\"carpet\":[{\"aaxis\":{\"endlinecolor\":\"#2a3f5f\",\"gridcolor\":\"#C8D4E3\",\"linecolor\":\"#C8D4E3\",\"minorgridcolor\":\"#C8D4E3\",\"startlinecolor\":\"#2a3f5f\"},\"baxis\":{\"endlinecolor\":\"#2a3f5f\",\"gridcolor\":\"#C8D4E3\",\"linecolor\":\"#C8D4E3\",\"minorgridcolor\":\"#C8D4E3\",\"startlinecolor\":\"#2a3f5f\"},\"type\":\"carpet\"}],\"table\":[{\"cells\":{\"fill\":{\"color\":\"#EBF0F8\"},\"line\":{\"color\":\"white\"}},\"header\":{\"fill\":{\"color\":\"#C8D4E3\"},\"line\":{\"color\":\"white\"}},\"type\":\"table\"}],\"barpolar\":[{\"marker\":{\"line\":{\"color\":\"white\",\"width\":0.5},\"pattern\":{\"fillmode\":\"overlay\",\"size\":10,\"solidity\":0.2}},\"type\":\"barpolar\"}],\"pie\":[{\"automargin\":true,\"type\":\"pie\"}]},\"layout\":{\"autotypenumbers\":\"strict\",\"colorway\":[\"#636efa\",\"#EF553B\",\"#00cc96\",\"#ab63fa\",\"#FFA15A\",\"#19d3f3\",\"#FF6692\",\"#B6E880\",\"#FF97FF\",\"#FECB52\"],\"font\":{\"color\":\"#2a3f5f\"},\"hovermode\":\"closest\",\"hoverlabel\":{\"align\":\"left\"},\"paper_bgcolor\":\"white\",\"plot_bgcolor\":\"white\",\"polar\":{\"bgcolor\":\"white\",\"angularaxis\":{\"gridcolor\":\"#EBF0F8\",\"linecolor\":\"#EBF0F8\",\"ticks\":\"\"},\"radialaxis\":{\"gridcolor\":\"#EBF0F8\",\"linecolor\":\"#EBF0F8\",\"ticks\":\"\"}},\"ternary\":{\"bgcolor\":\"white\",\"aaxis\":{\"gridcolor\":\"#DFE8F3\",\"linecolor\":\"#A2B1C6\",\"ticks\":\"\"},\"baxis\":{\"gridcolor\":\"#DFE8F3\",\"linecolor\":\"#A2B1C6\",\"ticks\":\"\"},\"caxis\":{\"gridcolor\":\"#DFE8F3\",\"linecolor\":\"#A2B1C6\",\"ticks\":\"\"}},\"coloraxis\":{\"colorbar\":{\"outlinewidth\":0,\"ticks\":\"\"}},\"colorscale\":{\"sequential\":[[0.0,\"#0d0887\"],[0.1111111111111111,\"#46039f\"],[0.2222222222222222,\"#7201a8\"],[0.3333333333333333,\"#9c179e\"],[0.4444444444444444,\"#bd3786\"],[0.5555555555555556,\"#d8576b\"],[0.6666666666666666,\"#ed7953\"],[0.7777777777777778,\"#fb9f3a\"],[0.8888888888888888,\"#fdca26\"],[1.0,\"#f0f921\"]],\"sequentialminus\":[[0.0,\"#0d0887\"],[0.1111111111111111,\"#46039f\"],[0.2222222222222222,\"#7201a8\"],[0.3333333333333333,\"#9c179e\"],[0.4444444444444444,\"#bd3786\"],[0.5555555555555556,\"#d8576b\"],[0.6666666666666666,\"#ed7953\"],[0.7777777777777778,\"#fb9f3a\"],[0.8888888888888888,\"#fdca26\"],[1.0,\"#f0f921\"]],\"diverging\":[[0,\"#8e0152\"],[0.1,\"#c51b7d\"],[0.2,\"#de77ae\"],[0.3,\"#f1b6da\"],[0.4,\"#fde0ef\"],[0.5,\"#f7f7f7\"],[0.6,\"#e6f5d0\"],[0.7,\"#b8e186\"],[0.8,\"#7fbc41\"],[0.9,\"#4d9221\"],[1,\"#276419\"]]},\"xaxis\":{\"gridcolor\":\"#EBF0F8\",\"linecolor\":\"#EBF0F8\",\"ticks\":\"\",\"title\":{\"standoff\":15},\"zerolinecolor\":\"#EBF0F8\",\"automargin\":true,\"zerolinewidth\":2},\"yaxis\":{\"gridcolor\":\"#EBF0F8\",\"linecolor\":\"#EBF0F8\",\"ticks\":\"\",\"title\":{\"standoff\":15},\"zerolinecolor\":\"#EBF0F8\",\"automargin\":true,\"zerolinewidth\":2},\"scene\":{\"xaxis\":{\"backgroundcolor\":\"white\",\"gridcolor\":\"#DFE8F3\",\"linecolor\":\"#EBF0F8\",\"showbackground\":true,\"ticks\":\"\",\"zerolinecolor\":\"#EBF0F8\",\"gridwidth\":2},\"yaxis\":{\"backgroundcolor\":\"white\",\"gridcolor\":\"#DFE8F3\",\"linecolor\":\"#EBF0F8\",\"showbackground\":true,\"ticks\":\"\",\"zerolinecolor\":\"#EBF0F8\",\"gridwidth\":2},\"zaxis\":{\"backgroundcolor\":\"white\",\"gridcolor\":\"#DFE8F3\",\"linecolor\":\"#EBF0F8\",\"showbackground\":true,\"ticks\":\"\",\"zerolinecolor\":\"#EBF0F8\",\"gridwidth\":2}},\"shapedefaults\":{\"line\":{\"color\":\"#2a3f5f\"}},\"annotationdefaults\":{\"arrowcolor\":\"#2a3f5f\",\"arrowhead\":0,\"arrowwidth\":1},\"geo\":{\"bgcolor\":\"white\",\"landcolor\":\"white\",\"subunitcolor\":\"#C8D4E3\",\"showland\":true,\"showlakes\":true,\"lakecolor\":\"white\"},\"title\":{\"x\":0.05},\"mapbox\":{\"style\":\"light\"}}},\"xaxis\":{\"anchor\":\"y\",\"domain\":[0.0,1.0],\"title\":{\"text\":\"Locus Transition\"},\"tickangle\":45},\"yaxis\":{\"anchor\":\"x\",\"domain\":[0.0,1.0],\"title\":{\"text\":\"Distance (bp)\"}},\"legend\":{\"tracegroupgap\":0},\"title\":{\"text\":\"Sorted Distance Between Consecutive Loci (Including Fiducials)\"},\"barmode\":\"relative\",\"height\":600,\"width\":1200},                        {\"responsive\": true}                    ).then(function(){\n",
       "                            \n",
       "var gd = document.getElementById('3de15a8d-788e-46e4-aa3c-2c5640c25524');\n",
       "var x = new MutationObserver(function (mutations, observer) {{\n",
       "        var display = window.getComputedStyle(gd).display;\n",
       "        if (!display || display === 'none') {{\n",
       "            console.log([gd, 'removed!']);\n",
       "            Plotly.purge(gd);\n",
       "            observer.disconnect();\n",
       "        }}\n",
       "}});\n",
       "\n",
       "// Listen for the removal of the full notebook cells\n",
       "var notebookContainer = gd.closest('#notebook-container');\n",
       "if (notebookContainer) {{\n",
       "    x.observe(notebookContainer, {childList: true});\n",
       "}}\n",
       "\n",
       "// Listen for the clearing of the current output cell\n",
       "var outputEl = gd.closest('.output');\n",
       "if (outputEl) {{\n",
       "    x.observe(outputEl, {childList: true});\n",
       "}}\n",
       "\n",
       "                        })                };                });            </script>        </div>"
      ]
     },
     "metadata": {},
     "output_type": "display_data"
    }
   ],
   "source": [
    "# 2. Paths & User‑Configurable Parameters\n",
    "# ------------------------------------------------------------------------------\n",
    "BASE_DIR   = \"/Data1/git/oligopaint-mrna-intron-matching\"\n",
    "INPUT_DIR  = os.path.join(BASE_DIR, \"inputs\",  \"probes\", \"ORCA\")\n",
    "OUTPUT_DIR = os.path.join(BASE_DIR, \"outputs\", \"ORCA\")\n",
    "\n",
    "for sub in (\"green\", \"red\"):\n",
    "    os.makedirs(os.path.join(OUTPUT_DIR, sub), exist_ok=True)\n",
    "\n",
    "# ---------------- Experimental constants --------------------------------------\n",
    "N_BITS             = 16\n",
    "WEIGHT             = 4\n",
    "MIN_DIST           = 4\n",
    "MAX_ROUND_ACTIVITY = 15\n",
    "N_TOTAL            = 73\n",
    "N_PER_CHANNEL      = 36\n",
    "SEED               = 42\n",
    "\n",
    "FW_PRIMER = \"ATCCGTTAGGGCGCAAAGGTG\"\n",
    "REV_PRIMER = \"GAGTCTCGCAATCCGAACCAT\"\n",
    "\n",
    "np.random.seed(SEED)\n",
    "random.seed(SEED)\n",
    "logger.info(\"Random seed set to %d\", SEED)\n",
    "\n",
    "# 3. Load Inputs\n",
    "# ------------------------------------------------------------------------------\n",
    "def load_inputs(inp_dir):\n",
    "    paths = {\n",
    "        \"barcodes\" : os.path.join(inp_dir, \"barcodes.csv\"),\n",
    "        \"probes\"   : os.path.join(inp_dir, \"ORCA_target_upload_new.csv\"),\n",
    "        \"fiducials\": os.path.join(inp_dir, \"ORCA_fiducials.csv\"),\n",
    "    }\n",
    "    logger.info(\"Loading input CSVs from %s\", inp_dir)\n",
    "    for k, p in paths.items():\n",
    "        if not os.path.isfile(p):\n",
    "            raise FileNotFoundError(\"Missing %s file at %s\" % (k, p))\n",
    "        logger.debug(\"✓ %s found (%s)\", k, p)\n",
    "\n",
    "    return (\n",
    "        pd.read_csv(paths[\"barcodes\"]),\n",
    "        pd.read_csv(paths[\"probes\"]),\n",
    "        pd.read_csv(paths[\"fiducials\"]),\n",
    "    )\n",
    "\n",
    "barcodes_df, probes_df, fiducials_df = load_inputs(INPUT_DIR)\n",
    "logger.info(\"Rows | barcodes=%d  probes=%d  fiducials=%d\",\n",
    "            len(barcodes_df), len(probes_df), len(fiducials_df))\n",
    "\n",
    "# print head of probes\n",
    "# sort probes by start\n",
    "probes_df = probes_df.sort_values(by=[\"start\"])\n",
    "# reindex\n",
    "probes_df = probes_df.reset_index(drop=True)\n",
    "\n",
    "display(probes_df.head())\n",
    "# print head of fiducials\n",
    "display(fiducials_df.head())\n",
    "# print head of barcodes\n",
    "display(barcodes_df.head())\n",
    "\n",
    "# Only keep fiducials on chromosome X\n",
    "#fiducials_df = fiducials_df[fiducials_df['locus'].str.contains(\"X\")].copy()\n",
    "logger.info(\"Filtered fiducials to those on chrX: %d remaining\", len(fiducials_df))\n",
    "\n",
    "# Count number of probes per locus\n",
    "# Count number of probes per locus\n",
    "probe_counts = probes_df['locus'].value_counts().reset_index()\n",
    "probe_counts.columns = ['locus', 'count']\n",
    "\n",
    "px.box(\n",
    "    probe_counts,\n",
    "    y=\"count\",\n",
    "    points=\"all\",  # shows all individual data points\n",
    "    title=\"Number of Probes per Locus\",\n",
    "    labels={\"count\": \"# Probes\"},\n",
    "    template=PLOT_THEME,\n",
    "    height=PLOT_HEIGHT,\n",
    "    width = 800\n",
    ").show()\n",
    "\n",
    "\n",
    "# --- Prepare probes ---\n",
    "probe_spans = probes_df[['locus', 'start', 'end']].copy()\n",
    "probe_spans['probe_id'] = probe_spans.index  # Preserve original index\n",
    "probe_spans['source'] = 'target'\n",
    "\n",
    "# --- Prepare fiducials ---\n",
    "fiducial_spans = fiducials_df[['locus', 'start', 'end']].copy()\n",
    "fiducial_spans['probe_id'] = fiducial_spans.index + probe_spans['probe_id'].max() + 1\n",
    "fiducial_spans['source'] = 'fiducial'\n",
    "\n",
    "# --- Combine and melt both ---\n",
    "combined = pd.concat([probe_spans, fiducial_spans], ignore_index=True)\n",
    "# sort by start\n",
    "combined = combined.sort_values(by=[\"start\"]).reset_index(drop=True)\n",
    "long_df = pd.melt(\n",
    "    combined,\n",
    "    id_vars=[\"probe_id\", \"locus\", \"source\"],\n",
    "    value_vars=[\"start\", \"end\"],\n",
    "    var_name=\"pos_type\",\n",
    "    value_name=\"position\"\n",
    ")\n",
    "\n",
    "# sort by start \n",
    "long_df = long_df.sort_values(by=[\"position\"]).reset_index(drop=True)\n",
    "\n",
    "# --- Create color map ---\n",
    "import plotly.express as px\n",
    "import plotly.graph_objects as go\n",
    "\n",
    "# Use px to get a palette, and override fiducials to be grey\n",
    "unique_loci = combined['locus'].unique()\n",
    "color_map = {locus: px.colors.qualitative.Plotly[i % 10] for i, locus in enumerate(unique_loci)}\n",
    "for fid_locus in fiducials_df['locus'].unique():\n",
    "    color_map[fid_locus] = 'grey'\n",
    "\n",
    "# --- Manually build go.Figure to control color mapping ---\n",
    "fig = go.Figure()\n",
    "\n",
    "for locus in long_df['locus'].unique():\n",
    "    subset = long_df[long_df['locus'] == locus]\n",
    "    fig.add_trace(go.Scatter(\n",
    "        x=subset['position'],\n",
    "        y=subset['probe_id'],\n",
    "        mode='lines',\n",
    "        line=dict(color=color_map[locus]),\n",
    "        name=locus,\n",
    "        showlegend=True if locus in probes_df['locus'].unique() else False  # hide fiducial labels\n",
    "    ))\n",
    "\n",
    "fig.update_layout(\n",
    "    title=\"Probe Genomic Intervals (Targets + Fiducials)\",\n",
    "    xaxis_title=\"Genomic Position\",\n",
    "    yaxis_title=\"Probe Index\",\n",
    "    template=PLOT_THEME,\n",
    "    height=800,\n",
    "    width=800\n",
    ")\n",
    "fig.show()\n",
    "\n",
    "\n",
    "## --- Combine probes and fiducials ---\n",
    "combined_loci_df = pd.concat([\n",
    "    probes_df[['locus', 'start', 'end']],\n",
    "    fiducials_df[['locus', 'start', 'end']]\n",
    "], ignore_index=True)\n",
    "\n",
    "# --- Sort by genomic start ---\n",
    "sorted_loci = combined_loci_df.sort_values(by=\"start\").reset_index(drop=True)\n",
    "\n",
    "# --- Track previous locus and coordinates ---\n",
    "sorted_loci['prev_locus'] = sorted_loci['locus'].shift(1)\n",
    "sorted_loci['prev_start'] = sorted_loci['start'].shift(1)\n",
    "sorted_loci['prev_end'] = sorted_loci['end'].shift(1)\n",
    "\n",
    "# --- Only compute distances where locus changes ---\n",
    "locus_jumps = sorted_loci[sorted_loci['locus'] != sorted_loci['prev_locus']].copy()\n",
    "locus_jumps['inter_locus_distance'] = locus_jumps['start'] - locus_jumps['prev_end']\n",
    "\n",
    "# --- Remove overlaps and missing values ---\n",
    "locus_jumps = locus_jumps[locus_jumps['inter_locus_distance'] > 0].copy()\n",
    "\n",
    "# --- Create transition label ---\n",
    "locus_jumps['locus_transition'] = locus_jumps['prev_locus'] + \" → \" + locus_jumps['locus']\n",
    "\n",
    "# --- Rename for clarity before export ---\n",
    "locus_jumps = locus_jumps.rename(columns={\n",
    "    'prev_start': 'start_prev_locus',\n",
    "    'prev_end':   'end_prev_locus',\n",
    "    'start':      'start_curr_locus',\n",
    "    'end':        'end_curr_locus'\n",
    "})\n",
    "\n",
    "# --- Sort by distance ---\n",
    "locus_jumps = locus_jumps.sort_values(by=\"inter_locus_distance\", ascending=False)\n",
    "\n",
    "# --- Plot ---\n",
    "import plotly.express as px\n",
    "\n",
    "fig = px.bar(\n",
    "    locus_jumps,\n",
    "    x=\"locus_transition\",\n",
    "    y=\"inter_locus_distance\",\n",
    "    title=\"Sorted Distance Between Consecutive Loci (Including Fiducials)\",\n",
    "    labels={\n",
    "        \"locus_transition\": \"Locus Transition\",\n",
    "        \"inter_locus_distance\": \"Distance (bp)\"\n",
    "    },\n",
    "    template=PLOT_THEME,\n",
    "    height=600,\n",
    "    width=1200\n",
    ")\n",
    "fig.update_layout(xaxis_tickangle=45)\n",
    "fig.show()\n",
    "\n",
    "# --- Save to CSV ---\n",
    "locus_jumps[['prev_locus', 'locus', 'start_prev_locus', 'end_prev_locus',\n",
    "             'start_curr_locus', 'end_curr_locus', 'inter_locus_distance']].to_csv(\n",
    "    os.path.join(OUTPUT_DIR, \"interlocus_distances_with_fiducials.csv\"),\n",
    "    index=False\n",
    ")\n"
   ]
  },
  {
   "cell_type": "code",
   "execution_count": 127,
   "id": "8f3723f00a7405e3",
   "metadata": {
    "ExecuteTime": {
     "end_time": "2025-05-13T19:10:52.250437Z",
     "start_time": "2025-05-13T19:10:52.242274Z"
    },
    "collapsed": false
   },
   "outputs": [
    {
     "name": "stderr",
     "output_type": "stream",
     "text": [
      "19:10:52 [INFO] Unique barcodes after clean‑up: 256\n",
      "19:10:52 [INFO] Fiducial barcodes assigned\n"
     ]
    }
   ],
   "source": [
    "# 4. Prepare Barcode Pools & Fiducial Mapping\n",
    "# ------------------------------------------------------------------------------\n",
    "def prepare_barcodes(df):\n",
    "    df = df.dropna(subset=[\"barcodes\"]).copy()\n",
    "    df['barcodes'] = df['barcodes'].astype(str).str.strip()\n",
    "    unique_codes = df['barcodes'].unique().tolist()\n",
    "    np.random.shuffle(unique_codes)\n",
    "    logger.info(\"Unique barcodes after clean‑up: %d\", len(unique_codes))\n",
    "    return unique_codes\n",
    "\n",
    "all_barcodes = prepare_barcodes(barcodes_df)\n",
    "\n",
    "fiducial_loci = fiducials_df['locus'].unique()\n",
    "assert len(fiducial_loci) == 7, \"Expecting 7 fiducial loci\"\n",
    "\n",
    "fiducial_barcodes = all_barcodes[:14]\n",
    "remaining_barcodes = all_barcodes[14:]\n",
    "\n",
    "fiducial_map = {\n",
    "    locus: {'up': fiducial_barcodes[i],\n",
    "            'down': fiducial_barcodes[i + 1]}\n",
    "    for i, locus in enumerate(fiducial_loci)\n",
    "}\n",
    "\n",
    "fiducials_df['upstream_barcode'] = fiducials_df['locus'].map(\n",
    "    lambda x: fiducial_map[x]['up'].lower())\n",
    "fiducials_df['downstream_barcode'] = fiducials_df['locus'].map(\n",
    "    lambda x: fiducial_map[x]['down'].lower())\n",
    "fiducials_df['barcode_appended_seq'] = (\n",
    "    fiducials_df['upstream_barcode'] + fiducials_df['seq'] + fiducials_df['downstream_barcode']\n",
    ")\n",
    "logger.info(\"Fiducial barcodes assigned\")"
   ]
  },
  {
   "cell_type": "code",
   "execution_count": 128,
   "id": "31d1e9333f313011",
   "metadata": {
    "ExecuteTime": {
     "end_time": "2025-05-13T19:10:52.793546Z",
     "start_time": "2025-05-13T19:10:52.749033Z"
    },
    "collapsed": false
   },
   "outputs": [
    {
     "name": "stderr",
     "output_type": "stream",
     "text": [
      "19:10:52 [INFO] Constant upstreams | green=GGACAGAGTGTTATGCTTTGGCGTC  red=GGACTGTTTCAAGTAACGGCCATCT\n",
      "19:10:52 [INFO] Channel counts | green=36  red=37\n"
     ]
    },
    {
     "data": {
      "application/vnd.plotly.v1+json": {
       "config": {
        "plotlyServerURL": "https://plot.ly"
       },
       "data": [
        {
         "domain": {
          "x": [
           0.0,
           1.0
          ],
          "y": [
           0.0,
           1.0
          ]
         },
         "hovertemplate": "label=%{label}<br>value=%{value}<extra></extra>",
         "labels": [
          "Green",
          "Red"
         ],
         "legendgroup": "",
         "name": "",
         "showlegend": true,
         "type": "pie",
         "values": [
          36,
          37
         ]
        }
       ],
       "layout": {
        "height": 500,
        "legend": {
         "tracegroupgap": 0
        },
        "template": {
         "data": {
          "bar": [
           {
            "error_x": {
             "color": "#2a3f5f"
            },
            "error_y": {
             "color": "#2a3f5f"
            },
            "marker": {
             "line": {
              "color": "white",
              "width": 0.5
             },
             "pattern": {
              "fillmode": "overlay",
              "size": 10,
              "solidity": 0.2
             }
            },
            "type": "bar"
           }
          ],
          "barpolar": [
           {
            "marker": {
             "line": {
              "color": "white",
              "width": 0.5
             },
             "pattern": {
              "fillmode": "overlay",
              "size": 10,
              "solidity": 0.2
             }
            },
            "type": "barpolar"
           }
          ],
          "carpet": [
           {
            "aaxis": {
             "endlinecolor": "#2a3f5f",
             "gridcolor": "#C8D4E3",
             "linecolor": "#C8D4E3",
             "minorgridcolor": "#C8D4E3",
             "startlinecolor": "#2a3f5f"
            },
            "baxis": {
             "endlinecolor": "#2a3f5f",
             "gridcolor": "#C8D4E3",
             "linecolor": "#C8D4E3",
             "minorgridcolor": "#C8D4E3",
             "startlinecolor": "#2a3f5f"
            },
            "type": "carpet"
           }
          ],
          "choropleth": [
           {
            "colorbar": {
             "outlinewidth": 0,
             "ticks": ""
            },
            "type": "choropleth"
           }
          ],
          "contour": [
           {
            "colorbar": {
             "outlinewidth": 0,
             "ticks": ""
            },
            "colorscale": [
             [
              0.0,
              "#0d0887"
             ],
             [
              0.1111111111111111,
              "#46039f"
             ],
             [
              0.2222222222222222,
              "#7201a8"
             ],
             [
              0.3333333333333333,
              "#9c179e"
             ],
             [
              0.4444444444444444,
              "#bd3786"
             ],
             [
              0.5555555555555556,
              "#d8576b"
             ],
             [
              0.6666666666666666,
              "#ed7953"
             ],
             [
              0.7777777777777778,
              "#fb9f3a"
             ],
             [
              0.8888888888888888,
              "#fdca26"
             ],
             [
              1.0,
              "#f0f921"
             ]
            ],
            "type": "contour"
           }
          ],
          "contourcarpet": [
           {
            "colorbar": {
             "outlinewidth": 0,
             "ticks": ""
            },
            "type": "contourcarpet"
           }
          ],
          "heatmap": [
           {
            "colorbar": {
             "outlinewidth": 0,
             "ticks": ""
            },
            "colorscale": [
             [
              0.0,
              "#0d0887"
             ],
             [
              0.1111111111111111,
              "#46039f"
             ],
             [
              0.2222222222222222,
              "#7201a8"
             ],
             [
              0.3333333333333333,
              "#9c179e"
             ],
             [
              0.4444444444444444,
              "#bd3786"
             ],
             [
              0.5555555555555556,
              "#d8576b"
             ],
             [
              0.6666666666666666,
              "#ed7953"
             ],
             [
              0.7777777777777778,
              "#fb9f3a"
             ],
             [
              0.8888888888888888,
              "#fdca26"
             ],
             [
              1.0,
              "#f0f921"
             ]
            ],
            "type": "heatmap"
           }
          ],
          "heatmapgl": [
           {
            "colorbar": {
             "outlinewidth": 0,
             "ticks": ""
            },
            "colorscale": [
             [
              0.0,
              "#0d0887"
             ],
             [
              0.1111111111111111,
              "#46039f"
             ],
             [
              0.2222222222222222,
              "#7201a8"
             ],
             [
              0.3333333333333333,
              "#9c179e"
             ],
             [
              0.4444444444444444,
              "#bd3786"
             ],
             [
              0.5555555555555556,
              "#d8576b"
             ],
             [
              0.6666666666666666,
              "#ed7953"
             ],
             [
              0.7777777777777778,
              "#fb9f3a"
             ],
             [
              0.8888888888888888,
              "#fdca26"
             ],
             [
              1.0,
              "#f0f921"
             ]
            ],
            "type": "heatmapgl"
           }
          ],
          "histogram": [
           {
            "marker": {
             "pattern": {
              "fillmode": "overlay",
              "size": 10,
              "solidity": 0.2
             }
            },
            "type": "histogram"
           }
          ],
          "histogram2d": [
           {
            "colorbar": {
             "outlinewidth": 0,
             "ticks": ""
            },
            "colorscale": [
             [
              0.0,
              "#0d0887"
             ],
             [
              0.1111111111111111,
              "#46039f"
             ],
             [
              0.2222222222222222,
              "#7201a8"
             ],
             [
              0.3333333333333333,
              "#9c179e"
             ],
             [
              0.4444444444444444,
              "#bd3786"
             ],
             [
              0.5555555555555556,
              "#d8576b"
             ],
             [
              0.6666666666666666,
              "#ed7953"
             ],
             [
              0.7777777777777778,
              "#fb9f3a"
             ],
             [
              0.8888888888888888,
              "#fdca26"
             ],
             [
              1.0,
              "#f0f921"
             ]
            ],
            "type": "histogram2d"
           }
          ],
          "histogram2dcontour": [
           {
            "colorbar": {
             "outlinewidth": 0,
             "ticks": ""
            },
            "colorscale": [
             [
              0.0,
              "#0d0887"
             ],
             [
              0.1111111111111111,
              "#46039f"
             ],
             [
              0.2222222222222222,
              "#7201a8"
             ],
             [
              0.3333333333333333,
              "#9c179e"
             ],
             [
              0.4444444444444444,
              "#bd3786"
             ],
             [
              0.5555555555555556,
              "#d8576b"
             ],
             [
              0.6666666666666666,
              "#ed7953"
             ],
             [
              0.7777777777777778,
              "#fb9f3a"
             ],
             [
              0.8888888888888888,
              "#fdca26"
             ],
             [
              1.0,
              "#f0f921"
             ]
            ],
            "type": "histogram2dcontour"
           }
          ],
          "mesh3d": [
           {
            "colorbar": {
             "outlinewidth": 0,
             "ticks": ""
            },
            "type": "mesh3d"
           }
          ],
          "parcoords": [
           {
            "line": {
             "colorbar": {
              "outlinewidth": 0,
              "ticks": ""
             }
            },
            "type": "parcoords"
           }
          ],
          "pie": [
           {
            "automargin": true,
            "type": "pie"
           }
          ],
          "scatter": [
           {
            "fillpattern": {
             "fillmode": "overlay",
             "size": 10,
             "solidity": 0.2
            },
            "type": "scatter"
           }
          ],
          "scatter3d": [
           {
            "line": {
             "colorbar": {
              "outlinewidth": 0,
              "ticks": ""
             }
            },
            "marker": {
             "colorbar": {
              "outlinewidth": 0,
              "ticks": ""
             }
            },
            "type": "scatter3d"
           }
          ],
          "scattercarpet": [
           {
            "marker": {
             "colorbar": {
              "outlinewidth": 0,
              "ticks": ""
             }
            },
            "type": "scattercarpet"
           }
          ],
          "scattergeo": [
           {
            "marker": {
             "colorbar": {
              "outlinewidth": 0,
              "ticks": ""
             }
            },
            "type": "scattergeo"
           }
          ],
          "scattergl": [
           {
            "marker": {
             "colorbar": {
              "outlinewidth": 0,
              "ticks": ""
             }
            },
            "type": "scattergl"
           }
          ],
          "scattermapbox": [
           {
            "marker": {
             "colorbar": {
              "outlinewidth": 0,
              "ticks": ""
             }
            },
            "type": "scattermapbox"
           }
          ],
          "scatterpolar": [
           {
            "marker": {
             "colorbar": {
              "outlinewidth": 0,
              "ticks": ""
             }
            },
            "type": "scatterpolar"
           }
          ],
          "scatterpolargl": [
           {
            "marker": {
             "colorbar": {
              "outlinewidth": 0,
              "ticks": ""
             }
            },
            "type": "scatterpolargl"
           }
          ],
          "scatterternary": [
           {
            "marker": {
             "colorbar": {
              "outlinewidth": 0,
              "ticks": ""
             }
            },
            "type": "scatterternary"
           }
          ],
          "surface": [
           {
            "colorbar": {
             "outlinewidth": 0,
             "ticks": ""
            },
            "colorscale": [
             [
              0.0,
              "#0d0887"
             ],
             [
              0.1111111111111111,
              "#46039f"
             ],
             [
              0.2222222222222222,
              "#7201a8"
             ],
             [
              0.3333333333333333,
              "#9c179e"
             ],
             [
              0.4444444444444444,
              "#bd3786"
             ],
             [
              0.5555555555555556,
              "#d8576b"
             ],
             [
              0.6666666666666666,
              "#ed7953"
             ],
             [
              0.7777777777777778,
              "#fb9f3a"
             ],
             [
              0.8888888888888888,
              "#fdca26"
             ],
             [
              1.0,
              "#f0f921"
             ]
            ],
            "type": "surface"
           }
          ],
          "table": [
           {
            "cells": {
             "fill": {
              "color": "#EBF0F8"
             },
             "line": {
              "color": "white"
             }
            },
            "header": {
             "fill": {
              "color": "#C8D4E3"
             },
             "line": {
              "color": "white"
             }
            },
            "type": "table"
           }
          ]
         },
         "layout": {
          "annotationdefaults": {
           "arrowcolor": "#2a3f5f",
           "arrowhead": 0,
           "arrowwidth": 1
          },
          "autotypenumbers": "strict",
          "coloraxis": {
           "colorbar": {
            "outlinewidth": 0,
            "ticks": ""
           }
          },
          "colorscale": {
           "diverging": [
            [
             0,
             "#8e0152"
            ],
            [
             0.1,
             "#c51b7d"
            ],
            [
             0.2,
             "#de77ae"
            ],
            [
             0.3,
             "#f1b6da"
            ],
            [
             0.4,
             "#fde0ef"
            ],
            [
             0.5,
             "#f7f7f7"
            ],
            [
             0.6,
             "#e6f5d0"
            ],
            [
             0.7,
             "#b8e186"
            ],
            [
             0.8,
             "#7fbc41"
            ],
            [
             0.9,
             "#4d9221"
            ],
            [
             1,
             "#276419"
            ]
           ],
           "sequential": [
            [
             0.0,
             "#0d0887"
            ],
            [
             0.1111111111111111,
             "#46039f"
            ],
            [
             0.2222222222222222,
             "#7201a8"
            ],
            [
             0.3333333333333333,
             "#9c179e"
            ],
            [
             0.4444444444444444,
             "#bd3786"
            ],
            [
             0.5555555555555556,
             "#d8576b"
            ],
            [
             0.6666666666666666,
             "#ed7953"
            ],
            [
             0.7777777777777778,
             "#fb9f3a"
            ],
            [
             0.8888888888888888,
             "#fdca26"
            ],
            [
             1.0,
             "#f0f921"
            ]
           ],
           "sequentialminus": [
            [
             0.0,
             "#0d0887"
            ],
            [
             0.1111111111111111,
             "#46039f"
            ],
            [
             0.2222222222222222,
             "#7201a8"
            ],
            [
             0.3333333333333333,
             "#9c179e"
            ],
            [
             0.4444444444444444,
             "#bd3786"
            ],
            [
             0.5555555555555556,
             "#d8576b"
            ],
            [
             0.6666666666666666,
             "#ed7953"
            ],
            [
             0.7777777777777778,
             "#fb9f3a"
            ],
            [
             0.8888888888888888,
             "#fdca26"
            ],
            [
             1.0,
             "#f0f921"
            ]
           ]
          },
          "colorway": [
           "#636efa",
           "#EF553B",
           "#00cc96",
           "#ab63fa",
           "#FFA15A",
           "#19d3f3",
           "#FF6692",
           "#B6E880",
           "#FF97FF",
           "#FECB52"
          ],
          "font": {
           "color": "#2a3f5f"
          },
          "geo": {
           "bgcolor": "white",
           "lakecolor": "white",
           "landcolor": "white",
           "showlakes": true,
           "showland": true,
           "subunitcolor": "#C8D4E3"
          },
          "hoverlabel": {
           "align": "left"
          },
          "hovermode": "closest",
          "mapbox": {
           "style": "light"
          },
          "paper_bgcolor": "white",
          "plot_bgcolor": "white",
          "polar": {
           "angularaxis": {
            "gridcolor": "#EBF0F8",
            "linecolor": "#EBF0F8",
            "ticks": ""
           },
           "bgcolor": "white",
           "radialaxis": {
            "gridcolor": "#EBF0F8",
            "linecolor": "#EBF0F8",
            "ticks": ""
           }
          },
          "scene": {
           "xaxis": {
            "backgroundcolor": "white",
            "gridcolor": "#DFE8F3",
            "gridwidth": 2,
            "linecolor": "#EBF0F8",
            "showbackground": true,
            "ticks": "",
            "zerolinecolor": "#EBF0F8"
           },
           "yaxis": {
            "backgroundcolor": "white",
            "gridcolor": "#DFE8F3",
            "gridwidth": 2,
            "linecolor": "#EBF0F8",
            "showbackground": true,
            "ticks": "",
            "zerolinecolor": "#EBF0F8"
           },
           "zaxis": {
            "backgroundcolor": "white",
            "gridcolor": "#DFE8F3",
            "gridwidth": 2,
            "linecolor": "#EBF0F8",
            "showbackground": true,
            "ticks": "",
            "zerolinecolor": "#EBF0F8"
           }
          },
          "shapedefaults": {
           "line": {
            "color": "#2a3f5f"
           }
          },
          "ternary": {
           "aaxis": {
            "gridcolor": "#DFE8F3",
            "linecolor": "#A2B1C6",
            "ticks": ""
           },
           "baxis": {
            "gridcolor": "#DFE8F3",
            "linecolor": "#A2B1C6",
            "ticks": ""
           },
           "bgcolor": "white",
           "caxis": {
            "gridcolor": "#DFE8F3",
            "linecolor": "#A2B1C6",
            "ticks": ""
           }
          },
          "title": {
           "x": 0.05
          },
          "xaxis": {
           "automargin": true,
           "gridcolor": "#EBF0F8",
           "linecolor": "#EBF0F8",
           "ticks": "",
           "title": {
            "standoff": 15
           },
           "zerolinecolor": "#EBF0F8",
           "zerolinewidth": 2
          },
          "yaxis": {
           "automargin": true,
           "gridcolor": "#EBF0F8",
           "linecolor": "#EBF0F8",
           "ticks": "",
           "title": {
            "standoff": 15
           },
           "zerolinecolor": "#EBF0F8",
           "zerolinewidth": 2
          }
         }
        },
        "title": {
         "text": "Loci Assigned per Channel"
        }
       }
      },
      "text/html": [
       "<div>                            <div id=\"9f67360f-a6b1-4e42-8bd9-9cb57a218e7b\" class=\"plotly-graph-div\" style=\"height:500px; width:100%;\"></div>            <script type=\"text/javascript\">                require([\"plotly\"], function(Plotly) {                    window.PLOTLYENV=window.PLOTLYENV || {};                                    if (document.getElementById(\"9f67360f-a6b1-4e42-8bd9-9cb57a218e7b\")) {                    Plotly.newPlot(                        \"9f67360f-a6b1-4e42-8bd9-9cb57a218e7b\",                        [{\"domain\":{\"x\":[0.0,1.0],\"y\":[0.0,1.0]},\"hovertemplate\":\"label=%{label}\\u003cbr\\u003evalue=%{value}\\u003cextra\\u003e\\u003c\\u002fextra\\u003e\",\"labels\":[\"Green\",\"Red\"],\"legendgroup\":\"\",\"name\":\"\",\"showlegend\":true,\"values\":[36,37],\"type\":\"pie\"}],                        {\"template\":{\"data\":{\"histogram2dcontour\":[{\"type\":\"histogram2dcontour\",\"colorbar\":{\"outlinewidth\":0,\"ticks\":\"\"},\"colorscale\":[[0.0,\"#0d0887\"],[0.1111111111111111,\"#46039f\"],[0.2222222222222222,\"#7201a8\"],[0.3333333333333333,\"#9c179e\"],[0.4444444444444444,\"#bd3786\"],[0.5555555555555556,\"#d8576b\"],[0.6666666666666666,\"#ed7953\"],[0.7777777777777778,\"#fb9f3a\"],[0.8888888888888888,\"#fdca26\"],[1.0,\"#f0f921\"]]}],\"choropleth\":[{\"type\":\"choropleth\",\"colorbar\":{\"outlinewidth\":0,\"ticks\":\"\"}}],\"histogram2d\":[{\"type\":\"histogram2d\",\"colorbar\":{\"outlinewidth\":0,\"ticks\":\"\"},\"colorscale\":[[0.0,\"#0d0887\"],[0.1111111111111111,\"#46039f\"],[0.2222222222222222,\"#7201a8\"],[0.3333333333333333,\"#9c179e\"],[0.4444444444444444,\"#bd3786\"],[0.5555555555555556,\"#d8576b\"],[0.6666666666666666,\"#ed7953\"],[0.7777777777777778,\"#fb9f3a\"],[0.8888888888888888,\"#fdca26\"],[1.0,\"#f0f921\"]]}],\"heatmap\":[{\"type\":\"heatmap\",\"colorbar\":{\"outlinewidth\":0,\"ticks\":\"\"},\"colorscale\":[[0.0,\"#0d0887\"],[0.1111111111111111,\"#46039f\"],[0.2222222222222222,\"#7201a8\"],[0.3333333333333333,\"#9c179e\"],[0.4444444444444444,\"#bd3786\"],[0.5555555555555556,\"#d8576b\"],[0.6666666666666666,\"#ed7953\"],[0.7777777777777778,\"#fb9f3a\"],[0.8888888888888888,\"#fdca26\"],[1.0,\"#f0f921\"]]}],\"heatmapgl\":[{\"type\":\"heatmapgl\",\"colorbar\":{\"outlinewidth\":0,\"ticks\":\"\"},\"colorscale\":[[0.0,\"#0d0887\"],[0.1111111111111111,\"#46039f\"],[0.2222222222222222,\"#7201a8\"],[0.3333333333333333,\"#9c179e\"],[0.4444444444444444,\"#bd3786\"],[0.5555555555555556,\"#d8576b\"],[0.6666666666666666,\"#ed7953\"],[0.7777777777777778,\"#fb9f3a\"],[0.8888888888888888,\"#fdca26\"],[1.0,\"#f0f921\"]]}],\"contourcarpet\":[{\"type\":\"contourcarpet\",\"colorbar\":{\"outlinewidth\":0,\"ticks\":\"\"}}],\"contour\":[{\"type\":\"contour\",\"colorbar\":{\"outlinewidth\":0,\"ticks\":\"\"},\"colorscale\":[[0.0,\"#0d0887\"],[0.1111111111111111,\"#46039f\"],[0.2222222222222222,\"#7201a8\"],[0.3333333333333333,\"#9c179e\"],[0.4444444444444444,\"#bd3786\"],[0.5555555555555556,\"#d8576b\"],[0.6666666666666666,\"#ed7953\"],[0.7777777777777778,\"#fb9f3a\"],[0.8888888888888888,\"#fdca26\"],[1.0,\"#f0f921\"]]}],\"surface\":[{\"type\":\"surface\",\"colorbar\":{\"outlinewidth\":0,\"ticks\":\"\"},\"colorscale\":[[0.0,\"#0d0887\"],[0.1111111111111111,\"#46039f\"],[0.2222222222222222,\"#7201a8\"],[0.3333333333333333,\"#9c179e\"],[0.4444444444444444,\"#bd3786\"],[0.5555555555555556,\"#d8576b\"],[0.6666666666666666,\"#ed7953\"],[0.7777777777777778,\"#fb9f3a\"],[0.8888888888888888,\"#fdca26\"],[1.0,\"#f0f921\"]]}],\"mesh3d\":[{\"type\":\"mesh3d\",\"colorbar\":{\"outlinewidth\":0,\"ticks\":\"\"}}],\"scatter\":[{\"fillpattern\":{\"fillmode\":\"overlay\",\"size\":10,\"solidity\":0.2},\"type\":\"scatter\"}],\"parcoords\":[{\"type\":\"parcoords\",\"line\":{\"colorbar\":{\"outlinewidth\":0,\"ticks\":\"\"}}}],\"scatterpolargl\":[{\"type\":\"scatterpolargl\",\"marker\":{\"colorbar\":{\"outlinewidth\":0,\"ticks\":\"\"}}}],\"bar\":[{\"error_x\":{\"color\":\"#2a3f5f\"},\"error_y\":{\"color\":\"#2a3f5f\"},\"marker\":{\"line\":{\"color\":\"white\",\"width\":0.5},\"pattern\":{\"fillmode\":\"overlay\",\"size\":10,\"solidity\":0.2}},\"type\":\"bar\"}],\"scattergeo\":[{\"type\":\"scattergeo\",\"marker\":{\"colorbar\":{\"outlinewidth\":0,\"ticks\":\"\"}}}],\"scatterpolar\":[{\"type\":\"scatterpolar\",\"marker\":{\"colorbar\":{\"outlinewidth\":0,\"ticks\":\"\"}}}],\"histogram\":[{\"marker\":{\"pattern\":{\"fillmode\":\"overlay\",\"size\":10,\"solidity\":0.2}},\"type\":\"histogram\"}],\"scattergl\":[{\"type\":\"scattergl\",\"marker\":{\"colorbar\":{\"outlinewidth\":0,\"ticks\":\"\"}}}],\"scatter3d\":[{\"type\":\"scatter3d\",\"line\":{\"colorbar\":{\"outlinewidth\":0,\"ticks\":\"\"}},\"marker\":{\"colorbar\":{\"outlinewidth\":0,\"ticks\":\"\"}}}],\"scattermapbox\":[{\"type\":\"scattermapbox\",\"marker\":{\"colorbar\":{\"outlinewidth\":0,\"ticks\":\"\"}}}],\"scatterternary\":[{\"type\":\"scatterternary\",\"marker\":{\"colorbar\":{\"outlinewidth\":0,\"ticks\":\"\"}}}],\"scattercarpet\":[{\"type\":\"scattercarpet\",\"marker\":{\"colorbar\":{\"outlinewidth\":0,\"ticks\":\"\"}}}],\"carpet\":[{\"aaxis\":{\"endlinecolor\":\"#2a3f5f\",\"gridcolor\":\"#C8D4E3\",\"linecolor\":\"#C8D4E3\",\"minorgridcolor\":\"#C8D4E3\",\"startlinecolor\":\"#2a3f5f\"},\"baxis\":{\"endlinecolor\":\"#2a3f5f\",\"gridcolor\":\"#C8D4E3\",\"linecolor\":\"#C8D4E3\",\"minorgridcolor\":\"#C8D4E3\",\"startlinecolor\":\"#2a3f5f\"},\"type\":\"carpet\"}],\"table\":[{\"cells\":{\"fill\":{\"color\":\"#EBF0F8\"},\"line\":{\"color\":\"white\"}},\"header\":{\"fill\":{\"color\":\"#C8D4E3\"},\"line\":{\"color\":\"white\"}},\"type\":\"table\"}],\"barpolar\":[{\"marker\":{\"line\":{\"color\":\"white\",\"width\":0.5},\"pattern\":{\"fillmode\":\"overlay\",\"size\":10,\"solidity\":0.2}},\"type\":\"barpolar\"}],\"pie\":[{\"automargin\":true,\"type\":\"pie\"}]},\"layout\":{\"autotypenumbers\":\"strict\",\"colorway\":[\"#636efa\",\"#EF553B\",\"#00cc96\",\"#ab63fa\",\"#FFA15A\",\"#19d3f3\",\"#FF6692\",\"#B6E880\",\"#FF97FF\",\"#FECB52\"],\"font\":{\"color\":\"#2a3f5f\"},\"hovermode\":\"closest\",\"hoverlabel\":{\"align\":\"left\"},\"paper_bgcolor\":\"white\",\"plot_bgcolor\":\"white\",\"polar\":{\"bgcolor\":\"white\",\"angularaxis\":{\"gridcolor\":\"#EBF0F8\",\"linecolor\":\"#EBF0F8\",\"ticks\":\"\"},\"radialaxis\":{\"gridcolor\":\"#EBF0F8\",\"linecolor\":\"#EBF0F8\",\"ticks\":\"\"}},\"ternary\":{\"bgcolor\":\"white\",\"aaxis\":{\"gridcolor\":\"#DFE8F3\",\"linecolor\":\"#A2B1C6\",\"ticks\":\"\"},\"baxis\":{\"gridcolor\":\"#DFE8F3\",\"linecolor\":\"#A2B1C6\",\"ticks\":\"\"},\"caxis\":{\"gridcolor\":\"#DFE8F3\",\"linecolor\":\"#A2B1C6\",\"ticks\":\"\"}},\"coloraxis\":{\"colorbar\":{\"outlinewidth\":0,\"ticks\":\"\"}},\"colorscale\":{\"sequential\":[[0.0,\"#0d0887\"],[0.1111111111111111,\"#46039f\"],[0.2222222222222222,\"#7201a8\"],[0.3333333333333333,\"#9c179e\"],[0.4444444444444444,\"#bd3786\"],[0.5555555555555556,\"#d8576b\"],[0.6666666666666666,\"#ed7953\"],[0.7777777777777778,\"#fb9f3a\"],[0.8888888888888888,\"#fdca26\"],[1.0,\"#f0f921\"]],\"sequentialminus\":[[0.0,\"#0d0887\"],[0.1111111111111111,\"#46039f\"],[0.2222222222222222,\"#7201a8\"],[0.3333333333333333,\"#9c179e\"],[0.4444444444444444,\"#bd3786\"],[0.5555555555555556,\"#d8576b\"],[0.6666666666666666,\"#ed7953\"],[0.7777777777777778,\"#fb9f3a\"],[0.8888888888888888,\"#fdca26\"],[1.0,\"#f0f921\"]],\"diverging\":[[0,\"#8e0152\"],[0.1,\"#c51b7d\"],[0.2,\"#de77ae\"],[0.3,\"#f1b6da\"],[0.4,\"#fde0ef\"],[0.5,\"#f7f7f7\"],[0.6,\"#e6f5d0\"],[0.7,\"#b8e186\"],[0.8,\"#7fbc41\"],[0.9,\"#4d9221\"],[1,\"#276419\"]]},\"xaxis\":{\"gridcolor\":\"#EBF0F8\",\"linecolor\":\"#EBF0F8\",\"ticks\":\"\",\"title\":{\"standoff\":15},\"zerolinecolor\":\"#EBF0F8\",\"automargin\":true,\"zerolinewidth\":2},\"yaxis\":{\"gridcolor\":\"#EBF0F8\",\"linecolor\":\"#EBF0F8\",\"ticks\":\"\",\"title\":{\"standoff\":15},\"zerolinecolor\":\"#EBF0F8\",\"automargin\":true,\"zerolinewidth\":2},\"scene\":{\"xaxis\":{\"backgroundcolor\":\"white\",\"gridcolor\":\"#DFE8F3\",\"linecolor\":\"#EBF0F8\",\"showbackground\":true,\"ticks\":\"\",\"zerolinecolor\":\"#EBF0F8\",\"gridwidth\":2},\"yaxis\":{\"backgroundcolor\":\"white\",\"gridcolor\":\"#DFE8F3\",\"linecolor\":\"#EBF0F8\",\"showbackground\":true,\"ticks\":\"\",\"zerolinecolor\":\"#EBF0F8\",\"gridwidth\":2},\"zaxis\":{\"backgroundcolor\":\"white\",\"gridcolor\":\"#DFE8F3\",\"linecolor\":\"#EBF0F8\",\"showbackground\":true,\"ticks\":\"\",\"zerolinecolor\":\"#EBF0F8\",\"gridwidth\":2}},\"shapedefaults\":{\"line\":{\"color\":\"#2a3f5f\"}},\"annotationdefaults\":{\"arrowcolor\":\"#2a3f5f\",\"arrowhead\":0,\"arrowwidth\":1},\"geo\":{\"bgcolor\":\"white\",\"landcolor\":\"white\",\"subunitcolor\":\"#C8D4E3\",\"showland\":true,\"showlakes\":true,\"lakecolor\":\"white\"},\"title\":{\"x\":0.05},\"mapbox\":{\"style\":\"light\"}}},\"legend\":{\"tracegroupgap\":0},\"title\":{\"text\":\"Loci Assigned per Channel\"},\"height\":500},                        {\"responsive\": true}                    ).then(function(){\n",
       "                            \n",
       "var gd = document.getElementById('9f67360f-a6b1-4e42-8bd9-9cb57a218e7b');\n",
       "var x = new MutationObserver(function (mutations, observer) {{\n",
       "        var display = window.getComputedStyle(gd).display;\n",
       "        if (!display || display === 'none') {{\n",
       "            console.log([gd, 'removed!']);\n",
       "            Plotly.purge(gd);\n",
       "            observer.disconnect();\n",
       "        }}\n",
       "}});\n",
       "\n",
       "// Listen for the removal of the full notebook cells\n",
       "var notebookContainer = gd.closest('#notebook-container');\n",
       "if (notebookContainer) {{\n",
       "    x.observe(notebookContainer, {childList: true});\n",
       "}}\n",
       "\n",
       "// Listen for the clearing of the current output cell\n",
       "var outputEl = gd.closest('.output');\n",
       "if (outputEl) {{\n",
       "    x.observe(outputEl, {childList: true});\n",
       "}}\n",
       "\n",
       "                        })                };                });            </script>        </div>"
      ]
     },
     "metadata": {},
     "output_type": "display_data"
    },
    {
     "name": "stdout",
     "output_type": "stream",
     "text": [
      "\n",
      "🔬 Example Probes (Green + Red):\n"
     ]
    },
    {
     "data": {
      "text/html": [
       "<div>\n",
       "<style scoped>\n",
       "    .dataframe tbody tr th:only-of-type {\n",
       "        vertical-align: middle;\n",
       "    }\n",
       "\n",
       "    .dataframe tbody tr th {\n",
       "        vertical-align: top;\n",
       "    }\n",
       "\n",
       "    .dataframe thead th {\n",
       "        text-align: right;\n",
       "    }\n",
       "</style>\n",
       "<table border=\"1\" class=\"dataframe\">\n",
       "  <thead>\n",
       "    <tr style=\"text-align: right;\">\n",
       "      <th></th>\n",
       "      <th>locus</th>\n",
       "      <th>channel</th>\n",
       "      <th>constant_upstream</th>\n",
       "      <th>seq</th>\n",
       "      <th>dna</th>\n",
       "      <th>example_probe_seq</th>\n",
       "    </tr>\n",
       "  </thead>\n",
       "  <tbody>\n",
       "    <tr>\n",
       "      <th>0</th>\n",
       "      <td>rex-16</td>\n",
       "      <td>green</td>\n",
       "      <td>ggacagagtgttatgctttggcgtc</td>\n",
       "      <td>AAAATTACTTCTTGTAGAGCACAAGACGATGCCGTCGG</td>\n",
       "      <td>TTATGAAGCCTCCTGTGATCCTTTC</td>\n",
       "      <td>ggacagagtgttatgctttggcgtcAAAATTACTTCTTGTAGAGCACAAGACGATGCCGTCGGttatgaagcctcctgtgatcctttc</td>\n",
       "    </tr>\n",
       "    <tr>\n",
       "      <th>1</th>\n",
       "      <td>P-rex-23</td>\n",
       "      <td>green</td>\n",
       "      <td>ggacagagtgttatgctttggcgtc</td>\n",
       "      <td>TATCATTTCTTGCAGATGGTGGAGTGTTGTCAAGAAGAAGT</td>\n",
       "      <td>ATTCCGTACCAACCCGCGTCTTAGA</td>\n",
       "      <td>ggacagagtgttatgctttggcgtcTATCATTTCTTGCAGATGGTGGAGTGTTGTCAAGAAGAAGTattccgtaccaacccgcgtcttaga</td>\n",
       "    </tr>\n",
       "    <tr>\n",
       "      <th>2</th>\n",
       "      <td>rex-46</td>\n",
       "      <td>green</td>\n",
       "      <td>ggacagagtgttatgctttggcgtc</td>\n",
       "      <td>TTTTCAGTACGAAATGATGTGCGACGCCTTTGAAGC</td>\n",
       "      <td>ATGTGGCTGGCCGTTCCTTGTAGAC</td>\n",
       "      <td>ggacagagtgttatgctttggcgtcTTTTCAGTACGAAATGATGTGCGACGCCTTTGAAGCatgtggctggccgttccttgtagac</td>\n",
       "    </tr>\n",
       "    <tr>\n",
       "      <th>3</th>\n",
       "      <td>rex-43</td>\n",
       "      <td>red</td>\n",
       "      <td>ggactgtttcaagtaacggccatct</td>\n",
       "      <td>TTTTGCATTACTCCGTACCTGTTTCCACCCACAAC</td>\n",
       "      <td>GCTTGATGCTTTACAAGATCGCGTT</td>\n",
       "      <td>ggactgtttcaagtaacggccatctTTTTGCATTACTCCGTACCTGTTTCCACCCACAACgcttgatgctttacaagatcgcgtt</td>\n",
       "    </tr>\n",
       "    <tr>\n",
       "      <th>4</th>\n",
       "      <td>rex-39</td>\n",
       "      <td>red</td>\n",
       "      <td>ggactgtttcaagtaacggccatct</td>\n",
       "      <td>CGTAGGCTCAACAAACACAGCACGTGATTTCCTGG</td>\n",
       "      <td>TAGCCGTTATCGATTAATCGTCCTG</td>\n",
       "      <td>ggactgtttcaagtaacggccatctCGTAGGCTCAACAAACACAGCACGTGATTTCCTGGtagccgttatcgattaatcgtcctg</td>\n",
       "    </tr>\n",
       "    <tr>\n",
       "      <th>5</th>\n",
       "      <td>nDCC-20</td>\n",
       "      <td>red</td>\n",
       "      <td>ggactgtttcaagtaacggccatct</td>\n",
       "      <td>TAGAAACCCTGTCCATAGATATTTTGGTAAGTGGCTGCAGA</td>\n",
       "      <td>GGCTATGTCCGTAACACTCCTAGCA</td>\n",
       "      <td>ggactgtttcaagtaacggccatctTAGAAACCCTGTCCATAGATATTTTGGTAAGTGGCTGCAGAggctatgtccgtaacactcctagca</td>\n",
       "    </tr>\n",
       "  </tbody>\n",
       "</table>\n",
       "</div>"
      ],
      "text/plain": [
       "      locus channel          constant_upstream  \\\n",
       "0    rex-16   green  ggacagagtgttatgctttggcgtc   \n",
       "1  P-rex-23   green  ggacagagtgttatgctttggcgtc   \n",
       "2    rex-46   green  ggacagagtgttatgctttggcgtc   \n",
       "3    rex-43     red  ggactgtttcaagtaacggccatct   \n",
       "4    rex-39     red  ggactgtttcaagtaacggccatct   \n",
       "5   nDCC-20     red  ggactgtttcaagtaacggccatct   \n",
       "\n",
       "                                         seq                        dna  \\\n",
       "0     AAAATTACTTCTTGTAGAGCACAAGACGATGCCGTCGG  TTATGAAGCCTCCTGTGATCCTTTC   \n",
       "1  TATCATTTCTTGCAGATGGTGGAGTGTTGTCAAGAAGAAGT  ATTCCGTACCAACCCGCGTCTTAGA   \n",
       "2       TTTTCAGTACGAAATGATGTGCGACGCCTTTGAAGC  ATGTGGCTGGCCGTTCCTTGTAGAC   \n",
       "3        TTTTGCATTACTCCGTACCTGTTTCCACCCACAAC  GCTTGATGCTTTACAAGATCGCGTT   \n",
       "4        CGTAGGCTCAACAAACACAGCACGTGATTTCCTGG  TAGCCGTTATCGATTAATCGTCCTG   \n",
       "5  TAGAAACCCTGTCCATAGATATTTTGGTAAGTGGCTGCAGA  GGCTATGTCCGTAACACTCCTAGCA   \n",
       "\n",
       "                                                                             example_probe_seq  \n",
       "0     ggacagagtgttatgctttggcgtcAAAATTACTTCTTGTAGAGCACAAGACGATGCCGTCGGttatgaagcctcctgtgatcctttc  \n",
       "1  ggacagagtgttatgctttggcgtcTATCATTTCTTGCAGATGGTGGAGTGTTGTCAAGAAGAAGTattccgtaccaacccgcgtcttaga  \n",
       "2       ggacagagtgttatgctttggcgtcTTTTCAGTACGAAATGATGTGCGACGCCTTTGAAGCatgtggctggccgttccttgtagac  \n",
       "3        ggactgtttcaagtaacggccatctTTTTGCATTACTCCGTACCTGTTTCCACCCACAACgcttgatgctttacaagatcgcgtt  \n",
       "4        ggactgtttcaagtaacggccatctCGTAGGCTCAACAAACACAGCACGTGATTTCCTGGtagccgttatcgattaatcgtcctg  \n",
       "5  ggactgtttcaagtaacggccatctTAGAAACCCTGTCCATAGATATTTTGGTAAGTGGCTGCAGAggctatgtccgtaacactcctagca  "
      ]
     },
     "metadata": {},
     "output_type": "display_data"
    }
   ],
   "source": [
    "# 5. Reserve Constant Upstream Barcodes\n",
    "# ------------------------------------------------------------------------------\n",
    "constant_upstreams = remaining_barcodes[:2]\n",
    "green_const, red_const = [c.lower() for c in constant_upstreams]\n",
    "remaining_barcodes = remaining_barcodes[2:]\n",
    "logger.info(\"Constant upstreams | green=%s  red=%s\", green_const.upper(), red_const.upper())\n",
    "\n",
    "# %% ---------------------------------------------------------------------------\n",
    "# 6. Channel Allocation of MERFISH Targets\n",
    "# ------------------------------------------------------------------------------\n",
    "probes_df = probes_df.dropna(subset=[\"locus\", \"seq\"]).copy()\n",
    "\n",
    "loci = probes_df['locus'].unique().tolist()\n",
    "np.random.shuffle(loci)\n",
    "\n",
    "must_split_pairs = [(\"P-rex-23\", \"rex-43\"), (\"rex-46\", \"nDCC-20\")]\n",
    "fixed_green = [p[0] for p in must_split_pairs]\n",
    "fixed_red   = [p[1] for p in must_split_pairs]\n",
    "\n",
    "remaining_loci = [l for l in loci if l not in fixed_green + fixed_red]\n",
    "np.random.shuffle(remaining_loci)\n",
    "\n",
    "green_loci = fixed_green + remaining_loci[:N_PER_CHANNEL - len(fixed_green)]\n",
    "red_loci   = fixed_red   + remaining_loci[N_PER_CHANNEL - len(fixed_green):\n",
    "                                          N_TOTAL - len(fixed_green + fixed_red)]\n",
    "\n",
    "green_dna = remaining_barcodes[:len(green_loci)]\n",
    "red_dna   = remaining_barcodes[len(green_loci): len(green_loci) + len(red_loci)]\n",
    "\n",
    "logger.info(\"Channel counts | green=%d  red=%d\", len(green_loci), len(red_loci))\n",
    "\n",
    "# QC Plot – loci per channel\n",
    "px.pie(\n",
    "    names=[\"Green\", \"Red\"],\n",
    "    values=[len(green_loci), len(red_loci)],\n",
    "    title=\"Loci Assigned per Channel\",\n",
    "    template=PLOT_THEME,\n",
    "    height=PLOT_HEIGHT\n",
    ").show()\n",
    "\n",
    "# output example probes\n",
    "import pandas as pd\n",
    "\n",
    "# Disable truncation\n",
    "pd.set_option(\"display.max_colwidth\", None)\n",
    "pd.set_option(\"display.max_columns\", None)\n",
    "\n",
    "# --- Green probe examples ---\n",
    "green_loci_sample = green_loci[:3]\n",
    "green_examples = probes_df[probes_df['locus'].isin(green_loci_sample)].copy()\n",
    "green_examples = green_examples.drop_duplicates(\"locus\")\n",
    "\n",
    "green_examples['constant_upstream'] = green_const\n",
    "green_examples['dna'] = [\n",
    "    green_dna[green_loci.index(locus)] for locus in green_examples['locus']\n",
    "]\n",
    "green_examples['example_probe_seq'] = (\n",
    "    green_examples['constant_upstream'] +\n",
    "    green_examples['seq'] +\n",
    "    green_examples['dna'].str.lower()\n",
    ")\n",
    "green_examples['channel'] = \"green\"\n",
    "\n",
    "# --- Red probe examples ---\n",
    "red_loci_sample = red_loci[:3]\n",
    "red_examples = probes_df[probes_df['locus'].isin(red_loci_sample)].copy()\n",
    "red_examples = red_examples.drop_duplicates(\"locus\")\n",
    "\n",
    "red_examples['constant_upstream'] = red_const\n",
    "red_examples['dna'] = [\n",
    "    red_dna[red_loci.index(locus)] for locus in red_examples['locus']\n",
    "]\n",
    "red_examples['example_probe_seq'] = (\n",
    "    red_examples['constant_upstream'] +\n",
    "    red_examples['seq'] +\n",
    "    red_examples['dna'].str.lower()\n",
    ")\n",
    "red_examples['channel'] = \"red\"\n",
    "\n",
    "# --- Combine and display ---\n",
    "example_probes = pd.concat([green_examples, red_examples], ignore_index=True)\n",
    "\n",
    "print(\"\\n🔬 Example Probes (Green + Red):\")\n",
    "display(example_probes[['locus', 'channel','constant_upstream', 'seq', 'dna', 'example_probe_seq']])\n"
   ]
  },
  {
   "cell_type": "code",
   "execution_count": 129,
   "id": "af40cb2d77ce56df",
   "metadata": {
    "ExecuteTime": {
     "end_time": "2025-05-13T19:10:53.619689Z",
     "start_time": "2025-05-13T19:10:53.402228Z"
    },
    "collapsed": false
   },
   "outputs": [
    {
     "name": "stderr",
     "output_type": "stream",
     "text": [
      "19:10:53 [INFO] Binary codes selected | green=36  red=37\n"
     ]
    },
    {
     "data": {
      "application/vnd.plotly.v1+json": {
       "config": {
        "plotlyServerURL": "https://plot.ly"
       },
       "data": [
        {
         "alignmentgroup": "True",
         "hovertemplate": "Round=%{x}<br># Active Barcodes=%{y}<extra></extra>",
         "legendgroup": "",
         "marker": {
          "color": "#636efa",
          "pattern": {
           "shape": ""
          }
         },
         "name": "",
         "offsetgroup": "",
         "orientation": "v",
         "showlegend": false,
         "textposition": "auto",
         "type": "bar",
         "x": [
          1,
          2,
          3,
          4,
          5,
          6,
          7,
          8,
          9,
          10,
          11,
          12,
          13,
          14,
          15,
          16
         ],
         "xaxis": "x",
         "y": [
          30,
          30,
          30,
          30,
          26,
          22,
          16,
          13,
          13,
          14,
          14,
          14,
          13,
          9,
          9,
          9
         ],
         "yaxis": "y"
        }
       ],
       "layout": {
        "barmode": "relative",
        "height": 500,
        "legend": {
         "tracegroupgap": 0
        },
        "template": {
         "data": {
          "bar": [
           {
            "error_x": {
             "color": "#2a3f5f"
            },
            "error_y": {
             "color": "#2a3f5f"
            },
            "marker": {
             "line": {
              "color": "white",
              "width": 0.5
             },
             "pattern": {
              "fillmode": "overlay",
              "size": 10,
              "solidity": 0.2
             }
            },
            "type": "bar"
           }
          ],
          "barpolar": [
           {
            "marker": {
             "line": {
              "color": "white",
              "width": 0.5
             },
             "pattern": {
              "fillmode": "overlay",
              "size": 10,
              "solidity": 0.2
             }
            },
            "type": "barpolar"
           }
          ],
          "carpet": [
           {
            "aaxis": {
             "endlinecolor": "#2a3f5f",
             "gridcolor": "#C8D4E3",
             "linecolor": "#C8D4E3",
             "minorgridcolor": "#C8D4E3",
             "startlinecolor": "#2a3f5f"
            },
            "baxis": {
             "endlinecolor": "#2a3f5f",
             "gridcolor": "#C8D4E3",
             "linecolor": "#C8D4E3",
             "minorgridcolor": "#C8D4E3",
             "startlinecolor": "#2a3f5f"
            },
            "type": "carpet"
           }
          ],
          "choropleth": [
           {
            "colorbar": {
             "outlinewidth": 0,
             "ticks": ""
            },
            "type": "choropleth"
           }
          ],
          "contour": [
           {
            "colorbar": {
             "outlinewidth": 0,
             "ticks": ""
            },
            "colorscale": [
             [
              0.0,
              "#0d0887"
             ],
             [
              0.1111111111111111,
              "#46039f"
             ],
             [
              0.2222222222222222,
              "#7201a8"
             ],
             [
              0.3333333333333333,
              "#9c179e"
             ],
             [
              0.4444444444444444,
              "#bd3786"
             ],
             [
              0.5555555555555556,
              "#d8576b"
             ],
             [
              0.6666666666666666,
              "#ed7953"
             ],
             [
              0.7777777777777778,
              "#fb9f3a"
             ],
             [
              0.8888888888888888,
              "#fdca26"
             ],
             [
              1.0,
              "#f0f921"
             ]
            ],
            "type": "contour"
           }
          ],
          "contourcarpet": [
           {
            "colorbar": {
             "outlinewidth": 0,
             "ticks": ""
            },
            "type": "contourcarpet"
           }
          ],
          "heatmap": [
           {
            "colorbar": {
             "outlinewidth": 0,
             "ticks": ""
            },
            "colorscale": [
             [
              0.0,
              "#0d0887"
             ],
             [
              0.1111111111111111,
              "#46039f"
             ],
             [
              0.2222222222222222,
              "#7201a8"
             ],
             [
              0.3333333333333333,
              "#9c179e"
             ],
             [
              0.4444444444444444,
              "#bd3786"
             ],
             [
              0.5555555555555556,
              "#d8576b"
             ],
             [
              0.6666666666666666,
              "#ed7953"
             ],
             [
              0.7777777777777778,
              "#fb9f3a"
             ],
             [
              0.8888888888888888,
              "#fdca26"
             ],
             [
              1.0,
              "#f0f921"
             ]
            ],
            "type": "heatmap"
           }
          ],
          "heatmapgl": [
           {
            "colorbar": {
             "outlinewidth": 0,
             "ticks": ""
            },
            "colorscale": [
             [
              0.0,
              "#0d0887"
             ],
             [
              0.1111111111111111,
              "#46039f"
             ],
             [
              0.2222222222222222,
              "#7201a8"
             ],
             [
              0.3333333333333333,
              "#9c179e"
             ],
             [
              0.4444444444444444,
              "#bd3786"
             ],
             [
              0.5555555555555556,
              "#d8576b"
             ],
             [
              0.6666666666666666,
              "#ed7953"
             ],
             [
              0.7777777777777778,
              "#fb9f3a"
             ],
             [
              0.8888888888888888,
              "#fdca26"
             ],
             [
              1.0,
              "#f0f921"
             ]
            ],
            "type": "heatmapgl"
           }
          ],
          "histogram": [
           {
            "marker": {
             "pattern": {
              "fillmode": "overlay",
              "size": 10,
              "solidity": 0.2
             }
            },
            "type": "histogram"
           }
          ],
          "histogram2d": [
           {
            "colorbar": {
             "outlinewidth": 0,
             "ticks": ""
            },
            "colorscale": [
             [
              0.0,
              "#0d0887"
             ],
             [
              0.1111111111111111,
              "#46039f"
             ],
             [
              0.2222222222222222,
              "#7201a8"
             ],
             [
              0.3333333333333333,
              "#9c179e"
             ],
             [
              0.4444444444444444,
              "#bd3786"
             ],
             [
              0.5555555555555556,
              "#d8576b"
             ],
             [
              0.6666666666666666,
              "#ed7953"
             ],
             [
              0.7777777777777778,
              "#fb9f3a"
             ],
             [
              0.8888888888888888,
              "#fdca26"
             ],
             [
              1.0,
              "#f0f921"
             ]
            ],
            "type": "histogram2d"
           }
          ],
          "histogram2dcontour": [
           {
            "colorbar": {
             "outlinewidth": 0,
             "ticks": ""
            },
            "colorscale": [
             [
              0.0,
              "#0d0887"
             ],
             [
              0.1111111111111111,
              "#46039f"
             ],
             [
              0.2222222222222222,
              "#7201a8"
             ],
             [
              0.3333333333333333,
              "#9c179e"
             ],
             [
              0.4444444444444444,
              "#bd3786"
             ],
             [
              0.5555555555555556,
              "#d8576b"
             ],
             [
              0.6666666666666666,
              "#ed7953"
             ],
             [
              0.7777777777777778,
              "#fb9f3a"
             ],
             [
              0.8888888888888888,
              "#fdca26"
             ],
             [
              1.0,
              "#f0f921"
             ]
            ],
            "type": "histogram2dcontour"
           }
          ],
          "mesh3d": [
           {
            "colorbar": {
             "outlinewidth": 0,
             "ticks": ""
            },
            "type": "mesh3d"
           }
          ],
          "parcoords": [
           {
            "line": {
             "colorbar": {
              "outlinewidth": 0,
              "ticks": ""
             }
            },
            "type": "parcoords"
           }
          ],
          "pie": [
           {
            "automargin": true,
            "type": "pie"
           }
          ],
          "scatter": [
           {
            "fillpattern": {
             "fillmode": "overlay",
             "size": 10,
             "solidity": 0.2
            },
            "type": "scatter"
           }
          ],
          "scatter3d": [
           {
            "line": {
             "colorbar": {
              "outlinewidth": 0,
              "ticks": ""
             }
            },
            "marker": {
             "colorbar": {
              "outlinewidth": 0,
              "ticks": ""
             }
            },
            "type": "scatter3d"
           }
          ],
          "scattercarpet": [
           {
            "marker": {
             "colorbar": {
              "outlinewidth": 0,
              "ticks": ""
             }
            },
            "type": "scattercarpet"
           }
          ],
          "scattergeo": [
           {
            "marker": {
             "colorbar": {
              "outlinewidth": 0,
              "ticks": ""
             }
            },
            "type": "scattergeo"
           }
          ],
          "scattergl": [
           {
            "marker": {
             "colorbar": {
              "outlinewidth": 0,
              "ticks": ""
             }
            },
            "type": "scattergl"
           }
          ],
          "scattermapbox": [
           {
            "marker": {
             "colorbar": {
              "outlinewidth": 0,
              "ticks": ""
             }
            },
            "type": "scattermapbox"
           }
          ],
          "scatterpolar": [
           {
            "marker": {
             "colorbar": {
              "outlinewidth": 0,
              "ticks": ""
             }
            },
            "type": "scatterpolar"
           }
          ],
          "scatterpolargl": [
           {
            "marker": {
             "colorbar": {
              "outlinewidth": 0,
              "ticks": ""
             }
            },
            "type": "scatterpolargl"
           }
          ],
          "scatterternary": [
           {
            "marker": {
             "colorbar": {
              "outlinewidth": 0,
              "ticks": ""
             }
            },
            "type": "scatterternary"
           }
          ],
          "surface": [
           {
            "colorbar": {
             "outlinewidth": 0,
             "ticks": ""
            },
            "colorscale": [
             [
              0.0,
              "#0d0887"
             ],
             [
              0.1111111111111111,
              "#46039f"
             ],
             [
              0.2222222222222222,
              "#7201a8"
             ],
             [
              0.3333333333333333,
              "#9c179e"
             ],
             [
              0.4444444444444444,
              "#bd3786"
             ],
             [
              0.5555555555555556,
              "#d8576b"
             ],
             [
              0.6666666666666666,
              "#ed7953"
             ],
             [
              0.7777777777777778,
              "#fb9f3a"
             ],
             [
              0.8888888888888888,
              "#fdca26"
             ],
             [
              1.0,
              "#f0f921"
             ]
            ],
            "type": "surface"
           }
          ],
          "table": [
           {
            "cells": {
             "fill": {
              "color": "#EBF0F8"
             },
             "line": {
              "color": "white"
             }
            },
            "header": {
             "fill": {
              "color": "#C8D4E3"
             },
             "line": {
              "color": "white"
             }
            },
            "type": "table"
           }
          ]
         },
         "layout": {
          "annotationdefaults": {
           "arrowcolor": "#2a3f5f",
           "arrowhead": 0,
           "arrowwidth": 1
          },
          "autotypenumbers": "strict",
          "coloraxis": {
           "colorbar": {
            "outlinewidth": 0,
            "ticks": ""
           }
          },
          "colorscale": {
           "diverging": [
            [
             0,
             "#8e0152"
            ],
            [
             0.1,
             "#c51b7d"
            ],
            [
             0.2,
             "#de77ae"
            ],
            [
             0.3,
             "#f1b6da"
            ],
            [
             0.4,
             "#fde0ef"
            ],
            [
             0.5,
             "#f7f7f7"
            ],
            [
             0.6,
             "#e6f5d0"
            ],
            [
             0.7,
             "#b8e186"
            ],
            [
             0.8,
             "#7fbc41"
            ],
            [
             0.9,
             "#4d9221"
            ],
            [
             1,
             "#276419"
            ]
           ],
           "sequential": [
            [
             0.0,
             "#0d0887"
            ],
            [
             0.1111111111111111,
             "#46039f"
            ],
            [
             0.2222222222222222,
             "#7201a8"
            ],
            [
             0.3333333333333333,
             "#9c179e"
            ],
            [
             0.4444444444444444,
             "#bd3786"
            ],
            [
             0.5555555555555556,
             "#d8576b"
            ],
            [
             0.6666666666666666,
             "#ed7953"
            ],
            [
             0.7777777777777778,
             "#fb9f3a"
            ],
            [
             0.8888888888888888,
             "#fdca26"
            ],
            [
             1.0,
             "#f0f921"
            ]
           ],
           "sequentialminus": [
            [
             0.0,
             "#0d0887"
            ],
            [
             0.1111111111111111,
             "#46039f"
            ],
            [
             0.2222222222222222,
             "#7201a8"
            ],
            [
             0.3333333333333333,
             "#9c179e"
            ],
            [
             0.4444444444444444,
             "#bd3786"
            ],
            [
             0.5555555555555556,
             "#d8576b"
            ],
            [
             0.6666666666666666,
             "#ed7953"
            ],
            [
             0.7777777777777778,
             "#fb9f3a"
            ],
            [
             0.8888888888888888,
             "#fdca26"
            ],
            [
             1.0,
             "#f0f921"
            ]
           ]
          },
          "colorway": [
           "#636efa",
           "#EF553B",
           "#00cc96",
           "#ab63fa",
           "#FFA15A",
           "#19d3f3",
           "#FF6692",
           "#B6E880",
           "#FF97FF",
           "#FECB52"
          ],
          "font": {
           "color": "#2a3f5f"
          },
          "geo": {
           "bgcolor": "white",
           "lakecolor": "white",
           "landcolor": "white",
           "showlakes": true,
           "showland": true,
           "subunitcolor": "#C8D4E3"
          },
          "hoverlabel": {
           "align": "left"
          },
          "hovermode": "closest",
          "mapbox": {
           "style": "light"
          },
          "paper_bgcolor": "white",
          "plot_bgcolor": "white",
          "polar": {
           "angularaxis": {
            "gridcolor": "#EBF0F8",
            "linecolor": "#EBF0F8",
            "ticks": ""
           },
           "bgcolor": "white",
           "radialaxis": {
            "gridcolor": "#EBF0F8",
            "linecolor": "#EBF0F8",
            "ticks": ""
           }
          },
          "scene": {
           "xaxis": {
            "backgroundcolor": "white",
            "gridcolor": "#DFE8F3",
            "gridwidth": 2,
            "linecolor": "#EBF0F8",
            "showbackground": true,
            "ticks": "",
            "zerolinecolor": "#EBF0F8"
           },
           "yaxis": {
            "backgroundcolor": "white",
            "gridcolor": "#DFE8F3",
            "gridwidth": 2,
            "linecolor": "#EBF0F8",
            "showbackground": true,
            "ticks": "",
            "zerolinecolor": "#EBF0F8"
           },
           "zaxis": {
            "backgroundcolor": "white",
            "gridcolor": "#DFE8F3",
            "gridwidth": 2,
            "linecolor": "#EBF0F8",
            "showbackground": true,
            "ticks": "",
            "zerolinecolor": "#EBF0F8"
           }
          },
          "shapedefaults": {
           "line": {
            "color": "#2a3f5f"
           }
          },
          "ternary": {
           "aaxis": {
            "gridcolor": "#DFE8F3",
            "linecolor": "#A2B1C6",
            "ticks": ""
           },
           "baxis": {
            "gridcolor": "#DFE8F3",
            "linecolor": "#A2B1C6",
            "ticks": ""
           },
           "bgcolor": "white",
           "caxis": {
            "gridcolor": "#DFE8F3",
            "linecolor": "#A2B1C6",
            "ticks": ""
           }
          },
          "title": {
           "x": 0.05
          },
          "xaxis": {
           "automargin": true,
           "gridcolor": "#EBF0F8",
           "linecolor": "#EBF0F8",
           "ticks": "",
           "title": {
            "standoff": 15
           },
           "zerolinecolor": "#EBF0F8",
           "zerolinewidth": 2
          },
          "yaxis": {
           "automargin": true,
           "gridcolor": "#EBF0F8",
           "linecolor": "#EBF0F8",
           "ticks": "",
           "title": {
            "standoff": 15
           },
           "zerolinecolor": "#EBF0F8",
           "zerolinewidth": 2
          }
         }
        },
        "title": {
         "text": "Total Barcode Activity per Imaging Round"
        },
        "width": 800,
        "xaxis": {
         "anchor": "y",
         "domain": [
          0.0,
          1.0
         ],
         "title": {
          "text": "Round"
         }
        },
        "yaxis": {
         "anchor": "x",
         "domain": [
          0.0,
          1.0
         ],
         "title": {
          "text": "# Active Barcodes"
         }
        }
       }
      },
      "text/html": [
       "<div>                            <div id=\"b7f1284f-9f15-48cc-bcf2-2d8b35466087\" class=\"plotly-graph-div\" style=\"height:500px; width:800px;\"></div>            <script type=\"text/javascript\">                require([\"plotly\"], function(Plotly) {                    window.PLOTLYENV=window.PLOTLYENV || {};                                    if (document.getElementById(\"b7f1284f-9f15-48cc-bcf2-2d8b35466087\")) {                    Plotly.newPlot(                        \"b7f1284f-9f15-48cc-bcf2-2d8b35466087\",                        [{\"alignmentgroup\":\"True\",\"hovertemplate\":\"Round=%{x}\\u003cbr\\u003e# Active Barcodes=%{y}\\u003cextra\\u003e\\u003c\\u002fextra\\u003e\",\"legendgroup\":\"\",\"marker\":{\"color\":\"#636efa\",\"pattern\":{\"shape\":\"\"}},\"name\":\"\",\"offsetgroup\":\"\",\"orientation\":\"v\",\"showlegend\":false,\"textposition\":\"auto\",\"x\":[1,2,3,4,5,6,7,8,9,10,11,12,13,14,15,16],\"xaxis\":\"x\",\"y\":[30,30,30,30,26,22,16,13,13,14,14,14,13,9,9,9],\"yaxis\":\"y\",\"type\":\"bar\"}],                        {\"template\":{\"data\":{\"histogram2dcontour\":[{\"type\":\"histogram2dcontour\",\"colorbar\":{\"outlinewidth\":0,\"ticks\":\"\"},\"colorscale\":[[0.0,\"#0d0887\"],[0.1111111111111111,\"#46039f\"],[0.2222222222222222,\"#7201a8\"],[0.3333333333333333,\"#9c179e\"],[0.4444444444444444,\"#bd3786\"],[0.5555555555555556,\"#d8576b\"],[0.6666666666666666,\"#ed7953\"],[0.7777777777777778,\"#fb9f3a\"],[0.8888888888888888,\"#fdca26\"],[1.0,\"#f0f921\"]]}],\"choropleth\":[{\"type\":\"choropleth\",\"colorbar\":{\"outlinewidth\":0,\"ticks\":\"\"}}],\"histogram2d\":[{\"type\":\"histogram2d\",\"colorbar\":{\"outlinewidth\":0,\"ticks\":\"\"},\"colorscale\":[[0.0,\"#0d0887\"],[0.1111111111111111,\"#46039f\"],[0.2222222222222222,\"#7201a8\"],[0.3333333333333333,\"#9c179e\"],[0.4444444444444444,\"#bd3786\"],[0.5555555555555556,\"#d8576b\"],[0.6666666666666666,\"#ed7953\"],[0.7777777777777778,\"#fb9f3a\"],[0.8888888888888888,\"#fdca26\"],[1.0,\"#f0f921\"]]}],\"heatmap\":[{\"type\":\"heatmap\",\"colorbar\":{\"outlinewidth\":0,\"ticks\":\"\"},\"colorscale\":[[0.0,\"#0d0887\"],[0.1111111111111111,\"#46039f\"],[0.2222222222222222,\"#7201a8\"],[0.3333333333333333,\"#9c179e\"],[0.4444444444444444,\"#bd3786\"],[0.5555555555555556,\"#d8576b\"],[0.6666666666666666,\"#ed7953\"],[0.7777777777777778,\"#fb9f3a\"],[0.8888888888888888,\"#fdca26\"],[1.0,\"#f0f921\"]]}],\"heatmapgl\":[{\"type\":\"heatmapgl\",\"colorbar\":{\"outlinewidth\":0,\"ticks\":\"\"},\"colorscale\":[[0.0,\"#0d0887\"],[0.1111111111111111,\"#46039f\"],[0.2222222222222222,\"#7201a8\"],[0.3333333333333333,\"#9c179e\"],[0.4444444444444444,\"#bd3786\"],[0.5555555555555556,\"#d8576b\"],[0.6666666666666666,\"#ed7953\"],[0.7777777777777778,\"#fb9f3a\"],[0.8888888888888888,\"#fdca26\"],[1.0,\"#f0f921\"]]}],\"contourcarpet\":[{\"type\":\"contourcarpet\",\"colorbar\":{\"outlinewidth\":0,\"ticks\":\"\"}}],\"contour\":[{\"type\":\"contour\",\"colorbar\":{\"outlinewidth\":0,\"ticks\":\"\"},\"colorscale\":[[0.0,\"#0d0887\"],[0.1111111111111111,\"#46039f\"],[0.2222222222222222,\"#7201a8\"],[0.3333333333333333,\"#9c179e\"],[0.4444444444444444,\"#bd3786\"],[0.5555555555555556,\"#d8576b\"],[0.6666666666666666,\"#ed7953\"],[0.7777777777777778,\"#fb9f3a\"],[0.8888888888888888,\"#fdca26\"],[1.0,\"#f0f921\"]]}],\"surface\":[{\"type\":\"surface\",\"colorbar\":{\"outlinewidth\":0,\"ticks\":\"\"},\"colorscale\":[[0.0,\"#0d0887\"],[0.1111111111111111,\"#46039f\"],[0.2222222222222222,\"#7201a8\"],[0.3333333333333333,\"#9c179e\"],[0.4444444444444444,\"#bd3786\"],[0.5555555555555556,\"#d8576b\"],[0.6666666666666666,\"#ed7953\"],[0.7777777777777778,\"#fb9f3a\"],[0.8888888888888888,\"#fdca26\"],[1.0,\"#f0f921\"]]}],\"mesh3d\":[{\"type\":\"mesh3d\",\"colorbar\":{\"outlinewidth\":0,\"ticks\":\"\"}}],\"scatter\":[{\"fillpattern\":{\"fillmode\":\"overlay\",\"size\":10,\"solidity\":0.2},\"type\":\"scatter\"}],\"parcoords\":[{\"type\":\"parcoords\",\"line\":{\"colorbar\":{\"outlinewidth\":0,\"ticks\":\"\"}}}],\"scatterpolargl\":[{\"type\":\"scatterpolargl\",\"marker\":{\"colorbar\":{\"outlinewidth\":0,\"ticks\":\"\"}}}],\"bar\":[{\"error_x\":{\"color\":\"#2a3f5f\"},\"error_y\":{\"color\":\"#2a3f5f\"},\"marker\":{\"line\":{\"color\":\"white\",\"width\":0.5},\"pattern\":{\"fillmode\":\"overlay\",\"size\":10,\"solidity\":0.2}},\"type\":\"bar\"}],\"scattergeo\":[{\"type\":\"scattergeo\",\"marker\":{\"colorbar\":{\"outlinewidth\":0,\"ticks\":\"\"}}}],\"scatterpolar\":[{\"type\":\"scatterpolar\",\"marker\":{\"colorbar\":{\"outlinewidth\":0,\"ticks\":\"\"}}}],\"histogram\":[{\"marker\":{\"pattern\":{\"fillmode\":\"overlay\",\"size\":10,\"solidity\":0.2}},\"type\":\"histogram\"}],\"scattergl\":[{\"type\":\"scattergl\",\"marker\":{\"colorbar\":{\"outlinewidth\":0,\"ticks\":\"\"}}}],\"scatter3d\":[{\"type\":\"scatter3d\",\"line\":{\"colorbar\":{\"outlinewidth\":0,\"ticks\":\"\"}},\"marker\":{\"colorbar\":{\"outlinewidth\":0,\"ticks\":\"\"}}}],\"scattermapbox\":[{\"type\":\"scattermapbox\",\"marker\":{\"colorbar\":{\"outlinewidth\":0,\"ticks\":\"\"}}}],\"scatterternary\":[{\"type\":\"scatterternary\",\"marker\":{\"colorbar\":{\"outlinewidth\":0,\"ticks\":\"\"}}}],\"scattercarpet\":[{\"type\":\"scattercarpet\",\"marker\":{\"colorbar\":{\"outlinewidth\":0,\"ticks\":\"\"}}}],\"carpet\":[{\"aaxis\":{\"endlinecolor\":\"#2a3f5f\",\"gridcolor\":\"#C8D4E3\",\"linecolor\":\"#C8D4E3\",\"minorgridcolor\":\"#C8D4E3\",\"startlinecolor\":\"#2a3f5f\"},\"baxis\":{\"endlinecolor\":\"#2a3f5f\",\"gridcolor\":\"#C8D4E3\",\"linecolor\":\"#C8D4E3\",\"minorgridcolor\":\"#C8D4E3\",\"startlinecolor\":\"#2a3f5f\"},\"type\":\"carpet\"}],\"table\":[{\"cells\":{\"fill\":{\"color\":\"#EBF0F8\"},\"line\":{\"color\":\"white\"}},\"header\":{\"fill\":{\"color\":\"#C8D4E3\"},\"line\":{\"color\":\"white\"}},\"type\":\"table\"}],\"barpolar\":[{\"marker\":{\"line\":{\"color\":\"white\",\"width\":0.5},\"pattern\":{\"fillmode\":\"overlay\",\"size\":10,\"solidity\":0.2}},\"type\":\"barpolar\"}],\"pie\":[{\"automargin\":true,\"type\":\"pie\"}]},\"layout\":{\"autotypenumbers\":\"strict\",\"colorway\":[\"#636efa\",\"#EF553B\",\"#00cc96\",\"#ab63fa\",\"#FFA15A\",\"#19d3f3\",\"#FF6692\",\"#B6E880\",\"#FF97FF\",\"#FECB52\"],\"font\":{\"color\":\"#2a3f5f\"},\"hovermode\":\"closest\",\"hoverlabel\":{\"align\":\"left\"},\"paper_bgcolor\":\"white\",\"plot_bgcolor\":\"white\",\"polar\":{\"bgcolor\":\"white\",\"angularaxis\":{\"gridcolor\":\"#EBF0F8\",\"linecolor\":\"#EBF0F8\",\"ticks\":\"\"},\"radialaxis\":{\"gridcolor\":\"#EBF0F8\",\"linecolor\":\"#EBF0F8\",\"ticks\":\"\"}},\"ternary\":{\"bgcolor\":\"white\",\"aaxis\":{\"gridcolor\":\"#DFE8F3\",\"linecolor\":\"#A2B1C6\",\"ticks\":\"\"},\"baxis\":{\"gridcolor\":\"#DFE8F3\",\"linecolor\":\"#A2B1C6\",\"ticks\":\"\"},\"caxis\":{\"gridcolor\":\"#DFE8F3\",\"linecolor\":\"#A2B1C6\",\"ticks\":\"\"}},\"coloraxis\":{\"colorbar\":{\"outlinewidth\":0,\"ticks\":\"\"}},\"colorscale\":{\"sequential\":[[0.0,\"#0d0887\"],[0.1111111111111111,\"#46039f\"],[0.2222222222222222,\"#7201a8\"],[0.3333333333333333,\"#9c179e\"],[0.4444444444444444,\"#bd3786\"],[0.5555555555555556,\"#d8576b\"],[0.6666666666666666,\"#ed7953\"],[0.7777777777777778,\"#fb9f3a\"],[0.8888888888888888,\"#fdca26\"],[1.0,\"#f0f921\"]],\"sequentialminus\":[[0.0,\"#0d0887\"],[0.1111111111111111,\"#46039f\"],[0.2222222222222222,\"#7201a8\"],[0.3333333333333333,\"#9c179e\"],[0.4444444444444444,\"#bd3786\"],[0.5555555555555556,\"#d8576b\"],[0.6666666666666666,\"#ed7953\"],[0.7777777777777778,\"#fb9f3a\"],[0.8888888888888888,\"#fdca26\"],[1.0,\"#f0f921\"]],\"diverging\":[[0,\"#8e0152\"],[0.1,\"#c51b7d\"],[0.2,\"#de77ae\"],[0.3,\"#f1b6da\"],[0.4,\"#fde0ef\"],[0.5,\"#f7f7f7\"],[0.6,\"#e6f5d0\"],[0.7,\"#b8e186\"],[0.8,\"#7fbc41\"],[0.9,\"#4d9221\"],[1,\"#276419\"]]},\"xaxis\":{\"gridcolor\":\"#EBF0F8\",\"linecolor\":\"#EBF0F8\",\"ticks\":\"\",\"title\":{\"standoff\":15},\"zerolinecolor\":\"#EBF0F8\",\"automargin\":true,\"zerolinewidth\":2},\"yaxis\":{\"gridcolor\":\"#EBF0F8\",\"linecolor\":\"#EBF0F8\",\"ticks\":\"\",\"title\":{\"standoff\":15},\"zerolinecolor\":\"#EBF0F8\",\"automargin\":true,\"zerolinewidth\":2},\"scene\":{\"xaxis\":{\"backgroundcolor\":\"white\",\"gridcolor\":\"#DFE8F3\",\"linecolor\":\"#EBF0F8\",\"showbackground\":true,\"ticks\":\"\",\"zerolinecolor\":\"#EBF0F8\",\"gridwidth\":2},\"yaxis\":{\"backgroundcolor\":\"white\",\"gridcolor\":\"#DFE8F3\",\"linecolor\":\"#EBF0F8\",\"showbackground\":true,\"ticks\":\"\",\"zerolinecolor\":\"#EBF0F8\",\"gridwidth\":2},\"zaxis\":{\"backgroundcolor\":\"white\",\"gridcolor\":\"#DFE8F3\",\"linecolor\":\"#EBF0F8\",\"showbackground\":true,\"ticks\":\"\",\"zerolinecolor\":\"#EBF0F8\",\"gridwidth\":2}},\"shapedefaults\":{\"line\":{\"color\":\"#2a3f5f\"}},\"annotationdefaults\":{\"arrowcolor\":\"#2a3f5f\",\"arrowhead\":0,\"arrowwidth\":1},\"geo\":{\"bgcolor\":\"white\",\"landcolor\":\"white\",\"subunitcolor\":\"#C8D4E3\",\"showland\":true,\"showlakes\":true,\"lakecolor\":\"white\"},\"title\":{\"x\":0.05},\"mapbox\":{\"style\":\"light\"}}},\"xaxis\":{\"anchor\":\"y\",\"domain\":[0.0,1.0],\"title\":{\"text\":\"Round\"}},\"yaxis\":{\"anchor\":\"x\",\"domain\":[0.0,1.0],\"title\":{\"text\":\"# Active Barcodes\"}},\"legend\":{\"tracegroupgap\":0},\"title\":{\"text\":\"Total Barcode Activity per Imaging Round\"},\"barmode\":\"relative\",\"height\":500,\"width\":800},                        {\"responsive\": true}                    ).then(function(){\n",
       "                            \n",
       "var gd = document.getElementById('b7f1284f-9f15-48cc-bcf2-2d8b35466087');\n",
       "var x = new MutationObserver(function (mutations, observer) {{\n",
       "        var display = window.getComputedStyle(gd).display;\n",
       "        if (!display || display === 'none') {{\n",
       "            console.log([gd, 'removed!']);\n",
       "            Plotly.purge(gd);\n",
       "            observer.disconnect();\n",
       "        }}\n",
       "}});\n",
       "\n",
       "// Listen for the removal of the full notebook cells\n",
       "var notebookContainer = gd.closest('#notebook-container');\n",
       "if (notebookContainer) {{\n",
       "    x.observe(notebookContainer, {childList: true});\n",
       "}}\n",
       "\n",
       "// Listen for the clearing of the current output cell\n",
       "var outputEl = gd.closest('.output');\n",
       "if (outputEl) {{\n",
       "    x.observe(outputEl, {childList: true});\n",
       "}}\n",
       "\n",
       "                        })                };                });            </script>        </div>"
      ]
     },
     "metadata": {},
     "output_type": "display_data"
    }
   ],
   "source": [
    "# 7. Binary Barcode Generation Helpers\n",
    "# ------------------------------------------------------------------------------\n",
    "def generate_fixed_weight_codes(n_bits, weight):\n",
    "    return [np.array([1 if i in pos else 0 for i in range(n_bits)])\n",
    "            for pos in combinations(range(n_bits), weight)]\n",
    "\n",
    "def select_codes_with_round_limit(codes, min_distance, max_round_activity,\n",
    "                                  num_required, n_bits):\n",
    "    selected = []\n",
    "    round_activity = np.zeros(n_bits, dtype=int)\n",
    "    for code in codes:\n",
    "        if len(selected) >= num_required:\n",
    "            break\n",
    "        if any(np.sum(np.abs(code - c)) < min_distance for c in selected):\n",
    "            continue\n",
    "        if any((round_activity + code) > max_round_activity):\n",
    "            continue\n",
    "        selected.append(code)\n",
    "        round_activity += code\n",
    "    return selected, round_activity\n",
    "\n",
    "all_codes = generate_fixed_weight_codes(N_BITS, WEIGHT)\n",
    "\n",
    "green_binary, green_rounds = select_codes_with_round_limit(\n",
    "    all_codes, MIN_DIST, MAX_ROUND_ACTIVITY, len(green_loci), N_BITS)\n",
    "\n",
    "remaining_codes = [c for c in all_codes if c.tolist() not in [g.tolist() for g in green_binary]]\n",
    "\n",
    "red_binary, red_rounds = select_codes_with_round_limit(\n",
    "    remaining_codes, MIN_DIST, MAX_ROUND_ACTIVITY, len(red_loci), N_BITS)\n",
    "\n",
    "logger.info(\"Binary codes selected | green=%d  red=%d\", len(green_binary), len(red_binary))\n",
    "\n",
    "# QC Plot – combined round utilisation\n",
    "round_total = green_rounds + red_rounds\n",
    "px.bar(\n",
    "    x=list(range(1, N_BITS + 1)),\n",
    "    y=round_total,\n",
    "    title=\"Total Barcode Activity per Imaging Round\",\n",
    "    labels={\"x\": \"Round\", \"y\": \"# Active Barcodes\"},\n",
    "    template=PLOT_THEME,\n",
    "    height=PLOT_HEIGHT,\n",
    "    width = 800\n",
    ").show()\n"
   ]
  },
  {
   "cell_type": "code",
   "execution_count": 130,
   "id": "4fea0d845b8601df",
   "metadata": {
    "ExecuteTime": {
     "end_time": "2025-05-13T19:10:54.020633Z",
     "start_time": "2025-05-13T19:10:53.991825Z"
    },
    "collapsed": false
   },
   "outputs": [
    {
     "name": "stderr",
     "output_type": "stream",
     "text": [
      "19:10:54 [INFO] Barcode sequences appended to probes\n",
      "19:10:54 [INFO] All CSV/text outputs written to /Data1/git/oligopaint-mrna-intron-matching/outputs/ORCA\n"
     ]
    }
   ],
   "source": [
    "# 8. Map Loci → DNA tag + Binary code\n",
    "# ------------------------------------------------------------------------------\n",
    "green_map = {\n",
    "    lc: {\"dna\": dn, \"binary\": ''.join(map(str, bin_))}\n",
    "    for lc, dn, bin_ in zip(green_loci, green_dna, green_binary)\n",
    "}\n",
    "red_map = {\n",
    "    lc: {\"dna\": dn, \"binary\": ''.join(map(str, bin_))}\n",
    "    for lc, dn, bin_ in zip(red_loci,   red_dna,  red_binary)\n",
    "}\n",
    "\n",
    "# 9. Append Barcodes to Probe Sequences\n",
    "# ------------------------------------------------------------------------------\n",
    "def append_barcodes(df, mapping, constant_upstream, channel_label):\n",
    "    sub = df[df['locus'].isin(mapping)].copy()\n",
    "    sub = sub.merge(\n",
    "        pd.DataFrame.from_dict(mapping, orient=\"index\")\n",
    "          .reset_index()\n",
    "          .rename(columns={\"index\": \"locus\"}),\n",
    "        on=\"locus\"\n",
    "    )\n",
    "    sub['channel'] = channel_label\n",
    "    sub['barcode_appended_seq'] = (\n",
    "        constant_upstream + sub['seq'] + sub['dna'].str.lower()\n",
    "    )\n",
    "    return sub\n",
    "\n",
    "probes_green = append_barcodes(probes_df, green_map, green_const, \"green\")\n",
    "probes_red   = append_barcodes(probes_df, red_map,   red_const,  \"red\")\n",
    "\n",
    "logger.info(\"Barcode sequences appended to probes\")\n",
    "# %% ---------------------------------------------------------------------------\n",
    "# 10. Build Codebooks & Save Outputs            ←‑‑‑‑ only function below changed\n",
    "# ------------------------------------------------------------------------------\n",
    "def to_codebook(mapping):\n",
    "    \"\"\"\n",
    "    Return a DataFrame with the same column names as the legacy pipeline\n",
    "    so that downstream code expects `barcode_binary`, not `binary`.\n",
    "    \"\"\"\n",
    "    return pd.DataFrame([\n",
    "        {\n",
    "            \"locus\":           k,\n",
    "            \"barcode\":         v[\"dna\"],\n",
    "            \"barcode_binary\":  v[\"binary\"],\n",
    "        }\n",
    "        for k, v in mapping.items()\n",
    "    ])\n",
    "\n",
    "green_codebook = to_codebook(green_map)\n",
    "red_codebook   = to_codebook(red_map)\n",
    "\n",
    "def _save(df, fname):\n",
    "    df.to_csv(os.path.join(OUTPUT_DIR, fname), index=False)\n",
    "    logger.debug(\"Saved %s\", fname)\n",
    "\n",
    "_save(probes_green, \"green/barcode_appended_probes_green.csv\")\n",
    "_save(probes_red,   \"red/barcode_appended_probes_red.csv\")\n",
    "_save(fiducials_df, \"MERFISH_fiducial_barcoded.csv\")\n",
    "_save(green_codebook, \"green/barcode_codebook_green.csv\")\n",
    "_save(red_codebook,   \"red/barcode_codebook_red.csv\")\n",
    "\n",
    "with open(os.path.join(OUTPUT_DIR, \"constant_upstream_barcodes.txt\"), \"w\") as fh:\n",
    "    fh.write(f\"Green constant upstream: {green_const.upper()}\\n\")\n",
    "    fh.write(f\"Red constant upstream:   {red_const.upper()}\\n\")\n",
    "logger.info(\"All CSV/text outputs written to %s\", OUTPUT_DIR)\n"
   ]
  },
  {
   "cell_type": "code",
   "execution_count": 131,
   "id": "66ef243421c59a6d",
   "metadata": {
    "ExecuteTime": {
     "end_time": "2025-05-13T19:10:54.914702Z",
     "start_time": "2025-05-13T19:10:54.810471Z"
    },
    "collapsed": false
   },
   "outputs": [
    {
     "data": {
      "application/vnd.plotly.v1+json": {
       "config": {
        "plotlyServerURL": "https://plot.ly"
       },
       "data": [
        {
         "coloraxis": "coloraxis",
         "hovertemplate": "x: %{x}<br>y: %{y}<br>color: %{z}<extra></extra>",
         "name": "0",
         "type": "heatmap",
         "x": [
          "R1",
          "R2",
          "R3",
          "R4",
          "R5",
          "R6",
          "R7",
          "R8",
          "R9",
          "R10",
          "R11",
          "R12",
          "R13",
          "R14",
          "R15",
          "R16"
         ],
         "xaxis": "x",
         "y": [
          "P-rex-23",
          "rex-46",
          "rex-16",
          "nDCC-22",
          "rex-37",
          "nDCC-1",
          "P-rex-16",
          "rex-32",
          "rex-8",
          "nDCC-16",
          "P-rex-21",
          "rex-31",
          "rex-5",
          "rex-2/nDCC-9",
          "rex-26",
          "P-rex-25",
          "P-rex-22",
          "P-rex-3",
          "rex-19",
          "rex-34",
          "nDCC-7",
          "rex-28",
          "rex-20",
          "nDCC-11",
          "nDCC-10",
          "nDCC-2",
          "P-rex-26",
          "rex-29",
          "rex-47",
          "rex-4",
          "nDCC-18",
          "rex-41",
          "nDCC-17",
          "rex-7",
          "rex-45",
          "P-rex-11"
         ],
         "yaxis": "y",
         "z": [
          [
           1,
           1,
           1,
           1,
           0,
           0,
           0,
           0,
           0,
           0,
           0,
           0,
           0,
           0,
           0,
           0
          ],
          [
           1,
           1,
           0,
           0,
           1,
           1,
           0,
           0,
           0,
           0,
           0,
           0,
           0,
           0,
           0,
           0
          ],
          [
           1,
           1,
           0,
           0,
           0,
           0,
           1,
           1,
           0,
           0,
           0,
           0,
           0,
           0,
           0,
           0
          ],
          [
           1,
           1,
           0,
           0,
           0,
           0,
           0,
           0,
           1,
           1,
           0,
           0,
           0,
           0,
           0,
           0
          ],
          [
           1,
           1,
           0,
           0,
           0,
           0,
           0,
           0,
           0,
           0,
           1,
           1,
           0,
           0,
           0,
           0
          ],
          [
           1,
           1,
           0,
           0,
           0,
           0,
           0,
           0,
           0,
           0,
           0,
           0,
           1,
           1,
           0,
           0
          ],
          [
           1,
           1,
           0,
           0,
           0,
           0,
           0,
           0,
           0,
           0,
           0,
           0,
           0,
           0,
           1,
           1
          ],
          [
           1,
           0,
           1,
           0,
           1,
           0,
           1,
           0,
           0,
           0,
           0,
           0,
           0,
           0,
           0,
           0
          ],
          [
           1,
           0,
           1,
           0,
           0,
           1,
           0,
           1,
           0,
           0,
           0,
           0,
           0,
           0,
           0,
           0
          ],
          [
           1,
           0,
           1,
           0,
           0,
           0,
           0,
           0,
           1,
           0,
           1,
           0,
           0,
           0,
           0,
           0
          ],
          [
           1,
           0,
           1,
           0,
           0,
           0,
           0,
           0,
           0,
           1,
           0,
           1,
           0,
           0,
           0,
           0
          ],
          [
           1,
           0,
           1,
           0,
           0,
           0,
           0,
           0,
           0,
           0,
           0,
           0,
           1,
           0,
           1,
           0
          ],
          [
           1,
           0,
           1,
           0,
           0,
           0,
           0,
           0,
           0,
           0,
           0,
           0,
           0,
           1,
           0,
           1
          ],
          [
           1,
           0,
           0,
           1,
           1,
           0,
           0,
           1,
           0,
           0,
           0,
           0,
           0,
           0,
           0,
           0
          ],
          [
           1,
           0,
           0,
           1,
           0,
           1,
           1,
           0,
           0,
           0,
           0,
           0,
           0,
           0,
           0,
           0
          ],
          [
           0,
           1,
           1,
           0,
           1,
           0,
           0,
           1,
           0,
           0,
           0,
           0,
           0,
           0,
           0,
           0
          ],
          [
           0,
           1,
           1,
           0,
           0,
           1,
           1,
           0,
           0,
           0,
           0,
           0,
           0,
           0,
           0,
           0
          ],
          [
           0,
           1,
           1,
           0,
           0,
           0,
           0,
           0,
           1,
           0,
           0,
           1,
           0,
           0,
           0,
           0
          ],
          [
           0,
           1,
           1,
           0,
           0,
           0,
           0,
           0,
           0,
           1,
           1,
           0,
           0,
           0,
           0,
           0
          ],
          [
           0,
           1,
           1,
           0,
           0,
           0,
           0,
           0,
           0,
           0,
           0,
           0,
           1,
           0,
           0,
           1
          ],
          [
           0,
           1,
           1,
           0,
           0,
           0,
           0,
           0,
           0,
           0,
           0,
           0,
           0,
           1,
           1,
           0
          ],
          [
           0,
           1,
           0,
           1,
           1,
           0,
           1,
           0,
           0,
           0,
           0,
           0,
           0,
           0,
           0,
           0
          ],
          [
           0,
           1,
           0,
           1,
           0,
           1,
           0,
           1,
           0,
           0,
           0,
           0,
           0,
           0,
           0,
           0
          ],
          [
           0,
           0,
           1,
           1,
           1,
           1,
           0,
           0,
           0,
           0,
           0,
           0,
           0,
           0,
           0,
           0
          ],
          [
           0,
           0,
           1,
           1,
           0,
           0,
           1,
           1,
           0,
           0,
           0,
           0,
           0,
           0,
           0,
           0
          ],
          [
           0,
           0,
           0,
           1,
           1,
           0,
           0,
           0,
           1,
           1,
           0,
           0,
           0,
           0,
           0,
           0
          ],
          [
           0,
           0,
           0,
           1,
           1,
           0,
           0,
           0,
           0,
           0,
           1,
           1,
           0,
           0,
           0,
           0
          ],
          [
           0,
           0,
           0,
           1,
           1,
           0,
           0,
           0,
           0,
           0,
           0,
           0,
           1,
           1,
           0,
           0
          ],
          [
           0,
           0,
           0,
           1,
           1,
           0,
           0,
           0,
           0,
           0,
           0,
           0,
           0,
           0,
           1,
           1
          ],
          [
           0,
           0,
           0,
           1,
           0,
           1,
           0,
           0,
           1,
           0,
           1,
           0,
           0,
           0,
           0,
           0
          ],
          [
           0,
           0,
           0,
           1,
           0,
           1,
           0,
           0,
           0,
           1,
           0,
           1,
           0,
           0,
           0,
           0
          ],
          [
           0,
           0,
           0,
           1,
           0,
           1,
           0,
           0,
           0,
           0,
           0,
           0,
           1,
           0,
           1,
           0
          ],
          [
           0,
           0,
           0,
           1,
           0,
           1,
           0,
           0,
           0,
           0,
           0,
           0,
           0,
           1,
           0,
           1
          ],
          [
           0,
           0,
           0,
           0,
           1,
           1,
           1,
           1,
           0,
           0,
           0,
           0,
           0,
           0,
           0,
           0
          ],
          [
           0,
           0,
           0,
           0,
           1,
           1,
           0,
           0,
           1,
           0,
           0,
           1,
           0,
           0,
           0,
           0
          ],
          [
           0,
           0,
           0,
           0,
           1,
           1,
           0,
           0,
           0,
           1,
           1,
           0,
           0,
           0,
           0,
           0
          ]
         ]
        }
       ],
       "layout": {
        "coloraxis": {
         "colorscale": [
          [
           0.0,
           "rgb(255,245,240)"
          ],
          [
           0.125,
           "rgb(254,224,210)"
          ],
          [
           0.25,
           "rgb(252,187,161)"
          ],
          [
           0.375,
           "rgb(252,146,114)"
          ],
          [
           0.5,
           "rgb(251,106,74)"
          ],
          [
           0.625,
           "rgb(239,59,44)"
          ],
          [
           0.75,
           "rgb(203,24,29)"
          ],
          [
           0.875,
           "rgb(165,15,21)"
          ],
          [
           1.0,
           "rgb(103,0,13)"
          ]
         ]
        },
        "height": 1000,
        "template": {
         "data": {
          "bar": [
           {
            "error_x": {
             "color": "#2a3f5f"
            },
            "error_y": {
             "color": "#2a3f5f"
            },
            "marker": {
             "line": {
              "color": "white",
              "width": 0.5
             },
             "pattern": {
              "fillmode": "overlay",
              "size": 10,
              "solidity": 0.2
             }
            },
            "type": "bar"
           }
          ],
          "barpolar": [
           {
            "marker": {
             "line": {
              "color": "white",
              "width": 0.5
             },
             "pattern": {
              "fillmode": "overlay",
              "size": 10,
              "solidity": 0.2
             }
            },
            "type": "barpolar"
           }
          ],
          "carpet": [
           {
            "aaxis": {
             "endlinecolor": "#2a3f5f",
             "gridcolor": "#C8D4E3",
             "linecolor": "#C8D4E3",
             "minorgridcolor": "#C8D4E3",
             "startlinecolor": "#2a3f5f"
            },
            "baxis": {
             "endlinecolor": "#2a3f5f",
             "gridcolor": "#C8D4E3",
             "linecolor": "#C8D4E3",
             "minorgridcolor": "#C8D4E3",
             "startlinecolor": "#2a3f5f"
            },
            "type": "carpet"
           }
          ],
          "choropleth": [
           {
            "colorbar": {
             "outlinewidth": 0,
             "ticks": ""
            },
            "type": "choropleth"
           }
          ],
          "contour": [
           {
            "colorbar": {
             "outlinewidth": 0,
             "ticks": ""
            },
            "colorscale": [
             [
              0.0,
              "#0d0887"
             ],
             [
              0.1111111111111111,
              "#46039f"
             ],
             [
              0.2222222222222222,
              "#7201a8"
             ],
             [
              0.3333333333333333,
              "#9c179e"
             ],
             [
              0.4444444444444444,
              "#bd3786"
             ],
             [
              0.5555555555555556,
              "#d8576b"
             ],
             [
              0.6666666666666666,
              "#ed7953"
             ],
             [
              0.7777777777777778,
              "#fb9f3a"
             ],
             [
              0.8888888888888888,
              "#fdca26"
             ],
             [
              1.0,
              "#f0f921"
             ]
            ],
            "type": "contour"
           }
          ],
          "contourcarpet": [
           {
            "colorbar": {
             "outlinewidth": 0,
             "ticks": ""
            },
            "type": "contourcarpet"
           }
          ],
          "heatmap": [
           {
            "colorbar": {
             "outlinewidth": 0,
             "ticks": ""
            },
            "colorscale": [
             [
              0.0,
              "#0d0887"
             ],
             [
              0.1111111111111111,
              "#46039f"
             ],
             [
              0.2222222222222222,
              "#7201a8"
             ],
             [
              0.3333333333333333,
              "#9c179e"
             ],
             [
              0.4444444444444444,
              "#bd3786"
             ],
             [
              0.5555555555555556,
              "#d8576b"
             ],
             [
              0.6666666666666666,
              "#ed7953"
             ],
             [
              0.7777777777777778,
              "#fb9f3a"
             ],
             [
              0.8888888888888888,
              "#fdca26"
             ],
             [
              1.0,
              "#f0f921"
             ]
            ],
            "type": "heatmap"
           }
          ],
          "heatmapgl": [
           {
            "colorbar": {
             "outlinewidth": 0,
             "ticks": ""
            },
            "colorscale": [
             [
              0.0,
              "#0d0887"
             ],
             [
              0.1111111111111111,
              "#46039f"
             ],
             [
              0.2222222222222222,
              "#7201a8"
             ],
             [
              0.3333333333333333,
              "#9c179e"
             ],
             [
              0.4444444444444444,
              "#bd3786"
             ],
             [
              0.5555555555555556,
              "#d8576b"
             ],
             [
              0.6666666666666666,
              "#ed7953"
             ],
             [
              0.7777777777777778,
              "#fb9f3a"
             ],
             [
              0.8888888888888888,
              "#fdca26"
             ],
             [
              1.0,
              "#f0f921"
             ]
            ],
            "type": "heatmapgl"
           }
          ],
          "histogram": [
           {
            "marker": {
             "pattern": {
              "fillmode": "overlay",
              "size": 10,
              "solidity": 0.2
             }
            },
            "type": "histogram"
           }
          ],
          "histogram2d": [
           {
            "colorbar": {
             "outlinewidth": 0,
             "ticks": ""
            },
            "colorscale": [
             [
              0.0,
              "#0d0887"
             ],
             [
              0.1111111111111111,
              "#46039f"
             ],
             [
              0.2222222222222222,
              "#7201a8"
             ],
             [
              0.3333333333333333,
              "#9c179e"
             ],
             [
              0.4444444444444444,
              "#bd3786"
             ],
             [
              0.5555555555555556,
              "#d8576b"
             ],
             [
              0.6666666666666666,
              "#ed7953"
             ],
             [
              0.7777777777777778,
              "#fb9f3a"
             ],
             [
              0.8888888888888888,
              "#fdca26"
             ],
             [
              1.0,
              "#f0f921"
             ]
            ],
            "type": "histogram2d"
           }
          ],
          "histogram2dcontour": [
           {
            "colorbar": {
             "outlinewidth": 0,
             "ticks": ""
            },
            "colorscale": [
             [
              0.0,
              "#0d0887"
             ],
             [
              0.1111111111111111,
              "#46039f"
             ],
             [
              0.2222222222222222,
              "#7201a8"
             ],
             [
              0.3333333333333333,
              "#9c179e"
             ],
             [
              0.4444444444444444,
              "#bd3786"
             ],
             [
              0.5555555555555556,
              "#d8576b"
             ],
             [
              0.6666666666666666,
              "#ed7953"
             ],
             [
              0.7777777777777778,
              "#fb9f3a"
             ],
             [
              0.8888888888888888,
              "#fdca26"
             ],
             [
              1.0,
              "#f0f921"
             ]
            ],
            "type": "histogram2dcontour"
           }
          ],
          "mesh3d": [
           {
            "colorbar": {
             "outlinewidth": 0,
             "ticks": ""
            },
            "type": "mesh3d"
           }
          ],
          "parcoords": [
           {
            "line": {
             "colorbar": {
              "outlinewidth": 0,
              "ticks": ""
             }
            },
            "type": "parcoords"
           }
          ],
          "pie": [
           {
            "automargin": true,
            "type": "pie"
           }
          ],
          "scatter": [
           {
            "fillpattern": {
             "fillmode": "overlay",
             "size": 10,
             "solidity": 0.2
            },
            "type": "scatter"
           }
          ],
          "scatter3d": [
           {
            "line": {
             "colorbar": {
              "outlinewidth": 0,
              "ticks": ""
             }
            },
            "marker": {
             "colorbar": {
              "outlinewidth": 0,
              "ticks": ""
             }
            },
            "type": "scatter3d"
           }
          ],
          "scattercarpet": [
           {
            "marker": {
             "colorbar": {
              "outlinewidth": 0,
              "ticks": ""
             }
            },
            "type": "scattercarpet"
           }
          ],
          "scattergeo": [
           {
            "marker": {
             "colorbar": {
              "outlinewidth": 0,
              "ticks": ""
             }
            },
            "type": "scattergeo"
           }
          ],
          "scattergl": [
           {
            "marker": {
             "colorbar": {
              "outlinewidth": 0,
              "ticks": ""
             }
            },
            "type": "scattergl"
           }
          ],
          "scattermapbox": [
           {
            "marker": {
             "colorbar": {
              "outlinewidth": 0,
              "ticks": ""
             }
            },
            "type": "scattermapbox"
           }
          ],
          "scatterpolar": [
           {
            "marker": {
             "colorbar": {
              "outlinewidth": 0,
              "ticks": ""
             }
            },
            "type": "scatterpolar"
           }
          ],
          "scatterpolargl": [
           {
            "marker": {
             "colorbar": {
              "outlinewidth": 0,
              "ticks": ""
             }
            },
            "type": "scatterpolargl"
           }
          ],
          "scatterternary": [
           {
            "marker": {
             "colorbar": {
              "outlinewidth": 0,
              "ticks": ""
             }
            },
            "type": "scatterternary"
           }
          ],
          "surface": [
           {
            "colorbar": {
             "outlinewidth": 0,
             "ticks": ""
            },
            "colorscale": [
             [
              0.0,
              "#0d0887"
             ],
             [
              0.1111111111111111,
              "#46039f"
             ],
             [
              0.2222222222222222,
              "#7201a8"
             ],
             [
              0.3333333333333333,
              "#9c179e"
             ],
             [
              0.4444444444444444,
              "#bd3786"
             ],
             [
              0.5555555555555556,
              "#d8576b"
             ],
             [
              0.6666666666666666,
              "#ed7953"
             ],
             [
              0.7777777777777778,
              "#fb9f3a"
             ],
             [
              0.8888888888888888,
              "#fdca26"
             ],
             [
              1.0,
              "#f0f921"
             ]
            ],
            "type": "surface"
           }
          ],
          "table": [
           {
            "cells": {
             "fill": {
              "color": "#EBF0F8"
             },
             "line": {
              "color": "white"
             }
            },
            "header": {
             "fill": {
              "color": "#C8D4E3"
             },
             "line": {
              "color": "white"
             }
            },
            "type": "table"
           }
          ]
         },
         "layout": {
          "annotationdefaults": {
           "arrowcolor": "#2a3f5f",
           "arrowhead": 0,
           "arrowwidth": 1
          },
          "autotypenumbers": "strict",
          "coloraxis": {
           "colorbar": {
            "outlinewidth": 0,
            "ticks": ""
           }
          },
          "colorscale": {
           "diverging": [
            [
             0,
             "#8e0152"
            ],
            [
             0.1,
             "#c51b7d"
            ],
            [
             0.2,
             "#de77ae"
            ],
            [
             0.3,
             "#f1b6da"
            ],
            [
             0.4,
             "#fde0ef"
            ],
            [
             0.5,
             "#f7f7f7"
            ],
            [
             0.6,
             "#e6f5d0"
            ],
            [
             0.7,
             "#b8e186"
            ],
            [
             0.8,
             "#7fbc41"
            ],
            [
             0.9,
             "#4d9221"
            ],
            [
             1,
             "#276419"
            ]
           ],
           "sequential": [
            [
             0.0,
             "#0d0887"
            ],
            [
             0.1111111111111111,
             "#46039f"
            ],
            [
             0.2222222222222222,
             "#7201a8"
            ],
            [
             0.3333333333333333,
             "#9c179e"
            ],
            [
             0.4444444444444444,
             "#bd3786"
            ],
            [
             0.5555555555555556,
             "#d8576b"
            ],
            [
             0.6666666666666666,
             "#ed7953"
            ],
            [
             0.7777777777777778,
             "#fb9f3a"
            ],
            [
             0.8888888888888888,
             "#fdca26"
            ],
            [
             1.0,
             "#f0f921"
            ]
           ],
           "sequentialminus": [
            [
             0.0,
             "#0d0887"
            ],
            [
             0.1111111111111111,
             "#46039f"
            ],
            [
             0.2222222222222222,
             "#7201a8"
            ],
            [
             0.3333333333333333,
             "#9c179e"
            ],
            [
             0.4444444444444444,
             "#bd3786"
            ],
            [
             0.5555555555555556,
             "#d8576b"
            ],
            [
             0.6666666666666666,
             "#ed7953"
            ],
            [
             0.7777777777777778,
             "#fb9f3a"
            ],
            [
             0.8888888888888888,
             "#fdca26"
            ],
            [
             1.0,
             "#f0f921"
            ]
           ]
          },
          "colorway": [
           "#636efa",
           "#EF553B",
           "#00cc96",
           "#ab63fa",
           "#FFA15A",
           "#19d3f3",
           "#FF6692",
           "#B6E880",
           "#FF97FF",
           "#FECB52"
          ],
          "font": {
           "color": "#2a3f5f"
          },
          "geo": {
           "bgcolor": "white",
           "lakecolor": "white",
           "landcolor": "white",
           "showlakes": true,
           "showland": true,
           "subunitcolor": "#C8D4E3"
          },
          "hoverlabel": {
           "align": "left"
          },
          "hovermode": "closest",
          "mapbox": {
           "style": "light"
          },
          "paper_bgcolor": "white",
          "plot_bgcolor": "white",
          "polar": {
           "angularaxis": {
            "gridcolor": "#EBF0F8",
            "linecolor": "#EBF0F8",
            "ticks": ""
           },
           "bgcolor": "white",
           "radialaxis": {
            "gridcolor": "#EBF0F8",
            "linecolor": "#EBF0F8",
            "ticks": ""
           }
          },
          "scene": {
           "xaxis": {
            "backgroundcolor": "white",
            "gridcolor": "#DFE8F3",
            "gridwidth": 2,
            "linecolor": "#EBF0F8",
            "showbackground": true,
            "ticks": "",
            "zerolinecolor": "#EBF0F8"
           },
           "yaxis": {
            "backgroundcolor": "white",
            "gridcolor": "#DFE8F3",
            "gridwidth": 2,
            "linecolor": "#EBF0F8",
            "showbackground": true,
            "ticks": "",
            "zerolinecolor": "#EBF0F8"
           },
           "zaxis": {
            "backgroundcolor": "white",
            "gridcolor": "#DFE8F3",
            "gridwidth": 2,
            "linecolor": "#EBF0F8",
            "showbackground": true,
            "ticks": "",
            "zerolinecolor": "#EBF0F8"
           }
          },
          "shapedefaults": {
           "line": {
            "color": "#2a3f5f"
           }
          },
          "ternary": {
           "aaxis": {
            "gridcolor": "#DFE8F3",
            "linecolor": "#A2B1C6",
            "ticks": ""
           },
           "baxis": {
            "gridcolor": "#DFE8F3",
            "linecolor": "#A2B1C6",
            "ticks": ""
           },
           "bgcolor": "white",
           "caxis": {
            "gridcolor": "#DFE8F3",
            "linecolor": "#A2B1C6",
            "ticks": ""
           }
          },
          "title": {
           "x": 0.05
          },
          "xaxis": {
           "automargin": true,
           "gridcolor": "#EBF0F8",
           "linecolor": "#EBF0F8",
           "ticks": "",
           "title": {
            "standoff": 15
           },
           "zerolinecolor": "#EBF0F8",
           "zerolinewidth": 2
          },
          "yaxis": {
           "automargin": true,
           "gridcolor": "#EBF0F8",
           "linecolor": "#EBF0F8",
           "ticks": "",
           "title": {
            "standoff": 15
           },
           "zerolinecolor": "#EBF0F8",
           "zerolinewidth": 2
          }
         }
        },
        "title": {
         "text": "Green Channel – Barcode Activation Map"
        },
        "width": 1000,
        "xaxis": {
         "anchor": "y",
         "constrain": "domain",
         "domain": [
          0.0,
          1.0
         ],
         "scaleanchor": "y"
        },
        "yaxis": {
         "anchor": "x",
         "autorange": "reversed",
         "constrain": "domain",
         "domain": [
          0.0,
          1.0
         ]
        }
       }
      },
      "text/html": [
       "<div>                            <div id=\"bf816a21-ed14-4fa6-9636-967f63fd4146\" class=\"plotly-graph-div\" style=\"height:1000px; width:1000px;\"></div>            <script type=\"text/javascript\">                require([\"plotly\"], function(Plotly) {                    window.PLOTLYENV=window.PLOTLYENV || {};                                    if (document.getElementById(\"bf816a21-ed14-4fa6-9636-967f63fd4146\")) {                    Plotly.newPlot(                        \"bf816a21-ed14-4fa6-9636-967f63fd4146\",                        [{\"coloraxis\":\"coloraxis\",\"name\":\"0\",\"x\":[\"R1\",\"R2\",\"R3\",\"R4\",\"R5\",\"R6\",\"R7\",\"R8\",\"R9\",\"R10\",\"R11\",\"R12\",\"R13\",\"R14\",\"R15\",\"R16\"],\"y\":[\"P-rex-23\",\"rex-46\",\"rex-16\",\"nDCC-22\",\"rex-37\",\"nDCC-1\",\"P-rex-16\",\"rex-32\",\"rex-8\",\"nDCC-16\",\"P-rex-21\",\"rex-31\",\"rex-5\",\"rex-2\\u002fnDCC-9\",\"rex-26\",\"P-rex-25\",\"P-rex-22\",\"P-rex-3\",\"rex-19\",\"rex-34\",\"nDCC-7\",\"rex-28\",\"rex-20\",\"nDCC-11\",\"nDCC-10\",\"nDCC-2\",\"P-rex-26\",\"rex-29\",\"rex-47\",\"rex-4\",\"nDCC-18\",\"rex-41\",\"nDCC-17\",\"rex-7\",\"rex-45\",\"P-rex-11\"],\"z\":[[1,1,1,1,0,0,0,0,0,0,0,0,0,0,0,0],[1,1,0,0,1,1,0,0,0,0,0,0,0,0,0,0],[1,1,0,0,0,0,1,1,0,0,0,0,0,0,0,0],[1,1,0,0,0,0,0,0,1,1,0,0,0,0,0,0],[1,1,0,0,0,0,0,0,0,0,1,1,0,0,0,0],[1,1,0,0,0,0,0,0,0,0,0,0,1,1,0,0],[1,1,0,0,0,0,0,0,0,0,0,0,0,0,1,1],[1,0,1,0,1,0,1,0,0,0,0,0,0,0,0,0],[1,0,1,0,0,1,0,1,0,0,0,0,0,0,0,0],[1,0,1,0,0,0,0,0,1,0,1,0,0,0,0,0],[1,0,1,0,0,0,0,0,0,1,0,1,0,0,0,0],[1,0,1,0,0,0,0,0,0,0,0,0,1,0,1,0],[1,0,1,0,0,0,0,0,0,0,0,0,0,1,0,1],[1,0,0,1,1,0,0,1,0,0,0,0,0,0,0,0],[1,0,0,1,0,1,1,0,0,0,0,0,0,0,0,0],[0,1,1,0,1,0,0,1,0,0,0,0,0,0,0,0],[0,1,1,0,0,1,1,0,0,0,0,0,0,0,0,0],[0,1,1,0,0,0,0,0,1,0,0,1,0,0,0,0],[0,1,1,0,0,0,0,0,0,1,1,0,0,0,0,0],[0,1,1,0,0,0,0,0,0,0,0,0,1,0,0,1],[0,1,1,0,0,0,0,0,0,0,0,0,0,1,1,0],[0,1,0,1,1,0,1,0,0,0,0,0,0,0,0,0],[0,1,0,1,0,1,0,1,0,0,0,0,0,0,0,0],[0,0,1,1,1,1,0,0,0,0,0,0,0,0,0,0],[0,0,1,1,0,0,1,1,0,0,0,0,0,0,0,0],[0,0,0,1,1,0,0,0,1,1,0,0,0,0,0,0],[0,0,0,1,1,0,0,0,0,0,1,1,0,0,0,0],[0,0,0,1,1,0,0,0,0,0,0,0,1,1,0,0],[0,0,0,1,1,0,0,0,0,0,0,0,0,0,1,1],[0,0,0,1,0,1,0,0,1,0,1,0,0,0,0,0],[0,0,0,1,0,1,0,0,0,1,0,1,0,0,0,0],[0,0,0,1,0,1,0,0,0,0,0,0,1,0,1,0],[0,0,0,1,0,1,0,0,0,0,0,0,0,1,0,1],[0,0,0,0,1,1,1,1,0,0,0,0,0,0,0,0],[0,0,0,0,1,1,0,0,1,0,0,1,0,0,0,0],[0,0,0,0,1,1,0,0,0,1,1,0,0,0,0,0]],\"type\":\"heatmap\",\"xaxis\":\"x\",\"yaxis\":\"y\",\"hovertemplate\":\"x: %{x}\\u003cbr\\u003ey: %{y}\\u003cbr\\u003ecolor: %{z}\\u003cextra\\u003e\\u003c\\u002fextra\\u003e\"}],                        {\"template\":{\"data\":{\"histogram2dcontour\":[{\"type\":\"histogram2dcontour\",\"colorbar\":{\"outlinewidth\":0,\"ticks\":\"\"},\"colorscale\":[[0.0,\"#0d0887\"],[0.1111111111111111,\"#46039f\"],[0.2222222222222222,\"#7201a8\"],[0.3333333333333333,\"#9c179e\"],[0.4444444444444444,\"#bd3786\"],[0.5555555555555556,\"#d8576b\"],[0.6666666666666666,\"#ed7953\"],[0.7777777777777778,\"#fb9f3a\"],[0.8888888888888888,\"#fdca26\"],[1.0,\"#f0f921\"]]}],\"choropleth\":[{\"type\":\"choropleth\",\"colorbar\":{\"outlinewidth\":0,\"ticks\":\"\"}}],\"histogram2d\":[{\"type\":\"histogram2d\",\"colorbar\":{\"outlinewidth\":0,\"ticks\":\"\"},\"colorscale\":[[0.0,\"#0d0887\"],[0.1111111111111111,\"#46039f\"],[0.2222222222222222,\"#7201a8\"],[0.3333333333333333,\"#9c179e\"],[0.4444444444444444,\"#bd3786\"],[0.5555555555555556,\"#d8576b\"],[0.6666666666666666,\"#ed7953\"],[0.7777777777777778,\"#fb9f3a\"],[0.8888888888888888,\"#fdca26\"],[1.0,\"#f0f921\"]]}],\"heatmap\":[{\"type\":\"heatmap\",\"colorbar\":{\"outlinewidth\":0,\"ticks\":\"\"},\"colorscale\":[[0.0,\"#0d0887\"],[0.1111111111111111,\"#46039f\"],[0.2222222222222222,\"#7201a8\"],[0.3333333333333333,\"#9c179e\"],[0.4444444444444444,\"#bd3786\"],[0.5555555555555556,\"#d8576b\"],[0.6666666666666666,\"#ed7953\"],[0.7777777777777778,\"#fb9f3a\"],[0.8888888888888888,\"#fdca26\"],[1.0,\"#f0f921\"]]}],\"heatmapgl\":[{\"type\":\"heatmapgl\",\"colorbar\":{\"outlinewidth\":0,\"ticks\":\"\"},\"colorscale\":[[0.0,\"#0d0887\"],[0.1111111111111111,\"#46039f\"],[0.2222222222222222,\"#7201a8\"],[0.3333333333333333,\"#9c179e\"],[0.4444444444444444,\"#bd3786\"],[0.5555555555555556,\"#d8576b\"],[0.6666666666666666,\"#ed7953\"],[0.7777777777777778,\"#fb9f3a\"],[0.8888888888888888,\"#fdca26\"],[1.0,\"#f0f921\"]]}],\"contourcarpet\":[{\"type\":\"contourcarpet\",\"colorbar\":{\"outlinewidth\":0,\"ticks\":\"\"}}],\"contour\":[{\"type\":\"contour\",\"colorbar\":{\"outlinewidth\":0,\"ticks\":\"\"},\"colorscale\":[[0.0,\"#0d0887\"],[0.1111111111111111,\"#46039f\"],[0.2222222222222222,\"#7201a8\"],[0.3333333333333333,\"#9c179e\"],[0.4444444444444444,\"#bd3786\"],[0.5555555555555556,\"#d8576b\"],[0.6666666666666666,\"#ed7953\"],[0.7777777777777778,\"#fb9f3a\"],[0.8888888888888888,\"#fdca26\"],[1.0,\"#f0f921\"]]}],\"surface\":[{\"type\":\"surface\",\"colorbar\":{\"outlinewidth\":0,\"ticks\":\"\"},\"colorscale\":[[0.0,\"#0d0887\"],[0.1111111111111111,\"#46039f\"],[0.2222222222222222,\"#7201a8\"],[0.3333333333333333,\"#9c179e\"],[0.4444444444444444,\"#bd3786\"],[0.5555555555555556,\"#d8576b\"],[0.6666666666666666,\"#ed7953\"],[0.7777777777777778,\"#fb9f3a\"],[0.8888888888888888,\"#fdca26\"],[1.0,\"#f0f921\"]]}],\"mesh3d\":[{\"type\":\"mesh3d\",\"colorbar\":{\"outlinewidth\":0,\"ticks\":\"\"}}],\"scatter\":[{\"fillpattern\":{\"fillmode\":\"overlay\",\"size\":10,\"solidity\":0.2},\"type\":\"scatter\"}],\"parcoords\":[{\"type\":\"parcoords\",\"line\":{\"colorbar\":{\"outlinewidth\":0,\"ticks\":\"\"}}}],\"scatterpolargl\":[{\"type\":\"scatterpolargl\",\"marker\":{\"colorbar\":{\"outlinewidth\":0,\"ticks\":\"\"}}}],\"bar\":[{\"error_x\":{\"color\":\"#2a3f5f\"},\"error_y\":{\"color\":\"#2a3f5f\"},\"marker\":{\"line\":{\"color\":\"white\",\"width\":0.5},\"pattern\":{\"fillmode\":\"overlay\",\"size\":10,\"solidity\":0.2}},\"type\":\"bar\"}],\"scattergeo\":[{\"type\":\"scattergeo\",\"marker\":{\"colorbar\":{\"outlinewidth\":0,\"ticks\":\"\"}}}],\"scatterpolar\":[{\"type\":\"scatterpolar\",\"marker\":{\"colorbar\":{\"outlinewidth\":0,\"ticks\":\"\"}}}],\"histogram\":[{\"marker\":{\"pattern\":{\"fillmode\":\"overlay\",\"size\":10,\"solidity\":0.2}},\"type\":\"histogram\"}],\"scattergl\":[{\"type\":\"scattergl\",\"marker\":{\"colorbar\":{\"outlinewidth\":0,\"ticks\":\"\"}}}],\"scatter3d\":[{\"type\":\"scatter3d\",\"line\":{\"colorbar\":{\"outlinewidth\":0,\"ticks\":\"\"}},\"marker\":{\"colorbar\":{\"outlinewidth\":0,\"ticks\":\"\"}}}],\"scattermapbox\":[{\"type\":\"scattermapbox\",\"marker\":{\"colorbar\":{\"outlinewidth\":0,\"ticks\":\"\"}}}],\"scatterternary\":[{\"type\":\"scatterternary\",\"marker\":{\"colorbar\":{\"outlinewidth\":0,\"ticks\":\"\"}}}],\"scattercarpet\":[{\"type\":\"scattercarpet\",\"marker\":{\"colorbar\":{\"outlinewidth\":0,\"ticks\":\"\"}}}],\"carpet\":[{\"aaxis\":{\"endlinecolor\":\"#2a3f5f\",\"gridcolor\":\"#C8D4E3\",\"linecolor\":\"#C8D4E3\",\"minorgridcolor\":\"#C8D4E3\",\"startlinecolor\":\"#2a3f5f\"},\"baxis\":{\"endlinecolor\":\"#2a3f5f\",\"gridcolor\":\"#C8D4E3\",\"linecolor\":\"#C8D4E3\",\"minorgridcolor\":\"#C8D4E3\",\"startlinecolor\":\"#2a3f5f\"},\"type\":\"carpet\"}],\"table\":[{\"cells\":{\"fill\":{\"color\":\"#EBF0F8\"},\"line\":{\"color\":\"white\"}},\"header\":{\"fill\":{\"color\":\"#C8D4E3\"},\"line\":{\"color\":\"white\"}},\"type\":\"table\"}],\"barpolar\":[{\"marker\":{\"line\":{\"color\":\"white\",\"width\":0.5},\"pattern\":{\"fillmode\":\"overlay\",\"size\":10,\"solidity\":0.2}},\"type\":\"barpolar\"}],\"pie\":[{\"automargin\":true,\"type\":\"pie\"}]},\"layout\":{\"autotypenumbers\":\"strict\",\"colorway\":[\"#636efa\",\"#EF553B\",\"#00cc96\",\"#ab63fa\",\"#FFA15A\",\"#19d3f3\",\"#FF6692\",\"#B6E880\",\"#FF97FF\",\"#FECB52\"],\"font\":{\"color\":\"#2a3f5f\"},\"hovermode\":\"closest\",\"hoverlabel\":{\"align\":\"left\"},\"paper_bgcolor\":\"white\",\"plot_bgcolor\":\"white\",\"polar\":{\"bgcolor\":\"white\",\"angularaxis\":{\"gridcolor\":\"#EBF0F8\",\"linecolor\":\"#EBF0F8\",\"ticks\":\"\"},\"radialaxis\":{\"gridcolor\":\"#EBF0F8\",\"linecolor\":\"#EBF0F8\",\"ticks\":\"\"}},\"ternary\":{\"bgcolor\":\"white\",\"aaxis\":{\"gridcolor\":\"#DFE8F3\",\"linecolor\":\"#A2B1C6\",\"ticks\":\"\"},\"baxis\":{\"gridcolor\":\"#DFE8F3\",\"linecolor\":\"#A2B1C6\",\"ticks\":\"\"},\"caxis\":{\"gridcolor\":\"#DFE8F3\",\"linecolor\":\"#A2B1C6\",\"ticks\":\"\"}},\"coloraxis\":{\"colorbar\":{\"outlinewidth\":0,\"ticks\":\"\"}},\"colorscale\":{\"sequential\":[[0.0,\"#0d0887\"],[0.1111111111111111,\"#46039f\"],[0.2222222222222222,\"#7201a8\"],[0.3333333333333333,\"#9c179e\"],[0.4444444444444444,\"#bd3786\"],[0.5555555555555556,\"#d8576b\"],[0.6666666666666666,\"#ed7953\"],[0.7777777777777778,\"#fb9f3a\"],[0.8888888888888888,\"#fdca26\"],[1.0,\"#f0f921\"]],\"sequentialminus\":[[0.0,\"#0d0887\"],[0.1111111111111111,\"#46039f\"],[0.2222222222222222,\"#7201a8\"],[0.3333333333333333,\"#9c179e\"],[0.4444444444444444,\"#bd3786\"],[0.5555555555555556,\"#d8576b\"],[0.6666666666666666,\"#ed7953\"],[0.7777777777777778,\"#fb9f3a\"],[0.8888888888888888,\"#fdca26\"],[1.0,\"#f0f921\"]],\"diverging\":[[0,\"#8e0152\"],[0.1,\"#c51b7d\"],[0.2,\"#de77ae\"],[0.3,\"#f1b6da\"],[0.4,\"#fde0ef\"],[0.5,\"#f7f7f7\"],[0.6,\"#e6f5d0\"],[0.7,\"#b8e186\"],[0.8,\"#7fbc41\"],[0.9,\"#4d9221\"],[1,\"#276419\"]]},\"xaxis\":{\"gridcolor\":\"#EBF0F8\",\"linecolor\":\"#EBF0F8\",\"ticks\":\"\",\"title\":{\"standoff\":15},\"zerolinecolor\":\"#EBF0F8\",\"automargin\":true,\"zerolinewidth\":2},\"yaxis\":{\"gridcolor\":\"#EBF0F8\",\"linecolor\":\"#EBF0F8\",\"ticks\":\"\",\"title\":{\"standoff\":15},\"zerolinecolor\":\"#EBF0F8\",\"automargin\":true,\"zerolinewidth\":2},\"scene\":{\"xaxis\":{\"backgroundcolor\":\"white\",\"gridcolor\":\"#DFE8F3\",\"linecolor\":\"#EBF0F8\",\"showbackground\":true,\"ticks\":\"\",\"zerolinecolor\":\"#EBF0F8\",\"gridwidth\":2},\"yaxis\":{\"backgroundcolor\":\"white\",\"gridcolor\":\"#DFE8F3\",\"linecolor\":\"#EBF0F8\",\"showbackground\":true,\"ticks\":\"\",\"zerolinecolor\":\"#EBF0F8\",\"gridwidth\":2},\"zaxis\":{\"backgroundcolor\":\"white\",\"gridcolor\":\"#DFE8F3\",\"linecolor\":\"#EBF0F8\",\"showbackground\":true,\"ticks\":\"\",\"zerolinecolor\":\"#EBF0F8\",\"gridwidth\":2}},\"shapedefaults\":{\"line\":{\"color\":\"#2a3f5f\"}},\"annotationdefaults\":{\"arrowcolor\":\"#2a3f5f\",\"arrowhead\":0,\"arrowwidth\":1},\"geo\":{\"bgcolor\":\"white\",\"landcolor\":\"white\",\"subunitcolor\":\"#C8D4E3\",\"showland\":true,\"showlakes\":true,\"lakecolor\":\"white\"},\"title\":{\"x\":0.05},\"mapbox\":{\"style\":\"light\"}}},\"xaxis\":{\"anchor\":\"y\",\"domain\":[0.0,1.0],\"scaleanchor\":\"y\",\"constrain\":\"domain\"},\"yaxis\":{\"anchor\":\"x\",\"domain\":[0.0,1.0],\"autorange\":\"reversed\",\"constrain\":\"domain\"},\"coloraxis\":{\"colorscale\":[[0.0,\"rgb(255,245,240)\"],[0.125,\"rgb(254,224,210)\"],[0.25,\"rgb(252,187,161)\"],[0.375,\"rgb(252,146,114)\"],[0.5,\"rgb(251,106,74)\"],[0.625,\"rgb(239,59,44)\"],[0.75,\"rgb(203,24,29)\"],[0.875,\"rgb(165,15,21)\"],[1.0,\"rgb(103,0,13)\"]]},\"title\":{\"text\":\"Green Channel \\u2013 Barcode Activation Map\"},\"height\":1000,\"width\":1000},                        {\"responsive\": true}                    ).then(function(){\n",
       "                            \n",
       "var gd = document.getElementById('bf816a21-ed14-4fa6-9636-967f63fd4146');\n",
       "var x = new MutationObserver(function (mutations, observer) {{\n",
       "        var display = window.getComputedStyle(gd).display;\n",
       "        if (!display || display === 'none') {{\n",
       "            console.log([gd, 'removed!']);\n",
       "            Plotly.purge(gd);\n",
       "            observer.disconnect();\n",
       "        }}\n",
       "}});\n",
       "\n",
       "// Listen for the removal of the full notebook cells\n",
       "var notebookContainer = gd.closest('#notebook-container');\n",
       "if (notebookContainer) {{\n",
       "    x.observe(notebookContainer, {childList: true});\n",
       "}}\n",
       "\n",
       "// Listen for the clearing of the current output cell\n",
       "var outputEl = gd.closest('.output');\n",
       "if (outputEl) {{\n",
       "    x.observe(outputEl, {childList: true});\n",
       "}}\n",
       "\n",
       "                        })                };                });            </script>        </div>"
      ]
     },
     "metadata": {},
     "output_type": "display_data"
    },
    {
     "data": {
      "application/vnd.plotly.v1+json": {
       "config": {
        "plotlyServerURL": "https://plot.ly"
       },
       "data": [
        {
         "alignmentgroup": "True",
         "hovertemplate": "Round=%{x}<br># Active Barcodes=%{y}<extra></extra>",
         "legendgroup": "",
         "marker": {
          "color": "crimson",
          "pattern": {
           "shape": ""
          }
         },
         "name": "",
         "offsetgroup": "",
         "orientation": "v",
         "showlegend": false,
         "textposition": "auto",
         "type": "bar",
         "x": [
          1,
          2,
          3,
          4,
          5,
          6,
          7,
          8,
          9,
          10,
          11,
          12,
          13,
          14,
          15,
          16
         ],
         "xaxis": "x",
         "y": [
          15,
          15,
          15,
          15,
          13,
          13,
          7,
          7,
          6,
          6,
          6,
          6,
          5,
          5,
          5,
          5
         ],
         "yaxis": "y"
        }
       ],
       "layout": {
        "barmode": "relative",
        "height": 500,
        "legend": {
         "tracegroupgap": 0
        },
        "template": {
         "data": {
          "bar": [
           {
            "error_x": {
             "color": "#2a3f5f"
            },
            "error_y": {
             "color": "#2a3f5f"
            },
            "marker": {
             "line": {
              "color": "white",
              "width": 0.5
             },
             "pattern": {
              "fillmode": "overlay",
              "size": 10,
              "solidity": 0.2
             }
            },
            "type": "bar"
           }
          ],
          "barpolar": [
           {
            "marker": {
             "line": {
              "color": "white",
              "width": 0.5
             },
             "pattern": {
              "fillmode": "overlay",
              "size": 10,
              "solidity": 0.2
             }
            },
            "type": "barpolar"
           }
          ],
          "carpet": [
           {
            "aaxis": {
             "endlinecolor": "#2a3f5f",
             "gridcolor": "#C8D4E3",
             "linecolor": "#C8D4E3",
             "minorgridcolor": "#C8D4E3",
             "startlinecolor": "#2a3f5f"
            },
            "baxis": {
             "endlinecolor": "#2a3f5f",
             "gridcolor": "#C8D4E3",
             "linecolor": "#C8D4E3",
             "minorgridcolor": "#C8D4E3",
             "startlinecolor": "#2a3f5f"
            },
            "type": "carpet"
           }
          ],
          "choropleth": [
           {
            "colorbar": {
             "outlinewidth": 0,
             "ticks": ""
            },
            "type": "choropleth"
           }
          ],
          "contour": [
           {
            "colorbar": {
             "outlinewidth": 0,
             "ticks": ""
            },
            "colorscale": [
             [
              0.0,
              "#0d0887"
             ],
             [
              0.1111111111111111,
              "#46039f"
             ],
             [
              0.2222222222222222,
              "#7201a8"
             ],
             [
              0.3333333333333333,
              "#9c179e"
             ],
             [
              0.4444444444444444,
              "#bd3786"
             ],
             [
              0.5555555555555556,
              "#d8576b"
             ],
             [
              0.6666666666666666,
              "#ed7953"
             ],
             [
              0.7777777777777778,
              "#fb9f3a"
             ],
             [
              0.8888888888888888,
              "#fdca26"
             ],
             [
              1.0,
              "#f0f921"
             ]
            ],
            "type": "contour"
           }
          ],
          "contourcarpet": [
           {
            "colorbar": {
             "outlinewidth": 0,
             "ticks": ""
            },
            "type": "contourcarpet"
           }
          ],
          "heatmap": [
           {
            "colorbar": {
             "outlinewidth": 0,
             "ticks": ""
            },
            "colorscale": [
             [
              0.0,
              "#0d0887"
             ],
             [
              0.1111111111111111,
              "#46039f"
             ],
             [
              0.2222222222222222,
              "#7201a8"
             ],
             [
              0.3333333333333333,
              "#9c179e"
             ],
             [
              0.4444444444444444,
              "#bd3786"
             ],
             [
              0.5555555555555556,
              "#d8576b"
             ],
             [
              0.6666666666666666,
              "#ed7953"
             ],
             [
              0.7777777777777778,
              "#fb9f3a"
             ],
             [
              0.8888888888888888,
              "#fdca26"
             ],
             [
              1.0,
              "#f0f921"
             ]
            ],
            "type": "heatmap"
           }
          ],
          "heatmapgl": [
           {
            "colorbar": {
             "outlinewidth": 0,
             "ticks": ""
            },
            "colorscale": [
             [
              0.0,
              "#0d0887"
             ],
             [
              0.1111111111111111,
              "#46039f"
             ],
             [
              0.2222222222222222,
              "#7201a8"
             ],
             [
              0.3333333333333333,
              "#9c179e"
             ],
             [
              0.4444444444444444,
              "#bd3786"
             ],
             [
              0.5555555555555556,
              "#d8576b"
             ],
             [
              0.6666666666666666,
              "#ed7953"
             ],
             [
              0.7777777777777778,
              "#fb9f3a"
             ],
             [
              0.8888888888888888,
              "#fdca26"
             ],
             [
              1.0,
              "#f0f921"
             ]
            ],
            "type": "heatmapgl"
           }
          ],
          "histogram": [
           {
            "marker": {
             "pattern": {
              "fillmode": "overlay",
              "size": 10,
              "solidity": 0.2
             }
            },
            "type": "histogram"
           }
          ],
          "histogram2d": [
           {
            "colorbar": {
             "outlinewidth": 0,
             "ticks": ""
            },
            "colorscale": [
             [
              0.0,
              "#0d0887"
             ],
             [
              0.1111111111111111,
              "#46039f"
             ],
             [
              0.2222222222222222,
              "#7201a8"
             ],
             [
              0.3333333333333333,
              "#9c179e"
             ],
             [
              0.4444444444444444,
              "#bd3786"
             ],
             [
              0.5555555555555556,
              "#d8576b"
             ],
             [
              0.6666666666666666,
              "#ed7953"
             ],
             [
              0.7777777777777778,
              "#fb9f3a"
             ],
             [
              0.8888888888888888,
              "#fdca26"
             ],
             [
              1.0,
              "#f0f921"
             ]
            ],
            "type": "histogram2d"
           }
          ],
          "histogram2dcontour": [
           {
            "colorbar": {
             "outlinewidth": 0,
             "ticks": ""
            },
            "colorscale": [
             [
              0.0,
              "#0d0887"
             ],
             [
              0.1111111111111111,
              "#46039f"
             ],
             [
              0.2222222222222222,
              "#7201a8"
             ],
             [
              0.3333333333333333,
              "#9c179e"
             ],
             [
              0.4444444444444444,
              "#bd3786"
             ],
             [
              0.5555555555555556,
              "#d8576b"
             ],
             [
              0.6666666666666666,
              "#ed7953"
             ],
             [
              0.7777777777777778,
              "#fb9f3a"
             ],
             [
              0.8888888888888888,
              "#fdca26"
             ],
             [
              1.0,
              "#f0f921"
             ]
            ],
            "type": "histogram2dcontour"
           }
          ],
          "mesh3d": [
           {
            "colorbar": {
             "outlinewidth": 0,
             "ticks": ""
            },
            "type": "mesh3d"
           }
          ],
          "parcoords": [
           {
            "line": {
             "colorbar": {
              "outlinewidth": 0,
              "ticks": ""
             }
            },
            "type": "parcoords"
           }
          ],
          "pie": [
           {
            "automargin": true,
            "type": "pie"
           }
          ],
          "scatter": [
           {
            "fillpattern": {
             "fillmode": "overlay",
             "size": 10,
             "solidity": 0.2
            },
            "type": "scatter"
           }
          ],
          "scatter3d": [
           {
            "line": {
             "colorbar": {
              "outlinewidth": 0,
              "ticks": ""
             }
            },
            "marker": {
             "colorbar": {
              "outlinewidth": 0,
              "ticks": ""
             }
            },
            "type": "scatter3d"
           }
          ],
          "scattercarpet": [
           {
            "marker": {
             "colorbar": {
              "outlinewidth": 0,
              "ticks": ""
             }
            },
            "type": "scattercarpet"
           }
          ],
          "scattergeo": [
           {
            "marker": {
             "colorbar": {
              "outlinewidth": 0,
              "ticks": ""
             }
            },
            "type": "scattergeo"
           }
          ],
          "scattergl": [
           {
            "marker": {
             "colorbar": {
              "outlinewidth": 0,
              "ticks": ""
             }
            },
            "type": "scattergl"
           }
          ],
          "scattermapbox": [
           {
            "marker": {
             "colorbar": {
              "outlinewidth": 0,
              "ticks": ""
             }
            },
            "type": "scattermapbox"
           }
          ],
          "scatterpolar": [
           {
            "marker": {
             "colorbar": {
              "outlinewidth": 0,
              "ticks": ""
             }
            },
            "type": "scatterpolar"
           }
          ],
          "scatterpolargl": [
           {
            "marker": {
             "colorbar": {
              "outlinewidth": 0,
              "ticks": ""
             }
            },
            "type": "scatterpolargl"
           }
          ],
          "scatterternary": [
           {
            "marker": {
             "colorbar": {
              "outlinewidth": 0,
              "ticks": ""
             }
            },
            "type": "scatterternary"
           }
          ],
          "surface": [
           {
            "colorbar": {
             "outlinewidth": 0,
             "ticks": ""
            },
            "colorscale": [
             [
              0.0,
              "#0d0887"
             ],
             [
              0.1111111111111111,
              "#46039f"
             ],
             [
              0.2222222222222222,
              "#7201a8"
             ],
             [
              0.3333333333333333,
              "#9c179e"
             ],
             [
              0.4444444444444444,
              "#bd3786"
             ],
             [
              0.5555555555555556,
              "#d8576b"
             ],
             [
              0.6666666666666666,
              "#ed7953"
             ],
             [
              0.7777777777777778,
              "#fb9f3a"
             ],
             [
              0.8888888888888888,
              "#fdca26"
             ],
             [
              1.0,
              "#f0f921"
             ]
            ],
            "type": "surface"
           }
          ],
          "table": [
           {
            "cells": {
             "fill": {
              "color": "#EBF0F8"
             },
             "line": {
              "color": "white"
             }
            },
            "header": {
             "fill": {
              "color": "#C8D4E3"
             },
             "line": {
              "color": "white"
             }
            },
            "type": "table"
           }
          ]
         },
         "layout": {
          "annotationdefaults": {
           "arrowcolor": "#2a3f5f",
           "arrowhead": 0,
           "arrowwidth": 1
          },
          "autotypenumbers": "strict",
          "coloraxis": {
           "colorbar": {
            "outlinewidth": 0,
            "ticks": ""
           }
          },
          "colorscale": {
           "diverging": [
            [
             0,
             "#8e0152"
            ],
            [
             0.1,
             "#c51b7d"
            ],
            [
             0.2,
             "#de77ae"
            ],
            [
             0.3,
             "#f1b6da"
            ],
            [
             0.4,
             "#fde0ef"
            ],
            [
             0.5,
             "#f7f7f7"
            ],
            [
             0.6,
             "#e6f5d0"
            ],
            [
             0.7,
             "#b8e186"
            ],
            [
             0.8,
             "#7fbc41"
            ],
            [
             0.9,
             "#4d9221"
            ],
            [
             1,
             "#276419"
            ]
           ],
           "sequential": [
            [
             0.0,
             "#0d0887"
            ],
            [
             0.1111111111111111,
             "#46039f"
            ],
            [
             0.2222222222222222,
             "#7201a8"
            ],
            [
             0.3333333333333333,
             "#9c179e"
            ],
            [
             0.4444444444444444,
             "#bd3786"
            ],
            [
             0.5555555555555556,
             "#d8576b"
            ],
            [
             0.6666666666666666,
             "#ed7953"
            ],
            [
             0.7777777777777778,
             "#fb9f3a"
            ],
            [
             0.8888888888888888,
             "#fdca26"
            ],
            [
             1.0,
             "#f0f921"
            ]
           ],
           "sequentialminus": [
            [
             0.0,
             "#0d0887"
            ],
            [
             0.1111111111111111,
             "#46039f"
            ],
            [
             0.2222222222222222,
             "#7201a8"
            ],
            [
             0.3333333333333333,
             "#9c179e"
            ],
            [
             0.4444444444444444,
             "#bd3786"
            ],
            [
             0.5555555555555556,
             "#d8576b"
            ],
            [
             0.6666666666666666,
             "#ed7953"
            ],
            [
             0.7777777777777778,
             "#fb9f3a"
            ],
            [
             0.8888888888888888,
             "#fdca26"
            ],
            [
             1.0,
             "#f0f921"
            ]
           ]
          },
          "colorway": [
           "#636efa",
           "#EF553B",
           "#00cc96",
           "#ab63fa",
           "#FFA15A",
           "#19d3f3",
           "#FF6692",
           "#B6E880",
           "#FF97FF",
           "#FECB52"
          ],
          "font": {
           "color": "#2a3f5f"
          },
          "geo": {
           "bgcolor": "white",
           "lakecolor": "white",
           "landcolor": "white",
           "showlakes": true,
           "showland": true,
           "subunitcolor": "#C8D4E3"
          },
          "hoverlabel": {
           "align": "left"
          },
          "hovermode": "closest",
          "mapbox": {
           "style": "light"
          },
          "paper_bgcolor": "white",
          "plot_bgcolor": "white",
          "polar": {
           "angularaxis": {
            "gridcolor": "#EBF0F8",
            "linecolor": "#EBF0F8",
            "ticks": ""
           },
           "bgcolor": "white",
           "radialaxis": {
            "gridcolor": "#EBF0F8",
            "linecolor": "#EBF0F8",
            "ticks": ""
           }
          },
          "scene": {
           "xaxis": {
            "backgroundcolor": "white",
            "gridcolor": "#DFE8F3",
            "gridwidth": 2,
            "linecolor": "#EBF0F8",
            "showbackground": true,
            "ticks": "",
            "zerolinecolor": "#EBF0F8"
           },
           "yaxis": {
            "backgroundcolor": "white",
            "gridcolor": "#DFE8F3",
            "gridwidth": 2,
            "linecolor": "#EBF0F8",
            "showbackground": true,
            "ticks": "",
            "zerolinecolor": "#EBF0F8"
           },
           "zaxis": {
            "backgroundcolor": "white",
            "gridcolor": "#DFE8F3",
            "gridwidth": 2,
            "linecolor": "#EBF0F8",
            "showbackground": true,
            "ticks": "",
            "zerolinecolor": "#EBF0F8"
           }
          },
          "shapedefaults": {
           "line": {
            "color": "#2a3f5f"
           }
          },
          "ternary": {
           "aaxis": {
            "gridcolor": "#DFE8F3",
            "linecolor": "#A2B1C6",
            "ticks": ""
           },
           "baxis": {
            "gridcolor": "#DFE8F3",
            "linecolor": "#A2B1C6",
            "ticks": ""
           },
           "bgcolor": "white",
           "caxis": {
            "gridcolor": "#DFE8F3",
            "linecolor": "#A2B1C6",
            "ticks": ""
           }
          },
          "title": {
           "x": 0.05
          },
          "xaxis": {
           "automargin": true,
           "gridcolor": "#EBF0F8",
           "linecolor": "#EBF0F8",
           "ticks": "",
           "title": {
            "standoff": 15
           },
           "zerolinecolor": "#EBF0F8",
           "zerolinewidth": 2
          },
          "yaxis": {
           "automargin": true,
           "gridcolor": "#EBF0F8",
           "linecolor": "#EBF0F8",
           "ticks": "",
           "title": {
            "standoff": 15
           },
           "zerolinecolor": "#EBF0F8",
           "zerolinewidth": 2
          }
         }
        },
        "title": {
         "text": "Green Channel – Activity per Round"
        },
        "width": 800,
        "xaxis": {
         "anchor": "y",
         "domain": [
          0.0,
          1.0
         ],
         "title": {
          "text": "Round"
         }
        },
        "yaxis": {
         "anchor": "x",
         "domain": [
          0.0,
          1.0
         ],
         "title": {
          "text": "# Active Barcodes"
         }
        }
       }
      },
      "text/html": [
       "<div>                            <div id=\"0b4c7dce-70a3-4e90-941d-99d52bbcbf57\" class=\"plotly-graph-div\" style=\"height:500px; width:800px;\"></div>            <script type=\"text/javascript\">                require([\"plotly\"], function(Plotly) {                    window.PLOTLYENV=window.PLOTLYENV || {};                                    if (document.getElementById(\"0b4c7dce-70a3-4e90-941d-99d52bbcbf57\")) {                    Plotly.newPlot(                        \"0b4c7dce-70a3-4e90-941d-99d52bbcbf57\",                        [{\"alignmentgroup\":\"True\",\"hovertemplate\":\"Round=%{x}\\u003cbr\\u003e# Active Barcodes=%{y}\\u003cextra\\u003e\\u003c\\u002fextra\\u003e\",\"legendgroup\":\"\",\"marker\":{\"color\":\"crimson\",\"pattern\":{\"shape\":\"\"}},\"name\":\"\",\"offsetgroup\":\"\",\"orientation\":\"v\",\"showlegend\":false,\"textposition\":\"auto\",\"x\":[1,2,3,4,5,6,7,8,9,10,11,12,13,14,15,16],\"xaxis\":\"x\",\"y\":[15,15,15,15,13,13,7,7,6,6,6,6,5,5,5,5],\"yaxis\":\"y\",\"type\":\"bar\"}],                        {\"template\":{\"data\":{\"histogram2dcontour\":[{\"type\":\"histogram2dcontour\",\"colorbar\":{\"outlinewidth\":0,\"ticks\":\"\"},\"colorscale\":[[0.0,\"#0d0887\"],[0.1111111111111111,\"#46039f\"],[0.2222222222222222,\"#7201a8\"],[0.3333333333333333,\"#9c179e\"],[0.4444444444444444,\"#bd3786\"],[0.5555555555555556,\"#d8576b\"],[0.6666666666666666,\"#ed7953\"],[0.7777777777777778,\"#fb9f3a\"],[0.8888888888888888,\"#fdca26\"],[1.0,\"#f0f921\"]]}],\"choropleth\":[{\"type\":\"choropleth\",\"colorbar\":{\"outlinewidth\":0,\"ticks\":\"\"}}],\"histogram2d\":[{\"type\":\"histogram2d\",\"colorbar\":{\"outlinewidth\":0,\"ticks\":\"\"},\"colorscale\":[[0.0,\"#0d0887\"],[0.1111111111111111,\"#46039f\"],[0.2222222222222222,\"#7201a8\"],[0.3333333333333333,\"#9c179e\"],[0.4444444444444444,\"#bd3786\"],[0.5555555555555556,\"#d8576b\"],[0.6666666666666666,\"#ed7953\"],[0.7777777777777778,\"#fb9f3a\"],[0.8888888888888888,\"#fdca26\"],[1.0,\"#f0f921\"]]}],\"heatmap\":[{\"type\":\"heatmap\",\"colorbar\":{\"outlinewidth\":0,\"ticks\":\"\"},\"colorscale\":[[0.0,\"#0d0887\"],[0.1111111111111111,\"#46039f\"],[0.2222222222222222,\"#7201a8\"],[0.3333333333333333,\"#9c179e\"],[0.4444444444444444,\"#bd3786\"],[0.5555555555555556,\"#d8576b\"],[0.6666666666666666,\"#ed7953\"],[0.7777777777777778,\"#fb9f3a\"],[0.8888888888888888,\"#fdca26\"],[1.0,\"#f0f921\"]]}],\"heatmapgl\":[{\"type\":\"heatmapgl\",\"colorbar\":{\"outlinewidth\":0,\"ticks\":\"\"},\"colorscale\":[[0.0,\"#0d0887\"],[0.1111111111111111,\"#46039f\"],[0.2222222222222222,\"#7201a8\"],[0.3333333333333333,\"#9c179e\"],[0.4444444444444444,\"#bd3786\"],[0.5555555555555556,\"#d8576b\"],[0.6666666666666666,\"#ed7953\"],[0.7777777777777778,\"#fb9f3a\"],[0.8888888888888888,\"#fdca26\"],[1.0,\"#f0f921\"]]}],\"contourcarpet\":[{\"type\":\"contourcarpet\",\"colorbar\":{\"outlinewidth\":0,\"ticks\":\"\"}}],\"contour\":[{\"type\":\"contour\",\"colorbar\":{\"outlinewidth\":0,\"ticks\":\"\"},\"colorscale\":[[0.0,\"#0d0887\"],[0.1111111111111111,\"#46039f\"],[0.2222222222222222,\"#7201a8\"],[0.3333333333333333,\"#9c179e\"],[0.4444444444444444,\"#bd3786\"],[0.5555555555555556,\"#d8576b\"],[0.6666666666666666,\"#ed7953\"],[0.7777777777777778,\"#fb9f3a\"],[0.8888888888888888,\"#fdca26\"],[1.0,\"#f0f921\"]]}],\"surface\":[{\"type\":\"surface\",\"colorbar\":{\"outlinewidth\":0,\"ticks\":\"\"},\"colorscale\":[[0.0,\"#0d0887\"],[0.1111111111111111,\"#46039f\"],[0.2222222222222222,\"#7201a8\"],[0.3333333333333333,\"#9c179e\"],[0.4444444444444444,\"#bd3786\"],[0.5555555555555556,\"#d8576b\"],[0.6666666666666666,\"#ed7953\"],[0.7777777777777778,\"#fb9f3a\"],[0.8888888888888888,\"#fdca26\"],[1.0,\"#f0f921\"]]}],\"mesh3d\":[{\"type\":\"mesh3d\",\"colorbar\":{\"outlinewidth\":0,\"ticks\":\"\"}}],\"scatter\":[{\"fillpattern\":{\"fillmode\":\"overlay\",\"size\":10,\"solidity\":0.2},\"type\":\"scatter\"}],\"parcoords\":[{\"type\":\"parcoords\",\"line\":{\"colorbar\":{\"outlinewidth\":0,\"ticks\":\"\"}}}],\"scatterpolargl\":[{\"type\":\"scatterpolargl\",\"marker\":{\"colorbar\":{\"outlinewidth\":0,\"ticks\":\"\"}}}],\"bar\":[{\"error_x\":{\"color\":\"#2a3f5f\"},\"error_y\":{\"color\":\"#2a3f5f\"},\"marker\":{\"line\":{\"color\":\"white\",\"width\":0.5},\"pattern\":{\"fillmode\":\"overlay\",\"size\":10,\"solidity\":0.2}},\"type\":\"bar\"}],\"scattergeo\":[{\"type\":\"scattergeo\",\"marker\":{\"colorbar\":{\"outlinewidth\":0,\"ticks\":\"\"}}}],\"scatterpolar\":[{\"type\":\"scatterpolar\",\"marker\":{\"colorbar\":{\"outlinewidth\":0,\"ticks\":\"\"}}}],\"histogram\":[{\"marker\":{\"pattern\":{\"fillmode\":\"overlay\",\"size\":10,\"solidity\":0.2}},\"type\":\"histogram\"}],\"scattergl\":[{\"type\":\"scattergl\",\"marker\":{\"colorbar\":{\"outlinewidth\":0,\"ticks\":\"\"}}}],\"scatter3d\":[{\"type\":\"scatter3d\",\"line\":{\"colorbar\":{\"outlinewidth\":0,\"ticks\":\"\"}},\"marker\":{\"colorbar\":{\"outlinewidth\":0,\"ticks\":\"\"}}}],\"scattermapbox\":[{\"type\":\"scattermapbox\",\"marker\":{\"colorbar\":{\"outlinewidth\":0,\"ticks\":\"\"}}}],\"scatterternary\":[{\"type\":\"scatterternary\",\"marker\":{\"colorbar\":{\"outlinewidth\":0,\"ticks\":\"\"}}}],\"scattercarpet\":[{\"type\":\"scattercarpet\",\"marker\":{\"colorbar\":{\"outlinewidth\":0,\"ticks\":\"\"}}}],\"carpet\":[{\"aaxis\":{\"endlinecolor\":\"#2a3f5f\",\"gridcolor\":\"#C8D4E3\",\"linecolor\":\"#C8D4E3\",\"minorgridcolor\":\"#C8D4E3\",\"startlinecolor\":\"#2a3f5f\"},\"baxis\":{\"endlinecolor\":\"#2a3f5f\",\"gridcolor\":\"#C8D4E3\",\"linecolor\":\"#C8D4E3\",\"minorgridcolor\":\"#C8D4E3\",\"startlinecolor\":\"#2a3f5f\"},\"type\":\"carpet\"}],\"table\":[{\"cells\":{\"fill\":{\"color\":\"#EBF0F8\"},\"line\":{\"color\":\"white\"}},\"header\":{\"fill\":{\"color\":\"#C8D4E3\"},\"line\":{\"color\":\"white\"}},\"type\":\"table\"}],\"barpolar\":[{\"marker\":{\"line\":{\"color\":\"white\",\"width\":0.5},\"pattern\":{\"fillmode\":\"overlay\",\"size\":10,\"solidity\":0.2}},\"type\":\"barpolar\"}],\"pie\":[{\"automargin\":true,\"type\":\"pie\"}]},\"layout\":{\"autotypenumbers\":\"strict\",\"colorway\":[\"#636efa\",\"#EF553B\",\"#00cc96\",\"#ab63fa\",\"#FFA15A\",\"#19d3f3\",\"#FF6692\",\"#B6E880\",\"#FF97FF\",\"#FECB52\"],\"font\":{\"color\":\"#2a3f5f\"},\"hovermode\":\"closest\",\"hoverlabel\":{\"align\":\"left\"},\"paper_bgcolor\":\"white\",\"plot_bgcolor\":\"white\",\"polar\":{\"bgcolor\":\"white\",\"angularaxis\":{\"gridcolor\":\"#EBF0F8\",\"linecolor\":\"#EBF0F8\",\"ticks\":\"\"},\"radialaxis\":{\"gridcolor\":\"#EBF0F8\",\"linecolor\":\"#EBF0F8\",\"ticks\":\"\"}},\"ternary\":{\"bgcolor\":\"white\",\"aaxis\":{\"gridcolor\":\"#DFE8F3\",\"linecolor\":\"#A2B1C6\",\"ticks\":\"\"},\"baxis\":{\"gridcolor\":\"#DFE8F3\",\"linecolor\":\"#A2B1C6\",\"ticks\":\"\"},\"caxis\":{\"gridcolor\":\"#DFE8F3\",\"linecolor\":\"#A2B1C6\",\"ticks\":\"\"}},\"coloraxis\":{\"colorbar\":{\"outlinewidth\":0,\"ticks\":\"\"}},\"colorscale\":{\"sequential\":[[0.0,\"#0d0887\"],[0.1111111111111111,\"#46039f\"],[0.2222222222222222,\"#7201a8\"],[0.3333333333333333,\"#9c179e\"],[0.4444444444444444,\"#bd3786\"],[0.5555555555555556,\"#d8576b\"],[0.6666666666666666,\"#ed7953\"],[0.7777777777777778,\"#fb9f3a\"],[0.8888888888888888,\"#fdca26\"],[1.0,\"#f0f921\"]],\"sequentialminus\":[[0.0,\"#0d0887\"],[0.1111111111111111,\"#46039f\"],[0.2222222222222222,\"#7201a8\"],[0.3333333333333333,\"#9c179e\"],[0.4444444444444444,\"#bd3786\"],[0.5555555555555556,\"#d8576b\"],[0.6666666666666666,\"#ed7953\"],[0.7777777777777778,\"#fb9f3a\"],[0.8888888888888888,\"#fdca26\"],[1.0,\"#f0f921\"]],\"diverging\":[[0,\"#8e0152\"],[0.1,\"#c51b7d\"],[0.2,\"#de77ae\"],[0.3,\"#f1b6da\"],[0.4,\"#fde0ef\"],[0.5,\"#f7f7f7\"],[0.6,\"#e6f5d0\"],[0.7,\"#b8e186\"],[0.8,\"#7fbc41\"],[0.9,\"#4d9221\"],[1,\"#276419\"]]},\"xaxis\":{\"gridcolor\":\"#EBF0F8\",\"linecolor\":\"#EBF0F8\",\"ticks\":\"\",\"title\":{\"standoff\":15},\"zerolinecolor\":\"#EBF0F8\",\"automargin\":true,\"zerolinewidth\":2},\"yaxis\":{\"gridcolor\":\"#EBF0F8\",\"linecolor\":\"#EBF0F8\",\"ticks\":\"\",\"title\":{\"standoff\":15},\"zerolinecolor\":\"#EBF0F8\",\"automargin\":true,\"zerolinewidth\":2},\"scene\":{\"xaxis\":{\"backgroundcolor\":\"white\",\"gridcolor\":\"#DFE8F3\",\"linecolor\":\"#EBF0F8\",\"showbackground\":true,\"ticks\":\"\",\"zerolinecolor\":\"#EBF0F8\",\"gridwidth\":2},\"yaxis\":{\"backgroundcolor\":\"white\",\"gridcolor\":\"#DFE8F3\",\"linecolor\":\"#EBF0F8\",\"showbackground\":true,\"ticks\":\"\",\"zerolinecolor\":\"#EBF0F8\",\"gridwidth\":2},\"zaxis\":{\"backgroundcolor\":\"white\",\"gridcolor\":\"#DFE8F3\",\"linecolor\":\"#EBF0F8\",\"showbackground\":true,\"ticks\":\"\",\"zerolinecolor\":\"#EBF0F8\",\"gridwidth\":2}},\"shapedefaults\":{\"line\":{\"color\":\"#2a3f5f\"}},\"annotationdefaults\":{\"arrowcolor\":\"#2a3f5f\",\"arrowhead\":0,\"arrowwidth\":1},\"geo\":{\"bgcolor\":\"white\",\"landcolor\":\"white\",\"subunitcolor\":\"#C8D4E3\",\"showland\":true,\"showlakes\":true,\"lakecolor\":\"white\"},\"title\":{\"x\":0.05},\"mapbox\":{\"style\":\"light\"}}},\"xaxis\":{\"anchor\":\"y\",\"domain\":[0.0,1.0],\"title\":{\"text\":\"Round\"}},\"yaxis\":{\"anchor\":\"x\",\"domain\":[0.0,1.0],\"title\":{\"text\":\"# Active Barcodes\"}},\"legend\":{\"tracegroupgap\":0},\"title\":{\"text\":\"Green Channel \\u2013 Activity per Round\"},\"barmode\":\"relative\",\"height\":500,\"width\":800},                        {\"responsive\": true}                    ).then(function(){\n",
       "                            \n",
       "var gd = document.getElementById('0b4c7dce-70a3-4e90-941d-99d52bbcbf57');\n",
       "var x = new MutationObserver(function (mutations, observer) {{\n",
       "        var display = window.getComputedStyle(gd).display;\n",
       "        if (!display || display === 'none') {{\n",
       "            console.log([gd, 'removed!']);\n",
       "            Plotly.purge(gd);\n",
       "            observer.disconnect();\n",
       "        }}\n",
       "}});\n",
       "\n",
       "// Listen for the removal of the full notebook cells\n",
       "var notebookContainer = gd.closest('#notebook-container');\n",
       "if (notebookContainer) {{\n",
       "    x.observe(notebookContainer, {childList: true});\n",
       "}}\n",
       "\n",
       "// Listen for the clearing of the current output cell\n",
       "var outputEl = gd.closest('.output');\n",
       "if (outputEl) {{\n",
       "    x.observe(outputEl, {childList: true});\n",
       "}}\n",
       "\n",
       "                        })                };                });            </script>        </div>"
      ]
     },
     "metadata": {},
     "output_type": "display_data"
    },
    {
     "data": {
      "application/vnd.plotly.v1+json": {
       "config": {
        "plotlyServerURL": "https://plot.ly"
       },
       "data": [
        {
         "coloraxis": "coloraxis",
         "hovertemplate": "x: %{x}<br>y: %{y}<br>color: %{z}<extra></extra>",
         "name": "0",
         "type": "heatmap",
         "x": [
          "R1",
          "R2",
          "R3",
          "R4",
          "R5",
          "R6",
          "R7",
          "R8",
          "R9",
          "R10",
          "R11",
          "R12",
          "R13",
          "R14",
          "R15",
          "R16"
         ],
         "xaxis": "x",
         "y": [
          "rex-43",
          "nDCC-20",
          "rex-39",
          "rex-33",
          "nDCC-19",
          "rex-3",
          "rex-36",
          "rex-27",
          "P-rex-20",
          "P-rex-15",
          "rex-1",
          "rex-6",
          "rex-48",
          "rex-23",
          "P-rex-27",
          "rex-44",
          "nDCC-8",
          "P-rex-2",
          "rex-24",
          "P-rex-1",
          "P-rex-6/nDCC-4",
          "rex-14",
          "nDCC-23",
          "rex-35",
          "rex-42",
          "rex-18",
          "rex-38",
          "P-rex-31/nDCC-21",
          "P-rex-14",
          "P-rex-30",
          "nDCC-3",
          "nDCC-5/nDCC-6",
          "rex-21",
          "rex-25",
          "rex-40",
          "rex-17",
          "P-rex-7"
         ],
         "yaxis": "y",
         "z": [
          [
           1,
           1,
           1,
           0,
           1,
           0,
           0,
           0,
           0,
           0,
           0,
           0,
           0,
           0,
           0,
           0
          ],
          [
           1,
           1,
           0,
           1,
           0,
           1,
           0,
           0,
           0,
           0,
           0,
           0,
           0,
           0,
           0,
           0
          ],
          [
           1,
           1,
           0,
           0,
           0,
           0,
           1,
           0,
           1,
           0,
           0,
           0,
           0,
           0,
           0,
           0
          ],
          [
           1,
           1,
           0,
           0,
           0,
           0,
           0,
           1,
           0,
           1,
           0,
           0,
           0,
           0,
           0,
           0
          ],
          [
           1,
           1,
           0,
           0,
           0,
           0,
           0,
           0,
           0,
           0,
           1,
           0,
           1,
           0,
           0,
           0
          ],
          [
           1,
           1,
           0,
           0,
           0,
           0,
           0,
           0,
           0,
           0,
           0,
           1,
           0,
           1,
           0,
           0
          ],
          [
           1,
           0,
           1,
           1,
           0,
           0,
           1,
           0,
           0,
           0,
           0,
           0,
           0,
           0,
           0,
           0
          ],
          [
           1,
           0,
           1,
           0,
           0,
           1,
           0,
           0,
           1,
           0,
           0,
           0,
           0,
           0,
           0,
           0
          ],
          [
           1,
           0,
           1,
           0,
           0,
           0,
           0,
           1,
           0,
           0,
           1,
           0,
           0,
           0,
           0,
           0
          ],
          [
           1,
           0,
           1,
           0,
           0,
           0,
           0,
           0,
           0,
           1,
           0,
           0,
           1,
           0,
           0,
           0
          ],
          [
           1,
           0,
           1,
           0,
           0,
           0,
           0,
           0,
           0,
           0,
           0,
           1,
           0,
           0,
           1,
           0
          ],
          [
           1,
           0,
           0,
           1,
           1,
           0,
           0,
           0,
           1,
           0,
           0,
           0,
           0,
           0,
           0,
           0
          ],
          [
           1,
           0,
           0,
           1,
           0,
           0,
           0,
           1,
           0,
           0,
           0,
           1,
           0,
           0,
           0,
           0
          ],
          [
           1,
           0,
           0,
           1,
           0,
           0,
           0,
           0,
           0,
           1,
           1,
           0,
           0,
           0,
           0,
           0
          ],
          [
           1,
           0,
           0,
           1,
           0,
           0,
           0,
           0,
           0,
           0,
           0,
           0,
           1,
           1,
           0,
           0
          ],
          [
           0,
           1,
           1,
           1,
           0,
           0,
           0,
           1,
           0,
           0,
           0,
           0,
           0,
           0,
           0,
           0
          ],
          [
           0,
           1,
           1,
           0,
           0,
           1,
           0,
           0,
           0,
           1,
           0,
           0,
           0,
           0,
           0,
           0
          ],
          [
           0,
           1,
           1,
           0,
           0,
           0,
           1,
           0,
           0,
           0,
           1,
           0,
           0,
           0,
           0,
           0
          ],
          [
           0,
           1,
           1,
           0,
           0,
           0,
           0,
           0,
           1,
           0,
           0,
           0,
           1,
           0,
           0,
           0
          ],
          [
           0,
           1,
           1,
           0,
           0,
           0,
           0,
           0,
           0,
           0,
           0,
           1,
           0,
           0,
           0,
           1
          ],
          [
           0,
           1,
           0,
           1,
           1,
           0,
           0,
           0,
           0,
           1,
           0,
           0,
           0,
           0,
           0,
           0
          ],
          [
           0,
           1,
           0,
           1,
           0,
           0,
           1,
           0,
           0,
           0,
           0,
           1,
           0,
           0,
           0,
           0
          ],
          [
           0,
           1,
           0,
           1,
           0,
           0,
           0,
           0,
           1,
           0,
           1,
           0,
           0,
           0,
           0,
           0
          ],
          [
           0,
           1,
           0,
           1,
           0,
           0,
           0,
           0,
           0,
           0,
           0,
           0,
           1,
           0,
           1,
           0
          ],
          [
           0,
           0,
           1,
           1,
           1,
           0,
           0,
           0,
           0,
           0,
           1,
           0,
           0,
           0,
           0,
           0
          ],
          [
           0,
           0,
           1,
           1,
           0,
           1,
           0,
           0,
           0,
           0,
           0,
           1,
           0,
           0,
           0,
           0
          ],
          [
           0,
           0,
           1,
           1,
           0,
           0,
           0,
           0,
           1,
           1,
           0,
           0,
           0,
           0,
           0,
           0
          ],
          [
           0,
           0,
           1,
           1,
           0,
           0,
           0,
           0,
           0,
           0,
           0,
           0,
           1,
           0,
           0,
           1
          ],
          [
           0,
           0,
           0,
           0,
           1,
           1,
           1,
           0,
           1,
           0,
           0,
           0,
           0,
           0,
           0,
           0
          ],
          [
           0,
           0,
           0,
           0,
           1,
           1,
           0,
           1,
           0,
           1,
           0,
           0,
           0,
           0,
           0,
           0
          ],
          [
           0,
           0,
           0,
           0,
           1,
           1,
           0,
           0,
           0,
           0,
           1,
           1,
           0,
           0,
           0,
           0
          ],
          [
           0,
           0,
           0,
           0,
           1,
           1,
           0,
           0,
           0,
           0,
           0,
           0,
           1,
           1,
           0,
           0
          ],
          [
           0,
           0,
           0,
           0,
           1,
           1,
           0,
           0,
           0,
           0,
           0,
           0,
           0,
           0,
           1,
           1
          ],
          [
           0,
           0,
           0,
           0,
           1,
           0,
           1,
           1,
           0,
           0,
           1,
           0,
           0,
           0,
           0,
           0
          ],
          [
           0,
           0,
           0,
           0,
           1,
           0,
           1,
           0,
           0,
           1,
           0,
           1,
           0,
           0,
           0,
           0
          ],
          [
           0,
           0,
           0,
           0,
           1,
           0,
           1,
           0,
           0,
           0,
           0,
           0,
           1,
           0,
           1,
           0
          ],
          [
           0,
           0,
           0,
           0,
           1,
           0,
           1,
           0,
           0,
           0,
           0,
           0,
           0,
           1,
           0,
           1
          ]
         ]
        }
       ],
       "layout": {
        "coloraxis": {
         "colorscale": [
          [
           0.0,
           "rgb(247,244,249)"
          ],
          [
           0.125,
           "rgb(231,225,239)"
          ],
          [
           0.25,
           "rgb(212,185,218)"
          ],
          [
           0.375,
           "rgb(201,148,199)"
          ],
          [
           0.5,
           "rgb(223,101,176)"
          ],
          [
           0.625,
           "rgb(231,41,138)"
          ],
          [
           0.75,
           "rgb(206,18,86)"
          ],
          [
           0.875,
           "rgb(152,0,67)"
          ],
          [
           1.0,
           "rgb(103,0,31)"
          ]
         ]
        },
        "height": 1000,
        "template": {
         "data": {
          "bar": [
           {
            "error_x": {
             "color": "#2a3f5f"
            },
            "error_y": {
             "color": "#2a3f5f"
            },
            "marker": {
             "line": {
              "color": "white",
              "width": 0.5
             },
             "pattern": {
              "fillmode": "overlay",
              "size": 10,
              "solidity": 0.2
             }
            },
            "type": "bar"
           }
          ],
          "barpolar": [
           {
            "marker": {
             "line": {
              "color": "white",
              "width": 0.5
             },
             "pattern": {
              "fillmode": "overlay",
              "size": 10,
              "solidity": 0.2
             }
            },
            "type": "barpolar"
           }
          ],
          "carpet": [
           {
            "aaxis": {
             "endlinecolor": "#2a3f5f",
             "gridcolor": "#C8D4E3",
             "linecolor": "#C8D4E3",
             "minorgridcolor": "#C8D4E3",
             "startlinecolor": "#2a3f5f"
            },
            "baxis": {
             "endlinecolor": "#2a3f5f",
             "gridcolor": "#C8D4E3",
             "linecolor": "#C8D4E3",
             "minorgridcolor": "#C8D4E3",
             "startlinecolor": "#2a3f5f"
            },
            "type": "carpet"
           }
          ],
          "choropleth": [
           {
            "colorbar": {
             "outlinewidth": 0,
             "ticks": ""
            },
            "type": "choropleth"
           }
          ],
          "contour": [
           {
            "colorbar": {
             "outlinewidth": 0,
             "ticks": ""
            },
            "colorscale": [
             [
              0.0,
              "#0d0887"
             ],
             [
              0.1111111111111111,
              "#46039f"
             ],
             [
              0.2222222222222222,
              "#7201a8"
             ],
             [
              0.3333333333333333,
              "#9c179e"
             ],
             [
              0.4444444444444444,
              "#bd3786"
             ],
             [
              0.5555555555555556,
              "#d8576b"
             ],
             [
              0.6666666666666666,
              "#ed7953"
             ],
             [
              0.7777777777777778,
              "#fb9f3a"
             ],
             [
              0.8888888888888888,
              "#fdca26"
             ],
             [
              1.0,
              "#f0f921"
             ]
            ],
            "type": "contour"
           }
          ],
          "contourcarpet": [
           {
            "colorbar": {
             "outlinewidth": 0,
             "ticks": ""
            },
            "type": "contourcarpet"
           }
          ],
          "heatmap": [
           {
            "colorbar": {
             "outlinewidth": 0,
             "ticks": ""
            },
            "colorscale": [
             [
              0.0,
              "#0d0887"
             ],
             [
              0.1111111111111111,
              "#46039f"
             ],
             [
              0.2222222222222222,
              "#7201a8"
             ],
             [
              0.3333333333333333,
              "#9c179e"
             ],
             [
              0.4444444444444444,
              "#bd3786"
             ],
             [
              0.5555555555555556,
              "#d8576b"
             ],
             [
              0.6666666666666666,
              "#ed7953"
             ],
             [
              0.7777777777777778,
              "#fb9f3a"
             ],
             [
              0.8888888888888888,
              "#fdca26"
             ],
             [
              1.0,
              "#f0f921"
             ]
            ],
            "type": "heatmap"
           }
          ],
          "heatmapgl": [
           {
            "colorbar": {
             "outlinewidth": 0,
             "ticks": ""
            },
            "colorscale": [
             [
              0.0,
              "#0d0887"
             ],
             [
              0.1111111111111111,
              "#46039f"
             ],
             [
              0.2222222222222222,
              "#7201a8"
             ],
             [
              0.3333333333333333,
              "#9c179e"
             ],
             [
              0.4444444444444444,
              "#bd3786"
             ],
             [
              0.5555555555555556,
              "#d8576b"
             ],
             [
              0.6666666666666666,
              "#ed7953"
             ],
             [
              0.7777777777777778,
              "#fb9f3a"
             ],
             [
              0.8888888888888888,
              "#fdca26"
             ],
             [
              1.0,
              "#f0f921"
             ]
            ],
            "type": "heatmapgl"
           }
          ],
          "histogram": [
           {
            "marker": {
             "pattern": {
              "fillmode": "overlay",
              "size": 10,
              "solidity": 0.2
             }
            },
            "type": "histogram"
           }
          ],
          "histogram2d": [
           {
            "colorbar": {
             "outlinewidth": 0,
             "ticks": ""
            },
            "colorscale": [
             [
              0.0,
              "#0d0887"
             ],
             [
              0.1111111111111111,
              "#46039f"
             ],
             [
              0.2222222222222222,
              "#7201a8"
             ],
             [
              0.3333333333333333,
              "#9c179e"
             ],
             [
              0.4444444444444444,
              "#bd3786"
             ],
             [
              0.5555555555555556,
              "#d8576b"
             ],
             [
              0.6666666666666666,
              "#ed7953"
             ],
             [
              0.7777777777777778,
              "#fb9f3a"
             ],
             [
              0.8888888888888888,
              "#fdca26"
             ],
             [
              1.0,
              "#f0f921"
             ]
            ],
            "type": "histogram2d"
           }
          ],
          "histogram2dcontour": [
           {
            "colorbar": {
             "outlinewidth": 0,
             "ticks": ""
            },
            "colorscale": [
             [
              0.0,
              "#0d0887"
             ],
             [
              0.1111111111111111,
              "#46039f"
             ],
             [
              0.2222222222222222,
              "#7201a8"
             ],
             [
              0.3333333333333333,
              "#9c179e"
             ],
             [
              0.4444444444444444,
              "#bd3786"
             ],
             [
              0.5555555555555556,
              "#d8576b"
             ],
             [
              0.6666666666666666,
              "#ed7953"
             ],
             [
              0.7777777777777778,
              "#fb9f3a"
             ],
             [
              0.8888888888888888,
              "#fdca26"
             ],
             [
              1.0,
              "#f0f921"
             ]
            ],
            "type": "histogram2dcontour"
           }
          ],
          "mesh3d": [
           {
            "colorbar": {
             "outlinewidth": 0,
             "ticks": ""
            },
            "type": "mesh3d"
           }
          ],
          "parcoords": [
           {
            "line": {
             "colorbar": {
              "outlinewidth": 0,
              "ticks": ""
             }
            },
            "type": "parcoords"
           }
          ],
          "pie": [
           {
            "automargin": true,
            "type": "pie"
           }
          ],
          "scatter": [
           {
            "fillpattern": {
             "fillmode": "overlay",
             "size": 10,
             "solidity": 0.2
            },
            "type": "scatter"
           }
          ],
          "scatter3d": [
           {
            "line": {
             "colorbar": {
              "outlinewidth": 0,
              "ticks": ""
             }
            },
            "marker": {
             "colorbar": {
              "outlinewidth": 0,
              "ticks": ""
             }
            },
            "type": "scatter3d"
           }
          ],
          "scattercarpet": [
           {
            "marker": {
             "colorbar": {
              "outlinewidth": 0,
              "ticks": ""
             }
            },
            "type": "scattercarpet"
           }
          ],
          "scattergeo": [
           {
            "marker": {
             "colorbar": {
              "outlinewidth": 0,
              "ticks": ""
             }
            },
            "type": "scattergeo"
           }
          ],
          "scattergl": [
           {
            "marker": {
             "colorbar": {
              "outlinewidth": 0,
              "ticks": ""
             }
            },
            "type": "scattergl"
           }
          ],
          "scattermapbox": [
           {
            "marker": {
             "colorbar": {
              "outlinewidth": 0,
              "ticks": ""
             }
            },
            "type": "scattermapbox"
           }
          ],
          "scatterpolar": [
           {
            "marker": {
             "colorbar": {
              "outlinewidth": 0,
              "ticks": ""
             }
            },
            "type": "scatterpolar"
           }
          ],
          "scatterpolargl": [
           {
            "marker": {
             "colorbar": {
              "outlinewidth": 0,
              "ticks": ""
             }
            },
            "type": "scatterpolargl"
           }
          ],
          "scatterternary": [
           {
            "marker": {
             "colorbar": {
              "outlinewidth": 0,
              "ticks": ""
             }
            },
            "type": "scatterternary"
           }
          ],
          "surface": [
           {
            "colorbar": {
             "outlinewidth": 0,
             "ticks": ""
            },
            "colorscale": [
             [
              0.0,
              "#0d0887"
             ],
             [
              0.1111111111111111,
              "#46039f"
             ],
             [
              0.2222222222222222,
              "#7201a8"
             ],
             [
              0.3333333333333333,
              "#9c179e"
             ],
             [
              0.4444444444444444,
              "#bd3786"
             ],
             [
              0.5555555555555556,
              "#d8576b"
             ],
             [
              0.6666666666666666,
              "#ed7953"
             ],
             [
              0.7777777777777778,
              "#fb9f3a"
             ],
             [
              0.8888888888888888,
              "#fdca26"
             ],
             [
              1.0,
              "#f0f921"
             ]
            ],
            "type": "surface"
           }
          ],
          "table": [
           {
            "cells": {
             "fill": {
              "color": "#EBF0F8"
             },
             "line": {
              "color": "white"
             }
            },
            "header": {
             "fill": {
              "color": "#C8D4E3"
             },
             "line": {
              "color": "white"
             }
            },
            "type": "table"
           }
          ]
         },
         "layout": {
          "annotationdefaults": {
           "arrowcolor": "#2a3f5f",
           "arrowhead": 0,
           "arrowwidth": 1
          },
          "autotypenumbers": "strict",
          "coloraxis": {
           "colorbar": {
            "outlinewidth": 0,
            "ticks": ""
           }
          },
          "colorscale": {
           "diverging": [
            [
             0,
             "#8e0152"
            ],
            [
             0.1,
             "#c51b7d"
            ],
            [
             0.2,
             "#de77ae"
            ],
            [
             0.3,
             "#f1b6da"
            ],
            [
             0.4,
             "#fde0ef"
            ],
            [
             0.5,
             "#f7f7f7"
            ],
            [
             0.6,
             "#e6f5d0"
            ],
            [
             0.7,
             "#b8e186"
            ],
            [
             0.8,
             "#7fbc41"
            ],
            [
             0.9,
             "#4d9221"
            ],
            [
             1,
             "#276419"
            ]
           ],
           "sequential": [
            [
             0.0,
             "#0d0887"
            ],
            [
             0.1111111111111111,
             "#46039f"
            ],
            [
             0.2222222222222222,
             "#7201a8"
            ],
            [
             0.3333333333333333,
             "#9c179e"
            ],
            [
             0.4444444444444444,
             "#bd3786"
            ],
            [
             0.5555555555555556,
             "#d8576b"
            ],
            [
             0.6666666666666666,
             "#ed7953"
            ],
            [
             0.7777777777777778,
             "#fb9f3a"
            ],
            [
             0.8888888888888888,
             "#fdca26"
            ],
            [
             1.0,
             "#f0f921"
            ]
           ],
           "sequentialminus": [
            [
             0.0,
             "#0d0887"
            ],
            [
             0.1111111111111111,
             "#46039f"
            ],
            [
             0.2222222222222222,
             "#7201a8"
            ],
            [
             0.3333333333333333,
             "#9c179e"
            ],
            [
             0.4444444444444444,
             "#bd3786"
            ],
            [
             0.5555555555555556,
             "#d8576b"
            ],
            [
             0.6666666666666666,
             "#ed7953"
            ],
            [
             0.7777777777777778,
             "#fb9f3a"
            ],
            [
             0.8888888888888888,
             "#fdca26"
            ],
            [
             1.0,
             "#f0f921"
            ]
           ]
          },
          "colorway": [
           "#636efa",
           "#EF553B",
           "#00cc96",
           "#ab63fa",
           "#FFA15A",
           "#19d3f3",
           "#FF6692",
           "#B6E880",
           "#FF97FF",
           "#FECB52"
          ],
          "font": {
           "color": "#2a3f5f"
          },
          "geo": {
           "bgcolor": "white",
           "lakecolor": "white",
           "landcolor": "white",
           "showlakes": true,
           "showland": true,
           "subunitcolor": "#C8D4E3"
          },
          "hoverlabel": {
           "align": "left"
          },
          "hovermode": "closest",
          "mapbox": {
           "style": "light"
          },
          "paper_bgcolor": "white",
          "plot_bgcolor": "white",
          "polar": {
           "angularaxis": {
            "gridcolor": "#EBF0F8",
            "linecolor": "#EBF0F8",
            "ticks": ""
           },
           "bgcolor": "white",
           "radialaxis": {
            "gridcolor": "#EBF0F8",
            "linecolor": "#EBF0F8",
            "ticks": ""
           }
          },
          "scene": {
           "xaxis": {
            "backgroundcolor": "white",
            "gridcolor": "#DFE8F3",
            "gridwidth": 2,
            "linecolor": "#EBF0F8",
            "showbackground": true,
            "ticks": "",
            "zerolinecolor": "#EBF0F8"
           },
           "yaxis": {
            "backgroundcolor": "white",
            "gridcolor": "#DFE8F3",
            "gridwidth": 2,
            "linecolor": "#EBF0F8",
            "showbackground": true,
            "ticks": "",
            "zerolinecolor": "#EBF0F8"
           },
           "zaxis": {
            "backgroundcolor": "white",
            "gridcolor": "#DFE8F3",
            "gridwidth": 2,
            "linecolor": "#EBF0F8",
            "showbackground": true,
            "ticks": "",
            "zerolinecolor": "#EBF0F8"
           }
          },
          "shapedefaults": {
           "line": {
            "color": "#2a3f5f"
           }
          },
          "ternary": {
           "aaxis": {
            "gridcolor": "#DFE8F3",
            "linecolor": "#A2B1C6",
            "ticks": ""
           },
           "baxis": {
            "gridcolor": "#DFE8F3",
            "linecolor": "#A2B1C6",
            "ticks": ""
           },
           "bgcolor": "white",
           "caxis": {
            "gridcolor": "#DFE8F3",
            "linecolor": "#A2B1C6",
            "ticks": ""
           }
          },
          "title": {
           "x": 0.05
          },
          "xaxis": {
           "automargin": true,
           "gridcolor": "#EBF0F8",
           "linecolor": "#EBF0F8",
           "ticks": "",
           "title": {
            "standoff": 15
           },
           "zerolinecolor": "#EBF0F8",
           "zerolinewidth": 2
          },
          "yaxis": {
           "automargin": true,
           "gridcolor": "#EBF0F8",
           "linecolor": "#EBF0F8",
           "ticks": "",
           "title": {
            "standoff": 15
           },
           "zerolinecolor": "#EBF0F8",
           "zerolinewidth": 2
          }
         }
        },
        "title": {
         "text": "Red Channel – Barcode Activation Map"
        },
        "width": 1000,
        "xaxis": {
         "anchor": "y",
         "constrain": "domain",
         "domain": [
          0.0,
          1.0
         ],
         "scaleanchor": "y"
        },
        "yaxis": {
         "anchor": "x",
         "autorange": "reversed",
         "constrain": "domain",
         "domain": [
          0.0,
          1.0
         ]
        }
       }
      },
      "text/html": [
       "<div>                            <div id=\"7f8b6313-0214-4e40-aac4-78f53662f7ef\" class=\"plotly-graph-div\" style=\"height:1000px; width:1000px;\"></div>            <script type=\"text/javascript\">                require([\"plotly\"], function(Plotly) {                    window.PLOTLYENV=window.PLOTLYENV || {};                                    if (document.getElementById(\"7f8b6313-0214-4e40-aac4-78f53662f7ef\")) {                    Plotly.newPlot(                        \"7f8b6313-0214-4e40-aac4-78f53662f7ef\",                        [{\"coloraxis\":\"coloraxis\",\"name\":\"0\",\"x\":[\"R1\",\"R2\",\"R3\",\"R4\",\"R5\",\"R6\",\"R7\",\"R8\",\"R9\",\"R10\",\"R11\",\"R12\",\"R13\",\"R14\",\"R15\",\"R16\"],\"y\":[\"rex-43\",\"nDCC-20\",\"rex-39\",\"rex-33\",\"nDCC-19\",\"rex-3\",\"rex-36\",\"rex-27\",\"P-rex-20\",\"P-rex-15\",\"rex-1\",\"rex-6\",\"rex-48\",\"rex-23\",\"P-rex-27\",\"rex-44\",\"nDCC-8\",\"P-rex-2\",\"rex-24\",\"P-rex-1\",\"P-rex-6\\u002fnDCC-4\",\"rex-14\",\"nDCC-23\",\"rex-35\",\"rex-42\",\"rex-18\",\"rex-38\",\"P-rex-31\\u002fnDCC-21\",\"P-rex-14\",\"P-rex-30\",\"nDCC-3\",\"nDCC-5\\u002fnDCC-6\",\"rex-21\",\"rex-25\",\"rex-40\",\"rex-17\",\"P-rex-7\"],\"z\":[[1,1,1,0,1,0,0,0,0,0,0,0,0,0,0,0],[1,1,0,1,0,1,0,0,0,0,0,0,0,0,0,0],[1,1,0,0,0,0,1,0,1,0,0,0,0,0,0,0],[1,1,0,0,0,0,0,1,0,1,0,0,0,0,0,0],[1,1,0,0,0,0,0,0,0,0,1,0,1,0,0,0],[1,1,0,0,0,0,0,0,0,0,0,1,0,1,0,0],[1,0,1,1,0,0,1,0,0,0,0,0,0,0,0,0],[1,0,1,0,0,1,0,0,1,0,0,0,0,0,0,0],[1,0,1,0,0,0,0,1,0,0,1,0,0,0,0,0],[1,0,1,0,0,0,0,0,0,1,0,0,1,0,0,0],[1,0,1,0,0,0,0,0,0,0,0,1,0,0,1,0],[1,0,0,1,1,0,0,0,1,0,0,0,0,0,0,0],[1,0,0,1,0,0,0,1,0,0,0,1,0,0,0,0],[1,0,0,1,0,0,0,0,0,1,1,0,0,0,0,0],[1,0,0,1,0,0,0,0,0,0,0,0,1,1,0,0],[0,1,1,1,0,0,0,1,0,0,0,0,0,0,0,0],[0,1,1,0,0,1,0,0,0,1,0,0,0,0,0,0],[0,1,1,0,0,0,1,0,0,0,1,0,0,0,0,0],[0,1,1,0,0,0,0,0,1,0,0,0,1,0,0,0],[0,1,1,0,0,0,0,0,0,0,0,1,0,0,0,1],[0,1,0,1,1,0,0,0,0,1,0,0,0,0,0,0],[0,1,0,1,0,0,1,0,0,0,0,1,0,0,0,0],[0,1,0,1,0,0,0,0,1,0,1,0,0,0,0,0],[0,1,0,1,0,0,0,0,0,0,0,0,1,0,1,0],[0,0,1,1,1,0,0,0,0,0,1,0,0,0,0,0],[0,0,1,1,0,1,0,0,0,0,0,1,0,0,0,0],[0,0,1,1,0,0,0,0,1,1,0,0,0,0,0,0],[0,0,1,1,0,0,0,0,0,0,0,0,1,0,0,1],[0,0,0,0,1,1,1,0,1,0,0,0,0,0,0,0],[0,0,0,0,1,1,0,1,0,1,0,0,0,0,0,0],[0,0,0,0,1,1,0,0,0,0,1,1,0,0,0,0],[0,0,0,0,1,1,0,0,0,0,0,0,1,1,0,0],[0,0,0,0,1,1,0,0,0,0,0,0,0,0,1,1],[0,0,0,0,1,0,1,1,0,0,1,0,0,0,0,0],[0,0,0,0,1,0,1,0,0,1,0,1,0,0,0,0],[0,0,0,0,1,0,1,0,0,0,0,0,1,0,1,0],[0,0,0,0,1,0,1,0,0,0,0,0,0,1,0,1]],\"type\":\"heatmap\",\"xaxis\":\"x\",\"yaxis\":\"y\",\"hovertemplate\":\"x: %{x}\\u003cbr\\u003ey: %{y}\\u003cbr\\u003ecolor: %{z}\\u003cextra\\u003e\\u003c\\u002fextra\\u003e\"}],                        {\"template\":{\"data\":{\"histogram2dcontour\":[{\"type\":\"histogram2dcontour\",\"colorbar\":{\"outlinewidth\":0,\"ticks\":\"\"},\"colorscale\":[[0.0,\"#0d0887\"],[0.1111111111111111,\"#46039f\"],[0.2222222222222222,\"#7201a8\"],[0.3333333333333333,\"#9c179e\"],[0.4444444444444444,\"#bd3786\"],[0.5555555555555556,\"#d8576b\"],[0.6666666666666666,\"#ed7953\"],[0.7777777777777778,\"#fb9f3a\"],[0.8888888888888888,\"#fdca26\"],[1.0,\"#f0f921\"]]}],\"choropleth\":[{\"type\":\"choropleth\",\"colorbar\":{\"outlinewidth\":0,\"ticks\":\"\"}}],\"histogram2d\":[{\"type\":\"histogram2d\",\"colorbar\":{\"outlinewidth\":0,\"ticks\":\"\"},\"colorscale\":[[0.0,\"#0d0887\"],[0.1111111111111111,\"#46039f\"],[0.2222222222222222,\"#7201a8\"],[0.3333333333333333,\"#9c179e\"],[0.4444444444444444,\"#bd3786\"],[0.5555555555555556,\"#d8576b\"],[0.6666666666666666,\"#ed7953\"],[0.7777777777777778,\"#fb9f3a\"],[0.8888888888888888,\"#fdca26\"],[1.0,\"#f0f921\"]]}],\"heatmap\":[{\"type\":\"heatmap\",\"colorbar\":{\"outlinewidth\":0,\"ticks\":\"\"},\"colorscale\":[[0.0,\"#0d0887\"],[0.1111111111111111,\"#46039f\"],[0.2222222222222222,\"#7201a8\"],[0.3333333333333333,\"#9c179e\"],[0.4444444444444444,\"#bd3786\"],[0.5555555555555556,\"#d8576b\"],[0.6666666666666666,\"#ed7953\"],[0.7777777777777778,\"#fb9f3a\"],[0.8888888888888888,\"#fdca26\"],[1.0,\"#f0f921\"]]}],\"heatmapgl\":[{\"type\":\"heatmapgl\",\"colorbar\":{\"outlinewidth\":0,\"ticks\":\"\"},\"colorscale\":[[0.0,\"#0d0887\"],[0.1111111111111111,\"#46039f\"],[0.2222222222222222,\"#7201a8\"],[0.3333333333333333,\"#9c179e\"],[0.4444444444444444,\"#bd3786\"],[0.5555555555555556,\"#d8576b\"],[0.6666666666666666,\"#ed7953\"],[0.7777777777777778,\"#fb9f3a\"],[0.8888888888888888,\"#fdca26\"],[1.0,\"#f0f921\"]]}],\"contourcarpet\":[{\"type\":\"contourcarpet\",\"colorbar\":{\"outlinewidth\":0,\"ticks\":\"\"}}],\"contour\":[{\"type\":\"contour\",\"colorbar\":{\"outlinewidth\":0,\"ticks\":\"\"},\"colorscale\":[[0.0,\"#0d0887\"],[0.1111111111111111,\"#46039f\"],[0.2222222222222222,\"#7201a8\"],[0.3333333333333333,\"#9c179e\"],[0.4444444444444444,\"#bd3786\"],[0.5555555555555556,\"#d8576b\"],[0.6666666666666666,\"#ed7953\"],[0.7777777777777778,\"#fb9f3a\"],[0.8888888888888888,\"#fdca26\"],[1.0,\"#f0f921\"]]}],\"surface\":[{\"type\":\"surface\",\"colorbar\":{\"outlinewidth\":0,\"ticks\":\"\"},\"colorscale\":[[0.0,\"#0d0887\"],[0.1111111111111111,\"#46039f\"],[0.2222222222222222,\"#7201a8\"],[0.3333333333333333,\"#9c179e\"],[0.4444444444444444,\"#bd3786\"],[0.5555555555555556,\"#d8576b\"],[0.6666666666666666,\"#ed7953\"],[0.7777777777777778,\"#fb9f3a\"],[0.8888888888888888,\"#fdca26\"],[1.0,\"#f0f921\"]]}],\"mesh3d\":[{\"type\":\"mesh3d\",\"colorbar\":{\"outlinewidth\":0,\"ticks\":\"\"}}],\"scatter\":[{\"fillpattern\":{\"fillmode\":\"overlay\",\"size\":10,\"solidity\":0.2},\"type\":\"scatter\"}],\"parcoords\":[{\"type\":\"parcoords\",\"line\":{\"colorbar\":{\"outlinewidth\":0,\"ticks\":\"\"}}}],\"scatterpolargl\":[{\"type\":\"scatterpolargl\",\"marker\":{\"colorbar\":{\"outlinewidth\":0,\"ticks\":\"\"}}}],\"bar\":[{\"error_x\":{\"color\":\"#2a3f5f\"},\"error_y\":{\"color\":\"#2a3f5f\"},\"marker\":{\"line\":{\"color\":\"white\",\"width\":0.5},\"pattern\":{\"fillmode\":\"overlay\",\"size\":10,\"solidity\":0.2}},\"type\":\"bar\"}],\"scattergeo\":[{\"type\":\"scattergeo\",\"marker\":{\"colorbar\":{\"outlinewidth\":0,\"ticks\":\"\"}}}],\"scatterpolar\":[{\"type\":\"scatterpolar\",\"marker\":{\"colorbar\":{\"outlinewidth\":0,\"ticks\":\"\"}}}],\"histogram\":[{\"marker\":{\"pattern\":{\"fillmode\":\"overlay\",\"size\":10,\"solidity\":0.2}},\"type\":\"histogram\"}],\"scattergl\":[{\"type\":\"scattergl\",\"marker\":{\"colorbar\":{\"outlinewidth\":0,\"ticks\":\"\"}}}],\"scatter3d\":[{\"type\":\"scatter3d\",\"line\":{\"colorbar\":{\"outlinewidth\":0,\"ticks\":\"\"}},\"marker\":{\"colorbar\":{\"outlinewidth\":0,\"ticks\":\"\"}}}],\"scattermapbox\":[{\"type\":\"scattermapbox\",\"marker\":{\"colorbar\":{\"outlinewidth\":0,\"ticks\":\"\"}}}],\"scatterternary\":[{\"type\":\"scatterternary\",\"marker\":{\"colorbar\":{\"outlinewidth\":0,\"ticks\":\"\"}}}],\"scattercarpet\":[{\"type\":\"scattercarpet\",\"marker\":{\"colorbar\":{\"outlinewidth\":0,\"ticks\":\"\"}}}],\"carpet\":[{\"aaxis\":{\"endlinecolor\":\"#2a3f5f\",\"gridcolor\":\"#C8D4E3\",\"linecolor\":\"#C8D4E3\",\"minorgridcolor\":\"#C8D4E3\",\"startlinecolor\":\"#2a3f5f\"},\"baxis\":{\"endlinecolor\":\"#2a3f5f\",\"gridcolor\":\"#C8D4E3\",\"linecolor\":\"#C8D4E3\",\"minorgridcolor\":\"#C8D4E3\",\"startlinecolor\":\"#2a3f5f\"},\"type\":\"carpet\"}],\"table\":[{\"cells\":{\"fill\":{\"color\":\"#EBF0F8\"},\"line\":{\"color\":\"white\"}},\"header\":{\"fill\":{\"color\":\"#C8D4E3\"},\"line\":{\"color\":\"white\"}},\"type\":\"table\"}],\"barpolar\":[{\"marker\":{\"line\":{\"color\":\"white\",\"width\":0.5},\"pattern\":{\"fillmode\":\"overlay\",\"size\":10,\"solidity\":0.2}},\"type\":\"barpolar\"}],\"pie\":[{\"automargin\":true,\"type\":\"pie\"}]},\"layout\":{\"autotypenumbers\":\"strict\",\"colorway\":[\"#636efa\",\"#EF553B\",\"#00cc96\",\"#ab63fa\",\"#FFA15A\",\"#19d3f3\",\"#FF6692\",\"#B6E880\",\"#FF97FF\",\"#FECB52\"],\"font\":{\"color\":\"#2a3f5f\"},\"hovermode\":\"closest\",\"hoverlabel\":{\"align\":\"left\"},\"paper_bgcolor\":\"white\",\"plot_bgcolor\":\"white\",\"polar\":{\"bgcolor\":\"white\",\"angularaxis\":{\"gridcolor\":\"#EBF0F8\",\"linecolor\":\"#EBF0F8\",\"ticks\":\"\"},\"radialaxis\":{\"gridcolor\":\"#EBF0F8\",\"linecolor\":\"#EBF0F8\",\"ticks\":\"\"}},\"ternary\":{\"bgcolor\":\"white\",\"aaxis\":{\"gridcolor\":\"#DFE8F3\",\"linecolor\":\"#A2B1C6\",\"ticks\":\"\"},\"baxis\":{\"gridcolor\":\"#DFE8F3\",\"linecolor\":\"#A2B1C6\",\"ticks\":\"\"},\"caxis\":{\"gridcolor\":\"#DFE8F3\",\"linecolor\":\"#A2B1C6\",\"ticks\":\"\"}},\"coloraxis\":{\"colorbar\":{\"outlinewidth\":0,\"ticks\":\"\"}},\"colorscale\":{\"sequential\":[[0.0,\"#0d0887\"],[0.1111111111111111,\"#46039f\"],[0.2222222222222222,\"#7201a8\"],[0.3333333333333333,\"#9c179e\"],[0.4444444444444444,\"#bd3786\"],[0.5555555555555556,\"#d8576b\"],[0.6666666666666666,\"#ed7953\"],[0.7777777777777778,\"#fb9f3a\"],[0.8888888888888888,\"#fdca26\"],[1.0,\"#f0f921\"]],\"sequentialminus\":[[0.0,\"#0d0887\"],[0.1111111111111111,\"#46039f\"],[0.2222222222222222,\"#7201a8\"],[0.3333333333333333,\"#9c179e\"],[0.4444444444444444,\"#bd3786\"],[0.5555555555555556,\"#d8576b\"],[0.6666666666666666,\"#ed7953\"],[0.7777777777777778,\"#fb9f3a\"],[0.8888888888888888,\"#fdca26\"],[1.0,\"#f0f921\"]],\"diverging\":[[0,\"#8e0152\"],[0.1,\"#c51b7d\"],[0.2,\"#de77ae\"],[0.3,\"#f1b6da\"],[0.4,\"#fde0ef\"],[0.5,\"#f7f7f7\"],[0.6,\"#e6f5d0\"],[0.7,\"#b8e186\"],[0.8,\"#7fbc41\"],[0.9,\"#4d9221\"],[1,\"#276419\"]]},\"xaxis\":{\"gridcolor\":\"#EBF0F8\",\"linecolor\":\"#EBF0F8\",\"ticks\":\"\",\"title\":{\"standoff\":15},\"zerolinecolor\":\"#EBF0F8\",\"automargin\":true,\"zerolinewidth\":2},\"yaxis\":{\"gridcolor\":\"#EBF0F8\",\"linecolor\":\"#EBF0F8\",\"ticks\":\"\",\"title\":{\"standoff\":15},\"zerolinecolor\":\"#EBF0F8\",\"automargin\":true,\"zerolinewidth\":2},\"scene\":{\"xaxis\":{\"backgroundcolor\":\"white\",\"gridcolor\":\"#DFE8F3\",\"linecolor\":\"#EBF0F8\",\"showbackground\":true,\"ticks\":\"\",\"zerolinecolor\":\"#EBF0F8\",\"gridwidth\":2},\"yaxis\":{\"backgroundcolor\":\"white\",\"gridcolor\":\"#DFE8F3\",\"linecolor\":\"#EBF0F8\",\"showbackground\":true,\"ticks\":\"\",\"zerolinecolor\":\"#EBF0F8\",\"gridwidth\":2},\"zaxis\":{\"backgroundcolor\":\"white\",\"gridcolor\":\"#DFE8F3\",\"linecolor\":\"#EBF0F8\",\"showbackground\":true,\"ticks\":\"\",\"zerolinecolor\":\"#EBF0F8\",\"gridwidth\":2}},\"shapedefaults\":{\"line\":{\"color\":\"#2a3f5f\"}},\"annotationdefaults\":{\"arrowcolor\":\"#2a3f5f\",\"arrowhead\":0,\"arrowwidth\":1},\"geo\":{\"bgcolor\":\"white\",\"landcolor\":\"white\",\"subunitcolor\":\"#C8D4E3\",\"showland\":true,\"showlakes\":true,\"lakecolor\":\"white\"},\"title\":{\"x\":0.05},\"mapbox\":{\"style\":\"light\"}}},\"xaxis\":{\"anchor\":\"y\",\"domain\":[0.0,1.0],\"scaleanchor\":\"y\",\"constrain\":\"domain\"},\"yaxis\":{\"anchor\":\"x\",\"domain\":[0.0,1.0],\"autorange\":\"reversed\",\"constrain\":\"domain\"},\"coloraxis\":{\"colorscale\":[[0.0,\"rgb(247,244,249)\"],[0.125,\"rgb(231,225,239)\"],[0.25,\"rgb(212,185,218)\"],[0.375,\"rgb(201,148,199)\"],[0.5,\"rgb(223,101,176)\"],[0.625,\"rgb(231,41,138)\"],[0.75,\"rgb(206,18,86)\"],[0.875,\"rgb(152,0,67)\"],[1.0,\"rgb(103,0,31)\"]]},\"title\":{\"text\":\"Red Channel \\u2013 Barcode Activation Map\"},\"height\":1000,\"width\":1000},                        {\"responsive\": true}                    ).then(function(){\n",
       "                            \n",
       "var gd = document.getElementById('7f8b6313-0214-4e40-aac4-78f53662f7ef');\n",
       "var x = new MutationObserver(function (mutations, observer) {{\n",
       "        var display = window.getComputedStyle(gd).display;\n",
       "        if (!display || display === 'none') {{\n",
       "            console.log([gd, 'removed!']);\n",
       "            Plotly.purge(gd);\n",
       "            observer.disconnect();\n",
       "        }}\n",
       "}});\n",
       "\n",
       "// Listen for the removal of the full notebook cells\n",
       "var notebookContainer = gd.closest('#notebook-container');\n",
       "if (notebookContainer) {{\n",
       "    x.observe(notebookContainer, {childList: true});\n",
       "}}\n",
       "\n",
       "// Listen for the clearing of the current output cell\n",
       "var outputEl = gd.closest('.output');\n",
       "if (outputEl) {{\n",
       "    x.observe(outputEl, {childList: true});\n",
       "}}\n",
       "\n",
       "                        })                };                });            </script>        </div>"
      ]
     },
     "metadata": {},
     "output_type": "display_data"
    },
    {
     "data": {
      "application/vnd.plotly.v1+json": {
       "config": {
        "plotlyServerURL": "https://plot.ly"
       },
       "data": [
        {
         "alignmentgroup": "True",
         "hovertemplate": "Round=%{x}<br># Active Barcodes=%{y}<extra></extra>",
         "legendgroup": "",
         "marker": {
          "color": "darkmagenta",
          "pattern": {
           "shape": ""
          }
         },
         "name": "",
         "offsetgroup": "",
         "orientation": "v",
         "showlegend": false,
         "textposition": "auto",
         "type": "bar",
         "x": [
          1,
          2,
          3,
          4,
          5,
          6,
          7,
          8,
          9,
          10,
          11,
          12,
          13,
          14,
          15,
          16
         ],
         "xaxis": "x",
         "y": [
          15,
          15,
          15,
          15,
          13,
          9,
          9,
          6,
          7,
          8,
          8,
          8,
          8,
          4,
          4,
          4
         ],
         "yaxis": "y"
        }
       ],
       "layout": {
        "barmode": "relative",
        "height": 500,
        "legend": {
         "tracegroupgap": 0
        },
        "template": {
         "data": {
          "bar": [
           {
            "error_x": {
             "color": "#2a3f5f"
            },
            "error_y": {
             "color": "#2a3f5f"
            },
            "marker": {
             "line": {
              "color": "white",
              "width": 0.5
             },
             "pattern": {
              "fillmode": "overlay",
              "size": 10,
              "solidity": 0.2
             }
            },
            "type": "bar"
           }
          ],
          "barpolar": [
           {
            "marker": {
             "line": {
              "color": "white",
              "width": 0.5
             },
             "pattern": {
              "fillmode": "overlay",
              "size": 10,
              "solidity": 0.2
             }
            },
            "type": "barpolar"
           }
          ],
          "carpet": [
           {
            "aaxis": {
             "endlinecolor": "#2a3f5f",
             "gridcolor": "#C8D4E3",
             "linecolor": "#C8D4E3",
             "minorgridcolor": "#C8D4E3",
             "startlinecolor": "#2a3f5f"
            },
            "baxis": {
             "endlinecolor": "#2a3f5f",
             "gridcolor": "#C8D4E3",
             "linecolor": "#C8D4E3",
             "minorgridcolor": "#C8D4E3",
             "startlinecolor": "#2a3f5f"
            },
            "type": "carpet"
           }
          ],
          "choropleth": [
           {
            "colorbar": {
             "outlinewidth": 0,
             "ticks": ""
            },
            "type": "choropleth"
           }
          ],
          "contour": [
           {
            "colorbar": {
             "outlinewidth": 0,
             "ticks": ""
            },
            "colorscale": [
             [
              0.0,
              "#0d0887"
             ],
             [
              0.1111111111111111,
              "#46039f"
             ],
             [
              0.2222222222222222,
              "#7201a8"
             ],
             [
              0.3333333333333333,
              "#9c179e"
             ],
             [
              0.4444444444444444,
              "#bd3786"
             ],
             [
              0.5555555555555556,
              "#d8576b"
             ],
             [
              0.6666666666666666,
              "#ed7953"
             ],
             [
              0.7777777777777778,
              "#fb9f3a"
             ],
             [
              0.8888888888888888,
              "#fdca26"
             ],
             [
              1.0,
              "#f0f921"
             ]
            ],
            "type": "contour"
           }
          ],
          "contourcarpet": [
           {
            "colorbar": {
             "outlinewidth": 0,
             "ticks": ""
            },
            "type": "contourcarpet"
           }
          ],
          "heatmap": [
           {
            "colorbar": {
             "outlinewidth": 0,
             "ticks": ""
            },
            "colorscale": [
             [
              0.0,
              "#0d0887"
             ],
             [
              0.1111111111111111,
              "#46039f"
             ],
             [
              0.2222222222222222,
              "#7201a8"
             ],
             [
              0.3333333333333333,
              "#9c179e"
             ],
             [
              0.4444444444444444,
              "#bd3786"
             ],
             [
              0.5555555555555556,
              "#d8576b"
             ],
             [
              0.6666666666666666,
              "#ed7953"
             ],
             [
              0.7777777777777778,
              "#fb9f3a"
             ],
             [
              0.8888888888888888,
              "#fdca26"
             ],
             [
              1.0,
              "#f0f921"
             ]
            ],
            "type": "heatmap"
           }
          ],
          "heatmapgl": [
           {
            "colorbar": {
             "outlinewidth": 0,
             "ticks": ""
            },
            "colorscale": [
             [
              0.0,
              "#0d0887"
             ],
             [
              0.1111111111111111,
              "#46039f"
             ],
             [
              0.2222222222222222,
              "#7201a8"
             ],
             [
              0.3333333333333333,
              "#9c179e"
             ],
             [
              0.4444444444444444,
              "#bd3786"
             ],
             [
              0.5555555555555556,
              "#d8576b"
             ],
             [
              0.6666666666666666,
              "#ed7953"
             ],
             [
              0.7777777777777778,
              "#fb9f3a"
             ],
             [
              0.8888888888888888,
              "#fdca26"
             ],
             [
              1.0,
              "#f0f921"
             ]
            ],
            "type": "heatmapgl"
           }
          ],
          "histogram": [
           {
            "marker": {
             "pattern": {
              "fillmode": "overlay",
              "size": 10,
              "solidity": 0.2
             }
            },
            "type": "histogram"
           }
          ],
          "histogram2d": [
           {
            "colorbar": {
             "outlinewidth": 0,
             "ticks": ""
            },
            "colorscale": [
             [
              0.0,
              "#0d0887"
             ],
             [
              0.1111111111111111,
              "#46039f"
             ],
             [
              0.2222222222222222,
              "#7201a8"
             ],
             [
              0.3333333333333333,
              "#9c179e"
             ],
             [
              0.4444444444444444,
              "#bd3786"
             ],
             [
              0.5555555555555556,
              "#d8576b"
             ],
             [
              0.6666666666666666,
              "#ed7953"
             ],
             [
              0.7777777777777778,
              "#fb9f3a"
             ],
             [
              0.8888888888888888,
              "#fdca26"
             ],
             [
              1.0,
              "#f0f921"
             ]
            ],
            "type": "histogram2d"
           }
          ],
          "histogram2dcontour": [
           {
            "colorbar": {
             "outlinewidth": 0,
             "ticks": ""
            },
            "colorscale": [
             [
              0.0,
              "#0d0887"
             ],
             [
              0.1111111111111111,
              "#46039f"
             ],
             [
              0.2222222222222222,
              "#7201a8"
             ],
             [
              0.3333333333333333,
              "#9c179e"
             ],
             [
              0.4444444444444444,
              "#bd3786"
             ],
             [
              0.5555555555555556,
              "#d8576b"
             ],
             [
              0.6666666666666666,
              "#ed7953"
             ],
             [
              0.7777777777777778,
              "#fb9f3a"
             ],
             [
              0.8888888888888888,
              "#fdca26"
             ],
             [
              1.0,
              "#f0f921"
             ]
            ],
            "type": "histogram2dcontour"
           }
          ],
          "mesh3d": [
           {
            "colorbar": {
             "outlinewidth": 0,
             "ticks": ""
            },
            "type": "mesh3d"
           }
          ],
          "parcoords": [
           {
            "line": {
             "colorbar": {
              "outlinewidth": 0,
              "ticks": ""
             }
            },
            "type": "parcoords"
           }
          ],
          "pie": [
           {
            "automargin": true,
            "type": "pie"
           }
          ],
          "scatter": [
           {
            "fillpattern": {
             "fillmode": "overlay",
             "size": 10,
             "solidity": 0.2
            },
            "type": "scatter"
           }
          ],
          "scatter3d": [
           {
            "line": {
             "colorbar": {
              "outlinewidth": 0,
              "ticks": ""
             }
            },
            "marker": {
             "colorbar": {
              "outlinewidth": 0,
              "ticks": ""
             }
            },
            "type": "scatter3d"
           }
          ],
          "scattercarpet": [
           {
            "marker": {
             "colorbar": {
              "outlinewidth": 0,
              "ticks": ""
             }
            },
            "type": "scattercarpet"
           }
          ],
          "scattergeo": [
           {
            "marker": {
             "colorbar": {
              "outlinewidth": 0,
              "ticks": ""
             }
            },
            "type": "scattergeo"
           }
          ],
          "scattergl": [
           {
            "marker": {
             "colorbar": {
              "outlinewidth": 0,
              "ticks": ""
             }
            },
            "type": "scattergl"
           }
          ],
          "scattermapbox": [
           {
            "marker": {
             "colorbar": {
              "outlinewidth": 0,
              "ticks": ""
             }
            },
            "type": "scattermapbox"
           }
          ],
          "scatterpolar": [
           {
            "marker": {
             "colorbar": {
              "outlinewidth": 0,
              "ticks": ""
             }
            },
            "type": "scatterpolar"
           }
          ],
          "scatterpolargl": [
           {
            "marker": {
             "colorbar": {
              "outlinewidth": 0,
              "ticks": ""
             }
            },
            "type": "scatterpolargl"
           }
          ],
          "scatterternary": [
           {
            "marker": {
             "colorbar": {
              "outlinewidth": 0,
              "ticks": ""
             }
            },
            "type": "scatterternary"
           }
          ],
          "surface": [
           {
            "colorbar": {
             "outlinewidth": 0,
             "ticks": ""
            },
            "colorscale": [
             [
              0.0,
              "#0d0887"
             ],
             [
              0.1111111111111111,
              "#46039f"
             ],
             [
              0.2222222222222222,
              "#7201a8"
             ],
             [
              0.3333333333333333,
              "#9c179e"
             ],
             [
              0.4444444444444444,
              "#bd3786"
             ],
             [
              0.5555555555555556,
              "#d8576b"
             ],
             [
              0.6666666666666666,
              "#ed7953"
             ],
             [
              0.7777777777777778,
              "#fb9f3a"
             ],
             [
              0.8888888888888888,
              "#fdca26"
             ],
             [
              1.0,
              "#f0f921"
             ]
            ],
            "type": "surface"
           }
          ],
          "table": [
           {
            "cells": {
             "fill": {
              "color": "#EBF0F8"
             },
             "line": {
              "color": "white"
             }
            },
            "header": {
             "fill": {
              "color": "#C8D4E3"
             },
             "line": {
              "color": "white"
             }
            },
            "type": "table"
           }
          ]
         },
         "layout": {
          "annotationdefaults": {
           "arrowcolor": "#2a3f5f",
           "arrowhead": 0,
           "arrowwidth": 1
          },
          "autotypenumbers": "strict",
          "coloraxis": {
           "colorbar": {
            "outlinewidth": 0,
            "ticks": ""
           }
          },
          "colorscale": {
           "diverging": [
            [
             0,
             "#8e0152"
            ],
            [
             0.1,
             "#c51b7d"
            ],
            [
             0.2,
             "#de77ae"
            ],
            [
             0.3,
             "#f1b6da"
            ],
            [
             0.4,
             "#fde0ef"
            ],
            [
             0.5,
             "#f7f7f7"
            ],
            [
             0.6,
             "#e6f5d0"
            ],
            [
             0.7,
             "#b8e186"
            ],
            [
             0.8,
             "#7fbc41"
            ],
            [
             0.9,
             "#4d9221"
            ],
            [
             1,
             "#276419"
            ]
           ],
           "sequential": [
            [
             0.0,
             "#0d0887"
            ],
            [
             0.1111111111111111,
             "#46039f"
            ],
            [
             0.2222222222222222,
             "#7201a8"
            ],
            [
             0.3333333333333333,
             "#9c179e"
            ],
            [
             0.4444444444444444,
             "#bd3786"
            ],
            [
             0.5555555555555556,
             "#d8576b"
            ],
            [
             0.6666666666666666,
             "#ed7953"
            ],
            [
             0.7777777777777778,
             "#fb9f3a"
            ],
            [
             0.8888888888888888,
             "#fdca26"
            ],
            [
             1.0,
             "#f0f921"
            ]
           ],
           "sequentialminus": [
            [
             0.0,
             "#0d0887"
            ],
            [
             0.1111111111111111,
             "#46039f"
            ],
            [
             0.2222222222222222,
             "#7201a8"
            ],
            [
             0.3333333333333333,
             "#9c179e"
            ],
            [
             0.4444444444444444,
             "#bd3786"
            ],
            [
             0.5555555555555556,
             "#d8576b"
            ],
            [
             0.6666666666666666,
             "#ed7953"
            ],
            [
             0.7777777777777778,
             "#fb9f3a"
            ],
            [
             0.8888888888888888,
             "#fdca26"
            ],
            [
             1.0,
             "#f0f921"
            ]
           ]
          },
          "colorway": [
           "#636efa",
           "#EF553B",
           "#00cc96",
           "#ab63fa",
           "#FFA15A",
           "#19d3f3",
           "#FF6692",
           "#B6E880",
           "#FF97FF",
           "#FECB52"
          ],
          "font": {
           "color": "#2a3f5f"
          },
          "geo": {
           "bgcolor": "white",
           "lakecolor": "white",
           "landcolor": "white",
           "showlakes": true,
           "showland": true,
           "subunitcolor": "#C8D4E3"
          },
          "hoverlabel": {
           "align": "left"
          },
          "hovermode": "closest",
          "mapbox": {
           "style": "light"
          },
          "paper_bgcolor": "white",
          "plot_bgcolor": "white",
          "polar": {
           "angularaxis": {
            "gridcolor": "#EBF0F8",
            "linecolor": "#EBF0F8",
            "ticks": ""
           },
           "bgcolor": "white",
           "radialaxis": {
            "gridcolor": "#EBF0F8",
            "linecolor": "#EBF0F8",
            "ticks": ""
           }
          },
          "scene": {
           "xaxis": {
            "backgroundcolor": "white",
            "gridcolor": "#DFE8F3",
            "gridwidth": 2,
            "linecolor": "#EBF0F8",
            "showbackground": true,
            "ticks": "",
            "zerolinecolor": "#EBF0F8"
           },
           "yaxis": {
            "backgroundcolor": "white",
            "gridcolor": "#DFE8F3",
            "gridwidth": 2,
            "linecolor": "#EBF0F8",
            "showbackground": true,
            "ticks": "",
            "zerolinecolor": "#EBF0F8"
           },
           "zaxis": {
            "backgroundcolor": "white",
            "gridcolor": "#DFE8F3",
            "gridwidth": 2,
            "linecolor": "#EBF0F8",
            "showbackground": true,
            "ticks": "",
            "zerolinecolor": "#EBF0F8"
           }
          },
          "shapedefaults": {
           "line": {
            "color": "#2a3f5f"
           }
          },
          "ternary": {
           "aaxis": {
            "gridcolor": "#DFE8F3",
            "linecolor": "#A2B1C6",
            "ticks": ""
           },
           "baxis": {
            "gridcolor": "#DFE8F3",
            "linecolor": "#A2B1C6",
            "ticks": ""
           },
           "bgcolor": "white",
           "caxis": {
            "gridcolor": "#DFE8F3",
            "linecolor": "#A2B1C6",
            "ticks": ""
           }
          },
          "title": {
           "x": 0.05
          },
          "xaxis": {
           "automargin": true,
           "gridcolor": "#EBF0F8",
           "linecolor": "#EBF0F8",
           "ticks": "",
           "title": {
            "standoff": 15
           },
           "zerolinecolor": "#EBF0F8",
           "zerolinewidth": 2
          },
          "yaxis": {
           "automargin": true,
           "gridcolor": "#EBF0F8",
           "linecolor": "#EBF0F8",
           "ticks": "",
           "title": {
            "standoff": 15
           },
           "zerolinecolor": "#EBF0F8",
           "zerolinewidth": 2
          }
         }
        },
        "title": {
         "text": "Red Channel – Activity per Round"
        },
        "width": 800,
        "xaxis": {
         "anchor": "y",
         "domain": [
          0.0,
          1.0
         ],
         "title": {
          "text": "Round"
         }
        },
        "yaxis": {
         "anchor": "x",
         "domain": [
          0.0,
          1.0
         ],
         "title": {
          "text": "# Active Barcodes"
         }
        }
       }
      },
      "text/html": [
       "<div>                            <div id=\"8e74e0d0-643d-4607-a315-668f1338f4e6\" class=\"plotly-graph-div\" style=\"height:500px; width:800px;\"></div>            <script type=\"text/javascript\">                require([\"plotly\"], function(Plotly) {                    window.PLOTLYENV=window.PLOTLYENV || {};                                    if (document.getElementById(\"8e74e0d0-643d-4607-a315-668f1338f4e6\")) {                    Plotly.newPlot(                        \"8e74e0d0-643d-4607-a315-668f1338f4e6\",                        [{\"alignmentgroup\":\"True\",\"hovertemplate\":\"Round=%{x}\\u003cbr\\u003e# Active Barcodes=%{y}\\u003cextra\\u003e\\u003c\\u002fextra\\u003e\",\"legendgroup\":\"\",\"marker\":{\"color\":\"darkmagenta\",\"pattern\":{\"shape\":\"\"}},\"name\":\"\",\"offsetgroup\":\"\",\"orientation\":\"v\",\"showlegend\":false,\"textposition\":\"auto\",\"x\":[1,2,3,4,5,6,7,8,9,10,11,12,13,14,15,16],\"xaxis\":\"x\",\"y\":[15,15,15,15,13,9,9,6,7,8,8,8,8,4,4,4],\"yaxis\":\"y\",\"type\":\"bar\"}],                        {\"template\":{\"data\":{\"histogram2dcontour\":[{\"type\":\"histogram2dcontour\",\"colorbar\":{\"outlinewidth\":0,\"ticks\":\"\"},\"colorscale\":[[0.0,\"#0d0887\"],[0.1111111111111111,\"#46039f\"],[0.2222222222222222,\"#7201a8\"],[0.3333333333333333,\"#9c179e\"],[0.4444444444444444,\"#bd3786\"],[0.5555555555555556,\"#d8576b\"],[0.6666666666666666,\"#ed7953\"],[0.7777777777777778,\"#fb9f3a\"],[0.8888888888888888,\"#fdca26\"],[1.0,\"#f0f921\"]]}],\"choropleth\":[{\"type\":\"choropleth\",\"colorbar\":{\"outlinewidth\":0,\"ticks\":\"\"}}],\"histogram2d\":[{\"type\":\"histogram2d\",\"colorbar\":{\"outlinewidth\":0,\"ticks\":\"\"},\"colorscale\":[[0.0,\"#0d0887\"],[0.1111111111111111,\"#46039f\"],[0.2222222222222222,\"#7201a8\"],[0.3333333333333333,\"#9c179e\"],[0.4444444444444444,\"#bd3786\"],[0.5555555555555556,\"#d8576b\"],[0.6666666666666666,\"#ed7953\"],[0.7777777777777778,\"#fb9f3a\"],[0.8888888888888888,\"#fdca26\"],[1.0,\"#f0f921\"]]}],\"heatmap\":[{\"type\":\"heatmap\",\"colorbar\":{\"outlinewidth\":0,\"ticks\":\"\"},\"colorscale\":[[0.0,\"#0d0887\"],[0.1111111111111111,\"#46039f\"],[0.2222222222222222,\"#7201a8\"],[0.3333333333333333,\"#9c179e\"],[0.4444444444444444,\"#bd3786\"],[0.5555555555555556,\"#d8576b\"],[0.6666666666666666,\"#ed7953\"],[0.7777777777777778,\"#fb9f3a\"],[0.8888888888888888,\"#fdca26\"],[1.0,\"#f0f921\"]]}],\"heatmapgl\":[{\"type\":\"heatmapgl\",\"colorbar\":{\"outlinewidth\":0,\"ticks\":\"\"},\"colorscale\":[[0.0,\"#0d0887\"],[0.1111111111111111,\"#46039f\"],[0.2222222222222222,\"#7201a8\"],[0.3333333333333333,\"#9c179e\"],[0.4444444444444444,\"#bd3786\"],[0.5555555555555556,\"#d8576b\"],[0.6666666666666666,\"#ed7953\"],[0.7777777777777778,\"#fb9f3a\"],[0.8888888888888888,\"#fdca26\"],[1.0,\"#f0f921\"]]}],\"contourcarpet\":[{\"type\":\"contourcarpet\",\"colorbar\":{\"outlinewidth\":0,\"ticks\":\"\"}}],\"contour\":[{\"type\":\"contour\",\"colorbar\":{\"outlinewidth\":0,\"ticks\":\"\"},\"colorscale\":[[0.0,\"#0d0887\"],[0.1111111111111111,\"#46039f\"],[0.2222222222222222,\"#7201a8\"],[0.3333333333333333,\"#9c179e\"],[0.4444444444444444,\"#bd3786\"],[0.5555555555555556,\"#d8576b\"],[0.6666666666666666,\"#ed7953\"],[0.7777777777777778,\"#fb9f3a\"],[0.8888888888888888,\"#fdca26\"],[1.0,\"#f0f921\"]]}],\"surface\":[{\"type\":\"surface\",\"colorbar\":{\"outlinewidth\":0,\"ticks\":\"\"},\"colorscale\":[[0.0,\"#0d0887\"],[0.1111111111111111,\"#46039f\"],[0.2222222222222222,\"#7201a8\"],[0.3333333333333333,\"#9c179e\"],[0.4444444444444444,\"#bd3786\"],[0.5555555555555556,\"#d8576b\"],[0.6666666666666666,\"#ed7953\"],[0.7777777777777778,\"#fb9f3a\"],[0.8888888888888888,\"#fdca26\"],[1.0,\"#f0f921\"]]}],\"mesh3d\":[{\"type\":\"mesh3d\",\"colorbar\":{\"outlinewidth\":0,\"ticks\":\"\"}}],\"scatter\":[{\"fillpattern\":{\"fillmode\":\"overlay\",\"size\":10,\"solidity\":0.2},\"type\":\"scatter\"}],\"parcoords\":[{\"type\":\"parcoords\",\"line\":{\"colorbar\":{\"outlinewidth\":0,\"ticks\":\"\"}}}],\"scatterpolargl\":[{\"type\":\"scatterpolargl\",\"marker\":{\"colorbar\":{\"outlinewidth\":0,\"ticks\":\"\"}}}],\"bar\":[{\"error_x\":{\"color\":\"#2a3f5f\"},\"error_y\":{\"color\":\"#2a3f5f\"},\"marker\":{\"line\":{\"color\":\"white\",\"width\":0.5},\"pattern\":{\"fillmode\":\"overlay\",\"size\":10,\"solidity\":0.2}},\"type\":\"bar\"}],\"scattergeo\":[{\"type\":\"scattergeo\",\"marker\":{\"colorbar\":{\"outlinewidth\":0,\"ticks\":\"\"}}}],\"scatterpolar\":[{\"type\":\"scatterpolar\",\"marker\":{\"colorbar\":{\"outlinewidth\":0,\"ticks\":\"\"}}}],\"histogram\":[{\"marker\":{\"pattern\":{\"fillmode\":\"overlay\",\"size\":10,\"solidity\":0.2}},\"type\":\"histogram\"}],\"scattergl\":[{\"type\":\"scattergl\",\"marker\":{\"colorbar\":{\"outlinewidth\":0,\"ticks\":\"\"}}}],\"scatter3d\":[{\"type\":\"scatter3d\",\"line\":{\"colorbar\":{\"outlinewidth\":0,\"ticks\":\"\"}},\"marker\":{\"colorbar\":{\"outlinewidth\":0,\"ticks\":\"\"}}}],\"scattermapbox\":[{\"type\":\"scattermapbox\",\"marker\":{\"colorbar\":{\"outlinewidth\":0,\"ticks\":\"\"}}}],\"scatterternary\":[{\"type\":\"scatterternary\",\"marker\":{\"colorbar\":{\"outlinewidth\":0,\"ticks\":\"\"}}}],\"scattercarpet\":[{\"type\":\"scattercarpet\",\"marker\":{\"colorbar\":{\"outlinewidth\":0,\"ticks\":\"\"}}}],\"carpet\":[{\"aaxis\":{\"endlinecolor\":\"#2a3f5f\",\"gridcolor\":\"#C8D4E3\",\"linecolor\":\"#C8D4E3\",\"minorgridcolor\":\"#C8D4E3\",\"startlinecolor\":\"#2a3f5f\"},\"baxis\":{\"endlinecolor\":\"#2a3f5f\",\"gridcolor\":\"#C8D4E3\",\"linecolor\":\"#C8D4E3\",\"minorgridcolor\":\"#C8D4E3\",\"startlinecolor\":\"#2a3f5f\"},\"type\":\"carpet\"}],\"table\":[{\"cells\":{\"fill\":{\"color\":\"#EBF0F8\"},\"line\":{\"color\":\"white\"}},\"header\":{\"fill\":{\"color\":\"#C8D4E3\"},\"line\":{\"color\":\"white\"}},\"type\":\"table\"}],\"barpolar\":[{\"marker\":{\"line\":{\"color\":\"white\",\"width\":0.5},\"pattern\":{\"fillmode\":\"overlay\",\"size\":10,\"solidity\":0.2}},\"type\":\"barpolar\"}],\"pie\":[{\"automargin\":true,\"type\":\"pie\"}]},\"layout\":{\"autotypenumbers\":\"strict\",\"colorway\":[\"#636efa\",\"#EF553B\",\"#00cc96\",\"#ab63fa\",\"#FFA15A\",\"#19d3f3\",\"#FF6692\",\"#B6E880\",\"#FF97FF\",\"#FECB52\"],\"font\":{\"color\":\"#2a3f5f\"},\"hovermode\":\"closest\",\"hoverlabel\":{\"align\":\"left\"},\"paper_bgcolor\":\"white\",\"plot_bgcolor\":\"white\",\"polar\":{\"bgcolor\":\"white\",\"angularaxis\":{\"gridcolor\":\"#EBF0F8\",\"linecolor\":\"#EBF0F8\",\"ticks\":\"\"},\"radialaxis\":{\"gridcolor\":\"#EBF0F8\",\"linecolor\":\"#EBF0F8\",\"ticks\":\"\"}},\"ternary\":{\"bgcolor\":\"white\",\"aaxis\":{\"gridcolor\":\"#DFE8F3\",\"linecolor\":\"#A2B1C6\",\"ticks\":\"\"},\"baxis\":{\"gridcolor\":\"#DFE8F3\",\"linecolor\":\"#A2B1C6\",\"ticks\":\"\"},\"caxis\":{\"gridcolor\":\"#DFE8F3\",\"linecolor\":\"#A2B1C6\",\"ticks\":\"\"}},\"coloraxis\":{\"colorbar\":{\"outlinewidth\":0,\"ticks\":\"\"}},\"colorscale\":{\"sequential\":[[0.0,\"#0d0887\"],[0.1111111111111111,\"#46039f\"],[0.2222222222222222,\"#7201a8\"],[0.3333333333333333,\"#9c179e\"],[0.4444444444444444,\"#bd3786\"],[0.5555555555555556,\"#d8576b\"],[0.6666666666666666,\"#ed7953\"],[0.7777777777777778,\"#fb9f3a\"],[0.8888888888888888,\"#fdca26\"],[1.0,\"#f0f921\"]],\"sequentialminus\":[[0.0,\"#0d0887\"],[0.1111111111111111,\"#46039f\"],[0.2222222222222222,\"#7201a8\"],[0.3333333333333333,\"#9c179e\"],[0.4444444444444444,\"#bd3786\"],[0.5555555555555556,\"#d8576b\"],[0.6666666666666666,\"#ed7953\"],[0.7777777777777778,\"#fb9f3a\"],[0.8888888888888888,\"#fdca26\"],[1.0,\"#f0f921\"]],\"diverging\":[[0,\"#8e0152\"],[0.1,\"#c51b7d\"],[0.2,\"#de77ae\"],[0.3,\"#f1b6da\"],[0.4,\"#fde0ef\"],[0.5,\"#f7f7f7\"],[0.6,\"#e6f5d0\"],[0.7,\"#b8e186\"],[0.8,\"#7fbc41\"],[0.9,\"#4d9221\"],[1,\"#276419\"]]},\"xaxis\":{\"gridcolor\":\"#EBF0F8\",\"linecolor\":\"#EBF0F8\",\"ticks\":\"\",\"title\":{\"standoff\":15},\"zerolinecolor\":\"#EBF0F8\",\"automargin\":true,\"zerolinewidth\":2},\"yaxis\":{\"gridcolor\":\"#EBF0F8\",\"linecolor\":\"#EBF0F8\",\"ticks\":\"\",\"title\":{\"standoff\":15},\"zerolinecolor\":\"#EBF0F8\",\"automargin\":true,\"zerolinewidth\":2},\"scene\":{\"xaxis\":{\"backgroundcolor\":\"white\",\"gridcolor\":\"#DFE8F3\",\"linecolor\":\"#EBF0F8\",\"showbackground\":true,\"ticks\":\"\",\"zerolinecolor\":\"#EBF0F8\",\"gridwidth\":2},\"yaxis\":{\"backgroundcolor\":\"white\",\"gridcolor\":\"#DFE8F3\",\"linecolor\":\"#EBF0F8\",\"showbackground\":true,\"ticks\":\"\",\"zerolinecolor\":\"#EBF0F8\",\"gridwidth\":2},\"zaxis\":{\"backgroundcolor\":\"white\",\"gridcolor\":\"#DFE8F3\",\"linecolor\":\"#EBF0F8\",\"showbackground\":true,\"ticks\":\"\",\"zerolinecolor\":\"#EBF0F8\",\"gridwidth\":2}},\"shapedefaults\":{\"line\":{\"color\":\"#2a3f5f\"}},\"annotationdefaults\":{\"arrowcolor\":\"#2a3f5f\",\"arrowhead\":0,\"arrowwidth\":1},\"geo\":{\"bgcolor\":\"white\",\"landcolor\":\"white\",\"subunitcolor\":\"#C8D4E3\",\"showland\":true,\"showlakes\":true,\"lakecolor\":\"white\"},\"title\":{\"x\":0.05},\"mapbox\":{\"style\":\"light\"}}},\"xaxis\":{\"anchor\":\"y\",\"domain\":[0.0,1.0],\"title\":{\"text\":\"Round\"}},\"yaxis\":{\"anchor\":\"x\",\"domain\":[0.0,1.0],\"title\":{\"text\":\"# Active Barcodes\"}},\"legend\":{\"tracegroupgap\":0},\"title\":{\"text\":\"Red Channel \\u2013 Activity per Round\"},\"barmode\":\"relative\",\"height\":500,\"width\":800},                        {\"responsive\": true}                    ).then(function(){\n",
       "                            \n",
       "var gd = document.getElementById('8e74e0d0-643d-4607-a315-668f1338f4e6');\n",
       "var x = new MutationObserver(function (mutations, observer) {{\n",
       "        var display = window.getComputedStyle(gd).display;\n",
       "        if (!display || display === 'none') {{\n",
       "            console.log([gd, 'removed!']);\n",
       "            Plotly.purge(gd);\n",
       "            observer.disconnect();\n",
       "        }}\n",
       "}});\n",
       "\n",
       "// Listen for the removal of the full notebook cells\n",
       "var notebookContainer = gd.closest('#notebook-container');\n",
       "if (notebookContainer) {{\n",
       "    x.observe(notebookContainer, {childList: true});\n",
       "}}\n",
       "\n",
       "// Listen for the clearing of the current output cell\n",
       "var outputEl = gd.closest('.output');\n",
       "if (outputEl) {{\n",
       "    x.observe(outputEl, {childList: true});\n",
       "}}\n",
       "\n",
       "                        })                };                });            </script>        </div>"
      ]
     },
     "metadata": {},
     "output_type": "display_data"
    }
   ],
   "source": [
    "# 11. QC Visualizations – Heatmap + Round Activity per Channel\n",
    "# ------------------------------------------------------------------------------\n",
    "def plot_barcode_heatmap(codebook, title, colorscale):\n",
    "    mat = np.array([list(map(int, list(x))) for x in codebook['barcode_binary']])\n",
    "    px.imshow(\n",
    "        mat,\n",
    "        x=[f\"R{i}\" for i in range(1, N_BITS + 1)],\n",
    "        y=codebook['locus'],\n",
    "        color_continuous_scale=colorscale,\n",
    "        title=title,\n",
    "        template=PLOT_THEME,\n",
    "        height=1000,\n",
    "        width = 1000\n",
    "    ).show()\n",
    "\n",
    "def plot_round_activity(codebook, title, color):\n",
    "    mat = np.array([list(map(int, list(x))) for x in codebook['barcode_binary']])\n",
    "    counts = mat.sum(axis=0)\n",
    "    px.bar(\n",
    "        x=list(range(1, N_BITS + 1)),\n",
    "        y=counts,\n",
    "        title=title,\n",
    "        labels={\"x\": \"Round\", \"y\": \"# Active Barcodes\"},\n",
    "        color_discrete_sequence=[color],\n",
    "        template=PLOT_THEME,\n",
    "        height=500,\n",
    "        width = 800\n",
    "    ).show()\n",
    "\n",
    "plot_barcode_heatmap(green_codebook, \"Green Channel – Barcode Activation Map\", \"Reds\")\n",
    "plot_round_activity(green_codebook, \"Green Channel – Activity per Round\", \"crimson\")\n",
    "plot_barcode_heatmap(red_codebook, \"Red Channel – Barcode Activation Map\", \"PuRd\")\n",
    "plot_round_activity(red_codebook, \"Red Channel – Activity per Round\", \"darkmagenta\")\n"
   ]
  },
  {
   "cell_type": "code",
   "execution_count": 142,
   "id": "d346aaeea05bb126",
   "metadata": {
    "ExecuteTime": {
     "end_time": "2025-05-13T19:18:11.657666Z",
     "start_time": "2025-05-13T19:18:11.574869Z"
    },
    "collapsed": false
   },
   "outputs": [
    {
     "name": "stdout",
     "output_type": "stream",
     "text": [
      "      locus                    barcode    barcode_binary\n",
      "0  P-rex-23  ATTCCGTACCAACCCGCGTCTTAGA  1111000000000000\n",
      "1    rex-46  ATGTGGCTGGCCGTTCCTTGTAGAC  1100110000000000\n",
      "2    rex-16  TTATGAAGCCTCCTGTGATCCTTTC  1100001100000000\n",
      "3   nDCC-22  GGTAACTGCGCATAGTTGGCTCTAT  1100000011000000\n",
      "4    rex-37  GCGAAGAACATCCCGGCATTTCATG  1100000000110000\n",
      "     locus                    barcode    barcode_binary\n",
      "0   rex-43  GCTTGATGCTTTACAAGATCGCGTT  1110100000000000\n",
      "1  nDCC-20  GGCTATGTCCGTAACACTCCTAGCA  1101010000000000\n",
      "2   rex-39  TAGCCGTTATCGATTAATCGTCCTG  1100001010000000\n",
      "3   rex-33  TTAACCGAACTGACGGCCATCAAGG  1100000101000000\n",
      "4  nDCC-19  CCTCCTCGATTCCCGTGGATTAGTA  1100000000101000\n"
     ]
    },
    {
     "data": {
      "application/vnd.plotly.v1+json": {
       "config": {
        "plotlyServerURL": "https://plot.ly"
       },
       "data": [
        {
         "link": {
          "color": [
           "lightgreen",
           "lightgreen",
           "lightgreen",
           "lightgreen",
           "lightgreen",
           "lightgreen",
           "lightgreen",
           "lightgreen",
           "lightgreen",
           "lightgreen",
           "lightgreen",
           "lightgreen",
           "lightgreen",
           "lightgreen",
           "lightgreen",
           "lightgreen",
           "lightgreen",
           "lightgreen",
           "lightgreen",
           "lightgreen",
           "lightgreen",
           "lightgreen",
           "lightgreen",
           "lightgreen",
           "lightgreen",
           "lightgreen",
           "lightgreen",
           "lightgreen",
           "lightgreen",
           "lightgreen",
           "lightgreen",
           "lightgreen",
           "lightgreen",
           "lightgreen",
           "lightgreen",
           "lightgreen",
           "lightgreen",
           "lightgreen",
           "lightgreen",
           "lightgreen",
           "lightgreen",
           "lightgreen",
           "lightgreen",
           "lightgreen",
           "lightgreen",
           "lightgreen",
           "lightgreen",
           "lightgreen",
           "lightgreen",
           "lightgreen",
           "lightgreen",
           "lightgreen",
           "lightgreen",
           "lightgreen",
           "lightgreen",
           "lightgreen",
           "lightgreen",
           "lightgreen",
           "lightgreen",
           "lightgreen",
           "lightgreen",
           "lightgreen",
           "lightgreen",
           "lightgreen",
           "lightgreen",
           "lightgreen",
           "lightgreen",
           "lightgreen",
           "lightgreen",
           "lightgreen",
           "lightgreen",
           "lightgreen",
           "lightgreen",
           "lightgreen",
           "lightgreen",
           "lightgreen",
           "lightgreen",
           "lightgreen",
           "lightgreen",
           "lightgreen",
           "lightgreen",
           "lightgreen",
           "lightgreen",
           "lightgreen",
           "lightgreen",
           "lightgreen",
           "lightgreen",
           "lightgreen",
           "lightgreen",
           "lightgreen",
           "lightgreen",
           "lightgreen",
           "lightgreen",
           "lightgreen",
           "lightgreen",
           "lightgreen",
           "lightgreen",
           "lightgreen",
           "lightgreen",
           "lightgreen",
           "lightgreen",
           "lightgreen",
           "lightgreen",
           "lightgreen",
           "lightgreen",
           "lightgreen",
           "lightgreen",
           "lightgreen",
           "lightgreen",
           "lightgreen",
           "lightgreen",
           "lightgreen",
           "lightgreen",
           "lightgreen",
           "lightgreen",
           "lightgreen",
           "lightgreen",
           "lightgreen",
           "lightgreen",
           "lightgreen",
           "lightgreen",
           "lightgreen",
           "lightgreen",
           "lightgreen",
           "lightgreen",
           "lightgreen",
           "lightgreen",
           "lightgreen",
           "lightgreen",
           "lightgreen",
           "lightgreen",
           "lightgreen",
           "lightgreen",
           "lightgreen",
           "lightgreen",
           "lightgreen",
           "lightgreen",
           "lightgreen",
           "lightgreen",
           "lightgreen",
           "lightgreen",
           "lightgreen",
           "lightgreen",
           "lightgreen",
           "darkseagreen",
           "darkseagreen",
           "darkseagreen",
           "darkseagreen",
           "darkseagreen",
           "darkseagreen",
           "darkseagreen",
           "darkseagreen",
           "darkseagreen",
           "darkseagreen",
           "darkseagreen",
           "darkseagreen",
           "darkseagreen",
           "darkseagreen",
           "darkseagreen",
           "darkseagreen",
           "darkseagreen",
           "darkseagreen",
           "darkseagreen",
           "darkseagreen",
           "darkseagreen",
           "darkseagreen",
           "darkseagreen",
           "darkseagreen",
           "darkseagreen",
           "darkseagreen",
           "darkseagreen",
           "darkseagreen",
           "darkseagreen",
           "darkseagreen",
           "darkseagreen",
           "darkseagreen",
           "darkseagreen",
           "darkseagreen",
           "darkseagreen",
           "darkseagreen",
           "darkseagreen",
           "darkseagreen",
           "darkseagreen",
           "darkseagreen",
           "darkseagreen",
           "darkseagreen",
           "darkseagreen",
           "darkseagreen",
           "darkseagreen",
           "darkseagreen",
           "darkseagreen",
           "darkseagreen",
           "darkseagreen",
           "darkseagreen",
           "darkseagreen",
           "darkseagreen",
           "darkseagreen",
           "darkseagreen",
           "darkseagreen",
           "darkseagreen",
           "darkseagreen",
           "darkseagreen",
           "darkseagreen",
           "darkseagreen",
           "darkseagreen",
           "darkseagreen",
           "darkseagreen",
           "darkseagreen",
           "darkseagreen",
           "darkseagreen",
           "darkseagreen",
           "darkseagreen",
           "darkseagreen",
           "darkseagreen",
           "darkseagreen",
           "darkseagreen",
           "darkseagreen",
           "darkseagreen",
           "darkseagreen",
           "darkseagreen",
           "darkseagreen",
           "darkseagreen",
           "darkseagreen",
           "darkseagreen",
           "darkseagreen",
           "darkseagreen",
           "darkseagreen",
           "darkseagreen",
           "darkseagreen",
           "darkseagreen",
           "darkseagreen",
           "darkseagreen",
           "darkseagreen",
           "darkseagreen",
           "darkseagreen",
           "darkseagreen",
           "darkseagreen",
           "darkseagreen",
           "darkseagreen",
           "darkseagreen",
           "darkseagreen",
           "darkseagreen",
           "darkseagreen",
           "darkseagreen",
           "darkseagreen",
           "darkseagreen",
           "darkseagreen",
           "darkseagreen",
           "darkseagreen",
           "darkseagreen",
           "darkseagreen",
           "darkseagreen",
           "darkseagreen",
           "darkseagreen",
           "darkseagreen",
           "darkseagreen",
           "darkseagreen",
           "darkseagreen",
           "darkseagreen",
           "darkseagreen",
           "darkseagreen",
           "darkseagreen",
           "darkseagreen",
           "darkseagreen",
           "darkseagreen",
           "darkseagreen",
           "darkseagreen",
           "darkseagreen",
           "darkseagreen",
           "darkseagreen",
           "darkseagreen",
           "darkseagreen",
           "darkseagreen",
           "darkseagreen",
           "darkseagreen",
           "darkseagreen",
           "darkseagreen",
           "darkseagreen",
           "darkseagreen",
           "darkseagreen",
           "darkseagreen",
           "darkseagreen",
           "darkseagreen",
           "darkseagreen",
           "darkseagreen",
           "darkseagreen",
           "darkseagreen",
           "darkseagreen"
          ],
          "source": [
           0,
           0,
           0,
           0,
           1,
           1,
           1,
           1,
           2,
           2,
           2,
           2,
           3,
           3,
           3,
           3,
           4,
           4,
           4,
           4,
           5,
           5,
           5,
           5,
           6,
           6,
           6,
           6,
           7,
           7,
           7,
           7,
           8,
           8,
           8,
           8,
           9,
           9,
           9,
           9,
           10,
           10,
           10,
           10,
           11,
           11,
           11,
           11,
           12,
           12,
           12,
           12,
           13,
           13,
           13,
           13,
           14,
           14,
           14,
           14,
           15,
           15,
           15,
           15,
           16,
           16,
           16,
           16,
           17,
           17,
           17,
           17,
           18,
           18,
           18,
           18,
           19,
           19,
           19,
           19,
           20,
           20,
           20,
           20,
           21,
           21,
           21,
           21,
           22,
           22,
           22,
           22,
           23,
           23,
           23,
           23,
           24,
           24,
           24,
           24,
           25,
           25,
           25,
           25,
           26,
           26,
           26,
           26,
           27,
           27,
           27,
           27,
           28,
           28,
           28,
           28,
           29,
           29,
           29,
           29,
           30,
           30,
           30,
           30,
           31,
           31,
           31,
           31,
           32,
           32,
           32,
           32,
           33,
           33,
           33,
           33,
           34,
           34,
           34,
           34,
           35,
           35,
           35,
           35,
           36,
           36,
           36,
           36,
           36,
           36,
           36,
           36,
           36,
           36,
           36,
           36,
           36,
           36,
           36,
           37,
           37,
           37,
           37,
           37,
           37,
           37,
           37,
           37,
           37,
           37,
           37,
           37,
           37,
           37,
           38,
           38,
           38,
           38,
           38,
           38,
           38,
           38,
           38,
           38,
           38,
           38,
           38,
           38,
           38,
           39,
           39,
           39,
           39,
           39,
           39,
           39,
           39,
           39,
           39,
           39,
           39,
           39,
           39,
           39,
           40,
           40,
           40,
           40,
           40,
           40,
           40,
           40,
           40,
           40,
           40,
           40,
           40,
           41,
           41,
           41,
           41,
           41,
           41,
           41,
           41,
           41,
           41,
           41,
           41,
           41,
           42,
           42,
           42,
           42,
           42,
           42,
           42,
           43,
           43,
           43,
           43,
           43,
           43,
           43,
           44,
           44,
           44,
           44,
           44,
           44,
           45,
           45,
           45,
           45,
           45,
           45,
           46,
           46,
           46,
           46,
           46,
           46,
           47,
           47,
           47,
           47,
           47,
           47,
           48,
           48,
           48,
           48,
           48,
           49,
           49,
           49,
           49,
           49,
           50,
           50,
           50,
           50,
           50,
           51,
           51,
           51,
           51,
           51
          ],
          "target": [
           36,
           39,
           41,
           42,
           39,
           40,
           44,
           45,
           37,
           38,
           44,
           47,
           36,
           37,
           40,
           41,
           36,
           37,
           38,
           39,
           40,
           41,
           44,
           47,
           38,
           39,
           42,
           43,
           37,
           39,
           41,
           43,
           39,
           41,
           49,
           51,
           37,
           39,
           40,
           42,
           40,
           41,
           45,
           46,
           36,
           38,
           49,
           51,
           37,
           38,
           49,
           50,
           39,
           41,
           44,
           46,
           36,
           37,
           48,
           49,
           36,
           37,
           46,
           47,
           39,
           40,
           46,
           47,
           39,
           41,
           48,
           50,
           39,
           41,
           45,
           47,
           36,
           38,
           48,
           50,
           36,
           37,
           50,
           51,
           36,
           37,
           44,
           45,
           36,
           39,
           40,
           43,
           39,
           40,
           48,
           49,
           36,
           38,
           45,
           47,
           40,
           41,
           42,
           43,
           36,
           38,
           41,
           43,
           37,
           38,
           48,
           51,
           37,
           38,
           45,
           46,
           37,
           38,
           40,
           43,
           39,
           40,
           50,
           51,
           38,
           39,
           40,
           41,
           36,
           38,
           40,
           42,
           36,
           37,
           42,
           43,
           37,
           38,
           41,
           42,
           36,
           38,
           44,
           46,
           53,
           54,
           56,
           60,
           63,
           67,
           69,
           71,
           73,
           76,
           77,
           79,
           83,
           85,
           87,
           53,
           55,
           56,
           57,
           59,
           60,
           67,
           68,
           69,
           70,
           72,
           74,
           78,
           79,
           83,
           54,
           55,
           56,
           57,
           59,
           61,
           62,
           63,
           68,
           70,
           76,
           77,
           78,
           85,
           87,
           56,
           58,
           61,
           62,
           64,
           65,
           66,
           71,
           72,
           73,
           74,
           75,
           80,
           81,
           84,
           52,
           57,
           58,
           62,
           66,
           71,
           74,
           75,
           77,
           82,
           83,
           84,
           86,
           52,
           55,
           62,
           64,
           65,
           72,
           73,
           80,
           81,
           82,
           83,
           86,
           87,
           55,
           61,
           69,
           73,
           74,
           77,
           86,
           57,
           61,
           69,
           71,
           72,
           86,
           87,
           59,
           63,
           66,
           67,
           80,
           82,
           52,
           54,
           65,
           66,
           67,
           70,
           52,
           58,
           63,
           70,
           79,
           80,
           54,
           58,
           59,
           65,
           79,
           82,
           60,
           75,
           76,
           78,
           81,
           60,
           64,
           68,
           75,
           85,
           53,
           68,
           76,
           81,
           84,
           53,
           64,
           78,
           84,
           85
          ],
          "value": [
           1,
           1,
           1,
           1,
           1,
           1,
           1,
           1,
           1,
           1,
           1,
           1,
           1,
           1,
           1,
           1,
           1,
           1,
           1,
           1,
           1,
           1,
           1,
           1,
           1,
           1,
           1,
           1,
           1,
           1,
           1,
           1,
           1,
           1,
           1,
           1,
           1,
           1,
           1,
           1,
           1,
           1,
           1,
           1,
           1,
           1,
           1,
           1,
           1,
           1,
           1,
           1,
           1,
           1,
           1,
           1,
           1,
           1,
           1,
           1,
           1,
           1,
           1,
           1,
           1,
           1,
           1,
           1,
           1,
           1,
           1,
           1,
           1,
           1,
           1,
           1,
           1,
           1,
           1,
           1,
           1,
           1,
           1,
           1,
           1,
           1,
           1,
           1,
           1,
           1,
           1,
           1,
           1,
           1,
           1,
           1,
           1,
           1,
           1,
           1,
           1,
           1,
           1,
           1,
           1,
           1,
           1,
           1,
           1,
           1,
           1,
           1,
           1,
           1,
           1,
           1,
           1,
           1,
           1,
           1,
           1,
           1,
           1,
           1,
           1,
           1,
           1,
           1,
           1,
           1,
           1,
           1,
           1,
           1,
           1,
           1,
           1,
           1,
           1,
           1,
           1,
           1,
           1,
           1,
           1,
           1,
           1,
           1,
           1,
           1,
           1,
           1,
           1,
           1,
           1,
           1,
           1,
           1,
           1,
           1,
           1,
           1,
           1,
           1,
           1,
           1,
           1,
           1,
           1,
           1,
           1,
           1,
           1,
           1,
           1,
           1,
           1,
           1,
           1,
           1,
           1,
           1,
           1,
           1,
           1,
           1,
           1,
           1,
           1,
           1,
           1,
           1,
           1,
           1,
           1,
           1,
           1,
           1,
           1,
           1,
           1,
           1,
           1,
           1,
           1,
           1,
           1,
           1,
           1,
           1,
           1,
           1,
           1,
           1,
           1,
           1,
           1,
           1,
           1,
           1,
           1,
           1,
           1,
           1,
           1,
           1,
           1,
           1,
           1,
           1,
           1,
           1,
           1,
           1,
           1,
           1,
           1,
           1,
           1,
           1,
           1,
           1,
           1,
           1,
           1,
           1,
           1,
           1,
           1,
           1,
           1,
           1,
           1,
           1,
           1,
           1,
           1,
           1,
           1,
           1,
           1,
           1,
           1,
           1,
           1,
           1,
           1,
           1,
           1,
           1,
           1,
           1,
           1,
           1,
           1,
           1,
           1,
           1,
           1,
           1,
           1,
           1,
           1,
           1,
           1,
           1,
           1,
           1
          ]
         },
         "node": {
          "label": [
           "AACGGGAGTCCGAGGTCGTACCTAG",
           "AATTTCCCTACGAACCTTGCGTTAC",
           "AGCTTGCTGTATGGGTCATGTTCCT",
           "ATGTGGCTGGCCGTTCCTTGTAGAC",
           "ATTCCGTACCAACCCGCGTCTTAGA",
           "CACCTAATCTCGACGCTAGGACCAC",
           "CCTGGGTAGGGGTAGTAAAATCGTT",
           "CGATCTCGGGCCTGGGTTTTGAGTA",
           "CGTGTTGACGGTTTGATCGCCTTCA",
           "CTCCTAACGTGTCTGTTTCCCCTAC",
           "GAATCGTTGTCTAAGCCTGGGGCTC",
           "GACATGATTGCCGTTCCGCAAGTTT",
           "GACGATGACAACGCGCAGTTCTTAC",
           "GAGAAAATTCGGCAGACCCGCATAG",
           "GCCCGGGAAGTGTGAGGATATACCC",
           "GCGAAGAACATCCCGGCATTTCATG",
           "GCTCTTAAAACTGGTATCACCTGAC",
           "GCTGAGGAAGCCCAATGTTCAGTAC",
           "GGACAGGGGAACCTCGGATATTCGC",
           "GGGACAAGCCTGGATCGTCACTTTC",
           "GGGAGGACTGCGGTTCAGCTTACAA",
           "GGTAACTGCGCATAGTTGGCTCTAT",
           "GGTCCCATCCGAGCAGATTTGACTC",
           "GTATTGTCCCCGAGGCTACCTAGCC",
           "GTCTAATATGGCGTAGCTCAACGCG",
           "GTGTGTCCTACCTACGCGAGGAATT",
           "GTTCGCCTTTGATAGTTGGTACCGA",
           "GTTTCTCAGGCAGCTTTCGACGATG",
           "TAGCGATTATGTTCCCGTTTTAAGC",
           "TGCAGCCTGAGAGGGTGTGCAATAT",
           "TGCGTGCTGGGAAACAATCTACGGT",
           "TGGTATCGATTTGTCGAACCGAGCC",
           "TTACTGAGTAACGTTCTACCCCGAA",
           "TTATGAAGCCTCCTGTGATCCTTTC",
           "TTCAGTGTACACCCAGACCGTGGAT",
           "TTTATGCGTGCGCTGTGCCACTAGA",
           "R1",
           "R2",
           "R3",
           "R4",
           "R5",
           "R6",
           "R7",
           "R8",
           "R9",
           "R10",
           "R11",
           "R12",
           "R13",
           "R14",
           "R15",
           "R16",
           "P-rex-11",
           "P-rex-16",
           "P-rex-21",
           "P-rex-22",
           "P-rex-23",
           "P-rex-25",
           "P-rex-26",
           "P-rex-3",
           "nDCC-1",
           "nDCC-10",
           "nDCC-11",
           "nDCC-16",
           "nDCC-17",
           "nDCC-18",
           "nDCC-2",
           "nDCC-22",
           "nDCC-7",
           "rex-16",
           "rex-19",
           "rex-2/nDCC-9",
           "rex-20",
           "rex-26",
           "rex-28",
           "rex-29",
           "rex-31",
           "rex-32",
           "rex-34",
           "rex-37",
           "rex-4",
           "rex-41",
           "rex-45",
           "rex-46",
           "rex-47",
           "rex-5",
           "rex-7",
           "rex-8"
          ],
          "pad": 15,
          "thickness": 20
         },
         "type": "sankey"
        }
       ],
       "layout": {
        "height": 800,
        "template": {
         "data": {
          "bar": [
           {
            "error_x": {
             "color": "#2a3f5f"
            },
            "error_y": {
             "color": "#2a3f5f"
            },
            "marker": {
             "line": {
              "color": "white",
              "width": 0.5
             },
             "pattern": {
              "fillmode": "overlay",
              "size": 10,
              "solidity": 0.2
             }
            },
            "type": "bar"
           }
          ],
          "barpolar": [
           {
            "marker": {
             "line": {
              "color": "white",
              "width": 0.5
             },
             "pattern": {
              "fillmode": "overlay",
              "size": 10,
              "solidity": 0.2
             }
            },
            "type": "barpolar"
           }
          ],
          "carpet": [
           {
            "aaxis": {
             "endlinecolor": "#2a3f5f",
             "gridcolor": "#C8D4E3",
             "linecolor": "#C8D4E3",
             "minorgridcolor": "#C8D4E3",
             "startlinecolor": "#2a3f5f"
            },
            "baxis": {
             "endlinecolor": "#2a3f5f",
             "gridcolor": "#C8D4E3",
             "linecolor": "#C8D4E3",
             "minorgridcolor": "#C8D4E3",
             "startlinecolor": "#2a3f5f"
            },
            "type": "carpet"
           }
          ],
          "choropleth": [
           {
            "colorbar": {
             "outlinewidth": 0,
             "ticks": ""
            },
            "type": "choropleth"
           }
          ],
          "contour": [
           {
            "colorbar": {
             "outlinewidth": 0,
             "ticks": ""
            },
            "colorscale": [
             [
              0.0,
              "#0d0887"
             ],
             [
              0.1111111111111111,
              "#46039f"
             ],
             [
              0.2222222222222222,
              "#7201a8"
             ],
             [
              0.3333333333333333,
              "#9c179e"
             ],
             [
              0.4444444444444444,
              "#bd3786"
             ],
             [
              0.5555555555555556,
              "#d8576b"
             ],
             [
              0.6666666666666666,
              "#ed7953"
             ],
             [
              0.7777777777777778,
              "#fb9f3a"
             ],
             [
              0.8888888888888888,
              "#fdca26"
             ],
             [
              1.0,
              "#f0f921"
             ]
            ],
            "type": "contour"
           }
          ],
          "contourcarpet": [
           {
            "colorbar": {
             "outlinewidth": 0,
             "ticks": ""
            },
            "type": "contourcarpet"
           }
          ],
          "heatmap": [
           {
            "colorbar": {
             "outlinewidth": 0,
             "ticks": ""
            },
            "colorscale": [
             [
              0.0,
              "#0d0887"
             ],
             [
              0.1111111111111111,
              "#46039f"
             ],
             [
              0.2222222222222222,
              "#7201a8"
             ],
             [
              0.3333333333333333,
              "#9c179e"
             ],
             [
              0.4444444444444444,
              "#bd3786"
             ],
             [
              0.5555555555555556,
              "#d8576b"
             ],
             [
              0.6666666666666666,
              "#ed7953"
             ],
             [
              0.7777777777777778,
              "#fb9f3a"
             ],
             [
              0.8888888888888888,
              "#fdca26"
             ],
             [
              1.0,
              "#f0f921"
             ]
            ],
            "type": "heatmap"
           }
          ],
          "heatmapgl": [
           {
            "colorbar": {
             "outlinewidth": 0,
             "ticks": ""
            },
            "colorscale": [
             [
              0.0,
              "#0d0887"
             ],
             [
              0.1111111111111111,
              "#46039f"
             ],
             [
              0.2222222222222222,
              "#7201a8"
             ],
             [
              0.3333333333333333,
              "#9c179e"
             ],
             [
              0.4444444444444444,
              "#bd3786"
             ],
             [
              0.5555555555555556,
              "#d8576b"
             ],
             [
              0.6666666666666666,
              "#ed7953"
             ],
             [
              0.7777777777777778,
              "#fb9f3a"
             ],
             [
              0.8888888888888888,
              "#fdca26"
             ],
             [
              1.0,
              "#f0f921"
             ]
            ],
            "type": "heatmapgl"
           }
          ],
          "histogram": [
           {
            "marker": {
             "pattern": {
              "fillmode": "overlay",
              "size": 10,
              "solidity": 0.2
             }
            },
            "type": "histogram"
           }
          ],
          "histogram2d": [
           {
            "colorbar": {
             "outlinewidth": 0,
             "ticks": ""
            },
            "colorscale": [
             [
              0.0,
              "#0d0887"
             ],
             [
              0.1111111111111111,
              "#46039f"
             ],
             [
              0.2222222222222222,
              "#7201a8"
             ],
             [
              0.3333333333333333,
              "#9c179e"
             ],
             [
              0.4444444444444444,
              "#bd3786"
             ],
             [
              0.5555555555555556,
              "#d8576b"
             ],
             [
              0.6666666666666666,
              "#ed7953"
             ],
             [
              0.7777777777777778,
              "#fb9f3a"
             ],
             [
              0.8888888888888888,
              "#fdca26"
             ],
             [
              1.0,
              "#f0f921"
             ]
            ],
            "type": "histogram2d"
           }
          ],
          "histogram2dcontour": [
           {
            "colorbar": {
             "outlinewidth": 0,
             "ticks": ""
            },
            "colorscale": [
             [
              0.0,
              "#0d0887"
             ],
             [
              0.1111111111111111,
              "#46039f"
             ],
             [
              0.2222222222222222,
              "#7201a8"
             ],
             [
              0.3333333333333333,
              "#9c179e"
             ],
             [
              0.4444444444444444,
              "#bd3786"
             ],
             [
              0.5555555555555556,
              "#d8576b"
             ],
             [
              0.6666666666666666,
              "#ed7953"
             ],
             [
              0.7777777777777778,
              "#fb9f3a"
             ],
             [
              0.8888888888888888,
              "#fdca26"
             ],
             [
              1.0,
              "#f0f921"
             ]
            ],
            "type": "histogram2dcontour"
           }
          ],
          "mesh3d": [
           {
            "colorbar": {
             "outlinewidth": 0,
             "ticks": ""
            },
            "type": "mesh3d"
           }
          ],
          "parcoords": [
           {
            "line": {
             "colorbar": {
              "outlinewidth": 0,
              "ticks": ""
             }
            },
            "type": "parcoords"
           }
          ],
          "pie": [
           {
            "automargin": true,
            "type": "pie"
           }
          ],
          "scatter": [
           {
            "fillpattern": {
             "fillmode": "overlay",
             "size": 10,
             "solidity": 0.2
            },
            "type": "scatter"
           }
          ],
          "scatter3d": [
           {
            "line": {
             "colorbar": {
              "outlinewidth": 0,
              "ticks": ""
             }
            },
            "marker": {
             "colorbar": {
              "outlinewidth": 0,
              "ticks": ""
             }
            },
            "type": "scatter3d"
           }
          ],
          "scattercarpet": [
           {
            "marker": {
             "colorbar": {
              "outlinewidth": 0,
              "ticks": ""
             }
            },
            "type": "scattercarpet"
           }
          ],
          "scattergeo": [
           {
            "marker": {
             "colorbar": {
              "outlinewidth": 0,
              "ticks": ""
             }
            },
            "type": "scattergeo"
           }
          ],
          "scattergl": [
           {
            "marker": {
             "colorbar": {
              "outlinewidth": 0,
              "ticks": ""
             }
            },
            "type": "scattergl"
           }
          ],
          "scattermapbox": [
           {
            "marker": {
             "colorbar": {
              "outlinewidth": 0,
              "ticks": ""
             }
            },
            "type": "scattermapbox"
           }
          ],
          "scatterpolar": [
           {
            "marker": {
             "colorbar": {
              "outlinewidth": 0,
              "ticks": ""
             }
            },
            "type": "scatterpolar"
           }
          ],
          "scatterpolargl": [
           {
            "marker": {
             "colorbar": {
              "outlinewidth": 0,
              "ticks": ""
             }
            },
            "type": "scatterpolargl"
           }
          ],
          "scatterternary": [
           {
            "marker": {
             "colorbar": {
              "outlinewidth": 0,
              "ticks": ""
             }
            },
            "type": "scatterternary"
           }
          ],
          "surface": [
           {
            "colorbar": {
             "outlinewidth": 0,
             "ticks": ""
            },
            "colorscale": [
             [
              0.0,
              "#0d0887"
             ],
             [
              0.1111111111111111,
              "#46039f"
             ],
             [
              0.2222222222222222,
              "#7201a8"
             ],
             [
              0.3333333333333333,
              "#9c179e"
             ],
             [
              0.4444444444444444,
              "#bd3786"
             ],
             [
              0.5555555555555556,
              "#d8576b"
             ],
             [
              0.6666666666666666,
              "#ed7953"
             ],
             [
              0.7777777777777778,
              "#fb9f3a"
             ],
             [
              0.8888888888888888,
              "#fdca26"
             ],
             [
              1.0,
              "#f0f921"
             ]
            ],
            "type": "surface"
           }
          ],
          "table": [
           {
            "cells": {
             "fill": {
              "color": "#EBF0F8"
             },
             "line": {
              "color": "white"
             }
            },
            "header": {
             "fill": {
              "color": "#C8D4E3"
             },
             "line": {
              "color": "white"
             }
            },
            "type": "table"
           }
          ]
         },
         "layout": {
          "annotationdefaults": {
           "arrowcolor": "#2a3f5f",
           "arrowhead": 0,
           "arrowwidth": 1
          },
          "autotypenumbers": "strict",
          "coloraxis": {
           "colorbar": {
            "outlinewidth": 0,
            "ticks": ""
           }
          },
          "colorscale": {
           "diverging": [
            [
             0,
             "#8e0152"
            ],
            [
             0.1,
             "#c51b7d"
            ],
            [
             0.2,
             "#de77ae"
            ],
            [
             0.3,
             "#f1b6da"
            ],
            [
             0.4,
             "#fde0ef"
            ],
            [
             0.5,
             "#f7f7f7"
            ],
            [
             0.6,
             "#e6f5d0"
            ],
            [
             0.7,
             "#b8e186"
            ],
            [
             0.8,
             "#7fbc41"
            ],
            [
             0.9,
             "#4d9221"
            ],
            [
             1,
             "#276419"
            ]
           ],
           "sequential": [
            [
             0.0,
             "#0d0887"
            ],
            [
             0.1111111111111111,
             "#46039f"
            ],
            [
             0.2222222222222222,
             "#7201a8"
            ],
            [
             0.3333333333333333,
             "#9c179e"
            ],
            [
             0.4444444444444444,
             "#bd3786"
            ],
            [
             0.5555555555555556,
             "#d8576b"
            ],
            [
             0.6666666666666666,
             "#ed7953"
            ],
            [
             0.7777777777777778,
             "#fb9f3a"
            ],
            [
             0.8888888888888888,
             "#fdca26"
            ],
            [
             1.0,
             "#f0f921"
            ]
           ],
           "sequentialminus": [
            [
             0.0,
             "#0d0887"
            ],
            [
             0.1111111111111111,
             "#46039f"
            ],
            [
             0.2222222222222222,
             "#7201a8"
            ],
            [
             0.3333333333333333,
             "#9c179e"
            ],
            [
             0.4444444444444444,
             "#bd3786"
            ],
            [
             0.5555555555555556,
             "#d8576b"
            ],
            [
             0.6666666666666666,
             "#ed7953"
            ],
            [
             0.7777777777777778,
             "#fb9f3a"
            ],
            [
             0.8888888888888888,
             "#fdca26"
            ],
            [
             1.0,
             "#f0f921"
            ]
           ]
          },
          "colorway": [
           "#636efa",
           "#EF553B",
           "#00cc96",
           "#ab63fa",
           "#FFA15A",
           "#19d3f3",
           "#FF6692",
           "#B6E880",
           "#FF97FF",
           "#FECB52"
          ],
          "font": {
           "color": "#2a3f5f"
          },
          "geo": {
           "bgcolor": "white",
           "lakecolor": "white",
           "landcolor": "white",
           "showlakes": true,
           "showland": true,
           "subunitcolor": "#C8D4E3"
          },
          "hoverlabel": {
           "align": "left"
          },
          "hovermode": "closest",
          "mapbox": {
           "style": "light"
          },
          "paper_bgcolor": "white",
          "plot_bgcolor": "white",
          "polar": {
           "angularaxis": {
            "gridcolor": "#EBF0F8",
            "linecolor": "#EBF0F8",
            "ticks": ""
           },
           "bgcolor": "white",
           "radialaxis": {
            "gridcolor": "#EBF0F8",
            "linecolor": "#EBF0F8",
            "ticks": ""
           }
          },
          "scene": {
           "xaxis": {
            "backgroundcolor": "white",
            "gridcolor": "#DFE8F3",
            "gridwidth": 2,
            "linecolor": "#EBF0F8",
            "showbackground": true,
            "ticks": "",
            "zerolinecolor": "#EBF0F8"
           },
           "yaxis": {
            "backgroundcolor": "white",
            "gridcolor": "#DFE8F3",
            "gridwidth": 2,
            "linecolor": "#EBF0F8",
            "showbackground": true,
            "ticks": "",
            "zerolinecolor": "#EBF0F8"
           },
           "zaxis": {
            "backgroundcolor": "white",
            "gridcolor": "#DFE8F3",
            "gridwidth": 2,
            "linecolor": "#EBF0F8",
            "showbackground": true,
            "ticks": "",
            "zerolinecolor": "#EBF0F8"
           }
          },
          "shapedefaults": {
           "line": {
            "color": "#2a3f5f"
           }
          },
          "ternary": {
           "aaxis": {
            "gridcolor": "#DFE8F3",
            "linecolor": "#A2B1C6",
            "ticks": ""
           },
           "baxis": {
            "gridcolor": "#DFE8F3",
            "linecolor": "#A2B1C6",
            "ticks": ""
           },
           "bgcolor": "white",
           "caxis": {
            "gridcolor": "#DFE8F3",
            "linecolor": "#A2B1C6",
            "ticks": ""
           }
          },
          "title": {
           "x": 0.05
          },
          "xaxis": {
           "automargin": true,
           "gridcolor": "#EBF0F8",
           "linecolor": "#EBF0F8",
           "ticks": "",
           "title": {
            "standoff": 15
           },
           "zerolinecolor": "#EBF0F8",
           "zerolinewidth": 2
          },
          "yaxis": {
           "automargin": true,
           "gridcolor": "#EBF0F8",
           "linecolor": "#EBF0F8",
           "ticks": "",
           "title": {
            "standoff": 15
           },
           "zerolinecolor": "#EBF0F8",
           "zerolinewidth": 2
          }
         }
        },
        "title": {
         "text": "Green Channel: Barcode → Round → Locus"
        },
        "width": 800
       }
      },
      "text/html": [
       "<div>                            <div id=\"7eaaa756-1d9d-400c-a81a-222dde7059cf\" class=\"plotly-graph-div\" style=\"height:800px; width:800px;\"></div>            <script type=\"text/javascript\">                require([\"plotly\"], function(Plotly) {                    window.PLOTLYENV=window.PLOTLYENV || {};                                    if (document.getElementById(\"7eaaa756-1d9d-400c-a81a-222dde7059cf\")) {                    Plotly.newPlot(                        \"7eaaa756-1d9d-400c-a81a-222dde7059cf\",                        [{\"link\":{\"color\":[\"lightgreen\",\"lightgreen\",\"lightgreen\",\"lightgreen\",\"lightgreen\",\"lightgreen\",\"lightgreen\",\"lightgreen\",\"lightgreen\",\"lightgreen\",\"lightgreen\",\"lightgreen\",\"lightgreen\",\"lightgreen\",\"lightgreen\",\"lightgreen\",\"lightgreen\",\"lightgreen\",\"lightgreen\",\"lightgreen\",\"lightgreen\",\"lightgreen\",\"lightgreen\",\"lightgreen\",\"lightgreen\",\"lightgreen\",\"lightgreen\",\"lightgreen\",\"lightgreen\",\"lightgreen\",\"lightgreen\",\"lightgreen\",\"lightgreen\",\"lightgreen\",\"lightgreen\",\"lightgreen\",\"lightgreen\",\"lightgreen\",\"lightgreen\",\"lightgreen\",\"lightgreen\",\"lightgreen\",\"lightgreen\",\"lightgreen\",\"lightgreen\",\"lightgreen\",\"lightgreen\",\"lightgreen\",\"lightgreen\",\"lightgreen\",\"lightgreen\",\"lightgreen\",\"lightgreen\",\"lightgreen\",\"lightgreen\",\"lightgreen\",\"lightgreen\",\"lightgreen\",\"lightgreen\",\"lightgreen\",\"lightgreen\",\"lightgreen\",\"lightgreen\",\"lightgreen\",\"lightgreen\",\"lightgreen\",\"lightgreen\",\"lightgreen\",\"lightgreen\",\"lightgreen\",\"lightgreen\",\"lightgreen\",\"lightgreen\",\"lightgreen\",\"lightgreen\",\"lightgreen\",\"lightgreen\",\"lightgreen\",\"lightgreen\",\"lightgreen\",\"lightgreen\",\"lightgreen\",\"lightgreen\",\"lightgreen\",\"lightgreen\",\"lightgreen\",\"lightgreen\",\"lightgreen\",\"lightgreen\",\"lightgreen\",\"lightgreen\",\"lightgreen\",\"lightgreen\",\"lightgreen\",\"lightgreen\",\"lightgreen\",\"lightgreen\",\"lightgreen\",\"lightgreen\",\"lightgreen\",\"lightgreen\",\"lightgreen\",\"lightgreen\",\"lightgreen\",\"lightgreen\",\"lightgreen\",\"lightgreen\",\"lightgreen\",\"lightgreen\",\"lightgreen\",\"lightgreen\",\"lightgreen\",\"lightgreen\",\"lightgreen\",\"lightgreen\",\"lightgreen\",\"lightgreen\",\"lightgreen\",\"lightgreen\",\"lightgreen\",\"lightgreen\",\"lightgreen\",\"lightgreen\",\"lightgreen\",\"lightgreen\",\"lightgreen\",\"lightgreen\",\"lightgreen\",\"lightgreen\",\"lightgreen\",\"lightgreen\",\"lightgreen\",\"lightgreen\",\"lightgreen\",\"lightgreen\",\"lightgreen\",\"lightgreen\",\"lightgreen\",\"lightgreen\",\"lightgreen\",\"lightgreen\",\"lightgreen\",\"lightgreen\",\"lightgreen\",\"darkseagreen\",\"darkseagreen\",\"darkseagreen\",\"darkseagreen\",\"darkseagreen\",\"darkseagreen\",\"darkseagreen\",\"darkseagreen\",\"darkseagreen\",\"darkseagreen\",\"darkseagreen\",\"darkseagreen\",\"darkseagreen\",\"darkseagreen\",\"darkseagreen\",\"darkseagreen\",\"darkseagreen\",\"darkseagreen\",\"darkseagreen\",\"darkseagreen\",\"darkseagreen\",\"darkseagreen\",\"darkseagreen\",\"darkseagreen\",\"darkseagreen\",\"darkseagreen\",\"darkseagreen\",\"darkseagreen\",\"darkseagreen\",\"darkseagreen\",\"darkseagreen\",\"darkseagreen\",\"darkseagreen\",\"darkseagreen\",\"darkseagreen\",\"darkseagreen\",\"darkseagreen\",\"darkseagreen\",\"darkseagreen\",\"darkseagreen\",\"darkseagreen\",\"darkseagreen\",\"darkseagreen\",\"darkseagreen\",\"darkseagreen\",\"darkseagreen\",\"darkseagreen\",\"darkseagreen\",\"darkseagreen\",\"darkseagreen\",\"darkseagreen\",\"darkseagreen\",\"darkseagreen\",\"darkseagreen\",\"darkseagreen\",\"darkseagreen\",\"darkseagreen\",\"darkseagreen\",\"darkseagreen\",\"darkseagreen\",\"darkseagreen\",\"darkseagreen\",\"darkseagreen\",\"darkseagreen\",\"darkseagreen\",\"darkseagreen\",\"darkseagreen\",\"darkseagreen\",\"darkseagreen\",\"darkseagreen\",\"darkseagreen\",\"darkseagreen\",\"darkseagreen\",\"darkseagreen\",\"darkseagreen\",\"darkseagreen\",\"darkseagreen\",\"darkseagreen\",\"darkseagreen\",\"darkseagreen\",\"darkseagreen\",\"darkseagreen\",\"darkseagreen\",\"darkseagreen\",\"darkseagreen\",\"darkseagreen\",\"darkseagreen\",\"darkseagreen\",\"darkseagreen\",\"darkseagreen\",\"darkseagreen\",\"darkseagreen\",\"darkseagreen\",\"darkseagreen\",\"darkseagreen\",\"darkseagreen\",\"darkseagreen\",\"darkseagreen\",\"darkseagreen\",\"darkseagreen\",\"darkseagreen\",\"darkseagreen\",\"darkseagreen\",\"darkseagreen\",\"darkseagreen\",\"darkseagreen\",\"darkseagreen\",\"darkseagreen\",\"darkseagreen\",\"darkseagreen\",\"darkseagreen\",\"darkseagreen\",\"darkseagreen\",\"darkseagreen\",\"darkseagreen\",\"darkseagreen\",\"darkseagreen\",\"darkseagreen\",\"darkseagreen\",\"darkseagreen\",\"darkseagreen\",\"darkseagreen\",\"darkseagreen\",\"darkseagreen\",\"darkseagreen\",\"darkseagreen\",\"darkseagreen\",\"darkseagreen\",\"darkseagreen\",\"darkseagreen\",\"darkseagreen\",\"darkseagreen\",\"darkseagreen\",\"darkseagreen\",\"darkseagreen\",\"darkseagreen\",\"darkseagreen\",\"darkseagreen\",\"darkseagreen\",\"darkseagreen\",\"darkseagreen\",\"darkseagreen\",\"darkseagreen\",\"darkseagreen\"],\"source\":[0,0,0,0,1,1,1,1,2,2,2,2,3,3,3,3,4,4,4,4,5,5,5,5,6,6,6,6,7,7,7,7,8,8,8,8,9,9,9,9,10,10,10,10,11,11,11,11,12,12,12,12,13,13,13,13,14,14,14,14,15,15,15,15,16,16,16,16,17,17,17,17,18,18,18,18,19,19,19,19,20,20,20,20,21,21,21,21,22,22,22,22,23,23,23,23,24,24,24,24,25,25,25,25,26,26,26,26,27,27,27,27,28,28,28,28,29,29,29,29,30,30,30,30,31,31,31,31,32,32,32,32,33,33,33,33,34,34,34,34,35,35,35,35,36,36,36,36,36,36,36,36,36,36,36,36,36,36,36,37,37,37,37,37,37,37,37,37,37,37,37,37,37,37,38,38,38,38,38,38,38,38,38,38,38,38,38,38,38,39,39,39,39,39,39,39,39,39,39,39,39,39,39,39,40,40,40,40,40,40,40,40,40,40,40,40,40,41,41,41,41,41,41,41,41,41,41,41,41,41,42,42,42,42,42,42,42,43,43,43,43,43,43,43,44,44,44,44,44,44,45,45,45,45,45,45,46,46,46,46,46,46,47,47,47,47,47,47,48,48,48,48,48,49,49,49,49,49,50,50,50,50,50,51,51,51,51,51],\"target\":[36,39,41,42,39,40,44,45,37,38,44,47,36,37,40,41,36,37,38,39,40,41,44,47,38,39,42,43,37,39,41,43,39,41,49,51,37,39,40,42,40,41,45,46,36,38,49,51,37,38,49,50,39,41,44,46,36,37,48,49,36,37,46,47,39,40,46,47,39,41,48,50,39,41,45,47,36,38,48,50,36,37,50,51,36,37,44,45,36,39,40,43,39,40,48,49,36,38,45,47,40,41,42,43,36,38,41,43,37,38,48,51,37,38,45,46,37,38,40,43,39,40,50,51,38,39,40,41,36,38,40,42,36,37,42,43,37,38,41,42,36,38,44,46,53,54,56,60,63,67,69,71,73,76,77,79,83,85,87,53,55,56,57,59,60,67,68,69,70,72,74,78,79,83,54,55,56,57,59,61,62,63,68,70,76,77,78,85,87,56,58,61,62,64,65,66,71,72,73,74,75,80,81,84,52,57,58,62,66,71,74,75,77,82,83,84,86,52,55,62,64,65,72,73,80,81,82,83,86,87,55,61,69,73,74,77,86,57,61,69,71,72,86,87,59,63,66,67,80,82,52,54,65,66,67,70,52,58,63,70,79,80,54,58,59,65,79,82,60,75,76,78,81,60,64,68,75,85,53,68,76,81,84,53,64,78,84,85],\"value\":[1,1,1,1,1,1,1,1,1,1,1,1,1,1,1,1,1,1,1,1,1,1,1,1,1,1,1,1,1,1,1,1,1,1,1,1,1,1,1,1,1,1,1,1,1,1,1,1,1,1,1,1,1,1,1,1,1,1,1,1,1,1,1,1,1,1,1,1,1,1,1,1,1,1,1,1,1,1,1,1,1,1,1,1,1,1,1,1,1,1,1,1,1,1,1,1,1,1,1,1,1,1,1,1,1,1,1,1,1,1,1,1,1,1,1,1,1,1,1,1,1,1,1,1,1,1,1,1,1,1,1,1,1,1,1,1,1,1,1,1,1,1,1,1,1,1,1,1,1,1,1,1,1,1,1,1,1,1,1,1,1,1,1,1,1,1,1,1,1,1,1,1,1,1,1,1,1,1,1,1,1,1,1,1,1,1,1,1,1,1,1,1,1,1,1,1,1,1,1,1,1,1,1,1,1,1,1,1,1,1,1,1,1,1,1,1,1,1,1,1,1,1,1,1,1,1,1,1,1,1,1,1,1,1,1,1,1,1,1,1,1,1,1,1,1,1,1,1,1,1,1,1,1,1,1,1,1,1,1,1,1,1,1,1,1,1,1,1,1,1,1,1,1,1,1,1,1,1,1,1,1,1,1,1,1,1,1,1]},\"node\":{\"label\":[\"AACGGGAGTCCGAGGTCGTACCTAG\",\"AATTTCCCTACGAACCTTGCGTTAC\",\"AGCTTGCTGTATGGGTCATGTTCCT\",\"ATGTGGCTGGCCGTTCCTTGTAGAC\",\"ATTCCGTACCAACCCGCGTCTTAGA\",\"CACCTAATCTCGACGCTAGGACCAC\",\"CCTGGGTAGGGGTAGTAAAATCGTT\",\"CGATCTCGGGCCTGGGTTTTGAGTA\",\"CGTGTTGACGGTTTGATCGCCTTCA\",\"CTCCTAACGTGTCTGTTTCCCCTAC\",\"GAATCGTTGTCTAAGCCTGGGGCTC\",\"GACATGATTGCCGTTCCGCAAGTTT\",\"GACGATGACAACGCGCAGTTCTTAC\",\"GAGAAAATTCGGCAGACCCGCATAG\",\"GCCCGGGAAGTGTGAGGATATACCC\",\"GCGAAGAACATCCCGGCATTTCATG\",\"GCTCTTAAAACTGGTATCACCTGAC\",\"GCTGAGGAAGCCCAATGTTCAGTAC\",\"GGACAGGGGAACCTCGGATATTCGC\",\"GGGACAAGCCTGGATCGTCACTTTC\",\"GGGAGGACTGCGGTTCAGCTTACAA\",\"GGTAACTGCGCATAGTTGGCTCTAT\",\"GGTCCCATCCGAGCAGATTTGACTC\",\"GTATTGTCCCCGAGGCTACCTAGCC\",\"GTCTAATATGGCGTAGCTCAACGCG\",\"GTGTGTCCTACCTACGCGAGGAATT\",\"GTTCGCCTTTGATAGTTGGTACCGA\",\"GTTTCTCAGGCAGCTTTCGACGATG\",\"TAGCGATTATGTTCCCGTTTTAAGC\",\"TGCAGCCTGAGAGGGTGTGCAATAT\",\"TGCGTGCTGGGAAACAATCTACGGT\",\"TGGTATCGATTTGTCGAACCGAGCC\",\"TTACTGAGTAACGTTCTACCCCGAA\",\"TTATGAAGCCTCCTGTGATCCTTTC\",\"TTCAGTGTACACCCAGACCGTGGAT\",\"TTTATGCGTGCGCTGTGCCACTAGA\",\"R1\",\"R2\",\"R3\",\"R4\",\"R5\",\"R6\",\"R7\",\"R8\",\"R9\",\"R10\",\"R11\",\"R12\",\"R13\",\"R14\",\"R15\",\"R16\",\"P-rex-11\",\"P-rex-16\",\"P-rex-21\",\"P-rex-22\",\"P-rex-23\",\"P-rex-25\",\"P-rex-26\",\"P-rex-3\",\"nDCC-1\",\"nDCC-10\",\"nDCC-11\",\"nDCC-16\",\"nDCC-17\",\"nDCC-18\",\"nDCC-2\",\"nDCC-22\",\"nDCC-7\",\"rex-16\",\"rex-19\",\"rex-2\\u002fnDCC-9\",\"rex-20\",\"rex-26\",\"rex-28\",\"rex-29\",\"rex-31\",\"rex-32\",\"rex-34\",\"rex-37\",\"rex-4\",\"rex-41\",\"rex-45\",\"rex-46\",\"rex-47\",\"rex-5\",\"rex-7\",\"rex-8\"],\"pad\":15,\"thickness\":20},\"type\":\"sankey\"}],                        {\"template\":{\"data\":{\"histogram2dcontour\":[{\"type\":\"histogram2dcontour\",\"colorbar\":{\"outlinewidth\":0,\"ticks\":\"\"},\"colorscale\":[[0.0,\"#0d0887\"],[0.1111111111111111,\"#46039f\"],[0.2222222222222222,\"#7201a8\"],[0.3333333333333333,\"#9c179e\"],[0.4444444444444444,\"#bd3786\"],[0.5555555555555556,\"#d8576b\"],[0.6666666666666666,\"#ed7953\"],[0.7777777777777778,\"#fb9f3a\"],[0.8888888888888888,\"#fdca26\"],[1.0,\"#f0f921\"]]}],\"choropleth\":[{\"type\":\"choropleth\",\"colorbar\":{\"outlinewidth\":0,\"ticks\":\"\"}}],\"histogram2d\":[{\"type\":\"histogram2d\",\"colorbar\":{\"outlinewidth\":0,\"ticks\":\"\"},\"colorscale\":[[0.0,\"#0d0887\"],[0.1111111111111111,\"#46039f\"],[0.2222222222222222,\"#7201a8\"],[0.3333333333333333,\"#9c179e\"],[0.4444444444444444,\"#bd3786\"],[0.5555555555555556,\"#d8576b\"],[0.6666666666666666,\"#ed7953\"],[0.7777777777777778,\"#fb9f3a\"],[0.8888888888888888,\"#fdca26\"],[1.0,\"#f0f921\"]]}],\"heatmap\":[{\"type\":\"heatmap\",\"colorbar\":{\"outlinewidth\":0,\"ticks\":\"\"},\"colorscale\":[[0.0,\"#0d0887\"],[0.1111111111111111,\"#46039f\"],[0.2222222222222222,\"#7201a8\"],[0.3333333333333333,\"#9c179e\"],[0.4444444444444444,\"#bd3786\"],[0.5555555555555556,\"#d8576b\"],[0.6666666666666666,\"#ed7953\"],[0.7777777777777778,\"#fb9f3a\"],[0.8888888888888888,\"#fdca26\"],[1.0,\"#f0f921\"]]}],\"heatmapgl\":[{\"type\":\"heatmapgl\",\"colorbar\":{\"outlinewidth\":0,\"ticks\":\"\"},\"colorscale\":[[0.0,\"#0d0887\"],[0.1111111111111111,\"#46039f\"],[0.2222222222222222,\"#7201a8\"],[0.3333333333333333,\"#9c179e\"],[0.4444444444444444,\"#bd3786\"],[0.5555555555555556,\"#d8576b\"],[0.6666666666666666,\"#ed7953\"],[0.7777777777777778,\"#fb9f3a\"],[0.8888888888888888,\"#fdca26\"],[1.0,\"#f0f921\"]]}],\"contourcarpet\":[{\"type\":\"contourcarpet\",\"colorbar\":{\"outlinewidth\":0,\"ticks\":\"\"}}],\"contour\":[{\"type\":\"contour\",\"colorbar\":{\"outlinewidth\":0,\"ticks\":\"\"},\"colorscale\":[[0.0,\"#0d0887\"],[0.1111111111111111,\"#46039f\"],[0.2222222222222222,\"#7201a8\"],[0.3333333333333333,\"#9c179e\"],[0.4444444444444444,\"#bd3786\"],[0.5555555555555556,\"#d8576b\"],[0.6666666666666666,\"#ed7953\"],[0.7777777777777778,\"#fb9f3a\"],[0.8888888888888888,\"#fdca26\"],[1.0,\"#f0f921\"]]}],\"surface\":[{\"type\":\"surface\",\"colorbar\":{\"outlinewidth\":0,\"ticks\":\"\"},\"colorscale\":[[0.0,\"#0d0887\"],[0.1111111111111111,\"#46039f\"],[0.2222222222222222,\"#7201a8\"],[0.3333333333333333,\"#9c179e\"],[0.4444444444444444,\"#bd3786\"],[0.5555555555555556,\"#d8576b\"],[0.6666666666666666,\"#ed7953\"],[0.7777777777777778,\"#fb9f3a\"],[0.8888888888888888,\"#fdca26\"],[1.0,\"#f0f921\"]]}],\"mesh3d\":[{\"type\":\"mesh3d\",\"colorbar\":{\"outlinewidth\":0,\"ticks\":\"\"}}],\"scatter\":[{\"fillpattern\":{\"fillmode\":\"overlay\",\"size\":10,\"solidity\":0.2},\"type\":\"scatter\"}],\"parcoords\":[{\"type\":\"parcoords\",\"line\":{\"colorbar\":{\"outlinewidth\":0,\"ticks\":\"\"}}}],\"scatterpolargl\":[{\"type\":\"scatterpolargl\",\"marker\":{\"colorbar\":{\"outlinewidth\":0,\"ticks\":\"\"}}}],\"bar\":[{\"error_x\":{\"color\":\"#2a3f5f\"},\"error_y\":{\"color\":\"#2a3f5f\"},\"marker\":{\"line\":{\"color\":\"white\",\"width\":0.5},\"pattern\":{\"fillmode\":\"overlay\",\"size\":10,\"solidity\":0.2}},\"type\":\"bar\"}],\"scattergeo\":[{\"type\":\"scattergeo\",\"marker\":{\"colorbar\":{\"outlinewidth\":0,\"ticks\":\"\"}}}],\"scatterpolar\":[{\"type\":\"scatterpolar\",\"marker\":{\"colorbar\":{\"outlinewidth\":0,\"ticks\":\"\"}}}],\"histogram\":[{\"marker\":{\"pattern\":{\"fillmode\":\"overlay\",\"size\":10,\"solidity\":0.2}},\"type\":\"histogram\"}],\"scattergl\":[{\"type\":\"scattergl\",\"marker\":{\"colorbar\":{\"outlinewidth\":0,\"ticks\":\"\"}}}],\"scatter3d\":[{\"type\":\"scatter3d\",\"line\":{\"colorbar\":{\"outlinewidth\":0,\"ticks\":\"\"}},\"marker\":{\"colorbar\":{\"outlinewidth\":0,\"ticks\":\"\"}}}],\"scattermapbox\":[{\"type\":\"scattermapbox\",\"marker\":{\"colorbar\":{\"outlinewidth\":0,\"ticks\":\"\"}}}],\"scatterternary\":[{\"type\":\"scatterternary\",\"marker\":{\"colorbar\":{\"outlinewidth\":0,\"ticks\":\"\"}}}],\"scattercarpet\":[{\"type\":\"scattercarpet\",\"marker\":{\"colorbar\":{\"outlinewidth\":0,\"ticks\":\"\"}}}],\"carpet\":[{\"aaxis\":{\"endlinecolor\":\"#2a3f5f\",\"gridcolor\":\"#C8D4E3\",\"linecolor\":\"#C8D4E3\",\"minorgridcolor\":\"#C8D4E3\",\"startlinecolor\":\"#2a3f5f\"},\"baxis\":{\"endlinecolor\":\"#2a3f5f\",\"gridcolor\":\"#C8D4E3\",\"linecolor\":\"#C8D4E3\",\"minorgridcolor\":\"#C8D4E3\",\"startlinecolor\":\"#2a3f5f\"},\"type\":\"carpet\"}],\"table\":[{\"cells\":{\"fill\":{\"color\":\"#EBF0F8\"},\"line\":{\"color\":\"white\"}},\"header\":{\"fill\":{\"color\":\"#C8D4E3\"},\"line\":{\"color\":\"white\"}},\"type\":\"table\"}],\"barpolar\":[{\"marker\":{\"line\":{\"color\":\"white\",\"width\":0.5},\"pattern\":{\"fillmode\":\"overlay\",\"size\":10,\"solidity\":0.2}},\"type\":\"barpolar\"}],\"pie\":[{\"automargin\":true,\"type\":\"pie\"}]},\"layout\":{\"autotypenumbers\":\"strict\",\"colorway\":[\"#636efa\",\"#EF553B\",\"#00cc96\",\"#ab63fa\",\"#FFA15A\",\"#19d3f3\",\"#FF6692\",\"#B6E880\",\"#FF97FF\",\"#FECB52\"],\"font\":{\"color\":\"#2a3f5f\"},\"hovermode\":\"closest\",\"hoverlabel\":{\"align\":\"left\"},\"paper_bgcolor\":\"white\",\"plot_bgcolor\":\"white\",\"polar\":{\"bgcolor\":\"white\",\"angularaxis\":{\"gridcolor\":\"#EBF0F8\",\"linecolor\":\"#EBF0F8\",\"ticks\":\"\"},\"radialaxis\":{\"gridcolor\":\"#EBF0F8\",\"linecolor\":\"#EBF0F8\",\"ticks\":\"\"}},\"ternary\":{\"bgcolor\":\"white\",\"aaxis\":{\"gridcolor\":\"#DFE8F3\",\"linecolor\":\"#A2B1C6\",\"ticks\":\"\"},\"baxis\":{\"gridcolor\":\"#DFE8F3\",\"linecolor\":\"#A2B1C6\",\"ticks\":\"\"},\"caxis\":{\"gridcolor\":\"#DFE8F3\",\"linecolor\":\"#A2B1C6\",\"ticks\":\"\"}},\"coloraxis\":{\"colorbar\":{\"outlinewidth\":0,\"ticks\":\"\"}},\"colorscale\":{\"sequential\":[[0.0,\"#0d0887\"],[0.1111111111111111,\"#46039f\"],[0.2222222222222222,\"#7201a8\"],[0.3333333333333333,\"#9c179e\"],[0.4444444444444444,\"#bd3786\"],[0.5555555555555556,\"#d8576b\"],[0.6666666666666666,\"#ed7953\"],[0.7777777777777778,\"#fb9f3a\"],[0.8888888888888888,\"#fdca26\"],[1.0,\"#f0f921\"]],\"sequentialminus\":[[0.0,\"#0d0887\"],[0.1111111111111111,\"#46039f\"],[0.2222222222222222,\"#7201a8\"],[0.3333333333333333,\"#9c179e\"],[0.4444444444444444,\"#bd3786\"],[0.5555555555555556,\"#d8576b\"],[0.6666666666666666,\"#ed7953\"],[0.7777777777777778,\"#fb9f3a\"],[0.8888888888888888,\"#fdca26\"],[1.0,\"#f0f921\"]],\"diverging\":[[0,\"#8e0152\"],[0.1,\"#c51b7d\"],[0.2,\"#de77ae\"],[0.3,\"#f1b6da\"],[0.4,\"#fde0ef\"],[0.5,\"#f7f7f7\"],[0.6,\"#e6f5d0\"],[0.7,\"#b8e186\"],[0.8,\"#7fbc41\"],[0.9,\"#4d9221\"],[1,\"#276419\"]]},\"xaxis\":{\"gridcolor\":\"#EBF0F8\",\"linecolor\":\"#EBF0F8\",\"ticks\":\"\",\"title\":{\"standoff\":15},\"zerolinecolor\":\"#EBF0F8\",\"automargin\":true,\"zerolinewidth\":2},\"yaxis\":{\"gridcolor\":\"#EBF0F8\",\"linecolor\":\"#EBF0F8\",\"ticks\":\"\",\"title\":{\"standoff\":15},\"zerolinecolor\":\"#EBF0F8\",\"automargin\":true,\"zerolinewidth\":2},\"scene\":{\"xaxis\":{\"backgroundcolor\":\"white\",\"gridcolor\":\"#DFE8F3\",\"linecolor\":\"#EBF0F8\",\"showbackground\":true,\"ticks\":\"\",\"zerolinecolor\":\"#EBF0F8\",\"gridwidth\":2},\"yaxis\":{\"backgroundcolor\":\"white\",\"gridcolor\":\"#DFE8F3\",\"linecolor\":\"#EBF0F8\",\"showbackground\":true,\"ticks\":\"\",\"zerolinecolor\":\"#EBF0F8\",\"gridwidth\":2},\"zaxis\":{\"backgroundcolor\":\"white\",\"gridcolor\":\"#DFE8F3\",\"linecolor\":\"#EBF0F8\",\"showbackground\":true,\"ticks\":\"\",\"zerolinecolor\":\"#EBF0F8\",\"gridwidth\":2}},\"shapedefaults\":{\"line\":{\"color\":\"#2a3f5f\"}},\"annotationdefaults\":{\"arrowcolor\":\"#2a3f5f\",\"arrowhead\":0,\"arrowwidth\":1},\"geo\":{\"bgcolor\":\"white\",\"landcolor\":\"white\",\"subunitcolor\":\"#C8D4E3\",\"showland\":true,\"showlakes\":true,\"lakecolor\":\"white\"},\"title\":{\"x\":0.05},\"mapbox\":{\"style\":\"light\"}}},\"title\":{\"text\":\"Green Channel: Barcode \\u2192 Round \\u2192 Locus\"},\"height\":800,\"width\":800},                        {\"responsive\": true}                    ).then(function(){\n",
       "                            \n",
       "var gd = document.getElementById('7eaaa756-1d9d-400c-a81a-222dde7059cf');\n",
       "var x = new MutationObserver(function (mutations, observer) {{\n",
       "        var display = window.getComputedStyle(gd).display;\n",
       "        if (!display || display === 'none') {{\n",
       "            console.log([gd, 'removed!']);\n",
       "            Plotly.purge(gd);\n",
       "            observer.disconnect();\n",
       "        }}\n",
       "}});\n",
       "\n",
       "// Listen for the removal of the full notebook cells\n",
       "var notebookContainer = gd.closest('#notebook-container');\n",
       "if (notebookContainer) {{\n",
       "    x.observe(notebookContainer, {childList: true});\n",
       "}}\n",
       "\n",
       "// Listen for the clearing of the current output cell\n",
       "var outputEl = gd.closest('.output');\n",
       "if (outputEl) {{\n",
       "    x.observe(outputEl, {childList: true});\n",
       "}}\n",
       "\n",
       "                        })                };                });            </script>        </div>"
      ]
     },
     "metadata": {},
     "output_type": "display_data"
    },
    {
     "data": {
      "application/vnd.plotly.v1+json": {
       "config": {
        "plotlyServerURL": "https://plot.ly"
       },
       "data": [
        {
         "link": {
          "color": [
           "lightcoral",
           "lightcoral",
           "lightcoral",
           "lightcoral",
           "lightcoral",
           "lightcoral",
           "lightcoral",
           "lightcoral",
           "lightcoral",
           "lightcoral",
           "lightcoral",
           "lightcoral",
           "lightcoral",
           "lightcoral",
           "lightcoral",
           "lightcoral",
           "lightcoral",
           "lightcoral",
           "lightcoral",
           "lightcoral",
           "lightcoral",
           "lightcoral",
           "lightcoral",
           "lightcoral",
           "lightcoral",
           "lightcoral",
           "lightcoral",
           "lightcoral",
           "lightcoral",
           "lightcoral",
           "lightcoral",
           "lightcoral",
           "lightcoral",
           "lightcoral",
           "lightcoral",
           "lightcoral",
           "lightcoral",
           "lightcoral",
           "lightcoral",
           "lightcoral",
           "lightcoral",
           "lightcoral",
           "lightcoral",
           "lightcoral",
           "lightcoral",
           "lightcoral",
           "lightcoral",
           "lightcoral",
           "lightcoral",
           "lightcoral",
           "lightcoral",
           "lightcoral",
           "lightcoral",
           "lightcoral",
           "lightcoral",
           "lightcoral",
           "lightcoral",
           "lightcoral",
           "lightcoral",
           "lightcoral",
           "lightcoral",
           "lightcoral",
           "lightcoral",
           "lightcoral",
           "lightcoral",
           "lightcoral",
           "lightcoral",
           "lightcoral",
           "lightcoral",
           "lightcoral",
           "lightcoral",
           "lightcoral",
           "lightcoral",
           "lightcoral",
           "lightcoral",
           "lightcoral",
           "lightcoral",
           "lightcoral",
           "lightcoral",
           "lightcoral",
           "lightcoral",
           "lightcoral",
           "lightcoral",
           "lightcoral",
           "lightcoral",
           "lightcoral",
           "lightcoral",
           "lightcoral",
           "lightcoral",
           "lightcoral",
           "lightcoral",
           "lightcoral",
           "lightcoral",
           "lightcoral",
           "lightcoral",
           "lightcoral",
           "lightcoral",
           "lightcoral",
           "lightcoral",
           "lightcoral",
           "lightcoral",
           "lightcoral",
           "lightcoral",
           "lightcoral",
           "lightcoral",
           "lightcoral",
           "lightcoral",
           "lightcoral",
           "lightcoral",
           "lightcoral",
           "lightcoral",
           "lightcoral",
           "lightcoral",
           "lightcoral",
           "lightcoral",
           "lightcoral",
           "lightcoral",
           "lightcoral",
           "lightcoral",
           "lightcoral",
           "lightcoral",
           "lightcoral",
           "lightcoral",
           "lightcoral",
           "lightcoral",
           "lightcoral",
           "lightcoral",
           "lightcoral",
           "lightcoral",
           "lightcoral",
           "lightcoral",
           "lightcoral",
           "lightcoral",
           "lightcoral",
           "lightcoral",
           "lightcoral",
           "lightcoral",
           "lightcoral",
           "lightcoral",
           "lightcoral",
           "lightcoral",
           "lightcoral",
           "lightcoral",
           "lightcoral",
           "lightcoral",
           "lightcoral",
           "lightcoral",
           "lightcoral",
           "indianred",
           "indianred",
           "indianred",
           "indianred",
           "indianred",
           "indianred",
           "indianred",
           "indianred",
           "indianred",
           "indianred",
           "indianred",
           "indianred",
           "indianred",
           "indianred",
           "indianred",
           "indianred",
           "indianred",
           "indianred",
           "indianred",
           "indianred",
           "indianred",
           "indianred",
           "indianred",
           "indianred",
           "indianred",
           "indianred",
           "indianred",
           "indianred",
           "indianred",
           "indianred",
           "indianred",
           "indianred",
           "indianred",
           "indianred",
           "indianred",
           "indianred",
           "indianred",
           "indianred",
           "indianred",
           "indianred",
           "indianred",
           "indianred",
           "indianred",
           "indianred",
           "indianred",
           "indianred",
           "indianred",
           "indianred",
           "indianred",
           "indianred",
           "indianred",
           "indianred",
           "indianred",
           "indianred",
           "indianred",
           "indianred",
           "indianred",
           "indianred",
           "indianred",
           "indianred",
           "indianred",
           "indianred",
           "indianred",
           "indianred",
           "indianred",
           "indianred",
           "indianred",
           "indianred",
           "indianred",
           "indianred",
           "indianred",
           "indianred",
           "indianred",
           "indianred",
           "indianred",
           "indianred",
           "indianred",
           "indianred",
           "indianred",
           "indianred",
           "indianred",
           "indianred",
           "indianred",
           "indianred",
           "indianred",
           "indianred",
           "indianred",
           "indianred",
           "indianred",
           "indianred",
           "indianred",
           "indianred",
           "indianred",
           "indianred",
           "indianred",
           "indianred",
           "indianred",
           "indianred",
           "indianred",
           "indianred",
           "indianred",
           "indianred",
           "indianred",
           "indianred",
           "indianred",
           "indianred",
           "indianred",
           "indianred",
           "indianred",
           "indianred",
           "indianred",
           "indianred",
           "indianred",
           "indianred",
           "indianred",
           "indianred",
           "indianred",
           "indianred",
           "indianred",
           "indianred",
           "indianred",
           "indianred",
           "indianred",
           "indianred",
           "indianred",
           "indianred",
           "indianred",
           "indianred",
           "indianred",
           "indianred",
           "indianred",
           "indianred",
           "indianred",
           "indianred",
           "indianred",
           "indianred",
           "indianred",
           "indianred",
           "indianred",
           "indianred",
           "indianred",
           "indianred",
           "indianred",
           "indianred",
           "indianred",
           "indianred",
           "indianred",
           "indianred"
          ],
          "source": [
           0,
           0,
           0,
           0,
           1,
           1,
           1,
           1,
           2,
           2,
           2,
           2,
           3,
           3,
           3,
           3,
           4,
           4,
           4,
           4,
           5,
           5,
           5,
           5,
           6,
           6,
           6,
           6,
           7,
           7,
           7,
           7,
           8,
           8,
           8,
           8,
           9,
           9,
           9,
           9,
           10,
           10,
           10,
           10,
           11,
           11,
           11,
           11,
           12,
           12,
           12,
           12,
           13,
           13,
           13,
           13,
           14,
           14,
           14,
           14,
           15,
           15,
           15,
           15,
           16,
           16,
           16,
           16,
           17,
           17,
           17,
           17,
           18,
           18,
           18,
           18,
           19,
           19,
           19,
           19,
           20,
           20,
           20,
           20,
           21,
           21,
           21,
           21,
           22,
           22,
           22,
           22,
           23,
           23,
           23,
           23,
           24,
           24,
           24,
           24,
           25,
           25,
           25,
           25,
           26,
           26,
           26,
           26,
           27,
           27,
           27,
           27,
           28,
           28,
           28,
           28,
           29,
           29,
           29,
           29,
           30,
           30,
           30,
           30,
           31,
           31,
           31,
           31,
           32,
           32,
           32,
           32,
           33,
           33,
           33,
           33,
           34,
           34,
           34,
           34,
           35,
           35,
           35,
           35,
           36,
           36,
           36,
           36,
           37,
           37,
           37,
           37,
           37,
           37,
           37,
           37,
           37,
           37,
           37,
           37,
           37,
           37,
           37,
           38,
           38,
           38,
           38,
           38,
           38,
           38,
           38,
           38,
           38,
           38,
           38,
           38,
           38,
           38,
           39,
           39,
           39,
           39,
           39,
           39,
           39,
           39,
           39,
           39,
           39,
           39,
           39,
           39,
           39,
           40,
           40,
           40,
           40,
           40,
           40,
           40,
           40,
           40,
           40,
           40,
           40,
           40,
           40,
           40,
           41,
           41,
           41,
           41,
           41,
           41,
           41,
           41,
           41,
           41,
           41,
           41,
           41,
           42,
           42,
           42,
           42,
           42,
           42,
           42,
           42,
           42,
           43,
           43,
           43,
           43,
           43,
           43,
           43,
           43,
           43,
           44,
           44,
           44,
           44,
           44,
           44,
           45,
           45,
           45,
           45,
           45,
           45,
           45,
           46,
           46,
           46,
           46,
           46,
           46,
           46,
           46,
           47,
           47,
           47,
           47,
           47,
           47,
           47,
           47,
           48,
           48,
           48,
           48,
           48,
           48,
           48,
           48,
           49,
           49,
           49,
           49,
           49,
           49,
           49,
           49,
           50,
           50,
           50,
           50,
           51,
           51,
           51,
           51,
           52,
           52,
           52,
           52
          ],
          "target": [
           41,
           42,
           44,
           46,
           41,
           43,
           49,
           51,
           38,
           40,
           49,
           51,
           41,
           42,
           43,
           45,
           37,
           38,
           48,
           50,
           38,
           40,
           45,
           47,
           37,
           38,
           47,
           49,
           38,
           39,
           45,
           49,
           39,
           40,
           45,
           46,
           38,
           39,
           40,
           44,
           41,
           43,
           46,
           48,
           39,
           40,
           42,
           48,
           37,
           39,
           40,
           43,
           37,
           38,
           39,
           41,
           41,
           42,
           47,
           48,
           37,
           38,
           40,
           42,
           41,
           43,
           44,
           47,
           37,
           40,
           44,
           48,
           38,
           40,
           43,
           48,
           38,
           39,
           42,
           46,
           37,
           39,
           44,
           47,
           38,
           39,
           48,
           52,
           39,
           40,
           41,
           47,
           37,
           38,
           43,
           45,
           38,
           39,
           43,
           47,
           37,
           40,
           41,
           45,
           41,
           43,
           50,
           52,
           38,
           40,
           41,
           46,
           41,
           42,
           49,
           50,
           37,
           39,
           48,
           51,
           39,
           40,
           49,
           52,
           37,
           38,
           44,
           46,
           37,
           39,
           46,
           49,
           41,
           42,
           51,
           52,
           37,
           39,
           42,
           45,
           37,
           40,
           46,
           47,
           37,
           40,
           49,
           50,
           55,
           57,
           58,
           63,
           64,
           69,
           74,
           77,
           78,
           79,
           81,
           83,
           86,
           88,
           89,
           53,
           56,
           61,
           63,
           64,
           65,
           68,
           70,
           75,
           78,
           79,
           80,
           83,
           86,
           87,
           53,
           55,
           56,
           57,
           60,
           68,
           69,
           72,
           75,
           77,
           81,
           82,
           85,
           86,
           87,
           58,
           60,
           61,
           64,
           65,
           70,
           72,
           74,
           80,
           81,
           82,
           85,
           87,
           88,
           89,
           54,
           59,
           61,
           62,
           66,
           67,
           71,
           73,
           76,
           84,
           85,
           86,
           89,
           54,
           59,
           64,
           66,
           67,
           68,
           72,
           73,
           77,
           54,
           56,
           62,
           70,
           71,
           76,
           81,
           83,
           84,
           57,
           59,
           76,
           79,
           87,
           88,
           54,
           65,
           75,
           77,
           82,
           83,
           89,
           55,
           59,
           61,
           68,
           74,
           79,
           82,
           84,
           56,
           57,
           63,
           65,
           66,
           74,
           76,
           85,
           53,
           66,
           69,
           70,
           72,
           78,
           84,
           88,
           55,
           58,
           60,
           63,
           67,
           71,
           75,
           80,
           58,
           62,
           67,
           78,
           69,
           71,
           73,
           80,
           53,
           60,
           62,
           73
          ],
          "value": [
           1,
           1,
           1,
           1,
           1,
           1,
           1,
           1,
           1,
           1,
           1,
           1,
           1,
           1,
           1,
           1,
           1,
           1,
           1,
           1,
           1,
           1,
           1,
           1,
           1,
           1,
           1,
           1,
           1,
           1,
           1,
           1,
           1,
           1,
           1,
           1,
           1,
           1,
           1,
           1,
           1,
           1,
           1,
           1,
           1,
           1,
           1,
           1,
           1,
           1,
           1,
           1,
           1,
           1,
           1,
           1,
           1,
           1,
           1,
           1,
           1,
           1,
           1,
           1,
           1,
           1,
           1,
           1,
           1,
           1,
           1,
           1,
           1,
           1,
           1,
           1,
           1,
           1,
           1,
           1,
           1,
           1,
           1,
           1,
           1,
           1,
           1,
           1,
           1,
           1,
           1,
           1,
           1,
           1,
           1,
           1,
           1,
           1,
           1,
           1,
           1,
           1,
           1,
           1,
           1,
           1,
           1,
           1,
           1,
           1,
           1,
           1,
           1,
           1,
           1,
           1,
           1,
           1,
           1,
           1,
           1,
           1,
           1,
           1,
           1,
           1,
           1,
           1,
           1,
           1,
           1,
           1,
           1,
           1,
           1,
           1,
           1,
           1,
           1,
           1,
           1,
           1,
           1,
           1,
           1,
           1,
           1,
           1,
           1,
           1,
           1,
           1,
           1,
           1,
           1,
           1,
           1,
           1,
           1,
           1,
           1,
           1,
           1,
           1,
           1,
           1,
           1,
           1,
           1,
           1,
           1,
           1,
           1,
           1,
           1,
           1,
           1,
           1,
           1,
           1,
           1,
           1,
           1,
           1,
           1,
           1,
           1,
           1,
           1,
           1,
           1,
           1,
           1,
           1,
           1,
           1,
           1,
           1,
           1,
           1,
           1,
           1,
           1,
           1,
           1,
           1,
           1,
           1,
           1,
           1,
           1,
           1,
           1,
           1,
           1,
           1,
           1,
           1,
           1,
           1,
           1,
           1,
           1,
           1,
           1,
           1,
           1,
           1,
           1,
           1,
           1,
           1,
           1,
           1,
           1,
           1,
           1,
           1,
           1,
           1,
           1,
           1,
           1,
           1,
           1,
           1,
           1,
           1,
           1,
           1,
           1,
           1,
           1,
           1,
           1,
           1,
           1,
           1,
           1,
           1,
           1,
           1,
           1,
           1,
           1,
           1,
           1,
           1,
           1,
           1,
           1,
           1,
           1,
           1,
           1,
           1,
           1,
           1,
           1,
           1,
           1,
           1,
           1,
           1,
           1,
           1,
           1,
           1,
           1,
           1,
           1,
           1,
           1,
           1,
           1,
           1
          ]
         },
         "node": {
          "label": [
           "AGAAGCCGTGTGCCGGTCTATATTG",
           "AGATATTCAATCTCCCTGCCTTTTG",
           "AGGGCCAAGTCGACCTAGATGGCTA",
           "AGTATCTGGGCTATTCTTTGCCACC",
           "ATGAAAGCTGTTGCCGATAGCACCG",
           "ATGCTTTCATCGCGCTGCAAATCTT",
           "CCTCCTCGATTCCCGTGGATTAGTA",
           "GAACCATGGTACCTGAGATCGTGGA",
           "GAAGCGATCGTGCTAGTAGTACCGC",
           "GAATGAAGCAGCGGGAGTCCGATTC",
           "GAGCGAGTTTCATTCGATACCTCGA",
           "GCTAGTTGGTGCTTCTACACACGAT",
           "GCTATTACGAGCGCTTGGATCCCGT",
           "GCTTGATGCTTTACAAGATCGCGTT",
           "GCTTTATGTACTAGCGTTTCCTTGT",
           "GGCTATGTCCGTAACACTCCTAGCA",
           "GGTCGGTCAATTCCCTCCTAAGGAG",
           "GTATTCCTAGCTATATACCGCGGTA",
           "GTCAGTAACGCTGCTTGCTGTCGGA",
           "GTCCGAGTATGGGCACAATTTTAAT",
           "GTGCTACTTAGAAACCATTCCATCG",
           "GTGCTTGCACTTACGACACAATTCC",
           "GTGTGTTCCTATGCACAATTTCATA",
           "TAGCCGTTATCGATTAATCGTCCTG",
           "TCAGCGGTTGGCACTACAGGTCAGA",
           "TCTCACGTTATATTCGTCTCAGTAC",
           "TGAACGGACTCCTTTTGATACGGCA",
           "TGAGTATCCCAACCATCTGGTTTAG",
           "TGCGGGTGTTTTCTTTTGGTAGCAA",
           "TGGCGTGACTATGTTCGGTTACTAC",
           "TGTTTATTCGGTGGGCCAGGTCTAG",
           "TTAACCGAACTGACGGCCATCAAGG",
           "TTAGACGAGCAGGTTTCTTGCCTAT",
           "TTATTCTGTCGCAAACCGATGCCAT",
           "TTGACATGTACGCCATTTGGGTCGC",
           "TTGGGAACTAGTTAGCTAGGTCTCC",
           "TTTTGTAATGCTGGGACGTTGCACA",
           "R1",
           "R2",
           "R3",
           "R4",
           "R5",
           "R6",
           "R7",
           "R8",
           "R9",
           "R10",
           "R11",
           "R12",
           "R13",
           "R14",
           "R15",
           "R16",
           "P-rex-1",
           "P-rex-14",
           "P-rex-15",
           "P-rex-2",
           "P-rex-20",
           "P-rex-27",
           "P-rex-30",
           "P-rex-31/nDCC-21",
           "P-rex-6/nDCC-4",
           "P-rex-7",
           "nDCC-19",
           "nDCC-20",
           "nDCC-23",
           "nDCC-3",
           "nDCC-5/nDCC-6",
           "nDCC-8",
           "rex-1",
           "rex-14",
           "rex-17",
           "rex-18",
           "rex-21",
           "rex-23",
           "rex-24",
           "rex-25",
           "rex-27",
           "rex-3",
           "rex-33",
           "rex-35",
           "rex-36",
           "rex-38",
           "rex-39",
           "rex-40",
           "rex-42",
           "rex-43",
           "rex-44",
           "rex-48",
           "rex-6"
          ],
          "pad": 15,
          "thickness": 20
         },
         "type": "sankey"
        }
       ],
       "layout": {
        "height": 800,
        "template": {
         "data": {
          "bar": [
           {
            "error_x": {
             "color": "#2a3f5f"
            },
            "error_y": {
             "color": "#2a3f5f"
            },
            "marker": {
             "line": {
              "color": "white",
              "width": 0.5
             },
             "pattern": {
              "fillmode": "overlay",
              "size": 10,
              "solidity": 0.2
             }
            },
            "type": "bar"
           }
          ],
          "barpolar": [
           {
            "marker": {
             "line": {
              "color": "white",
              "width": 0.5
             },
             "pattern": {
              "fillmode": "overlay",
              "size": 10,
              "solidity": 0.2
             }
            },
            "type": "barpolar"
           }
          ],
          "carpet": [
           {
            "aaxis": {
             "endlinecolor": "#2a3f5f",
             "gridcolor": "#C8D4E3",
             "linecolor": "#C8D4E3",
             "minorgridcolor": "#C8D4E3",
             "startlinecolor": "#2a3f5f"
            },
            "baxis": {
             "endlinecolor": "#2a3f5f",
             "gridcolor": "#C8D4E3",
             "linecolor": "#C8D4E3",
             "minorgridcolor": "#C8D4E3",
             "startlinecolor": "#2a3f5f"
            },
            "type": "carpet"
           }
          ],
          "choropleth": [
           {
            "colorbar": {
             "outlinewidth": 0,
             "ticks": ""
            },
            "type": "choropleth"
           }
          ],
          "contour": [
           {
            "colorbar": {
             "outlinewidth": 0,
             "ticks": ""
            },
            "colorscale": [
             [
              0.0,
              "#0d0887"
             ],
             [
              0.1111111111111111,
              "#46039f"
             ],
             [
              0.2222222222222222,
              "#7201a8"
             ],
             [
              0.3333333333333333,
              "#9c179e"
             ],
             [
              0.4444444444444444,
              "#bd3786"
             ],
             [
              0.5555555555555556,
              "#d8576b"
             ],
             [
              0.6666666666666666,
              "#ed7953"
             ],
             [
              0.7777777777777778,
              "#fb9f3a"
             ],
             [
              0.8888888888888888,
              "#fdca26"
             ],
             [
              1.0,
              "#f0f921"
             ]
            ],
            "type": "contour"
           }
          ],
          "contourcarpet": [
           {
            "colorbar": {
             "outlinewidth": 0,
             "ticks": ""
            },
            "type": "contourcarpet"
           }
          ],
          "heatmap": [
           {
            "colorbar": {
             "outlinewidth": 0,
             "ticks": ""
            },
            "colorscale": [
             [
              0.0,
              "#0d0887"
             ],
             [
              0.1111111111111111,
              "#46039f"
             ],
             [
              0.2222222222222222,
              "#7201a8"
             ],
             [
              0.3333333333333333,
              "#9c179e"
             ],
             [
              0.4444444444444444,
              "#bd3786"
             ],
             [
              0.5555555555555556,
              "#d8576b"
             ],
             [
              0.6666666666666666,
              "#ed7953"
             ],
             [
              0.7777777777777778,
              "#fb9f3a"
             ],
             [
              0.8888888888888888,
              "#fdca26"
             ],
             [
              1.0,
              "#f0f921"
             ]
            ],
            "type": "heatmap"
           }
          ],
          "heatmapgl": [
           {
            "colorbar": {
             "outlinewidth": 0,
             "ticks": ""
            },
            "colorscale": [
             [
              0.0,
              "#0d0887"
             ],
             [
              0.1111111111111111,
              "#46039f"
             ],
             [
              0.2222222222222222,
              "#7201a8"
             ],
             [
              0.3333333333333333,
              "#9c179e"
             ],
             [
              0.4444444444444444,
              "#bd3786"
             ],
             [
              0.5555555555555556,
              "#d8576b"
             ],
             [
              0.6666666666666666,
              "#ed7953"
             ],
             [
              0.7777777777777778,
              "#fb9f3a"
             ],
             [
              0.8888888888888888,
              "#fdca26"
             ],
             [
              1.0,
              "#f0f921"
             ]
            ],
            "type": "heatmapgl"
           }
          ],
          "histogram": [
           {
            "marker": {
             "pattern": {
              "fillmode": "overlay",
              "size": 10,
              "solidity": 0.2
             }
            },
            "type": "histogram"
           }
          ],
          "histogram2d": [
           {
            "colorbar": {
             "outlinewidth": 0,
             "ticks": ""
            },
            "colorscale": [
             [
              0.0,
              "#0d0887"
             ],
             [
              0.1111111111111111,
              "#46039f"
             ],
             [
              0.2222222222222222,
              "#7201a8"
             ],
             [
              0.3333333333333333,
              "#9c179e"
             ],
             [
              0.4444444444444444,
              "#bd3786"
             ],
             [
              0.5555555555555556,
              "#d8576b"
             ],
             [
              0.6666666666666666,
              "#ed7953"
             ],
             [
              0.7777777777777778,
              "#fb9f3a"
             ],
             [
              0.8888888888888888,
              "#fdca26"
             ],
             [
              1.0,
              "#f0f921"
             ]
            ],
            "type": "histogram2d"
           }
          ],
          "histogram2dcontour": [
           {
            "colorbar": {
             "outlinewidth": 0,
             "ticks": ""
            },
            "colorscale": [
             [
              0.0,
              "#0d0887"
             ],
             [
              0.1111111111111111,
              "#46039f"
             ],
             [
              0.2222222222222222,
              "#7201a8"
             ],
             [
              0.3333333333333333,
              "#9c179e"
             ],
             [
              0.4444444444444444,
              "#bd3786"
             ],
             [
              0.5555555555555556,
              "#d8576b"
             ],
             [
              0.6666666666666666,
              "#ed7953"
             ],
             [
              0.7777777777777778,
              "#fb9f3a"
             ],
             [
              0.8888888888888888,
              "#fdca26"
             ],
             [
              1.0,
              "#f0f921"
             ]
            ],
            "type": "histogram2dcontour"
           }
          ],
          "mesh3d": [
           {
            "colorbar": {
             "outlinewidth": 0,
             "ticks": ""
            },
            "type": "mesh3d"
           }
          ],
          "parcoords": [
           {
            "line": {
             "colorbar": {
              "outlinewidth": 0,
              "ticks": ""
             }
            },
            "type": "parcoords"
           }
          ],
          "pie": [
           {
            "automargin": true,
            "type": "pie"
           }
          ],
          "scatter": [
           {
            "fillpattern": {
             "fillmode": "overlay",
             "size": 10,
             "solidity": 0.2
            },
            "type": "scatter"
           }
          ],
          "scatter3d": [
           {
            "line": {
             "colorbar": {
              "outlinewidth": 0,
              "ticks": ""
             }
            },
            "marker": {
             "colorbar": {
              "outlinewidth": 0,
              "ticks": ""
             }
            },
            "type": "scatter3d"
           }
          ],
          "scattercarpet": [
           {
            "marker": {
             "colorbar": {
              "outlinewidth": 0,
              "ticks": ""
             }
            },
            "type": "scattercarpet"
           }
          ],
          "scattergeo": [
           {
            "marker": {
             "colorbar": {
              "outlinewidth": 0,
              "ticks": ""
             }
            },
            "type": "scattergeo"
           }
          ],
          "scattergl": [
           {
            "marker": {
             "colorbar": {
              "outlinewidth": 0,
              "ticks": ""
             }
            },
            "type": "scattergl"
           }
          ],
          "scattermapbox": [
           {
            "marker": {
             "colorbar": {
              "outlinewidth": 0,
              "ticks": ""
             }
            },
            "type": "scattermapbox"
           }
          ],
          "scatterpolar": [
           {
            "marker": {
             "colorbar": {
              "outlinewidth": 0,
              "ticks": ""
             }
            },
            "type": "scatterpolar"
           }
          ],
          "scatterpolargl": [
           {
            "marker": {
             "colorbar": {
              "outlinewidth": 0,
              "ticks": ""
             }
            },
            "type": "scatterpolargl"
           }
          ],
          "scatterternary": [
           {
            "marker": {
             "colorbar": {
              "outlinewidth": 0,
              "ticks": ""
             }
            },
            "type": "scatterternary"
           }
          ],
          "surface": [
           {
            "colorbar": {
             "outlinewidth": 0,
             "ticks": ""
            },
            "colorscale": [
             [
              0.0,
              "#0d0887"
             ],
             [
              0.1111111111111111,
              "#46039f"
             ],
             [
              0.2222222222222222,
              "#7201a8"
             ],
             [
              0.3333333333333333,
              "#9c179e"
             ],
             [
              0.4444444444444444,
              "#bd3786"
             ],
             [
              0.5555555555555556,
              "#d8576b"
             ],
             [
              0.6666666666666666,
              "#ed7953"
             ],
             [
              0.7777777777777778,
              "#fb9f3a"
             ],
             [
              0.8888888888888888,
              "#fdca26"
             ],
             [
              1.0,
              "#f0f921"
             ]
            ],
            "type": "surface"
           }
          ],
          "table": [
           {
            "cells": {
             "fill": {
              "color": "#EBF0F8"
             },
             "line": {
              "color": "white"
             }
            },
            "header": {
             "fill": {
              "color": "#C8D4E3"
             },
             "line": {
              "color": "white"
             }
            },
            "type": "table"
           }
          ]
         },
         "layout": {
          "annotationdefaults": {
           "arrowcolor": "#2a3f5f",
           "arrowhead": 0,
           "arrowwidth": 1
          },
          "autotypenumbers": "strict",
          "coloraxis": {
           "colorbar": {
            "outlinewidth": 0,
            "ticks": ""
           }
          },
          "colorscale": {
           "diverging": [
            [
             0,
             "#8e0152"
            ],
            [
             0.1,
             "#c51b7d"
            ],
            [
             0.2,
             "#de77ae"
            ],
            [
             0.3,
             "#f1b6da"
            ],
            [
             0.4,
             "#fde0ef"
            ],
            [
             0.5,
             "#f7f7f7"
            ],
            [
             0.6,
             "#e6f5d0"
            ],
            [
             0.7,
             "#b8e186"
            ],
            [
             0.8,
             "#7fbc41"
            ],
            [
             0.9,
             "#4d9221"
            ],
            [
             1,
             "#276419"
            ]
           ],
           "sequential": [
            [
             0.0,
             "#0d0887"
            ],
            [
             0.1111111111111111,
             "#46039f"
            ],
            [
             0.2222222222222222,
             "#7201a8"
            ],
            [
             0.3333333333333333,
             "#9c179e"
            ],
            [
             0.4444444444444444,
             "#bd3786"
            ],
            [
             0.5555555555555556,
             "#d8576b"
            ],
            [
             0.6666666666666666,
             "#ed7953"
            ],
            [
             0.7777777777777778,
             "#fb9f3a"
            ],
            [
             0.8888888888888888,
             "#fdca26"
            ],
            [
             1.0,
             "#f0f921"
            ]
           ],
           "sequentialminus": [
            [
             0.0,
             "#0d0887"
            ],
            [
             0.1111111111111111,
             "#46039f"
            ],
            [
             0.2222222222222222,
             "#7201a8"
            ],
            [
             0.3333333333333333,
             "#9c179e"
            ],
            [
             0.4444444444444444,
             "#bd3786"
            ],
            [
             0.5555555555555556,
             "#d8576b"
            ],
            [
             0.6666666666666666,
             "#ed7953"
            ],
            [
             0.7777777777777778,
             "#fb9f3a"
            ],
            [
             0.8888888888888888,
             "#fdca26"
            ],
            [
             1.0,
             "#f0f921"
            ]
           ]
          },
          "colorway": [
           "#636efa",
           "#EF553B",
           "#00cc96",
           "#ab63fa",
           "#FFA15A",
           "#19d3f3",
           "#FF6692",
           "#B6E880",
           "#FF97FF",
           "#FECB52"
          ],
          "font": {
           "color": "#2a3f5f"
          },
          "geo": {
           "bgcolor": "white",
           "lakecolor": "white",
           "landcolor": "white",
           "showlakes": true,
           "showland": true,
           "subunitcolor": "#C8D4E3"
          },
          "hoverlabel": {
           "align": "left"
          },
          "hovermode": "closest",
          "mapbox": {
           "style": "light"
          },
          "paper_bgcolor": "white",
          "plot_bgcolor": "white",
          "polar": {
           "angularaxis": {
            "gridcolor": "#EBF0F8",
            "linecolor": "#EBF0F8",
            "ticks": ""
           },
           "bgcolor": "white",
           "radialaxis": {
            "gridcolor": "#EBF0F8",
            "linecolor": "#EBF0F8",
            "ticks": ""
           }
          },
          "scene": {
           "xaxis": {
            "backgroundcolor": "white",
            "gridcolor": "#DFE8F3",
            "gridwidth": 2,
            "linecolor": "#EBF0F8",
            "showbackground": true,
            "ticks": "",
            "zerolinecolor": "#EBF0F8"
           },
           "yaxis": {
            "backgroundcolor": "white",
            "gridcolor": "#DFE8F3",
            "gridwidth": 2,
            "linecolor": "#EBF0F8",
            "showbackground": true,
            "ticks": "",
            "zerolinecolor": "#EBF0F8"
           },
           "zaxis": {
            "backgroundcolor": "white",
            "gridcolor": "#DFE8F3",
            "gridwidth": 2,
            "linecolor": "#EBF0F8",
            "showbackground": true,
            "ticks": "",
            "zerolinecolor": "#EBF0F8"
           }
          },
          "shapedefaults": {
           "line": {
            "color": "#2a3f5f"
           }
          },
          "ternary": {
           "aaxis": {
            "gridcolor": "#DFE8F3",
            "linecolor": "#A2B1C6",
            "ticks": ""
           },
           "baxis": {
            "gridcolor": "#DFE8F3",
            "linecolor": "#A2B1C6",
            "ticks": ""
           },
           "bgcolor": "white",
           "caxis": {
            "gridcolor": "#DFE8F3",
            "linecolor": "#A2B1C6",
            "ticks": ""
           }
          },
          "title": {
           "x": 0.05
          },
          "xaxis": {
           "automargin": true,
           "gridcolor": "#EBF0F8",
           "linecolor": "#EBF0F8",
           "ticks": "",
           "title": {
            "standoff": 15
           },
           "zerolinecolor": "#EBF0F8",
           "zerolinewidth": 2
          },
          "yaxis": {
           "automargin": true,
           "gridcolor": "#EBF0F8",
           "linecolor": "#EBF0F8",
           "ticks": "",
           "title": {
            "standoff": 15
           },
           "zerolinecolor": "#EBF0F8",
           "zerolinewidth": 2
          }
         }
        },
        "title": {
         "text": "Red Channel: Barcode → Round → Locus"
        },
        "width": 800
       }
      },
      "text/html": [
       "<div>                            <div id=\"7d6615b7-f415-4057-be03-191615769f2c\" class=\"plotly-graph-div\" style=\"height:800px; width:800px;\"></div>            <script type=\"text/javascript\">                require([\"plotly\"], function(Plotly) {                    window.PLOTLYENV=window.PLOTLYENV || {};                                    if (document.getElementById(\"7d6615b7-f415-4057-be03-191615769f2c\")) {                    Plotly.newPlot(                        \"7d6615b7-f415-4057-be03-191615769f2c\",                        [{\"link\":{\"color\":[\"lightcoral\",\"lightcoral\",\"lightcoral\",\"lightcoral\",\"lightcoral\",\"lightcoral\",\"lightcoral\",\"lightcoral\",\"lightcoral\",\"lightcoral\",\"lightcoral\",\"lightcoral\",\"lightcoral\",\"lightcoral\",\"lightcoral\",\"lightcoral\",\"lightcoral\",\"lightcoral\",\"lightcoral\",\"lightcoral\",\"lightcoral\",\"lightcoral\",\"lightcoral\",\"lightcoral\",\"lightcoral\",\"lightcoral\",\"lightcoral\",\"lightcoral\",\"lightcoral\",\"lightcoral\",\"lightcoral\",\"lightcoral\",\"lightcoral\",\"lightcoral\",\"lightcoral\",\"lightcoral\",\"lightcoral\",\"lightcoral\",\"lightcoral\",\"lightcoral\",\"lightcoral\",\"lightcoral\",\"lightcoral\",\"lightcoral\",\"lightcoral\",\"lightcoral\",\"lightcoral\",\"lightcoral\",\"lightcoral\",\"lightcoral\",\"lightcoral\",\"lightcoral\",\"lightcoral\",\"lightcoral\",\"lightcoral\",\"lightcoral\",\"lightcoral\",\"lightcoral\",\"lightcoral\",\"lightcoral\",\"lightcoral\",\"lightcoral\",\"lightcoral\",\"lightcoral\",\"lightcoral\",\"lightcoral\",\"lightcoral\",\"lightcoral\",\"lightcoral\",\"lightcoral\",\"lightcoral\",\"lightcoral\",\"lightcoral\",\"lightcoral\",\"lightcoral\",\"lightcoral\",\"lightcoral\",\"lightcoral\",\"lightcoral\",\"lightcoral\",\"lightcoral\",\"lightcoral\",\"lightcoral\",\"lightcoral\",\"lightcoral\",\"lightcoral\",\"lightcoral\",\"lightcoral\",\"lightcoral\",\"lightcoral\",\"lightcoral\",\"lightcoral\",\"lightcoral\",\"lightcoral\",\"lightcoral\",\"lightcoral\",\"lightcoral\",\"lightcoral\",\"lightcoral\",\"lightcoral\",\"lightcoral\",\"lightcoral\",\"lightcoral\",\"lightcoral\",\"lightcoral\",\"lightcoral\",\"lightcoral\",\"lightcoral\",\"lightcoral\",\"lightcoral\",\"lightcoral\",\"lightcoral\",\"lightcoral\",\"lightcoral\",\"lightcoral\",\"lightcoral\",\"lightcoral\",\"lightcoral\",\"lightcoral\",\"lightcoral\",\"lightcoral\",\"lightcoral\",\"lightcoral\",\"lightcoral\",\"lightcoral\",\"lightcoral\",\"lightcoral\",\"lightcoral\",\"lightcoral\",\"lightcoral\",\"lightcoral\",\"lightcoral\",\"lightcoral\",\"lightcoral\",\"lightcoral\",\"lightcoral\",\"lightcoral\",\"lightcoral\",\"lightcoral\",\"lightcoral\",\"lightcoral\",\"lightcoral\",\"lightcoral\",\"lightcoral\",\"lightcoral\",\"lightcoral\",\"lightcoral\",\"lightcoral\",\"indianred\",\"indianred\",\"indianred\",\"indianred\",\"indianred\",\"indianred\",\"indianred\",\"indianred\",\"indianred\",\"indianred\",\"indianred\",\"indianred\",\"indianred\",\"indianred\",\"indianred\",\"indianred\",\"indianred\",\"indianred\",\"indianred\",\"indianred\",\"indianred\",\"indianred\",\"indianred\",\"indianred\",\"indianred\",\"indianred\",\"indianred\",\"indianred\",\"indianred\",\"indianred\",\"indianred\",\"indianred\",\"indianred\",\"indianred\",\"indianred\",\"indianred\",\"indianred\",\"indianred\",\"indianred\",\"indianred\",\"indianred\",\"indianred\",\"indianred\",\"indianred\",\"indianred\",\"indianred\",\"indianred\",\"indianred\",\"indianred\",\"indianred\",\"indianred\",\"indianred\",\"indianred\",\"indianred\",\"indianred\",\"indianred\",\"indianred\",\"indianred\",\"indianred\",\"indianred\",\"indianred\",\"indianred\",\"indianred\",\"indianred\",\"indianred\",\"indianred\",\"indianred\",\"indianred\",\"indianred\",\"indianred\",\"indianred\",\"indianred\",\"indianred\",\"indianred\",\"indianred\",\"indianred\",\"indianred\",\"indianred\",\"indianred\",\"indianred\",\"indianred\",\"indianred\",\"indianred\",\"indianred\",\"indianred\",\"indianred\",\"indianred\",\"indianred\",\"indianred\",\"indianred\",\"indianred\",\"indianred\",\"indianred\",\"indianred\",\"indianred\",\"indianred\",\"indianred\",\"indianred\",\"indianred\",\"indianred\",\"indianred\",\"indianred\",\"indianred\",\"indianred\",\"indianred\",\"indianred\",\"indianred\",\"indianred\",\"indianred\",\"indianred\",\"indianred\",\"indianred\",\"indianred\",\"indianred\",\"indianred\",\"indianred\",\"indianred\",\"indianred\",\"indianred\",\"indianred\",\"indianred\",\"indianred\",\"indianred\",\"indianred\",\"indianred\",\"indianred\",\"indianred\",\"indianred\",\"indianred\",\"indianred\",\"indianred\",\"indianred\",\"indianred\",\"indianred\",\"indianred\",\"indianred\",\"indianred\",\"indianred\",\"indianred\",\"indianred\",\"indianred\",\"indianred\",\"indianred\",\"indianred\",\"indianred\",\"indianred\",\"indianred\",\"indianred\"],\"source\":[0,0,0,0,1,1,1,1,2,2,2,2,3,3,3,3,4,4,4,4,5,5,5,5,6,6,6,6,7,7,7,7,8,8,8,8,9,9,9,9,10,10,10,10,11,11,11,11,12,12,12,12,13,13,13,13,14,14,14,14,15,15,15,15,16,16,16,16,17,17,17,17,18,18,18,18,19,19,19,19,20,20,20,20,21,21,21,21,22,22,22,22,23,23,23,23,24,24,24,24,25,25,25,25,26,26,26,26,27,27,27,27,28,28,28,28,29,29,29,29,30,30,30,30,31,31,31,31,32,32,32,32,33,33,33,33,34,34,34,34,35,35,35,35,36,36,36,36,37,37,37,37,37,37,37,37,37,37,37,37,37,37,37,38,38,38,38,38,38,38,38,38,38,38,38,38,38,38,39,39,39,39,39,39,39,39,39,39,39,39,39,39,39,40,40,40,40,40,40,40,40,40,40,40,40,40,40,40,41,41,41,41,41,41,41,41,41,41,41,41,41,42,42,42,42,42,42,42,42,42,43,43,43,43,43,43,43,43,43,44,44,44,44,44,44,45,45,45,45,45,45,45,46,46,46,46,46,46,46,46,47,47,47,47,47,47,47,47,48,48,48,48,48,48,48,48,49,49,49,49,49,49,49,49,50,50,50,50,51,51,51,51,52,52,52,52],\"target\":[41,42,44,46,41,43,49,51,38,40,49,51,41,42,43,45,37,38,48,50,38,40,45,47,37,38,47,49,38,39,45,49,39,40,45,46,38,39,40,44,41,43,46,48,39,40,42,48,37,39,40,43,37,38,39,41,41,42,47,48,37,38,40,42,41,43,44,47,37,40,44,48,38,40,43,48,38,39,42,46,37,39,44,47,38,39,48,52,39,40,41,47,37,38,43,45,38,39,43,47,37,40,41,45,41,43,50,52,38,40,41,46,41,42,49,50,37,39,48,51,39,40,49,52,37,38,44,46,37,39,46,49,41,42,51,52,37,39,42,45,37,40,46,47,37,40,49,50,55,57,58,63,64,69,74,77,78,79,81,83,86,88,89,53,56,61,63,64,65,68,70,75,78,79,80,83,86,87,53,55,56,57,60,68,69,72,75,77,81,82,85,86,87,58,60,61,64,65,70,72,74,80,81,82,85,87,88,89,54,59,61,62,66,67,71,73,76,84,85,86,89,54,59,64,66,67,68,72,73,77,54,56,62,70,71,76,81,83,84,57,59,76,79,87,88,54,65,75,77,82,83,89,55,59,61,68,74,79,82,84,56,57,63,65,66,74,76,85,53,66,69,70,72,78,84,88,55,58,60,63,67,71,75,80,58,62,67,78,69,71,73,80,53,60,62,73],\"value\":[1,1,1,1,1,1,1,1,1,1,1,1,1,1,1,1,1,1,1,1,1,1,1,1,1,1,1,1,1,1,1,1,1,1,1,1,1,1,1,1,1,1,1,1,1,1,1,1,1,1,1,1,1,1,1,1,1,1,1,1,1,1,1,1,1,1,1,1,1,1,1,1,1,1,1,1,1,1,1,1,1,1,1,1,1,1,1,1,1,1,1,1,1,1,1,1,1,1,1,1,1,1,1,1,1,1,1,1,1,1,1,1,1,1,1,1,1,1,1,1,1,1,1,1,1,1,1,1,1,1,1,1,1,1,1,1,1,1,1,1,1,1,1,1,1,1,1,1,1,1,1,1,1,1,1,1,1,1,1,1,1,1,1,1,1,1,1,1,1,1,1,1,1,1,1,1,1,1,1,1,1,1,1,1,1,1,1,1,1,1,1,1,1,1,1,1,1,1,1,1,1,1,1,1,1,1,1,1,1,1,1,1,1,1,1,1,1,1,1,1,1,1,1,1,1,1,1,1,1,1,1,1,1,1,1,1,1,1,1,1,1,1,1,1,1,1,1,1,1,1,1,1,1,1,1,1,1,1,1,1,1,1,1,1,1,1,1,1,1,1,1,1,1,1,1,1,1,1,1,1,1,1,1,1,1,1,1,1,1,1,1,1,1,1,1,1]},\"node\":{\"label\":[\"AGAAGCCGTGTGCCGGTCTATATTG\",\"AGATATTCAATCTCCCTGCCTTTTG\",\"AGGGCCAAGTCGACCTAGATGGCTA\",\"AGTATCTGGGCTATTCTTTGCCACC\",\"ATGAAAGCTGTTGCCGATAGCACCG\",\"ATGCTTTCATCGCGCTGCAAATCTT\",\"CCTCCTCGATTCCCGTGGATTAGTA\",\"GAACCATGGTACCTGAGATCGTGGA\",\"GAAGCGATCGTGCTAGTAGTACCGC\",\"GAATGAAGCAGCGGGAGTCCGATTC\",\"GAGCGAGTTTCATTCGATACCTCGA\",\"GCTAGTTGGTGCTTCTACACACGAT\",\"GCTATTACGAGCGCTTGGATCCCGT\",\"GCTTGATGCTTTACAAGATCGCGTT\",\"GCTTTATGTACTAGCGTTTCCTTGT\",\"GGCTATGTCCGTAACACTCCTAGCA\",\"GGTCGGTCAATTCCCTCCTAAGGAG\",\"GTATTCCTAGCTATATACCGCGGTA\",\"GTCAGTAACGCTGCTTGCTGTCGGA\",\"GTCCGAGTATGGGCACAATTTTAAT\",\"GTGCTACTTAGAAACCATTCCATCG\",\"GTGCTTGCACTTACGACACAATTCC\",\"GTGTGTTCCTATGCACAATTTCATA\",\"TAGCCGTTATCGATTAATCGTCCTG\",\"TCAGCGGTTGGCACTACAGGTCAGA\",\"TCTCACGTTATATTCGTCTCAGTAC\",\"TGAACGGACTCCTTTTGATACGGCA\",\"TGAGTATCCCAACCATCTGGTTTAG\",\"TGCGGGTGTTTTCTTTTGGTAGCAA\",\"TGGCGTGACTATGTTCGGTTACTAC\",\"TGTTTATTCGGTGGGCCAGGTCTAG\",\"TTAACCGAACTGACGGCCATCAAGG\",\"TTAGACGAGCAGGTTTCTTGCCTAT\",\"TTATTCTGTCGCAAACCGATGCCAT\",\"TTGACATGTACGCCATTTGGGTCGC\",\"TTGGGAACTAGTTAGCTAGGTCTCC\",\"TTTTGTAATGCTGGGACGTTGCACA\",\"R1\",\"R2\",\"R3\",\"R4\",\"R5\",\"R6\",\"R7\",\"R8\",\"R9\",\"R10\",\"R11\",\"R12\",\"R13\",\"R14\",\"R15\",\"R16\",\"P-rex-1\",\"P-rex-14\",\"P-rex-15\",\"P-rex-2\",\"P-rex-20\",\"P-rex-27\",\"P-rex-30\",\"P-rex-31\\u002fnDCC-21\",\"P-rex-6\\u002fnDCC-4\",\"P-rex-7\",\"nDCC-19\",\"nDCC-20\",\"nDCC-23\",\"nDCC-3\",\"nDCC-5\\u002fnDCC-6\",\"nDCC-8\",\"rex-1\",\"rex-14\",\"rex-17\",\"rex-18\",\"rex-21\",\"rex-23\",\"rex-24\",\"rex-25\",\"rex-27\",\"rex-3\",\"rex-33\",\"rex-35\",\"rex-36\",\"rex-38\",\"rex-39\",\"rex-40\",\"rex-42\",\"rex-43\",\"rex-44\",\"rex-48\",\"rex-6\"],\"pad\":15,\"thickness\":20},\"type\":\"sankey\"}],                        {\"template\":{\"data\":{\"histogram2dcontour\":[{\"type\":\"histogram2dcontour\",\"colorbar\":{\"outlinewidth\":0,\"ticks\":\"\"},\"colorscale\":[[0.0,\"#0d0887\"],[0.1111111111111111,\"#46039f\"],[0.2222222222222222,\"#7201a8\"],[0.3333333333333333,\"#9c179e\"],[0.4444444444444444,\"#bd3786\"],[0.5555555555555556,\"#d8576b\"],[0.6666666666666666,\"#ed7953\"],[0.7777777777777778,\"#fb9f3a\"],[0.8888888888888888,\"#fdca26\"],[1.0,\"#f0f921\"]]}],\"choropleth\":[{\"type\":\"choropleth\",\"colorbar\":{\"outlinewidth\":0,\"ticks\":\"\"}}],\"histogram2d\":[{\"type\":\"histogram2d\",\"colorbar\":{\"outlinewidth\":0,\"ticks\":\"\"},\"colorscale\":[[0.0,\"#0d0887\"],[0.1111111111111111,\"#46039f\"],[0.2222222222222222,\"#7201a8\"],[0.3333333333333333,\"#9c179e\"],[0.4444444444444444,\"#bd3786\"],[0.5555555555555556,\"#d8576b\"],[0.6666666666666666,\"#ed7953\"],[0.7777777777777778,\"#fb9f3a\"],[0.8888888888888888,\"#fdca26\"],[1.0,\"#f0f921\"]]}],\"heatmap\":[{\"type\":\"heatmap\",\"colorbar\":{\"outlinewidth\":0,\"ticks\":\"\"},\"colorscale\":[[0.0,\"#0d0887\"],[0.1111111111111111,\"#46039f\"],[0.2222222222222222,\"#7201a8\"],[0.3333333333333333,\"#9c179e\"],[0.4444444444444444,\"#bd3786\"],[0.5555555555555556,\"#d8576b\"],[0.6666666666666666,\"#ed7953\"],[0.7777777777777778,\"#fb9f3a\"],[0.8888888888888888,\"#fdca26\"],[1.0,\"#f0f921\"]]}],\"heatmapgl\":[{\"type\":\"heatmapgl\",\"colorbar\":{\"outlinewidth\":0,\"ticks\":\"\"},\"colorscale\":[[0.0,\"#0d0887\"],[0.1111111111111111,\"#46039f\"],[0.2222222222222222,\"#7201a8\"],[0.3333333333333333,\"#9c179e\"],[0.4444444444444444,\"#bd3786\"],[0.5555555555555556,\"#d8576b\"],[0.6666666666666666,\"#ed7953\"],[0.7777777777777778,\"#fb9f3a\"],[0.8888888888888888,\"#fdca26\"],[1.0,\"#f0f921\"]]}],\"contourcarpet\":[{\"type\":\"contourcarpet\",\"colorbar\":{\"outlinewidth\":0,\"ticks\":\"\"}}],\"contour\":[{\"type\":\"contour\",\"colorbar\":{\"outlinewidth\":0,\"ticks\":\"\"},\"colorscale\":[[0.0,\"#0d0887\"],[0.1111111111111111,\"#46039f\"],[0.2222222222222222,\"#7201a8\"],[0.3333333333333333,\"#9c179e\"],[0.4444444444444444,\"#bd3786\"],[0.5555555555555556,\"#d8576b\"],[0.6666666666666666,\"#ed7953\"],[0.7777777777777778,\"#fb9f3a\"],[0.8888888888888888,\"#fdca26\"],[1.0,\"#f0f921\"]]}],\"surface\":[{\"type\":\"surface\",\"colorbar\":{\"outlinewidth\":0,\"ticks\":\"\"},\"colorscale\":[[0.0,\"#0d0887\"],[0.1111111111111111,\"#46039f\"],[0.2222222222222222,\"#7201a8\"],[0.3333333333333333,\"#9c179e\"],[0.4444444444444444,\"#bd3786\"],[0.5555555555555556,\"#d8576b\"],[0.6666666666666666,\"#ed7953\"],[0.7777777777777778,\"#fb9f3a\"],[0.8888888888888888,\"#fdca26\"],[1.0,\"#f0f921\"]]}],\"mesh3d\":[{\"type\":\"mesh3d\",\"colorbar\":{\"outlinewidth\":0,\"ticks\":\"\"}}],\"scatter\":[{\"fillpattern\":{\"fillmode\":\"overlay\",\"size\":10,\"solidity\":0.2},\"type\":\"scatter\"}],\"parcoords\":[{\"type\":\"parcoords\",\"line\":{\"colorbar\":{\"outlinewidth\":0,\"ticks\":\"\"}}}],\"scatterpolargl\":[{\"type\":\"scatterpolargl\",\"marker\":{\"colorbar\":{\"outlinewidth\":0,\"ticks\":\"\"}}}],\"bar\":[{\"error_x\":{\"color\":\"#2a3f5f\"},\"error_y\":{\"color\":\"#2a3f5f\"},\"marker\":{\"line\":{\"color\":\"white\",\"width\":0.5},\"pattern\":{\"fillmode\":\"overlay\",\"size\":10,\"solidity\":0.2}},\"type\":\"bar\"}],\"scattergeo\":[{\"type\":\"scattergeo\",\"marker\":{\"colorbar\":{\"outlinewidth\":0,\"ticks\":\"\"}}}],\"scatterpolar\":[{\"type\":\"scatterpolar\",\"marker\":{\"colorbar\":{\"outlinewidth\":0,\"ticks\":\"\"}}}],\"histogram\":[{\"marker\":{\"pattern\":{\"fillmode\":\"overlay\",\"size\":10,\"solidity\":0.2}},\"type\":\"histogram\"}],\"scattergl\":[{\"type\":\"scattergl\",\"marker\":{\"colorbar\":{\"outlinewidth\":0,\"ticks\":\"\"}}}],\"scatter3d\":[{\"type\":\"scatter3d\",\"line\":{\"colorbar\":{\"outlinewidth\":0,\"ticks\":\"\"}},\"marker\":{\"colorbar\":{\"outlinewidth\":0,\"ticks\":\"\"}}}],\"scattermapbox\":[{\"type\":\"scattermapbox\",\"marker\":{\"colorbar\":{\"outlinewidth\":0,\"ticks\":\"\"}}}],\"scatterternary\":[{\"type\":\"scatterternary\",\"marker\":{\"colorbar\":{\"outlinewidth\":0,\"ticks\":\"\"}}}],\"scattercarpet\":[{\"type\":\"scattercarpet\",\"marker\":{\"colorbar\":{\"outlinewidth\":0,\"ticks\":\"\"}}}],\"carpet\":[{\"aaxis\":{\"endlinecolor\":\"#2a3f5f\",\"gridcolor\":\"#C8D4E3\",\"linecolor\":\"#C8D4E3\",\"minorgridcolor\":\"#C8D4E3\",\"startlinecolor\":\"#2a3f5f\"},\"baxis\":{\"endlinecolor\":\"#2a3f5f\",\"gridcolor\":\"#C8D4E3\",\"linecolor\":\"#C8D4E3\",\"minorgridcolor\":\"#C8D4E3\",\"startlinecolor\":\"#2a3f5f\"},\"type\":\"carpet\"}],\"table\":[{\"cells\":{\"fill\":{\"color\":\"#EBF0F8\"},\"line\":{\"color\":\"white\"}},\"header\":{\"fill\":{\"color\":\"#C8D4E3\"},\"line\":{\"color\":\"white\"}},\"type\":\"table\"}],\"barpolar\":[{\"marker\":{\"line\":{\"color\":\"white\",\"width\":0.5},\"pattern\":{\"fillmode\":\"overlay\",\"size\":10,\"solidity\":0.2}},\"type\":\"barpolar\"}],\"pie\":[{\"automargin\":true,\"type\":\"pie\"}]},\"layout\":{\"autotypenumbers\":\"strict\",\"colorway\":[\"#636efa\",\"#EF553B\",\"#00cc96\",\"#ab63fa\",\"#FFA15A\",\"#19d3f3\",\"#FF6692\",\"#B6E880\",\"#FF97FF\",\"#FECB52\"],\"font\":{\"color\":\"#2a3f5f\"},\"hovermode\":\"closest\",\"hoverlabel\":{\"align\":\"left\"},\"paper_bgcolor\":\"white\",\"plot_bgcolor\":\"white\",\"polar\":{\"bgcolor\":\"white\",\"angularaxis\":{\"gridcolor\":\"#EBF0F8\",\"linecolor\":\"#EBF0F8\",\"ticks\":\"\"},\"radialaxis\":{\"gridcolor\":\"#EBF0F8\",\"linecolor\":\"#EBF0F8\",\"ticks\":\"\"}},\"ternary\":{\"bgcolor\":\"white\",\"aaxis\":{\"gridcolor\":\"#DFE8F3\",\"linecolor\":\"#A2B1C6\",\"ticks\":\"\"},\"baxis\":{\"gridcolor\":\"#DFE8F3\",\"linecolor\":\"#A2B1C6\",\"ticks\":\"\"},\"caxis\":{\"gridcolor\":\"#DFE8F3\",\"linecolor\":\"#A2B1C6\",\"ticks\":\"\"}},\"coloraxis\":{\"colorbar\":{\"outlinewidth\":0,\"ticks\":\"\"}},\"colorscale\":{\"sequential\":[[0.0,\"#0d0887\"],[0.1111111111111111,\"#46039f\"],[0.2222222222222222,\"#7201a8\"],[0.3333333333333333,\"#9c179e\"],[0.4444444444444444,\"#bd3786\"],[0.5555555555555556,\"#d8576b\"],[0.6666666666666666,\"#ed7953\"],[0.7777777777777778,\"#fb9f3a\"],[0.8888888888888888,\"#fdca26\"],[1.0,\"#f0f921\"]],\"sequentialminus\":[[0.0,\"#0d0887\"],[0.1111111111111111,\"#46039f\"],[0.2222222222222222,\"#7201a8\"],[0.3333333333333333,\"#9c179e\"],[0.4444444444444444,\"#bd3786\"],[0.5555555555555556,\"#d8576b\"],[0.6666666666666666,\"#ed7953\"],[0.7777777777777778,\"#fb9f3a\"],[0.8888888888888888,\"#fdca26\"],[1.0,\"#f0f921\"]],\"diverging\":[[0,\"#8e0152\"],[0.1,\"#c51b7d\"],[0.2,\"#de77ae\"],[0.3,\"#f1b6da\"],[0.4,\"#fde0ef\"],[0.5,\"#f7f7f7\"],[0.6,\"#e6f5d0\"],[0.7,\"#b8e186\"],[0.8,\"#7fbc41\"],[0.9,\"#4d9221\"],[1,\"#276419\"]]},\"xaxis\":{\"gridcolor\":\"#EBF0F8\",\"linecolor\":\"#EBF0F8\",\"ticks\":\"\",\"title\":{\"standoff\":15},\"zerolinecolor\":\"#EBF0F8\",\"automargin\":true,\"zerolinewidth\":2},\"yaxis\":{\"gridcolor\":\"#EBF0F8\",\"linecolor\":\"#EBF0F8\",\"ticks\":\"\",\"title\":{\"standoff\":15},\"zerolinecolor\":\"#EBF0F8\",\"automargin\":true,\"zerolinewidth\":2},\"scene\":{\"xaxis\":{\"backgroundcolor\":\"white\",\"gridcolor\":\"#DFE8F3\",\"linecolor\":\"#EBF0F8\",\"showbackground\":true,\"ticks\":\"\",\"zerolinecolor\":\"#EBF0F8\",\"gridwidth\":2},\"yaxis\":{\"backgroundcolor\":\"white\",\"gridcolor\":\"#DFE8F3\",\"linecolor\":\"#EBF0F8\",\"showbackground\":true,\"ticks\":\"\",\"zerolinecolor\":\"#EBF0F8\",\"gridwidth\":2},\"zaxis\":{\"backgroundcolor\":\"white\",\"gridcolor\":\"#DFE8F3\",\"linecolor\":\"#EBF0F8\",\"showbackground\":true,\"ticks\":\"\",\"zerolinecolor\":\"#EBF0F8\",\"gridwidth\":2}},\"shapedefaults\":{\"line\":{\"color\":\"#2a3f5f\"}},\"annotationdefaults\":{\"arrowcolor\":\"#2a3f5f\",\"arrowhead\":0,\"arrowwidth\":1},\"geo\":{\"bgcolor\":\"white\",\"landcolor\":\"white\",\"subunitcolor\":\"#C8D4E3\",\"showland\":true,\"showlakes\":true,\"lakecolor\":\"white\"},\"title\":{\"x\":0.05},\"mapbox\":{\"style\":\"light\"}}},\"title\":{\"text\":\"Red Channel: Barcode \\u2192 Round \\u2192 Locus\"},\"height\":800,\"width\":800},                        {\"responsive\": true}                    ).then(function(){\n",
       "                            \n",
       "var gd = document.getElementById('7d6615b7-f415-4057-be03-191615769f2c');\n",
       "var x = new MutationObserver(function (mutations, observer) {{\n",
       "        var display = window.getComputedStyle(gd).display;\n",
       "        if (!display || display === 'none') {{\n",
       "            console.log([gd, 'removed!']);\n",
       "            Plotly.purge(gd);\n",
       "            observer.disconnect();\n",
       "        }}\n",
       "}});\n",
       "\n",
       "// Listen for the removal of the full notebook cells\n",
       "var notebookContainer = gd.closest('#notebook-container');\n",
       "if (notebookContainer) {{\n",
       "    x.observe(notebookContainer, {childList: true});\n",
       "}}\n",
       "\n",
       "// Listen for the clearing of the current output cell\n",
       "var outputEl = gd.closest('.output');\n",
       "if (outputEl) {{\n",
       "    x.observe(outputEl, {childList: true});\n",
       "}}\n",
       "\n",
       "                        })                };                });            </script>        </div>"
      ]
     },
     "metadata": {},
     "output_type": "display_data"
    },
    {
     "name": "stdout",
     "output_type": "stream",
     "text": [
      "✓ Same tag: ATGTGGCTGGCCGTTCCTTGTAGAC\n"
     ]
    }
   ],
   "source": [
    "# %% ----------------------------------------------------------------------------\n",
    "# 11c. Round → Barcode → Locus Sankey (final, column‑name safe)\n",
    "# ------------------------------------------------------------------------------\n",
    "import pandas as pd\n",
    "import plotly.graph_objects as go\n",
    "\n",
    "def build_round_barcode_locus_table(codebook):\n",
    "    \"\"\"\n",
    "    Return a DataFrame with columns [round, barcode, locus] by scanning\n",
    "    'barcode_binary'. Works whether the codebook column is called 'dna',\n",
    "    'barcode', or anything else – the first non‑key column is used.\n",
    "    \"\"\"\n",
    "    \n",
    "    # print columns in codebook.columns\n",
    "    print(codebook.head())\n",
    "    # Identify the tag column (exclude obvious metadata)\n",
    "    possible_cols = [c for c in codebook.columns\n",
    "                     if c not in (\"locus\", \"barcode_binary\", \"channel\",)]\n",
    "    if not possible_cols:\n",
    "        raise ValueError(f\"Cannot find barcode column in codebook: {codebook.columns}\")\n",
    "    dna_col = possible_cols[0]      # e.g. 'dna' or 'barcode'\n",
    "\n",
    "    recs = []\n",
    "    for _, row in codebook.iterrows():\n",
    "        tag = row[dna_col]\n",
    "        for i, bit in enumerate(row['barcode_binary']):\n",
    "            if bit == '1':\n",
    "                recs.append({\n",
    "                    \"round\": i + 1,\n",
    "                    \"barcode\": tag,\n",
    "                    \"locus\": row['locus']\n",
    "                })\n",
    "    return pd.DataFrame(recs)\n",
    "\n",
    "# ------------------------------------------------------------------------------\n",
    "# 11c. Barcode → Round → Locus Sankey  (barcodes‑left, rounds‑middle, loci‑right)\n",
    "# ------------------------------------------------------------------------------\n",
    "\n",
    "import plotly.graph_objects as go\n",
    "import pandas as pd\n",
    "\n",
    "def sankey_round_barcode_locus(df, channel_name):\n",
    "    \"\"\"\n",
    "    Draw a Sankey with barcodes on the left, imaging rounds in the centre,\n",
    "    and loci on the right.\n",
    "\n",
    "    Parameters\n",
    "    ----------\n",
    "    df : DataFrame  – columns ['round', 'barcode', 'locus']\n",
    "    channel_name : str  – 'green' or 'red' (controls colours / title)\n",
    "    \"\"\"\n",
    "\n",
    "    # -- node order -----------------------------------------------------------\n",
    "    # rounds  = sorted(df['round'].unique())                    # ← OLD: round first\n",
    "    # barcodes = first_round.sort_values().index.tolist()       # ← OLD\n",
    "    # loci = sorted(df['locus'].unique())                       # ← OLD\n",
    "\n",
    "    barcodes = sorted(df['barcode'].unique())                  # ← NEW: barcodes first\n",
    "    rounds   = sorted(df['round'].unique())                    # ← NEW: rounds second\n",
    "    loci     = sorted(df['locus'].unique())                    # ← NEW: loci third\n",
    "\n",
    "    # -- node label list ------------------------------------------------------\n",
    "    # node_labels = [f\"R{r}\" for r in rounds] + barcodes + loci # ← OLD\n",
    "    node_labels = barcodes + [f\"R{r}\" for r in rounds] + loci  # ← NEW\n",
    "\n",
    "    n_b, n_r = len(barcodes), len(rounds)\n",
    "\n",
    "    # -- index maps -----------------------------------------------------------\n",
    "    # idx_round   = {r: i for i, r in enumerate(rounds)}             # ← OLD\n",
    "    # idx_barcode = {b: i + n_r for i, b in enumerate(barcodes)}     # ← OLD\n",
    "    # idx_locus   = {l: i + n_r + n_b for i, l in enumerate(loci)}   # ← OLD\n",
    "\n",
    "    idx_barcode = {b: i for i, b in enumerate(barcodes)}             # ← NEW\n",
    "    idx_round   = {r: i + n_b for i, r in enumerate(rounds)}         # ← NEW\n",
    "    idx_locus   = {l: i + n_b + n_r for i, l in enumerate(loci)}     # ← NEW\n",
    "\n",
    "    # -- links: Barcode → Round ----------------------------------------------\n",
    "    # rb = df.groupby(['round','barcode']).size().reset_index(name='count')  # ← OLD\n",
    "    # src_rb = rb['round'].map(idx_round)                                    # ← OLD\n",
    "    # tgt_rb = rb['barcode'].map(idx_barcode)                                # ← OLD\n",
    "    # val_rb = rb['count']                                                   # ← OLD\n",
    "\n",
    "    br = df.groupby(['barcode', 'round']).size().reset_index(name='count')   # ← NEW\n",
    "    src_br = br['barcode'].map(idx_barcode)                                  # ← NEW\n",
    "    tgt_br = br['round'].map(idx_round)                                      # ← NEW\n",
    "    val_br = br['count']                                                     # ← NEW\n",
    "\n",
    "    # -- links: Round → Locus -------------------------------------------------\n",
    "    # bl = df.groupby(['barcode','locus']).size().reset_index(name='count')  # ← OLD\n",
    "    # src_bl = bl['barcode'].map(idx_barcode)                                # ← OLD\n",
    "    # tgt_bl = bl['locus'].map(idx_locus)                                    # ← OLD\n",
    "    # val_bl = bl['count']                                                   # ← OLD\n",
    "\n",
    "    rl = df.groupby(['round', 'locus']).size().reset_index(name='count')     # ← NEW\n",
    "    src_rl = rl['round'].map(idx_round)                                      # ← NEW\n",
    "    tgt_rl = rl['locus'].map(idx_locus)                                      # ← NEW\n",
    "    val_rl = rl['count']                                                     # ← NEW\n",
    "\n",
    "    # -- colour palette -------------------------------------------------------\n",
    "    if channel_name.lower() == \"green\":\n",
    "        col_br, col_rl = \"lightgreen\", \"darkseagreen\"\n",
    "    else:\n",
    "        col_br, col_rl = \"lightcoral\", \"indianred\"\n",
    "    link_colors = [col_br]*len(src_br) + [col_rl]*len(src_rl)\n",
    "\n",
    "    # -- figure ---------------------------------------------------------------\n",
    "    fig = go.Figure(go.Sankey(\n",
    "        node=dict(label=node_labels, pad=15, thickness=20),\n",
    "        link=dict(\n",
    "            source=list(src_br) + list(src_rl),\n",
    "            target=list(tgt_br) + list(tgt_rl),\n",
    "            value=list(val_br) + list(val_rl),\n",
    "            color=link_colors\n",
    "        )\n",
    "    ))\n",
    "    fig.update_layout(\n",
    "        title=f\"{channel_name.capitalize()} Channel: Barcode → Round → Locus\",\n",
    "        template=PLOT_THEME,\n",
    "        height=800, width=800\n",
    "    )\n",
    "    fig.show()\n",
    "\n",
    "\n",
    "# ----- Build tables, export, plot -----\n",
    "green_rbl = build_round_barcode_locus_table(green_codebook)\n",
    "red_rbl   = build_round_barcode_locus_table(red_codebook)\n",
    "\n",
    "green_rbl.to_csv(os.path.join(OUTPUT_DIR, \"green_round_barcode_locus.csv\"), index=False)\n",
    "red_rbl.to_csv(  os.path.join(OUTPUT_DIR, \"red_round_barcode_locus.csv\"),   index=False)\n",
    "\n",
    "sankey_round_barcode_locus(green_rbl, \"green\")\n",
    "sankey_round_barcode_locus(red_rbl,   \"red\")\n",
    "\n",
    "# After running everything top‑to‑bottom exactly once:\n",
    "locus_to_test = \"rex-46\"          # pick any locus you like\n",
    "\n",
    "# dna tag shown in #6\n",
    "dna_example = example_probes.loc[\n",
    "    example_probes['locus'] == locus_to_test, 'dna'\n",
    "].iloc[0]\n",
    "\n",
    "# dna tag in the codebook\n",
    "dna_codebook = green_codebook.loc[\n",
    "    green_codebook['locus'] == locus_to_test, 'barcode'\n",
    "].iloc[0]\n",
    "\n",
    "assert dna_example == dna_codebook, \"Mismatch – cells out of sync!\"\n",
    "print(\"✓ Same tag:\", dna_example)\n"
   ]
  },
  {
   "cell_type": "code",
   "execution_count": 114,
   "id": "60d0b4abe17a7e1e",
   "metadata": {
    "ExecuteTime": {
     "end_time": "2025-05-13T19:00:40.888630Z",
     "start_time": "2025-05-13T19:00:40.885522Z"
    },
    "collapsed": false
   },
   "outputs": [
    {
     "ename": "SyntaxError",
     "evalue": "invalid syntax (1125607764.py, line 1)",
     "output_type": "error",
     "traceback": [
      "\u001b[0;36m  File \u001b[0;32m\"/tmp/ipykernel_40094/1125607764.py\"\u001b[0;36m, line \u001b[0;32m1\u001b[0m\n\u001b[0;31m    )# 12. Append Primers & Final CSVs\u001b[0m\n\u001b[0m    ^\u001b[0m\n\u001b[0;31mSyntaxError\u001b[0m\u001b[0;31m:\u001b[0m invalid syntax\n"
     ]
    }
   ],
   "source": [
    "# 12. Append Primers & Final CSVs\n",
    "# ------------------------------------------------------------------------------\n",
    "def add_primers(df):                 # returns a *copy* with amplified_seq col\n",
    "    df = df.copy()\n",
    "    df['amplified_seq'] = FW_PRIMER + df['barcode_appended_seq'] + REV_PRIMER\n",
    "    return df\n",
    "\n",
    "green_final = add_primers(probes_green)\n",
    "red_final   = add_primers(probes_red)\n",
    "fid_final   = add_primers(fiducials_df)\n",
    "\n",
    "_save(green_final, \"green/barcode_appended_probes_green_with_primers.csv\")\n",
    "_save(red_final,   \"red/barcode_appended_probes_red_with_primers.csv\")\n",
    "_save(fid_final,   \"MERFISH_fiducial_barcoded_with_primers.csv\")\n",
    "\n",
    "logger.info(\"Primer‑extended sequences saved – pipeline complete ✅\")"
   ]
  },
  {
   "cell_type": "code",
   "id": "dd3c0c41a79e81c3",
   "metadata": {
    "collapsed": false
   },
   "outputs": [],
   "source": []
  }
 ],
 "metadata": {
  "kernelspec": {
   "display_name": "Python 3 (ipykernel)",
   "language": "python",
   "name": "python3"
  },
  "language_info": {
   "codemirror_mode": {
    "name": "ipython",
    "version": 3
   },
   "file_extension": ".py",
   "mimetype": "text/x-python",
   "name": "python",
   "nbconvert_exporter": "python",
   "pygments_lexer": "ipython3",
   "version": "3.12.7"
  }
 },
 "nbformat": 4,
 "nbformat_minor": 5
}
                                                                                                                                                                                                                                                                                                                                                                                                                                                                                                                                                                                                                                                                                                                                                                                                                                                                                                                                                                                                                                                                                                                                                                                                                                                  