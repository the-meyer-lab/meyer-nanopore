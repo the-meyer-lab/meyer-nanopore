{
 "cells": [
  {
   "cell_type": "code",
   "execution_count": 1,
   "metadata": {
    "ExecuteTime": {
     "end_time": "2024-02-22T23:45:54.317667900Z",
     "start_time": "2024-02-22T23:45:54.225718600Z"
    },
    "collapsed": true
   },
   "outputs": [],
   "source": [
    "import importlib\n",
    "import nanotools\n",
    "importlib.reload(nanotools) # reload nanotools module\n",
    "import wiggle_functions as wf\n",
    "import gzip\n",
    "import sys\n",
    "import pysam\n",
    "import pyBigWig\n",
    "import pandas as pd\n",
    "import numpy as np\n",
    "\n"
   ]
  },
  {
   "cell_type": "code",
   "execution_count": 2,
   "metadata": {
    "ExecuteTime": {
     "end_time": "2024-02-22T23:45:54.821133Z",
     "start_time": "2024-02-22T23:45:54.813125400Z"
    },
    "collapsed": false
   },
   "outputs": [],
   "source": [
    "### Bed file configurations:\n",
    "sample_source = \"type\" # \"chr_type\" or \"type\" or \"chromosome\"\n",
    "chr_type_selected = [\"X\",\"Autosome\"] # 'X' or \"Autosome\"\n",
    "type_selected = [\"her-1_FULL\"]#,\"intergenic_control\"\n",
    "#,\"DPY27_chip_q2\",\"DPY27_chip_q3\",\"DPY27_chip_q4\",\"intergenic_control\"\n",
    "#,\"her-1_TSS\",\"fem-1_TSS\",\"fem-2_TSS\",\"fem-3_TSS\",\"sex-1_TSS\"\n",
    "# her-1_TSS/TES/FULL | TES_q1-4 | #TSS_q1-4 | strong/weak rex | whole_chr | 200kb_region | 50kb_region | center_DPY27_chip_albretton | gene_q1-q4 | MEX_motif | center_SDC2_chip_albretton | center_SDC3_chip_albretton |\n",
    "# ATAC_seq_EXCL_dpy27_ol100 | ATAC_seq;DPY27_ol100\n",
    "max_regions = 10 # max regions to consider; 0 = full set;\n",
    "chromosome_selected = [\"CHROMOSOME_I\", \"CHROMOSOME_II\", \"CHROMOSOME_III\", \"CHROMOSOME_IV\",\"CHROMOSOME_V\",\"CHROMOSOME_X\"] #\"CHROMOSOME_I\", \"CHROMOSOME_II\", \"CHROMOSOME_III\", \"CHROMOSOME_IV\",\"CHROMOSOME_V\",\n",
    "strand_selected = [\"+\",\"-\"] #+ and/or -\n",
    "select_opp_strand = True #If you want to select both + and - strands for all regions set to True\n",
    "down_sample_autosome = True # If you want to downsample autosome genes to match number of X genes set to True\n",
    "if chr_type_selected == [\"X\"]:\n",
    "    down_sample_autosome = False\n",
    "bed_file = \"/Data1/reference/tss_tes_rex_combined_v18_WS235.bed\"\n",
    "bed_window = 1000   # +/- around bed elements.\n",
    "intergenic_window = 1000 # +/- around intergenic regions\n",
    "mods = \"a\" # {A,CG,A+CG}\n",
    "if sample_source == \"chr_type\":\n",
    "    selection = chr_type_selected\n",
    "if sample_source == \"type\":\n",
    "    selection = type_selected\n",
    "if sample_source == \"chromosome\":\n",
    "    selection = chromosome_selected"
   ]
  },
  {
   "cell_type": "code",
   "execution_count": 3,
   "metadata": {
    "ExecuteTime": {
     "end_time": "2024-02-22T23:45:55.423104600Z",
     "start_time": "2024-02-22T23:45:55.403030100Z"
    },
    "collapsed": false
   },
   "outputs": [
    {
     "name": "stdout",
     "output_type": "stream",
     "text": [
      "R9_m6A_thresh:  219\n",
      "m6A_thresh:  232\n",
      "mC_thresh:  232\n"
     ]
    }
   ],
   "source": [
    "### BAM Configurations\n",
    "R9_m6A_thresh_percent = 0.85\n",
    "R10_m6A_thresh_percent = 0.9\n",
    "R10_5mC_thresh_percent = 0.9\n",
    "R9_m6A_thresh = int(round(R9_m6A_thresh_percent*258,0)) #default is 129 = 50%; 181=70%; 194=75%; 207 = 80%; 232 = 90%\n",
    "m6A_thresh = int(round(R10_m6A_thresh_percent*258,0))\n",
    "mC_thresh = int(round(R10_5mC_thresh_percent*258,0))\n",
    "print(\"R9_m6A_thresh: \", R9_m6A_thresh)\n",
    "print(\"m6A_thresh: \", m6A_thresh)\n",
    "print(\"mC_thresh: \", mC_thresh)\n",
    "\n",
    "# modkit is used for aggregating methylation data from .bam files\n",
    "# https://nanoporetech.github.io/modkit/quick_start.html\n",
    "modkit_path = \"/Data1/software/modkit/modkit\"\n",
    "\n",
    "# Options: N2_fiber; SDC2_degron_fiber; SDC2_degron_bg; N2_bg; N2-DPY27_dimelo_pAHia5\n",
    "analysis_cond = [\"N2_old_fiber\"]#,\"51_dpy21null_fiber\",\"52_dpy21jmjc_fiber\"]\n",
    "#analysis_cond = [\"54_sdc2_3xmCNB_mChMCVIPI_GFPHia5\",\"66_sdc2_3xGNB_GFPHia5_mChMCVIPI\",\"50_dpy27-3xGNB_GFP-Hia5_mcvipi\",\"N2-DPY27_dimelo_pAHia5\",\"N2_fiber_mixed_R10\",\"N2_bg_R10\"] #N2_fiber\",\"SDC2_degron_fiber\"]#,\"N2_young\"] ,\"N2_bg\",\"N2_fiber\"\n",
    "# \"66_sdc2_3xGNB_GFPHia5_mChMCVIPI\",\"60_ama1_3xGNB_GFPHia5_mChMCVIPI\", \"50_dpy27-3xGNB_GFP-Hia5_mcvipi\"\n",
    "\n",
    "### IMPORT BAM FILES AND METADATA FROM CSV FILE\n",
    "input_metadata = pd.read_csv(\"/Data1/git/meyer-nanopore/scripts/bam_input_metadata_2_21_2024.txt\", sep=\"\\t\", header=0)\n",
    "# Set bam_files equal to list of items in column bam_files where conditions == N2_fiber\n",
    "bam_files = input_metadata[input_metadata[\"conditions\"].isin(analysis_cond)][\"bam_files\"].tolist()\n",
    "conditions = input_metadata[input_metadata[\"conditions\"].isin(analysis_cond)][\"conditions\"].tolist()\n",
    "exp_ids = input_metadata[input_metadata[\"conditions\"].isin(analysis_cond)][\"exp_id_date\"].tolist()\n",
    "flowcells = input_metadata[input_metadata[\"conditions\"].isin(analysis_cond)][\"flowcell\"].tolist()\n",
    "bam_fracs = len(bam_files)*[1] # For full .bam set to = 1\n",
    "sample_indices = list(range(len(bam_files)))\n",
    "\n",
    "### Import CHIP SEQ / EXTERNAL DATA\n",
    "ext_target = [] # h3_chip, sdc2_chip, sdc3_chip, dhs, gro, mnase, h4k20me1_chip, ama1_chip, \"dpy27_chip\",\"ama1_chip\",\"mnase\",\"gro\"\n",
    "ext_metadata = pd.read_csv(\"/Data1/git/meyer-nanopore/scripts/bw_input_metadata_2_21_2024.txt\", sep=\"\\t\", header=0)\n",
    "ext_exp_ids = ext_metadata[ext_metadata[\"target\"].isin(ext_target)][\"exp_id_date\"].tolist()\n",
    "ext_files = ext_metadata[ext_metadata[\"target\"].isin(ext_target)][\"bw_files\"].tolist()\n",
    "ext_targets = ext_metadata[ext_metadata[\"target\"].isin(ext_target)][\"target\"].tolist()\n",
    "\n",
    "output_stem = \"/Data1/seq_data/wig_files/\"\n",
    "# for dimelo: [181/258,194/258]\n",
    "thresh_list=len(bam_files)*[m6A_thresh/258] # For R10 flow cells use 0.5; for R9 flow cells use 0.9\n",
    "# for position in flowcells == R9 set item with same index in thresh_list to R9_m6A_thresh/258\n",
    "for i in range(len(flowcells)):\n",
    "    if \"R9\" in flowcells[i]:\n",
    "        thresh_list[i] = R9_m6A_thresh/258"
   ]
  },
  {
   "cell_type": "code",
   "execution_count": 4,
   "metadata": {
    "ExecuteTime": {
     "end_time": "2024-02-22T23:45:56.624070400Z",
     "start_time": "2024-02-22T23:45:56.032515600Z"
    },
    "collapsed": false
   },
   "outputs": [
    {
     "name": "stdout",
     "output_type": "stream",
     "text": [
      "Filtering bed file...\n",
      "Configs: type ['her-1_FULL'] ['CHROMOSOME_I', 'CHROMOSOME_II', 'CHROMOSOME_III', 'CHROMOSOME_IV', 'CHROMOSOME_V', 'CHROMOSOME_X'] ['X', 'Autosome'] ['her-1_FULL'] ['+', '-'] 10 1000 1000\n",
      "Chromosome ends:             chromosome  start       end strand       type  chr-type\n",
      "2         CHROMOSOME_I      0  15072434      +  whole_chr  Autosome\n",
      "17796    CHROMOSOME_II      0  15279421      +  whole_chr  Autosome\n",
      "38585   CHROMOSOME_III      0  13783801      +  whole_chr  Autosome\n",
      "55014    CHROMOSOME_IV      0  17493829      +  whole_chr  Autosome\n",
      "74823     CHROMOSOME_V      0  20924180      +  whole_chr  Autosome\n",
      "103825    CHROMOSOME_X      0  17718942      +  whole_chr         X\n",
      "/Data1/reference/her-1_FULL.bed has been compressed successfully to /Data1/reference/her-1_FULL.bed.gz\n",
      "Index created successfully for /Data1/reference/her-1_FULL.bed.gz.tbi\n",
      "Saved the following bedfiles: ['/Data1/reference/her-1_FULL.bed.gz']\n",
      "| modkit_bed_df | first 0 out of total 0 rows.\n"
     ]
    },
    {
     "data": {
      "text/html": [
       "<div>\n",
       "<style scoped>\n",
       "    .dataframe tbody tr th:only-of-type {\n",
       "        vertical-align: middle;\n",
       "    }\n",
       "\n",
       "    .dataframe tbody tr th {\n",
       "        vertical-align: top;\n",
       "    }\n",
       "\n",
       "    .dataframe thead th {\n",
       "        text-align: right;\n",
       "    }\n",
       "</style>\n",
       "<table border=\"1\" class=\"dataframe\">\n",
       "  <thead>\n",
       "    <tr style=\"text-align: right;\">\n",
       "      <th></th>\n",
       "      <th>0</th>\n",
       "      <th>1</th>\n",
       "      <th>2</th>\n",
       "      <th>3</th>\n",
       "      <th>4</th>\n",
       "      <th>5</th>\n",
       "    </tr>\n",
       "  </thead>\n",
       "  <tbody>\n",
       "  </tbody>\n",
       "</table>\n",
       "</div>"
      ],
      "text/plain": [
       "Empty DataFrame\n",
       "Columns: [0, 1, 2, 3, 4, 5]\n",
       "Index: []"
      ]
     },
     "metadata": {},
     "output_type": "display_data"
    },
    {
     "name": "stdout",
     "output_type": "stream",
     "text": [
      "Program finished!\n",
      "new_bam_files:  ['/Data1/seq_data/AG_merged_N2_DPY21null_DPY21jmjc_11_30_24/mod_mappings_AG1_merged.sorted.bam']\n",
      "exp_ids:  ['AG-22_11_30_23']\n"
     ]
    }
   ],
   "source": [
    "# Filter input bed_file based on input parameters (e.g. chromosome, type, strand, etc.)\n",
    "# Function saves a new filtered bed file to the same folder as the original bed file\n",
    "# called temp_do_not_use_\"type\".bed\n",
    "importlib.reload(nanotools)\n",
    "new_bed_files=nanotools.filter_bed_file(\n",
    "    bed_file,\n",
    "    sample_source,\n",
    "    selection,\n",
    "    chromosome_selected,\n",
    "    chr_type_selected,\n",
    "    type_selected,\n",
    "    strand_selected,\n",
    "    max_regions,\n",
    "    bed_window,\n",
    "    intergenic_window\n",
    ")\n",
    "\n",
    "modkit_bed_name = \"modkit_temp.bed\"\n",
    "modkit_bed_df = nanotools.generate_modkit_bed(new_bed_files, down_sample_autosome, select_opp_strand,modkit_bed_name)\n",
    "nanotools.display_sample_rows(modkit_bed_df, 5)\n",
    "\n",
    "# Subsample bam based on bam_frac, used to accelerate testing\n",
    "# if bam_frac = 1 will use original bam files, otherwise will save new subsampled bam files to output_stem.\n",
    "args_list = [(bam_file, condition, bam_frac, sample_index, output_stem) for bam_file, condition, bam_frac, sample_index in zip(bam_files,conditions,bam_fracs,sample_indices)]\n",
    "new_bam_files=[]\n",
    "new_bam_files = nanotools.parallel_subsample_bam(bam_files, conditions, bam_fracs, sample_indices, output_stem)\n",
    "\n",
    "print(\"Program finished!\")\n",
    "print(\"new_bam_files: \", new_bam_files)\n",
    "print(\"exp_ids: \", exp_ids)\n",
    "\n",
    "# for each file in new_bed_files, convert to tabix\n",
    "for bed_file in new_bed_files:\n",
    "    ! tabix -f -p bed {bed_file}"
   ]
  },
  {
   "cell_type": "code",
   "execution_count": 5,
   "metadata": {
    "ExecuteTime": {
     "end_time": "2024-02-22T23:48:34.030114600Z",
     "start_time": "2024-02-22T23:45:58.059341700Z"
    },
    "collapsed": false
   },
   "outputs": [
    {
     "name": "stdout",
     "output_type": "stream",
     "text": [
      "Loading BAM file: /Data1/seq_data/AG_merged_N2_DPY21null_DPY21jmjc_11_30_24/mod_mappings_AG1_merged.sorted.bam\n",
      "BAM file /Data1/seq_data/AG_merged_N2_DPY21null_DPY21jmjc_11_30_24/mod_mappings_AG1_merged.sorted.bam has 2543536 reads\n",
      "wig_filename:  None\n",
      "head: cannot open 'None' for reading: No such file or directory\r\n"
     ]
    }
   ],
   "source": [
    "for each_bed in new_bed_files:\n",
    "    for each_bam in new_bam_files:\n",
    "        wig_filename = wf.modbam_to_wig(each_bam,each_bed,m6A_thresh,output_stem)\n",
    "        print(\"wig_filename: \", wig_filename)\n",
    "        # display header of wig file\n",
    "        ! head -n 10 {wig_filename}"
   ]
  },
  {
   "cell_type": "code",
   "execution_count": null,
   "metadata": {
    "collapsed": false
   },
   "outputs": [],
   "source": []
  }
 ],
 "metadata": {
  "kernelspec": {
   "display_name": "Python 3",
   "language": "python",
   "name": "python3"
  },
  "language_info": {
   "codemirror_mode": {
    "name": "ipython",
    "version": 2
   },
   "file_extension": ".py",
   "mimetype": "text/x-python",
   "name": "python",
   "nbconvert_exporter": "python",
   "pygments_lexer": "ipython2",
   "version": "2.7.6"
  }
 },
 "nbformat": 4,
 "nbformat_minor": 0
}
