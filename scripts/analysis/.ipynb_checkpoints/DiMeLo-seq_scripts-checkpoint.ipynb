{
 "cells": [
  {
   "cell_type": "code",
   "execution_count": 1,
   "id": "e3dbe9c7",
   "metadata": {},
   "outputs": [],
   "source": [
    "import dimelo as dm\n",
    "import pandas as pandas\n",
    "import numpy as np"
   ]
  },
  {
   "cell_type": "code",
   "execution_count": 2,
   "id": "b25d9793",
   "metadata": {},
   "outputs": [
    {
     "name": "stdout",
     "output_type": "stream",
     "text": [
      "BAM: /Data1/seq_data/TubeD1a_N2_Fiberseq_Hia5_MSssI_12_22_22/basecalls/m6A/mod_mappings.sorted.bam\n",
      "BED:  ['/Data1/reference/temp_do_not_use_CHROMOSOME_I.bed', '/Data1/reference/temp_do_not_use_CHROMOSOME_II.bed', '/Data1/reference/temp_do_not_use_CHROMOSOME_III.bed', '/Data1/reference/temp_do_not_use_CHROMOSOME_IV.bed', '/Data1/reference/temp_do_not_use_CHROMOSOME_V.bed', '/Data1/reference/temp_do_not_use_CHROMOSOME_X.bed']\n"
     ]
    },
    {
     "name": "stderr",
     "output_type": "stream",
     "text": [
      "/home/ubuntu/.local/lib/python3.7/site-packages/pandas/core/frame.py:4913: SettingWithCopyWarning: \n",
      "A value is trying to be set on a copy of a slice from a DataFrame\n",
      "\n",
      "See the caveats in the documentation: https://pandas.pydata.org/pandas-docs/stable/user_guide/indexing.html#returning-a-view-versus-a-copy\n",
      "  errors=errors,\n",
      "/home/ubuntu/anaconda3/envs/dimelo/lib/python3.7/site-packages/ipykernel/__main__.py:66: SettingWithCopyWarning: \n",
      "A value is trying to be set on a copy of a slice from a DataFrame.\n",
      "Try using .loc[row_indexer,col_indexer] = value instead\n",
      "\n",
      "See the caveats in the documentation: https://pandas.pydata.org/pandas-docs/stable/user_guide/indexing.html#returning-a-view-versus-a-copy\n",
      "/home/ubuntu/anaconda3/envs/dimelo/lib/python3.7/site-packages/ipykernel/__main__.py:67: SettingWithCopyWarning: \n",
      "A value is trying to be set on a copy of a slice from a DataFrame.\n",
      "Try using .loc[row_indexer,col_indexer] = value instead\n",
      "\n",
      "See the caveats in the documentation: https://pandas.pydata.org/pandas-docs/stable/user_guide/indexing.html#returning-a-view-versus-a-copy\n"
     ]
    }
   ],
   "source": [
    "sample_source = \"chromosome\" # \"chr_type\" or \"type\" or \"chromosome\"\n",
    "sampleName = [\"CHROMOSOME_I\", \"CHROMOSOME_II\", \"CHROMOSOME_III\", \"CHROMOSOME_IV\", \"CHROMOSOME_V\",\"CHROMOSOME_X\"] # \"TES_q1\" \"strong_rex\" \"weak_rex\" \"type\", \"X\", \"Autosome\"; Must be same number of unique values in selected bed rows.\n",
    "chr_type_selected = [\"X\",\"Autosome\"] # 'X' or \"Autosome\"\n",
    "type_selected = [\"whole_chr\"] #TES_q1-4 | #TSS_q1-4 | strong/weak rex | whole_chr\n",
    "max_regions = 0 # max regions to consider.0 = full set;\n",
    "chromosome_selected = [\"CHROMOSOME_I\", \"CHROMOSOME_II\", \"CHROMOSOME_III\", \"CHROMOSOME_IV\", \"CHROMOSOME_V\",\"CHROMOSOME_X\"]\n",
    "strand_selected = [\"+\",\"-\"] #+ and/or -\n",
    "bed = \"/Data1/reference/tss_tes_rex_combined.bed\"\n",
    "full_bed = pandas.read_csv(bed,sep='\\t')\n",
    "mods = \"A\" # {A,CG,A+CG}\n",
    "### Tube 4\n",
    "#bam1 = \"/Data1/seq_data/Tube4_b2_2uM-Hia5_fiber-seq_11_21_22/basecalls/mod_mappings.sorted.m6Aonly.bam\"\n",
    "#outDir = \"/Data1/seq_data/Tube4_b2_2uM-Hia5_fiber-seq_1121_22/viz/whole_chr\"\n",
    "### Tube D\n",
    "bam1 = \"/Data1/seq_data/TubeD1a_N2_Fiberseq_Hia5_MSssI_12_22_22/basecalls/m6A/mod_mappings.sorted.bam\"\n",
    "outDir = \"/Data1/seq_data/TubeD1a_N2_Fiberseq_Hia5_MSssI_12_22_22/viz/whole_chr\"\n",
    "### Tube H\n",
    "#bam1 = \"/Data1/seq_data/TubeH1_021_SDC2-AIDpAux_Hia5_MSssI_12_19/basecalls/m6A/mod_mappings.sorted.bam\"\n",
    "#outDir = \"/Data1/seq_data/TubeH1_021_SDC2-AIDpAux_Hia5_MSssI_12_19/viz/whole_chr\"\n",
    "\n",
    "\n",
    "m6A_thresh = 129 #default is 129\n",
    "mC_thresh = 129 #default is 129\n",
    "window = 1000 # size of window to use\n",
    "coreNum = 96 # cores to use\n",
    "\n",
    "bed=[]\n",
    "\n",
    "if sample_source == \"chr_type\":\n",
    "  selection = chr_type_selected\n",
    "if sample_source == \"type\":\n",
    "  selection = type_selected\n",
    "if sample_source == \"chromosome\":\n",
    "  selection = chromosome_selected\n",
    "\n",
    "for each_type in selection:\n",
    "  # REGION CONFIGURATION\n",
    "  if sample_source == \"type\":\n",
    "    temp_bed = full_bed[full_bed[\"chromosome\"].isin(chromosome_selected) &\n",
    "                          full_bed[\"chr-type\"].isin(chr_type_selected) &\n",
    "                          full_bed[\"type\"].str.contains(each_type) &\n",
    "                          full_bed[\"strand\"].isin(strand_selected)]\n",
    "  if sample_source == \"chr_type\":\n",
    "    temp_bed = full_bed[full_bed[\"chromosome\"].isin(chromosome_selected) &\n",
    "                          full_bed[\"chr-type\"].str.contains(each_type) &\n",
    "                          full_bed[\"type\"].isin(type_selected) &\n",
    "                          full_bed[\"strand\"].isin(strand_selected)]\n",
    "  if sample_source == \"chromosome\":\n",
    "    temp_bed = full_bed[full_bed[\"chromosome\"].str.contains(each_type) &\n",
    "                          full_bed[\"chr-type\"].isin(chr_type_selected) &\n",
    "                          full_bed[\"type\"].isin(type_selected) &\n",
    "                          full_bed[\"strand\"].isin(strand_selected)]\n",
    "\n",
    "  # Drop random regions to match max_regions\n",
    "  drop_count = len(temp_bed)-max_regions\n",
    "  # If max regions > selected regions, do not drop any.\n",
    "  if(drop_count<0):\n",
    "    drop_count=0\n",
    "  # If max_regions = 0, do not drop any.\n",
    "  if (max_regions == 0):\n",
    "    drop_count = 0\n",
    "\n",
    "  drop_indices = np.random.choice(temp_bed.index, drop_count, replace=False)\n",
    "  temp_bed.drop(drop_indices,inplace=True)\n",
    "  temp_bed.reset_index(drop=True, inplace=True)\n",
    "  temp_bed[\"start\"]=temp_bed[\"start\"]\n",
    "  temp_bed[\"end\"]=temp_bed[\"end\"]\n",
    "  #print(temp_bed)\n",
    "  temp_bedfile = \"/Data1/reference/temp_do_not_use_\"+each_type+\".bed\"\n",
    "  temp_bed.to_csv(temp_bedfile, sep=\"\\t\",header=False,index=False)\n",
    "\n",
    "  # For first iteration\n",
    "  if bed == []:\n",
    "    bed = [temp_bedfile]\n",
    "\n",
    "  # Otherwise append region to temporary bed file.\n",
    "  else:\n",
    "    bed.append(temp_bedfile)\n",
    "\n",
    "print(\"BAM:\",bam1)\n",
    "print(\"BED: \",bed)"
   ]
  },
  {
   "cell_type": "code",
   "execution_count": null,
   "id": "39f2bd26",
   "metadata": {},
   "outputs": [],
   "source": [
    "for eachBed, eachSample in zip(bed,sampleName):\n",
    "  dm.parse_bam(bam1,eachSample,outDir,eachBed,mods,center=True,windowSize=window,threshA=m6A_thresh,cores=coreNum)"
   ]
  },
  {
   "cell_type": "code",
   "execution_count": 7,
   "id": "c73ec1fb",
   "metadata": {},
   "outputs": [
    {
     "name": "stdout",
     "output_type": "stream",
     "text": [
      "Outputs\n",
      "_______\n",
      "DB file: /Data1/seq_data/Tube4_b2_2uM-Hia5_fiber-seq_1121_22/viz//mod_mappings.sorted.m6Aonly.db\n",
      "processing 6 reads for N2_Mixed_Stage_2uM_Hia5 for bam: /Data1/seq_data/Tube4_b2_2uM-Hia5_fiber-seq_11_21_22/basecalls/mod_mappings.sorted.m6Aonly.bam\n",
      "Outputs\n",
      "_______\n",
      "DB file: ['/Data1/seq_data/Tube4_b2_2uM-Hia5_fiber-seq_1121_22/viz//mod_mappings.sorted.m6Aonly.db']\n",
      "browser plot: /Data1/seq_data/Tube4_b2_2uM-Hia5_fiber-seq_1121_22/viz//methylation_browser_CHROMOSOME_X_2996981_2997373.html\n",
      "rolling average fraction bases methylated plot: ['/Data1/seq_data/Tube4_b2_2uM-Hia5_fiber-seq_1121_22/viz//N2_Mixed_Stage_2uM_Hia5_A_sm_rolling_avg_fraction.pdf']\n",
      "rolling average total bases plot: ['/Data1/seq_data/Tube4_b2_2uM-Hia5_fiber-seq_1121_22/viz//N2_Mixed_Stage_2uM_Hia5_A_sm_rolling_avg_total.pdf']\n"
     ]
    },
    {
     "data": {
      "image/png": "[encoded data removed]",
      "text/plain": [
       "<Figure size 432x288 with 1 Axes>"
      ]
     },
     "metadata": {
      "needs_background": "light"
     },
     "output_type": "display_data"
    },
    {
     "data": {
      "image/png": "[encoded data removed]",
      "text/plain": [
       "<Figure size 432x288 with 1 Axes>"
      ]
     },
     "metadata": {
      "needs_background": "light"
     },
     "output_type": "display_data"
    }
   ],
   "source": [
    "### Commans to generate plot browser from Dimelo\n",
    "#bam = \"/Data1/seq_data/N2_Yeast_Raja_06-14-21/megalodon/barcode01_m6A/mod_mappings.01.sorted.m6Aonly.bam\"\n",
    "sampleName = [\"N2_Mixed_Stage_2uM_Hia5\"]#,\"TSS_Q2\",\"TSS_Q3\",\"TSS_Q4\"]\n",
    "#bed = \"/Data1/reference/Kreusi_allTSS_WS235_EMBRYO.bed\"\n",
    "#bed = [\"/Data2/reference/dimelo_tss_q1.bed\"]#,\"/Data1/reference/dimelo_tss_q2.bed\",\"/Data1/reference/dimelo_tss_q3.bed\",\"/Data1/reference/dimelo_tss_q4.bed\"]\n",
    "mods = \"A\"\n",
    "#outDir = \"/Data1/seq_data/N2_Yeast_Raja_06-14-21/megalodon/barcode01_m6A/viz\"\n",
    "\n",
    "#bam1 = [\"/Data1/seq_data/TubeD1a_N2_Fiberseq_Hia5_MSssI_12_22_22/basecalls/m6A/mod_mappings.sorted.bam\"]\n",
    "#outDir = \"/Data1/seq_data/TubeD1a_N2_Fiberseq_Hia5_MSssI_12_22_22/viz\"\n",
    "#bam1 = [\"/Data1/seq_data/TubeH1_021_SDC2-AIDpAux_Hia5_MSssI_12_19/basecalls/m6A/mod_mappings.sorted.bam\"]\n",
    "#outDir = \"/Data1/seq_data/TubeH1_021_SDC2-AIDpAux_Hia5_MSssI_12_19/viz\"\n",
    "bam1 = \"/Data1/seq_data/Tube4_b2_2uM-Hia5_fiber-seq_11_21_22/basecalls/mod_mappings.sorted.m6Aonly.bam\"\n",
    "outDir = \"/Data1/seq_data/Tube4_b2_2uM-Hia5_fiber-seq_1121_22/viz/\"\n",
    "\n",
    "#sampleName = 'AMA1_31D_0p1fix_TSS'\n",
    "#bed = \"/Data1/reference/Kreusi_allTSS_WS235_EMBRYO.bed\"\n",
    "#mods = \"A\"\n",
    "### Plot Browser\n",
    "dm.plot_browser(\n",
    "   bam1,\n",
    "   sampleName,\n",
    "   \"CHROMOSOME_X:2996981-2997373\",\n",
    "   mods,\n",
    "   outDir,\n",
    ")\n",
    "\n",
    "#Athresh = 204\n",
    "#dm.plot_enrichment_profile(\n",
    "#    \"/Data2/seq_data/210614_Raja/megalodon/barcode01_m6A/mod_mappings.01.sorted.m6Aonly.bam\",\n",
    "#    'N2MixedStageEmbryos_tss_10k', \"/Data2/reference/ce11-all-tss-10kb.bed\", \"A\",\n",
    "#    \"/Data2/viz/barcode01_m6A/\", windowSize=10000, dotsize=0.5, smooth=50, min_periods=20, cores=64)\n",
    "#dm.parse_bam(\n",
    "#    \"/Data1/seq_data/AMA1-31D-10-08-22/basecalls/mod_mappings.sorted.m6Aonly.bam\",\n",
    "#    'AMA-1-Tube31D', '/Data1/seq_data/AMA1-31D-10-08-22/basecalls/', bedFile= \"/Data1/reference/ce11-genebodies-2.bed\", basemod=\"A\",\n",
    "#    center=True, extractAllBases=True, windowSize=1000\n",
    "#)\n",
    "\n",
    "#dm.plot_browser(bam, sampleName, \"CHROMOSOME_X:10000000-10500000\", mods, outDir, threshA=153, static=False, smooth=100, min_periods=10)\n",
    "\n",
    "#dm.plot_enrichment_profile(bam, sampleName, bed, mods, outDir, windowSize=2000, dotsize=0.05)\n",
    "#dm.plot_enrichment_profile(bam, sampleName, bed, mods, outDir, windowSize=2000, dotsize=0.05, cores=96)\n",
    "\n",
    "#sampleName = [\"TES_Q1\"]#,\"TES_Q2\",\"TES_Q3\",\"TES_Q4\"]\n",
    "#bed = \"/Data1/reference/Kreusi_allTSS_WS235_EMBRYO.bed\"\n",
    "#bed = [\"/Data2/reference/dimelo_tes_q1.bed\",\"/Data2/reference/dimelo_tes_q2.bed\",\"/Data2/reference/dimelo_tes_q3.bed\",\"/Data2/reference/dimelo_tes_q4.bed\"]\n",
    "#dm.plot_enrichment_profile(bam, sampleName, bed, mods, outDir, windowSize=2000, dotsize=0.05,cores=96)\n",
    "\n",
    "#dm.plot_enrichment(\"/Data1/seq_data/AMA1-31D-10-08-22/basecalls/mod_mappings.sorted.m6Aonly.bam\", \"AMA1_Tube31D_0p1fix\", \"/Data1/reference/ce11-TSS.bed\", \"A\", \"/Data1/seq_data/AMA1-31D-10-08-22/viz\")\n",
    "# BE CAREFUL NO HYPHENS ALLOWED IN SAMPLE NAME!!!!!!!!!!\n",
    "\n",
    "#dm.qc_report(\"/Data1/seq_data/AMA1-31D-10-08-22/basecalls/mod_mappings.sorted.m6Aonly.bam\", 'AMA1-Tube31D-0p1fix', \"/Data1/seq_data/AMA1-31D-10-08-22/viz/\", cores=4)\n",
    "#dm.plot_enrichment(\"/Data1/seq_data/AMA1-31D-10-08-22/basecalls/mod_mappings.sorted.m6Aonly.bam\", [\"chrI\",\"chrII\",\"chrIII\",\"chrIV\",\"chrV\",\"chrX\"], \"/Data1/reference/ce11-chrm-regions.bed\", \"A\", \"/Data1/seq_data/AMA1-31D-10-08-22/viz\")\n",
    "#dm.plot_enrichment(\"/Data1/seq_data/N2_Yeast_Raja_06-14-21/megalodon/barcode01_m6A/mod_mappings.01.sorted.m6Aonly.bam\", \"chrX\", \"/Data1/reference/ce11-10kb_test.bed\", \"A\", \"/Data1/viz/barcode01_m6A/\", cores=8)\n",
    "#dm.plot_enrichment(\"/Data1/seq_data/AMA1-31D-10-08-22/basecalls/mod_mappings.sorted.m6Aonly.bam\", \"chrX\", \"/Data1/reference/ce11-10kb_test.bed\", \"A\", \"/Data1/seq_data/AMA1-31D-10-08-22/viz\", cores=8)"
   ]
  }
 ],
 "metadata": {
  "kernelspec": {
   "display_name": "Environment (conda_dimelo)",
   "language": "python",
   "name": "conda_dimelo"
  },
  "language_info": {
   "codemirror_mode": {
    "name": "ipython",
    "version": 3
   },
   "file_extension": ".py",
   "mimetype": "text/x-python",
   "name": "python",
   "nbconvert_exporter": "python",
   "pygments_lexer": "ipython3",
   "version": "3.7.11"
  }
 },
 "nbformat": 4,
 "nbformat_minor": 5
}
